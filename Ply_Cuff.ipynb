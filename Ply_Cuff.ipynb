{
 "cells": [
  {
   "cell_type": "code",
   "execution_count": 1,
   "id": "3e93a77e",
   "metadata": {},
   "outputs": [],
   "source": [
    "import pandas as pd\n",
    "%matplotlib inline"
   ]
  },
  {
   "cell_type": "code",
   "execution_count": 2,
   "id": "2e9c1254",
   "metadata": {},
   "outputs": [],
   "source": [
    "import numpy as np"
   ]
  },
  {
   "cell_type": "code",
   "execution_count": 3,
   "id": "0ce2b78d",
   "metadata": {},
   "outputs": [],
   "source": [
    "import chart_studio.plotly as py"
   ]
  },
  {
   "cell_type": "code",
   "execution_count": 4,
   "id": "5002385f",
   "metadata": {},
   "outputs": [],
   "source": [
    "from plotly import __version__"
   ]
  },
  {
   "cell_type": "code",
   "execution_count": 5,
   "id": "fd2d9aaf",
   "metadata": {},
   "outputs": [
    {
     "name": "stdout",
     "output_type": "stream",
     "text": [
      "5.3.1\n"
     ]
    }
   ],
   "source": [
    "print(__version__)"
   ]
  },
  {
   "cell_type": "code",
   "execution_count": 6,
   "id": "604926d9",
   "metadata": {},
   "outputs": [],
   "source": [
    "import cufflinks as cf"
   ]
  },
  {
   "cell_type": "code",
   "execution_count": 7,
   "id": "13dafad5",
   "metadata": {},
   "outputs": [],
   "source": [
    "from plotly.offline import download_plotlyjs,init_notebook_mode,plot,iplot"
   ]
  },
  {
   "cell_type": "code",
   "execution_count": 8,
   "id": "8a3fb235",
   "metadata": {},
   "outputs": [
    {
     "data": {
      "text/html": [
       "        <script type=\"text/javascript\">\n",
       "        window.PlotlyConfig = {MathJaxConfig: 'local'};\n",
       "        if (window.MathJax) {MathJax.Hub.Config({SVG: {font: \"STIX-Web\"}});}\n",
       "        if (typeof require !== 'undefined') {\n",
       "        require.undef(\"plotly\");\n",
       "        requirejs.config({\n",
       "            paths: {\n",
       "                'plotly': ['https://cdn.plot.ly/plotly-2.4.2.min']\n",
       "            }\n",
       "        });\n",
       "        require(['plotly'], function(Plotly) {\n",
       "            window._Plotly = Plotly;\n",
       "        });\n",
       "        }\n",
       "        </script>\n",
       "        "
      ]
     },
     "metadata": {},
     "output_type": "display_data"
    }
   ],
   "source": [
    "init_notebook_mode(connected=True) #this connects js to notebook"
   ]
  },
  {
   "cell_type": "code",
   "execution_count": 9,
   "id": "b52d0b11",
   "metadata": {},
   "outputs": [
    {
     "data": {
      "text/html": [
       "        <script type=\"text/javascript\">\n",
       "        window.PlotlyConfig = {MathJaxConfig: 'local'};\n",
       "        if (window.MathJax) {MathJax.Hub.Config({SVG: {font: \"STIX-Web\"}});}\n",
       "        if (typeof require !== 'undefined') {\n",
       "        require.undef(\"plotly\");\n",
       "        requirejs.config({\n",
       "            paths: {\n",
       "                'plotly': ['https://cdn.plot.ly/plotly-2.4.2.min']\n",
       "            }\n",
       "        });\n",
       "        require(['plotly'], function(Plotly) {\n",
       "            window._Plotly = Plotly;\n",
       "        });\n",
       "        }\n",
       "        </script>\n",
       "        "
      ]
     },
     "metadata": {},
     "output_type": "display_data"
    }
   ],
   "source": [
    "#plotly essentially connects pandas and python to the interactive js library\n",
    "cf.go_offline() #this allows to use cufflinks offline"
   ]
  },
  {
   "cell_type": "code",
   "execution_count": 10,
   "id": "af6d40e1",
   "metadata": {},
   "outputs": [],
   "source": [
    "#Data\n",
    "df1=pd.DataFrame(np.random.randn(100,4),columns='A B C D'.split())"
   ]
  },
  {
   "cell_type": "code",
   "execution_count": 11,
   "id": "5d0221f4",
   "metadata": {},
   "outputs": [
    {
     "data": {
      "text/html": [
       "<div>\n",
       "<style scoped>\n",
       "    .dataframe tbody tr th:only-of-type {\n",
       "        vertical-align: middle;\n",
       "    }\n",
       "\n",
       "    .dataframe tbody tr th {\n",
       "        vertical-align: top;\n",
       "    }\n",
       "\n",
       "    .dataframe thead th {\n",
       "        text-align: right;\n",
       "    }\n",
       "</style>\n",
       "<table border=\"1\" class=\"dataframe\">\n",
       "  <thead>\n",
       "    <tr style=\"text-align: right;\">\n",
       "      <th></th>\n",
       "      <th>A</th>\n",
       "      <th>B</th>\n",
       "      <th>C</th>\n",
       "      <th>D</th>\n",
       "    </tr>\n",
       "  </thead>\n",
       "  <tbody>\n",
       "    <tr>\n",
       "      <th>0</th>\n",
       "      <td>2.589042</td>\n",
       "      <td>0.362895</td>\n",
       "      <td>-1.262246</td>\n",
       "      <td>0.586241</td>\n",
       "    </tr>\n",
       "    <tr>\n",
       "      <th>1</th>\n",
       "      <td>0.464465</td>\n",
       "      <td>-0.337045</td>\n",
       "      <td>1.563858</td>\n",
       "      <td>-0.220898</td>\n",
       "    </tr>\n",
       "    <tr>\n",
       "      <th>2</th>\n",
       "      <td>-1.862234</td>\n",
       "      <td>1.323129</td>\n",
       "      <td>1.653346</td>\n",
       "      <td>-0.329780</td>\n",
       "    </tr>\n",
       "    <tr>\n",
       "      <th>3</th>\n",
       "      <td>0.447483</td>\n",
       "      <td>1.461985</td>\n",
       "      <td>-0.585727</td>\n",
       "      <td>-0.540534</td>\n",
       "    </tr>\n",
       "    <tr>\n",
       "      <th>4</th>\n",
       "      <td>0.518357</td>\n",
       "      <td>2.117159</td>\n",
       "      <td>-0.971800</td>\n",
       "      <td>-0.048773</td>\n",
       "    </tr>\n",
       "  </tbody>\n",
       "</table>\n",
       "</div>"
      ],
      "text/plain": [
       "          A         B         C         D\n",
       "0  2.589042  0.362895 -1.262246  0.586241\n",
       "1  0.464465 -0.337045  1.563858 -0.220898\n",
       "2 -1.862234  1.323129  1.653346 -0.329780\n",
       "3  0.447483  1.461985 -0.585727 -0.540534\n",
       "4  0.518357  2.117159 -0.971800 -0.048773"
      ]
     },
     "execution_count": 11,
     "metadata": {},
     "output_type": "execute_result"
    }
   ],
   "source": [
    "df1.head()"
   ]
  },
  {
   "cell_type": "code",
   "execution_count": 12,
   "id": "7336c9c1",
   "metadata": {},
   "outputs": [],
   "source": [
    "df2=pd.DataFrame({'Category':['A','B','C'],'Values':[32,43,50]})"
   ]
  },
  {
   "cell_type": "code",
   "execution_count": 13,
   "id": "ccf002b1",
   "metadata": {},
   "outputs": [
    {
     "data": {
      "text/html": [
       "<div>\n",
       "<style scoped>\n",
       "    .dataframe tbody tr th:only-of-type {\n",
       "        vertical-align: middle;\n",
       "    }\n",
       "\n",
       "    .dataframe tbody tr th {\n",
       "        vertical-align: top;\n",
       "    }\n",
       "\n",
       "    .dataframe thead th {\n",
       "        text-align: right;\n",
       "    }\n",
       "</style>\n",
       "<table border=\"1\" class=\"dataframe\">\n",
       "  <thead>\n",
       "    <tr style=\"text-align: right;\">\n",
       "      <th></th>\n",
       "      <th>Category</th>\n",
       "      <th>Values</th>\n",
       "    </tr>\n",
       "  </thead>\n",
       "  <tbody>\n",
       "    <tr>\n",
       "      <th>0</th>\n",
       "      <td>A</td>\n",
       "      <td>32</td>\n",
       "    </tr>\n",
       "    <tr>\n",
       "      <th>1</th>\n",
       "      <td>B</td>\n",
       "      <td>43</td>\n",
       "    </tr>\n",
       "    <tr>\n",
       "      <th>2</th>\n",
       "      <td>C</td>\n",
       "      <td>50</td>\n",
       "    </tr>\n",
       "  </tbody>\n",
       "</table>\n",
       "</div>"
      ],
      "text/plain": [
       "  Category  Values\n",
       "0        A      32\n",
       "1        B      43\n",
       "2        C      50"
      ]
     },
     "execution_count": 13,
     "metadata": {},
     "output_type": "execute_result"
    }
   ],
   "source": [
    "df2"
   ]
  },
  {
   "cell_type": "code",
   "execution_count": 14,
   "id": "eb2f6608",
   "metadata": {},
   "outputs": [
    {
     "data": {
      "text/plain": [
       "<AxesSubplot:>"
      ]
     },
     "execution_count": 14,
     "metadata": {},
     "output_type": "execute_result"
    },
    {
     "data": {
      "image/png": "[encoded data removed]",
      "text/plain": [
       "<Figure size 432x288 with 1 Axes>"
      ]
     },
     "metadata": {
      "needs_background": "light"
     },
     "output_type": "display_data"
    }
   ],
   "source": [
    "df1.plot()"
   ]
  },
  {
   "cell_type": "code",
   "execution_count": 15,
   "id": "18a63ac7",
   "metadata": {},
   "outputs": [
    {
     "data": {
      "application/vnd.plotly.v1+json": {
       "config": {
        "linkText": "Export to plot.ly",
        "plotlyServerURL": "https://plot.ly",
        "showLink": true
       },
       "data": [
        {
         "line": {
          "color": "rgba(255, 153, 51, 1.0)",
          "dash": "solid",
          "shape": "linear",
          "width": 1.3
         },
         "mode": "lines",
         "name": "A",
         "text": "",
         "type": "scatter",
         "x": [
          0,
          1,
          2,
          3,
          4,
          5,
          6,
          7,
          8,
          9,
          10,
          11,
          12,
          13,
          14,
          15,
          16,
          17,
          18,
          19,
          20,
          21,
          22,
          23,
          24,
          25,
          26,
          27,
          28,
          29,
          30,
          31,
          32,
          33,
          34,
          35,
          36,
          37,
          38,
          39,
          40,
          41,
          42,
          43,
          44,
          45,
          46,
          47,
          48,
          49,
          50,
          51,
          52,
          53,
          54,
          55,
          56,
          57,
          58,
          59,
          60,
          61,
          62,
          63,
          64,
          65,
          66,
          67,
          68,
          69,
          70,
          71,
          72,
          73,
          74,
          75,
          76,
          77,
          78,
          79,
          80,
          81,
          82,
          83,
          84,
          85,
          86,
          87,
          88,
          89,
          90,
          91,
          92,
          93,
          94,
          95,
          96,
          97,
          98,
          99
         ],
         "y": [
          2.589041960375388,
          0.46446495832878104,
          -1.8622342467167692,
          0.44748282470611106,
          0.5183570648847058,
          0.12564036024206882,
          -0.24671833426783726,
          1.462267278267704,
          0.6501389382278583,
          -0.6672168110888695,
          1.0747847894423825,
          -0.8495646586597335,
          0.8803409704941809,
          0.8276737448827238,
          -1.9844611168258537,
          -0.5824346509596668,
          0.31244403542215765,
          -1.9058846467784096,
          1.534946502058969,
          0.03365006500295044,
          -0.29023183110114703,
          0.3634249740106572,
          -0.2711593909409654,
          -0.9132127122770319,
          -1.5297006715639065,
          1.8365899649961515,
          0.997620536569792,
          -0.2682830090953816,
          -0.9920391126364365,
          -1.1288479078430984,
          -0.008960344604379092,
          0.08630969741946837,
          0.46474673901283703,
          1.080017337225342,
          1.4661189565799466,
          1.7757481260571573,
          0.3205119277722951,
          -0.1798124223086815,
          -0.4958536804162443,
          -1.0824042969488221,
          0.6888694888308021,
          -0.5554454322639867,
          1.1331849620973518,
          0.707328075472143,
          1.5136541614709633,
          -0.15648423529358677,
          -0.1433778469159636,
          -0.40468586905849585,
          -1.1744432881168483,
          -1.1803866454136969,
          0.08701772484394507,
          0.5103821267093613,
          -0.7433404424157205,
          -1.3161156299617915,
          0.723862166500837,
          0.0026211503152519856,
          0.6319910333015367,
          -0.7800163727009063,
          0.35886810605281194,
          -0.8301763834854368,
          -0.8524457756811449,
          0.9092763928827187,
          1.386293842292832,
          0.6190688873352528,
          -0.7452238959623145,
          -0.10530966041008744,
          0.6046632526320624,
          0.5577696731869712,
          -0.2920090900408622,
          0.24765258184426459,
          0.24614719012597427,
          -0.5867004475301311,
          -0.6851305364461912,
          -0.3361131907069222,
          0.6096750683088648,
          0.40561099150908214,
          -1.0722447247968594,
          -0.8429016314669159,
          -1.1413614153611717,
          0.003590536584902493,
          0.34212167559255774,
          0.6196242646627494,
          1.3374433126596188,
          0.783739897292725,
          -0.21978813559000052,
          1.310680446778554,
          -2.1203859731935624,
          -0.012493364965072527,
          1.5567907256747087,
          -0.09070771602794563,
          1.4609853837943934,
          -0.08854349224959014,
          -0.856791361064138,
          1.0297475656962671,
          0.42198118265890605,
          -1.03460399441633,
          0.3735845230130623,
          -0.9241538869607678,
          1.570150040609835,
          1.321593659953714
         ]
        },
        {
         "line": {
          "color": "rgba(55, 128, 191, 1.0)",
          "dash": "solid",
          "shape": "linear",
          "width": 1.3
         },
         "mode": "lines",
         "name": "B",
         "text": "",
         "type": "scatter",
         "x": [
          0,
          1,
          2,
          3,
          4,
          5,
          6,
          7,
          8,
          9,
          10,
          11,
          12,
          13,
          14,
          15,
          16,
          17,
          18,
          19,
          20,
          21,
          22,
          23,
          24,
          25,
          26,
          27,
          28,
          29,
          30,
          31,
          32,
          33,
          34,
          35,
          36,
          37,
          38,
          39,
          40,
          41,
          42,
          43,
          44,
          45,
          46,
          47,
          48,
          49,
          50,
          51,
          52,
          53,
          54,
          55,
          56,
          57,
          58,
          59,
          60,
          61,
          62,
          63,
          64,
          65,
          66,
          67,
          68,
          69,
          70,
          71,
          72,
          73,
          74,
          75,
          76,
          77,
          78,
          79,
          80,
          81,
          82,
          83,
          84,
          85,
          86,
          87,
          88,
          89,
          90,
          91,
          92,
          93,
          94,
          95,
          96,
          97,
          98,
          99
         ],
         "y": [
          0.3628951277929951,
          -0.3370451361478144,
          1.3231291351782233,
          1.4619849953879063,
          2.117158857110377,
          -0.4278911070438518,
          0.7344388751372461,
          -0.550323658824948,
          2.289515694879591,
          0.30742068285265095,
          -0.43977407824993986,
          -0.48884334734707185,
          -0.035511693272353935,
          -0.5342855677426966,
          -0.48180500751838384,
          -0.5402177259755799,
          -0.4257760630492741,
          0.7481064580560373,
          0.38511250543185005,
          0.8948997926718579,
          0.5536185568036587,
          -0.6179898772826783,
          -0.7373935557874557,
          -0.6587419190524676,
          -0.7908486650543705,
          1.9579085993292384,
          1.0227320867440015,
          0.08107381074532037,
          -1.0480676019418818,
          -0.038411630922692945,
          -0.43553368154143673,
          0.30547134666727555,
          0.31837764643846567,
          -1.2142755537571501,
          -1.33773432084597,
          -0.7116738068907645,
          0.9183167283589629,
          1.4743458775421812,
          -0.8431681057751841,
          0.43131204721851857,
          -0.9552574710960884,
          1.360748437511149,
          0.17242502311920802,
          -0.1770824993618998,
          -1.2597307314975406,
          0.10361795124246964,
          -0.18102523650578423,
          1.9573674380123398,
          -1.9199468808812759,
          1.4147956826988282,
          -0.9874818136598563,
          -0.7022202694544329,
          -0.5705377079294096,
          -0.7181380869066,
          -1.5780613890451551,
          1.8132684520903277,
          -0.04335726224652799,
          -0.622068537839199,
          0.49221363767893667,
          1.3014197695620342,
          1.2885602911496903,
          -2.8538900169933634,
          0.25687937793931975,
          -0.9849351141966023,
          0.12599618770693463,
          0.34654139867809725,
          1.6403611743900608,
          0.34133072787434726,
          -0.3534901678291325,
          -1.3064588907422594,
          -0.4066703765884158,
          -1.9235557950647617,
          -0.7594602183434284,
          -0.7594261635516536,
          -0.29650932390946017,
          -0.7528925452720961,
          -0.026538330860710606,
          -0.7006225652800655,
          0.08891626131943374,
          -0.9241877460937217,
          1.1524864431883304,
          -1.5516429203762085,
          -0.7512503489892757,
          -0.2172506305976222,
          -0.3702813233079158,
          -1.6215454634160695,
          0.8196735120810899,
          -0.7064143748530674,
          -1.4730559538526578,
          1.2335673831613592,
          -1.7081096406580358,
          -0.6861292538606032,
          0.4460871106918229,
          2.145446758488049,
          -1.1984764313861387,
          0.9179123015415466,
          1.97791814986797,
          1.421128192119911,
          1.0233477071069101,
          -0.45111783720311166
         ]
        },
        {
         "line": {
          "color": "rgba(50, 171, 96, 1.0)",
          "dash": "solid",
          "shape": "linear",
          "width": 1.3
         },
         "mode": "lines",
         "name": "C",
         "text": "",
         "type": "scatter",
         "x": [
          0,
          1,
          2,
          3,
          4,
          5,
          6,
          7,
          8,
          9,
          10,
          11,
          12,
          13,
          14,
          15,
          16,
          17,
          18,
          19,
          20,
          21,
          22,
          23,
          24,
          25,
          26,
          27,
          28,
          29,
          30,
          31,
          32,
          33,
          34,
          35,
          36,
          37,
          38,
          39,
          40,
          41,
          42,
          43,
          44,
          45,
          46,
          47,
          48,
          49,
          50,
          51,
          52,
          53,
          54,
          55,
          56,
          57,
          58,
          59,
          60,
          61,
          62,
          63,
          64,
          65,
          66,
          67,
          68,
          69,
          70,
          71,
          72,
          73,
          74,
          75,
          76,
          77,
          78,
          79,
          80,
          81,
          82,
          83,
          84,
          85,
          86,
          87,
          88,
          89,
          90,
          91,
          92,
          93,
          94,
          95,
          96,
          97,
          98,
          99
         ],
         "y": [
          -1.262246386708045,
          1.5638579611107675,
          1.6533456642054394,
          -0.5857274150439693,
          -0.9718003335278091,
          1.9910197132485752,
          -0.01613438128547328,
          -0.7222960998036906,
          -0.43452788842835516,
          1.8314339377290816,
          0.4826739694509472,
          -0.8357536125493982,
          -0.2593056592632085,
          0.47485761951349925,
          -0.14457728585036042,
          -0.56176823174519,
          -0.0803096305257362,
          0.5397232549572729,
          -0.31562777844065215,
          0.609617256698708,
          0.5820343674747728,
          -1.0964528018403226,
          -1.390339177426912,
          0.6400248855065004,
          0.47259256055418436,
          -1.009103140705429,
          0.40008503543512436,
          0.5995439538437828,
          0.3133663894433051,
          -2.665883259984044,
          -0.6461013421361341,
          -0.897748954090031,
          0.9621321118411451,
          -0.04320877208820299,
          -1.9574508338642798,
          -1.8760688791065874,
          1.3121315059780538,
          0.4780649355181438,
          0.2570784378160595,
          -1.0061816352506987,
          0.5381896067709654,
          0.21933334682360123,
          -0.4136204340160217,
          0.8789952767971859,
          -1.733200734199713,
          0.059984712005299604,
          -1.91442323813317,
          -0.5197833673791261,
          0.6991419801679005,
          -0.03210088725470912,
          -1.0632333928130342,
          -0.9300430509553365,
          -0.6012510269252737,
          0.2865154738217406,
          -0.06645984323458184,
          0.700151111328033,
          -0.4545238559681508,
          0.4197119613844714,
          0.6250125750521822,
          1.543602961789841,
          1.9234299147607956,
          0.4923533990036386,
          0.5823243218785095,
          -1.7956378010179064,
          2.2093208145112797,
          0.9489631119338943,
          0.11530760570093612,
          -0.046247696279733165,
          0.10286615664533401,
          0.3355010334083271,
          -1.2288175562291406,
          -0.4381558644867527,
          0.885854600105045,
          -0.7263145339435798,
          0.6037080262828017,
          0.039503474380392735,
          -0.13721426690389715,
          -0.7697375720421394,
          0.5664177039909022,
          -1.4533834714828815,
          -0.28788223418867487,
          -0.6869229799254724,
          -1.1019783015488456,
          -0.6995551434410562,
          2.178902724269444,
          0.2367245426897461,
          -1.3572443445271885,
          0.19080191211520586,
          -0.13534547363413924,
          2.1480475225124707,
          -1.640485130488358,
          0.24098007138199837,
          -0.06635707305500717,
          1.43720151371039,
          -1.2881494307241494,
          0.358308734244282,
          0.6610268948939776,
          0.17306216631950902,
          -1.4831561712608663,
          0.17009094047524345
         ]
        },
        {
         "line": {
          "color": "rgba(128, 0, 128, 1.0)",
          "dash": "solid",
          "shape": "linear",
          "width": 1.3
         },
         "mode": "lines",
         "name": "D",
         "text": "",
         "type": "scatter",
         "x": [
          0,
          1,
          2,
          3,
          4,
          5,
          6,
          7,
          8,
          9,
          10,
          11,
          12,
          13,
          14,
          15,
          16,
          17,
          18,
          19,
          20,
          21,
          22,
          23,
          24,
          25,
          26,
          27,
          28,
          29,
          30,
          31,
          32,
          33,
          34,
          35,
          36,
          37,
          38,
          39,
          40,
          41,
          42,
          43,
          44,
          45,
          46,
          47,
          48,
          49,
          50,
          51,
          52,
          53,
          54,
          55,
          56,
          57,
          58,
          59,
          60,
          61,
          62,
          63,
          64,
          65,
          66,
          67,
          68,
          69,
          70,
          71,
          72,
          73,
          74,
          75,
          76,
          77,
          78,
          79,
          80,
          81,
          82,
          83,
          84,
          85,
          86,
          87,
          88,
          89,
          90,
          91,
          92,
          93,
          94,
          95,
          96,
          97,
          98,
          99
         ],
         "y": [
          0.586241282522509,
          -0.22089794130715373,
          -0.32977958431585386,
          -0.5405340776475431,
          -0.04877349669389779,
          0.17133305898484838,
          0.7339462271620942,
          -1.7541849625682326,
          0.38375511557610975,
          0.5464722105970232,
          0.8766556178661989,
          0.6253743071113597,
          1.6496321321064724,
          -0.10249437906321221,
          -1.8595332557304354,
          -0.5715638089220502,
          0.4540962512541975,
          0.7954282130636511,
          -0.6171071272338289,
          0.9411102920743672,
          -0.569366457259254,
          -1.767388870564552,
          0.5747861920019599,
          -0.02796334802597153,
          -1.2198724082225554,
          -0.18441574978108347,
          -0.08983485756478941,
          0.7827998769009209,
          -0.6616735120219261,
          -0.21427997059061274,
          1.1716129881809083,
          -1.9365676452401521,
          -0.10149410131838696,
          -0.2315074296925576,
          0.4333018191203166,
          0.06759345971896527,
          -0.9565589970551207,
          -0.19913366531592835,
          0.6331964735409779,
          0.13008037562286812,
          -0.18791630766850706,
          0.6071395142047425,
          -0.9420566323715552,
          1.4991190191191128,
          0.775317504035868,
          -0.15913932979620232,
          0.1510895181968772,
          -0.5296271622969968,
          -0.7197989233436392,
          0.11309694712602393,
          0.44412989477713655,
          -0.09403027940187994,
          -0.8682299237393994,
          1.7553823217684428,
          0.4005643438094378,
          0.597826128640621,
          -0.7137331780235777,
          0.08946368313769949,
          -0.6430225688837589,
          -1.287764150816326,
          0.41927884809407495,
          0.1308943120600146,
          1.4612925365780403,
          0.4173722049236492,
          -1.2898246332745469,
          0.12236587640394747,
          0.3675122286041763,
          -0.711997864746745,
          -0.35653191502630593,
          0.42361621822173884,
          0.4459568784922028,
          -0.42929052053717953,
          0.09773405326685174,
          -1.4684722989661918,
          -0.31127757815040275,
          -1.1450330047394817,
          0.7635046452857974,
          0.6846182203864283,
          0.6830606678917067,
          -0.23039228538683168,
          -0.7468894046264111,
          -0.40334364788009475,
          0.6974026863797835,
          0.4129473636523078,
          -0.3019078924747539,
          -0.6427034119718875,
          -1.0264660139234527,
          -0.257059610559706,
          -0.05721108300739811,
          0.5561748153861257,
          1.202268969030958,
          1.310702613250076,
          -0.007279985522969998,
          -1.127865115148052,
          -1.2633103084419985,
          -0.41207404062384906,
          -2.680605099876662,
          -0.8744459753552564,
          -0.8670295998657446,
          -0.2292315238956763
         ]
        }
       ],
       "layout": {
        "legend": {
         "bgcolor": "#F5F6F9",
         "font": {
          "color": "#4D5663"
         }
        },
        "paper_bgcolor": "#F5F6F9",
        "plot_bgcolor": "#F5F6F9",
        "template": {
         "data": {
          "bar": [
           {
            "error_x": {
             "color": "#2a3f5f"
            },
            "error_y": {
             "color": "#2a3f5f"
            },
            "marker": {
             "line": {
              "color": "#E5ECF6",
              "width": 0.5
             },
             "pattern": {
              "fillmode": "overlay",
              "size": 10,
              "solidity": 0.2
             }
            },
            "type": "bar"
           }
          ],
          "barpolar": [
           {
            "marker": {
             "line": {
              "color": "#E5ECF6",
              "width": 0.5
             },
             "pattern": {
              "fillmode": "overlay",
              "size": 10,
              "solidity": 0.2
             }
            },
            "type": "barpolar"
           }
          ],
          "carpet": [
           {
            "aaxis": {
             "endlinecolor": "#2a3f5f",
             "gridcolor": "white",
             "linecolor": "white",
             "minorgridcolor": "white",
             "startlinecolor": "#2a3f5f"
            },
            "baxis": {
             "endlinecolor": "#2a3f5f",
             "gridcolor": "white",
             "linecolor": "white",
             "minorgridcolor": "white",
             "startlinecolor": "#2a3f5f"
            },
            "type": "carpet"
           }
          ],
          "choropleth": [
           {
            "colorbar": {
             "outlinewidth": 0,
             "ticks": ""
            },
            "type": "choropleth"
           }
          ],
          "contour": [
           {
            "colorbar": {
             "outlinewidth": 0,
             "ticks": ""
            },
            "colorscale": [
             [
              0,
              "#0d0887"
             ],
             [
              0.1111111111111111,
              "#46039f"
             ],
             [
              0.2222222222222222,
              "#7201a8"
             ],
             [
              0.3333333333333333,
              "#9c179e"
             ],
             [
              0.4444444444444444,
              "#bd3786"
             ],
             [
              0.5555555555555556,
              "#d8576b"
             ],
             [
              0.6666666666666666,
              "#ed7953"
             ],
             [
              0.7777777777777778,
              "#fb9f3a"
             ],
             [
              0.8888888888888888,
              "#fdca26"
             ],
             [
              1,
              "#f0f921"
             ]
            ],
            "type": "contour"
           }
          ],
          "contourcarpet": [
           {
            "colorbar": {
             "outlinewidth": 0,
             "ticks": ""
            },
            "type": "contourcarpet"
           }
          ],
          "heatmap": [
           {
            "colorbar": {
             "outlinewidth": 0,
             "ticks": ""
            },
            "colorscale": [
             [
              0,
              "#0d0887"
             ],
             [
              0.1111111111111111,
              "#46039f"
             ],
             [
              0.2222222222222222,
              "#7201a8"
             ],
             [
              0.3333333333333333,
              "#9c179e"
             ],
             [
              0.4444444444444444,
              "#bd3786"
             ],
             [
              0.5555555555555556,
              "#d8576b"
             ],
             [
              0.6666666666666666,
              "#ed7953"
             ],
             [
              0.7777777777777778,
              "#fb9f3a"
             ],
             [
              0.8888888888888888,
              "#fdca26"
             ],
             [
              1,
              "#f0f921"
             ]
            ],
            "type": "heatmap"
           }
          ],
          "heatmapgl": [
           {
            "colorbar": {
             "outlinewidth": 0,
             "ticks": ""
            },
            "colorscale": [
             [
              0,
              "#0d0887"
             ],
             [
              0.1111111111111111,
              "#46039f"
             ],
             [
              0.2222222222222222,
              "#7201a8"
             ],
             [
              0.3333333333333333,
              "#9c179e"
             ],
             [
              0.4444444444444444,
              "#bd3786"
             ],
             [
              0.5555555555555556,
              "#d8576b"
             ],
             [
              0.6666666666666666,
              "#ed7953"
             ],
             [
              0.7777777777777778,
              "#fb9f3a"
             ],
             [
              0.8888888888888888,
              "#fdca26"
             ],
             [
              1,
              "#f0f921"
             ]
            ],
            "type": "heatmapgl"
           }
          ],
          "histogram": [
           {
            "marker": {
             "pattern": {
              "fillmode": "overlay",
              "size": 10,
              "solidity": 0.2
             }
            },
            "type": "histogram"
           }
          ],
          "histogram2d": [
           {
            "colorbar": {
             "outlinewidth": 0,
             "ticks": ""
            },
            "colorscale": [
             [
              0,
              "#0d0887"
             ],
             [
              0.1111111111111111,
              "#46039f"
             ],
             [
              0.2222222222222222,
              "#7201a8"
             ],
             [
              0.3333333333333333,
              "#9c179e"
             ],
             [
              0.4444444444444444,
              "#bd3786"
             ],
             [
              0.5555555555555556,
              "#d8576b"
             ],
             [
              0.6666666666666666,
              "#ed7953"
             ],
             [
              0.7777777777777778,
              "#fb9f3a"
             ],
             [
              0.8888888888888888,
              "#fdca26"
             ],
             [
              1,
              "#f0f921"
             ]
            ],
            "type": "histogram2d"
           }
          ],
          "histogram2dcontour": [
           {
            "colorbar": {
             "outlinewidth": 0,
             "ticks": ""
            },
            "colorscale": [
             [
              0,
              "#0d0887"
             ],
             [
              0.1111111111111111,
              "#46039f"
             ],
             [
              0.2222222222222222,
              "#7201a8"
             ],
             [
              0.3333333333333333,
              "#9c179e"
             ],
             [
              0.4444444444444444,
              "#bd3786"
             ],
             [
              0.5555555555555556,
              "#d8576b"
             ],
             [
              0.6666666666666666,
              "#ed7953"
             ],
             [
              0.7777777777777778,
              "#fb9f3a"
             ],
             [
              0.8888888888888888,
              "#fdca26"
             ],
             [
              1,
              "#f0f921"
             ]
            ],
            "type": "histogram2dcontour"
           }
          ],
          "mesh3d": [
           {
            "colorbar": {
             "outlinewidth": 0,
             "ticks": ""
            },
            "type": "mesh3d"
           }
          ],
          "parcoords": [
           {
            "line": {
             "colorbar": {
              "outlinewidth": 0,
              "ticks": ""
             }
            },
            "type": "parcoords"
           }
          ],
          "pie": [
           {
            "automargin": true,
            "type": "pie"
           }
          ],
          "scatter": [
           {
            "marker": {
             "colorbar": {
              "outlinewidth": 0,
              "ticks": ""
             }
            },
            "type": "scatter"
           }
          ],
          "scatter3d": [
           {
            "line": {
             "colorbar": {
              "outlinewidth": 0,
              "ticks": ""
             }
            },
            "marker": {
             "colorbar": {
              "outlinewidth": 0,
              "ticks": ""
             }
            },
            "type": "scatter3d"
           }
          ],
          "scattercarpet": [
           {
            "marker": {
             "colorbar": {
              "outlinewidth": 0,
              "ticks": ""
             }
            },
            "type": "scattercarpet"
           }
          ],
          "scattergeo": [
           {
            "marker": {
             "colorbar": {
              "outlinewidth": 0,
              "ticks": ""
             }
            },
            "type": "scattergeo"
           }
          ],
          "scattergl": [
           {
            "marker": {
             "colorbar": {
              "outlinewidth": 0,
              "ticks": ""
             }
            },
            "type": "scattergl"
           }
          ],
          "scattermapbox": [
           {
            "marker": {
             "colorbar": {
              "outlinewidth": 0,
              "ticks": ""
             }
            },
            "type": "scattermapbox"
           }
          ],
          "scatterpolar": [
           {
            "marker": {
             "colorbar": {
              "outlinewidth": 0,
              "ticks": ""
             }
            },
            "type": "scatterpolar"
           }
          ],
          "scatterpolargl": [
           {
            "marker": {
             "colorbar": {
              "outlinewidth": 0,
              "ticks": ""
             }
            },
            "type": "scatterpolargl"
           }
          ],
          "scatterternary": [
           {
            "marker": {
             "colorbar": {
              "outlinewidth": 0,
              "ticks": ""
             }
            },
            "type": "scatterternary"
           }
          ],
          "surface": [
           {
            "colorbar": {
             "outlinewidth": 0,
             "ticks": ""
            },
            "colorscale": [
             [
              0,
              "#0d0887"
             ],
             [
              0.1111111111111111,
              "#46039f"
             ],
             [
              0.2222222222222222,
              "#7201a8"
             ],
             [
              0.3333333333333333,
              "#9c179e"
             ],
             [
              0.4444444444444444,
              "#bd3786"
             ],
             [
              0.5555555555555556,
              "#d8576b"
             ],
             [
              0.6666666666666666,
              "#ed7953"
             ],
             [
              0.7777777777777778,
              "#fb9f3a"
             ],
             [
              0.8888888888888888,
              "#fdca26"
             ],
             [
              1,
              "#f0f921"
             ]
            ],
            "type": "surface"
           }
          ],
          "table": [
           {
            "cells": {
             "fill": {
              "color": "#EBF0F8"
             },
             "line": {
              "color": "white"
             }
            },
            "header": {
             "fill": {
              "color": "#C8D4E3"
             },
             "line": {
              "color": "white"
             }
            },
            "type": "table"
           }
          ]
         },
         "layout": {
          "annotationdefaults": {
           "arrowcolor": "#2a3f5f",
           "arrowhead": 0,
           "arrowwidth": 1
          },
          "autotypenumbers": "strict",
          "coloraxis": {
           "colorbar": {
            "outlinewidth": 0,
            "ticks": ""
           }
          },
          "colorscale": {
           "diverging": [
            [
             0,
             "#8e0152"
            ],
            [
             0.1,
             "#c51b7d"
            ],
            [
             0.2,
             "#de77ae"
            ],
            [
             0.3,
             "#f1b6da"
            ],
            [
             0.4,
             "#fde0ef"
            ],
            [
             0.5,
             "#f7f7f7"
            ],
            [
             0.6,
             "#e6f5d0"
            ],
            [
             0.7,
             "#b8e186"
            ],
            [
             0.8,
             "#7fbc41"
            ],
            [
             0.9,
             "#4d9221"
            ],
            [
             1,
             "#276419"
            ]
           ],
           "sequential": [
            [
             0,
             "#0d0887"
            ],
            [
             0.1111111111111111,
             "#46039f"
            ],
            [
             0.2222222222222222,
             "#7201a8"
            ],
            [
             0.3333333333333333,
             "#9c179e"
            ],
            [
             0.4444444444444444,
             "#bd3786"
            ],
            [
             0.5555555555555556,
             "#d8576b"
            ],
            [
             0.6666666666666666,
             "#ed7953"
            ],
            [
             0.7777777777777778,
             "#fb9f3a"
            ],
            [
             0.8888888888888888,
             "#fdca26"
            ],
            [
             1,
             "#f0f921"
            ]
           ],
           "sequentialminus": [
            [
             0,
             "#0d0887"
            ],
            [
             0.1111111111111111,
             "#46039f"
            ],
            [
             0.2222222222222222,
             "#7201a8"
            ],
            [
             0.3333333333333333,
             "#9c179e"
            ],
            [
             0.4444444444444444,
             "#bd3786"
            ],
            [
             0.5555555555555556,
             "#d8576b"
            ],
            [
             0.6666666666666666,
             "#ed7953"
            ],
            [
             0.7777777777777778,
             "#fb9f3a"
            ],
            [
             0.8888888888888888,
             "#fdca26"
            ],
            [
             1,
             "#f0f921"
            ]
           ]
          },
          "colorway": [
           "#636efa",
           "#EF553B",
           "#00cc96",
           "#ab63fa",
           "#FFA15A",
           "#19d3f3",
           "#FF6692",
           "#B6E880",
           "#FF97FF",
           "#FECB52"
          ],
          "font": {
           "color": "#2a3f5f"
          },
          "geo": {
           "bgcolor": "white",
           "lakecolor": "white",
           "landcolor": "#E5ECF6",
           "showlakes": true,
           "showland": true,
           "subunitcolor": "white"
          },
          "hoverlabel": {
           "align": "left"
          },
          "hovermode": "closest",
          "mapbox": {
           "style": "light"
          },
          "paper_bgcolor": "white",
          "plot_bgcolor": "#E5ECF6",
          "polar": {
           "angularaxis": {
            "gridcolor": "white",
            "linecolor": "white",
            "ticks": ""
           },
           "bgcolor": "#E5ECF6",
           "radialaxis": {
            "gridcolor": "white",
            "linecolor": "white",
            "ticks": ""
           }
          },
          "scene": {
           "xaxis": {
            "backgroundcolor": "#E5ECF6",
            "gridcolor": "white",
            "gridwidth": 2,
            "linecolor": "white",
            "showbackground": true,
            "ticks": "",
            "zerolinecolor": "white"
           },
           "yaxis": {
            "backgroundcolor": "#E5ECF6",
            "gridcolor": "white",
            "gridwidth": 2,
            "linecolor": "white",
            "showbackground": true,
            "ticks": "",
            "zerolinecolor": "white"
           },
           "zaxis": {
            "backgroundcolor": "#E5ECF6",
            "gridcolor": "white",
            "gridwidth": 2,
            "linecolor": "white",
            "showbackground": true,
            "ticks": "",
            "zerolinecolor": "white"
           }
          },
          "shapedefaults": {
           "line": {
            "color": "#2a3f5f"
           }
          },
          "ternary": {
           "aaxis": {
            "gridcolor": "white",
            "linecolor": "white",
            "ticks": ""
           },
           "baxis": {
            "gridcolor": "white",
            "linecolor": "white",
            "ticks": ""
           },
           "bgcolor": "#E5ECF6",
           "caxis": {
            "gridcolor": "white",
            "linecolor": "white",
            "ticks": ""
           }
          },
          "title": {
           "x": 0.05
          },
          "xaxis": {
           "automargin": true,
           "gridcolor": "white",
           "linecolor": "white",
           "ticks": "",
           "title": {
            "standoff": 15
           },
           "zerolinecolor": "white",
           "zerolinewidth": 2
          },
          "yaxis": {
           "automargin": true,
           "gridcolor": "white",
           "linecolor": "white",
           "ticks": "",
           "title": {
            "standoff": 15
           },
           "zerolinecolor": "white",
           "zerolinewidth": 2
          }
         }
        },
        "title": {
         "font": {
          "color": "#4D5663"
         }
        },
        "xaxis": {
         "gridcolor": "#E1E5ED",
         "showgrid": true,
         "tickfont": {
          "color": "#4D5663"
         },
         "title": {
          "font": {
           "color": "#4D5663"
          },
          "text": ""
         },
         "zerolinecolor": "#E1E5ED"
        },
        "yaxis": {
         "gridcolor": "#E1E5ED",
         "showgrid": true,
         "tickfont": {
          "color": "#4D5663"
         },
         "title": {
          "font": {
           "color": "#4D5663"
          },
          "text": ""
         },
         "zerolinecolor": "#E1E5ED"
        }
       }
      },
      "text/html": [
       "<div>                            <div id=\"6e9b5488-7a9e-4d3d-ad16-cf3bb08bb775\" class=\"plotly-graph-div\" style=\"height:525px; width:100%;\"></div>            <script type=\"text/javascript\">                require([\"plotly\"], function(Plotly) {                    window.PLOTLYENV=window.PLOTLYENV || {};\n",
       "                    window.PLOTLYENV.BASE_URL='https://plot.ly';                                    if (document.getElementById(\"6e9b5488-7a9e-4d3d-ad16-cf3bb08bb775\")) {                    Plotly.newPlot(                        \"6e9b5488-7a9e-4d3d-ad16-cf3bb08bb775\",                        [{\"line\":{\"color\":\"rgba(255, 153, 51, 1.0)\",\"dash\":\"solid\",\"shape\":\"linear\",\"width\":1.3},\"mode\":\"lines\",\"name\":\"A\",\"text\":\"\",\"type\":\"scatter\",\"x\":[0,1,2,3,4,5,6,7,8,9,10,11,12,13,14,15,16,17,18,19,20,21,22,23,24,25,26,27,28,29,30,31,32,33,34,35,36,37,38,39,40,41,42,43,44,45,46,47,48,49,50,51,52,53,54,55,56,57,58,59,60,61,62,63,64,65,66,67,68,69,70,71,72,73,74,75,76,77,78,79,80,81,82,83,84,85,86,87,88,89,90,91,92,93,94,95,96,97,98,99],\"y\":[2.589041960375388,0.46446495832878104,-1.8622342467167692,0.44748282470611106,0.5183570648847058,0.12564036024206882,-0.24671833426783726,1.462267278267704,0.6501389382278583,-0.6672168110888695,1.0747847894423825,-0.8495646586597335,0.8803409704941809,0.8276737448827238,-1.9844611168258537,-0.5824346509596668,0.31244403542215765,-1.9058846467784096,1.534946502058969,0.03365006500295044,-0.29023183110114703,0.3634249740106572,-0.2711593909409654,-0.9132127122770319,-1.5297006715639065,1.8365899649961515,0.997620536569792,-0.2682830090953816,-0.9920391126364365,-1.1288479078430984,-0.008960344604379092,0.08630969741946837,0.46474673901283703,1.080017337225342,1.4661189565799466,1.7757481260571573,0.3205119277722951,-0.1798124223086815,-0.4958536804162443,-1.0824042969488221,0.6888694888308021,-0.5554454322639867,1.1331849620973518,0.707328075472143,1.5136541614709633,-0.15648423529358677,-0.1433778469159636,-0.40468586905849585,-1.1744432881168483,-1.1803866454136969,0.08701772484394507,0.5103821267093613,-0.7433404424157205,-1.3161156299617915,0.723862166500837,0.0026211503152519856,0.6319910333015367,-0.7800163727009063,0.35886810605281194,-0.8301763834854368,-0.8524457756811449,0.9092763928827187,1.386293842292832,0.6190688873352528,-0.7452238959623145,-0.10530966041008744,0.6046632526320624,0.5577696731869712,-0.2920090900408622,0.24765258184426459,0.24614719012597427,-0.5867004475301311,-0.6851305364461912,-0.3361131907069222,0.6096750683088648,0.40561099150908214,-1.0722447247968594,-0.8429016314669159,-1.1413614153611717,0.003590536584902493,0.34212167559255774,0.6196242646627494,1.3374433126596188,0.783739897292725,-0.21978813559000052,1.310680446778554,-2.1203859731935624,-0.012493364965072527,1.5567907256747087,-0.09070771602794563,1.4609853837943934,-0.08854349224959014,-0.856791361064138,1.0297475656962671,0.42198118265890605,-1.03460399441633,0.3735845230130623,-0.9241538869607678,1.570150040609835,1.321593659953714]},{\"line\":{\"color\":\"rgba(55, 128, 191, 1.0)\",\"dash\":\"solid\",\"shape\":\"linear\",\"width\":1.3},\"mode\":\"lines\",\"name\":\"B\",\"text\":\"\",\"type\":\"scatter\",\"x\":[0,1,2,3,4,5,6,7,8,9,10,11,12,13,14,15,16,17,18,19,20,21,22,23,24,25,26,27,28,29,30,31,32,33,34,35,36,37,38,39,40,41,42,43,44,45,46,47,48,49,50,51,52,53,54,55,56,57,58,59,60,61,62,63,64,65,66,67,68,69,70,71,72,73,74,75,76,77,78,79,80,81,82,83,84,85,86,87,88,89,90,91,92,93,94,95,96,97,98,99],\"y\":[0.3628951277929951,-0.3370451361478144,1.3231291351782233,1.4619849953879063,2.117158857110377,-0.4278911070438518,0.7344388751372461,-0.550323658824948,2.289515694879591,0.30742068285265095,-0.43977407824993986,-0.48884334734707185,-0.035511693272353935,-0.5342855677426966,-0.48180500751838384,-0.5402177259755799,-0.4257760630492741,0.7481064580560373,0.38511250543185005,0.8948997926718579,0.5536185568036587,-0.6179898772826783,-0.7373935557874557,-0.6587419190524676,-0.7908486650543705,1.9579085993292384,1.0227320867440015,0.08107381074532037,-1.0480676019418818,-0.038411630922692945,-0.43553368154143673,0.30547134666727555,0.31837764643846567,-1.2142755537571501,-1.33773432084597,-0.7116738068907645,0.9183167283589629,1.4743458775421812,-0.8431681057751841,0.43131204721851857,-0.9552574710960884,1.360748437511149,0.17242502311920802,-0.1770824993618998,-1.2597307314975406,0.10361795124246964,-0.18102523650578423,1.9573674380123398,-1.9199468808812759,1.4147956826988282,-0.9874818136598563,-0.7022202694544329,-0.5705377079294096,-0.7181380869066,-1.5780613890451551,1.8132684520903277,-0.04335726224652799,-0.622068537839199,0.49221363767893667,1.3014197695620342,1.2885602911496903,-2.8538900169933634,0.25687937793931975,-0.9849351141966023,0.12599618770693463,0.34654139867809725,1.6403611743900608,0.34133072787434726,-0.3534901678291325,-1.3064588907422594,-0.4066703765884158,-1.9235557950647617,-0.7594602183434284,-0.7594261635516536,-0.29650932390946017,-0.7528925452720961,-0.026538330860710606,-0.7006225652800655,0.08891626131943374,-0.9241877460937217,1.1524864431883304,-1.5516429203762085,-0.7512503489892757,-0.2172506305976222,-0.3702813233079158,-1.6215454634160695,0.8196735120810899,-0.7064143748530674,-1.4730559538526578,1.2335673831613592,-1.7081096406580358,-0.6861292538606032,0.4460871106918229,2.145446758488049,-1.1984764313861387,0.9179123015415466,1.97791814986797,1.421128192119911,1.0233477071069101,-0.45111783720311166]},{\"line\":{\"color\":\"rgba(50, 171, 96, 1.0)\",\"dash\":\"solid\",\"shape\":\"linear\",\"width\":1.3},\"mode\":\"lines\",\"name\":\"C\",\"text\":\"\",\"type\":\"scatter\",\"x\":[0,1,2,3,4,5,6,7,8,9,10,11,12,13,14,15,16,17,18,19,20,21,22,23,24,25,26,27,28,29,30,31,32,33,34,35,36,37,38,39,40,41,42,43,44,45,46,47,48,49,50,51,52,53,54,55,56,57,58,59,60,61,62,63,64,65,66,67,68,69,70,71,72,73,74,75,76,77,78,79,80,81,82,83,84,85,86,87,88,89,90,91,92,93,94,95,96,97,98,99],\"y\":[-1.262246386708045,1.5638579611107675,1.6533456642054394,-0.5857274150439693,-0.9718003335278091,1.9910197132485752,-0.01613438128547328,-0.7222960998036906,-0.43452788842835516,1.8314339377290816,0.4826739694509472,-0.8357536125493982,-0.2593056592632085,0.47485761951349925,-0.14457728585036042,-0.56176823174519,-0.0803096305257362,0.5397232549572729,-0.31562777844065215,0.609617256698708,0.5820343674747728,-1.0964528018403226,-1.390339177426912,0.6400248855065004,0.47259256055418436,-1.009103140705429,0.40008503543512436,0.5995439538437828,0.3133663894433051,-2.665883259984044,-0.6461013421361341,-0.897748954090031,0.9621321118411451,-0.04320877208820299,-1.9574508338642798,-1.8760688791065874,1.3121315059780538,0.4780649355181438,0.2570784378160595,-1.0061816352506987,0.5381896067709654,0.21933334682360123,-0.4136204340160217,0.8789952767971859,-1.733200734199713,0.059984712005299604,-1.91442323813317,-0.5197833673791261,0.6991419801679005,-0.03210088725470912,-1.0632333928130342,-0.9300430509553365,-0.6012510269252737,0.2865154738217406,-0.06645984323458184,0.700151111328033,-0.4545238559681508,0.4197119613844714,0.6250125750521822,1.543602961789841,1.9234299147607956,0.4923533990036386,0.5823243218785095,-1.7956378010179064,2.2093208145112797,0.9489631119338943,0.11530760570093612,-0.046247696279733165,0.10286615664533401,0.3355010334083271,-1.2288175562291406,-0.4381558644867527,0.885854600105045,-0.7263145339435798,0.6037080262828017,0.039503474380392735,-0.13721426690389715,-0.7697375720421394,0.5664177039909022,-1.4533834714828815,-0.28788223418867487,-0.6869229799254724,-1.1019783015488456,-0.6995551434410562,2.178902724269444,0.2367245426897461,-1.3572443445271885,0.19080191211520586,-0.13534547363413924,2.1480475225124707,-1.640485130488358,0.24098007138199837,-0.06635707305500717,1.43720151371039,-1.2881494307241494,0.358308734244282,0.6610268948939776,0.17306216631950902,-1.4831561712608663,0.17009094047524345]},{\"line\":{\"color\":\"rgba(128, 0, 128, 1.0)\",\"dash\":\"solid\",\"shape\":\"linear\",\"width\":1.3},\"mode\":\"lines\",\"name\":\"D\",\"text\":\"\",\"type\":\"scatter\",\"x\":[0,1,2,3,4,5,6,7,8,9,10,11,12,13,14,15,16,17,18,19,20,21,22,23,24,25,26,27,28,29,30,31,32,33,34,35,36,37,38,39,40,41,42,43,44,45,46,47,48,49,50,51,52,53,54,55,56,57,58,59,60,61,62,63,64,65,66,67,68,69,70,71,72,73,74,75,76,77,78,79,80,81,82,83,84,85,86,87,88,89,90,91,92,93,94,95,96,97,98,99],\"y\":[0.586241282522509,-0.22089794130715373,-0.32977958431585386,-0.5405340776475431,-0.04877349669389779,0.17133305898484838,0.7339462271620942,-1.7541849625682326,0.38375511557610975,0.5464722105970232,0.8766556178661989,0.6253743071113597,1.6496321321064724,-0.10249437906321221,-1.8595332557304354,-0.5715638089220502,0.4540962512541975,0.7954282130636511,-0.6171071272338289,0.9411102920743672,-0.569366457259254,-1.767388870564552,0.5747861920019599,-0.02796334802597153,-1.2198724082225554,-0.18441574978108347,-0.08983485756478941,0.7827998769009209,-0.6616735120219261,-0.21427997059061274,1.1716129881809083,-1.9365676452401521,-0.10149410131838696,-0.2315074296925576,0.4333018191203166,0.06759345971896527,-0.9565589970551207,-0.19913366531592835,0.6331964735409779,0.13008037562286812,-0.18791630766850706,0.6071395142047425,-0.9420566323715552,1.4991190191191128,0.775317504035868,-0.15913932979620232,0.1510895181968772,-0.5296271622969968,-0.7197989233436392,0.11309694712602393,0.44412989477713655,-0.09403027940187994,-0.8682299237393994,1.7553823217684428,0.4005643438094378,0.597826128640621,-0.7137331780235777,0.08946368313769949,-0.6430225688837589,-1.287764150816326,0.41927884809407495,0.1308943120600146,1.4612925365780403,0.4173722049236492,-1.2898246332745469,0.12236587640394747,0.3675122286041763,-0.711997864746745,-0.35653191502630593,0.42361621822173884,0.4459568784922028,-0.42929052053717953,0.09773405326685174,-1.4684722989661918,-0.31127757815040275,-1.1450330047394817,0.7635046452857974,0.6846182203864283,0.6830606678917067,-0.23039228538683168,-0.7468894046264111,-0.40334364788009475,0.6974026863797835,0.4129473636523078,-0.3019078924747539,-0.6427034119718875,-1.0264660139234527,-0.257059610559706,-0.05721108300739811,0.5561748153861257,1.202268969030958,1.310702613250076,-0.007279985522969998,-1.127865115148052,-1.2633103084419985,-0.41207404062384906,-2.680605099876662,-0.8744459753552564,-0.8670295998657446,-0.2292315238956763]}],                        {\"legend\":{\"bgcolor\":\"#F5F6F9\",\"font\":{\"color\":\"#4D5663\"}},\"paper_bgcolor\":\"#F5F6F9\",\"plot_bgcolor\":\"#F5F6F9\",\"template\":{\"data\":{\"bar\":[{\"error_x\":{\"color\":\"#2a3f5f\"},\"error_y\":{\"color\":\"#2a3f5f\"},\"marker\":{\"line\":{\"color\":\"#E5ECF6\",\"width\":0.5},\"pattern\":{\"fillmode\":\"overlay\",\"size\":10,\"solidity\":0.2}},\"type\":\"bar\"}],\"barpolar\":[{\"marker\":{\"line\":{\"color\":\"#E5ECF6\",\"width\":0.5},\"pattern\":{\"fillmode\":\"overlay\",\"size\":10,\"solidity\":0.2}},\"type\":\"barpolar\"}],\"carpet\":[{\"aaxis\":{\"endlinecolor\":\"#2a3f5f\",\"gridcolor\":\"white\",\"linecolor\":\"white\",\"minorgridcolor\":\"white\",\"startlinecolor\":\"#2a3f5f\"},\"baxis\":{\"endlinecolor\":\"#2a3f5f\",\"gridcolor\":\"white\",\"linecolor\":\"white\",\"minorgridcolor\":\"white\",\"startlinecolor\":\"#2a3f5f\"},\"type\":\"carpet\"}],\"choropleth\":[{\"colorbar\":{\"outlinewidth\":0,\"ticks\":\"\"},\"type\":\"choropleth\"}],\"contour\":[{\"colorbar\":{\"outlinewidth\":0,\"ticks\":\"\"},\"colorscale\":[[0.0,\"#0d0887\"],[0.1111111111111111,\"#46039f\"],[0.2222222222222222,\"#7201a8\"],[0.3333333333333333,\"#9c179e\"],[0.4444444444444444,\"#bd3786\"],[0.5555555555555556,\"#d8576b\"],[0.6666666666666666,\"#ed7953\"],[0.7777777777777778,\"#fb9f3a\"],[0.8888888888888888,\"#fdca26\"],[1.0,\"#f0f921\"]],\"type\":\"contour\"}],\"contourcarpet\":[{\"colorbar\":{\"outlinewidth\":0,\"ticks\":\"\"},\"type\":\"contourcarpet\"}],\"heatmap\":[{\"colorbar\":{\"outlinewidth\":0,\"ticks\":\"\"},\"colorscale\":[[0.0,\"#0d0887\"],[0.1111111111111111,\"#46039f\"],[0.2222222222222222,\"#7201a8\"],[0.3333333333333333,\"#9c179e\"],[0.4444444444444444,\"#bd3786\"],[0.5555555555555556,\"#d8576b\"],[0.6666666666666666,\"#ed7953\"],[0.7777777777777778,\"#fb9f3a\"],[0.8888888888888888,\"#fdca26\"],[1.0,\"#f0f921\"]],\"type\":\"heatmap\"}],\"heatmapgl\":[{\"colorbar\":{\"outlinewidth\":0,\"ticks\":\"\"},\"colorscale\":[[0.0,\"#0d0887\"],[0.1111111111111111,\"#46039f\"],[0.2222222222222222,\"#7201a8\"],[0.3333333333333333,\"#9c179e\"],[0.4444444444444444,\"#bd3786\"],[0.5555555555555556,\"#d8576b\"],[0.6666666666666666,\"#ed7953\"],[0.7777777777777778,\"#fb9f3a\"],[0.8888888888888888,\"#fdca26\"],[1.0,\"#f0f921\"]],\"type\":\"heatmapgl\"}],\"histogram\":[{\"marker\":{\"pattern\":{\"fillmode\":\"overlay\",\"size\":10,\"solidity\":0.2}},\"type\":\"histogram\"}],\"histogram2d\":[{\"colorbar\":{\"outlinewidth\":0,\"ticks\":\"\"},\"colorscale\":[[0.0,\"#0d0887\"],[0.1111111111111111,\"#46039f\"],[0.2222222222222222,\"#7201a8\"],[0.3333333333333333,\"#9c179e\"],[0.4444444444444444,\"#bd3786\"],[0.5555555555555556,\"#d8576b\"],[0.6666666666666666,\"#ed7953\"],[0.7777777777777778,\"#fb9f3a\"],[0.8888888888888888,\"#fdca26\"],[1.0,\"#f0f921\"]],\"type\":\"histogram2d\"}],\"histogram2dcontour\":[{\"colorbar\":{\"outlinewidth\":0,\"ticks\":\"\"},\"colorscale\":[[0.0,\"#0d0887\"],[0.1111111111111111,\"#46039f\"],[0.2222222222222222,\"#7201a8\"],[0.3333333333333333,\"#9c179e\"],[0.4444444444444444,\"#bd3786\"],[0.5555555555555556,\"#d8576b\"],[0.6666666666666666,\"#ed7953\"],[0.7777777777777778,\"#fb9f3a\"],[0.8888888888888888,\"#fdca26\"],[1.0,\"#f0f921\"]],\"type\":\"histogram2dcontour\"}],\"mesh3d\":[{\"colorbar\":{\"outlinewidth\":0,\"ticks\":\"\"},\"type\":\"mesh3d\"}],\"parcoords\":[{\"line\":{\"colorbar\":{\"outlinewidth\":0,\"ticks\":\"\"}},\"type\":\"parcoords\"}],\"pie\":[{\"automargin\":true,\"type\":\"pie\"}],\"scatter\":[{\"marker\":{\"colorbar\":{\"outlinewidth\":0,\"ticks\":\"\"}},\"type\":\"scatter\"}],\"scatter3d\":[{\"line\":{\"colorbar\":{\"outlinewidth\":0,\"ticks\":\"\"}},\"marker\":{\"colorbar\":{\"outlinewidth\":0,\"ticks\":\"\"}},\"type\":\"scatter3d\"}],\"scattercarpet\":[{\"marker\":{\"colorbar\":{\"outlinewidth\":0,\"ticks\":\"\"}},\"type\":\"scattercarpet\"}],\"scattergeo\":[{\"marker\":{\"colorbar\":{\"outlinewidth\":0,\"ticks\":\"\"}},\"type\":\"scattergeo\"}],\"scattergl\":[{\"marker\":{\"colorbar\":{\"outlinewidth\":0,\"ticks\":\"\"}},\"type\":\"scattergl\"}],\"scattermapbox\":[{\"marker\":{\"colorbar\":{\"outlinewidth\":0,\"ticks\":\"\"}},\"type\":\"scattermapbox\"}],\"scatterpolar\":[{\"marker\":{\"colorbar\":{\"outlinewidth\":0,\"ticks\":\"\"}},\"type\":\"scatterpolar\"}],\"scatterpolargl\":[{\"marker\":{\"colorbar\":{\"outlinewidth\":0,\"ticks\":\"\"}},\"type\":\"scatterpolargl\"}],\"scatterternary\":[{\"marker\":{\"colorbar\":{\"outlinewidth\":0,\"ticks\":\"\"}},\"type\":\"scatterternary\"}],\"surface\":[{\"colorbar\":{\"outlinewidth\":0,\"ticks\":\"\"},\"colorscale\":[[0.0,\"#0d0887\"],[0.1111111111111111,\"#46039f\"],[0.2222222222222222,\"#7201a8\"],[0.3333333333333333,\"#9c179e\"],[0.4444444444444444,\"#bd3786\"],[0.5555555555555556,\"#d8576b\"],[0.6666666666666666,\"#ed7953\"],[0.7777777777777778,\"#fb9f3a\"],[0.8888888888888888,\"#fdca26\"],[1.0,\"#f0f921\"]],\"type\":\"surface\"}],\"table\":[{\"cells\":{\"fill\":{\"color\":\"#EBF0F8\"},\"line\":{\"color\":\"white\"}},\"header\":{\"fill\":{\"color\":\"#C8D4E3\"},\"line\":{\"color\":\"white\"}},\"type\":\"table\"}]},\"layout\":{\"annotationdefaults\":{\"arrowcolor\":\"#2a3f5f\",\"arrowhead\":0,\"arrowwidth\":1},\"autotypenumbers\":\"strict\",\"coloraxis\":{\"colorbar\":{\"outlinewidth\":0,\"ticks\":\"\"}},\"colorscale\":{\"diverging\":[[0,\"#8e0152\"],[0.1,\"#c51b7d\"],[0.2,\"#de77ae\"],[0.3,\"#f1b6da\"],[0.4,\"#fde0ef\"],[0.5,\"#f7f7f7\"],[0.6,\"#e6f5d0\"],[0.7,\"#b8e186\"],[0.8,\"#7fbc41\"],[0.9,\"#4d9221\"],[1,\"#276419\"]],\"sequential\":[[0.0,\"#0d0887\"],[0.1111111111111111,\"#46039f\"],[0.2222222222222222,\"#7201a8\"],[0.3333333333333333,\"#9c179e\"],[0.4444444444444444,\"#bd3786\"],[0.5555555555555556,\"#d8576b\"],[0.6666666666666666,\"#ed7953\"],[0.7777777777777778,\"#fb9f3a\"],[0.8888888888888888,\"#fdca26\"],[1.0,\"#f0f921\"]],\"sequentialminus\":[[0.0,\"#0d0887\"],[0.1111111111111111,\"#46039f\"],[0.2222222222222222,\"#7201a8\"],[0.3333333333333333,\"#9c179e\"],[0.4444444444444444,\"#bd3786\"],[0.5555555555555556,\"#d8576b\"],[0.6666666666666666,\"#ed7953\"],[0.7777777777777778,\"#fb9f3a\"],[0.8888888888888888,\"#fdca26\"],[1.0,\"#f0f921\"]]},\"colorway\":[\"#636efa\",\"#EF553B\",\"#00cc96\",\"#ab63fa\",\"#FFA15A\",\"#19d3f3\",\"#FF6692\",\"#B6E880\",\"#FF97FF\",\"#FECB52\"],\"font\":{\"color\":\"#2a3f5f\"},\"geo\":{\"bgcolor\":\"white\",\"lakecolor\":\"white\",\"landcolor\":\"#E5ECF6\",\"showlakes\":true,\"showland\":true,\"subunitcolor\":\"white\"},\"hoverlabel\":{\"align\":\"left\"},\"hovermode\":\"closest\",\"mapbox\":{\"style\":\"light\"},\"paper_bgcolor\":\"white\",\"plot_bgcolor\":\"#E5ECF6\",\"polar\":{\"angularaxis\":{\"gridcolor\":\"white\",\"linecolor\":\"white\",\"ticks\":\"\"},\"bgcolor\":\"#E5ECF6\",\"radialaxis\":{\"gridcolor\":\"white\",\"linecolor\":\"white\",\"ticks\":\"\"}},\"scene\":{\"xaxis\":{\"backgroundcolor\":\"#E5ECF6\",\"gridcolor\":\"white\",\"gridwidth\":2,\"linecolor\":\"white\",\"showbackground\":true,\"ticks\":\"\",\"zerolinecolor\":\"white\"},\"yaxis\":{\"backgroundcolor\":\"#E5ECF6\",\"gridcolor\":\"white\",\"gridwidth\":2,\"linecolor\":\"white\",\"showbackground\":true,\"ticks\":\"\",\"zerolinecolor\":\"white\"},\"zaxis\":{\"backgroundcolor\":\"#E5ECF6\",\"gridcolor\":\"white\",\"gridwidth\":2,\"linecolor\":\"white\",\"showbackground\":true,\"ticks\":\"\",\"zerolinecolor\":\"white\"}},\"shapedefaults\":{\"line\":{\"color\":\"#2a3f5f\"}},\"ternary\":{\"aaxis\":{\"gridcolor\":\"white\",\"linecolor\":\"white\",\"ticks\":\"\"},\"baxis\":{\"gridcolor\":\"white\",\"linecolor\":\"white\",\"ticks\":\"\"},\"bgcolor\":\"#E5ECF6\",\"caxis\":{\"gridcolor\":\"white\",\"linecolor\":\"white\",\"ticks\":\"\"}},\"title\":{\"x\":0.05},\"xaxis\":{\"automargin\":true,\"gridcolor\":\"white\",\"linecolor\":\"white\",\"ticks\":\"\",\"title\":{\"standoff\":15},\"zerolinecolor\":\"white\",\"zerolinewidth\":2},\"yaxis\":{\"automargin\":true,\"gridcolor\":\"white\",\"linecolor\":\"white\",\"ticks\":\"\",\"title\":{\"standoff\":15},\"zerolinecolor\":\"white\",\"zerolinewidth\":2}}},\"title\":{\"font\":{\"color\":\"#4D5663\"}},\"xaxis\":{\"gridcolor\":\"#E1E5ED\",\"showgrid\":true,\"tickfont\":{\"color\":\"#4D5663\"},\"title\":{\"font\":{\"color\":\"#4D5663\"},\"text\":\"\"},\"zerolinecolor\":\"#E1E5ED\"},\"yaxis\":{\"gridcolor\":\"#E1E5ED\",\"showgrid\":true,\"tickfont\":{\"color\":\"#4D5663\"},\"title\":{\"font\":{\"color\":\"#4D5663\"},\"text\":\"\"},\"zerolinecolor\":\"#E1E5ED\"}},                        {\"showLink\": true, \"linkText\": \"Export to plot.ly\", \"plotlyServerURL\": \"https://plot.ly\", \"responsive\": true}                    ).then(function(){\n",
       "                            \n",
       "var gd = document.getElementById('6e9b5488-7a9e-4d3d-ad16-cf3bb08bb775');\n",
       "var x = new MutationObserver(function (mutations, observer) {{\n",
       "        var display = window.getComputedStyle(gd).display;\n",
       "        if (!display || display === 'none') {{\n",
       "            console.log([gd, 'removed!']);\n",
       "            Plotly.purge(gd);\n",
       "            observer.disconnect();\n",
       "        }}\n",
       "}});\n",
       "\n",
       "// Listen for the removal of the full notebook cells\n",
       "var notebookContainer = gd.closest('#notebook-container');\n",
       "if (notebookContainer) {{\n",
       "    x.observe(notebookContainer, {childList: true});\n",
       "}}\n",
       "\n",
       "// Listen for the clearing of the current output cell\n",
       "var outputEl = gd.closest('.output');\n",
       "if (outputEl) {{\n",
       "    x.observe(outputEl, {childList: true});\n",
       "}}\n",
       "\n",
       "                        })                };                });            </script>        </div>"
      ]
     },
     "metadata": {},
     "output_type": "display_data"
    }
   ],
   "source": [
    "df1.iplot() #this gives an interactive line plot"
   ]
  },
  {
   "cell_type": "code",
   "execution_count": 16,
   "id": "4ff01591",
   "metadata": {},
   "outputs": [
    {
     "data": {
      "application/vnd.plotly.v1+json": {
       "config": {
        "linkText": "Export to plot.ly",
        "plotlyServerURL": "https://plot.ly",
        "showLink": true
       },
       "data": [
        {
         "line": {
          "color": "rgba(255, 153, 51, 1.0)",
          "dash": "solid",
          "shape": "linear",
          "width": 1.3
         },
         "marker": {
          "size": 10,
          "symbol": "circle"
         },
         "mode": "markers",
         "name": "B",
         "text": "",
         "type": "scatter",
         "x": [
          2.589041960375388,
          0.46446495832878104,
          -1.8622342467167692,
          0.44748282470611106,
          0.5183570648847058,
          0.12564036024206882,
          -0.24671833426783726,
          1.462267278267704,
          0.6501389382278583,
          -0.6672168110888695,
          1.0747847894423825,
          -0.8495646586597335,
          0.8803409704941809,
          0.8276737448827238,
          -1.9844611168258537,
          -0.5824346509596668,
          0.31244403542215765,
          -1.9058846467784096,
          1.534946502058969,
          0.03365006500295044,
          -0.29023183110114703,
          0.3634249740106572,
          -0.2711593909409654,
          -0.9132127122770319,
          -1.5297006715639065,
          1.8365899649961515,
          0.997620536569792,
          -0.2682830090953816,
          -0.9920391126364365,
          -1.1288479078430984,
          -0.008960344604379092,
          0.08630969741946837,
          0.46474673901283703,
          1.080017337225342,
          1.4661189565799466,
          1.7757481260571573,
          0.3205119277722951,
          -0.1798124223086815,
          -0.4958536804162443,
          -1.0824042969488221,
          0.6888694888308021,
          -0.5554454322639867,
          1.1331849620973518,
          0.707328075472143,
          1.5136541614709633,
          -0.15648423529358677,
          -0.1433778469159636,
          -0.40468586905849585,
          -1.1744432881168483,
          -1.1803866454136969,
          0.08701772484394507,
          0.5103821267093613,
          -0.7433404424157205,
          -1.3161156299617915,
          0.723862166500837,
          0.0026211503152519856,
          0.6319910333015367,
          -0.7800163727009063,
          0.35886810605281194,
          -0.8301763834854368,
          -0.8524457756811449,
          0.9092763928827187,
          1.386293842292832,
          0.6190688873352528,
          -0.7452238959623145,
          -0.10530966041008744,
          0.6046632526320624,
          0.5577696731869712,
          -0.2920090900408622,
          0.24765258184426459,
          0.24614719012597427,
          -0.5867004475301311,
          -0.6851305364461912,
          -0.3361131907069222,
          0.6096750683088648,
          0.40561099150908214,
          -1.0722447247968594,
          -0.8429016314669159,
          -1.1413614153611717,
          0.003590536584902493,
          0.34212167559255774,
          0.6196242646627494,
          1.3374433126596188,
          0.783739897292725,
          -0.21978813559000052,
          1.310680446778554,
          -2.1203859731935624,
          -0.012493364965072527,
          1.5567907256747087,
          -0.09070771602794563,
          1.4609853837943934,
          -0.08854349224959014,
          -0.856791361064138,
          1.0297475656962671,
          0.42198118265890605,
          -1.03460399441633,
          0.3735845230130623,
          -0.9241538869607678,
          1.570150040609835,
          1.321593659953714
         ],
         "y": [
          0.3628951277929951,
          -0.3370451361478144,
          1.3231291351782233,
          1.4619849953879063,
          2.117158857110377,
          -0.4278911070438518,
          0.7344388751372461,
          -0.550323658824948,
          2.289515694879591,
          0.30742068285265095,
          -0.43977407824993986,
          -0.48884334734707185,
          -0.035511693272353935,
          -0.5342855677426966,
          -0.48180500751838384,
          -0.5402177259755799,
          -0.4257760630492741,
          0.7481064580560373,
          0.38511250543185005,
          0.8948997926718579,
          0.5536185568036587,
          -0.6179898772826783,
          -0.7373935557874557,
          -0.6587419190524676,
          -0.7908486650543705,
          1.9579085993292384,
          1.0227320867440015,
          0.08107381074532037,
          -1.0480676019418818,
          -0.038411630922692945,
          -0.43553368154143673,
          0.30547134666727555,
          0.31837764643846567,
          -1.2142755537571501,
          -1.33773432084597,
          -0.7116738068907645,
          0.9183167283589629,
          1.4743458775421812,
          -0.8431681057751841,
          0.43131204721851857,
          -0.9552574710960884,
          1.360748437511149,
          0.17242502311920802,
          -0.1770824993618998,
          -1.2597307314975406,
          0.10361795124246964,
          -0.18102523650578423,
          1.9573674380123398,
          -1.9199468808812759,
          1.4147956826988282,
          -0.9874818136598563,
          -0.7022202694544329,
          -0.5705377079294096,
          -0.7181380869066,
          -1.5780613890451551,
          1.8132684520903277,
          -0.04335726224652799,
          -0.622068537839199,
          0.49221363767893667,
          1.3014197695620342,
          1.2885602911496903,
          -2.8538900169933634,
          0.25687937793931975,
          -0.9849351141966023,
          0.12599618770693463,
          0.34654139867809725,
          1.6403611743900608,
          0.34133072787434726,
          -0.3534901678291325,
          -1.3064588907422594,
          -0.4066703765884158,
          -1.9235557950647617,
          -0.7594602183434284,
          -0.7594261635516536,
          -0.29650932390946017,
          -0.7528925452720961,
          -0.026538330860710606,
          -0.7006225652800655,
          0.08891626131943374,
          -0.9241877460937217,
          1.1524864431883304,
          -1.5516429203762085,
          -0.7512503489892757,
          -0.2172506305976222,
          -0.3702813233079158,
          -1.6215454634160695,
          0.8196735120810899,
          -0.7064143748530674,
          -1.4730559538526578,
          1.2335673831613592,
          -1.7081096406580358,
          -0.6861292538606032,
          0.4460871106918229,
          2.145446758488049,
          -1.1984764313861387,
          0.9179123015415466,
          1.97791814986797,
          1.421128192119911,
          1.0233477071069101,
          -0.45111783720311166
         ]
        }
       ],
       "layout": {
        "legend": {
         "bgcolor": "#F5F6F9",
         "font": {
          "color": "#4D5663"
         }
        },
        "paper_bgcolor": "#F5F6F9",
        "plot_bgcolor": "#F5F6F9",
        "template": {
         "data": {
          "bar": [
           {
            "error_x": {
             "color": "#2a3f5f"
            },
            "error_y": {
             "color": "#2a3f5f"
            },
            "marker": {
             "line": {
              "color": "#E5ECF6",
              "width": 0.5
             },
             "pattern": {
              "fillmode": "overlay",
              "size": 10,
              "solidity": 0.2
             }
            },
            "type": "bar"
           }
          ],
          "barpolar": [
           {
            "marker": {
             "line": {
              "color": "#E5ECF6",
              "width": 0.5
             },
             "pattern": {
              "fillmode": "overlay",
              "size": 10,
              "solidity": 0.2
             }
            },
            "type": "barpolar"
           }
          ],
          "carpet": [
           {
            "aaxis": {
             "endlinecolor": "#2a3f5f",
             "gridcolor": "white",
             "linecolor": "white",
             "minorgridcolor": "white",
             "startlinecolor": "#2a3f5f"
            },
            "baxis": {
             "endlinecolor": "#2a3f5f",
             "gridcolor": "white",
             "linecolor": "white",
             "minorgridcolor": "white",
             "startlinecolor": "#2a3f5f"
            },
            "type": "carpet"
           }
          ],
          "choropleth": [
           {
            "colorbar": {
             "outlinewidth": 0,
             "ticks": ""
            },
            "type": "choropleth"
           }
          ],
          "contour": [
           {
            "colorbar": {
             "outlinewidth": 0,
             "ticks": ""
            },
            "colorscale": [
             [
              0,
              "#0d0887"
             ],
             [
              0.1111111111111111,
              "#46039f"
             ],
             [
              0.2222222222222222,
              "#7201a8"
             ],
             [
              0.3333333333333333,
              "#9c179e"
             ],
             [
              0.4444444444444444,
              "#bd3786"
             ],
             [
              0.5555555555555556,
              "#d8576b"
             ],
             [
              0.6666666666666666,
              "#ed7953"
             ],
             [
              0.7777777777777778,
              "#fb9f3a"
             ],
             [
              0.8888888888888888,
              "#fdca26"
             ],
             [
              1,
              "#f0f921"
             ]
            ],
            "type": "contour"
           }
          ],
          "contourcarpet": [
           {
            "colorbar": {
             "outlinewidth": 0,
             "ticks": ""
            },
            "type": "contourcarpet"
           }
          ],
          "heatmap": [
           {
            "colorbar": {
             "outlinewidth": 0,
             "ticks": ""
            },
            "colorscale": [
             [
              0,
              "#0d0887"
             ],
             [
              0.1111111111111111,
              "#46039f"
             ],
             [
              0.2222222222222222,
              "#7201a8"
             ],
             [
              0.3333333333333333,
              "#9c179e"
             ],
             [
              0.4444444444444444,
              "#bd3786"
             ],
             [
              0.5555555555555556,
              "#d8576b"
             ],
             [
              0.6666666666666666,
              "#ed7953"
             ],
             [
              0.7777777777777778,
              "#fb9f3a"
             ],
             [
              0.8888888888888888,
              "#fdca26"
             ],
             [
              1,
              "#f0f921"
             ]
            ],
            "type": "heatmap"
           }
          ],
          "heatmapgl": [
           {
            "colorbar": {
             "outlinewidth": 0,
             "ticks": ""
            },
            "colorscale": [
             [
              0,
              "#0d0887"
             ],
             [
              0.1111111111111111,
              "#46039f"
             ],
             [
              0.2222222222222222,
              "#7201a8"
             ],
             [
              0.3333333333333333,
              "#9c179e"
             ],
             [
              0.4444444444444444,
              "#bd3786"
             ],
             [
              0.5555555555555556,
              "#d8576b"
             ],
             [
              0.6666666666666666,
              "#ed7953"
             ],
             [
              0.7777777777777778,
              "#fb9f3a"
             ],
             [
              0.8888888888888888,
              "#fdca26"
             ],
             [
              1,
              "#f0f921"
             ]
            ],
            "type": "heatmapgl"
           }
          ],
          "histogram": [
           {
            "marker": {
             "pattern": {
              "fillmode": "overlay",
              "size": 10,
              "solidity": 0.2
             }
            },
            "type": "histogram"
           }
          ],
          "histogram2d": [
           {
            "colorbar": {
             "outlinewidth": 0,
             "ticks": ""
            },
            "colorscale": [
             [
              0,
              "#0d0887"
             ],
             [
              0.1111111111111111,
              "#46039f"
             ],
             [
              0.2222222222222222,
              "#7201a8"
             ],
             [
              0.3333333333333333,
              "#9c179e"
             ],
             [
              0.4444444444444444,
              "#bd3786"
             ],
             [
              0.5555555555555556,
              "#d8576b"
             ],
             [
              0.6666666666666666,
              "#ed7953"
             ],
             [
              0.7777777777777778,
              "#fb9f3a"
             ],
             [
              0.8888888888888888,
              "#fdca26"
             ],
             [
              1,
              "#f0f921"
             ]
            ],
            "type": "histogram2d"
           }
          ],
          "histogram2dcontour": [
           {
            "colorbar": {
             "outlinewidth": 0,
             "ticks": ""
            },
            "colorscale": [
             [
              0,
              "#0d0887"
             ],
             [
              0.1111111111111111,
              "#46039f"
             ],
             [
              0.2222222222222222,
              "#7201a8"
             ],
             [
              0.3333333333333333,
              "#9c179e"
             ],
             [
              0.4444444444444444,
              "#bd3786"
             ],
             [
              0.5555555555555556,
              "#d8576b"
             ],
             [
              0.6666666666666666,
              "#ed7953"
             ],
             [
              0.7777777777777778,
              "#fb9f3a"
             ],
             [
              0.8888888888888888,
              "#fdca26"
             ],
             [
              1,
              "#f0f921"
             ]
            ],
            "type": "histogram2dcontour"
           }
          ],
          "mesh3d": [
           {
            "colorbar": {
             "outlinewidth": 0,
             "ticks": ""
            },
            "type": "mesh3d"
           }
          ],
          "parcoords": [
           {
            "line": {
             "colorbar": {
              "outlinewidth": 0,
              "ticks": ""
             }
            },
            "type": "parcoords"
           }
          ],
          "pie": [
           {
            "automargin": true,
            "type": "pie"
           }
          ],
          "scatter": [
           {
            "marker": {
             "colorbar": {
              "outlinewidth": 0,
              "ticks": ""
             }
            },
            "type": "scatter"
           }
          ],
          "scatter3d": [
           {
            "line": {
             "colorbar": {
              "outlinewidth": 0,
              "ticks": ""
             }
            },
            "marker": {
             "colorbar": {
              "outlinewidth": 0,
              "ticks": ""
             }
            },
            "type": "scatter3d"
           }
          ],
          "scattercarpet": [
           {
            "marker": {
             "colorbar": {
              "outlinewidth": 0,
              "ticks": ""
             }
            },
            "type": "scattercarpet"
           }
          ],
          "scattergeo": [
           {
            "marker": {
             "colorbar": {
              "outlinewidth": 0,
              "ticks": ""
             }
            },
            "type": "scattergeo"
           }
          ],
          "scattergl": [
           {
            "marker": {
             "colorbar": {
              "outlinewidth": 0,
              "ticks": ""
             }
            },
            "type": "scattergl"
           }
          ],
          "scattermapbox": [
           {
            "marker": {
             "colorbar": {
              "outlinewidth": 0,
              "ticks": ""
             }
            },
            "type": "scattermapbox"
           }
          ],
          "scatterpolar": [
           {
            "marker": {
             "colorbar": {
              "outlinewidth": 0,
              "ticks": ""
             }
            },
            "type": "scatterpolar"
           }
          ],
          "scatterpolargl": [
           {
            "marker": {
             "colorbar": {
              "outlinewidth": 0,
              "ticks": ""
             }
            },
            "type": "scatterpolargl"
           }
          ],
          "scatterternary": [
           {
            "marker": {
             "colorbar": {
              "outlinewidth": 0,
              "ticks": ""
             }
            },
            "type": "scatterternary"
           }
          ],
          "surface": [
           {
            "colorbar": {
             "outlinewidth": 0,
             "ticks": ""
            },
            "colorscale": [
             [
              0,
              "#0d0887"
             ],
             [
              0.1111111111111111,
              "#46039f"
             ],
             [
              0.2222222222222222,
              "#7201a8"
             ],
             [
              0.3333333333333333,
              "#9c179e"
             ],
             [
              0.4444444444444444,
              "#bd3786"
             ],
             [
              0.5555555555555556,
              "#d8576b"
             ],
             [
              0.6666666666666666,
              "#ed7953"
             ],
             [
              0.7777777777777778,
              "#fb9f3a"
             ],
             [
              0.8888888888888888,
              "#fdca26"
             ],
             [
              1,
              "#f0f921"
             ]
            ],
            "type": "surface"
           }
          ],
          "table": [
           {
            "cells": {
             "fill": {
              "color": "#EBF0F8"
             },
             "line": {
              "color": "white"
             }
            },
            "header": {
             "fill": {
              "color": "#C8D4E3"
             },
             "line": {
              "color": "white"
             }
            },
            "type": "table"
           }
          ]
         },
         "layout": {
          "annotationdefaults": {
           "arrowcolor": "#2a3f5f",
           "arrowhead": 0,
           "arrowwidth": 1
          },
          "autotypenumbers": "strict",
          "coloraxis": {
           "colorbar": {
            "outlinewidth": 0,
            "ticks": ""
           }
          },
          "colorscale": {
           "diverging": [
            [
             0,
             "#8e0152"
            ],
            [
             0.1,
             "#c51b7d"
            ],
            [
             0.2,
             "#de77ae"
            ],
            [
             0.3,
             "#f1b6da"
            ],
            [
             0.4,
             "#fde0ef"
            ],
            [
             0.5,
             "#f7f7f7"
            ],
            [
             0.6,
             "#e6f5d0"
            ],
            [
             0.7,
             "#b8e186"
            ],
            [
             0.8,
             "#7fbc41"
            ],
            [
             0.9,
             "#4d9221"
            ],
            [
             1,
             "#276419"
            ]
           ],
           "sequential": [
            [
             0,
             "#0d0887"
            ],
            [
             0.1111111111111111,
             "#46039f"
            ],
            [
             0.2222222222222222,
             "#7201a8"
            ],
            [
             0.3333333333333333,
             "#9c179e"
            ],
            [
             0.4444444444444444,
             "#bd3786"
            ],
            [
             0.5555555555555556,
             "#d8576b"
            ],
            [
             0.6666666666666666,
             "#ed7953"
            ],
            [
             0.7777777777777778,
             "#fb9f3a"
            ],
            [
             0.8888888888888888,
             "#fdca26"
            ],
            [
             1,
             "#f0f921"
            ]
           ],
           "sequentialminus": [
            [
             0,
             "#0d0887"
            ],
            [
             0.1111111111111111,
             "#46039f"
            ],
            [
             0.2222222222222222,
             "#7201a8"
            ],
            [
             0.3333333333333333,
             "#9c179e"
            ],
            [
             0.4444444444444444,
             "#bd3786"
            ],
            [
             0.5555555555555556,
             "#d8576b"
            ],
            [
             0.6666666666666666,
             "#ed7953"
            ],
            [
             0.7777777777777778,
             "#fb9f3a"
            ],
            [
             0.8888888888888888,
             "#fdca26"
            ],
            [
             1,
             "#f0f921"
            ]
           ]
          },
          "colorway": [
           "#636efa",
           "#EF553B",
           "#00cc96",
           "#ab63fa",
           "#FFA15A",
           "#19d3f3",
           "#FF6692",
           "#B6E880",
           "#FF97FF",
           "#FECB52"
          ],
          "font": {
           "color": "#2a3f5f"
          },
          "geo": {
           "bgcolor": "white",
           "lakecolor": "white",
           "landcolor": "#E5ECF6",
           "showlakes": true,
           "showland": true,
           "subunitcolor": "white"
          },
          "hoverlabel": {
           "align": "left"
          },
          "hovermode": "closest",
          "mapbox": {
           "style": "light"
          },
          "paper_bgcolor": "white",
          "plot_bgcolor": "#E5ECF6",
          "polar": {
           "angularaxis": {
            "gridcolor": "white",
            "linecolor": "white",
            "ticks": ""
           },
           "bgcolor": "#E5ECF6",
           "radialaxis": {
            "gridcolor": "white",
            "linecolor": "white",
            "ticks": ""
           }
          },
          "scene": {
           "xaxis": {
            "backgroundcolor": "#E5ECF6",
            "gridcolor": "white",
            "gridwidth": 2,
            "linecolor": "white",
            "showbackground": true,
            "ticks": "",
            "zerolinecolor": "white"
           },
           "yaxis": {
            "backgroundcolor": "#E5ECF6",
            "gridcolor": "white",
            "gridwidth": 2,
            "linecolor": "white",
            "showbackground": true,
            "ticks": "",
            "zerolinecolor": "white"
           },
           "zaxis": {
            "backgroundcolor": "#E5ECF6",
            "gridcolor": "white",
            "gridwidth": 2,
            "linecolor": "white",
            "showbackground": true,
            "ticks": "",
            "zerolinecolor": "white"
           }
          },
          "shapedefaults": {
           "line": {
            "color": "#2a3f5f"
           }
          },
          "ternary": {
           "aaxis": {
            "gridcolor": "white",
            "linecolor": "white",
            "ticks": ""
           },
           "baxis": {
            "gridcolor": "white",
            "linecolor": "white",
            "ticks": ""
           },
           "bgcolor": "#E5ECF6",
           "caxis": {
            "gridcolor": "white",
            "linecolor": "white",
            "ticks": ""
           }
          },
          "title": {
           "x": 0.05
          },
          "xaxis": {
           "automargin": true,
           "gridcolor": "white",
           "linecolor": "white",
           "ticks": "",
           "title": {
            "standoff": 15
           },
           "zerolinecolor": "white",
           "zerolinewidth": 2
          },
          "yaxis": {
           "automargin": true,
           "gridcolor": "white",
           "linecolor": "white",
           "ticks": "",
           "title": {
            "standoff": 15
           },
           "zerolinecolor": "white",
           "zerolinewidth": 2
          }
         }
        },
        "title": {
         "font": {
          "color": "#4D5663"
         }
        },
        "xaxis": {
         "gridcolor": "#E1E5ED",
         "showgrid": true,
         "tickfont": {
          "color": "#4D5663"
         },
         "title": {
          "font": {
           "color": "#4D5663"
          },
          "text": ""
         },
         "zerolinecolor": "#E1E5ED"
        },
        "yaxis": {
         "gridcolor": "#E1E5ED",
         "showgrid": true,
         "tickfont": {
          "color": "#4D5663"
         },
         "title": {
          "font": {
           "color": "#4D5663"
          },
          "text": ""
         },
         "zerolinecolor": "#E1E5ED"
        }
       }
      },
      "text/html": [
       "<div>                            <div id=\"04e08ae4-a86b-4926-8411-c7270cb668dc\" class=\"plotly-graph-div\" style=\"height:525px; width:100%;\"></div>            <script type=\"text/javascript\">                require([\"plotly\"], function(Plotly) {                    window.PLOTLYENV=window.PLOTLYENV || {};\n",
       "                    window.PLOTLYENV.BASE_URL='https://plot.ly';                                    if (document.getElementById(\"04e08ae4-a86b-4926-8411-c7270cb668dc\")) {                    Plotly.newPlot(                        \"04e08ae4-a86b-4926-8411-c7270cb668dc\",                        [{\"line\":{\"color\":\"rgba(255, 153, 51, 1.0)\",\"dash\":\"solid\",\"shape\":\"linear\",\"width\":1.3},\"marker\":{\"size\":10,\"symbol\":\"circle\"},\"mode\":\"markers\",\"name\":\"B\",\"text\":\"\",\"type\":\"scatter\",\"x\":[2.589041960375388,0.46446495832878104,-1.8622342467167692,0.44748282470611106,0.5183570648847058,0.12564036024206882,-0.24671833426783726,1.462267278267704,0.6501389382278583,-0.6672168110888695,1.0747847894423825,-0.8495646586597335,0.8803409704941809,0.8276737448827238,-1.9844611168258537,-0.5824346509596668,0.31244403542215765,-1.9058846467784096,1.534946502058969,0.03365006500295044,-0.29023183110114703,0.3634249740106572,-0.2711593909409654,-0.9132127122770319,-1.5297006715639065,1.8365899649961515,0.997620536569792,-0.2682830090953816,-0.9920391126364365,-1.1288479078430984,-0.008960344604379092,0.08630969741946837,0.46474673901283703,1.080017337225342,1.4661189565799466,1.7757481260571573,0.3205119277722951,-0.1798124223086815,-0.4958536804162443,-1.0824042969488221,0.6888694888308021,-0.5554454322639867,1.1331849620973518,0.707328075472143,1.5136541614709633,-0.15648423529358677,-0.1433778469159636,-0.40468586905849585,-1.1744432881168483,-1.1803866454136969,0.08701772484394507,0.5103821267093613,-0.7433404424157205,-1.3161156299617915,0.723862166500837,0.0026211503152519856,0.6319910333015367,-0.7800163727009063,0.35886810605281194,-0.8301763834854368,-0.8524457756811449,0.9092763928827187,1.386293842292832,0.6190688873352528,-0.7452238959623145,-0.10530966041008744,0.6046632526320624,0.5577696731869712,-0.2920090900408622,0.24765258184426459,0.24614719012597427,-0.5867004475301311,-0.6851305364461912,-0.3361131907069222,0.6096750683088648,0.40561099150908214,-1.0722447247968594,-0.8429016314669159,-1.1413614153611717,0.003590536584902493,0.34212167559255774,0.6196242646627494,1.3374433126596188,0.783739897292725,-0.21978813559000052,1.310680446778554,-2.1203859731935624,-0.012493364965072527,1.5567907256747087,-0.09070771602794563,1.4609853837943934,-0.08854349224959014,-0.856791361064138,1.0297475656962671,0.42198118265890605,-1.03460399441633,0.3735845230130623,-0.9241538869607678,1.570150040609835,1.321593659953714],\"y\":[0.3628951277929951,-0.3370451361478144,1.3231291351782233,1.4619849953879063,2.117158857110377,-0.4278911070438518,0.7344388751372461,-0.550323658824948,2.289515694879591,0.30742068285265095,-0.43977407824993986,-0.48884334734707185,-0.035511693272353935,-0.5342855677426966,-0.48180500751838384,-0.5402177259755799,-0.4257760630492741,0.7481064580560373,0.38511250543185005,0.8948997926718579,0.5536185568036587,-0.6179898772826783,-0.7373935557874557,-0.6587419190524676,-0.7908486650543705,1.9579085993292384,1.0227320867440015,0.08107381074532037,-1.0480676019418818,-0.038411630922692945,-0.43553368154143673,0.30547134666727555,0.31837764643846567,-1.2142755537571501,-1.33773432084597,-0.7116738068907645,0.9183167283589629,1.4743458775421812,-0.8431681057751841,0.43131204721851857,-0.9552574710960884,1.360748437511149,0.17242502311920802,-0.1770824993618998,-1.2597307314975406,0.10361795124246964,-0.18102523650578423,1.9573674380123398,-1.9199468808812759,1.4147956826988282,-0.9874818136598563,-0.7022202694544329,-0.5705377079294096,-0.7181380869066,-1.5780613890451551,1.8132684520903277,-0.04335726224652799,-0.622068537839199,0.49221363767893667,1.3014197695620342,1.2885602911496903,-2.8538900169933634,0.25687937793931975,-0.9849351141966023,0.12599618770693463,0.34654139867809725,1.6403611743900608,0.34133072787434726,-0.3534901678291325,-1.3064588907422594,-0.4066703765884158,-1.9235557950647617,-0.7594602183434284,-0.7594261635516536,-0.29650932390946017,-0.7528925452720961,-0.026538330860710606,-0.7006225652800655,0.08891626131943374,-0.9241877460937217,1.1524864431883304,-1.5516429203762085,-0.7512503489892757,-0.2172506305976222,-0.3702813233079158,-1.6215454634160695,0.8196735120810899,-0.7064143748530674,-1.4730559538526578,1.2335673831613592,-1.7081096406580358,-0.6861292538606032,0.4460871106918229,2.145446758488049,-1.1984764313861387,0.9179123015415466,1.97791814986797,1.421128192119911,1.0233477071069101,-0.45111783720311166]}],                        {\"legend\":{\"bgcolor\":\"#F5F6F9\",\"font\":{\"color\":\"#4D5663\"}},\"paper_bgcolor\":\"#F5F6F9\",\"plot_bgcolor\":\"#F5F6F9\",\"template\":{\"data\":{\"bar\":[{\"error_x\":{\"color\":\"#2a3f5f\"},\"error_y\":{\"color\":\"#2a3f5f\"},\"marker\":{\"line\":{\"color\":\"#E5ECF6\",\"width\":0.5},\"pattern\":{\"fillmode\":\"overlay\",\"size\":10,\"solidity\":0.2}},\"type\":\"bar\"}],\"barpolar\":[{\"marker\":{\"line\":{\"color\":\"#E5ECF6\",\"width\":0.5},\"pattern\":{\"fillmode\":\"overlay\",\"size\":10,\"solidity\":0.2}},\"type\":\"barpolar\"}],\"carpet\":[{\"aaxis\":{\"endlinecolor\":\"#2a3f5f\",\"gridcolor\":\"white\",\"linecolor\":\"white\",\"minorgridcolor\":\"white\",\"startlinecolor\":\"#2a3f5f\"},\"baxis\":{\"endlinecolor\":\"#2a3f5f\",\"gridcolor\":\"white\",\"linecolor\":\"white\",\"minorgridcolor\":\"white\",\"startlinecolor\":\"#2a3f5f\"},\"type\":\"carpet\"}],\"choropleth\":[{\"colorbar\":{\"outlinewidth\":0,\"ticks\":\"\"},\"type\":\"choropleth\"}],\"contour\":[{\"colorbar\":{\"outlinewidth\":0,\"ticks\":\"\"},\"colorscale\":[[0.0,\"#0d0887\"],[0.1111111111111111,\"#46039f\"],[0.2222222222222222,\"#7201a8\"],[0.3333333333333333,\"#9c179e\"],[0.4444444444444444,\"#bd3786\"],[0.5555555555555556,\"#d8576b\"],[0.6666666666666666,\"#ed7953\"],[0.7777777777777778,\"#fb9f3a\"],[0.8888888888888888,\"#fdca26\"],[1.0,\"#f0f921\"]],\"type\":\"contour\"}],\"contourcarpet\":[{\"colorbar\":{\"outlinewidth\":0,\"ticks\":\"\"},\"type\":\"contourcarpet\"}],\"heatmap\":[{\"colorbar\":{\"outlinewidth\":0,\"ticks\":\"\"},\"colorscale\":[[0.0,\"#0d0887\"],[0.1111111111111111,\"#46039f\"],[0.2222222222222222,\"#7201a8\"],[0.3333333333333333,\"#9c179e\"],[0.4444444444444444,\"#bd3786\"],[0.5555555555555556,\"#d8576b\"],[0.6666666666666666,\"#ed7953\"],[0.7777777777777778,\"#fb9f3a\"],[0.8888888888888888,\"#fdca26\"],[1.0,\"#f0f921\"]],\"type\":\"heatmap\"}],\"heatmapgl\":[{\"colorbar\":{\"outlinewidth\":0,\"ticks\":\"\"},\"colorscale\":[[0.0,\"#0d0887\"],[0.1111111111111111,\"#46039f\"],[0.2222222222222222,\"#7201a8\"],[0.3333333333333333,\"#9c179e\"],[0.4444444444444444,\"#bd3786\"],[0.5555555555555556,\"#d8576b\"],[0.6666666666666666,\"#ed7953\"],[0.7777777777777778,\"#fb9f3a\"],[0.8888888888888888,\"#fdca26\"],[1.0,\"#f0f921\"]],\"type\":\"heatmapgl\"}],\"histogram\":[{\"marker\":{\"pattern\":{\"fillmode\":\"overlay\",\"size\":10,\"solidity\":0.2}},\"type\":\"histogram\"}],\"histogram2d\":[{\"colorbar\":{\"outlinewidth\":0,\"ticks\":\"\"},\"colorscale\":[[0.0,\"#0d0887\"],[0.1111111111111111,\"#46039f\"],[0.2222222222222222,\"#7201a8\"],[0.3333333333333333,\"#9c179e\"],[0.4444444444444444,\"#bd3786\"],[0.5555555555555556,\"#d8576b\"],[0.6666666666666666,\"#ed7953\"],[0.7777777777777778,\"#fb9f3a\"],[0.8888888888888888,\"#fdca26\"],[1.0,\"#f0f921\"]],\"type\":\"histogram2d\"}],\"histogram2dcontour\":[{\"colorbar\":{\"outlinewidth\":0,\"ticks\":\"\"},\"colorscale\":[[0.0,\"#0d0887\"],[0.1111111111111111,\"#46039f\"],[0.2222222222222222,\"#7201a8\"],[0.3333333333333333,\"#9c179e\"],[0.4444444444444444,\"#bd3786\"],[0.5555555555555556,\"#d8576b\"],[0.6666666666666666,\"#ed7953\"],[0.7777777777777778,\"#fb9f3a\"],[0.8888888888888888,\"#fdca26\"],[1.0,\"#f0f921\"]],\"type\":\"histogram2dcontour\"}],\"mesh3d\":[{\"colorbar\":{\"outlinewidth\":0,\"ticks\":\"\"},\"type\":\"mesh3d\"}],\"parcoords\":[{\"line\":{\"colorbar\":{\"outlinewidth\":0,\"ticks\":\"\"}},\"type\":\"parcoords\"}],\"pie\":[{\"automargin\":true,\"type\":\"pie\"}],\"scatter\":[{\"marker\":{\"colorbar\":{\"outlinewidth\":0,\"ticks\":\"\"}},\"type\":\"scatter\"}],\"scatter3d\":[{\"line\":{\"colorbar\":{\"outlinewidth\":0,\"ticks\":\"\"}},\"marker\":{\"colorbar\":{\"outlinewidth\":0,\"ticks\":\"\"}},\"type\":\"scatter3d\"}],\"scattercarpet\":[{\"marker\":{\"colorbar\":{\"outlinewidth\":0,\"ticks\":\"\"}},\"type\":\"scattercarpet\"}],\"scattergeo\":[{\"marker\":{\"colorbar\":{\"outlinewidth\":0,\"ticks\":\"\"}},\"type\":\"scattergeo\"}],\"scattergl\":[{\"marker\":{\"colorbar\":{\"outlinewidth\":0,\"ticks\":\"\"}},\"type\":\"scattergl\"}],\"scattermapbox\":[{\"marker\":{\"colorbar\":{\"outlinewidth\":0,\"ticks\":\"\"}},\"type\":\"scattermapbox\"}],\"scatterpolar\":[{\"marker\":{\"colorbar\":{\"outlinewidth\":0,\"ticks\":\"\"}},\"type\":\"scatterpolar\"}],\"scatterpolargl\":[{\"marker\":{\"colorbar\":{\"outlinewidth\":0,\"ticks\":\"\"}},\"type\":\"scatterpolargl\"}],\"scatterternary\":[{\"marker\":{\"colorbar\":{\"outlinewidth\":0,\"ticks\":\"\"}},\"type\":\"scatterternary\"}],\"surface\":[{\"colorbar\":{\"outlinewidth\":0,\"ticks\":\"\"},\"colorscale\":[[0.0,\"#0d0887\"],[0.1111111111111111,\"#46039f\"],[0.2222222222222222,\"#7201a8\"],[0.3333333333333333,\"#9c179e\"],[0.4444444444444444,\"#bd3786\"],[0.5555555555555556,\"#d8576b\"],[0.6666666666666666,\"#ed7953\"],[0.7777777777777778,\"#fb9f3a\"],[0.8888888888888888,\"#fdca26\"],[1.0,\"#f0f921\"]],\"type\":\"surface\"}],\"table\":[{\"cells\":{\"fill\":{\"color\":\"#EBF0F8\"},\"line\":{\"color\":\"white\"}},\"header\":{\"fill\":{\"color\":\"#C8D4E3\"},\"line\":{\"color\":\"white\"}},\"type\":\"table\"}]},\"layout\":{\"annotationdefaults\":{\"arrowcolor\":\"#2a3f5f\",\"arrowhead\":0,\"arrowwidth\":1},\"autotypenumbers\":\"strict\",\"coloraxis\":{\"colorbar\":{\"outlinewidth\":0,\"ticks\":\"\"}},\"colorscale\":{\"diverging\":[[0,\"#8e0152\"],[0.1,\"#c51b7d\"],[0.2,\"#de77ae\"],[0.3,\"#f1b6da\"],[0.4,\"#fde0ef\"],[0.5,\"#f7f7f7\"],[0.6,\"#e6f5d0\"],[0.7,\"#b8e186\"],[0.8,\"#7fbc41\"],[0.9,\"#4d9221\"],[1,\"#276419\"]],\"sequential\":[[0.0,\"#0d0887\"],[0.1111111111111111,\"#46039f\"],[0.2222222222222222,\"#7201a8\"],[0.3333333333333333,\"#9c179e\"],[0.4444444444444444,\"#bd3786\"],[0.5555555555555556,\"#d8576b\"],[0.6666666666666666,\"#ed7953\"],[0.7777777777777778,\"#fb9f3a\"],[0.8888888888888888,\"#fdca26\"],[1.0,\"#f0f921\"]],\"sequentialminus\":[[0.0,\"#0d0887\"],[0.1111111111111111,\"#46039f\"],[0.2222222222222222,\"#7201a8\"],[0.3333333333333333,\"#9c179e\"],[0.4444444444444444,\"#bd3786\"],[0.5555555555555556,\"#d8576b\"],[0.6666666666666666,\"#ed7953\"],[0.7777777777777778,\"#fb9f3a\"],[0.8888888888888888,\"#fdca26\"],[1.0,\"#f0f921\"]]},\"colorway\":[\"#636efa\",\"#EF553B\",\"#00cc96\",\"#ab63fa\",\"#FFA15A\",\"#19d3f3\",\"#FF6692\",\"#B6E880\",\"#FF97FF\",\"#FECB52\"],\"font\":{\"color\":\"#2a3f5f\"},\"geo\":{\"bgcolor\":\"white\",\"lakecolor\":\"white\",\"landcolor\":\"#E5ECF6\",\"showlakes\":true,\"showland\":true,\"subunitcolor\":\"white\"},\"hoverlabel\":{\"align\":\"left\"},\"hovermode\":\"closest\",\"mapbox\":{\"style\":\"light\"},\"paper_bgcolor\":\"white\",\"plot_bgcolor\":\"#E5ECF6\",\"polar\":{\"angularaxis\":{\"gridcolor\":\"white\",\"linecolor\":\"white\",\"ticks\":\"\"},\"bgcolor\":\"#E5ECF6\",\"radialaxis\":{\"gridcolor\":\"white\",\"linecolor\":\"white\",\"ticks\":\"\"}},\"scene\":{\"xaxis\":{\"backgroundcolor\":\"#E5ECF6\",\"gridcolor\":\"white\",\"gridwidth\":2,\"linecolor\":\"white\",\"showbackground\":true,\"ticks\":\"\",\"zerolinecolor\":\"white\"},\"yaxis\":{\"backgroundcolor\":\"#E5ECF6\",\"gridcolor\":\"white\",\"gridwidth\":2,\"linecolor\":\"white\",\"showbackground\":true,\"ticks\":\"\",\"zerolinecolor\":\"white\"},\"zaxis\":{\"backgroundcolor\":\"#E5ECF6\",\"gridcolor\":\"white\",\"gridwidth\":2,\"linecolor\":\"white\",\"showbackground\":true,\"ticks\":\"\",\"zerolinecolor\":\"white\"}},\"shapedefaults\":{\"line\":{\"color\":\"#2a3f5f\"}},\"ternary\":{\"aaxis\":{\"gridcolor\":\"white\",\"linecolor\":\"white\",\"ticks\":\"\"},\"baxis\":{\"gridcolor\":\"white\",\"linecolor\":\"white\",\"ticks\":\"\"},\"bgcolor\":\"#E5ECF6\",\"caxis\":{\"gridcolor\":\"white\",\"linecolor\":\"white\",\"ticks\":\"\"}},\"title\":{\"x\":0.05},\"xaxis\":{\"automargin\":true,\"gridcolor\":\"white\",\"linecolor\":\"white\",\"ticks\":\"\",\"title\":{\"standoff\":15},\"zerolinecolor\":\"white\",\"zerolinewidth\":2},\"yaxis\":{\"automargin\":true,\"gridcolor\":\"white\",\"linecolor\":\"white\",\"ticks\":\"\",\"title\":{\"standoff\":15},\"zerolinecolor\":\"white\",\"zerolinewidth\":2}}},\"title\":{\"font\":{\"color\":\"#4D5663\"}},\"xaxis\":{\"gridcolor\":\"#E1E5ED\",\"showgrid\":true,\"tickfont\":{\"color\":\"#4D5663\"},\"title\":{\"font\":{\"color\":\"#4D5663\"},\"text\":\"\"},\"zerolinecolor\":\"#E1E5ED\"},\"yaxis\":{\"gridcolor\":\"#E1E5ED\",\"showgrid\":true,\"tickfont\":{\"color\":\"#4D5663\"},\"title\":{\"font\":{\"color\":\"#4D5663\"},\"text\":\"\"},\"zerolinecolor\":\"#E1E5ED\"}},                        {\"showLink\": true, \"linkText\": \"Export to plot.ly\", \"plotlyServerURL\": \"https://plot.ly\", \"responsive\": true}                    ).then(function(){\n",
       "                            \n",
       "var gd = document.getElementById('04e08ae4-a86b-4926-8411-c7270cb668dc');\n",
       "var x = new MutationObserver(function (mutations, observer) {{\n",
       "        var display = window.getComputedStyle(gd).display;\n",
       "        if (!display || display === 'none') {{\n",
       "            console.log([gd, 'removed!']);\n",
       "            Plotly.purge(gd);\n",
       "            observer.disconnect();\n",
       "        }}\n",
       "}});\n",
       "\n",
       "// Listen for the removal of the full notebook cells\n",
       "var notebookContainer = gd.closest('#notebook-container');\n",
       "if (notebookContainer) {{\n",
       "    x.observe(notebookContainer, {childList: true});\n",
       "}}\n",
       "\n",
       "// Listen for the clearing of the current output cell\n",
       "var outputEl = gd.closest('.output');\n",
       "if (outputEl) {{\n",
       "    x.observe(outputEl, {childList: true});\n",
       "}}\n",
       "\n",
       "                        })                };                });            </script>        </div>"
      ]
     },
     "metadata": {},
     "output_type": "display_data"
    }
   ],
   "source": [
    "df1.iplot(kind='scatter',x='A',y='B',mode='markers',size=10)"
   ]
  },
  {
   "cell_type": "code",
   "execution_count": 17,
   "id": "0d33e681",
   "metadata": {},
   "outputs": [
    {
     "data": {
      "application/vnd.plotly.v1+json": {
       "config": {
        "linkText": "Export to plot.ly",
        "plotlyServerURL": "https://plot.ly",
        "showLink": true
       },
       "data": [
        {
         "marker": {
          "color": "rgba(255, 153, 51, 0.6)",
          "line": {
           "color": "rgba(255, 153, 51, 1.0)",
           "width": 1
          }
         },
         "name": "Values",
         "orientation": "v",
         "text": "",
         "type": "bar",
         "x": [
          "A",
          "B",
          "C"
         ],
         "y": [
          32,
          43,
          50
         ]
        }
       ],
       "layout": {
        "legend": {
         "bgcolor": "#F5F6F9",
         "font": {
          "color": "#4D5663"
         }
        },
        "paper_bgcolor": "#F5F6F9",
        "plot_bgcolor": "#F5F6F9",
        "template": {
         "data": {
          "bar": [
           {
            "error_x": {
             "color": "#2a3f5f"
            },
            "error_y": {
             "color": "#2a3f5f"
            },
            "marker": {
             "line": {
              "color": "#E5ECF6",
              "width": 0.5
             },
             "pattern": {
              "fillmode": "overlay",
              "size": 10,
              "solidity": 0.2
             }
            },
            "type": "bar"
           }
          ],
          "barpolar": [
           {
            "marker": {
             "line": {
              "color": "#E5ECF6",
              "width": 0.5
             },
             "pattern": {
              "fillmode": "overlay",
              "size": 10,
              "solidity": 0.2
             }
            },
            "type": "barpolar"
           }
          ],
          "carpet": [
           {
            "aaxis": {
             "endlinecolor": "#2a3f5f",
             "gridcolor": "white",
             "linecolor": "white",
             "minorgridcolor": "white",
             "startlinecolor": "#2a3f5f"
            },
            "baxis": {
             "endlinecolor": "#2a3f5f",
             "gridcolor": "white",
             "linecolor": "white",
             "minorgridcolor": "white",
             "startlinecolor": "#2a3f5f"
            },
            "type": "carpet"
           }
          ],
          "choropleth": [
           {
            "colorbar": {
             "outlinewidth": 0,
             "ticks": ""
            },
            "type": "choropleth"
           }
          ],
          "contour": [
           {
            "colorbar": {
             "outlinewidth": 0,
             "ticks": ""
            },
            "colorscale": [
             [
              0,
              "#0d0887"
             ],
             [
              0.1111111111111111,
              "#46039f"
             ],
             [
              0.2222222222222222,
              "#7201a8"
             ],
             [
              0.3333333333333333,
              "#9c179e"
             ],
             [
              0.4444444444444444,
              "#bd3786"
             ],
             [
              0.5555555555555556,
              "#d8576b"
             ],
             [
              0.6666666666666666,
              "#ed7953"
             ],
             [
              0.7777777777777778,
              "#fb9f3a"
             ],
             [
              0.8888888888888888,
              "#fdca26"
             ],
             [
              1,
              "#f0f921"
             ]
            ],
            "type": "contour"
           }
          ],
          "contourcarpet": [
           {
            "colorbar": {
             "outlinewidth": 0,
             "ticks": ""
            },
            "type": "contourcarpet"
           }
          ],
          "heatmap": [
           {
            "colorbar": {
             "outlinewidth": 0,
             "ticks": ""
            },
            "colorscale": [
             [
              0,
              "#0d0887"
             ],
             [
              0.1111111111111111,
              "#46039f"
             ],
             [
              0.2222222222222222,
              "#7201a8"
             ],
             [
              0.3333333333333333,
              "#9c179e"
             ],
             [
              0.4444444444444444,
              "#bd3786"
             ],
             [
              0.5555555555555556,
              "#d8576b"
             ],
             [
              0.6666666666666666,
              "#ed7953"
             ],
             [
              0.7777777777777778,
              "#fb9f3a"
             ],
             [
              0.8888888888888888,
              "#fdca26"
             ],
             [
              1,
              "#f0f921"
             ]
            ],
            "type": "heatmap"
           }
          ],
          "heatmapgl": [
           {
            "colorbar": {
             "outlinewidth": 0,
             "ticks": ""
            },
            "colorscale": [
             [
              0,
              "#0d0887"
             ],
             [
              0.1111111111111111,
              "#46039f"
             ],
             [
              0.2222222222222222,
              "#7201a8"
             ],
             [
              0.3333333333333333,
              "#9c179e"
             ],
             [
              0.4444444444444444,
              "#bd3786"
             ],
             [
              0.5555555555555556,
              "#d8576b"
             ],
             [
              0.6666666666666666,
              "#ed7953"
             ],
             [
              0.7777777777777778,
              "#fb9f3a"
             ],
             [
              0.8888888888888888,
              "#fdca26"
             ],
             [
              1,
              "#f0f921"
             ]
            ],
            "type": "heatmapgl"
           }
          ],
          "histogram": [
           {
            "marker": {
             "pattern": {
              "fillmode": "overlay",
              "size": 10,
              "solidity": 0.2
             }
            },
            "type": "histogram"
           }
          ],
          "histogram2d": [
           {
            "colorbar": {
             "outlinewidth": 0,
             "ticks": ""
            },
            "colorscale": [
             [
              0,
              "#0d0887"
             ],
             [
              0.1111111111111111,
              "#46039f"
             ],
             [
              0.2222222222222222,
              "#7201a8"
             ],
             [
              0.3333333333333333,
              "#9c179e"
             ],
             [
              0.4444444444444444,
              "#bd3786"
             ],
             [
              0.5555555555555556,
              "#d8576b"
             ],
             [
              0.6666666666666666,
              "#ed7953"
             ],
             [
              0.7777777777777778,
              "#fb9f3a"
             ],
             [
              0.8888888888888888,
              "#fdca26"
             ],
             [
              1,
              "#f0f921"
             ]
            ],
            "type": "histogram2d"
           }
          ],
          "histogram2dcontour": [
           {
            "colorbar": {
             "outlinewidth": 0,
             "ticks": ""
            },
            "colorscale": [
             [
              0,
              "#0d0887"
             ],
             [
              0.1111111111111111,
              "#46039f"
             ],
             [
              0.2222222222222222,
              "#7201a8"
             ],
             [
              0.3333333333333333,
              "#9c179e"
             ],
             [
              0.4444444444444444,
              "#bd3786"
             ],
             [
              0.5555555555555556,
              "#d8576b"
             ],
             [
              0.6666666666666666,
              "#ed7953"
             ],
             [
              0.7777777777777778,
              "#fb9f3a"
             ],
             [
              0.8888888888888888,
              "#fdca26"
             ],
             [
              1,
              "#f0f921"
             ]
            ],
            "type": "histogram2dcontour"
           }
          ],
          "mesh3d": [
           {
            "colorbar": {
             "outlinewidth": 0,
             "ticks": ""
            },
            "type": "mesh3d"
           }
          ],
          "parcoords": [
           {
            "line": {
             "colorbar": {
              "outlinewidth": 0,
              "ticks": ""
             }
            },
            "type": "parcoords"
           }
          ],
          "pie": [
           {
            "automargin": true,
            "type": "pie"
           }
          ],
          "scatter": [
           {
            "marker": {
             "colorbar": {
              "outlinewidth": 0,
              "ticks": ""
             }
            },
            "type": "scatter"
           }
          ],
          "scatter3d": [
           {
            "line": {
             "colorbar": {
              "outlinewidth": 0,
              "ticks": ""
             }
            },
            "marker": {
             "colorbar": {
              "outlinewidth": 0,
              "ticks": ""
             }
            },
            "type": "scatter3d"
           }
          ],
          "scattercarpet": [
           {
            "marker": {
             "colorbar": {
              "outlinewidth": 0,
              "ticks": ""
             }
            },
            "type": "scattercarpet"
           }
          ],
          "scattergeo": [
           {
            "marker": {
             "colorbar": {
              "outlinewidth": 0,
              "ticks": ""
             }
            },
            "type": "scattergeo"
           }
          ],
          "scattergl": [
           {
            "marker": {
             "colorbar": {
              "outlinewidth": 0,
              "ticks": ""
             }
            },
            "type": "scattergl"
           }
          ],
          "scattermapbox": [
           {
            "marker": {
             "colorbar": {
              "outlinewidth": 0,
              "ticks": ""
             }
            },
            "type": "scattermapbox"
           }
          ],
          "scatterpolar": [
           {
            "marker": {
             "colorbar": {
              "outlinewidth": 0,
              "ticks": ""
             }
            },
            "type": "scatterpolar"
           }
          ],
          "scatterpolargl": [
           {
            "marker": {
             "colorbar": {
              "outlinewidth": 0,
              "ticks": ""
             }
            },
            "type": "scatterpolargl"
           }
          ],
          "scatterternary": [
           {
            "marker": {
             "colorbar": {
              "outlinewidth": 0,
              "ticks": ""
             }
            },
            "type": "scatterternary"
           }
          ],
          "surface": [
           {
            "colorbar": {
             "outlinewidth": 0,
             "ticks": ""
            },
            "colorscale": [
             [
              0,
              "#0d0887"
             ],
             [
              0.1111111111111111,
              "#46039f"
             ],
             [
              0.2222222222222222,
              "#7201a8"
             ],
             [
              0.3333333333333333,
              "#9c179e"
             ],
             [
              0.4444444444444444,
              "#bd3786"
             ],
             [
              0.5555555555555556,
              "#d8576b"
             ],
             [
              0.6666666666666666,
              "#ed7953"
             ],
             [
              0.7777777777777778,
              "#fb9f3a"
             ],
             [
              0.8888888888888888,
              "#fdca26"
             ],
             [
              1,
              "#f0f921"
             ]
            ],
            "type": "surface"
           }
          ],
          "table": [
           {
            "cells": {
             "fill": {
              "color": "#EBF0F8"
             },
             "line": {
              "color": "white"
             }
            },
            "header": {
             "fill": {
              "color": "#C8D4E3"
             },
             "line": {
              "color": "white"
             }
            },
            "type": "table"
           }
          ]
         },
         "layout": {
          "annotationdefaults": {
           "arrowcolor": "#2a3f5f",
           "arrowhead": 0,
           "arrowwidth": 1
          },
          "autotypenumbers": "strict",
          "coloraxis": {
           "colorbar": {
            "outlinewidth": 0,
            "ticks": ""
           }
          },
          "colorscale": {
           "diverging": [
            [
             0,
             "#8e0152"
            ],
            [
             0.1,
             "#c51b7d"
            ],
            [
             0.2,
             "#de77ae"
            ],
            [
             0.3,
             "#f1b6da"
            ],
            [
             0.4,
             "#fde0ef"
            ],
            [
             0.5,
             "#f7f7f7"
            ],
            [
             0.6,
             "#e6f5d0"
            ],
            [
             0.7,
             "#b8e186"
            ],
            [
             0.8,
             "#7fbc41"
            ],
            [
             0.9,
             "#4d9221"
            ],
            [
             1,
             "#276419"
            ]
           ],
           "sequential": [
            [
             0,
             "#0d0887"
            ],
            [
             0.1111111111111111,
             "#46039f"
            ],
            [
             0.2222222222222222,
             "#7201a8"
            ],
            [
             0.3333333333333333,
             "#9c179e"
            ],
            [
             0.4444444444444444,
             "#bd3786"
            ],
            [
             0.5555555555555556,
             "#d8576b"
            ],
            [
             0.6666666666666666,
             "#ed7953"
            ],
            [
             0.7777777777777778,
             "#fb9f3a"
            ],
            [
             0.8888888888888888,
             "#fdca26"
            ],
            [
             1,
             "#f0f921"
            ]
           ],
           "sequentialminus": [
            [
             0,
             "#0d0887"
            ],
            [
             0.1111111111111111,
             "#46039f"
            ],
            [
             0.2222222222222222,
             "#7201a8"
            ],
            [
             0.3333333333333333,
             "#9c179e"
            ],
            [
             0.4444444444444444,
             "#bd3786"
            ],
            [
             0.5555555555555556,
             "#d8576b"
            ],
            [
             0.6666666666666666,
             "#ed7953"
            ],
            [
             0.7777777777777778,
             "#fb9f3a"
            ],
            [
             0.8888888888888888,
             "#fdca26"
            ],
            [
             1,
             "#f0f921"
            ]
           ]
          },
          "colorway": [
           "#636efa",
           "#EF553B",
           "#00cc96",
           "#ab63fa",
           "#FFA15A",
           "#19d3f3",
           "#FF6692",
           "#B6E880",
           "#FF97FF",
           "#FECB52"
          ],
          "font": {
           "color": "#2a3f5f"
          },
          "geo": {
           "bgcolor": "white",
           "lakecolor": "white",
           "landcolor": "#E5ECF6",
           "showlakes": true,
           "showland": true,
           "subunitcolor": "white"
          },
          "hoverlabel": {
           "align": "left"
          },
          "hovermode": "closest",
          "mapbox": {
           "style": "light"
          },
          "paper_bgcolor": "white",
          "plot_bgcolor": "#E5ECF6",
          "polar": {
           "angularaxis": {
            "gridcolor": "white",
            "linecolor": "white",
            "ticks": ""
           },
           "bgcolor": "#E5ECF6",
           "radialaxis": {
            "gridcolor": "white",
            "linecolor": "white",
            "ticks": ""
           }
          },
          "scene": {
           "xaxis": {
            "backgroundcolor": "#E5ECF6",
            "gridcolor": "white",
            "gridwidth": 2,
            "linecolor": "white",
            "showbackground": true,
            "ticks": "",
            "zerolinecolor": "white"
           },
           "yaxis": {
            "backgroundcolor": "#E5ECF6",
            "gridcolor": "white",
            "gridwidth": 2,
            "linecolor": "white",
            "showbackground": true,
            "ticks": "",
            "zerolinecolor": "white"
           },
           "zaxis": {
            "backgroundcolor": "#E5ECF6",
            "gridcolor": "white",
            "gridwidth": 2,
            "linecolor": "white",
            "showbackground": true,
            "ticks": "",
            "zerolinecolor": "white"
           }
          },
          "shapedefaults": {
           "line": {
            "color": "#2a3f5f"
           }
          },
          "ternary": {
           "aaxis": {
            "gridcolor": "white",
            "linecolor": "white",
            "ticks": ""
           },
           "baxis": {
            "gridcolor": "white",
            "linecolor": "white",
            "ticks": ""
           },
           "bgcolor": "#E5ECF6",
           "caxis": {
            "gridcolor": "white",
            "linecolor": "white",
            "ticks": ""
           }
          },
          "title": {
           "x": 0.05
          },
          "xaxis": {
           "automargin": true,
           "gridcolor": "white",
           "linecolor": "white",
           "ticks": "",
           "title": {
            "standoff": 15
           },
           "zerolinecolor": "white",
           "zerolinewidth": 2
          },
          "yaxis": {
           "automargin": true,
           "gridcolor": "white",
           "linecolor": "white",
           "ticks": "",
           "title": {
            "standoff": 15
           },
           "zerolinecolor": "white",
           "zerolinewidth": 2
          }
         }
        },
        "title": {
         "font": {
          "color": "#4D5663"
         }
        },
        "xaxis": {
         "gridcolor": "#E1E5ED",
         "showgrid": true,
         "tickfont": {
          "color": "#4D5663"
         },
         "title": {
          "font": {
           "color": "#4D5663"
          },
          "text": ""
         },
         "zerolinecolor": "#E1E5ED"
        },
        "yaxis": {
         "gridcolor": "#E1E5ED",
         "showgrid": true,
         "tickfont": {
          "color": "#4D5663"
         },
         "title": {
          "font": {
           "color": "#4D5663"
          },
          "text": ""
         },
         "zerolinecolor": "#E1E5ED"
        }
       }
      },
      "text/html": [
       "<div>                            <div id=\"033b641e-e6e8-46f1-a0db-7a3f73ba7010\" class=\"plotly-graph-div\" style=\"height:525px; width:100%;\"></div>            <script type=\"text/javascript\">                require([\"plotly\"], function(Plotly) {                    window.PLOTLYENV=window.PLOTLYENV || {};\n",
       "                    window.PLOTLYENV.BASE_URL='https://plot.ly';                                    if (document.getElementById(\"033b641e-e6e8-46f1-a0db-7a3f73ba7010\")) {                    Plotly.newPlot(                        \"033b641e-e6e8-46f1-a0db-7a3f73ba7010\",                        [{\"marker\":{\"color\":\"rgba(255, 153, 51, 0.6)\",\"line\":{\"color\":\"rgba(255, 153, 51, 1.0)\",\"width\":1}},\"name\":\"Values\",\"orientation\":\"v\",\"text\":\"\",\"type\":\"bar\",\"x\":[\"A\",\"B\",\"C\"],\"y\":[32,43,50]}],                        {\"legend\":{\"bgcolor\":\"#F5F6F9\",\"font\":{\"color\":\"#4D5663\"}},\"paper_bgcolor\":\"#F5F6F9\",\"plot_bgcolor\":\"#F5F6F9\",\"template\":{\"data\":{\"bar\":[{\"error_x\":{\"color\":\"#2a3f5f\"},\"error_y\":{\"color\":\"#2a3f5f\"},\"marker\":{\"line\":{\"color\":\"#E5ECF6\",\"width\":0.5},\"pattern\":{\"fillmode\":\"overlay\",\"size\":10,\"solidity\":0.2}},\"type\":\"bar\"}],\"barpolar\":[{\"marker\":{\"line\":{\"color\":\"#E5ECF6\",\"width\":0.5},\"pattern\":{\"fillmode\":\"overlay\",\"size\":10,\"solidity\":0.2}},\"type\":\"barpolar\"}],\"carpet\":[{\"aaxis\":{\"endlinecolor\":\"#2a3f5f\",\"gridcolor\":\"white\",\"linecolor\":\"white\",\"minorgridcolor\":\"white\",\"startlinecolor\":\"#2a3f5f\"},\"baxis\":{\"endlinecolor\":\"#2a3f5f\",\"gridcolor\":\"white\",\"linecolor\":\"white\",\"minorgridcolor\":\"white\",\"startlinecolor\":\"#2a3f5f\"},\"type\":\"carpet\"}],\"choropleth\":[{\"colorbar\":{\"outlinewidth\":0,\"ticks\":\"\"},\"type\":\"choropleth\"}],\"contour\":[{\"colorbar\":{\"outlinewidth\":0,\"ticks\":\"\"},\"colorscale\":[[0.0,\"#0d0887\"],[0.1111111111111111,\"#46039f\"],[0.2222222222222222,\"#7201a8\"],[0.3333333333333333,\"#9c179e\"],[0.4444444444444444,\"#bd3786\"],[0.5555555555555556,\"#d8576b\"],[0.6666666666666666,\"#ed7953\"],[0.7777777777777778,\"#fb9f3a\"],[0.8888888888888888,\"#fdca26\"],[1.0,\"#f0f921\"]],\"type\":\"contour\"}],\"contourcarpet\":[{\"colorbar\":{\"outlinewidth\":0,\"ticks\":\"\"},\"type\":\"contourcarpet\"}],\"heatmap\":[{\"colorbar\":{\"outlinewidth\":0,\"ticks\":\"\"},\"colorscale\":[[0.0,\"#0d0887\"],[0.1111111111111111,\"#46039f\"],[0.2222222222222222,\"#7201a8\"],[0.3333333333333333,\"#9c179e\"],[0.4444444444444444,\"#bd3786\"],[0.5555555555555556,\"#d8576b\"],[0.6666666666666666,\"#ed7953\"],[0.7777777777777778,\"#fb9f3a\"],[0.8888888888888888,\"#fdca26\"],[1.0,\"#f0f921\"]],\"type\":\"heatmap\"}],\"heatmapgl\":[{\"colorbar\":{\"outlinewidth\":0,\"ticks\":\"\"},\"colorscale\":[[0.0,\"#0d0887\"],[0.1111111111111111,\"#46039f\"],[0.2222222222222222,\"#7201a8\"],[0.3333333333333333,\"#9c179e\"],[0.4444444444444444,\"#bd3786\"],[0.5555555555555556,\"#d8576b\"],[0.6666666666666666,\"#ed7953\"],[0.7777777777777778,\"#fb9f3a\"],[0.8888888888888888,\"#fdca26\"],[1.0,\"#f0f921\"]],\"type\":\"heatmapgl\"}],\"histogram\":[{\"marker\":{\"pattern\":{\"fillmode\":\"overlay\",\"size\":10,\"solidity\":0.2}},\"type\":\"histogram\"}],\"histogram2d\":[{\"colorbar\":{\"outlinewidth\":0,\"ticks\":\"\"},\"colorscale\":[[0.0,\"#0d0887\"],[0.1111111111111111,\"#46039f\"],[0.2222222222222222,\"#7201a8\"],[0.3333333333333333,\"#9c179e\"],[0.4444444444444444,\"#bd3786\"],[0.5555555555555556,\"#d8576b\"],[0.6666666666666666,\"#ed7953\"],[0.7777777777777778,\"#fb9f3a\"],[0.8888888888888888,\"#fdca26\"],[1.0,\"#f0f921\"]],\"type\":\"histogram2d\"}],\"histogram2dcontour\":[{\"colorbar\":{\"outlinewidth\":0,\"ticks\":\"\"},\"colorscale\":[[0.0,\"#0d0887\"],[0.1111111111111111,\"#46039f\"],[0.2222222222222222,\"#7201a8\"],[0.3333333333333333,\"#9c179e\"],[0.4444444444444444,\"#bd3786\"],[0.5555555555555556,\"#d8576b\"],[0.6666666666666666,\"#ed7953\"],[0.7777777777777778,\"#fb9f3a\"],[0.8888888888888888,\"#fdca26\"],[1.0,\"#f0f921\"]],\"type\":\"histogram2dcontour\"}],\"mesh3d\":[{\"colorbar\":{\"outlinewidth\":0,\"ticks\":\"\"},\"type\":\"mesh3d\"}],\"parcoords\":[{\"line\":{\"colorbar\":{\"outlinewidth\":0,\"ticks\":\"\"}},\"type\":\"parcoords\"}],\"pie\":[{\"automargin\":true,\"type\":\"pie\"}],\"scatter\":[{\"marker\":{\"colorbar\":{\"outlinewidth\":0,\"ticks\":\"\"}},\"type\":\"scatter\"}],\"scatter3d\":[{\"line\":{\"colorbar\":{\"outlinewidth\":0,\"ticks\":\"\"}},\"marker\":{\"colorbar\":{\"outlinewidth\":0,\"ticks\":\"\"}},\"type\":\"scatter3d\"}],\"scattercarpet\":[{\"marker\":{\"colorbar\":{\"outlinewidth\":0,\"ticks\":\"\"}},\"type\":\"scattercarpet\"}],\"scattergeo\":[{\"marker\":{\"colorbar\":{\"outlinewidth\":0,\"ticks\":\"\"}},\"type\":\"scattergeo\"}],\"scattergl\":[{\"marker\":{\"colorbar\":{\"outlinewidth\":0,\"ticks\":\"\"}},\"type\":\"scattergl\"}],\"scattermapbox\":[{\"marker\":{\"colorbar\":{\"outlinewidth\":0,\"ticks\":\"\"}},\"type\":\"scattermapbox\"}],\"scatterpolar\":[{\"marker\":{\"colorbar\":{\"outlinewidth\":0,\"ticks\":\"\"}},\"type\":\"scatterpolar\"}],\"scatterpolargl\":[{\"marker\":{\"colorbar\":{\"outlinewidth\":0,\"ticks\":\"\"}},\"type\":\"scatterpolargl\"}],\"scatterternary\":[{\"marker\":{\"colorbar\":{\"outlinewidth\":0,\"ticks\":\"\"}},\"type\":\"scatterternary\"}],\"surface\":[{\"colorbar\":{\"outlinewidth\":0,\"ticks\":\"\"},\"colorscale\":[[0.0,\"#0d0887\"],[0.1111111111111111,\"#46039f\"],[0.2222222222222222,\"#7201a8\"],[0.3333333333333333,\"#9c179e\"],[0.4444444444444444,\"#bd3786\"],[0.5555555555555556,\"#d8576b\"],[0.6666666666666666,\"#ed7953\"],[0.7777777777777778,\"#fb9f3a\"],[0.8888888888888888,\"#fdca26\"],[1.0,\"#f0f921\"]],\"type\":\"surface\"}],\"table\":[{\"cells\":{\"fill\":{\"color\":\"#EBF0F8\"},\"line\":{\"color\":\"white\"}},\"header\":{\"fill\":{\"color\":\"#C8D4E3\"},\"line\":{\"color\":\"white\"}},\"type\":\"table\"}]},\"layout\":{\"annotationdefaults\":{\"arrowcolor\":\"#2a3f5f\",\"arrowhead\":0,\"arrowwidth\":1},\"autotypenumbers\":\"strict\",\"coloraxis\":{\"colorbar\":{\"outlinewidth\":0,\"ticks\":\"\"}},\"colorscale\":{\"diverging\":[[0,\"#8e0152\"],[0.1,\"#c51b7d\"],[0.2,\"#de77ae\"],[0.3,\"#f1b6da\"],[0.4,\"#fde0ef\"],[0.5,\"#f7f7f7\"],[0.6,\"#e6f5d0\"],[0.7,\"#b8e186\"],[0.8,\"#7fbc41\"],[0.9,\"#4d9221\"],[1,\"#276419\"]],\"sequential\":[[0.0,\"#0d0887\"],[0.1111111111111111,\"#46039f\"],[0.2222222222222222,\"#7201a8\"],[0.3333333333333333,\"#9c179e\"],[0.4444444444444444,\"#bd3786\"],[0.5555555555555556,\"#d8576b\"],[0.6666666666666666,\"#ed7953\"],[0.7777777777777778,\"#fb9f3a\"],[0.8888888888888888,\"#fdca26\"],[1.0,\"#f0f921\"]],\"sequentialminus\":[[0.0,\"#0d0887\"],[0.1111111111111111,\"#46039f\"],[0.2222222222222222,\"#7201a8\"],[0.3333333333333333,\"#9c179e\"],[0.4444444444444444,\"#bd3786\"],[0.5555555555555556,\"#d8576b\"],[0.6666666666666666,\"#ed7953\"],[0.7777777777777778,\"#fb9f3a\"],[0.8888888888888888,\"#fdca26\"],[1.0,\"#f0f921\"]]},\"colorway\":[\"#636efa\",\"#EF553B\",\"#00cc96\",\"#ab63fa\",\"#FFA15A\",\"#19d3f3\",\"#FF6692\",\"#B6E880\",\"#FF97FF\",\"#FECB52\"],\"font\":{\"color\":\"#2a3f5f\"},\"geo\":{\"bgcolor\":\"white\",\"lakecolor\":\"white\",\"landcolor\":\"#E5ECF6\",\"showlakes\":true,\"showland\":true,\"subunitcolor\":\"white\"},\"hoverlabel\":{\"align\":\"left\"},\"hovermode\":\"closest\",\"mapbox\":{\"style\":\"light\"},\"paper_bgcolor\":\"white\",\"plot_bgcolor\":\"#E5ECF6\",\"polar\":{\"angularaxis\":{\"gridcolor\":\"white\",\"linecolor\":\"white\",\"ticks\":\"\"},\"bgcolor\":\"#E5ECF6\",\"radialaxis\":{\"gridcolor\":\"white\",\"linecolor\":\"white\",\"ticks\":\"\"}},\"scene\":{\"xaxis\":{\"backgroundcolor\":\"#E5ECF6\",\"gridcolor\":\"white\",\"gridwidth\":2,\"linecolor\":\"white\",\"showbackground\":true,\"ticks\":\"\",\"zerolinecolor\":\"white\"},\"yaxis\":{\"backgroundcolor\":\"#E5ECF6\",\"gridcolor\":\"white\",\"gridwidth\":2,\"linecolor\":\"white\",\"showbackground\":true,\"ticks\":\"\",\"zerolinecolor\":\"white\"},\"zaxis\":{\"backgroundcolor\":\"#E5ECF6\",\"gridcolor\":\"white\",\"gridwidth\":2,\"linecolor\":\"white\",\"showbackground\":true,\"ticks\":\"\",\"zerolinecolor\":\"white\"}},\"shapedefaults\":{\"line\":{\"color\":\"#2a3f5f\"}},\"ternary\":{\"aaxis\":{\"gridcolor\":\"white\",\"linecolor\":\"white\",\"ticks\":\"\"},\"baxis\":{\"gridcolor\":\"white\",\"linecolor\":\"white\",\"ticks\":\"\"},\"bgcolor\":\"#E5ECF6\",\"caxis\":{\"gridcolor\":\"white\",\"linecolor\":\"white\",\"ticks\":\"\"}},\"title\":{\"x\":0.05},\"xaxis\":{\"automargin\":true,\"gridcolor\":\"white\",\"linecolor\":\"white\",\"ticks\":\"\",\"title\":{\"standoff\":15},\"zerolinecolor\":\"white\",\"zerolinewidth\":2},\"yaxis\":{\"automargin\":true,\"gridcolor\":\"white\",\"linecolor\":\"white\",\"ticks\":\"\",\"title\":{\"standoff\":15},\"zerolinecolor\":\"white\",\"zerolinewidth\":2}}},\"title\":{\"font\":{\"color\":\"#4D5663\"}},\"xaxis\":{\"gridcolor\":\"#E1E5ED\",\"showgrid\":true,\"tickfont\":{\"color\":\"#4D5663\"},\"title\":{\"font\":{\"color\":\"#4D5663\"},\"text\":\"\"},\"zerolinecolor\":\"#E1E5ED\"},\"yaxis\":{\"gridcolor\":\"#E1E5ED\",\"showgrid\":true,\"tickfont\":{\"color\":\"#4D5663\"},\"title\":{\"font\":{\"color\":\"#4D5663\"},\"text\":\"\"},\"zerolinecolor\":\"#E1E5ED\"}},                        {\"showLink\": true, \"linkText\": \"Export to plot.ly\", \"plotlyServerURL\": \"https://plot.ly\", \"responsive\": true}                    ).then(function(){\n",
       "                            \n",
       "var gd = document.getElementById('033b641e-e6e8-46f1-a0db-7a3f73ba7010');\n",
       "var x = new MutationObserver(function (mutations, observer) {{\n",
       "        var display = window.getComputedStyle(gd).display;\n",
       "        if (!display || display === 'none') {{\n",
       "            console.log([gd, 'removed!']);\n",
       "            Plotly.purge(gd);\n",
       "            observer.disconnect();\n",
       "        }}\n",
       "}});\n",
       "\n",
       "// Listen for the removal of the full notebook cells\n",
       "var notebookContainer = gd.closest('#notebook-container');\n",
       "if (notebookContainer) {{\n",
       "    x.observe(notebookContainer, {childList: true});\n",
       "}}\n",
       "\n",
       "// Listen for the clearing of the current output cell\n",
       "var outputEl = gd.closest('.output');\n",
       "if (outputEl) {{\n",
       "    x.observe(outputEl, {childList: true});\n",
       "}}\n",
       "\n",
       "                        })                };                });            </script>        </div>"
      ]
     },
     "metadata": {},
     "output_type": "display_data"
    }
   ],
   "source": [
    "df2.iplot(kind='bar',x='Category',y='Values')"
   ]
  },
  {
   "cell_type": "code",
   "execution_count": 18,
   "id": "30205070",
   "metadata": {},
   "outputs": [
    {
     "data": {
      "application/vnd.plotly.v1+json": {
       "config": {
        "linkText": "Export to plot.ly",
        "plotlyServerURL": "https://plot.ly",
        "showLink": true
       },
       "data": [
        {
         "marker": {
          "color": "rgba(255, 153, 51, 0.6)",
          "line": {
           "color": "rgba(255, 153, 51, 1.0)",
           "width": 1
          }
         },
         "name": "None",
         "orientation": "v",
         "text": "",
         "type": "bar",
         "x": [
          "A",
          "B",
          "C",
          "D"
         ],
         "y": [
          8.837891559134974,
          -3.664303230107587,
          -4.114918624242727,
          -9.003239010348947
         ]
        }
       ],
       "layout": {
        "legend": {
         "bgcolor": "#F5F6F9",
         "font": {
          "color": "#4D5663"
         }
        },
        "paper_bgcolor": "#F5F6F9",
        "plot_bgcolor": "#F5F6F9",
        "template": {
         "data": {
          "bar": [
           {
            "error_x": {
             "color": "#2a3f5f"
            },
            "error_y": {
             "color": "#2a3f5f"
            },
            "marker": {
             "line": {
              "color": "#E5ECF6",
              "width": 0.5
             },
             "pattern": {
              "fillmode": "overlay",
              "size": 10,
              "solidity": 0.2
             }
            },
            "type": "bar"
           }
          ],
          "barpolar": [
           {
            "marker": {
             "line": {
              "color": "#E5ECF6",
              "width": 0.5
             },
             "pattern": {
              "fillmode": "overlay",
              "size": 10,
              "solidity": 0.2
             }
            },
            "type": "barpolar"
           }
          ],
          "carpet": [
           {
            "aaxis": {
             "endlinecolor": "#2a3f5f",
             "gridcolor": "white",
             "linecolor": "white",
             "minorgridcolor": "white",
             "startlinecolor": "#2a3f5f"
            },
            "baxis": {
             "endlinecolor": "#2a3f5f",
             "gridcolor": "white",
             "linecolor": "white",
             "minorgridcolor": "white",
             "startlinecolor": "#2a3f5f"
            },
            "type": "carpet"
           }
          ],
          "choropleth": [
           {
            "colorbar": {
             "outlinewidth": 0,
             "ticks": ""
            },
            "type": "choropleth"
           }
          ],
          "contour": [
           {
            "colorbar": {
             "outlinewidth": 0,
             "ticks": ""
            },
            "colorscale": [
             [
              0,
              "#0d0887"
             ],
             [
              0.1111111111111111,
              "#46039f"
             ],
             [
              0.2222222222222222,
              "#7201a8"
             ],
             [
              0.3333333333333333,
              "#9c179e"
             ],
             [
              0.4444444444444444,
              "#bd3786"
             ],
             [
              0.5555555555555556,
              "#d8576b"
             ],
             [
              0.6666666666666666,
              "#ed7953"
             ],
             [
              0.7777777777777778,
              "#fb9f3a"
             ],
             [
              0.8888888888888888,
              "#fdca26"
             ],
             [
              1,
              "#f0f921"
             ]
            ],
            "type": "contour"
           }
          ],
          "contourcarpet": [
           {
            "colorbar": {
             "outlinewidth": 0,
             "ticks": ""
            },
            "type": "contourcarpet"
           }
          ],
          "heatmap": [
           {
            "colorbar": {
             "outlinewidth": 0,
             "ticks": ""
            },
            "colorscale": [
             [
              0,
              "#0d0887"
             ],
             [
              0.1111111111111111,
              "#46039f"
             ],
             [
              0.2222222222222222,
              "#7201a8"
             ],
             [
              0.3333333333333333,
              "#9c179e"
             ],
             [
              0.4444444444444444,
              "#bd3786"
             ],
             [
              0.5555555555555556,
              "#d8576b"
             ],
             [
              0.6666666666666666,
              "#ed7953"
             ],
             [
              0.7777777777777778,
              "#fb9f3a"
             ],
             [
              0.8888888888888888,
              "#fdca26"
             ],
             [
              1,
              "#f0f921"
             ]
            ],
            "type": "heatmap"
           }
          ],
          "heatmapgl": [
           {
            "colorbar": {
             "outlinewidth": 0,
             "ticks": ""
            },
            "colorscale": [
             [
              0,
              "#0d0887"
             ],
             [
              0.1111111111111111,
              "#46039f"
             ],
             [
              0.2222222222222222,
              "#7201a8"
             ],
             [
              0.3333333333333333,
              "#9c179e"
             ],
             [
              0.4444444444444444,
              "#bd3786"
             ],
             [
              0.5555555555555556,
              "#d8576b"
             ],
             [
              0.6666666666666666,
              "#ed7953"
             ],
             [
              0.7777777777777778,
              "#fb9f3a"
             ],
             [
              0.8888888888888888,
              "#fdca26"
             ],
             [
              1,
              "#f0f921"
             ]
            ],
            "type": "heatmapgl"
           }
          ],
          "histogram": [
           {
            "marker": {
             "pattern": {
              "fillmode": "overlay",
              "size": 10,
              "solidity": 0.2
             }
            },
            "type": "histogram"
           }
          ],
          "histogram2d": [
           {
            "colorbar": {
             "outlinewidth": 0,
             "ticks": ""
            },
            "colorscale": [
             [
              0,
              "#0d0887"
             ],
             [
              0.1111111111111111,
              "#46039f"
             ],
             [
              0.2222222222222222,
              "#7201a8"
             ],
             [
              0.3333333333333333,
              "#9c179e"
             ],
             [
              0.4444444444444444,
              "#bd3786"
             ],
             [
              0.5555555555555556,
              "#d8576b"
             ],
             [
              0.6666666666666666,
              "#ed7953"
             ],
             [
              0.7777777777777778,
              "#fb9f3a"
             ],
             [
              0.8888888888888888,
              "#fdca26"
             ],
             [
              1,
              "#f0f921"
             ]
            ],
            "type": "histogram2d"
           }
          ],
          "histogram2dcontour": [
           {
            "colorbar": {
             "outlinewidth": 0,
             "ticks": ""
            },
            "colorscale": [
             [
              0,
              "#0d0887"
             ],
             [
              0.1111111111111111,
              "#46039f"
             ],
             [
              0.2222222222222222,
              "#7201a8"
             ],
             [
              0.3333333333333333,
              "#9c179e"
             ],
             [
              0.4444444444444444,
              "#bd3786"
             ],
             [
              0.5555555555555556,
              "#d8576b"
             ],
             [
              0.6666666666666666,
              "#ed7953"
             ],
             [
              0.7777777777777778,
              "#fb9f3a"
             ],
             [
              0.8888888888888888,
              "#fdca26"
             ],
             [
              1,
              "#f0f921"
             ]
            ],
            "type": "histogram2dcontour"
           }
          ],
          "mesh3d": [
           {
            "colorbar": {
             "outlinewidth": 0,
             "ticks": ""
            },
            "type": "mesh3d"
           }
          ],
          "parcoords": [
           {
            "line": {
             "colorbar": {
              "outlinewidth": 0,
              "ticks": ""
             }
            },
            "type": "parcoords"
           }
          ],
          "pie": [
           {
            "automargin": true,
            "type": "pie"
           }
          ],
          "scatter": [
           {
            "marker": {
             "colorbar": {
              "outlinewidth": 0,
              "ticks": ""
             }
            },
            "type": "scatter"
           }
          ],
          "scatter3d": [
           {
            "line": {
             "colorbar": {
              "outlinewidth": 0,
              "ticks": ""
             }
            },
            "marker": {
             "colorbar": {
              "outlinewidth": 0,
              "ticks": ""
             }
            },
            "type": "scatter3d"
           }
          ],
          "scattercarpet": [
           {
            "marker": {
             "colorbar": {
              "outlinewidth": 0,
              "ticks": ""
             }
            },
            "type": "scattercarpet"
           }
          ],
          "scattergeo": [
           {
            "marker": {
             "colorbar": {
              "outlinewidth": 0,
              "ticks": ""
             }
            },
            "type": "scattergeo"
           }
          ],
          "scattergl": [
           {
            "marker": {
             "colorbar": {
              "outlinewidth": 0,
              "ticks": ""
             }
            },
            "type": "scattergl"
           }
          ],
          "scattermapbox": [
           {
            "marker": {
             "colorbar": {
              "outlinewidth": 0,
              "ticks": ""
             }
            },
            "type": "scattermapbox"
           }
          ],
          "scatterpolar": [
           {
            "marker": {
             "colorbar": {
              "outlinewidth": 0,
              "ticks": ""
             }
            },
            "type": "scatterpolar"
           }
          ],
          "scatterpolargl": [
           {
            "marker": {
             "colorbar": {
              "outlinewidth": 0,
              "ticks": ""
             }
            },
            "type": "scatterpolargl"
           }
          ],
          "scatterternary": [
           {
            "marker": {
             "colorbar": {
              "outlinewidth": 0,
              "ticks": ""
             }
            },
            "type": "scatterternary"
           }
          ],
          "surface": [
           {
            "colorbar": {
             "outlinewidth": 0,
             "ticks": ""
            },
            "colorscale": [
             [
              0,
              "#0d0887"
             ],
             [
              0.1111111111111111,
              "#46039f"
             ],
             [
              0.2222222222222222,
              "#7201a8"
             ],
             [
              0.3333333333333333,
              "#9c179e"
             ],
             [
              0.4444444444444444,
              "#bd3786"
             ],
             [
              0.5555555555555556,
              "#d8576b"
             ],
             [
              0.6666666666666666,
              "#ed7953"
             ],
             [
              0.7777777777777778,
              "#fb9f3a"
             ],
             [
              0.8888888888888888,
              "#fdca26"
             ],
             [
              1,
              "#f0f921"
             ]
            ],
            "type": "surface"
           }
          ],
          "table": [
           {
            "cells": {
             "fill": {
              "color": "#EBF0F8"
             },
             "line": {
              "color": "white"
             }
            },
            "header": {
             "fill": {
              "color": "#C8D4E3"
             },
             "line": {
              "color": "white"
             }
            },
            "type": "table"
           }
          ]
         },
         "layout": {
          "annotationdefaults": {
           "arrowcolor": "#2a3f5f",
           "arrowhead": 0,
           "arrowwidth": 1
          },
          "autotypenumbers": "strict",
          "coloraxis": {
           "colorbar": {
            "outlinewidth": 0,
            "ticks": ""
           }
          },
          "colorscale": {
           "diverging": [
            [
             0,
             "#8e0152"
            ],
            [
             0.1,
             "#c51b7d"
            ],
            [
             0.2,
             "#de77ae"
            ],
            [
             0.3,
             "#f1b6da"
            ],
            [
             0.4,
             "#fde0ef"
            ],
            [
             0.5,
             "#f7f7f7"
            ],
            [
             0.6,
             "#e6f5d0"
            ],
            [
             0.7,
             "#b8e186"
            ],
            [
             0.8,
             "#7fbc41"
            ],
            [
             0.9,
             "#4d9221"
            ],
            [
             1,
             "#276419"
            ]
           ],
           "sequential": [
            [
             0,
             "#0d0887"
            ],
            [
             0.1111111111111111,
             "#46039f"
            ],
            [
             0.2222222222222222,
             "#7201a8"
            ],
            [
             0.3333333333333333,
             "#9c179e"
            ],
            [
             0.4444444444444444,
             "#bd3786"
            ],
            [
             0.5555555555555556,
             "#d8576b"
            ],
            [
             0.6666666666666666,
             "#ed7953"
            ],
            [
             0.7777777777777778,
             "#fb9f3a"
            ],
            [
             0.8888888888888888,
             "#fdca26"
            ],
            [
             1,
             "#f0f921"
            ]
           ],
           "sequentialminus": [
            [
             0,
             "#0d0887"
            ],
            [
             0.1111111111111111,
             "#46039f"
            ],
            [
             0.2222222222222222,
             "#7201a8"
            ],
            [
             0.3333333333333333,
             "#9c179e"
            ],
            [
             0.4444444444444444,
             "#bd3786"
            ],
            [
             0.5555555555555556,
             "#d8576b"
            ],
            [
             0.6666666666666666,
             "#ed7953"
            ],
            [
             0.7777777777777778,
             "#fb9f3a"
            ],
            [
             0.8888888888888888,
             "#fdca26"
            ],
            [
             1,
             "#f0f921"
            ]
           ]
          },
          "colorway": [
           "#636efa",
           "#EF553B",
           "#00cc96",
           "#ab63fa",
           "#FFA15A",
           "#19d3f3",
           "#FF6692",
           "#B6E880",
           "#FF97FF",
           "#FECB52"
          ],
          "font": {
           "color": "#2a3f5f"
          },
          "geo": {
           "bgcolor": "white",
           "lakecolor": "white",
           "landcolor": "#E5ECF6",
           "showlakes": true,
           "showland": true,
           "subunitcolor": "white"
          },
          "hoverlabel": {
           "align": "left"
          },
          "hovermode": "closest",
          "mapbox": {
           "style": "light"
          },
          "paper_bgcolor": "white",
          "plot_bgcolor": "#E5ECF6",
          "polar": {
           "angularaxis": {
            "gridcolor": "white",
            "linecolor": "white",
            "ticks": ""
           },
           "bgcolor": "#E5ECF6",
           "radialaxis": {
            "gridcolor": "white",
            "linecolor": "white",
            "ticks": ""
           }
          },
          "scene": {
           "xaxis": {
            "backgroundcolor": "#E5ECF6",
            "gridcolor": "white",
            "gridwidth": 2,
            "linecolor": "white",
            "showbackground": true,
            "ticks": "",
            "zerolinecolor": "white"
           },
           "yaxis": {
            "backgroundcolor": "#E5ECF6",
            "gridcolor": "white",
            "gridwidth": 2,
            "linecolor": "white",
            "showbackground": true,
            "ticks": "",
            "zerolinecolor": "white"
           },
           "zaxis": {
            "backgroundcolor": "#E5ECF6",
            "gridcolor": "white",
            "gridwidth": 2,
            "linecolor": "white",
            "showbackground": true,
            "ticks": "",
            "zerolinecolor": "white"
           }
          },
          "shapedefaults": {
           "line": {
            "color": "#2a3f5f"
           }
          },
          "ternary": {
           "aaxis": {
            "gridcolor": "white",
            "linecolor": "white",
            "ticks": ""
           },
           "baxis": {
            "gridcolor": "white",
            "linecolor": "white",
            "ticks": ""
           },
           "bgcolor": "#E5ECF6",
           "caxis": {
            "gridcolor": "white",
            "linecolor": "white",
            "ticks": ""
           }
          },
          "title": {
           "x": 0.05
          },
          "xaxis": {
           "automargin": true,
           "gridcolor": "white",
           "linecolor": "white",
           "ticks": "",
           "title": {
            "standoff": 15
           },
           "zerolinecolor": "white",
           "zerolinewidth": 2
          },
          "yaxis": {
           "automargin": true,
           "gridcolor": "white",
           "linecolor": "white",
           "ticks": "",
           "title": {
            "standoff": 15
           },
           "zerolinecolor": "white",
           "zerolinewidth": 2
          }
         }
        },
        "title": {
         "font": {
          "color": "#4D5663"
         }
        },
        "xaxis": {
         "gridcolor": "#E1E5ED",
         "showgrid": true,
         "tickfont": {
          "color": "#4D5663"
         },
         "title": {
          "font": {
           "color": "#4D5663"
          },
          "text": ""
         },
         "zerolinecolor": "#E1E5ED"
        },
        "yaxis": {
         "gridcolor": "#E1E5ED",
         "showgrid": true,
         "tickfont": {
          "color": "#4D5663"
         },
         "title": {
          "font": {
           "color": "#4D5663"
          },
          "text": ""
         },
         "zerolinecolor": "#E1E5ED"
        }
       }
      },
      "text/html": [
       "<div>                            <div id=\"54f9b5b8-294e-43f3-adf7-aa4d524d66d2\" class=\"plotly-graph-div\" style=\"height:525px; width:100%;\"></div>            <script type=\"text/javascript\">                require([\"plotly\"], function(Plotly) {                    window.PLOTLYENV=window.PLOTLYENV || {};\n",
       "                    window.PLOTLYENV.BASE_URL='https://plot.ly';                                    if (document.getElementById(\"54f9b5b8-294e-43f3-adf7-aa4d524d66d2\")) {                    Plotly.newPlot(                        \"54f9b5b8-294e-43f3-adf7-aa4d524d66d2\",                        [{\"marker\":{\"color\":\"rgba(255, 153, 51, 0.6)\",\"line\":{\"color\":\"rgba(255, 153, 51, 1.0)\",\"width\":1}},\"name\":\"None\",\"orientation\":\"v\",\"text\":\"\",\"type\":\"bar\",\"x\":[\"A\",\"B\",\"C\",\"D\"],\"y\":[8.837891559134974,-3.664303230107587,-4.114918624242727,-9.003239010348947]}],                        {\"legend\":{\"bgcolor\":\"#F5F6F9\",\"font\":{\"color\":\"#4D5663\"}},\"paper_bgcolor\":\"#F5F6F9\",\"plot_bgcolor\":\"#F5F6F9\",\"template\":{\"data\":{\"bar\":[{\"error_x\":{\"color\":\"#2a3f5f\"},\"error_y\":{\"color\":\"#2a3f5f\"},\"marker\":{\"line\":{\"color\":\"#E5ECF6\",\"width\":0.5},\"pattern\":{\"fillmode\":\"overlay\",\"size\":10,\"solidity\":0.2}},\"type\":\"bar\"}],\"barpolar\":[{\"marker\":{\"line\":{\"color\":\"#E5ECF6\",\"width\":0.5},\"pattern\":{\"fillmode\":\"overlay\",\"size\":10,\"solidity\":0.2}},\"type\":\"barpolar\"}],\"carpet\":[{\"aaxis\":{\"endlinecolor\":\"#2a3f5f\",\"gridcolor\":\"white\",\"linecolor\":\"white\",\"minorgridcolor\":\"white\",\"startlinecolor\":\"#2a3f5f\"},\"baxis\":{\"endlinecolor\":\"#2a3f5f\",\"gridcolor\":\"white\",\"linecolor\":\"white\",\"minorgridcolor\":\"white\",\"startlinecolor\":\"#2a3f5f\"},\"type\":\"carpet\"}],\"choropleth\":[{\"colorbar\":{\"outlinewidth\":0,\"ticks\":\"\"},\"type\":\"choropleth\"}],\"contour\":[{\"colorbar\":{\"outlinewidth\":0,\"ticks\":\"\"},\"colorscale\":[[0.0,\"#0d0887\"],[0.1111111111111111,\"#46039f\"],[0.2222222222222222,\"#7201a8\"],[0.3333333333333333,\"#9c179e\"],[0.4444444444444444,\"#bd3786\"],[0.5555555555555556,\"#d8576b\"],[0.6666666666666666,\"#ed7953\"],[0.7777777777777778,\"#fb9f3a\"],[0.8888888888888888,\"#fdca26\"],[1.0,\"#f0f921\"]],\"type\":\"contour\"}],\"contourcarpet\":[{\"colorbar\":{\"outlinewidth\":0,\"ticks\":\"\"},\"type\":\"contourcarpet\"}],\"heatmap\":[{\"colorbar\":{\"outlinewidth\":0,\"ticks\":\"\"},\"colorscale\":[[0.0,\"#0d0887\"],[0.1111111111111111,\"#46039f\"],[0.2222222222222222,\"#7201a8\"],[0.3333333333333333,\"#9c179e\"],[0.4444444444444444,\"#bd3786\"],[0.5555555555555556,\"#d8576b\"],[0.6666666666666666,\"#ed7953\"],[0.7777777777777778,\"#fb9f3a\"],[0.8888888888888888,\"#fdca26\"],[1.0,\"#f0f921\"]],\"type\":\"heatmap\"}],\"heatmapgl\":[{\"colorbar\":{\"outlinewidth\":0,\"ticks\":\"\"},\"colorscale\":[[0.0,\"#0d0887\"],[0.1111111111111111,\"#46039f\"],[0.2222222222222222,\"#7201a8\"],[0.3333333333333333,\"#9c179e\"],[0.4444444444444444,\"#bd3786\"],[0.5555555555555556,\"#d8576b\"],[0.6666666666666666,\"#ed7953\"],[0.7777777777777778,\"#fb9f3a\"],[0.8888888888888888,\"#fdca26\"],[1.0,\"#f0f921\"]],\"type\":\"heatmapgl\"}],\"histogram\":[{\"marker\":{\"pattern\":{\"fillmode\":\"overlay\",\"size\":10,\"solidity\":0.2}},\"type\":\"histogram\"}],\"histogram2d\":[{\"colorbar\":{\"outlinewidth\":0,\"ticks\":\"\"},\"colorscale\":[[0.0,\"#0d0887\"],[0.1111111111111111,\"#46039f\"],[0.2222222222222222,\"#7201a8\"],[0.3333333333333333,\"#9c179e\"],[0.4444444444444444,\"#bd3786\"],[0.5555555555555556,\"#d8576b\"],[0.6666666666666666,\"#ed7953\"],[0.7777777777777778,\"#fb9f3a\"],[0.8888888888888888,\"#fdca26\"],[1.0,\"#f0f921\"]],\"type\":\"histogram2d\"}],\"histogram2dcontour\":[{\"colorbar\":{\"outlinewidth\":0,\"ticks\":\"\"},\"colorscale\":[[0.0,\"#0d0887\"],[0.1111111111111111,\"#46039f\"],[0.2222222222222222,\"#7201a8\"],[0.3333333333333333,\"#9c179e\"],[0.4444444444444444,\"#bd3786\"],[0.5555555555555556,\"#d8576b\"],[0.6666666666666666,\"#ed7953\"],[0.7777777777777778,\"#fb9f3a\"],[0.8888888888888888,\"#fdca26\"],[1.0,\"#f0f921\"]],\"type\":\"histogram2dcontour\"}],\"mesh3d\":[{\"colorbar\":{\"outlinewidth\":0,\"ticks\":\"\"},\"type\":\"mesh3d\"}],\"parcoords\":[{\"line\":{\"colorbar\":{\"outlinewidth\":0,\"ticks\":\"\"}},\"type\":\"parcoords\"}],\"pie\":[{\"automargin\":true,\"type\":\"pie\"}],\"scatter\":[{\"marker\":{\"colorbar\":{\"outlinewidth\":0,\"ticks\":\"\"}},\"type\":\"scatter\"}],\"scatter3d\":[{\"line\":{\"colorbar\":{\"outlinewidth\":0,\"ticks\":\"\"}},\"marker\":{\"colorbar\":{\"outlinewidth\":0,\"ticks\":\"\"}},\"type\":\"scatter3d\"}],\"scattercarpet\":[{\"marker\":{\"colorbar\":{\"outlinewidth\":0,\"ticks\":\"\"}},\"type\":\"scattercarpet\"}],\"scattergeo\":[{\"marker\":{\"colorbar\":{\"outlinewidth\":0,\"ticks\":\"\"}},\"type\":\"scattergeo\"}],\"scattergl\":[{\"marker\":{\"colorbar\":{\"outlinewidth\":0,\"ticks\":\"\"}},\"type\":\"scattergl\"}],\"scattermapbox\":[{\"marker\":{\"colorbar\":{\"outlinewidth\":0,\"ticks\":\"\"}},\"type\":\"scattermapbox\"}],\"scatterpolar\":[{\"marker\":{\"colorbar\":{\"outlinewidth\":0,\"ticks\":\"\"}},\"type\":\"scatterpolar\"}],\"scatterpolargl\":[{\"marker\":{\"colorbar\":{\"outlinewidth\":0,\"ticks\":\"\"}},\"type\":\"scatterpolargl\"}],\"scatterternary\":[{\"marker\":{\"colorbar\":{\"outlinewidth\":0,\"ticks\":\"\"}},\"type\":\"scatterternary\"}],\"surface\":[{\"colorbar\":{\"outlinewidth\":0,\"ticks\":\"\"},\"colorscale\":[[0.0,\"#0d0887\"],[0.1111111111111111,\"#46039f\"],[0.2222222222222222,\"#7201a8\"],[0.3333333333333333,\"#9c179e\"],[0.4444444444444444,\"#bd3786\"],[0.5555555555555556,\"#d8576b\"],[0.6666666666666666,\"#ed7953\"],[0.7777777777777778,\"#fb9f3a\"],[0.8888888888888888,\"#fdca26\"],[1.0,\"#f0f921\"]],\"type\":\"surface\"}],\"table\":[{\"cells\":{\"fill\":{\"color\":\"#EBF0F8\"},\"line\":{\"color\":\"white\"}},\"header\":{\"fill\":{\"color\":\"#C8D4E3\"},\"line\":{\"color\":\"white\"}},\"type\":\"table\"}]},\"layout\":{\"annotationdefaults\":{\"arrowcolor\":\"#2a3f5f\",\"arrowhead\":0,\"arrowwidth\":1},\"autotypenumbers\":\"strict\",\"coloraxis\":{\"colorbar\":{\"outlinewidth\":0,\"ticks\":\"\"}},\"colorscale\":{\"diverging\":[[0,\"#8e0152\"],[0.1,\"#c51b7d\"],[0.2,\"#de77ae\"],[0.3,\"#f1b6da\"],[0.4,\"#fde0ef\"],[0.5,\"#f7f7f7\"],[0.6,\"#e6f5d0\"],[0.7,\"#b8e186\"],[0.8,\"#7fbc41\"],[0.9,\"#4d9221\"],[1,\"#276419\"]],\"sequential\":[[0.0,\"#0d0887\"],[0.1111111111111111,\"#46039f\"],[0.2222222222222222,\"#7201a8\"],[0.3333333333333333,\"#9c179e\"],[0.4444444444444444,\"#bd3786\"],[0.5555555555555556,\"#d8576b\"],[0.6666666666666666,\"#ed7953\"],[0.7777777777777778,\"#fb9f3a\"],[0.8888888888888888,\"#fdca26\"],[1.0,\"#f0f921\"]],\"sequentialminus\":[[0.0,\"#0d0887\"],[0.1111111111111111,\"#46039f\"],[0.2222222222222222,\"#7201a8\"],[0.3333333333333333,\"#9c179e\"],[0.4444444444444444,\"#bd3786\"],[0.5555555555555556,\"#d8576b\"],[0.6666666666666666,\"#ed7953\"],[0.7777777777777778,\"#fb9f3a\"],[0.8888888888888888,\"#fdca26\"],[1.0,\"#f0f921\"]]},\"colorway\":[\"#636efa\",\"#EF553B\",\"#00cc96\",\"#ab63fa\",\"#FFA15A\",\"#19d3f3\",\"#FF6692\",\"#B6E880\",\"#FF97FF\",\"#FECB52\"],\"font\":{\"color\":\"#2a3f5f\"},\"geo\":{\"bgcolor\":\"white\",\"lakecolor\":\"white\",\"landcolor\":\"#E5ECF6\",\"showlakes\":true,\"showland\":true,\"subunitcolor\":\"white\"},\"hoverlabel\":{\"align\":\"left\"},\"hovermode\":\"closest\",\"mapbox\":{\"style\":\"light\"},\"paper_bgcolor\":\"white\",\"plot_bgcolor\":\"#E5ECF6\",\"polar\":{\"angularaxis\":{\"gridcolor\":\"white\",\"linecolor\":\"white\",\"ticks\":\"\"},\"bgcolor\":\"#E5ECF6\",\"radialaxis\":{\"gridcolor\":\"white\",\"linecolor\":\"white\",\"ticks\":\"\"}},\"scene\":{\"xaxis\":{\"backgroundcolor\":\"#E5ECF6\",\"gridcolor\":\"white\",\"gridwidth\":2,\"linecolor\":\"white\",\"showbackground\":true,\"ticks\":\"\",\"zerolinecolor\":\"white\"},\"yaxis\":{\"backgroundcolor\":\"#E5ECF6\",\"gridcolor\":\"white\",\"gridwidth\":2,\"linecolor\":\"white\",\"showbackground\":true,\"ticks\":\"\",\"zerolinecolor\":\"white\"},\"zaxis\":{\"backgroundcolor\":\"#E5ECF6\",\"gridcolor\":\"white\",\"gridwidth\":2,\"linecolor\":\"white\",\"showbackground\":true,\"ticks\":\"\",\"zerolinecolor\":\"white\"}},\"shapedefaults\":{\"line\":{\"color\":\"#2a3f5f\"}},\"ternary\":{\"aaxis\":{\"gridcolor\":\"white\",\"linecolor\":\"white\",\"ticks\":\"\"},\"baxis\":{\"gridcolor\":\"white\",\"linecolor\":\"white\",\"ticks\":\"\"},\"bgcolor\":\"#E5ECF6\",\"caxis\":{\"gridcolor\":\"white\",\"linecolor\":\"white\",\"ticks\":\"\"}},\"title\":{\"x\":0.05},\"xaxis\":{\"automargin\":true,\"gridcolor\":\"white\",\"linecolor\":\"white\",\"ticks\":\"\",\"title\":{\"standoff\":15},\"zerolinecolor\":\"white\",\"zerolinewidth\":2},\"yaxis\":{\"automargin\":true,\"gridcolor\":\"white\",\"linecolor\":\"white\",\"ticks\":\"\",\"title\":{\"standoff\":15},\"zerolinecolor\":\"white\",\"zerolinewidth\":2}}},\"title\":{\"font\":{\"color\":\"#4D5663\"}},\"xaxis\":{\"gridcolor\":\"#E1E5ED\",\"showgrid\":true,\"tickfont\":{\"color\":\"#4D5663\"},\"title\":{\"font\":{\"color\":\"#4D5663\"},\"text\":\"\"},\"zerolinecolor\":\"#E1E5ED\"},\"yaxis\":{\"gridcolor\":\"#E1E5ED\",\"showgrid\":true,\"tickfont\":{\"color\":\"#4D5663\"},\"title\":{\"font\":{\"color\":\"#4D5663\"},\"text\":\"\"},\"zerolinecolor\":\"#E1E5ED\"}},                        {\"showLink\": true, \"linkText\": \"Export to plot.ly\", \"plotlyServerURL\": \"https://plot.ly\", \"responsive\": true}                    ).then(function(){\n",
       "                            \n",
       "var gd = document.getElementById('54f9b5b8-294e-43f3-adf7-aa4d524d66d2');\n",
       "var x = new MutationObserver(function (mutations, observer) {{\n",
       "        var display = window.getComputedStyle(gd).display;\n",
       "        if (!display || display === 'none') {{\n",
       "            console.log([gd, 'removed!']);\n",
       "            Plotly.purge(gd);\n",
       "            observer.disconnect();\n",
       "        }}\n",
       "}});\n",
       "\n",
       "// Listen for the removal of the full notebook cells\n",
       "var notebookContainer = gd.closest('#notebook-container');\n",
       "if (notebookContainer) {{\n",
       "    x.observe(notebookContainer, {childList: true});\n",
       "}}\n",
       "\n",
       "// Listen for the clearing of the current output cell\n",
       "var outputEl = gd.closest('.output');\n",
       "if (outputEl) {{\n",
       "    x.observe(outputEl, {childList: true});\n",
       "}}\n",
       "\n",
       "                        })                };                });            </script>        </div>"
      ]
     },
     "metadata": {},
     "output_type": "display_data"
    }
   ],
   "source": [
    "df1.sum().iplot(kind='bar')"
   ]
  },
  {
   "cell_type": "code",
   "execution_count": 19,
   "id": "d3783b32",
   "metadata": {},
   "outputs": [
    {
     "data": {
      "application/vnd.plotly.v1+json": {
       "config": {
        "linkText": "Export to plot.ly",
        "plotlyServerURL": "https://plot.ly",
        "showLink": true
       },
       "data": [
        {
         "marker": {
          "color": "rgba(255, 153, 51, 0.6)",
          "line": {
           "color": "rgba(255, 153, 51, 1.0)",
           "width": 1
          }
         },
         "name": "None",
         "orientation": "v",
         "text": "",
         "type": "bar",
         "x": [
          "A",
          "B",
          "C",
          "D"
         ],
         "y": [
          100,
          100,
          100,
          100
         ]
        }
       ],
       "layout": {
        "legend": {
         "bgcolor": "#F5F6F9",
         "font": {
          "color": "#4D5663"
         }
        },
        "paper_bgcolor": "#F5F6F9",
        "plot_bgcolor": "#F5F6F9",
        "template": {
         "data": {
          "bar": [
           {
            "error_x": {
             "color": "#2a3f5f"
            },
            "error_y": {
             "color": "#2a3f5f"
            },
            "marker": {
             "line": {
              "color": "#E5ECF6",
              "width": 0.5
             },
             "pattern": {
              "fillmode": "overlay",
              "size": 10,
              "solidity": 0.2
             }
            },
            "type": "bar"
           }
          ],
          "barpolar": [
           {
            "marker": {
             "line": {
              "color": "#E5ECF6",
              "width": 0.5
             },
             "pattern": {
              "fillmode": "overlay",
              "size": 10,
              "solidity": 0.2
             }
            },
            "type": "barpolar"
           }
          ],
          "carpet": [
           {
            "aaxis": {
             "endlinecolor": "#2a3f5f",
             "gridcolor": "white",
             "linecolor": "white",
             "minorgridcolor": "white",
             "startlinecolor": "#2a3f5f"
            },
            "baxis": {
             "endlinecolor": "#2a3f5f",
             "gridcolor": "white",
             "linecolor": "white",
             "minorgridcolor": "white",
             "startlinecolor": "#2a3f5f"
            },
            "type": "carpet"
           }
          ],
          "choropleth": [
           {
            "colorbar": {
             "outlinewidth": 0,
             "ticks": ""
            },
            "type": "choropleth"
           }
          ],
          "contour": [
           {
            "colorbar": {
             "outlinewidth": 0,
             "ticks": ""
            },
            "colorscale": [
             [
              0,
              "#0d0887"
             ],
             [
              0.1111111111111111,
              "#46039f"
             ],
             [
              0.2222222222222222,
              "#7201a8"
             ],
             [
              0.3333333333333333,
              "#9c179e"
             ],
             [
              0.4444444444444444,
              "#bd3786"
             ],
             [
              0.5555555555555556,
              "#d8576b"
             ],
             [
              0.6666666666666666,
              "#ed7953"
             ],
             [
              0.7777777777777778,
              "#fb9f3a"
             ],
             [
              0.8888888888888888,
              "#fdca26"
             ],
             [
              1,
              "#f0f921"
             ]
            ],
            "type": "contour"
           }
          ],
          "contourcarpet": [
           {
            "colorbar": {
             "outlinewidth": 0,
             "ticks": ""
            },
            "type": "contourcarpet"
           }
          ],
          "heatmap": [
           {
            "colorbar": {
             "outlinewidth": 0,
             "ticks": ""
            },
            "colorscale": [
             [
              0,
              "#0d0887"
             ],
             [
              0.1111111111111111,
              "#46039f"
             ],
             [
              0.2222222222222222,
              "#7201a8"
             ],
             [
              0.3333333333333333,
              "#9c179e"
             ],
             [
              0.4444444444444444,
              "#bd3786"
             ],
             [
              0.5555555555555556,
              "#d8576b"
             ],
             [
              0.6666666666666666,
              "#ed7953"
             ],
             [
              0.7777777777777778,
              "#fb9f3a"
             ],
             [
              0.8888888888888888,
              "#fdca26"
             ],
             [
              1,
              "#f0f921"
             ]
            ],
            "type": "heatmap"
           }
          ],
          "heatmapgl": [
           {
            "colorbar": {
             "outlinewidth": 0,
             "ticks": ""
            },
            "colorscale": [
             [
              0,
              "#0d0887"
             ],
             [
              0.1111111111111111,
              "#46039f"
             ],
             [
              0.2222222222222222,
              "#7201a8"
             ],
             [
              0.3333333333333333,
              "#9c179e"
             ],
             [
              0.4444444444444444,
              "#bd3786"
             ],
             [
              0.5555555555555556,
              "#d8576b"
             ],
             [
              0.6666666666666666,
              "#ed7953"
             ],
             [
              0.7777777777777778,
              "#fb9f3a"
             ],
             [
              0.8888888888888888,
              "#fdca26"
             ],
             [
              1,
              "#f0f921"
             ]
            ],
            "type": "heatmapgl"
           }
          ],
          "histogram": [
           {
            "marker": {
             "pattern": {
              "fillmode": "overlay",
              "size": 10,
              "solidity": 0.2
             }
            },
            "type": "histogram"
           }
          ],
          "histogram2d": [
           {
            "colorbar": {
             "outlinewidth": 0,
             "ticks": ""
            },
            "colorscale": [
             [
              0,
              "#0d0887"
             ],
             [
              0.1111111111111111,
              "#46039f"
             ],
             [
              0.2222222222222222,
              "#7201a8"
             ],
             [
              0.3333333333333333,
              "#9c179e"
             ],
             [
              0.4444444444444444,
              "#bd3786"
             ],
             [
              0.5555555555555556,
              "#d8576b"
             ],
             [
              0.6666666666666666,
              "#ed7953"
             ],
             [
              0.7777777777777778,
              "#fb9f3a"
             ],
             [
              0.8888888888888888,
              "#fdca26"
             ],
             [
              1,
              "#f0f921"
             ]
            ],
            "type": "histogram2d"
           }
          ],
          "histogram2dcontour": [
           {
            "colorbar": {
             "outlinewidth": 0,
             "ticks": ""
            },
            "colorscale": [
             [
              0,
              "#0d0887"
             ],
             [
              0.1111111111111111,
              "#46039f"
             ],
             [
              0.2222222222222222,
              "#7201a8"
             ],
             [
              0.3333333333333333,
              "#9c179e"
             ],
             [
              0.4444444444444444,
              "#bd3786"
             ],
             [
              0.5555555555555556,
              "#d8576b"
             ],
             [
              0.6666666666666666,
              "#ed7953"
             ],
             [
              0.7777777777777778,
              "#fb9f3a"
             ],
             [
              0.8888888888888888,
              "#fdca26"
             ],
             [
              1,
              "#f0f921"
             ]
            ],
            "type": "histogram2dcontour"
           }
          ],
          "mesh3d": [
           {
            "colorbar": {
             "outlinewidth": 0,
             "ticks": ""
            },
            "type": "mesh3d"
           }
          ],
          "parcoords": [
           {
            "line": {
             "colorbar": {
              "outlinewidth": 0,
              "ticks": ""
             }
            },
            "type": "parcoords"
           }
          ],
          "pie": [
           {
            "automargin": true,
            "type": "pie"
           }
          ],
          "scatter": [
           {
            "marker": {
             "colorbar": {
              "outlinewidth": 0,
              "ticks": ""
             }
            },
            "type": "scatter"
           }
          ],
          "scatter3d": [
           {
            "line": {
             "colorbar": {
              "outlinewidth": 0,
              "ticks": ""
             }
            },
            "marker": {
             "colorbar": {
              "outlinewidth": 0,
              "ticks": ""
             }
            },
            "type": "scatter3d"
           }
          ],
          "scattercarpet": [
           {
            "marker": {
             "colorbar": {
              "outlinewidth": 0,
              "ticks": ""
             }
            },
            "type": "scattercarpet"
           }
          ],
          "scattergeo": [
           {
            "marker": {
             "colorbar": {
              "outlinewidth": 0,
              "ticks": ""
             }
            },
            "type": "scattergeo"
           }
          ],
          "scattergl": [
           {
            "marker": {
             "colorbar": {
              "outlinewidth": 0,
              "ticks": ""
             }
            },
            "type": "scattergl"
           }
          ],
          "scattermapbox": [
           {
            "marker": {
             "colorbar": {
              "outlinewidth": 0,
              "ticks": ""
             }
            },
            "type": "scattermapbox"
           }
          ],
          "scatterpolar": [
           {
            "marker": {
             "colorbar": {
              "outlinewidth": 0,
              "ticks": ""
             }
            },
            "type": "scatterpolar"
           }
          ],
          "scatterpolargl": [
           {
            "marker": {
             "colorbar": {
              "outlinewidth": 0,
              "ticks": ""
             }
            },
            "type": "scatterpolargl"
           }
          ],
          "scatterternary": [
           {
            "marker": {
             "colorbar": {
              "outlinewidth": 0,
              "ticks": ""
             }
            },
            "type": "scatterternary"
           }
          ],
          "surface": [
           {
            "colorbar": {
             "outlinewidth": 0,
             "ticks": ""
            },
            "colorscale": [
             [
              0,
              "#0d0887"
             ],
             [
              0.1111111111111111,
              "#46039f"
             ],
             [
              0.2222222222222222,
              "#7201a8"
             ],
             [
              0.3333333333333333,
              "#9c179e"
             ],
             [
              0.4444444444444444,
              "#bd3786"
             ],
             [
              0.5555555555555556,
              "#d8576b"
             ],
             [
              0.6666666666666666,
              "#ed7953"
             ],
             [
              0.7777777777777778,
              "#fb9f3a"
             ],
             [
              0.8888888888888888,
              "#fdca26"
             ],
             [
              1,
              "#f0f921"
             ]
            ],
            "type": "surface"
           }
          ],
          "table": [
           {
            "cells": {
             "fill": {
              "color": "#EBF0F8"
             },
             "line": {
              "color": "white"
             }
            },
            "header": {
             "fill": {
              "color": "#C8D4E3"
             },
             "line": {
              "color": "white"
             }
            },
            "type": "table"
           }
          ]
         },
         "layout": {
          "annotationdefaults": {
           "arrowcolor": "#2a3f5f",
           "arrowhead": 0,
           "arrowwidth": 1
          },
          "autotypenumbers": "strict",
          "coloraxis": {
           "colorbar": {
            "outlinewidth": 0,
            "ticks": ""
           }
          },
          "colorscale": {
           "diverging": [
            [
             0,
             "#8e0152"
            ],
            [
             0.1,
             "#c51b7d"
            ],
            [
             0.2,
             "#de77ae"
            ],
            [
             0.3,
             "#f1b6da"
            ],
            [
             0.4,
             "#fde0ef"
            ],
            [
             0.5,
             "#f7f7f7"
            ],
            [
             0.6,
             "#e6f5d0"
            ],
            [
             0.7,
             "#b8e186"
            ],
            [
             0.8,
             "#7fbc41"
            ],
            [
             0.9,
             "#4d9221"
            ],
            [
             1,
             "#276419"
            ]
           ],
           "sequential": [
            [
             0,
             "#0d0887"
            ],
            [
             0.1111111111111111,
             "#46039f"
            ],
            [
             0.2222222222222222,
             "#7201a8"
            ],
            [
             0.3333333333333333,
             "#9c179e"
            ],
            [
             0.4444444444444444,
             "#bd3786"
            ],
            [
             0.5555555555555556,
             "#d8576b"
            ],
            [
             0.6666666666666666,
             "#ed7953"
            ],
            [
             0.7777777777777778,
             "#fb9f3a"
            ],
            [
             0.8888888888888888,
             "#fdca26"
            ],
            [
             1,
             "#f0f921"
            ]
           ],
           "sequentialminus": [
            [
             0,
             "#0d0887"
            ],
            [
             0.1111111111111111,
             "#46039f"
            ],
            [
             0.2222222222222222,
             "#7201a8"
            ],
            [
             0.3333333333333333,
             "#9c179e"
            ],
            [
             0.4444444444444444,
             "#bd3786"
            ],
            [
             0.5555555555555556,
             "#d8576b"
            ],
            [
             0.6666666666666666,
             "#ed7953"
            ],
            [
             0.7777777777777778,
             "#fb9f3a"
            ],
            [
             0.8888888888888888,
             "#fdca26"
            ],
            [
             1,
             "#f0f921"
            ]
           ]
          },
          "colorway": [
           "#636efa",
           "#EF553B",
           "#00cc96",
           "#ab63fa",
           "#FFA15A",
           "#19d3f3",
           "#FF6692",
           "#B6E880",
           "#FF97FF",
           "#FECB52"
          ],
          "font": {
           "color": "#2a3f5f"
          },
          "geo": {
           "bgcolor": "white",
           "lakecolor": "white",
           "landcolor": "#E5ECF6",
           "showlakes": true,
           "showland": true,
           "subunitcolor": "white"
          },
          "hoverlabel": {
           "align": "left"
          },
          "hovermode": "closest",
          "mapbox": {
           "style": "light"
          },
          "paper_bgcolor": "white",
          "plot_bgcolor": "#E5ECF6",
          "polar": {
           "angularaxis": {
            "gridcolor": "white",
            "linecolor": "white",
            "ticks": ""
           },
           "bgcolor": "#E5ECF6",
           "radialaxis": {
            "gridcolor": "white",
            "linecolor": "white",
            "ticks": ""
           }
          },
          "scene": {
           "xaxis": {
            "backgroundcolor": "#E5ECF6",
            "gridcolor": "white",
            "gridwidth": 2,
            "linecolor": "white",
            "showbackground": true,
            "ticks": "",
            "zerolinecolor": "white"
           },
           "yaxis": {
            "backgroundcolor": "#E5ECF6",
            "gridcolor": "white",
            "gridwidth": 2,
            "linecolor": "white",
            "showbackground": true,
            "ticks": "",
            "zerolinecolor": "white"
           },
           "zaxis": {
            "backgroundcolor": "#E5ECF6",
            "gridcolor": "white",
            "gridwidth": 2,
            "linecolor": "white",
            "showbackground": true,
            "ticks": "",
            "zerolinecolor": "white"
           }
          },
          "shapedefaults": {
           "line": {
            "color": "#2a3f5f"
           }
          },
          "ternary": {
           "aaxis": {
            "gridcolor": "white",
            "linecolor": "white",
            "ticks": ""
           },
           "baxis": {
            "gridcolor": "white",
            "linecolor": "white",
            "ticks": ""
           },
           "bgcolor": "#E5ECF6",
           "caxis": {
            "gridcolor": "white",
            "linecolor": "white",
            "ticks": ""
           }
          },
          "title": {
           "x": 0.05
          },
          "xaxis": {
           "automargin": true,
           "gridcolor": "white",
           "linecolor": "white",
           "ticks": "",
           "title": {
            "standoff": 15
           },
           "zerolinecolor": "white",
           "zerolinewidth": 2
          },
          "yaxis": {
           "automargin": true,
           "gridcolor": "white",
           "linecolor": "white",
           "ticks": "",
           "title": {
            "standoff": 15
           },
           "zerolinecolor": "white",
           "zerolinewidth": 2
          }
         }
        },
        "title": {
         "font": {
          "color": "#4D5663"
         }
        },
        "xaxis": {
         "gridcolor": "#E1E5ED",
         "showgrid": true,
         "tickfont": {
          "color": "#4D5663"
         },
         "title": {
          "font": {
           "color": "#4D5663"
          },
          "text": ""
         },
         "zerolinecolor": "#E1E5ED"
        },
        "yaxis": {
         "gridcolor": "#E1E5ED",
         "showgrid": true,
         "tickfont": {
          "color": "#4D5663"
         },
         "title": {
          "font": {
           "color": "#4D5663"
          },
          "text": ""
         },
         "zerolinecolor": "#E1E5ED"
        }
       }
      },
      "text/html": [
       "<div>                            <div id=\"010ea7ed-e2ba-401c-bea6-908758cc5d08\" class=\"plotly-graph-div\" style=\"height:525px; width:100%;\"></div>            <script type=\"text/javascript\">                require([\"plotly\"], function(Plotly) {                    window.PLOTLYENV=window.PLOTLYENV || {};\n",
       "                    window.PLOTLYENV.BASE_URL='https://plot.ly';                                    if (document.getElementById(\"010ea7ed-e2ba-401c-bea6-908758cc5d08\")) {                    Plotly.newPlot(                        \"010ea7ed-e2ba-401c-bea6-908758cc5d08\",                        [{\"marker\":{\"color\":\"rgba(255, 153, 51, 0.6)\",\"line\":{\"color\":\"rgba(255, 153, 51, 1.0)\",\"width\":1}},\"name\":\"None\",\"orientation\":\"v\",\"text\":\"\",\"type\":\"bar\",\"x\":[\"A\",\"B\",\"C\",\"D\"],\"y\":[100,100,100,100]}],                        {\"legend\":{\"bgcolor\":\"#F5F6F9\",\"font\":{\"color\":\"#4D5663\"}},\"paper_bgcolor\":\"#F5F6F9\",\"plot_bgcolor\":\"#F5F6F9\",\"template\":{\"data\":{\"bar\":[{\"error_x\":{\"color\":\"#2a3f5f\"},\"error_y\":{\"color\":\"#2a3f5f\"},\"marker\":{\"line\":{\"color\":\"#E5ECF6\",\"width\":0.5},\"pattern\":{\"fillmode\":\"overlay\",\"size\":10,\"solidity\":0.2}},\"type\":\"bar\"}],\"barpolar\":[{\"marker\":{\"line\":{\"color\":\"#E5ECF6\",\"width\":0.5},\"pattern\":{\"fillmode\":\"overlay\",\"size\":10,\"solidity\":0.2}},\"type\":\"barpolar\"}],\"carpet\":[{\"aaxis\":{\"endlinecolor\":\"#2a3f5f\",\"gridcolor\":\"white\",\"linecolor\":\"white\",\"minorgridcolor\":\"white\",\"startlinecolor\":\"#2a3f5f\"},\"baxis\":{\"endlinecolor\":\"#2a3f5f\",\"gridcolor\":\"white\",\"linecolor\":\"white\",\"minorgridcolor\":\"white\",\"startlinecolor\":\"#2a3f5f\"},\"type\":\"carpet\"}],\"choropleth\":[{\"colorbar\":{\"outlinewidth\":0,\"ticks\":\"\"},\"type\":\"choropleth\"}],\"contour\":[{\"colorbar\":{\"outlinewidth\":0,\"ticks\":\"\"},\"colorscale\":[[0.0,\"#0d0887\"],[0.1111111111111111,\"#46039f\"],[0.2222222222222222,\"#7201a8\"],[0.3333333333333333,\"#9c179e\"],[0.4444444444444444,\"#bd3786\"],[0.5555555555555556,\"#d8576b\"],[0.6666666666666666,\"#ed7953\"],[0.7777777777777778,\"#fb9f3a\"],[0.8888888888888888,\"#fdca26\"],[1.0,\"#f0f921\"]],\"type\":\"contour\"}],\"contourcarpet\":[{\"colorbar\":{\"outlinewidth\":0,\"ticks\":\"\"},\"type\":\"contourcarpet\"}],\"heatmap\":[{\"colorbar\":{\"outlinewidth\":0,\"ticks\":\"\"},\"colorscale\":[[0.0,\"#0d0887\"],[0.1111111111111111,\"#46039f\"],[0.2222222222222222,\"#7201a8\"],[0.3333333333333333,\"#9c179e\"],[0.4444444444444444,\"#bd3786\"],[0.5555555555555556,\"#d8576b\"],[0.6666666666666666,\"#ed7953\"],[0.7777777777777778,\"#fb9f3a\"],[0.8888888888888888,\"#fdca26\"],[1.0,\"#f0f921\"]],\"type\":\"heatmap\"}],\"heatmapgl\":[{\"colorbar\":{\"outlinewidth\":0,\"ticks\":\"\"},\"colorscale\":[[0.0,\"#0d0887\"],[0.1111111111111111,\"#46039f\"],[0.2222222222222222,\"#7201a8\"],[0.3333333333333333,\"#9c179e\"],[0.4444444444444444,\"#bd3786\"],[0.5555555555555556,\"#d8576b\"],[0.6666666666666666,\"#ed7953\"],[0.7777777777777778,\"#fb9f3a\"],[0.8888888888888888,\"#fdca26\"],[1.0,\"#f0f921\"]],\"type\":\"heatmapgl\"}],\"histogram\":[{\"marker\":{\"pattern\":{\"fillmode\":\"overlay\",\"size\":10,\"solidity\":0.2}},\"type\":\"histogram\"}],\"histogram2d\":[{\"colorbar\":{\"outlinewidth\":0,\"ticks\":\"\"},\"colorscale\":[[0.0,\"#0d0887\"],[0.1111111111111111,\"#46039f\"],[0.2222222222222222,\"#7201a8\"],[0.3333333333333333,\"#9c179e\"],[0.4444444444444444,\"#bd3786\"],[0.5555555555555556,\"#d8576b\"],[0.6666666666666666,\"#ed7953\"],[0.7777777777777778,\"#fb9f3a\"],[0.8888888888888888,\"#fdca26\"],[1.0,\"#f0f921\"]],\"type\":\"histogram2d\"}],\"histogram2dcontour\":[{\"colorbar\":{\"outlinewidth\":0,\"ticks\":\"\"},\"colorscale\":[[0.0,\"#0d0887\"],[0.1111111111111111,\"#46039f\"],[0.2222222222222222,\"#7201a8\"],[0.3333333333333333,\"#9c179e\"],[0.4444444444444444,\"#bd3786\"],[0.5555555555555556,\"#d8576b\"],[0.6666666666666666,\"#ed7953\"],[0.7777777777777778,\"#fb9f3a\"],[0.8888888888888888,\"#fdca26\"],[1.0,\"#f0f921\"]],\"type\":\"histogram2dcontour\"}],\"mesh3d\":[{\"colorbar\":{\"outlinewidth\":0,\"ticks\":\"\"},\"type\":\"mesh3d\"}],\"parcoords\":[{\"line\":{\"colorbar\":{\"outlinewidth\":0,\"ticks\":\"\"}},\"type\":\"parcoords\"}],\"pie\":[{\"automargin\":true,\"type\":\"pie\"}],\"scatter\":[{\"marker\":{\"colorbar\":{\"outlinewidth\":0,\"ticks\":\"\"}},\"type\":\"scatter\"}],\"scatter3d\":[{\"line\":{\"colorbar\":{\"outlinewidth\":0,\"ticks\":\"\"}},\"marker\":{\"colorbar\":{\"outlinewidth\":0,\"ticks\":\"\"}},\"type\":\"scatter3d\"}],\"scattercarpet\":[{\"marker\":{\"colorbar\":{\"outlinewidth\":0,\"ticks\":\"\"}},\"type\":\"scattercarpet\"}],\"scattergeo\":[{\"marker\":{\"colorbar\":{\"outlinewidth\":0,\"ticks\":\"\"}},\"type\":\"scattergeo\"}],\"scattergl\":[{\"marker\":{\"colorbar\":{\"outlinewidth\":0,\"ticks\":\"\"}},\"type\":\"scattergl\"}],\"scattermapbox\":[{\"marker\":{\"colorbar\":{\"outlinewidth\":0,\"ticks\":\"\"}},\"type\":\"scattermapbox\"}],\"scatterpolar\":[{\"marker\":{\"colorbar\":{\"outlinewidth\":0,\"ticks\":\"\"}},\"type\":\"scatterpolar\"}],\"scatterpolargl\":[{\"marker\":{\"colorbar\":{\"outlinewidth\":0,\"ticks\":\"\"}},\"type\":\"scatterpolargl\"}],\"scatterternary\":[{\"marker\":{\"colorbar\":{\"outlinewidth\":0,\"ticks\":\"\"}},\"type\":\"scatterternary\"}],\"surface\":[{\"colorbar\":{\"outlinewidth\":0,\"ticks\":\"\"},\"colorscale\":[[0.0,\"#0d0887\"],[0.1111111111111111,\"#46039f\"],[0.2222222222222222,\"#7201a8\"],[0.3333333333333333,\"#9c179e\"],[0.4444444444444444,\"#bd3786\"],[0.5555555555555556,\"#d8576b\"],[0.6666666666666666,\"#ed7953\"],[0.7777777777777778,\"#fb9f3a\"],[0.8888888888888888,\"#fdca26\"],[1.0,\"#f0f921\"]],\"type\":\"surface\"}],\"table\":[{\"cells\":{\"fill\":{\"color\":\"#EBF0F8\"},\"line\":{\"color\":\"white\"}},\"header\":{\"fill\":{\"color\":\"#C8D4E3\"},\"line\":{\"color\":\"white\"}},\"type\":\"table\"}]},\"layout\":{\"annotationdefaults\":{\"arrowcolor\":\"#2a3f5f\",\"arrowhead\":0,\"arrowwidth\":1},\"autotypenumbers\":\"strict\",\"coloraxis\":{\"colorbar\":{\"outlinewidth\":0,\"ticks\":\"\"}},\"colorscale\":{\"diverging\":[[0,\"#8e0152\"],[0.1,\"#c51b7d\"],[0.2,\"#de77ae\"],[0.3,\"#f1b6da\"],[0.4,\"#fde0ef\"],[0.5,\"#f7f7f7\"],[0.6,\"#e6f5d0\"],[0.7,\"#b8e186\"],[0.8,\"#7fbc41\"],[0.9,\"#4d9221\"],[1,\"#276419\"]],\"sequential\":[[0.0,\"#0d0887\"],[0.1111111111111111,\"#46039f\"],[0.2222222222222222,\"#7201a8\"],[0.3333333333333333,\"#9c179e\"],[0.4444444444444444,\"#bd3786\"],[0.5555555555555556,\"#d8576b\"],[0.6666666666666666,\"#ed7953\"],[0.7777777777777778,\"#fb9f3a\"],[0.8888888888888888,\"#fdca26\"],[1.0,\"#f0f921\"]],\"sequentialminus\":[[0.0,\"#0d0887\"],[0.1111111111111111,\"#46039f\"],[0.2222222222222222,\"#7201a8\"],[0.3333333333333333,\"#9c179e\"],[0.4444444444444444,\"#bd3786\"],[0.5555555555555556,\"#d8576b\"],[0.6666666666666666,\"#ed7953\"],[0.7777777777777778,\"#fb9f3a\"],[0.8888888888888888,\"#fdca26\"],[1.0,\"#f0f921\"]]},\"colorway\":[\"#636efa\",\"#EF553B\",\"#00cc96\",\"#ab63fa\",\"#FFA15A\",\"#19d3f3\",\"#FF6692\",\"#B6E880\",\"#FF97FF\",\"#FECB52\"],\"font\":{\"color\":\"#2a3f5f\"},\"geo\":{\"bgcolor\":\"white\",\"lakecolor\":\"white\",\"landcolor\":\"#E5ECF6\",\"showlakes\":true,\"showland\":true,\"subunitcolor\":\"white\"},\"hoverlabel\":{\"align\":\"left\"},\"hovermode\":\"closest\",\"mapbox\":{\"style\":\"light\"},\"paper_bgcolor\":\"white\",\"plot_bgcolor\":\"#E5ECF6\",\"polar\":{\"angularaxis\":{\"gridcolor\":\"white\",\"linecolor\":\"white\",\"ticks\":\"\"},\"bgcolor\":\"#E5ECF6\",\"radialaxis\":{\"gridcolor\":\"white\",\"linecolor\":\"white\",\"ticks\":\"\"}},\"scene\":{\"xaxis\":{\"backgroundcolor\":\"#E5ECF6\",\"gridcolor\":\"white\",\"gridwidth\":2,\"linecolor\":\"white\",\"showbackground\":true,\"ticks\":\"\",\"zerolinecolor\":\"white\"},\"yaxis\":{\"backgroundcolor\":\"#E5ECF6\",\"gridcolor\":\"white\",\"gridwidth\":2,\"linecolor\":\"white\",\"showbackground\":true,\"ticks\":\"\",\"zerolinecolor\":\"white\"},\"zaxis\":{\"backgroundcolor\":\"#E5ECF6\",\"gridcolor\":\"white\",\"gridwidth\":2,\"linecolor\":\"white\",\"showbackground\":true,\"ticks\":\"\",\"zerolinecolor\":\"white\"}},\"shapedefaults\":{\"line\":{\"color\":\"#2a3f5f\"}},\"ternary\":{\"aaxis\":{\"gridcolor\":\"white\",\"linecolor\":\"white\",\"ticks\":\"\"},\"baxis\":{\"gridcolor\":\"white\",\"linecolor\":\"white\",\"ticks\":\"\"},\"bgcolor\":\"#E5ECF6\",\"caxis\":{\"gridcolor\":\"white\",\"linecolor\":\"white\",\"ticks\":\"\"}},\"title\":{\"x\":0.05},\"xaxis\":{\"automargin\":true,\"gridcolor\":\"white\",\"linecolor\":\"white\",\"ticks\":\"\",\"title\":{\"standoff\":15},\"zerolinecolor\":\"white\",\"zerolinewidth\":2},\"yaxis\":{\"automargin\":true,\"gridcolor\":\"white\",\"linecolor\":\"white\",\"ticks\":\"\",\"title\":{\"standoff\":15},\"zerolinecolor\":\"white\",\"zerolinewidth\":2}}},\"title\":{\"font\":{\"color\":\"#4D5663\"}},\"xaxis\":{\"gridcolor\":\"#E1E5ED\",\"showgrid\":true,\"tickfont\":{\"color\":\"#4D5663\"},\"title\":{\"font\":{\"color\":\"#4D5663\"},\"text\":\"\"},\"zerolinecolor\":\"#E1E5ED\"},\"yaxis\":{\"gridcolor\":\"#E1E5ED\",\"showgrid\":true,\"tickfont\":{\"color\":\"#4D5663\"},\"title\":{\"font\":{\"color\":\"#4D5663\"},\"text\":\"\"},\"zerolinecolor\":\"#E1E5ED\"}},                        {\"showLink\": true, \"linkText\": \"Export to plot.ly\", \"plotlyServerURL\": \"https://plot.ly\", \"responsive\": true}                    ).then(function(){\n",
       "                            \n",
       "var gd = document.getElementById('010ea7ed-e2ba-401c-bea6-908758cc5d08');\n",
       "var x = new MutationObserver(function (mutations, observer) {{\n",
       "        var display = window.getComputedStyle(gd).display;\n",
       "        if (!display || display === 'none') {{\n",
       "            console.log([gd, 'removed!']);\n",
       "            Plotly.purge(gd);\n",
       "            observer.disconnect();\n",
       "        }}\n",
       "}});\n",
       "\n",
       "// Listen for the removal of the full notebook cells\n",
       "var notebookContainer = gd.closest('#notebook-container');\n",
       "if (notebookContainer) {{\n",
       "    x.observe(notebookContainer, {childList: true});\n",
       "}}\n",
       "\n",
       "// Listen for the clearing of the current output cell\n",
       "var outputEl = gd.closest('.output');\n",
       "if (outputEl) {{\n",
       "    x.observe(outputEl, {childList: true});\n",
       "}}\n",
       "\n",
       "                        })                };                });            </script>        </div>"
      ]
     },
     "metadata": {},
     "output_type": "display_data"
    }
   ],
   "source": [
    "df1.count().iplot(kind='bar')"
   ]
  },
  {
   "cell_type": "code",
   "execution_count": 20,
   "id": "6c4093a9",
   "metadata": {},
   "outputs": [],
   "source": [
    "#iplot with barplot can be considered useful when we call some groupby or\n",
    "#aggre funnc"
   ]
  },
  {
   "cell_type": "code",
   "execution_count": 21,
   "id": "af09bd3b",
   "metadata": {},
   "outputs": [
    {
     "data": {
      "application/vnd.plotly.v1+json": {
       "config": {
        "linkText": "Export to plot.ly",
        "plotlyServerURL": "https://plot.ly",
        "showLink": true
       },
       "data": [
        {
         "boxpoints": false,
         "line": {
          "width": 1.3
         },
         "marker": {
          "color": "rgba(255, 153, 51, 1.0)"
         },
         "name": "A",
         "orientation": "v",
         "type": "box",
         "y": [
          2.589041960375388,
          0.46446495832878104,
          -1.8622342467167692,
          0.44748282470611106,
          0.5183570648847058,
          0.12564036024206882,
          -0.24671833426783726,
          1.462267278267704,
          0.6501389382278583,
          -0.6672168110888695,
          1.0747847894423825,
          -0.8495646586597335,
          0.8803409704941809,
          0.8276737448827238,
          -1.9844611168258537,
          -0.5824346509596668,
          0.31244403542215765,
          -1.9058846467784096,
          1.534946502058969,
          0.03365006500295044,
          -0.29023183110114703,
          0.3634249740106572,
          -0.2711593909409654,
          -0.9132127122770319,
          -1.5297006715639065,
          1.8365899649961515,
          0.997620536569792,
          -0.2682830090953816,
          -0.9920391126364365,
          -1.1288479078430984,
          -0.008960344604379092,
          0.08630969741946837,
          0.46474673901283703,
          1.080017337225342,
          1.4661189565799466,
          1.7757481260571573,
          0.3205119277722951,
          -0.1798124223086815,
          -0.4958536804162443,
          -1.0824042969488221,
          0.6888694888308021,
          -0.5554454322639867,
          1.1331849620973518,
          0.707328075472143,
          1.5136541614709633,
          -0.15648423529358677,
          -0.1433778469159636,
          -0.40468586905849585,
          -1.1744432881168483,
          -1.1803866454136969,
          0.08701772484394507,
          0.5103821267093613,
          -0.7433404424157205,
          -1.3161156299617915,
          0.723862166500837,
          0.0026211503152519856,
          0.6319910333015367,
          -0.7800163727009063,
          0.35886810605281194,
          -0.8301763834854368,
          -0.8524457756811449,
          0.9092763928827187,
          1.386293842292832,
          0.6190688873352528,
          -0.7452238959623145,
          -0.10530966041008744,
          0.6046632526320624,
          0.5577696731869712,
          -0.2920090900408622,
          0.24765258184426459,
          0.24614719012597427,
          -0.5867004475301311,
          -0.6851305364461912,
          -0.3361131907069222,
          0.6096750683088648,
          0.40561099150908214,
          -1.0722447247968594,
          -0.8429016314669159,
          -1.1413614153611717,
          0.003590536584902493,
          0.34212167559255774,
          0.6196242646627494,
          1.3374433126596188,
          0.783739897292725,
          -0.21978813559000052,
          1.310680446778554,
          -2.1203859731935624,
          -0.012493364965072527,
          1.5567907256747087,
          -0.09070771602794563,
          1.4609853837943934,
          -0.08854349224959014,
          -0.856791361064138,
          1.0297475656962671,
          0.42198118265890605,
          -1.03460399441633,
          0.3735845230130623,
          -0.9241538869607678,
          1.570150040609835,
          1.321593659953714
         ]
        },
        {
         "boxpoints": false,
         "line": {
          "width": 1.3
         },
         "marker": {
          "color": "rgba(55, 128, 191, 1.0)"
         },
         "name": "B",
         "orientation": "v",
         "type": "box",
         "y": [
          0.3628951277929951,
          -0.3370451361478144,
          1.3231291351782233,
          1.4619849953879063,
          2.117158857110377,
          -0.4278911070438518,
          0.7344388751372461,
          -0.550323658824948,
          2.289515694879591,
          0.30742068285265095,
          -0.43977407824993986,
          -0.48884334734707185,
          -0.035511693272353935,
          -0.5342855677426966,
          -0.48180500751838384,
          -0.5402177259755799,
          -0.4257760630492741,
          0.7481064580560373,
          0.38511250543185005,
          0.8948997926718579,
          0.5536185568036587,
          -0.6179898772826783,
          -0.7373935557874557,
          -0.6587419190524676,
          -0.7908486650543705,
          1.9579085993292384,
          1.0227320867440015,
          0.08107381074532037,
          -1.0480676019418818,
          -0.038411630922692945,
          -0.43553368154143673,
          0.30547134666727555,
          0.31837764643846567,
          -1.2142755537571501,
          -1.33773432084597,
          -0.7116738068907645,
          0.9183167283589629,
          1.4743458775421812,
          -0.8431681057751841,
          0.43131204721851857,
          -0.9552574710960884,
          1.360748437511149,
          0.17242502311920802,
          -0.1770824993618998,
          -1.2597307314975406,
          0.10361795124246964,
          -0.18102523650578423,
          1.9573674380123398,
          -1.9199468808812759,
          1.4147956826988282,
          -0.9874818136598563,
          -0.7022202694544329,
          -0.5705377079294096,
          -0.7181380869066,
          -1.5780613890451551,
          1.8132684520903277,
          -0.04335726224652799,
          -0.622068537839199,
          0.49221363767893667,
          1.3014197695620342,
          1.2885602911496903,
          -2.8538900169933634,
          0.25687937793931975,
          -0.9849351141966023,
          0.12599618770693463,
          0.34654139867809725,
          1.6403611743900608,
          0.34133072787434726,
          -0.3534901678291325,
          -1.3064588907422594,
          -0.4066703765884158,
          -1.9235557950647617,
          -0.7594602183434284,
          -0.7594261635516536,
          -0.29650932390946017,
          -0.7528925452720961,
          -0.026538330860710606,
          -0.7006225652800655,
          0.08891626131943374,
          -0.9241877460937217,
          1.1524864431883304,
          -1.5516429203762085,
          -0.7512503489892757,
          -0.2172506305976222,
          -0.3702813233079158,
          -1.6215454634160695,
          0.8196735120810899,
          -0.7064143748530674,
          -1.4730559538526578,
          1.2335673831613592,
          -1.7081096406580358,
          -0.6861292538606032,
          0.4460871106918229,
          2.145446758488049,
          -1.1984764313861387,
          0.9179123015415466,
          1.97791814986797,
          1.421128192119911,
          1.0233477071069101,
          -0.45111783720311166
         ]
        },
        {
         "boxpoints": false,
         "line": {
          "width": 1.3
         },
         "marker": {
          "color": "rgba(50, 171, 96, 1.0)"
         },
         "name": "C",
         "orientation": "v",
         "type": "box",
         "y": [
          -1.262246386708045,
          1.5638579611107675,
          1.6533456642054394,
          -0.5857274150439693,
          -0.9718003335278091,
          1.9910197132485752,
          -0.01613438128547328,
          -0.7222960998036906,
          -0.43452788842835516,
          1.8314339377290816,
          0.4826739694509472,
          -0.8357536125493982,
          -0.2593056592632085,
          0.47485761951349925,
          -0.14457728585036042,
          -0.56176823174519,
          -0.0803096305257362,
          0.5397232549572729,
          -0.31562777844065215,
          0.609617256698708,
          0.5820343674747728,
          -1.0964528018403226,
          -1.390339177426912,
          0.6400248855065004,
          0.47259256055418436,
          -1.009103140705429,
          0.40008503543512436,
          0.5995439538437828,
          0.3133663894433051,
          -2.665883259984044,
          -0.6461013421361341,
          -0.897748954090031,
          0.9621321118411451,
          -0.04320877208820299,
          -1.9574508338642798,
          -1.8760688791065874,
          1.3121315059780538,
          0.4780649355181438,
          0.2570784378160595,
          -1.0061816352506987,
          0.5381896067709654,
          0.21933334682360123,
          -0.4136204340160217,
          0.8789952767971859,
          -1.733200734199713,
          0.059984712005299604,
          -1.91442323813317,
          -0.5197833673791261,
          0.6991419801679005,
          -0.03210088725470912,
          -1.0632333928130342,
          -0.9300430509553365,
          -0.6012510269252737,
          0.2865154738217406,
          -0.06645984323458184,
          0.700151111328033,
          -0.4545238559681508,
          0.4197119613844714,
          0.6250125750521822,
          1.543602961789841,
          1.9234299147607956,
          0.4923533990036386,
          0.5823243218785095,
          -1.7956378010179064,
          2.2093208145112797,
          0.9489631119338943,
          0.11530760570093612,
          -0.046247696279733165,
          0.10286615664533401,
          0.3355010334083271,
          -1.2288175562291406,
          -0.4381558644867527,
          0.885854600105045,
          -0.7263145339435798,
          0.6037080262828017,
          0.039503474380392735,
          -0.13721426690389715,
          -0.7697375720421394,
          0.5664177039909022,
          -1.4533834714828815,
          -0.28788223418867487,
          -0.6869229799254724,
          -1.1019783015488456,
          -0.6995551434410562,
          2.178902724269444,
          0.2367245426897461,
          -1.3572443445271885,
          0.19080191211520586,
          -0.13534547363413924,
          2.1480475225124707,
          -1.640485130488358,
          0.24098007138199837,
          -0.06635707305500717,
          1.43720151371039,
          -1.2881494307241494,
          0.358308734244282,
          0.6610268948939776,
          0.17306216631950902,
          -1.4831561712608663,
          0.17009094047524345
         ]
        },
        {
         "boxpoints": false,
         "line": {
          "width": 1.3
         },
         "marker": {
          "color": "rgba(128, 0, 128, 1.0)"
         },
         "name": "D",
         "orientation": "v",
         "type": "box",
         "y": [
          0.586241282522509,
          -0.22089794130715373,
          -0.32977958431585386,
          -0.5405340776475431,
          -0.04877349669389779,
          0.17133305898484838,
          0.7339462271620942,
          -1.7541849625682326,
          0.38375511557610975,
          0.5464722105970232,
          0.8766556178661989,
          0.6253743071113597,
          1.6496321321064724,
          -0.10249437906321221,
          -1.8595332557304354,
          -0.5715638089220502,
          0.4540962512541975,
          0.7954282130636511,
          -0.6171071272338289,
          0.9411102920743672,
          -0.569366457259254,
          -1.767388870564552,
          0.5747861920019599,
          -0.02796334802597153,
          -1.2198724082225554,
          -0.18441574978108347,
          -0.08983485756478941,
          0.7827998769009209,
          -0.6616735120219261,
          -0.21427997059061274,
          1.1716129881809083,
          -1.9365676452401521,
          -0.10149410131838696,
          -0.2315074296925576,
          0.4333018191203166,
          0.06759345971896527,
          -0.9565589970551207,
          -0.19913366531592835,
          0.6331964735409779,
          0.13008037562286812,
          -0.18791630766850706,
          0.6071395142047425,
          -0.9420566323715552,
          1.4991190191191128,
          0.775317504035868,
          -0.15913932979620232,
          0.1510895181968772,
          -0.5296271622969968,
          -0.7197989233436392,
          0.11309694712602393,
          0.44412989477713655,
          -0.09403027940187994,
          -0.8682299237393994,
          1.7553823217684428,
          0.4005643438094378,
          0.597826128640621,
          -0.7137331780235777,
          0.08946368313769949,
          -0.6430225688837589,
          -1.287764150816326,
          0.41927884809407495,
          0.1308943120600146,
          1.4612925365780403,
          0.4173722049236492,
          -1.2898246332745469,
          0.12236587640394747,
          0.3675122286041763,
          -0.711997864746745,
          -0.35653191502630593,
          0.42361621822173884,
          0.4459568784922028,
          -0.42929052053717953,
          0.09773405326685174,
          -1.4684722989661918,
          -0.31127757815040275,
          -1.1450330047394817,
          0.7635046452857974,
          0.6846182203864283,
          0.6830606678917067,
          -0.23039228538683168,
          -0.7468894046264111,
          -0.40334364788009475,
          0.6974026863797835,
          0.4129473636523078,
          -0.3019078924747539,
          -0.6427034119718875,
          -1.0264660139234527,
          -0.257059610559706,
          -0.05721108300739811,
          0.5561748153861257,
          1.202268969030958,
          1.310702613250076,
          -0.007279985522969998,
          -1.127865115148052,
          -1.2633103084419985,
          -0.41207404062384906,
          -2.680605099876662,
          -0.8744459753552564,
          -0.8670295998657446,
          -0.2292315238956763
         ]
        }
       ],
       "layout": {
        "legend": {
         "bgcolor": "#F5F6F9",
         "font": {
          "color": "#4D5663"
         }
        },
        "paper_bgcolor": "#F5F6F9",
        "plot_bgcolor": "#F5F6F9",
        "template": {
         "data": {
          "bar": [
           {
            "error_x": {
             "color": "#2a3f5f"
            },
            "error_y": {
             "color": "#2a3f5f"
            },
            "marker": {
             "line": {
              "color": "#E5ECF6",
              "width": 0.5
             },
             "pattern": {
              "fillmode": "overlay",
              "size": 10,
              "solidity": 0.2
             }
            },
            "type": "bar"
           }
          ],
          "barpolar": [
           {
            "marker": {
             "line": {
              "color": "#E5ECF6",
              "width": 0.5
             },
             "pattern": {
              "fillmode": "overlay",
              "size": 10,
              "solidity": 0.2
             }
            },
            "type": "barpolar"
           }
          ],
          "carpet": [
           {
            "aaxis": {
             "endlinecolor": "#2a3f5f",
             "gridcolor": "white",
             "linecolor": "white",
             "minorgridcolor": "white",
             "startlinecolor": "#2a3f5f"
            },
            "baxis": {
             "endlinecolor": "#2a3f5f",
             "gridcolor": "white",
             "linecolor": "white",
             "minorgridcolor": "white",
             "startlinecolor": "#2a3f5f"
            },
            "type": "carpet"
           }
          ],
          "choropleth": [
           {
            "colorbar": {
             "outlinewidth": 0,
             "ticks": ""
            },
            "type": "choropleth"
           }
          ],
          "contour": [
           {
            "colorbar": {
             "outlinewidth": 0,
             "ticks": ""
            },
            "colorscale": [
             [
              0,
              "#0d0887"
             ],
             [
              0.1111111111111111,
              "#46039f"
             ],
             [
              0.2222222222222222,
              "#7201a8"
             ],
             [
              0.3333333333333333,
              "#9c179e"
             ],
             [
              0.4444444444444444,
              "#bd3786"
             ],
             [
              0.5555555555555556,
              "#d8576b"
             ],
             [
              0.6666666666666666,
              "#ed7953"
             ],
             [
              0.7777777777777778,
              "#fb9f3a"
             ],
             [
              0.8888888888888888,
              "#fdca26"
             ],
             [
              1,
              "#f0f921"
             ]
            ],
            "type": "contour"
           }
          ],
          "contourcarpet": [
           {
            "colorbar": {
             "outlinewidth": 0,
             "ticks": ""
            },
            "type": "contourcarpet"
           }
          ],
          "heatmap": [
           {
            "colorbar": {
             "outlinewidth": 0,
             "ticks": ""
            },
            "colorscale": [
             [
              0,
              "#0d0887"
             ],
             [
              0.1111111111111111,
              "#46039f"
             ],
             [
              0.2222222222222222,
              "#7201a8"
             ],
             [
              0.3333333333333333,
              "#9c179e"
             ],
             [
              0.4444444444444444,
              "#bd3786"
             ],
             [
              0.5555555555555556,
              "#d8576b"
             ],
             [
              0.6666666666666666,
              "#ed7953"
             ],
             [
              0.7777777777777778,
              "#fb9f3a"
             ],
             [
              0.8888888888888888,
              "#fdca26"
             ],
             [
              1,
              "#f0f921"
             ]
            ],
            "type": "heatmap"
           }
          ],
          "heatmapgl": [
           {
            "colorbar": {
             "outlinewidth": 0,
             "ticks": ""
            },
            "colorscale": [
             [
              0,
              "#0d0887"
             ],
             [
              0.1111111111111111,
              "#46039f"
             ],
             [
              0.2222222222222222,
              "#7201a8"
             ],
             [
              0.3333333333333333,
              "#9c179e"
             ],
             [
              0.4444444444444444,
              "#bd3786"
             ],
             [
              0.5555555555555556,
              "#d8576b"
             ],
             [
              0.6666666666666666,
              "#ed7953"
             ],
             [
              0.7777777777777778,
              "#fb9f3a"
             ],
             [
              0.8888888888888888,
              "#fdca26"
             ],
             [
              1,
              "#f0f921"
             ]
            ],
            "type": "heatmapgl"
           }
          ],
          "histogram": [
           {
            "marker": {
             "pattern": {
              "fillmode": "overlay",
              "size": 10,
              "solidity": 0.2
             }
            },
            "type": "histogram"
           }
          ],
          "histogram2d": [
           {
            "colorbar": {
             "outlinewidth": 0,
             "ticks": ""
            },
            "colorscale": [
             [
              0,
              "#0d0887"
             ],
             [
              0.1111111111111111,
              "#46039f"
             ],
             [
              0.2222222222222222,
              "#7201a8"
             ],
             [
              0.3333333333333333,
              "#9c179e"
             ],
             [
              0.4444444444444444,
              "#bd3786"
             ],
             [
              0.5555555555555556,
              "#d8576b"
             ],
             [
              0.6666666666666666,
              "#ed7953"
             ],
             [
              0.7777777777777778,
              "#fb9f3a"
             ],
             [
              0.8888888888888888,
              "#fdca26"
             ],
             [
              1,
              "#f0f921"
             ]
            ],
            "type": "histogram2d"
           }
          ],
          "histogram2dcontour": [
           {
            "colorbar": {
             "outlinewidth": 0,
             "ticks": ""
            },
            "colorscale": [
             [
              0,
              "#0d0887"
             ],
             [
              0.1111111111111111,
              "#46039f"
             ],
             [
              0.2222222222222222,
              "#7201a8"
             ],
             [
              0.3333333333333333,
              "#9c179e"
             ],
             [
              0.4444444444444444,
              "#bd3786"
             ],
             [
              0.5555555555555556,
              "#d8576b"
             ],
             [
              0.6666666666666666,
              "#ed7953"
             ],
             [
              0.7777777777777778,
              "#fb9f3a"
             ],
             [
              0.8888888888888888,
              "#fdca26"
             ],
             [
              1,
              "#f0f921"
             ]
            ],
            "type": "histogram2dcontour"
           }
          ],
          "mesh3d": [
           {
            "colorbar": {
             "outlinewidth": 0,
             "ticks": ""
            },
            "type": "mesh3d"
           }
          ],
          "parcoords": [
           {
            "line": {
             "colorbar": {
              "outlinewidth": 0,
              "ticks": ""
             }
            },
            "type": "parcoords"
           }
          ],
          "pie": [
           {
            "automargin": true,
            "type": "pie"
           }
          ],
          "scatter": [
           {
            "marker": {
             "colorbar": {
              "outlinewidth": 0,
              "ticks": ""
             }
            },
            "type": "scatter"
           }
          ],
          "scatter3d": [
           {
            "line": {
             "colorbar": {
              "outlinewidth": 0,
              "ticks": ""
             }
            },
            "marker": {
             "colorbar": {
              "outlinewidth": 0,
              "ticks": ""
             }
            },
            "type": "scatter3d"
           }
          ],
          "scattercarpet": [
           {
            "marker": {
             "colorbar": {
              "outlinewidth": 0,
              "ticks": ""
             }
            },
            "type": "scattercarpet"
           }
          ],
          "scattergeo": [
           {
            "marker": {
             "colorbar": {
              "outlinewidth": 0,
              "ticks": ""
             }
            },
            "type": "scattergeo"
           }
          ],
          "scattergl": [
           {
            "marker": {
             "colorbar": {
              "outlinewidth": 0,
              "ticks": ""
             }
            },
            "type": "scattergl"
           }
          ],
          "scattermapbox": [
           {
            "marker": {
             "colorbar": {
              "outlinewidth": 0,
              "ticks": ""
             }
            },
            "type": "scattermapbox"
           }
          ],
          "scatterpolar": [
           {
            "marker": {
             "colorbar": {
              "outlinewidth": 0,
              "ticks": ""
             }
            },
            "type": "scatterpolar"
           }
          ],
          "scatterpolargl": [
           {
            "marker": {
             "colorbar": {
              "outlinewidth": 0,
              "ticks": ""
             }
            },
            "type": "scatterpolargl"
           }
          ],
          "scatterternary": [
           {
            "marker": {
             "colorbar": {
              "outlinewidth": 0,
              "ticks": ""
             }
            },
            "type": "scatterternary"
           }
          ],
          "surface": [
           {
            "colorbar": {
             "outlinewidth": 0,
             "ticks": ""
            },
            "colorscale": [
             [
              0,
              "#0d0887"
             ],
             [
              0.1111111111111111,
              "#46039f"
             ],
             [
              0.2222222222222222,
              "#7201a8"
             ],
             [
              0.3333333333333333,
              "#9c179e"
             ],
             [
              0.4444444444444444,
              "#bd3786"
             ],
             [
              0.5555555555555556,
              "#d8576b"
             ],
             [
              0.6666666666666666,
              "#ed7953"
             ],
             [
              0.7777777777777778,
              "#fb9f3a"
             ],
             [
              0.8888888888888888,
              "#fdca26"
             ],
             [
              1,
              "#f0f921"
             ]
            ],
            "type": "surface"
           }
          ],
          "table": [
           {
            "cells": {
             "fill": {
              "color": "#EBF0F8"
             },
             "line": {
              "color": "white"
             }
            },
            "header": {
             "fill": {
              "color": "#C8D4E3"
             },
             "line": {
              "color": "white"
             }
            },
            "type": "table"
           }
          ]
         },
         "layout": {
          "annotationdefaults": {
           "arrowcolor": "#2a3f5f",
           "arrowhead": 0,
           "arrowwidth": 1
          },
          "autotypenumbers": "strict",
          "coloraxis": {
           "colorbar": {
            "outlinewidth": 0,
            "ticks": ""
           }
          },
          "colorscale": {
           "diverging": [
            [
             0,
             "#8e0152"
            ],
            [
             0.1,
             "#c51b7d"
            ],
            [
             0.2,
             "#de77ae"
            ],
            [
             0.3,
             "#f1b6da"
            ],
            [
             0.4,
             "#fde0ef"
            ],
            [
             0.5,
             "#f7f7f7"
            ],
            [
             0.6,
             "#e6f5d0"
            ],
            [
             0.7,
             "#b8e186"
            ],
            [
             0.8,
             "#7fbc41"
            ],
            [
             0.9,
             "#4d9221"
            ],
            [
             1,
             "#276419"
            ]
           ],
           "sequential": [
            [
             0,
             "#0d0887"
            ],
            [
             0.1111111111111111,
             "#46039f"
            ],
            [
             0.2222222222222222,
             "#7201a8"
            ],
            [
             0.3333333333333333,
             "#9c179e"
            ],
            [
             0.4444444444444444,
             "#bd3786"
            ],
            [
             0.5555555555555556,
             "#d8576b"
            ],
            [
             0.6666666666666666,
             "#ed7953"
            ],
            [
             0.7777777777777778,
             "#fb9f3a"
            ],
            [
             0.8888888888888888,
             "#fdca26"
            ],
            [
             1,
             "#f0f921"
            ]
           ],
           "sequentialminus": [
            [
             0,
             "#0d0887"
            ],
            [
             0.1111111111111111,
             "#46039f"
            ],
            [
             0.2222222222222222,
             "#7201a8"
            ],
            [
             0.3333333333333333,
             "#9c179e"
            ],
            [
             0.4444444444444444,
             "#bd3786"
            ],
            [
             0.5555555555555556,
             "#d8576b"
            ],
            [
             0.6666666666666666,
             "#ed7953"
            ],
            [
             0.7777777777777778,
             "#fb9f3a"
            ],
            [
             0.8888888888888888,
             "#fdca26"
            ],
            [
             1,
             "#f0f921"
            ]
           ]
          },
          "colorway": [
           "#636efa",
           "#EF553B",
           "#00cc96",
           "#ab63fa",
           "#FFA15A",
           "#19d3f3",
           "#FF6692",
           "#B6E880",
           "#FF97FF",
           "#FECB52"
          ],
          "font": {
           "color": "#2a3f5f"
          },
          "geo": {
           "bgcolor": "white",
           "lakecolor": "white",
           "landcolor": "#E5ECF6",
           "showlakes": true,
           "showland": true,
           "subunitcolor": "white"
          },
          "hoverlabel": {
           "align": "left"
          },
          "hovermode": "closest",
          "mapbox": {
           "style": "light"
          },
          "paper_bgcolor": "white",
          "plot_bgcolor": "#E5ECF6",
          "polar": {
           "angularaxis": {
            "gridcolor": "white",
            "linecolor": "white",
            "ticks": ""
           },
           "bgcolor": "#E5ECF6",
           "radialaxis": {
            "gridcolor": "white",
            "linecolor": "white",
            "ticks": ""
           }
          },
          "scene": {
           "xaxis": {
            "backgroundcolor": "#E5ECF6",
            "gridcolor": "white",
            "gridwidth": 2,
            "linecolor": "white",
            "showbackground": true,
            "ticks": "",
            "zerolinecolor": "white"
           },
           "yaxis": {
            "backgroundcolor": "#E5ECF6",
            "gridcolor": "white",
            "gridwidth": 2,
            "linecolor": "white",
            "showbackground": true,
            "ticks": "",
            "zerolinecolor": "white"
           },
           "zaxis": {
            "backgroundcolor": "#E5ECF6",
            "gridcolor": "white",
            "gridwidth": 2,
            "linecolor": "white",
            "showbackground": true,
            "ticks": "",
            "zerolinecolor": "white"
           }
          },
          "shapedefaults": {
           "line": {
            "color": "#2a3f5f"
           }
          },
          "ternary": {
           "aaxis": {
            "gridcolor": "white",
            "linecolor": "white",
            "ticks": ""
           },
           "baxis": {
            "gridcolor": "white",
            "linecolor": "white",
            "ticks": ""
           },
           "bgcolor": "#E5ECF6",
           "caxis": {
            "gridcolor": "white",
            "linecolor": "white",
            "ticks": ""
           }
          },
          "title": {
           "x": 0.05
          },
          "xaxis": {
           "automargin": true,
           "gridcolor": "white",
           "linecolor": "white",
           "ticks": "",
           "title": {
            "standoff": 15
           },
           "zerolinecolor": "white",
           "zerolinewidth": 2
          },
          "yaxis": {
           "automargin": true,
           "gridcolor": "white",
           "linecolor": "white",
           "ticks": "",
           "title": {
            "standoff": 15
           },
           "zerolinecolor": "white",
           "zerolinewidth": 2
          }
         }
        },
        "title": {
         "font": {
          "color": "#4D5663"
         }
        },
        "xaxis": {
         "gridcolor": "#E1E5ED",
         "showgrid": true,
         "tickfont": {
          "color": "#4D5663"
         },
         "title": {
          "font": {
           "color": "#4D5663"
          },
          "text": ""
         },
         "zerolinecolor": "#E1E5ED"
        },
        "yaxis": {
         "gridcolor": "#E1E5ED",
         "showgrid": true,
         "tickfont": {
          "color": "#4D5663"
         },
         "title": {
          "font": {
           "color": "#4D5663"
          },
          "text": ""
         },
         "zerolinecolor": "#E1E5ED"
        }
       }
      },
      "text/html": [
       "<div>                            <div id=\"0199e9f6-4743-4fff-aa7b-ee550c7bdf9b\" class=\"plotly-graph-div\" style=\"height:525px; width:100%;\"></div>            <script type=\"text/javascript\">                require([\"plotly\"], function(Plotly) {                    window.PLOTLYENV=window.PLOTLYENV || {};\n",
       "                    window.PLOTLYENV.BASE_URL='https://plot.ly';                                    if (document.getElementById(\"0199e9f6-4743-4fff-aa7b-ee550c7bdf9b\")) {                    Plotly.newPlot(                        \"0199e9f6-4743-4fff-aa7b-ee550c7bdf9b\",                        [{\"boxpoints\":false,\"line\":{\"width\":1.3},\"marker\":{\"color\":\"rgba(255, 153, 51, 1.0)\"},\"name\":\"A\",\"orientation\":\"v\",\"type\":\"box\",\"y\":[2.589041960375388,0.46446495832878104,-1.8622342467167692,0.44748282470611106,0.5183570648847058,0.12564036024206882,-0.24671833426783726,1.462267278267704,0.6501389382278583,-0.6672168110888695,1.0747847894423825,-0.8495646586597335,0.8803409704941809,0.8276737448827238,-1.9844611168258537,-0.5824346509596668,0.31244403542215765,-1.9058846467784096,1.534946502058969,0.03365006500295044,-0.29023183110114703,0.3634249740106572,-0.2711593909409654,-0.9132127122770319,-1.5297006715639065,1.8365899649961515,0.997620536569792,-0.2682830090953816,-0.9920391126364365,-1.1288479078430984,-0.008960344604379092,0.08630969741946837,0.46474673901283703,1.080017337225342,1.4661189565799466,1.7757481260571573,0.3205119277722951,-0.1798124223086815,-0.4958536804162443,-1.0824042969488221,0.6888694888308021,-0.5554454322639867,1.1331849620973518,0.707328075472143,1.5136541614709633,-0.15648423529358677,-0.1433778469159636,-0.40468586905849585,-1.1744432881168483,-1.1803866454136969,0.08701772484394507,0.5103821267093613,-0.7433404424157205,-1.3161156299617915,0.723862166500837,0.0026211503152519856,0.6319910333015367,-0.7800163727009063,0.35886810605281194,-0.8301763834854368,-0.8524457756811449,0.9092763928827187,1.386293842292832,0.6190688873352528,-0.7452238959623145,-0.10530966041008744,0.6046632526320624,0.5577696731869712,-0.2920090900408622,0.24765258184426459,0.24614719012597427,-0.5867004475301311,-0.6851305364461912,-0.3361131907069222,0.6096750683088648,0.40561099150908214,-1.0722447247968594,-0.8429016314669159,-1.1413614153611717,0.003590536584902493,0.34212167559255774,0.6196242646627494,1.3374433126596188,0.783739897292725,-0.21978813559000052,1.310680446778554,-2.1203859731935624,-0.012493364965072527,1.5567907256747087,-0.09070771602794563,1.4609853837943934,-0.08854349224959014,-0.856791361064138,1.0297475656962671,0.42198118265890605,-1.03460399441633,0.3735845230130623,-0.9241538869607678,1.570150040609835,1.321593659953714]},{\"boxpoints\":false,\"line\":{\"width\":1.3},\"marker\":{\"color\":\"rgba(55, 128, 191, 1.0)\"},\"name\":\"B\",\"orientation\":\"v\",\"type\":\"box\",\"y\":[0.3628951277929951,-0.3370451361478144,1.3231291351782233,1.4619849953879063,2.117158857110377,-0.4278911070438518,0.7344388751372461,-0.550323658824948,2.289515694879591,0.30742068285265095,-0.43977407824993986,-0.48884334734707185,-0.035511693272353935,-0.5342855677426966,-0.48180500751838384,-0.5402177259755799,-0.4257760630492741,0.7481064580560373,0.38511250543185005,0.8948997926718579,0.5536185568036587,-0.6179898772826783,-0.7373935557874557,-0.6587419190524676,-0.7908486650543705,1.9579085993292384,1.0227320867440015,0.08107381074532037,-1.0480676019418818,-0.038411630922692945,-0.43553368154143673,0.30547134666727555,0.31837764643846567,-1.2142755537571501,-1.33773432084597,-0.7116738068907645,0.9183167283589629,1.4743458775421812,-0.8431681057751841,0.43131204721851857,-0.9552574710960884,1.360748437511149,0.17242502311920802,-0.1770824993618998,-1.2597307314975406,0.10361795124246964,-0.18102523650578423,1.9573674380123398,-1.9199468808812759,1.4147956826988282,-0.9874818136598563,-0.7022202694544329,-0.5705377079294096,-0.7181380869066,-1.5780613890451551,1.8132684520903277,-0.04335726224652799,-0.622068537839199,0.49221363767893667,1.3014197695620342,1.2885602911496903,-2.8538900169933634,0.25687937793931975,-0.9849351141966023,0.12599618770693463,0.34654139867809725,1.6403611743900608,0.34133072787434726,-0.3534901678291325,-1.3064588907422594,-0.4066703765884158,-1.9235557950647617,-0.7594602183434284,-0.7594261635516536,-0.29650932390946017,-0.7528925452720961,-0.026538330860710606,-0.7006225652800655,0.08891626131943374,-0.9241877460937217,1.1524864431883304,-1.5516429203762085,-0.7512503489892757,-0.2172506305976222,-0.3702813233079158,-1.6215454634160695,0.8196735120810899,-0.7064143748530674,-1.4730559538526578,1.2335673831613592,-1.7081096406580358,-0.6861292538606032,0.4460871106918229,2.145446758488049,-1.1984764313861387,0.9179123015415466,1.97791814986797,1.421128192119911,1.0233477071069101,-0.45111783720311166]},{\"boxpoints\":false,\"line\":{\"width\":1.3},\"marker\":{\"color\":\"rgba(50, 171, 96, 1.0)\"},\"name\":\"C\",\"orientation\":\"v\",\"type\":\"box\",\"y\":[-1.262246386708045,1.5638579611107675,1.6533456642054394,-0.5857274150439693,-0.9718003335278091,1.9910197132485752,-0.01613438128547328,-0.7222960998036906,-0.43452788842835516,1.8314339377290816,0.4826739694509472,-0.8357536125493982,-0.2593056592632085,0.47485761951349925,-0.14457728585036042,-0.56176823174519,-0.0803096305257362,0.5397232549572729,-0.31562777844065215,0.609617256698708,0.5820343674747728,-1.0964528018403226,-1.390339177426912,0.6400248855065004,0.47259256055418436,-1.009103140705429,0.40008503543512436,0.5995439538437828,0.3133663894433051,-2.665883259984044,-0.6461013421361341,-0.897748954090031,0.9621321118411451,-0.04320877208820299,-1.9574508338642798,-1.8760688791065874,1.3121315059780538,0.4780649355181438,0.2570784378160595,-1.0061816352506987,0.5381896067709654,0.21933334682360123,-0.4136204340160217,0.8789952767971859,-1.733200734199713,0.059984712005299604,-1.91442323813317,-0.5197833673791261,0.6991419801679005,-0.03210088725470912,-1.0632333928130342,-0.9300430509553365,-0.6012510269252737,0.2865154738217406,-0.06645984323458184,0.700151111328033,-0.4545238559681508,0.4197119613844714,0.6250125750521822,1.543602961789841,1.9234299147607956,0.4923533990036386,0.5823243218785095,-1.7956378010179064,2.2093208145112797,0.9489631119338943,0.11530760570093612,-0.046247696279733165,0.10286615664533401,0.3355010334083271,-1.2288175562291406,-0.4381558644867527,0.885854600105045,-0.7263145339435798,0.6037080262828017,0.039503474380392735,-0.13721426690389715,-0.7697375720421394,0.5664177039909022,-1.4533834714828815,-0.28788223418867487,-0.6869229799254724,-1.1019783015488456,-0.6995551434410562,2.178902724269444,0.2367245426897461,-1.3572443445271885,0.19080191211520586,-0.13534547363413924,2.1480475225124707,-1.640485130488358,0.24098007138199837,-0.06635707305500717,1.43720151371039,-1.2881494307241494,0.358308734244282,0.6610268948939776,0.17306216631950902,-1.4831561712608663,0.17009094047524345]},{\"boxpoints\":false,\"line\":{\"width\":1.3},\"marker\":{\"color\":\"rgba(128, 0, 128, 1.0)\"},\"name\":\"D\",\"orientation\":\"v\",\"type\":\"box\",\"y\":[0.586241282522509,-0.22089794130715373,-0.32977958431585386,-0.5405340776475431,-0.04877349669389779,0.17133305898484838,0.7339462271620942,-1.7541849625682326,0.38375511557610975,0.5464722105970232,0.8766556178661989,0.6253743071113597,1.6496321321064724,-0.10249437906321221,-1.8595332557304354,-0.5715638089220502,0.4540962512541975,0.7954282130636511,-0.6171071272338289,0.9411102920743672,-0.569366457259254,-1.767388870564552,0.5747861920019599,-0.02796334802597153,-1.2198724082225554,-0.18441574978108347,-0.08983485756478941,0.7827998769009209,-0.6616735120219261,-0.21427997059061274,1.1716129881809083,-1.9365676452401521,-0.10149410131838696,-0.2315074296925576,0.4333018191203166,0.06759345971896527,-0.9565589970551207,-0.19913366531592835,0.6331964735409779,0.13008037562286812,-0.18791630766850706,0.6071395142047425,-0.9420566323715552,1.4991190191191128,0.775317504035868,-0.15913932979620232,0.1510895181968772,-0.5296271622969968,-0.7197989233436392,0.11309694712602393,0.44412989477713655,-0.09403027940187994,-0.8682299237393994,1.7553823217684428,0.4005643438094378,0.597826128640621,-0.7137331780235777,0.08946368313769949,-0.6430225688837589,-1.287764150816326,0.41927884809407495,0.1308943120600146,1.4612925365780403,0.4173722049236492,-1.2898246332745469,0.12236587640394747,0.3675122286041763,-0.711997864746745,-0.35653191502630593,0.42361621822173884,0.4459568784922028,-0.42929052053717953,0.09773405326685174,-1.4684722989661918,-0.31127757815040275,-1.1450330047394817,0.7635046452857974,0.6846182203864283,0.6830606678917067,-0.23039228538683168,-0.7468894046264111,-0.40334364788009475,0.6974026863797835,0.4129473636523078,-0.3019078924747539,-0.6427034119718875,-1.0264660139234527,-0.257059610559706,-0.05721108300739811,0.5561748153861257,1.202268969030958,1.310702613250076,-0.007279985522969998,-1.127865115148052,-1.2633103084419985,-0.41207404062384906,-2.680605099876662,-0.8744459753552564,-0.8670295998657446,-0.2292315238956763]}],                        {\"legend\":{\"bgcolor\":\"#F5F6F9\",\"font\":{\"color\":\"#4D5663\"}},\"paper_bgcolor\":\"#F5F6F9\",\"plot_bgcolor\":\"#F5F6F9\",\"template\":{\"data\":{\"bar\":[{\"error_x\":{\"color\":\"#2a3f5f\"},\"error_y\":{\"color\":\"#2a3f5f\"},\"marker\":{\"line\":{\"color\":\"#E5ECF6\",\"width\":0.5},\"pattern\":{\"fillmode\":\"overlay\",\"size\":10,\"solidity\":0.2}},\"type\":\"bar\"}],\"barpolar\":[{\"marker\":{\"line\":{\"color\":\"#E5ECF6\",\"width\":0.5},\"pattern\":{\"fillmode\":\"overlay\",\"size\":10,\"solidity\":0.2}},\"type\":\"barpolar\"}],\"carpet\":[{\"aaxis\":{\"endlinecolor\":\"#2a3f5f\",\"gridcolor\":\"white\",\"linecolor\":\"white\",\"minorgridcolor\":\"white\",\"startlinecolor\":\"#2a3f5f\"},\"baxis\":{\"endlinecolor\":\"#2a3f5f\",\"gridcolor\":\"white\",\"linecolor\":\"white\",\"minorgridcolor\":\"white\",\"startlinecolor\":\"#2a3f5f\"},\"type\":\"carpet\"}],\"choropleth\":[{\"colorbar\":{\"outlinewidth\":0,\"ticks\":\"\"},\"type\":\"choropleth\"}],\"contour\":[{\"colorbar\":{\"outlinewidth\":0,\"ticks\":\"\"},\"colorscale\":[[0.0,\"#0d0887\"],[0.1111111111111111,\"#46039f\"],[0.2222222222222222,\"#7201a8\"],[0.3333333333333333,\"#9c179e\"],[0.4444444444444444,\"#bd3786\"],[0.5555555555555556,\"#d8576b\"],[0.6666666666666666,\"#ed7953\"],[0.7777777777777778,\"#fb9f3a\"],[0.8888888888888888,\"#fdca26\"],[1.0,\"#f0f921\"]],\"type\":\"contour\"}],\"contourcarpet\":[{\"colorbar\":{\"outlinewidth\":0,\"ticks\":\"\"},\"type\":\"contourcarpet\"}],\"heatmap\":[{\"colorbar\":{\"outlinewidth\":0,\"ticks\":\"\"},\"colorscale\":[[0.0,\"#0d0887\"],[0.1111111111111111,\"#46039f\"],[0.2222222222222222,\"#7201a8\"],[0.3333333333333333,\"#9c179e\"],[0.4444444444444444,\"#bd3786\"],[0.5555555555555556,\"#d8576b\"],[0.6666666666666666,\"#ed7953\"],[0.7777777777777778,\"#fb9f3a\"],[0.8888888888888888,\"#fdca26\"],[1.0,\"#f0f921\"]],\"type\":\"heatmap\"}],\"heatmapgl\":[{\"colorbar\":{\"outlinewidth\":0,\"ticks\":\"\"},\"colorscale\":[[0.0,\"#0d0887\"],[0.1111111111111111,\"#46039f\"],[0.2222222222222222,\"#7201a8\"],[0.3333333333333333,\"#9c179e\"],[0.4444444444444444,\"#bd3786\"],[0.5555555555555556,\"#d8576b\"],[0.6666666666666666,\"#ed7953\"],[0.7777777777777778,\"#fb9f3a\"],[0.8888888888888888,\"#fdca26\"],[1.0,\"#f0f921\"]],\"type\":\"heatmapgl\"}],\"histogram\":[{\"marker\":{\"pattern\":{\"fillmode\":\"overlay\",\"size\":10,\"solidity\":0.2}},\"type\":\"histogram\"}],\"histogram2d\":[{\"colorbar\":{\"outlinewidth\":0,\"ticks\":\"\"},\"colorscale\":[[0.0,\"#0d0887\"],[0.1111111111111111,\"#46039f\"],[0.2222222222222222,\"#7201a8\"],[0.3333333333333333,\"#9c179e\"],[0.4444444444444444,\"#bd3786\"],[0.5555555555555556,\"#d8576b\"],[0.6666666666666666,\"#ed7953\"],[0.7777777777777778,\"#fb9f3a\"],[0.8888888888888888,\"#fdca26\"],[1.0,\"#f0f921\"]],\"type\":\"histogram2d\"}],\"histogram2dcontour\":[{\"colorbar\":{\"outlinewidth\":0,\"ticks\":\"\"},\"colorscale\":[[0.0,\"#0d0887\"],[0.1111111111111111,\"#46039f\"],[0.2222222222222222,\"#7201a8\"],[0.3333333333333333,\"#9c179e\"],[0.4444444444444444,\"#bd3786\"],[0.5555555555555556,\"#d8576b\"],[0.6666666666666666,\"#ed7953\"],[0.7777777777777778,\"#fb9f3a\"],[0.8888888888888888,\"#fdca26\"],[1.0,\"#f0f921\"]],\"type\":\"histogram2dcontour\"}],\"mesh3d\":[{\"colorbar\":{\"outlinewidth\":0,\"ticks\":\"\"},\"type\":\"mesh3d\"}],\"parcoords\":[{\"line\":{\"colorbar\":{\"outlinewidth\":0,\"ticks\":\"\"}},\"type\":\"parcoords\"}],\"pie\":[{\"automargin\":true,\"type\":\"pie\"}],\"scatter\":[{\"marker\":{\"colorbar\":{\"outlinewidth\":0,\"ticks\":\"\"}},\"type\":\"scatter\"}],\"scatter3d\":[{\"line\":{\"colorbar\":{\"outlinewidth\":0,\"ticks\":\"\"}},\"marker\":{\"colorbar\":{\"outlinewidth\":0,\"ticks\":\"\"}},\"type\":\"scatter3d\"}],\"scattercarpet\":[{\"marker\":{\"colorbar\":{\"outlinewidth\":0,\"ticks\":\"\"}},\"type\":\"scattercarpet\"}],\"scattergeo\":[{\"marker\":{\"colorbar\":{\"outlinewidth\":0,\"ticks\":\"\"}},\"type\":\"scattergeo\"}],\"scattergl\":[{\"marker\":{\"colorbar\":{\"outlinewidth\":0,\"ticks\":\"\"}},\"type\":\"scattergl\"}],\"scattermapbox\":[{\"marker\":{\"colorbar\":{\"outlinewidth\":0,\"ticks\":\"\"}},\"type\":\"scattermapbox\"}],\"scatterpolar\":[{\"marker\":{\"colorbar\":{\"outlinewidth\":0,\"ticks\":\"\"}},\"type\":\"scatterpolar\"}],\"scatterpolargl\":[{\"marker\":{\"colorbar\":{\"outlinewidth\":0,\"ticks\":\"\"}},\"type\":\"scatterpolargl\"}],\"scatterternary\":[{\"marker\":{\"colorbar\":{\"outlinewidth\":0,\"ticks\":\"\"}},\"type\":\"scatterternary\"}],\"surface\":[{\"colorbar\":{\"outlinewidth\":0,\"ticks\":\"\"},\"colorscale\":[[0.0,\"#0d0887\"],[0.1111111111111111,\"#46039f\"],[0.2222222222222222,\"#7201a8\"],[0.3333333333333333,\"#9c179e\"],[0.4444444444444444,\"#bd3786\"],[0.5555555555555556,\"#d8576b\"],[0.6666666666666666,\"#ed7953\"],[0.7777777777777778,\"#fb9f3a\"],[0.8888888888888888,\"#fdca26\"],[1.0,\"#f0f921\"]],\"type\":\"surface\"}],\"table\":[{\"cells\":{\"fill\":{\"color\":\"#EBF0F8\"},\"line\":{\"color\":\"white\"}},\"header\":{\"fill\":{\"color\":\"#C8D4E3\"},\"line\":{\"color\":\"white\"}},\"type\":\"table\"}]},\"layout\":{\"annotationdefaults\":{\"arrowcolor\":\"#2a3f5f\",\"arrowhead\":0,\"arrowwidth\":1},\"autotypenumbers\":\"strict\",\"coloraxis\":{\"colorbar\":{\"outlinewidth\":0,\"ticks\":\"\"}},\"colorscale\":{\"diverging\":[[0,\"#8e0152\"],[0.1,\"#c51b7d\"],[0.2,\"#de77ae\"],[0.3,\"#f1b6da\"],[0.4,\"#fde0ef\"],[0.5,\"#f7f7f7\"],[0.6,\"#e6f5d0\"],[0.7,\"#b8e186\"],[0.8,\"#7fbc41\"],[0.9,\"#4d9221\"],[1,\"#276419\"]],\"sequential\":[[0.0,\"#0d0887\"],[0.1111111111111111,\"#46039f\"],[0.2222222222222222,\"#7201a8\"],[0.3333333333333333,\"#9c179e\"],[0.4444444444444444,\"#bd3786\"],[0.5555555555555556,\"#d8576b\"],[0.6666666666666666,\"#ed7953\"],[0.7777777777777778,\"#fb9f3a\"],[0.8888888888888888,\"#fdca26\"],[1.0,\"#f0f921\"]],\"sequentialminus\":[[0.0,\"#0d0887\"],[0.1111111111111111,\"#46039f\"],[0.2222222222222222,\"#7201a8\"],[0.3333333333333333,\"#9c179e\"],[0.4444444444444444,\"#bd3786\"],[0.5555555555555556,\"#d8576b\"],[0.6666666666666666,\"#ed7953\"],[0.7777777777777778,\"#fb9f3a\"],[0.8888888888888888,\"#fdca26\"],[1.0,\"#f0f921\"]]},\"colorway\":[\"#636efa\",\"#EF553B\",\"#00cc96\",\"#ab63fa\",\"#FFA15A\",\"#19d3f3\",\"#FF6692\",\"#B6E880\",\"#FF97FF\",\"#FECB52\"],\"font\":{\"color\":\"#2a3f5f\"},\"geo\":{\"bgcolor\":\"white\",\"lakecolor\":\"white\",\"landcolor\":\"#E5ECF6\",\"showlakes\":true,\"showland\":true,\"subunitcolor\":\"white\"},\"hoverlabel\":{\"align\":\"left\"},\"hovermode\":\"closest\",\"mapbox\":{\"style\":\"light\"},\"paper_bgcolor\":\"white\",\"plot_bgcolor\":\"#E5ECF6\",\"polar\":{\"angularaxis\":{\"gridcolor\":\"white\",\"linecolor\":\"white\",\"ticks\":\"\"},\"bgcolor\":\"#E5ECF6\",\"radialaxis\":{\"gridcolor\":\"white\",\"linecolor\":\"white\",\"ticks\":\"\"}},\"scene\":{\"xaxis\":{\"backgroundcolor\":\"#E5ECF6\",\"gridcolor\":\"white\",\"gridwidth\":2,\"linecolor\":\"white\",\"showbackground\":true,\"ticks\":\"\",\"zerolinecolor\":\"white\"},\"yaxis\":{\"backgroundcolor\":\"#E5ECF6\",\"gridcolor\":\"white\",\"gridwidth\":2,\"linecolor\":\"white\",\"showbackground\":true,\"ticks\":\"\",\"zerolinecolor\":\"white\"},\"zaxis\":{\"backgroundcolor\":\"#E5ECF6\",\"gridcolor\":\"white\",\"gridwidth\":2,\"linecolor\":\"white\",\"showbackground\":true,\"ticks\":\"\",\"zerolinecolor\":\"white\"}},\"shapedefaults\":{\"line\":{\"color\":\"#2a3f5f\"}},\"ternary\":{\"aaxis\":{\"gridcolor\":\"white\",\"linecolor\":\"white\",\"ticks\":\"\"},\"baxis\":{\"gridcolor\":\"white\",\"linecolor\":\"white\",\"ticks\":\"\"},\"bgcolor\":\"#E5ECF6\",\"caxis\":{\"gridcolor\":\"white\",\"linecolor\":\"white\",\"ticks\":\"\"}},\"title\":{\"x\":0.05},\"xaxis\":{\"automargin\":true,\"gridcolor\":\"white\",\"linecolor\":\"white\",\"ticks\":\"\",\"title\":{\"standoff\":15},\"zerolinecolor\":\"white\",\"zerolinewidth\":2},\"yaxis\":{\"automargin\":true,\"gridcolor\":\"white\",\"linecolor\":\"white\",\"ticks\":\"\",\"title\":{\"standoff\":15},\"zerolinecolor\":\"white\",\"zerolinewidth\":2}}},\"title\":{\"font\":{\"color\":\"#4D5663\"}},\"xaxis\":{\"gridcolor\":\"#E1E5ED\",\"showgrid\":true,\"tickfont\":{\"color\":\"#4D5663\"},\"title\":{\"font\":{\"color\":\"#4D5663\"},\"text\":\"\"},\"zerolinecolor\":\"#E1E5ED\"},\"yaxis\":{\"gridcolor\":\"#E1E5ED\",\"showgrid\":true,\"tickfont\":{\"color\":\"#4D5663\"},\"title\":{\"font\":{\"color\":\"#4D5663\"},\"text\":\"\"},\"zerolinecolor\":\"#E1E5ED\"}},                        {\"showLink\": true, \"linkText\": \"Export to plot.ly\", \"plotlyServerURL\": \"https://plot.ly\", \"responsive\": true}                    ).then(function(){\n",
       "                            \n",
       "var gd = document.getElementById('0199e9f6-4743-4fff-aa7b-ee550c7bdf9b');\n",
       "var x = new MutationObserver(function (mutations, observer) {{\n",
       "        var display = window.getComputedStyle(gd).display;\n",
       "        if (!display || display === 'none') {{\n",
       "            console.log([gd, 'removed!']);\n",
       "            Plotly.purge(gd);\n",
       "            observer.disconnect();\n",
       "        }}\n",
       "}});\n",
       "\n",
       "// Listen for the removal of the full notebook cells\n",
       "var notebookContainer = gd.closest('#notebook-container');\n",
       "if (notebookContainer) {{\n",
       "    x.observe(notebookContainer, {childList: true});\n",
       "}}\n",
       "\n",
       "// Listen for the clearing of the current output cell\n",
       "var outputEl = gd.closest('.output');\n",
       "if (outputEl) {{\n",
       "    x.observe(outputEl, {childList: true});\n",
       "}}\n",
       "\n",
       "                        })                };                });            </script>        </div>"
      ]
     },
     "metadata": {},
     "output_type": "display_data"
    }
   ],
   "source": [
    "df1.iplot(kind='box')"
   ]
  },
  {
   "cell_type": "code",
   "execution_count": 22,
   "id": "98056da5",
   "metadata": {},
   "outputs": [],
   "source": [
    "df3 = pd.DataFrame({'x':[1,2,3,4,5],'y':[10,20,30,20,10],'z':[5,4,3,2,1]})"
   ]
  },
  {
   "cell_type": "code",
   "execution_count": 23,
   "id": "0b826975",
   "metadata": {},
   "outputs": [
    {
     "data": {
      "application/vnd.plotly.v1+json": {
       "config": {
        "linkText": "Export to plot.ly",
        "plotlyServerURL": "https://plot.ly",
        "showLink": true
       },
       "data": [
        {
         "colorscale": [
          [
           0,
           "rgb(165,0,38)"
          ],
          [
           0.1,
           "rgb(215,48,39)"
          ],
          [
           0.2,
           "rgb(244,109,67)"
          ],
          [
           0.3,
           "rgb(253,174,97)"
          ],
          [
           0.4,
           "rgb(254,224,144)"
          ],
          [
           0.5,
           "rgb(255,255,191)"
          ],
          [
           0.6,
           "rgb(224,243,248)"
          ],
          [
           0.7,
           "rgb(171,217,233)"
          ],
          [
           0.8,
           "rgb(116,173,209)"
          ],
          [
           0.9,
           "rgb(69,117,180)"
          ],
          [
           1,
           "rgb(49,54,149)"
          ]
         ],
         "type": "surface",
         "x": [
          0,
          1,
          2,
          3,
          4
         ],
         "y": [
          "x",
          "y",
          "z"
         ],
         "z": [
          [
           1,
           2,
           3,
           4,
           5
          ],
          [
           10,
           20,
           30,
           20,
           10
          ],
          [
           5,
           4,
           3,
           2,
           1
          ]
         ]
        }
       ],
       "layout": {
        "legend": {
         "bgcolor": "#F5F6F9",
         "font": {
          "color": "#4D5663"
         }
        },
        "paper_bgcolor": "#F5F6F9",
        "plot_bgcolor": "#F5F6F9",
        "template": {
         "data": {
          "bar": [
           {
            "error_x": {
             "color": "#2a3f5f"
            },
            "error_y": {
             "color": "#2a3f5f"
            },
            "marker": {
             "line": {
              "color": "#E5ECF6",
              "width": 0.5
             },
             "pattern": {
              "fillmode": "overlay",
              "size": 10,
              "solidity": 0.2
             }
            },
            "type": "bar"
           }
          ],
          "barpolar": [
           {
            "marker": {
             "line": {
              "color": "#E5ECF6",
              "width": 0.5
             },
             "pattern": {
              "fillmode": "overlay",
              "size": 10,
              "solidity": 0.2
             }
            },
            "type": "barpolar"
           }
          ],
          "carpet": [
           {
            "aaxis": {
             "endlinecolor": "#2a3f5f",
             "gridcolor": "white",
             "linecolor": "white",
             "minorgridcolor": "white",
             "startlinecolor": "#2a3f5f"
            },
            "baxis": {
             "endlinecolor": "#2a3f5f",
             "gridcolor": "white",
             "linecolor": "white",
             "minorgridcolor": "white",
             "startlinecolor": "#2a3f5f"
            },
            "type": "carpet"
           }
          ],
          "choropleth": [
           {
            "colorbar": {
             "outlinewidth": 0,
             "ticks": ""
            },
            "type": "choropleth"
           }
          ],
          "contour": [
           {
            "colorbar": {
             "outlinewidth": 0,
             "ticks": ""
            },
            "colorscale": [
             [
              0,
              "#0d0887"
             ],
             [
              0.1111111111111111,
              "#46039f"
             ],
             [
              0.2222222222222222,
              "#7201a8"
             ],
             [
              0.3333333333333333,
              "#9c179e"
             ],
             [
              0.4444444444444444,
              "#bd3786"
             ],
             [
              0.5555555555555556,
              "#d8576b"
             ],
             [
              0.6666666666666666,
              "#ed7953"
             ],
             [
              0.7777777777777778,
              "#fb9f3a"
             ],
             [
              0.8888888888888888,
              "#fdca26"
             ],
             [
              1,
              "#f0f921"
             ]
            ],
            "type": "contour"
           }
          ],
          "contourcarpet": [
           {
            "colorbar": {
             "outlinewidth": 0,
             "ticks": ""
            },
            "type": "contourcarpet"
           }
          ],
          "heatmap": [
           {
            "colorbar": {
             "outlinewidth": 0,
             "ticks": ""
            },
            "colorscale": [
             [
              0,
              "#0d0887"
             ],
             [
              0.1111111111111111,
              "#46039f"
             ],
             [
              0.2222222222222222,
              "#7201a8"
             ],
             [
              0.3333333333333333,
              "#9c179e"
             ],
             [
              0.4444444444444444,
              "#bd3786"
             ],
             [
              0.5555555555555556,
              "#d8576b"
             ],
             [
              0.6666666666666666,
              "#ed7953"
             ],
             [
              0.7777777777777778,
              "#fb9f3a"
             ],
             [
              0.8888888888888888,
              "#fdca26"
             ],
             [
              1,
              "#f0f921"
             ]
            ],
            "type": "heatmap"
           }
          ],
          "heatmapgl": [
           {
            "colorbar": {
             "outlinewidth": 0,
             "ticks": ""
            },
            "colorscale": [
             [
              0,
              "#0d0887"
             ],
             [
              0.1111111111111111,
              "#46039f"
             ],
             [
              0.2222222222222222,
              "#7201a8"
             ],
             [
              0.3333333333333333,
              "#9c179e"
             ],
             [
              0.4444444444444444,
              "#bd3786"
             ],
             [
              0.5555555555555556,
              "#d8576b"
             ],
             [
              0.6666666666666666,
              "#ed7953"
             ],
             [
              0.7777777777777778,
              "#fb9f3a"
             ],
             [
              0.8888888888888888,
              "#fdca26"
             ],
             [
              1,
              "#f0f921"
             ]
            ],
            "type": "heatmapgl"
           }
          ],
          "histogram": [
           {
            "marker": {
             "pattern": {
              "fillmode": "overlay",
              "size": 10,
              "solidity": 0.2
             }
            },
            "type": "histogram"
           }
          ],
          "histogram2d": [
           {
            "colorbar": {
             "outlinewidth": 0,
             "ticks": ""
            },
            "colorscale": [
             [
              0,
              "#0d0887"
             ],
             [
              0.1111111111111111,
              "#46039f"
             ],
             [
              0.2222222222222222,
              "#7201a8"
             ],
             [
              0.3333333333333333,
              "#9c179e"
             ],
             [
              0.4444444444444444,
              "#bd3786"
             ],
             [
              0.5555555555555556,
              "#d8576b"
             ],
             [
              0.6666666666666666,
              "#ed7953"
             ],
             [
              0.7777777777777778,
              "#fb9f3a"
             ],
             [
              0.8888888888888888,
              "#fdca26"
             ],
             [
              1,
              "#f0f921"
             ]
            ],
            "type": "histogram2d"
           }
          ],
          "histogram2dcontour": [
           {
            "colorbar": {
             "outlinewidth": 0,
             "ticks": ""
            },
            "colorscale": [
             [
              0,
              "#0d0887"
             ],
             [
              0.1111111111111111,
              "#46039f"
             ],
             [
              0.2222222222222222,
              "#7201a8"
             ],
             [
              0.3333333333333333,
              "#9c179e"
             ],
             [
              0.4444444444444444,
              "#bd3786"
             ],
             [
              0.5555555555555556,
              "#d8576b"
             ],
             [
              0.6666666666666666,
              "#ed7953"
             ],
             [
              0.7777777777777778,
              "#fb9f3a"
             ],
             [
              0.8888888888888888,
              "#fdca26"
             ],
             [
              1,
              "#f0f921"
             ]
            ],
            "type": "histogram2dcontour"
           }
          ],
          "mesh3d": [
           {
            "colorbar": {
             "outlinewidth": 0,
             "ticks": ""
            },
            "type": "mesh3d"
           }
          ],
          "parcoords": [
           {
            "line": {
             "colorbar": {
              "outlinewidth": 0,
              "ticks": ""
             }
            },
            "type": "parcoords"
           }
          ],
          "pie": [
           {
            "automargin": true,
            "type": "pie"
           }
          ],
          "scatter": [
           {
            "marker": {
             "colorbar": {
              "outlinewidth": 0,
              "ticks": ""
             }
            },
            "type": "scatter"
           }
          ],
          "scatter3d": [
           {
            "line": {
             "colorbar": {
              "outlinewidth": 0,
              "ticks": ""
             }
            },
            "marker": {
             "colorbar": {
              "outlinewidth": 0,
              "ticks": ""
             }
            },
            "type": "scatter3d"
           }
          ],
          "scattercarpet": [
           {
            "marker": {
             "colorbar": {
              "outlinewidth": 0,
              "ticks": ""
             }
            },
            "type": "scattercarpet"
           }
          ],
          "scattergeo": [
           {
            "marker": {
             "colorbar": {
              "outlinewidth": 0,
              "ticks": ""
             }
            },
            "type": "scattergeo"
           }
          ],
          "scattergl": [
           {
            "marker": {
             "colorbar": {
              "outlinewidth": 0,
              "ticks": ""
             }
            },
            "type": "scattergl"
           }
          ],
          "scattermapbox": [
           {
            "marker": {
             "colorbar": {
              "outlinewidth": 0,
              "ticks": ""
             }
            },
            "type": "scattermapbox"
           }
          ],
          "scatterpolar": [
           {
            "marker": {
             "colorbar": {
              "outlinewidth": 0,
              "ticks": ""
             }
            },
            "type": "scatterpolar"
           }
          ],
          "scatterpolargl": [
           {
            "marker": {
             "colorbar": {
              "outlinewidth": 0,
              "ticks": ""
             }
            },
            "type": "scatterpolargl"
           }
          ],
          "scatterternary": [
           {
            "marker": {
             "colorbar": {
              "outlinewidth": 0,
              "ticks": ""
             }
            },
            "type": "scatterternary"
           }
          ],
          "surface": [
           {
            "colorbar": {
             "outlinewidth": 0,
             "ticks": ""
            },
            "colorscale": [
             [
              0,
              "#0d0887"
             ],
             [
              0.1111111111111111,
              "#46039f"
             ],
             [
              0.2222222222222222,
              "#7201a8"
             ],
             [
              0.3333333333333333,
              "#9c179e"
             ],
             [
              0.4444444444444444,
              "#bd3786"
             ],
             [
              0.5555555555555556,
              "#d8576b"
             ],
             [
              0.6666666666666666,
              "#ed7953"
             ],
             [
              0.7777777777777778,
              "#fb9f3a"
             ],
             [
              0.8888888888888888,
              "#fdca26"
             ],
             [
              1,
              "#f0f921"
             ]
            ],
            "type": "surface"
           }
          ],
          "table": [
           {
            "cells": {
             "fill": {
              "color": "#EBF0F8"
             },
             "line": {
              "color": "white"
             }
            },
            "header": {
             "fill": {
              "color": "#C8D4E3"
             },
             "line": {
              "color": "white"
             }
            },
            "type": "table"
           }
          ]
         },
         "layout": {
          "annotationdefaults": {
           "arrowcolor": "#2a3f5f",
           "arrowhead": 0,
           "arrowwidth": 1
          },
          "autotypenumbers": "strict",
          "coloraxis": {
           "colorbar": {
            "outlinewidth": 0,
            "ticks": ""
           }
          },
          "colorscale": {
           "diverging": [
            [
             0,
             "#8e0152"
            ],
            [
             0.1,
             "#c51b7d"
            ],
            [
             0.2,
             "#de77ae"
            ],
            [
             0.3,
             "#f1b6da"
            ],
            [
             0.4,
             "#fde0ef"
            ],
            [
             0.5,
             "#f7f7f7"
            ],
            [
             0.6,
             "#e6f5d0"
            ],
            [
             0.7,
             "#b8e186"
            ],
            [
             0.8,
             "#7fbc41"
            ],
            [
             0.9,
             "#4d9221"
            ],
            [
             1,
             "#276419"
            ]
           ],
           "sequential": [
            [
             0,
             "#0d0887"
            ],
            [
             0.1111111111111111,
             "#46039f"
            ],
            [
             0.2222222222222222,
             "#7201a8"
            ],
            [
             0.3333333333333333,
             "#9c179e"
            ],
            [
             0.4444444444444444,
             "#bd3786"
            ],
            [
             0.5555555555555556,
             "#d8576b"
            ],
            [
             0.6666666666666666,
             "#ed7953"
            ],
            [
             0.7777777777777778,
             "#fb9f3a"
            ],
            [
             0.8888888888888888,
             "#fdca26"
            ],
            [
             1,
             "#f0f921"
            ]
           ],
           "sequentialminus": [
            [
             0,
             "#0d0887"
            ],
            [
             0.1111111111111111,
             "#46039f"
            ],
            [
             0.2222222222222222,
             "#7201a8"
            ],
            [
             0.3333333333333333,
             "#9c179e"
            ],
            [
             0.4444444444444444,
             "#bd3786"
            ],
            [
             0.5555555555555556,
             "#d8576b"
            ],
            [
             0.6666666666666666,
             "#ed7953"
            ],
            [
             0.7777777777777778,
             "#fb9f3a"
            ],
            [
             0.8888888888888888,
             "#fdca26"
            ],
            [
             1,
             "#f0f921"
            ]
           ]
          },
          "colorway": [
           "#636efa",
           "#EF553B",
           "#00cc96",
           "#ab63fa",
           "#FFA15A",
           "#19d3f3",
           "#FF6692",
           "#B6E880",
           "#FF97FF",
           "#FECB52"
          ],
          "font": {
           "color": "#2a3f5f"
          },
          "geo": {
           "bgcolor": "white",
           "lakecolor": "white",
           "landcolor": "#E5ECF6",
           "showlakes": true,
           "showland": true,
           "subunitcolor": "white"
          },
          "hoverlabel": {
           "align": "left"
          },
          "hovermode": "closest",
          "mapbox": {
           "style": "light"
          },
          "paper_bgcolor": "white",
          "plot_bgcolor": "#E5ECF6",
          "polar": {
           "angularaxis": {
            "gridcolor": "white",
            "linecolor": "white",
            "ticks": ""
           },
           "bgcolor": "#E5ECF6",
           "radialaxis": {
            "gridcolor": "white",
            "linecolor": "white",
            "ticks": ""
           }
          },
          "scene": {
           "xaxis": {
            "backgroundcolor": "#E5ECF6",
            "gridcolor": "white",
            "gridwidth": 2,
            "linecolor": "white",
            "showbackground": true,
            "ticks": "",
            "zerolinecolor": "white"
           },
           "yaxis": {
            "backgroundcolor": "#E5ECF6",
            "gridcolor": "white",
            "gridwidth": 2,
            "linecolor": "white",
            "showbackground": true,
            "ticks": "",
            "zerolinecolor": "white"
           },
           "zaxis": {
            "backgroundcolor": "#E5ECF6",
            "gridcolor": "white",
            "gridwidth": 2,
            "linecolor": "white",
            "showbackground": true,
            "ticks": "",
            "zerolinecolor": "white"
           }
          },
          "shapedefaults": {
           "line": {
            "color": "#2a3f5f"
           }
          },
          "ternary": {
           "aaxis": {
            "gridcolor": "white",
            "linecolor": "white",
            "ticks": ""
           },
           "baxis": {
            "gridcolor": "white",
            "linecolor": "white",
            "ticks": ""
           },
           "bgcolor": "#E5ECF6",
           "caxis": {
            "gridcolor": "white",
            "linecolor": "white",
            "ticks": ""
           }
          },
          "title": {
           "x": 0.05
          },
          "xaxis": {
           "automargin": true,
           "gridcolor": "white",
           "linecolor": "white",
           "ticks": "",
           "title": {
            "standoff": 15
           },
           "zerolinecolor": "white",
           "zerolinewidth": 2
          },
          "yaxis": {
           "automargin": true,
           "gridcolor": "white",
           "linecolor": "white",
           "ticks": "",
           "title": {
            "standoff": 15
           },
           "zerolinecolor": "white",
           "zerolinewidth": 2
          }
         }
        },
        "title": {
         "font": {
          "color": "#4D5663"
         }
        },
        "xaxis": {
         "gridcolor": "#E1E5ED",
         "showgrid": true,
         "tickfont": {
          "color": "#4D5663"
         },
         "title": {
          "font": {
           "color": "#4D5663"
          },
          "text": ""
         },
         "zerolinecolor": "#E1E5ED"
        },
        "yaxis": {
         "gridcolor": "#E1E5ED",
         "showgrid": true,
         "tickfont": {
          "color": "#4D5663"
         },
         "title": {
          "font": {
           "color": "#4D5663"
          },
          "text": ""
         },
         "zerolinecolor": "#E1E5ED"
        }
       }
      },
      "text/html": [
       "<div>                            <div id=\"e4d8c58f-12b4-439e-941f-a34a7b507a23\" class=\"plotly-graph-div\" style=\"height:525px; width:100%;\"></div>            <script type=\"text/javascript\">                require([\"plotly\"], function(Plotly) {                    window.PLOTLYENV=window.PLOTLYENV || {};\n",
       "                    window.PLOTLYENV.BASE_URL='https://plot.ly';                                    if (document.getElementById(\"e4d8c58f-12b4-439e-941f-a34a7b507a23\")) {                    Plotly.newPlot(                        \"e4d8c58f-12b4-439e-941f-a34a7b507a23\",                        [{\"colorscale\":[[0.0,\"rgb(165,0,38)\"],[0.1,\"rgb(215,48,39)\"],[0.2,\"rgb(244,109,67)\"],[0.3,\"rgb(253,174,97)\"],[0.4,\"rgb(254,224,144)\"],[0.5,\"rgb(255,255,191)\"],[0.6,\"rgb(224,243,248)\"],[0.7,\"rgb(171,217,233)\"],[0.8,\"rgb(116,173,209)\"],[0.9,\"rgb(69,117,180)\"],[1.0,\"rgb(49,54,149)\"]],\"type\":\"surface\",\"x\":[0,1,2,3,4],\"y\":[\"x\",\"y\",\"z\"],\"z\":[[1,2,3,4,5],[10,20,30,20,10],[5,4,3,2,1]]}],                        {\"legend\":{\"bgcolor\":\"#F5F6F9\",\"font\":{\"color\":\"#4D5663\"}},\"paper_bgcolor\":\"#F5F6F9\",\"plot_bgcolor\":\"#F5F6F9\",\"template\":{\"data\":{\"bar\":[{\"error_x\":{\"color\":\"#2a3f5f\"},\"error_y\":{\"color\":\"#2a3f5f\"},\"marker\":{\"line\":{\"color\":\"#E5ECF6\",\"width\":0.5},\"pattern\":{\"fillmode\":\"overlay\",\"size\":10,\"solidity\":0.2}},\"type\":\"bar\"}],\"barpolar\":[{\"marker\":{\"line\":{\"color\":\"#E5ECF6\",\"width\":0.5},\"pattern\":{\"fillmode\":\"overlay\",\"size\":10,\"solidity\":0.2}},\"type\":\"barpolar\"}],\"carpet\":[{\"aaxis\":{\"endlinecolor\":\"#2a3f5f\",\"gridcolor\":\"white\",\"linecolor\":\"white\",\"minorgridcolor\":\"white\",\"startlinecolor\":\"#2a3f5f\"},\"baxis\":{\"endlinecolor\":\"#2a3f5f\",\"gridcolor\":\"white\",\"linecolor\":\"white\",\"minorgridcolor\":\"white\",\"startlinecolor\":\"#2a3f5f\"},\"type\":\"carpet\"}],\"choropleth\":[{\"colorbar\":{\"outlinewidth\":0,\"ticks\":\"\"},\"type\":\"choropleth\"}],\"contour\":[{\"colorbar\":{\"outlinewidth\":0,\"ticks\":\"\"},\"colorscale\":[[0.0,\"#0d0887\"],[0.1111111111111111,\"#46039f\"],[0.2222222222222222,\"#7201a8\"],[0.3333333333333333,\"#9c179e\"],[0.4444444444444444,\"#bd3786\"],[0.5555555555555556,\"#d8576b\"],[0.6666666666666666,\"#ed7953\"],[0.7777777777777778,\"#fb9f3a\"],[0.8888888888888888,\"#fdca26\"],[1.0,\"#f0f921\"]],\"type\":\"contour\"}],\"contourcarpet\":[{\"colorbar\":{\"outlinewidth\":0,\"ticks\":\"\"},\"type\":\"contourcarpet\"}],\"heatmap\":[{\"colorbar\":{\"outlinewidth\":0,\"ticks\":\"\"},\"colorscale\":[[0.0,\"#0d0887\"],[0.1111111111111111,\"#46039f\"],[0.2222222222222222,\"#7201a8\"],[0.3333333333333333,\"#9c179e\"],[0.4444444444444444,\"#bd3786\"],[0.5555555555555556,\"#d8576b\"],[0.6666666666666666,\"#ed7953\"],[0.7777777777777778,\"#fb9f3a\"],[0.8888888888888888,\"#fdca26\"],[1.0,\"#f0f921\"]],\"type\":\"heatmap\"}],\"heatmapgl\":[{\"colorbar\":{\"outlinewidth\":0,\"ticks\":\"\"},\"colorscale\":[[0.0,\"#0d0887\"],[0.1111111111111111,\"#46039f\"],[0.2222222222222222,\"#7201a8\"],[0.3333333333333333,\"#9c179e\"],[0.4444444444444444,\"#bd3786\"],[0.5555555555555556,\"#d8576b\"],[0.6666666666666666,\"#ed7953\"],[0.7777777777777778,\"#fb9f3a\"],[0.8888888888888888,\"#fdca26\"],[1.0,\"#f0f921\"]],\"type\":\"heatmapgl\"}],\"histogram\":[{\"marker\":{\"pattern\":{\"fillmode\":\"overlay\",\"size\":10,\"solidity\":0.2}},\"type\":\"histogram\"}],\"histogram2d\":[{\"colorbar\":{\"outlinewidth\":0,\"ticks\":\"\"},\"colorscale\":[[0.0,\"#0d0887\"],[0.1111111111111111,\"#46039f\"],[0.2222222222222222,\"#7201a8\"],[0.3333333333333333,\"#9c179e\"],[0.4444444444444444,\"#bd3786\"],[0.5555555555555556,\"#d8576b\"],[0.6666666666666666,\"#ed7953\"],[0.7777777777777778,\"#fb9f3a\"],[0.8888888888888888,\"#fdca26\"],[1.0,\"#f0f921\"]],\"type\":\"histogram2d\"}],\"histogram2dcontour\":[{\"colorbar\":{\"outlinewidth\":0,\"ticks\":\"\"},\"colorscale\":[[0.0,\"#0d0887\"],[0.1111111111111111,\"#46039f\"],[0.2222222222222222,\"#7201a8\"],[0.3333333333333333,\"#9c179e\"],[0.4444444444444444,\"#bd3786\"],[0.5555555555555556,\"#d8576b\"],[0.6666666666666666,\"#ed7953\"],[0.7777777777777778,\"#fb9f3a\"],[0.8888888888888888,\"#fdca26\"],[1.0,\"#f0f921\"]],\"type\":\"histogram2dcontour\"}],\"mesh3d\":[{\"colorbar\":{\"outlinewidth\":0,\"ticks\":\"\"},\"type\":\"mesh3d\"}],\"parcoords\":[{\"line\":{\"colorbar\":{\"outlinewidth\":0,\"ticks\":\"\"}},\"type\":\"parcoords\"}],\"pie\":[{\"automargin\":true,\"type\":\"pie\"}],\"scatter\":[{\"marker\":{\"colorbar\":{\"outlinewidth\":0,\"ticks\":\"\"}},\"type\":\"scatter\"}],\"scatter3d\":[{\"line\":{\"colorbar\":{\"outlinewidth\":0,\"ticks\":\"\"}},\"marker\":{\"colorbar\":{\"outlinewidth\":0,\"ticks\":\"\"}},\"type\":\"scatter3d\"}],\"scattercarpet\":[{\"marker\":{\"colorbar\":{\"outlinewidth\":0,\"ticks\":\"\"}},\"type\":\"scattercarpet\"}],\"scattergeo\":[{\"marker\":{\"colorbar\":{\"outlinewidth\":0,\"ticks\":\"\"}},\"type\":\"scattergeo\"}],\"scattergl\":[{\"marker\":{\"colorbar\":{\"outlinewidth\":0,\"ticks\":\"\"}},\"type\":\"scattergl\"}],\"scattermapbox\":[{\"marker\":{\"colorbar\":{\"outlinewidth\":0,\"ticks\":\"\"}},\"type\":\"scattermapbox\"}],\"scatterpolar\":[{\"marker\":{\"colorbar\":{\"outlinewidth\":0,\"ticks\":\"\"}},\"type\":\"scatterpolar\"}],\"scatterpolargl\":[{\"marker\":{\"colorbar\":{\"outlinewidth\":0,\"ticks\":\"\"}},\"type\":\"scatterpolargl\"}],\"scatterternary\":[{\"marker\":{\"colorbar\":{\"outlinewidth\":0,\"ticks\":\"\"}},\"type\":\"scatterternary\"}],\"surface\":[{\"colorbar\":{\"outlinewidth\":0,\"ticks\":\"\"},\"colorscale\":[[0.0,\"#0d0887\"],[0.1111111111111111,\"#46039f\"],[0.2222222222222222,\"#7201a8\"],[0.3333333333333333,\"#9c179e\"],[0.4444444444444444,\"#bd3786\"],[0.5555555555555556,\"#d8576b\"],[0.6666666666666666,\"#ed7953\"],[0.7777777777777778,\"#fb9f3a\"],[0.8888888888888888,\"#fdca26\"],[1.0,\"#f0f921\"]],\"type\":\"surface\"}],\"table\":[{\"cells\":{\"fill\":{\"color\":\"#EBF0F8\"},\"line\":{\"color\":\"white\"}},\"header\":{\"fill\":{\"color\":\"#C8D4E3\"},\"line\":{\"color\":\"white\"}},\"type\":\"table\"}]},\"layout\":{\"annotationdefaults\":{\"arrowcolor\":\"#2a3f5f\",\"arrowhead\":0,\"arrowwidth\":1},\"autotypenumbers\":\"strict\",\"coloraxis\":{\"colorbar\":{\"outlinewidth\":0,\"ticks\":\"\"}},\"colorscale\":{\"diverging\":[[0,\"#8e0152\"],[0.1,\"#c51b7d\"],[0.2,\"#de77ae\"],[0.3,\"#f1b6da\"],[0.4,\"#fde0ef\"],[0.5,\"#f7f7f7\"],[0.6,\"#e6f5d0\"],[0.7,\"#b8e186\"],[0.8,\"#7fbc41\"],[0.9,\"#4d9221\"],[1,\"#276419\"]],\"sequential\":[[0.0,\"#0d0887\"],[0.1111111111111111,\"#46039f\"],[0.2222222222222222,\"#7201a8\"],[0.3333333333333333,\"#9c179e\"],[0.4444444444444444,\"#bd3786\"],[0.5555555555555556,\"#d8576b\"],[0.6666666666666666,\"#ed7953\"],[0.7777777777777778,\"#fb9f3a\"],[0.8888888888888888,\"#fdca26\"],[1.0,\"#f0f921\"]],\"sequentialminus\":[[0.0,\"#0d0887\"],[0.1111111111111111,\"#46039f\"],[0.2222222222222222,\"#7201a8\"],[0.3333333333333333,\"#9c179e\"],[0.4444444444444444,\"#bd3786\"],[0.5555555555555556,\"#d8576b\"],[0.6666666666666666,\"#ed7953\"],[0.7777777777777778,\"#fb9f3a\"],[0.8888888888888888,\"#fdca26\"],[1.0,\"#f0f921\"]]},\"colorway\":[\"#636efa\",\"#EF553B\",\"#00cc96\",\"#ab63fa\",\"#FFA15A\",\"#19d3f3\",\"#FF6692\",\"#B6E880\",\"#FF97FF\",\"#FECB52\"],\"font\":{\"color\":\"#2a3f5f\"},\"geo\":{\"bgcolor\":\"white\",\"lakecolor\":\"white\",\"landcolor\":\"#E5ECF6\",\"showlakes\":true,\"showland\":true,\"subunitcolor\":\"white\"},\"hoverlabel\":{\"align\":\"left\"},\"hovermode\":\"closest\",\"mapbox\":{\"style\":\"light\"},\"paper_bgcolor\":\"white\",\"plot_bgcolor\":\"#E5ECF6\",\"polar\":{\"angularaxis\":{\"gridcolor\":\"white\",\"linecolor\":\"white\",\"ticks\":\"\"},\"bgcolor\":\"#E5ECF6\",\"radialaxis\":{\"gridcolor\":\"white\",\"linecolor\":\"white\",\"ticks\":\"\"}},\"scene\":{\"xaxis\":{\"backgroundcolor\":\"#E5ECF6\",\"gridcolor\":\"white\",\"gridwidth\":2,\"linecolor\":\"white\",\"showbackground\":true,\"ticks\":\"\",\"zerolinecolor\":\"white\"},\"yaxis\":{\"backgroundcolor\":\"#E5ECF6\",\"gridcolor\":\"white\",\"gridwidth\":2,\"linecolor\":\"white\",\"showbackground\":true,\"ticks\":\"\",\"zerolinecolor\":\"white\"},\"zaxis\":{\"backgroundcolor\":\"#E5ECF6\",\"gridcolor\":\"white\",\"gridwidth\":2,\"linecolor\":\"white\",\"showbackground\":true,\"ticks\":\"\",\"zerolinecolor\":\"white\"}},\"shapedefaults\":{\"line\":{\"color\":\"#2a3f5f\"}},\"ternary\":{\"aaxis\":{\"gridcolor\":\"white\",\"linecolor\":\"white\",\"ticks\":\"\"},\"baxis\":{\"gridcolor\":\"white\",\"linecolor\":\"white\",\"ticks\":\"\"},\"bgcolor\":\"#E5ECF6\",\"caxis\":{\"gridcolor\":\"white\",\"linecolor\":\"white\",\"ticks\":\"\"}},\"title\":{\"x\":0.05},\"xaxis\":{\"automargin\":true,\"gridcolor\":\"white\",\"linecolor\":\"white\",\"ticks\":\"\",\"title\":{\"standoff\":15},\"zerolinecolor\":\"white\",\"zerolinewidth\":2},\"yaxis\":{\"automargin\":true,\"gridcolor\":\"white\",\"linecolor\":\"white\",\"ticks\":\"\",\"title\":{\"standoff\":15},\"zerolinecolor\":\"white\",\"zerolinewidth\":2}}},\"title\":{\"font\":{\"color\":\"#4D5663\"}},\"xaxis\":{\"gridcolor\":\"#E1E5ED\",\"showgrid\":true,\"tickfont\":{\"color\":\"#4D5663\"},\"title\":{\"font\":{\"color\":\"#4D5663\"},\"text\":\"\"},\"zerolinecolor\":\"#E1E5ED\"},\"yaxis\":{\"gridcolor\":\"#E1E5ED\",\"showgrid\":true,\"tickfont\":{\"color\":\"#4D5663\"},\"title\":{\"font\":{\"color\":\"#4D5663\"},\"text\":\"\"},\"zerolinecolor\":\"#E1E5ED\"}},                        {\"showLink\": true, \"linkText\": \"Export to plot.ly\", \"plotlyServerURL\": \"https://plot.ly\", \"responsive\": true}                    ).then(function(){\n",
       "                            \n",
       "var gd = document.getElementById('e4d8c58f-12b4-439e-941f-a34a7b507a23');\n",
       "var x = new MutationObserver(function (mutations, observer) {{\n",
       "        var display = window.getComputedStyle(gd).display;\n",
       "        if (!display || display === 'none') {{\n",
       "            console.log([gd, 'removed!']);\n",
       "            Plotly.purge(gd);\n",
       "            observer.disconnect();\n",
       "        }}\n",
       "}});\n",
       "\n",
       "// Listen for the removal of the full notebook cells\n",
       "var notebookContainer = gd.closest('#notebook-container');\n",
       "if (notebookContainer) {{\n",
       "    x.observe(notebookContainer, {childList: true});\n",
       "}}\n",
       "\n",
       "// Listen for the clearing of the current output cell\n",
       "var outputEl = gd.closest('.output');\n",
       "if (outputEl) {{\n",
       "    x.observe(outputEl, {childList: true});\n",
       "}}\n",
       "\n",
       "                        })                };                });            </script>        </div>"
      ]
     },
     "metadata": {},
     "output_type": "display_data"
    }
   ],
   "source": [
    "df3.iplot(kind='surface',colorscale='rdylbu')"
   ]
  },
  {
   "cell_type": "code",
   "execution_count": 24,
   "id": "c666825f",
   "metadata": {},
   "outputs": [
    {
     "data": {
      "application/vnd.plotly.v1+json": {
       "config": {
        "linkText": "Export to plot.ly",
        "plotlyServerURL": "https://plot.ly",
        "showLink": true
       },
       "data": [
        {
         "histfunc": "count",
         "histnorm": "",
         "marker": {
          "color": "rgba(255, 153, 51, 1.0)",
          "line": {
           "color": "#4D5663",
           "width": 1.3
          }
         },
         "name": "A",
         "opacity": 0.8,
         "orientation": "v",
         "type": "histogram",
         "x": [
          2.589041960375388,
          0.46446495832878104,
          -1.8622342467167692,
          0.44748282470611106,
          0.5183570648847058,
          0.12564036024206882,
          -0.24671833426783726,
          1.462267278267704,
          0.6501389382278583,
          -0.6672168110888695,
          1.0747847894423825,
          -0.8495646586597335,
          0.8803409704941809,
          0.8276737448827238,
          -1.9844611168258537,
          -0.5824346509596668,
          0.31244403542215765,
          -1.9058846467784096,
          1.534946502058969,
          0.03365006500295044,
          -0.29023183110114703,
          0.3634249740106572,
          -0.2711593909409654,
          -0.9132127122770319,
          -1.5297006715639065,
          1.8365899649961515,
          0.997620536569792,
          -0.2682830090953816,
          -0.9920391126364365,
          -1.1288479078430984,
          -0.008960344604379092,
          0.08630969741946837,
          0.46474673901283703,
          1.080017337225342,
          1.4661189565799466,
          1.7757481260571573,
          0.3205119277722951,
          -0.1798124223086815,
          -0.4958536804162443,
          -1.0824042969488221,
          0.6888694888308021,
          -0.5554454322639867,
          1.1331849620973518,
          0.707328075472143,
          1.5136541614709633,
          -0.15648423529358677,
          -0.1433778469159636,
          -0.40468586905849585,
          -1.1744432881168483,
          -1.1803866454136969,
          0.08701772484394507,
          0.5103821267093613,
          -0.7433404424157205,
          -1.3161156299617915,
          0.723862166500837,
          0.0026211503152519856,
          0.6319910333015367,
          -0.7800163727009063,
          0.35886810605281194,
          -0.8301763834854368,
          -0.8524457756811449,
          0.9092763928827187,
          1.386293842292832,
          0.6190688873352528,
          -0.7452238959623145,
          -0.10530966041008744,
          0.6046632526320624,
          0.5577696731869712,
          -0.2920090900408622,
          0.24765258184426459,
          0.24614719012597427,
          -0.5867004475301311,
          -0.6851305364461912,
          -0.3361131907069222,
          0.6096750683088648,
          0.40561099150908214,
          -1.0722447247968594,
          -0.8429016314669159,
          -1.1413614153611717,
          0.003590536584902493,
          0.34212167559255774,
          0.6196242646627494,
          1.3374433126596188,
          0.783739897292725,
          -0.21978813559000052,
          1.310680446778554,
          -2.1203859731935624,
          -0.012493364965072527,
          1.5567907256747087,
          -0.09070771602794563,
          1.4609853837943934,
          -0.08854349224959014,
          -0.856791361064138,
          1.0297475656962671,
          0.42198118265890605,
          -1.03460399441633,
          0.3735845230130623,
          -0.9241538869607678,
          1.570150040609835,
          1.321593659953714
         ]
        },
        {
         "histfunc": "count",
         "histnorm": "",
         "marker": {
          "color": "rgba(55, 128, 191, 1.0)",
          "line": {
           "color": "#4D5663",
           "width": 1.3
          }
         },
         "name": "B",
         "opacity": 0.8,
         "orientation": "v",
         "type": "histogram",
         "x": [
          0.3628951277929951,
          -0.3370451361478144,
          1.3231291351782233,
          1.4619849953879063,
          2.117158857110377,
          -0.4278911070438518,
          0.7344388751372461,
          -0.550323658824948,
          2.289515694879591,
          0.30742068285265095,
          -0.43977407824993986,
          -0.48884334734707185,
          -0.035511693272353935,
          -0.5342855677426966,
          -0.48180500751838384,
          -0.5402177259755799,
          -0.4257760630492741,
          0.7481064580560373,
          0.38511250543185005,
          0.8948997926718579,
          0.5536185568036587,
          -0.6179898772826783,
          -0.7373935557874557,
          -0.6587419190524676,
          -0.7908486650543705,
          1.9579085993292384,
          1.0227320867440015,
          0.08107381074532037,
          -1.0480676019418818,
          -0.038411630922692945,
          -0.43553368154143673,
          0.30547134666727555,
          0.31837764643846567,
          -1.2142755537571501,
          -1.33773432084597,
          -0.7116738068907645,
          0.9183167283589629,
          1.4743458775421812,
          -0.8431681057751841,
          0.43131204721851857,
          -0.9552574710960884,
          1.360748437511149,
          0.17242502311920802,
          -0.1770824993618998,
          -1.2597307314975406,
          0.10361795124246964,
          -0.18102523650578423,
          1.9573674380123398,
          -1.9199468808812759,
          1.4147956826988282,
          -0.9874818136598563,
          -0.7022202694544329,
          -0.5705377079294096,
          -0.7181380869066,
          -1.5780613890451551,
          1.8132684520903277,
          -0.04335726224652799,
          -0.622068537839199,
          0.49221363767893667,
          1.3014197695620342,
          1.2885602911496903,
          -2.8538900169933634,
          0.25687937793931975,
          -0.9849351141966023,
          0.12599618770693463,
          0.34654139867809725,
          1.6403611743900608,
          0.34133072787434726,
          -0.3534901678291325,
          -1.3064588907422594,
          -0.4066703765884158,
          -1.9235557950647617,
          -0.7594602183434284,
          -0.7594261635516536,
          -0.29650932390946017,
          -0.7528925452720961,
          -0.026538330860710606,
          -0.7006225652800655,
          0.08891626131943374,
          -0.9241877460937217,
          1.1524864431883304,
          -1.5516429203762085,
          -0.7512503489892757,
          -0.2172506305976222,
          -0.3702813233079158,
          -1.6215454634160695,
          0.8196735120810899,
          -0.7064143748530674,
          -1.4730559538526578,
          1.2335673831613592,
          -1.7081096406580358,
          -0.6861292538606032,
          0.4460871106918229,
          2.145446758488049,
          -1.1984764313861387,
          0.9179123015415466,
          1.97791814986797,
          1.421128192119911,
          1.0233477071069101,
          -0.45111783720311166
         ]
        },
        {
         "histfunc": "count",
         "histnorm": "",
         "marker": {
          "color": "rgba(50, 171, 96, 1.0)",
          "line": {
           "color": "#4D5663",
           "width": 1.3
          }
         },
         "name": "C",
         "opacity": 0.8,
         "orientation": "v",
         "type": "histogram",
         "x": [
          -1.262246386708045,
          1.5638579611107675,
          1.6533456642054394,
          -0.5857274150439693,
          -0.9718003335278091,
          1.9910197132485752,
          -0.01613438128547328,
          -0.7222960998036906,
          -0.43452788842835516,
          1.8314339377290816,
          0.4826739694509472,
          -0.8357536125493982,
          -0.2593056592632085,
          0.47485761951349925,
          -0.14457728585036042,
          -0.56176823174519,
          -0.0803096305257362,
          0.5397232549572729,
          -0.31562777844065215,
          0.609617256698708,
          0.5820343674747728,
          -1.0964528018403226,
          -1.390339177426912,
          0.6400248855065004,
          0.47259256055418436,
          -1.009103140705429,
          0.40008503543512436,
          0.5995439538437828,
          0.3133663894433051,
          -2.665883259984044,
          -0.6461013421361341,
          -0.897748954090031,
          0.9621321118411451,
          -0.04320877208820299,
          -1.9574508338642798,
          -1.8760688791065874,
          1.3121315059780538,
          0.4780649355181438,
          0.2570784378160595,
          -1.0061816352506987,
          0.5381896067709654,
          0.21933334682360123,
          -0.4136204340160217,
          0.8789952767971859,
          -1.733200734199713,
          0.059984712005299604,
          -1.91442323813317,
          -0.5197833673791261,
          0.6991419801679005,
          -0.03210088725470912,
          -1.0632333928130342,
          -0.9300430509553365,
          -0.6012510269252737,
          0.2865154738217406,
          -0.06645984323458184,
          0.700151111328033,
          -0.4545238559681508,
          0.4197119613844714,
          0.6250125750521822,
          1.543602961789841,
          1.9234299147607956,
          0.4923533990036386,
          0.5823243218785095,
          -1.7956378010179064,
          2.2093208145112797,
          0.9489631119338943,
          0.11530760570093612,
          -0.046247696279733165,
          0.10286615664533401,
          0.3355010334083271,
          -1.2288175562291406,
          -0.4381558644867527,
          0.885854600105045,
          -0.7263145339435798,
          0.6037080262828017,
          0.039503474380392735,
          -0.13721426690389715,
          -0.7697375720421394,
          0.5664177039909022,
          -1.4533834714828815,
          -0.28788223418867487,
          -0.6869229799254724,
          -1.1019783015488456,
          -0.6995551434410562,
          2.178902724269444,
          0.2367245426897461,
          -1.3572443445271885,
          0.19080191211520586,
          -0.13534547363413924,
          2.1480475225124707,
          -1.640485130488358,
          0.24098007138199837,
          -0.06635707305500717,
          1.43720151371039,
          -1.2881494307241494,
          0.358308734244282,
          0.6610268948939776,
          0.17306216631950902,
          -1.4831561712608663,
          0.17009094047524345
         ]
        },
        {
         "histfunc": "count",
         "histnorm": "",
         "marker": {
          "color": "rgba(128, 0, 128, 1.0)",
          "line": {
           "color": "#4D5663",
           "width": 1.3
          }
         },
         "name": "D",
         "opacity": 0.8,
         "orientation": "v",
         "type": "histogram",
         "x": [
          0.586241282522509,
          -0.22089794130715373,
          -0.32977958431585386,
          -0.5405340776475431,
          -0.04877349669389779,
          0.17133305898484838,
          0.7339462271620942,
          -1.7541849625682326,
          0.38375511557610975,
          0.5464722105970232,
          0.8766556178661989,
          0.6253743071113597,
          1.6496321321064724,
          -0.10249437906321221,
          -1.8595332557304354,
          -0.5715638089220502,
          0.4540962512541975,
          0.7954282130636511,
          -0.6171071272338289,
          0.9411102920743672,
          -0.569366457259254,
          -1.767388870564552,
          0.5747861920019599,
          -0.02796334802597153,
          -1.2198724082225554,
          -0.18441574978108347,
          -0.08983485756478941,
          0.7827998769009209,
          -0.6616735120219261,
          -0.21427997059061274,
          1.1716129881809083,
          -1.9365676452401521,
          -0.10149410131838696,
          -0.2315074296925576,
          0.4333018191203166,
          0.06759345971896527,
          -0.9565589970551207,
          -0.19913366531592835,
          0.6331964735409779,
          0.13008037562286812,
          -0.18791630766850706,
          0.6071395142047425,
          -0.9420566323715552,
          1.4991190191191128,
          0.775317504035868,
          -0.15913932979620232,
          0.1510895181968772,
          -0.5296271622969968,
          -0.7197989233436392,
          0.11309694712602393,
          0.44412989477713655,
          -0.09403027940187994,
          -0.8682299237393994,
          1.7553823217684428,
          0.4005643438094378,
          0.597826128640621,
          -0.7137331780235777,
          0.08946368313769949,
          -0.6430225688837589,
          -1.287764150816326,
          0.41927884809407495,
          0.1308943120600146,
          1.4612925365780403,
          0.4173722049236492,
          -1.2898246332745469,
          0.12236587640394747,
          0.3675122286041763,
          -0.711997864746745,
          -0.35653191502630593,
          0.42361621822173884,
          0.4459568784922028,
          -0.42929052053717953,
          0.09773405326685174,
          -1.4684722989661918,
          -0.31127757815040275,
          -1.1450330047394817,
          0.7635046452857974,
          0.6846182203864283,
          0.6830606678917067,
          -0.23039228538683168,
          -0.7468894046264111,
          -0.40334364788009475,
          0.6974026863797835,
          0.4129473636523078,
          -0.3019078924747539,
          -0.6427034119718875,
          -1.0264660139234527,
          -0.257059610559706,
          -0.05721108300739811,
          0.5561748153861257,
          1.202268969030958,
          1.310702613250076,
          -0.007279985522969998,
          -1.127865115148052,
          -1.2633103084419985,
          -0.41207404062384906,
          -2.680605099876662,
          -0.8744459753552564,
          -0.8670295998657446,
          -0.2292315238956763
         ]
        }
       ],
       "layout": {
        "barmode": "overlay",
        "legend": {
         "bgcolor": "#F5F6F9",
         "font": {
          "color": "#4D5663"
         }
        },
        "paper_bgcolor": "#F5F6F9",
        "plot_bgcolor": "#F5F6F9",
        "template": {
         "data": {
          "bar": [
           {
            "error_x": {
             "color": "#2a3f5f"
            },
            "error_y": {
             "color": "#2a3f5f"
            },
            "marker": {
             "line": {
              "color": "#E5ECF6",
              "width": 0.5
             },
             "pattern": {
              "fillmode": "overlay",
              "size": 10,
              "solidity": 0.2
             }
            },
            "type": "bar"
           }
          ],
          "barpolar": [
           {
            "marker": {
             "line": {
              "color": "#E5ECF6",
              "width": 0.5
             },
             "pattern": {
              "fillmode": "overlay",
              "size": 10,
              "solidity": 0.2
             }
            },
            "type": "barpolar"
           }
          ],
          "carpet": [
           {
            "aaxis": {
             "endlinecolor": "#2a3f5f",
             "gridcolor": "white",
             "linecolor": "white",
             "minorgridcolor": "white",
             "startlinecolor": "#2a3f5f"
            },
            "baxis": {
             "endlinecolor": "#2a3f5f",
             "gridcolor": "white",
             "linecolor": "white",
             "minorgridcolor": "white",
             "startlinecolor": "#2a3f5f"
            },
            "type": "carpet"
           }
          ],
          "choropleth": [
           {
            "colorbar": {
             "outlinewidth": 0,
             "ticks": ""
            },
            "type": "choropleth"
           }
          ],
          "contour": [
           {
            "colorbar": {
             "outlinewidth": 0,
             "ticks": ""
            },
            "colorscale": [
             [
              0,
              "#0d0887"
             ],
             [
              0.1111111111111111,
              "#46039f"
             ],
             [
              0.2222222222222222,
              "#7201a8"
             ],
             [
              0.3333333333333333,
              "#9c179e"
             ],
             [
              0.4444444444444444,
              "#bd3786"
             ],
             [
              0.5555555555555556,
              "#d8576b"
             ],
             [
              0.6666666666666666,
              "#ed7953"
             ],
             [
              0.7777777777777778,
              "#fb9f3a"
             ],
             [
              0.8888888888888888,
              "#fdca26"
             ],
             [
              1,
              "#f0f921"
             ]
            ],
            "type": "contour"
           }
          ],
          "contourcarpet": [
           {
            "colorbar": {
             "outlinewidth": 0,
             "ticks": ""
            },
            "type": "contourcarpet"
           }
          ],
          "heatmap": [
           {
            "colorbar": {
             "outlinewidth": 0,
             "ticks": ""
            },
            "colorscale": [
             [
              0,
              "#0d0887"
             ],
             [
              0.1111111111111111,
              "#46039f"
             ],
             [
              0.2222222222222222,
              "#7201a8"
             ],
             [
              0.3333333333333333,
              "#9c179e"
             ],
             [
              0.4444444444444444,
              "#bd3786"
             ],
             [
              0.5555555555555556,
              "#d8576b"
             ],
             [
              0.6666666666666666,
              "#ed7953"
             ],
             [
              0.7777777777777778,
              "#fb9f3a"
             ],
             [
              0.8888888888888888,
              "#fdca26"
             ],
             [
              1,
              "#f0f921"
             ]
            ],
            "type": "heatmap"
           }
          ],
          "heatmapgl": [
           {
            "colorbar": {
             "outlinewidth": 0,
             "ticks": ""
            },
            "colorscale": [
             [
              0,
              "#0d0887"
             ],
             [
              0.1111111111111111,
              "#46039f"
             ],
             [
              0.2222222222222222,
              "#7201a8"
             ],
             [
              0.3333333333333333,
              "#9c179e"
             ],
             [
              0.4444444444444444,
              "#bd3786"
             ],
             [
              0.5555555555555556,
              "#d8576b"
             ],
             [
              0.6666666666666666,
              "#ed7953"
             ],
             [
              0.7777777777777778,
              "#fb9f3a"
             ],
             [
              0.8888888888888888,
              "#fdca26"
             ],
             [
              1,
              "#f0f921"
             ]
            ],
            "type": "heatmapgl"
           }
          ],
          "histogram": [
           {
            "marker": {
             "pattern": {
              "fillmode": "overlay",
              "size": 10,
              "solidity": 0.2
             }
            },
            "type": "histogram"
           }
          ],
          "histogram2d": [
           {
            "colorbar": {
             "outlinewidth": 0,
             "ticks": ""
            },
            "colorscale": [
             [
              0,
              "#0d0887"
             ],
             [
              0.1111111111111111,
              "#46039f"
             ],
             [
              0.2222222222222222,
              "#7201a8"
             ],
             [
              0.3333333333333333,
              "#9c179e"
             ],
             [
              0.4444444444444444,
              "#bd3786"
             ],
             [
              0.5555555555555556,
              "#d8576b"
             ],
             [
              0.6666666666666666,
              "#ed7953"
             ],
             [
              0.7777777777777778,
              "#fb9f3a"
             ],
             [
              0.8888888888888888,
              "#fdca26"
             ],
             [
              1,
              "#f0f921"
             ]
            ],
            "type": "histogram2d"
           }
          ],
          "histogram2dcontour": [
           {
            "colorbar": {
             "outlinewidth": 0,
             "ticks": ""
            },
            "colorscale": [
             [
              0,
              "#0d0887"
             ],
             [
              0.1111111111111111,
              "#46039f"
             ],
             [
              0.2222222222222222,
              "#7201a8"
             ],
             [
              0.3333333333333333,
              "#9c179e"
             ],
             [
              0.4444444444444444,
              "#bd3786"
             ],
             [
              0.5555555555555556,
              "#d8576b"
             ],
             [
              0.6666666666666666,
              "#ed7953"
             ],
             [
              0.7777777777777778,
              "#fb9f3a"
             ],
             [
              0.8888888888888888,
              "#fdca26"
             ],
             [
              1,
              "#f0f921"
             ]
            ],
            "type": "histogram2dcontour"
           }
          ],
          "mesh3d": [
           {
            "colorbar": {
             "outlinewidth": 0,
             "ticks": ""
            },
            "type": "mesh3d"
           }
          ],
          "parcoords": [
           {
            "line": {
             "colorbar": {
              "outlinewidth": 0,
              "ticks": ""
             }
            },
            "type": "parcoords"
           }
          ],
          "pie": [
           {
            "automargin": true,
            "type": "pie"
           }
          ],
          "scatter": [
           {
            "marker": {
             "colorbar": {
              "outlinewidth": 0,
              "ticks": ""
             }
            },
            "type": "scatter"
           }
          ],
          "scatter3d": [
           {
            "line": {
             "colorbar": {
              "outlinewidth": 0,
              "ticks": ""
             }
            },
            "marker": {
             "colorbar": {
              "outlinewidth": 0,
              "ticks": ""
             }
            },
            "type": "scatter3d"
           }
          ],
          "scattercarpet": [
           {
            "marker": {
             "colorbar": {
              "outlinewidth": 0,
              "ticks": ""
             }
            },
            "type": "scattercarpet"
           }
          ],
          "scattergeo": [
           {
            "marker": {
             "colorbar": {
              "outlinewidth": 0,
              "ticks": ""
             }
            },
            "type": "scattergeo"
           }
          ],
          "scattergl": [
           {
            "marker": {
             "colorbar": {
              "outlinewidth": 0,
              "ticks": ""
             }
            },
            "type": "scattergl"
           }
          ],
          "scattermapbox": [
           {
            "marker": {
             "colorbar": {
              "outlinewidth": 0,
              "ticks": ""
             }
            },
            "type": "scattermapbox"
           }
          ],
          "scatterpolar": [
           {
            "marker": {
             "colorbar": {
              "outlinewidth": 0,
              "ticks": ""
             }
            },
            "type": "scatterpolar"
           }
          ],
          "scatterpolargl": [
           {
            "marker": {
             "colorbar": {
              "outlinewidth": 0,
              "ticks": ""
             }
            },
            "type": "scatterpolargl"
           }
          ],
          "scatterternary": [
           {
            "marker": {
             "colorbar": {
              "outlinewidth": 0,
              "ticks": ""
             }
            },
            "type": "scatterternary"
           }
          ],
          "surface": [
           {
            "colorbar": {
             "outlinewidth": 0,
             "ticks": ""
            },
            "colorscale": [
             [
              0,
              "#0d0887"
             ],
             [
              0.1111111111111111,
              "#46039f"
             ],
             [
              0.2222222222222222,
              "#7201a8"
             ],
             [
              0.3333333333333333,
              "#9c179e"
             ],
             [
              0.4444444444444444,
              "#bd3786"
             ],
             [
              0.5555555555555556,
              "#d8576b"
             ],
             [
              0.6666666666666666,
              "#ed7953"
             ],
             [
              0.7777777777777778,
              "#fb9f3a"
             ],
             [
              0.8888888888888888,
              "#fdca26"
             ],
             [
              1,
              "#f0f921"
             ]
            ],
            "type": "surface"
           }
          ],
          "table": [
           {
            "cells": {
             "fill": {
              "color": "#EBF0F8"
             },
             "line": {
              "color": "white"
             }
            },
            "header": {
             "fill": {
              "color": "#C8D4E3"
             },
             "line": {
              "color": "white"
             }
            },
            "type": "table"
           }
          ]
         },
         "layout": {
          "annotationdefaults": {
           "arrowcolor": "#2a3f5f",
           "arrowhead": 0,
           "arrowwidth": 1
          },
          "autotypenumbers": "strict",
          "coloraxis": {
           "colorbar": {
            "outlinewidth": 0,
            "ticks": ""
           }
          },
          "colorscale": {
           "diverging": [
            [
             0,
             "#8e0152"
            ],
            [
             0.1,
             "#c51b7d"
            ],
            [
             0.2,
             "#de77ae"
            ],
            [
             0.3,
             "#f1b6da"
            ],
            [
             0.4,
             "#fde0ef"
            ],
            [
             0.5,
             "#f7f7f7"
            ],
            [
             0.6,
             "#e6f5d0"
            ],
            [
             0.7,
             "#b8e186"
            ],
            [
             0.8,
             "#7fbc41"
            ],
            [
             0.9,
             "#4d9221"
            ],
            [
             1,
             "#276419"
            ]
           ],
           "sequential": [
            [
             0,
             "#0d0887"
            ],
            [
             0.1111111111111111,
             "#46039f"
            ],
            [
             0.2222222222222222,
             "#7201a8"
            ],
            [
             0.3333333333333333,
             "#9c179e"
            ],
            [
             0.4444444444444444,
             "#bd3786"
            ],
            [
             0.5555555555555556,
             "#d8576b"
            ],
            [
             0.6666666666666666,
             "#ed7953"
            ],
            [
             0.7777777777777778,
             "#fb9f3a"
            ],
            [
             0.8888888888888888,
             "#fdca26"
            ],
            [
             1,
             "#f0f921"
            ]
           ],
           "sequentialminus": [
            [
             0,
             "#0d0887"
            ],
            [
             0.1111111111111111,
             "#46039f"
            ],
            [
             0.2222222222222222,
             "#7201a8"
            ],
            [
             0.3333333333333333,
             "#9c179e"
            ],
            [
             0.4444444444444444,
             "#bd3786"
            ],
            [
             0.5555555555555556,
             "#d8576b"
            ],
            [
             0.6666666666666666,
             "#ed7953"
            ],
            [
             0.7777777777777778,
             "#fb9f3a"
            ],
            [
             0.8888888888888888,
             "#fdca26"
            ],
            [
             1,
             "#f0f921"
            ]
           ]
          },
          "colorway": [
           "#636efa",
           "#EF553B",
           "#00cc96",
           "#ab63fa",
           "#FFA15A",
           "#19d3f3",
           "#FF6692",
           "#B6E880",
           "#FF97FF",
           "#FECB52"
          ],
          "font": {
           "color": "#2a3f5f"
          },
          "geo": {
           "bgcolor": "white",
           "lakecolor": "white",
           "landcolor": "#E5ECF6",
           "showlakes": true,
           "showland": true,
           "subunitcolor": "white"
          },
          "hoverlabel": {
           "align": "left"
          },
          "hovermode": "closest",
          "mapbox": {
           "style": "light"
          },
          "paper_bgcolor": "white",
          "plot_bgcolor": "#E5ECF6",
          "polar": {
           "angularaxis": {
            "gridcolor": "white",
            "linecolor": "white",
            "ticks": ""
           },
           "bgcolor": "#E5ECF6",
           "radialaxis": {
            "gridcolor": "white",
            "linecolor": "white",
            "ticks": ""
           }
          },
          "scene": {
           "xaxis": {
            "backgroundcolor": "#E5ECF6",
            "gridcolor": "white",
            "gridwidth": 2,
            "linecolor": "white",
            "showbackground": true,
            "ticks": "",
            "zerolinecolor": "white"
           },
           "yaxis": {
            "backgroundcolor": "#E5ECF6",
            "gridcolor": "white",
            "gridwidth": 2,
            "linecolor": "white",
            "showbackground": true,
            "ticks": "",
            "zerolinecolor": "white"
           },
           "zaxis": {
            "backgroundcolor": "#E5ECF6",
            "gridcolor": "white",
            "gridwidth": 2,
            "linecolor": "white",
            "showbackground": true,
            "ticks": "",
            "zerolinecolor": "white"
           }
          },
          "shapedefaults": {
           "line": {
            "color": "#2a3f5f"
           }
          },
          "ternary": {
           "aaxis": {
            "gridcolor": "white",
            "linecolor": "white",
            "ticks": ""
           },
           "baxis": {
            "gridcolor": "white",
            "linecolor": "white",
            "ticks": ""
           },
           "bgcolor": "#E5ECF6",
           "caxis": {
            "gridcolor": "white",
            "linecolor": "white",
            "ticks": ""
           }
          },
          "title": {
           "x": 0.05
          },
          "xaxis": {
           "automargin": true,
           "gridcolor": "white",
           "linecolor": "white",
           "ticks": "",
           "title": {
            "standoff": 15
           },
           "zerolinecolor": "white",
           "zerolinewidth": 2
          },
          "yaxis": {
           "automargin": true,
           "gridcolor": "white",
           "linecolor": "white",
           "ticks": "",
           "title": {
            "standoff": 15
           },
           "zerolinecolor": "white",
           "zerolinewidth": 2
          }
         }
        },
        "title": {
         "font": {
          "color": "#4D5663"
         }
        },
        "xaxis": {
         "gridcolor": "#E1E5ED",
         "showgrid": true,
         "tickfont": {
          "color": "#4D5663"
         },
         "title": {
          "font": {
           "color": "#4D5663"
          },
          "text": ""
         },
         "zerolinecolor": "#E1E5ED"
        },
        "yaxis": {
         "gridcolor": "#E1E5ED",
         "showgrid": true,
         "tickfont": {
          "color": "#4D5663"
         },
         "title": {
          "font": {
           "color": "#4D5663"
          },
          "text": ""
         },
         "zerolinecolor": "#E1E5ED"
        }
       }
      },
      "text/html": [
       "<div>                            <div id=\"c56579af-2fe7-4a17-9f90-503045063127\" class=\"plotly-graph-div\" style=\"height:525px; width:100%;\"></div>            <script type=\"text/javascript\">                require([\"plotly\"], function(Plotly) {                    window.PLOTLYENV=window.PLOTLYENV || {};\n",
       "                    window.PLOTLYENV.BASE_URL='https://plot.ly';                                    if (document.getElementById(\"c56579af-2fe7-4a17-9f90-503045063127\")) {                    Plotly.newPlot(                        \"c56579af-2fe7-4a17-9f90-503045063127\",                        [{\"histfunc\":\"count\",\"histnorm\":\"\",\"marker\":{\"color\":\"rgba(255, 153, 51, 1.0)\",\"line\":{\"color\":\"#4D5663\",\"width\":1.3}},\"name\":\"A\",\"opacity\":0.8,\"orientation\":\"v\",\"type\":\"histogram\",\"x\":[2.589041960375388,0.46446495832878104,-1.8622342467167692,0.44748282470611106,0.5183570648847058,0.12564036024206882,-0.24671833426783726,1.462267278267704,0.6501389382278583,-0.6672168110888695,1.0747847894423825,-0.8495646586597335,0.8803409704941809,0.8276737448827238,-1.9844611168258537,-0.5824346509596668,0.31244403542215765,-1.9058846467784096,1.534946502058969,0.03365006500295044,-0.29023183110114703,0.3634249740106572,-0.2711593909409654,-0.9132127122770319,-1.5297006715639065,1.8365899649961515,0.997620536569792,-0.2682830090953816,-0.9920391126364365,-1.1288479078430984,-0.008960344604379092,0.08630969741946837,0.46474673901283703,1.080017337225342,1.4661189565799466,1.7757481260571573,0.3205119277722951,-0.1798124223086815,-0.4958536804162443,-1.0824042969488221,0.6888694888308021,-0.5554454322639867,1.1331849620973518,0.707328075472143,1.5136541614709633,-0.15648423529358677,-0.1433778469159636,-0.40468586905849585,-1.1744432881168483,-1.1803866454136969,0.08701772484394507,0.5103821267093613,-0.7433404424157205,-1.3161156299617915,0.723862166500837,0.0026211503152519856,0.6319910333015367,-0.7800163727009063,0.35886810605281194,-0.8301763834854368,-0.8524457756811449,0.9092763928827187,1.386293842292832,0.6190688873352528,-0.7452238959623145,-0.10530966041008744,0.6046632526320624,0.5577696731869712,-0.2920090900408622,0.24765258184426459,0.24614719012597427,-0.5867004475301311,-0.6851305364461912,-0.3361131907069222,0.6096750683088648,0.40561099150908214,-1.0722447247968594,-0.8429016314669159,-1.1413614153611717,0.003590536584902493,0.34212167559255774,0.6196242646627494,1.3374433126596188,0.783739897292725,-0.21978813559000052,1.310680446778554,-2.1203859731935624,-0.012493364965072527,1.5567907256747087,-0.09070771602794563,1.4609853837943934,-0.08854349224959014,-0.856791361064138,1.0297475656962671,0.42198118265890605,-1.03460399441633,0.3735845230130623,-0.9241538869607678,1.570150040609835,1.321593659953714]},{\"histfunc\":\"count\",\"histnorm\":\"\",\"marker\":{\"color\":\"rgba(55, 128, 191, 1.0)\",\"line\":{\"color\":\"#4D5663\",\"width\":1.3}},\"name\":\"B\",\"opacity\":0.8,\"orientation\":\"v\",\"type\":\"histogram\",\"x\":[0.3628951277929951,-0.3370451361478144,1.3231291351782233,1.4619849953879063,2.117158857110377,-0.4278911070438518,0.7344388751372461,-0.550323658824948,2.289515694879591,0.30742068285265095,-0.43977407824993986,-0.48884334734707185,-0.035511693272353935,-0.5342855677426966,-0.48180500751838384,-0.5402177259755799,-0.4257760630492741,0.7481064580560373,0.38511250543185005,0.8948997926718579,0.5536185568036587,-0.6179898772826783,-0.7373935557874557,-0.6587419190524676,-0.7908486650543705,1.9579085993292384,1.0227320867440015,0.08107381074532037,-1.0480676019418818,-0.038411630922692945,-0.43553368154143673,0.30547134666727555,0.31837764643846567,-1.2142755537571501,-1.33773432084597,-0.7116738068907645,0.9183167283589629,1.4743458775421812,-0.8431681057751841,0.43131204721851857,-0.9552574710960884,1.360748437511149,0.17242502311920802,-0.1770824993618998,-1.2597307314975406,0.10361795124246964,-0.18102523650578423,1.9573674380123398,-1.9199468808812759,1.4147956826988282,-0.9874818136598563,-0.7022202694544329,-0.5705377079294096,-0.7181380869066,-1.5780613890451551,1.8132684520903277,-0.04335726224652799,-0.622068537839199,0.49221363767893667,1.3014197695620342,1.2885602911496903,-2.8538900169933634,0.25687937793931975,-0.9849351141966023,0.12599618770693463,0.34654139867809725,1.6403611743900608,0.34133072787434726,-0.3534901678291325,-1.3064588907422594,-0.4066703765884158,-1.9235557950647617,-0.7594602183434284,-0.7594261635516536,-0.29650932390946017,-0.7528925452720961,-0.026538330860710606,-0.7006225652800655,0.08891626131943374,-0.9241877460937217,1.1524864431883304,-1.5516429203762085,-0.7512503489892757,-0.2172506305976222,-0.3702813233079158,-1.6215454634160695,0.8196735120810899,-0.7064143748530674,-1.4730559538526578,1.2335673831613592,-1.7081096406580358,-0.6861292538606032,0.4460871106918229,2.145446758488049,-1.1984764313861387,0.9179123015415466,1.97791814986797,1.421128192119911,1.0233477071069101,-0.45111783720311166]},{\"histfunc\":\"count\",\"histnorm\":\"\",\"marker\":{\"color\":\"rgba(50, 171, 96, 1.0)\",\"line\":{\"color\":\"#4D5663\",\"width\":1.3}},\"name\":\"C\",\"opacity\":0.8,\"orientation\":\"v\",\"type\":\"histogram\",\"x\":[-1.262246386708045,1.5638579611107675,1.6533456642054394,-0.5857274150439693,-0.9718003335278091,1.9910197132485752,-0.01613438128547328,-0.7222960998036906,-0.43452788842835516,1.8314339377290816,0.4826739694509472,-0.8357536125493982,-0.2593056592632085,0.47485761951349925,-0.14457728585036042,-0.56176823174519,-0.0803096305257362,0.5397232549572729,-0.31562777844065215,0.609617256698708,0.5820343674747728,-1.0964528018403226,-1.390339177426912,0.6400248855065004,0.47259256055418436,-1.009103140705429,0.40008503543512436,0.5995439538437828,0.3133663894433051,-2.665883259984044,-0.6461013421361341,-0.897748954090031,0.9621321118411451,-0.04320877208820299,-1.9574508338642798,-1.8760688791065874,1.3121315059780538,0.4780649355181438,0.2570784378160595,-1.0061816352506987,0.5381896067709654,0.21933334682360123,-0.4136204340160217,0.8789952767971859,-1.733200734199713,0.059984712005299604,-1.91442323813317,-0.5197833673791261,0.6991419801679005,-0.03210088725470912,-1.0632333928130342,-0.9300430509553365,-0.6012510269252737,0.2865154738217406,-0.06645984323458184,0.700151111328033,-0.4545238559681508,0.4197119613844714,0.6250125750521822,1.543602961789841,1.9234299147607956,0.4923533990036386,0.5823243218785095,-1.7956378010179064,2.2093208145112797,0.9489631119338943,0.11530760570093612,-0.046247696279733165,0.10286615664533401,0.3355010334083271,-1.2288175562291406,-0.4381558644867527,0.885854600105045,-0.7263145339435798,0.6037080262828017,0.039503474380392735,-0.13721426690389715,-0.7697375720421394,0.5664177039909022,-1.4533834714828815,-0.28788223418867487,-0.6869229799254724,-1.1019783015488456,-0.6995551434410562,2.178902724269444,0.2367245426897461,-1.3572443445271885,0.19080191211520586,-0.13534547363413924,2.1480475225124707,-1.640485130488358,0.24098007138199837,-0.06635707305500717,1.43720151371039,-1.2881494307241494,0.358308734244282,0.6610268948939776,0.17306216631950902,-1.4831561712608663,0.17009094047524345]},{\"histfunc\":\"count\",\"histnorm\":\"\",\"marker\":{\"color\":\"rgba(128, 0, 128, 1.0)\",\"line\":{\"color\":\"#4D5663\",\"width\":1.3}},\"name\":\"D\",\"opacity\":0.8,\"orientation\":\"v\",\"type\":\"histogram\",\"x\":[0.586241282522509,-0.22089794130715373,-0.32977958431585386,-0.5405340776475431,-0.04877349669389779,0.17133305898484838,0.7339462271620942,-1.7541849625682326,0.38375511557610975,0.5464722105970232,0.8766556178661989,0.6253743071113597,1.6496321321064724,-0.10249437906321221,-1.8595332557304354,-0.5715638089220502,0.4540962512541975,0.7954282130636511,-0.6171071272338289,0.9411102920743672,-0.569366457259254,-1.767388870564552,0.5747861920019599,-0.02796334802597153,-1.2198724082225554,-0.18441574978108347,-0.08983485756478941,0.7827998769009209,-0.6616735120219261,-0.21427997059061274,1.1716129881809083,-1.9365676452401521,-0.10149410131838696,-0.2315074296925576,0.4333018191203166,0.06759345971896527,-0.9565589970551207,-0.19913366531592835,0.6331964735409779,0.13008037562286812,-0.18791630766850706,0.6071395142047425,-0.9420566323715552,1.4991190191191128,0.775317504035868,-0.15913932979620232,0.1510895181968772,-0.5296271622969968,-0.7197989233436392,0.11309694712602393,0.44412989477713655,-0.09403027940187994,-0.8682299237393994,1.7553823217684428,0.4005643438094378,0.597826128640621,-0.7137331780235777,0.08946368313769949,-0.6430225688837589,-1.287764150816326,0.41927884809407495,0.1308943120600146,1.4612925365780403,0.4173722049236492,-1.2898246332745469,0.12236587640394747,0.3675122286041763,-0.711997864746745,-0.35653191502630593,0.42361621822173884,0.4459568784922028,-0.42929052053717953,0.09773405326685174,-1.4684722989661918,-0.31127757815040275,-1.1450330047394817,0.7635046452857974,0.6846182203864283,0.6830606678917067,-0.23039228538683168,-0.7468894046264111,-0.40334364788009475,0.6974026863797835,0.4129473636523078,-0.3019078924747539,-0.6427034119718875,-1.0264660139234527,-0.257059610559706,-0.05721108300739811,0.5561748153861257,1.202268969030958,1.310702613250076,-0.007279985522969998,-1.127865115148052,-1.2633103084419985,-0.41207404062384906,-2.680605099876662,-0.8744459753552564,-0.8670295998657446,-0.2292315238956763]}],                        {\"barmode\":\"overlay\",\"legend\":{\"bgcolor\":\"#F5F6F9\",\"font\":{\"color\":\"#4D5663\"}},\"paper_bgcolor\":\"#F5F6F9\",\"plot_bgcolor\":\"#F5F6F9\",\"template\":{\"data\":{\"bar\":[{\"error_x\":{\"color\":\"#2a3f5f\"},\"error_y\":{\"color\":\"#2a3f5f\"},\"marker\":{\"line\":{\"color\":\"#E5ECF6\",\"width\":0.5},\"pattern\":{\"fillmode\":\"overlay\",\"size\":10,\"solidity\":0.2}},\"type\":\"bar\"}],\"barpolar\":[{\"marker\":{\"line\":{\"color\":\"#E5ECF6\",\"width\":0.5},\"pattern\":{\"fillmode\":\"overlay\",\"size\":10,\"solidity\":0.2}},\"type\":\"barpolar\"}],\"carpet\":[{\"aaxis\":{\"endlinecolor\":\"#2a3f5f\",\"gridcolor\":\"white\",\"linecolor\":\"white\",\"minorgridcolor\":\"white\",\"startlinecolor\":\"#2a3f5f\"},\"baxis\":{\"endlinecolor\":\"#2a3f5f\",\"gridcolor\":\"white\",\"linecolor\":\"white\",\"minorgridcolor\":\"white\",\"startlinecolor\":\"#2a3f5f\"},\"type\":\"carpet\"}],\"choropleth\":[{\"colorbar\":{\"outlinewidth\":0,\"ticks\":\"\"},\"type\":\"choropleth\"}],\"contour\":[{\"colorbar\":{\"outlinewidth\":0,\"ticks\":\"\"},\"colorscale\":[[0.0,\"#0d0887\"],[0.1111111111111111,\"#46039f\"],[0.2222222222222222,\"#7201a8\"],[0.3333333333333333,\"#9c179e\"],[0.4444444444444444,\"#bd3786\"],[0.5555555555555556,\"#d8576b\"],[0.6666666666666666,\"#ed7953\"],[0.7777777777777778,\"#fb9f3a\"],[0.8888888888888888,\"#fdca26\"],[1.0,\"#f0f921\"]],\"type\":\"contour\"}],\"contourcarpet\":[{\"colorbar\":{\"outlinewidth\":0,\"ticks\":\"\"},\"type\":\"contourcarpet\"}],\"heatmap\":[{\"colorbar\":{\"outlinewidth\":0,\"ticks\":\"\"},\"colorscale\":[[0.0,\"#0d0887\"],[0.1111111111111111,\"#46039f\"],[0.2222222222222222,\"#7201a8\"],[0.3333333333333333,\"#9c179e\"],[0.4444444444444444,\"#bd3786\"],[0.5555555555555556,\"#d8576b\"],[0.6666666666666666,\"#ed7953\"],[0.7777777777777778,\"#fb9f3a\"],[0.8888888888888888,\"#fdca26\"],[1.0,\"#f0f921\"]],\"type\":\"heatmap\"}],\"heatmapgl\":[{\"colorbar\":{\"outlinewidth\":0,\"ticks\":\"\"},\"colorscale\":[[0.0,\"#0d0887\"],[0.1111111111111111,\"#46039f\"],[0.2222222222222222,\"#7201a8\"],[0.3333333333333333,\"#9c179e\"],[0.4444444444444444,\"#bd3786\"],[0.5555555555555556,\"#d8576b\"],[0.6666666666666666,\"#ed7953\"],[0.7777777777777778,\"#fb9f3a\"],[0.8888888888888888,\"#fdca26\"],[1.0,\"#f0f921\"]],\"type\":\"heatmapgl\"}],\"histogram\":[{\"marker\":{\"pattern\":{\"fillmode\":\"overlay\",\"size\":10,\"solidity\":0.2}},\"type\":\"histogram\"}],\"histogram2d\":[{\"colorbar\":{\"outlinewidth\":0,\"ticks\":\"\"},\"colorscale\":[[0.0,\"#0d0887\"],[0.1111111111111111,\"#46039f\"],[0.2222222222222222,\"#7201a8\"],[0.3333333333333333,\"#9c179e\"],[0.4444444444444444,\"#bd3786\"],[0.5555555555555556,\"#d8576b\"],[0.6666666666666666,\"#ed7953\"],[0.7777777777777778,\"#fb9f3a\"],[0.8888888888888888,\"#fdca26\"],[1.0,\"#f0f921\"]],\"type\":\"histogram2d\"}],\"histogram2dcontour\":[{\"colorbar\":{\"outlinewidth\":0,\"ticks\":\"\"},\"colorscale\":[[0.0,\"#0d0887\"],[0.1111111111111111,\"#46039f\"],[0.2222222222222222,\"#7201a8\"],[0.3333333333333333,\"#9c179e\"],[0.4444444444444444,\"#bd3786\"],[0.5555555555555556,\"#d8576b\"],[0.6666666666666666,\"#ed7953\"],[0.7777777777777778,\"#fb9f3a\"],[0.8888888888888888,\"#fdca26\"],[1.0,\"#f0f921\"]],\"type\":\"histogram2dcontour\"}],\"mesh3d\":[{\"colorbar\":{\"outlinewidth\":0,\"ticks\":\"\"},\"type\":\"mesh3d\"}],\"parcoords\":[{\"line\":{\"colorbar\":{\"outlinewidth\":0,\"ticks\":\"\"}},\"type\":\"parcoords\"}],\"pie\":[{\"automargin\":true,\"type\":\"pie\"}],\"scatter\":[{\"marker\":{\"colorbar\":{\"outlinewidth\":0,\"ticks\":\"\"}},\"type\":\"scatter\"}],\"scatter3d\":[{\"line\":{\"colorbar\":{\"outlinewidth\":0,\"ticks\":\"\"}},\"marker\":{\"colorbar\":{\"outlinewidth\":0,\"ticks\":\"\"}},\"type\":\"scatter3d\"}],\"scattercarpet\":[{\"marker\":{\"colorbar\":{\"outlinewidth\":0,\"ticks\":\"\"}},\"type\":\"scattercarpet\"}],\"scattergeo\":[{\"marker\":{\"colorbar\":{\"outlinewidth\":0,\"ticks\":\"\"}},\"type\":\"scattergeo\"}],\"scattergl\":[{\"marker\":{\"colorbar\":{\"outlinewidth\":0,\"ticks\":\"\"}},\"type\":\"scattergl\"}],\"scattermapbox\":[{\"marker\":{\"colorbar\":{\"outlinewidth\":0,\"ticks\":\"\"}},\"type\":\"scattermapbox\"}],\"scatterpolar\":[{\"marker\":{\"colorbar\":{\"outlinewidth\":0,\"ticks\":\"\"}},\"type\":\"scatterpolar\"}],\"scatterpolargl\":[{\"marker\":{\"colorbar\":{\"outlinewidth\":0,\"ticks\":\"\"}},\"type\":\"scatterpolargl\"}],\"scatterternary\":[{\"marker\":{\"colorbar\":{\"outlinewidth\":0,\"ticks\":\"\"}},\"type\":\"scatterternary\"}],\"surface\":[{\"colorbar\":{\"outlinewidth\":0,\"ticks\":\"\"},\"colorscale\":[[0.0,\"#0d0887\"],[0.1111111111111111,\"#46039f\"],[0.2222222222222222,\"#7201a8\"],[0.3333333333333333,\"#9c179e\"],[0.4444444444444444,\"#bd3786\"],[0.5555555555555556,\"#d8576b\"],[0.6666666666666666,\"#ed7953\"],[0.7777777777777778,\"#fb9f3a\"],[0.8888888888888888,\"#fdca26\"],[1.0,\"#f0f921\"]],\"type\":\"surface\"}],\"table\":[{\"cells\":{\"fill\":{\"color\":\"#EBF0F8\"},\"line\":{\"color\":\"white\"}},\"header\":{\"fill\":{\"color\":\"#C8D4E3\"},\"line\":{\"color\":\"white\"}},\"type\":\"table\"}]},\"layout\":{\"annotationdefaults\":{\"arrowcolor\":\"#2a3f5f\",\"arrowhead\":0,\"arrowwidth\":1},\"autotypenumbers\":\"strict\",\"coloraxis\":{\"colorbar\":{\"outlinewidth\":0,\"ticks\":\"\"}},\"colorscale\":{\"diverging\":[[0,\"#8e0152\"],[0.1,\"#c51b7d\"],[0.2,\"#de77ae\"],[0.3,\"#f1b6da\"],[0.4,\"#fde0ef\"],[0.5,\"#f7f7f7\"],[0.6,\"#e6f5d0\"],[0.7,\"#b8e186\"],[0.8,\"#7fbc41\"],[0.9,\"#4d9221\"],[1,\"#276419\"]],\"sequential\":[[0.0,\"#0d0887\"],[0.1111111111111111,\"#46039f\"],[0.2222222222222222,\"#7201a8\"],[0.3333333333333333,\"#9c179e\"],[0.4444444444444444,\"#bd3786\"],[0.5555555555555556,\"#d8576b\"],[0.6666666666666666,\"#ed7953\"],[0.7777777777777778,\"#fb9f3a\"],[0.8888888888888888,\"#fdca26\"],[1.0,\"#f0f921\"]],\"sequentialminus\":[[0.0,\"#0d0887\"],[0.1111111111111111,\"#46039f\"],[0.2222222222222222,\"#7201a8\"],[0.3333333333333333,\"#9c179e\"],[0.4444444444444444,\"#bd3786\"],[0.5555555555555556,\"#d8576b\"],[0.6666666666666666,\"#ed7953\"],[0.7777777777777778,\"#fb9f3a\"],[0.8888888888888888,\"#fdca26\"],[1.0,\"#f0f921\"]]},\"colorway\":[\"#636efa\",\"#EF553B\",\"#00cc96\",\"#ab63fa\",\"#FFA15A\",\"#19d3f3\",\"#FF6692\",\"#B6E880\",\"#FF97FF\",\"#FECB52\"],\"font\":{\"color\":\"#2a3f5f\"},\"geo\":{\"bgcolor\":\"white\",\"lakecolor\":\"white\",\"landcolor\":\"#E5ECF6\",\"showlakes\":true,\"showland\":true,\"subunitcolor\":\"white\"},\"hoverlabel\":{\"align\":\"left\"},\"hovermode\":\"closest\",\"mapbox\":{\"style\":\"light\"},\"paper_bgcolor\":\"white\",\"plot_bgcolor\":\"#E5ECF6\",\"polar\":{\"angularaxis\":{\"gridcolor\":\"white\",\"linecolor\":\"white\",\"ticks\":\"\"},\"bgcolor\":\"#E5ECF6\",\"radialaxis\":{\"gridcolor\":\"white\",\"linecolor\":\"white\",\"ticks\":\"\"}},\"scene\":{\"xaxis\":{\"backgroundcolor\":\"#E5ECF6\",\"gridcolor\":\"white\",\"gridwidth\":2,\"linecolor\":\"white\",\"showbackground\":true,\"ticks\":\"\",\"zerolinecolor\":\"white\"},\"yaxis\":{\"backgroundcolor\":\"#E5ECF6\",\"gridcolor\":\"white\",\"gridwidth\":2,\"linecolor\":\"white\",\"showbackground\":true,\"ticks\":\"\",\"zerolinecolor\":\"white\"},\"zaxis\":{\"backgroundcolor\":\"#E5ECF6\",\"gridcolor\":\"white\",\"gridwidth\":2,\"linecolor\":\"white\",\"showbackground\":true,\"ticks\":\"\",\"zerolinecolor\":\"white\"}},\"shapedefaults\":{\"line\":{\"color\":\"#2a3f5f\"}},\"ternary\":{\"aaxis\":{\"gridcolor\":\"white\",\"linecolor\":\"white\",\"ticks\":\"\"},\"baxis\":{\"gridcolor\":\"white\",\"linecolor\":\"white\",\"ticks\":\"\"},\"bgcolor\":\"#E5ECF6\",\"caxis\":{\"gridcolor\":\"white\",\"linecolor\":\"white\",\"ticks\":\"\"}},\"title\":{\"x\":0.05},\"xaxis\":{\"automargin\":true,\"gridcolor\":\"white\",\"linecolor\":\"white\",\"ticks\":\"\",\"title\":{\"standoff\":15},\"zerolinecolor\":\"white\",\"zerolinewidth\":2},\"yaxis\":{\"automargin\":true,\"gridcolor\":\"white\",\"linecolor\":\"white\",\"ticks\":\"\",\"title\":{\"standoff\":15},\"zerolinecolor\":\"white\",\"zerolinewidth\":2}}},\"title\":{\"font\":{\"color\":\"#4D5663\"}},\"xaxis\":{\"gridcolor\":\"#E1E5ED\",\"showgrid\":true,\"tickfont\":{\"color\":\"#4D5663\"},\"title\":{\"font\":{\"color\":\"#4D5663\"},\"text\":\"\"},\"zerolinecolor\":\"#E1E5ED\"},\"yaxis\":{\"gridcolor\":\"#E1E5ED\",\"showgrid\":true,\"tickfont\":{\"color\":\"#4D5663\"},\"title\":{\"font\":{\"color\":\"#4D5663\"},\"text\":\"\"},\"zerolinecolor\":\"#E1E5ED\"}},                        {\"showLink\": true, \"linkText\": \"Export to plot.ly\", \"plotlyServerURL\": \"https://plot.ly\", \"responsive\": true}                    ).then(function(){\n",
       "                            \n",
       "var gd = document.getElementById('c56579af-2fe7-4a17-9f90-503045063127');\n",
       "var x = new MutationObserver(function (mutations, observer) {{\n",
       "        var display = window.getComputedStyle(gd).display;\n",
       "        if (!display || display === 'none') {{\n",
       "            console.log([gd, 'removed!']);\n",
       "            Plotly.purge(gd);\n",
       "            observer.disconnect();\n",
       "        }}\n",
       "}});\n",
       "\n",
       "// Listen for the removal of the full notebook cells\n",
       "var notebookContainer = gd.closest('#notebook-container');\n",
       "if (notebookContainer) {{\n",
       "    x.observe(notebookContainer, {childList: true});\n",
       "}}\n",
       "\n",
       "// Listen for the clearing of the current output cell\n",
       "var outputEl = gd.closest('.output');\n",
       "if (outputEl) {{\n",
       "    x.observe(outputEl, {childList: true});\n",
       "}}\n",
       "\n",
       "                        })                };                });            </script>        </div>"
      ]
     },
     "metadata": {},
     "output_type": "display_data"
    }
   ],
   "source": [
    "df1.iplot(kind='hist')"
   ]
  },
  {
   "cell_type": "code",
   "execution_count": 25,
   "id": "d170d79c",
   "metadata": {
    "scrolled": true
   },
   "outputs": [
    {
     "name": "stderr",
     "output_type": "stream",
     "text": [
      "C:\\Users\\djpra\\Documents\\DS\\anaconda\\lib\\site-packages\\cufflinks\\plotlytools.py:849: FutureWarning:\n",
      "\n",
      "The pandas.np module is deprecated and will be removed from pandas in a future version. Import numpy directly instead\n",
      "\n",
      "C:\\Users\\djpra\\Documents\\DS\\anaconda\\lib\\site-packages\\cufflinks\\plotlytools.py:850: FutureWarning:\n",
      "\n",
      "The pandas.np module is deprecated and will be removed from pandas in a future version. Import numpy directly instead\n",
      "\n"
     ]
    },
    {
     "data": {
      "application/vnd.plotly.v1+json": {
       "config": {
        "linkText": "Export to plot.ly",
        "plotlyServerURL": "https://plot.ly",
        "showLink": true
       },
       "data": [
        {
         "line": {
          "color": "rgba(255, 153, 51, 1.0)",
          "dash": "solid",
          "shape": "linear",
          "width": 1.3
         },
         "mode": "lines",
         "name": "A",
         "text": "",
         "type": "scatter",
         "x": [
          0,
          1,
          2,
          3,
          4,
          5,
          6,
          7,
          8,
          9,
          10,
          11,
          12,
          13,
          14,
          15,
          16,
          17,
          18,
          19,
          20,
          21,
          22,
          23,
          24,
          25,
          26,
          27,
          28,
          29,
          30,
          31,
          32,
          33,
          34,
          35,
          36,
          37,
          38,
          39,
          40,
          41,
          42,
          43,
          44,
          45,
          46,
          47,
          48,
          49,
          50,
          51,
          52,
          53,
          54,
          55,
          56,
          57,
          58,
          59,
          60,
          61,
          62,
          63,
          64,
          65,
          66,
          67,
          68,
          69,
          70,
          71,
          72,
          73,
          74,
          75,
          76,
          77,
          78,
          79,
          80,
          81,
          82,
          83,
          84,
          85,
          86,
          87,
          88,
          89,
          90,
          91,
          92,
          93,
          94,
          95,
          96,
          97,
          98,
          99
         ],
         "y": [
          2.589041960375388,
          0.46446495832878104,
          -1.8622342467167692,
          0.44748282470611106,
          0.5183570648847058,
          0.12564036024206882,
          -0.24671833426783726,
          1.462267278267704,
          0.6501389382278583,
          -0.6672168110888695,
          1.0747847894423825,
          -0.8495646586597335,
          0.8803409704941809,
          0.8276737448827238,
          -1.9844611168258537,
          -0.5824346509596668,
          0.31244403542215765,
          -1.9058846467784096,
          1.534946502058969,
          0.03365006500295044,
          -0.29023183110114703,
          0.3634249740106572,
          -0.2711593909409654,
          -0.9132127122770319,
          -1.5297006715639065,
          1.8365899649961515,
          0.997620536569792,
          -0.2682830090953816,
          -0.9920391126364365,
          -1.1288479078430984,
          -0.008960344604379092,
          0.08630969741946837,
          0.46474673901283703,
          1.080017337225342,
          1.4661189565799466,
          1.7757481260571573,
          0.3205119277722951,
          -0.1798124223086815,
          -0.4958536804162443,
          -1.0824042969488221,
          0.6888694888308021,
          -0.5554454322639867,
          1.1331849620973518,
          0.707328075472143,
          1.5136541614709633,
          -0.15648423529358677,
          -0.1433778469159636,
          -0.40468586905849585,
          -1.1744432881168483,
          -1.1803866454136969,
          0.08701772484394507,
          0.5103821267093613,
          -0.7433404424157205,
          -1.3161156299617915,
          0.723862166500837,
          0.0026211503152519856,
          0.6319910333015367,
          -0.7800163727009063,
          0.35886810605281194,
          -0.8301763834854368,
          -0.8524457756811449,
          0.9092763928827187,
          1.386293842292832,
          0.6190688873352528,
          -0.7452238959623145,
          -0.10530966041008744,
          0.6046632526320624,
          0.5577696731869712,
          -0.2920090900408622,
          0.24765258184426459,
          0.24614719012597427,
          -0.5867004475301311,
          -0.6851305364461912,
          -0.3361131907069222,
          0.6096750683088648,
          0.40561099150908214,
          -1.0722447247968594,
          -0.8429016314669159,
          -1.1413614153611717,
          0.003590536584902493,
          0.34212167559255774,
          0.6196242646627494,
          1.3374433126596188,
          0.783739897292725,
          -0.21978813559000052,
          1.310680446778554,
          -2.1203859731935624,
          -0.012493364965072527,
          1.5567907256747087,
          -0.09070771602794563,
          1.4609853837943934,
          -0.08854349224959014,
          -0.856791361064138,
          1.0297475656962671,
          0.42198118265890605,
          -1.03460399441633,
          0.3735845230130623,
          -0.9241538869607678,
          1.570150040609835,
          1.321593659953714
         ]
        },
        {
         "line": {
          "color": "rgba(55, 128, 191, 1.0)",
          "dash": "solid",
          "shape": "linear",
          "width": 1.3
         },
         "mode": "lines",
         "name": "B",
         "text": "",
         "type": "scatter",
         "x": [
          0,
          1,
          2,
          3,
          4,
          5,
          6,
          7,
          8,
          9,
          10,
          11,
          12,
          13,
          14,
          15,
          16,
          17,
          18,
          19,
          20,
          21,
          22,
          23,
          24,
          25,
          26,
          27,
          28,
          29,
          30,
          31,
          32,
          33,
          34,
          35,
          36,
          37,
          38,
          39,
          40,
          41,
          42,
          43,
          44,
          45,
          46,
          47,
          48,
          49,
          50,
          51,
          52,
          53,
          54,
          55,
          56,
          57,
          58,
          59,
          60,
          61,
          62,
          63,
          64,
          65,
          66,
          67,
          68,
          69,
          70,
          71,
          72,
          73,
          74,
          75,
          76,
          77,
          78,
          79,
          80,
          81,
          82,
          83,
          84,
          85,
          86,
          87,
          88,
          89,
          90,
          91,
          92,
          93,
          94,
          95,
          96,
          97,
          98,
          99
         ],
         "y": [
          0.3628951277929951,
          -0.3370451361478144,
          1.3231291351782233,
          1.4619849953879063,
          2.117158857110377,
          -0.4278911070438518,
          0.7344388751372461,
          -0.550323658824948,
          2.289515694879591,
          0.30742068285265095,
          -0.43977407824993986,
          -0.48884334734707185,
          -0.035511693272353935,
          -0.5342855677426966,
          -0.48180500751838384,
          -0.5402177259755799,
          -0.4257760630492741,
          0.7481064580560373,
          0.38511250543185005,
          0.8948997926718579,
          0.5536185568036587,
          -0.6179898772826783,
          -0.7373935557874557,
          -0.6587419190524676,
          -0.7908486650543705,
          1.9579085993292384,
          1.0227320867440015,
          0.08107381074532037,
          -1.0480676019418818,
          -0.038411630922692945,
          -0.43553368154143673,
          0.30547134666727555,
          0.31837764643846567,
          -1.2142755537571501,
          -1.33773432084597,
          -0.7116738068907645,
          0.9183167283589629,
          1.4743458775421812,
          -0.8431681057751841,
          0.43131204721851857,
          -0.9552574710960884,
          1.360748437511149,
          0.17242502311920802,
          -0.1770824993618998,
          -1.2597307314975406,
          0.10361795124246964,
          -0.18102523650578423,
          1.9573674380123398,
          -1.9199468808812759,
          1.4147956826988282,
          -0.9874818136598563,
          -0.7022202694544329,
          -0.5705377079294096,
          -0.7181380869066,
          -1.5780613890451551,
          1.8132684520903277,
          -0.04335726224652799,
          -0.622068537839199,
          0.49221363767893667,
          1.3014197695620342,
          1.2885602911496903,
          -2.8538900169933634,
          0.25687937793931975,
          -0.9849351141966023,
          0.12599618770693463,
          0.34654139867809725,
          1.6403611743900608,
          0.34133072787434726,
          -0.3534901678291325,
          -1.3064588907422594,
          -0.4066703765884158,
          -1.9235557950647617,
          -0.7594602183434284,
          -0.7594261635516536,
          -0.29650932390946017,
          -0.7528925452720961,
          -0.026538330860710606,
          -0.7006225652800655,
          0.08891626131943374,
          -0.9241877460937217,
          1.1524864431883304,
          -1.5516429203762085,
          -0.7512503489892757,
          -0.2172506305976222,
          -0.3702813233079158,
          -1.6215454634160695,
          0.8196735120810899,
          -0.7064143748530674,
          -1.4730559538526578,
          1.2335673831613592,
          -1.7081096406580358,
          -0.6861292538606032,
          0.4460871106918229,
          2.145446758488049,
          -1.1984764313861387,
          0.9179123015415466,
          1.97791814986797,
          1.421128192119911,
          1.0233477071069101,
          -0.45111783720311166
         ]
        },
        {
         "connectgaps": false,
         "fill": "tozeroy",
         "line": {
          "color": "green",
          "dash": "solid",
          "shape": "linear",
          "width": 0.5
         },
         "mode": "lines",
         "name": "Spread",
         "showlegend": false,
         "type": "scatter",
         "x": [
          0,
          1,
          2,
          3,
          4,
          5,
          6,
          7,
          8,
          9,
          10,
          11,
          12,
          13,
          14,
          15,
          16,
          17,
          18,
          19,
          20,
          21,
          22,
          23,
          24,
          25,
          26,
          27,
          28,
          29,
          30,
          31,
          32,
          33,
          34,
          35,
          36,
          37,
          38,
          39,
          40,
          41,
          42,
          43,
          44,
          45,
          46,
          47,
          48,
          49,
          50,
          51,
          52,
          53,
          54,
          55,
          56,
          57,
          58,
          59,
          60,
          61,
          62,
          63,
          64,
          65,
          66,
          67,
          68,
          69,
          70,
          71,
          72,
          73,
          74,
          75,
          76,
          77,
          78,
          79,
          80,
          81,
          82,
          83,
          84,
          85,
          86,
          87,
          88,
          89,
          90,
          91,
          92,
          93,
          94,
          95,
          96,
          97,
          98,
          99
         ],
         "xaxis": "x2",
         "y": [
          2.2261468325823928,
          0.8015100944765954,
          "",
          "",
          "",
          0.5535314672859206,
          "",
          2.012590937092652,
          "",
          "",
          1.5145588676923225,
          "",
          0.9158526637665348,
          1.3619593126254204,
          "",
          "",
          0.7382200984714318,
          "",
          1.149833996627119,
          "",
          "",
          0.9814148512933355,
          0.4662341648464903,
          "",
          "",
          "",
          "",
          "",
          0.05602848930544524,
          "",
          0.4265733369370576,
          "",
          0.14636909257437136,
          2.2942928909824922,
          2.8038532774259166,
          2.487421932947922,
          "",
          "",
          0.3473144253589398,
          "",
          1.6441269599268904,
          "",
          0.9607599389781437,
          0.8844105748340428,
          2.7733848929685037,
          "",
          0.03764738958982061,
          "",
          0.7455035927644276,
          "",
          1.0744995385038014,
          1.2126023961637942,
          "",
          "",
          2.3019235555459923,
          "",
          0.6753482955480647,
          "",
          "",
          "",
          "",
          3.763166409876082,
          1.1294144643535122,
          1.604004001531855,
          "",
          "",
          "",
          0.21643894531262398,
          0.06148107778827033,
          1.554111472586524,
          0.6528175667143901,
          1.3368553475346308,
          0.07432968189723721,
          0.4233129728447314,
          0.9061843922183249,
          1.1585035367811782,
          "",
          "",
          "",
          0.9277782826786242,
          "",
          2.1712671850389578,
          2.0886936616488945,
          1.0009905278903473,
          0.15049318771791528,
          2.9322259101946235,
          "",
          0.6939210098879949,
          3.0298466795273664,
          "",
          3.169095024452429,
          0.5975857616110131,
          "",
          "",
          1.6204576140450446,
          "",
          "",
          "",
          0.5468023335029248,
          1.7727114971568256
         ],
         "yaxis": "y2"
        },
        {
         "connectgaps": false,
         "fill": "tozeroy",
         "line": {
          "color": "red",
          "dash": "solid",
          "shape": "linear",
          "width": 0.5
         },
         "mode": "lines",
         "name": "Spread",
         "showlegend": false,
         "type": "scatter",
         "x": [
          0,
          1,
          2,
          3,
          4,
          5,
          6,
          7,
          8,
          9,
          10,
          11,
          12,
          13,
          14,
          15,
          16,
          17,
          18,
          19,
          20,
          21,
          22,
          23,
          24,
          25,
          26,
          27,
          28,
          29,
          30,
          31,
          32,
          33,
          34,
          35,
          36,
          37,
          38,
          39,
          40,
          41,
          42,
          43,
          44,
          45,
          46,
          47,
          48,
          49,
          50,
          51,
          52,
          53,
          54,
          55,
          56,
          57,
          58,
          59,
          60,
          61,
          62,
          63,
          64,
          65,
          66,
          67,
          68,
          69,
          70,
          71,
          72,
          73,
          74,
          75,
          76,
          77,
          78,
          79,
          80,
          81,
          82,
          83,
          84,
          85,
          86,
          87,
          88,
          89,
          90,
          91,
          92,
          93,
          94,
          95,
          96,
          97,
          98,
          99
         ],
         "xaxis": "x2",
         "y": [
          "",
          "",
          -3.1853633818949927,
          -1.0145021706817952,
          -1.5988017922256714,
          "",
          -0.9811572094050834,
          "",
          -1.6393767566517328,
          -0.9746374939415205,
          "",
          -0.36072131131266166,
          "",
          "",
          -1.5026561093074697,
          -0.04221692498408691,
          "",
          -2.653991104834447,
          "",
          -0.8612497276689075,
          -0.8438503879048057,
          "",
          "",
          -0.25447079322456434,
          -0.7388520065095361,
          -0.12131863433308698,
          -0.025111550174209518,
          -0.349356819840702,
          "",
          -1.0904362769204055,
          "",
          -0.21916164924780718,
          "",
          "",
          "",
          "",
          -0.5978048005866679,
          -1.6541582998508626,
          "",
          -1.5137163441673407,
          "",
          -1.9161938697751357,
          "",
          "",
          "",
          -0.26010218653605643,
          "",
          -2.362053307070836,
          "",
          -2.595182328112525,
          "",
          "",
          -0.1728027344863109,
          -0.5979775430551916,
          "",
          -1.8106473017750757,
          "",
          -0.15794783486170727,
          -0.13334553162612472,
          -2.1315961530474707,
          -2.141006066830835,
          "",
          "",
          "",
          -0.8712200836692492,
          -0.4518510590881847,
          -1.0356979217579982,
          "",
          "",
          "",
          "",
          "",
          "",
          "",
          "",
          "",
          -1.0457063939361488,
          -0.14227906618685038,
          -1.2302776766806054,
          "",
          -0.8103647675957726,
          "",
          "",
          "",
          "",
          "",
          -2.940059485274652,
          "",
          "",
          -1.3242750991893049,
          "",
          "",
          -1.302878471755961,
          -1.1156991927917819,
          "",
          -1.9525162959578766,
          -1.6043336268549078,
          -2.345282079080679,
          "",
          ""
         ],
         "yaxis": "y2"
        }
       ],
       "layout": {
        "hovermode": "x",
        "legend": {
         "bgcolor": "#F5F6F9",
         "font": {
          "color": "#4D5663"
         }
        },
        "paper_bgcolor": "#F5F6F9",
        "plot_bgcolor": "#F5F6F9",
        "template": {
         "data": {
          "bar": [
           {
            "error_x": {
             "color": "#2a3f5f"
            },
            "error_y": {
             "color": "#2a3f5f"
            },
            "marker": {
             "line": {
              "color": "#E5ECF6",
              "width": 0.5
             },
             "pattern": {
              "fillmode": "overlay",
              "size": 10,
              "solidity": 0.2
             }
            },
            "type": "bar"
           }
          ],
          "barpolar": [
           {
            "marker": {
             "line": {
              "color": "#E5ECF6",
              "width": 0.5
             },
             "pattern": {
              "fillmode": "overlay",
              "size": 10,
              "solidity": 0.2
             }
            },
            "type": "barpolar"
           }
          ],
          "carpet": [
           {
            "aaxis": {
             "endlinecolor": "#2a3f5f",
             "gridcolor": "white",
             "linecolor": "white",
             "minorgridcolor": "white",
             "startlinecolor": "#2a3f5f"
            },
            "baxis": {
             "endlinecolor": "#2a3f5f",
             "gridcolor": "white",
             "linecolor": "white",
             "minorgridcolor": "white",
             "startlinecolor": "#2a3f5f"
            },
            "type": "carpet"
           }
          ],
          "choropleth": [
           {
            "colorbar": {
             "outlinewidth": 0,
             "ticks": ""
            },
            "type": "choropleth"
           }
          ],
          "contour": [
           {
            "colorbar": {
             "outlinewidth": 0,
             "ticks": ""
            },
            "colorscale": [
             [
              0,
              "#0d0887"
             ],
             [
              0.1111111111111111,
              "#46039f"
             ],
             [
              0.2222222222222222,
              "#7201a8"
             ],
             [
              0.3333333333333333,
              "#9c179e"
             ],
             [
              0.4444444444444444,
              "#bd3786"
             ],
             [
              0.5555555555555556,
              "#d8576b"
             ],
             [
              0.6666666666666666,
              "#ed7953"
             ],
             [
              0.7777777777777778,
              "#fb9f3a"
             ],
             [
              0.8888888888888888,
              "#fdca26"
             ],
             [
              1,
              "#f0f921"
             ]
            ],
            "type": "contour"
           }
          ],
          "contourcarpet": [
           {
            "colorbar": {
             "outlinewidth": 0,
             "ticks": ""
            },
            "type": "contourcarpet"
           }
          ],
          "heatmap": [
           {
            "colorbar": {
             "outlinewidth": 0,
             "ticks": ""
            },
            "colorscale": [
             [
              0,
              "#0d0887"
             ],
             [
              0.1111111111111111,
              "#46039f"
             ],
             [
              0.2222222222222222,
              "#7201a8"
             ],
             [
              0.3333333333333333,
              "#9c179e"
             ],
             [
              0.4444444444444444,
              "#bd3786"
             ],
             [
              0.5555555555555556,
              "#d8576b"
             ],
             [
              0.6666666666666666,
              "#ed7953"
             ],
             [
              0.7777777777777778,
              "#fb9f3a"
             ],
             [
              0.8888888888888888,
              "#fdca26"
             ],
             [
              1,
              "#f0f921"
             ]
            ],
            "type": "heatmap"
           }
          ],
          "heatmapgl": [
           {
            "colorbar": {
             "outlinewidth": 0,
             "ticks": ""
            },
            "colorscale": [
             [
              0,
              "#0d0887"
             ],
             [
              0.1111111111111111,
              "#46039f"
             ],
             [
              0.2222222222222222,
              "#7201a8"
             ],
             [
              0.3333333333333333,
              "#9c179e"
             ],
             [
              0.4444444444444444,
              "#bd3786"
             ],
             [
              0.5555555555555556,
              "#d8576b"
             ],
             [
              0.6666666666666666,
              "#ed7953"
             ],
             [
              0.7777777777777778,
              "#fb9f3a"
             ],
             [
              0.8888888888888888,
              "#fdca26"
             ],
             [
              1,
              "#f0f921"
             ]
            ],
            "type": "heatmapgl"
           }
          ],
          "histogram": [
           {
            "marker": {
             "pattern": {
              "fillmode": "overlay",
              "size": 10,
              "solidity": 0.2
             }
            },
            "type": "histogram"
           }
          ],
          "histogram2d": [
           {
            "colorbar": {
             "outlinewidth": 0,
             "ticks": ""
            },
            "colorscale": [
             [
              0,
              "#0d0887"
             ],
             [
              0.1111111111111111,
              "#46039f"
             ],
             [
              0.2222222222222222,
              "#7201a8"
             ],
             [
              0.3333333333333333,
              "#9c179e"
             ],
             [
              0.4444444444444444,
              "#bd3786"
             ],
             [
              0.5555555555555556,
              "#d8576b"
             ],
             [
              0.6666666666666666,
              "#ed7953"
             ],
             [
              0.7777777777777778,
              "#fb9f3a"
             ],
             [
              0.8888888888888888,
              "#fdca26"
             ],
             [
              1,
              "#f0f921"
             ]
            ],
            "type": "histogram2d"
           }
          ],
          "histogram2dcontour": [
           {
            "colorbar": {
             "outlinewidth": 0,
             "ticks": ""
            },
            "colorscale": [
             [
              0,
              "#0d0887"
             ],
             [
              0.1111111111111111,
              "#46039f"
             ],
             [
              0.2222222222222222,
              "#7201a8"
             ],
             [
              0.3333333333333333,
              "#9c179e"
             ],
             [
              0.4444444444444444,
              "#bd3786"
             ],
             [
              0.5555555555555556,
              "#d8576b"
             ],
             [
              0.6666666666666666,
              "#ed7953"
             ],
             [
              0.7777777777777778,
              "#fb9f3a"
             ],
             [
              0.8888888888888888,
              "#fdca26"
             ],
             [
              1,
              "#f0f921"
             ]
            ],
            "type": "histogram2dcontour"
           }
          ],
          "mesh3d": [
           {
            "colorbar": {
             "outlinewidth": 0,
             "ticks": ""
            },
            "type": "mesh3d"
           }
          ],
          "parcoords": [
           {
            "line": {
             "colorbar": {
              "outlinewidth": 0,
              "ticks": ""
             }
            },
            "type": "parcoords"
           }
          ],
          "pie": [
           {
            "automargin": true,
            "type": "pie"
           }
          ],
          "scatter": [
           {
            "marker": {
             "colorbar": {
              "outlinewidth": 0,
              "ticks": ""
             }
            },
            "type": "scatter"
           }
          ],
          "scatter3d": [
           {
            "line": {
             "colorbar": {
              "outlinewidth": 0,
              "ticks": ""
             }
            },
            "marker": {
             "colorbar": {
              "outlinewidth": 0,
              "ticks": ""
             }
            },
            "type": "scatter3d"
           }
          ],
          "scattercarpet": [
           {
            "marker": {
             "colorbar": {
              "outlinewidth": 0,
              "ticks": ""
             }
            },
            "type": "scattercarpet"
           }
          ],
          "scattergeo": [
           {
            "marker": {
             "colorbar": {
              "outlinewidth": 0,
              "ticks": ""
             }
            },
            "type": "scattergeo"
           }
          ],
          "scattergl": [
           {
            "marker": {
             "colorbar": {
              "outlinewidth": 0,
              "ticks": ""
             }
            },
            "type": "scattergl"
           }
          ],
          "scattermapbox": [
           {
            "marker": {
             "colorbar": {
              "outlinewidth": 0,
              "ticks": ""
             }
            },
            "type": "scattermapbox"
           }
          ],
          "scatterpolar": [
           {
            "marker": {
             "colorbar": {
              "outlinewidth": 0,
              "ticks": ""
             }
            },
            "type": "scatterpolar"
           }
          ],
          "scatterpolargl": [
           {
            "marker": {
             "colorbar": {
              "outlinewidth": 0,
              "ticks": ""
             }
            },
            "type": "scatterpolargl"
           }
          ],
          "scatterternary": [
           {
            "marker": {
             "colorbar": {
              "outlinewidth": 0,
              "ticks": ""
             }
            },
            "type": "scatterternary"
           }
          ],
          "surface": [
           {
            "colorbar": {
             "outlinewidth": 0,
             "ticks": ""
            },
            "colorscale": [
             [
              0,
              "#0d0887"
             ],
             [
              0.1111111111111111,
              "#46039f"
             ],
             [
              0.2222222222222222,
              "#7201a8"
             ],
             [
              0.3333333333333333,
              "#9c179e"
             ],
             [
              0.4444444444444444,
              "#bd3786"
             ],
             [
              0.5555555555555556,
              "#d8576b"
             ],
             [
              0.6666666666666666,
              "#ed7953"
             ],
             [
              0.7777777777777778,
              "#fb9f3a"
             ],
             [
              0.8888888888888888,
              "#fdca26"
             ],
             [
              1,
              "#f0f921"
             ]
            ],
            "type": "surface"
           }
          ],
          "table": [
           {
            "cells": {
             "fill": {
              "color": "#EBF0F8"
             },
             "line": {
              "color": "white"
             }
            },
            "header": {
             "fill": {
              "color": "#C8D4E3"
             },
             "line": {
              "color": "white"
             }
            },
            "type": "table"
           }
          ]
         },
         "layout": {
          "annotationdefaults": {
           "arrowcolor": "#2a3f5f",
           "arrowhead": 0,
           "arrowwidth": 1
          },
          "autotypenumbers": "strict",
          "coloraxis": {
           "colorbar": {
            "outlinewidth": 0,
            "ticks": ""
           }
          },
          "colorscale": {
           "diverging": [
            [
             0,
             "#8e0152"
            ],
            [
             0.1,
             "#c51b7d"
            ],
            [
             0.2,
             "#de77ae"
            ],
            [
             0.3,
             "#f1b6da"
            ],
            [
             0.4,
             "#fde0ef"
            ],
            [
             0.5,
             "#f7f7f7"
            ],
            [
             0.6,
             "#e6f5d0"
            ],
            [
             0.7,
             "#b8e186"
            ],
            [
             0.8,
             "#7fbc41"
            ],
            [
             0.9,
             "#4d9221"
            ],
            [
             1,
             "#276419"
            ]
           ],
           "sequential": [
            [
             0,
             "#0d0887"
            ],
            [
             0.1111111111111111,
             "#46039f"
            ],
            [
             0.2222222222222222,
             "#7201a8"
            ],
            [
             0.3333333333333333,
             "#9c179e"
            ],
            [
             0.4444444444444444,
             "#bd3786"
            ],
            [
             0.5555555555555556,
             "#d8576b"
            ],
            [
             0.6666666666666666,
             "#ed7953"
            ],
            [
             0.7777777777777778,
             "#fb9f3a"
            ],
            [
             0.8888888888888888,
             "#fdca26"
            ],
            [
             1,
             "#f0f921"
            ]
           ],
           "sequentialminus": [
            [
             0,
             "#0d0887"
            ],
            [
             0.1111111111111111,
             "#46039f"
            ],
            [
             0.2222222222222222,
             "#7201a8"
            ],
            [
             0.3333333333333333,
             "#9c179e"
            ],
            [
             0.4444444444444444,
             "#bd3786"
            ],
            [
             0.5555555555555556,
             "#d8576b"
            ],
            [
             0.6666666666666666,
             "#ed7953"
            ],
            [
             0.7777777777777778,
             "#fb9f3a"
            ],
            [
             0.8888888888888888,
             "#fdca26"
            ],
            [
             1,
             "#f0f921"
            ]
           ]
          },
          "colorway": [
           "#636efa",
           "#EF553B",
           "#00cc96",
           "#ab63fa",
           "#FFA15A",
           "#19d3f3",
           "#FF6692",
           "#B6E880",
           "#FF97FF",
           "#FECB52"
          ],
          "font": {
           "color": "#2a3f5f"
          },
          "geo": {
           "bgcolor": "white",
           "lakecolor": "white",
           "landcolor": "#E5ECF6",
           "showlakes": true,
           "showland": true,
           "subunitcolor": "white"
          },
          "hoverlabel": {
           "align": "left"
          },
          "hovermode": "closest",
          "mapbox": {
           "style": "light"
          },
          "paper_bgcolor": "white",
          "plot_bgcolor": "#E5ECF6",
          "polar": {
           "angularaxis": {
            "gridcolor": "white",
            "linecolor": "white",
            "ticks": ""
           },
           "bgcolor": "#E5ECF6",
           "radialaxis": {
            "gridcolor": "white",
            "linecolor": "white",
            "ticks": ""
           }
          },
          "scene": {
           "xaxis": {
            "backgroundcolor": "#E5ECF6",
            "gridcolor": "white",
            "gridwidth": 2,
            "linecolor": "white",
            "showbackground": true,
            "ticks": "",
            "zerolinecolor": "white"
           },
           "yaxis": {
            "backgroundcolor": "#E5ECF6",
            "gridcolor": "white",
            "gridwidth": 2,
            "linecolor": "white",
            "showbackground": true,
            "ticks": "",
            "zerolinecolor": "white"
           },
           "zaxis": {
            "backgroundcolor": "#E5ECF6",
            "gridcolor": "white",
            "gridwidth": 2,
            "linecolor": "white",
            "showbackground": true,
            "ticks": "",
            "zerolinecolor": "white"
           }
          },
          "shapedefaults": {
           "line": {
            "color": "#2a3f5f"
           }
          },
          "ternary": {
           "aaxis": {
            "gridcolor": "white",
            "linecolor": "white",
            "ticks": ""
           },
           "baxis": {
            "gridcolor": "white",
            "linecolor": "white",
            "ticks": ""
           },
           "bgcolor": "#E5ECF6",
           "caxis": {
            "gridcolor": "white",
            "linecolor": "white",
            "ticks": ""
           }
          },
          "title": {
           "x": 0.05
          },
          "xaxis": {
           "automargin": true,
           "gridcolor": "white",
           "linecolor": "white",
           "ticks": "",
           "title": {
            "standoff": 15
           },
           "zerolinecolor": "white",
           "zerolinewidth": 2
          },
          "yaxis": {
           "automargin": true,
           "gridcolor": "white",
           "linecolor": "white",
           "ticks": "",
           "title": {
            "standoff": 15
           },
           "zerolinecolor": "white",
           "zerolinewidth": 2
          }
         }
        },
        "title": {
         "font": {
          "color": "#4D5663"
         }
        },
        "xaxis": {
         "gridcolor": "#E1E5ED",
         "showgrid": true,
         "tickfont": {
          "color": "#4D5663"
         },
         "title": {
          "font": {
           "color": "#4D5663"
          },
          "text": ""
         },
         "zerolinecolor": "#E1E5ED"
        },
        "xaxis2": {
         "anchor": "y2",
         "gridcolor": "#E1E5ED",
         "showgrid": true,
         "showticklabels": false,
         "tickfont": {
          "color": "#4D5663"
         },
         "title": {
          "font": {
           "color": "#4D5663"
          },
          "text": ""
         },
         "zerolinecolor": "#E1E5ED"
        },
        "yaxis": {
         "domain": [
          0.3,
          1
         ],
         "gridcolor": "#E1E5ED",
         "showgrid": true,
         "tickfont": {
          "color": "#4D5663"
         },
         "title": {
          "font": {
           "color": "#4D5663"
          },
          "text": ""
         },
         "zerolinecolor": "#E1E5ED"
        },
        "yaxis2": {
         "domain": [
          0,
          0.25
         ],
         "gridcolor": "#E1E5ED",
         "showgrid": true,
         "tickfont": {
          "color": "#4D5663"
         },
         "title": {
          "font": {
           "color": "#4D5663"
          },
          "text": "Spread"
         },
         "zerolinecolor": "#E1E5ED"
        }
       }
      },
      "text/html": [
       "<div>                            <div id=\"ad86faa3-d721-4954-b571-21a0664bbd32\" class=\"plotly-graph-div\" style=\"height:525px; width:100%;\"></div>            <script type=\"text/javascript\">                require([\"plotly\"], function(Plotly) {                    window.PLOTLYENV=window.PLOTLYENV || {};\n",
       "                    window.PLOTLYENV.BASE_URL='https://plot.ly';                                    if (document.getElementById(\"ad86faa3-d721-4954-b571-21a0664bbd32\")) {                    Plotly.newPlot(                        \"ad86faa3-d721-4954-b571-21a0664bbd32\",                        [{\"line\":{\"color\":\"rgba(255, 153, 51, 1.0)\",\"dash\":\"solid\",\"shape\":\"linear\",\"width\":1.3},\"mode\":\"lines\",\"name\":\"A\",\"text\":\"\",\"type\":\"scatter\",\"x\":[0,1,2,3,4,5,6,7,8,9,10,11,12,13,14,15,16,17,18,19,20,21,22,23,24,25,26,27,28,29,30,31,32,33,34,35,36,37,38,39,40,41,42,43,44,45,46,47,48,49,50,51,52,53,54,55,56,57,58,59,60,61,62,63,64,65,66,67,68,69,70,71,72,73,74,75,76,77,78,79,80,81,82,83,84,85,86,87,88,89,90,91,92,93,94,95,96,97,98,99],\"y\":[2.589041960375388,0.46446495832878104,-1.8622342467167692,0.44748282470611106,0.5183570648847058,0.12564036024206882,-0.24671833426783726,1.462267278267704,0.6501389382278583,-0.6672168110888695,1.0747847894423825,-0.8495646586597335,0.8803409704941809,0.8276737448827238,-1.9844611168258537,-0.5824346509596668,0.31244403542215765,-1.9058846467784096,1.534946502058969,0.03365006500295044,-0.29023183110114703,0.3634249740106572,-0.2711593909409654,-0.9132127122770319,-1.5297006715639065,1.8365899649961515,0.997620536569792,-0.2682830090953816,-0.9920391126364365,-1.1288479078430984,-0.008960344604379092,0.08630969741946837,0.46474673901283703,1.080017337225342,1.4661189565799466,1.7757481260571573,0.3205119277722951,-0.1798124223086815,-0.4958536804162443,-1.0824042969488221,0.6888694888308021,-0.5554454322639867,1.1331849620973518,0.707328075472143,1.5136541614709633,-0.15648423529358677,-0.1433778469159636,-0.40468586905849585,-1.1744432881168483,-1.1803866454136969,0.08701772484394507,0.5103821267093613,-0.7433404424157205,-1.3161156299617915,0.723862166500837,0.0026211503152519856,0.6319910333015367,-0.7800163727009063,0.35886810605281194,-0.8301763834854368,-0.8524457756811449,0.9092763928827187,1.386293842292832,0.6190688873352528,-0.7452238959623145,-0.10530966041008744,0.6046632526320624,0.5577696731869712,-0.2920090900408622,0.24765258184426459,0.24614719012597427,-0.5867004475301311,-0.6851305364461912,-0.3361131907069222,0.6096750683088648,0.40561099150908214,-1.0722447247968594,-0.8429016314669159,-1.1413614153611717,0.003590536584902493,0.34212167559255774,0.6196242646627494,1.3374433126596188,0.783739897292725,-0.21978813559000052,1.310680446778554,-2.1203859731935624,-0.012493364965072527,1.5567907256747087,-0.09070771602794563,1.4609853837943934,-0.08854349224959014,-0.856791361064138,1.0297475656962671,0.42198118265890605,-1.03460399441633,0.3735845230130623,-0.9241538869607678,1.570150040609835,1.321593659953714]},{\"line\":{\"color\":\"rgba(55, 128, 191, 1.0)\",\"dash\":\"solid\",\"shape\":\"linear\",\"width\":1.3},\"mode\":\"lines\",\"name\":\"B\",\"text\":\"\",\"type\":\"scatter\",\"x\":[0,1,2,3,4,5,6,7,8,9,10,11,12,13,14,15,16,17,18,19,20,21,22,23,24,25,26,27,28,29,30,31,32,33,34,35,36,37,38,39,40,41,42,43,44,45,46,47,48,49,50,51,52,53,54,55,56,57,58,59,60,61,62,63,64,65,66,67,68,69,70,71,72,73,74,75,76,77,78,79,80,81,82,83,84,85,86,87,88,89,90,91,92,93,94,95,96,97,98,99],\"y\":[0.3628951277929951,-0.3370451361478144,1.3231291351782233,1.4619849953879063,2.117158857110377,-0.4278911070438518,0.7344388751372461,-0.550323658824948,2.289515694879591,0.30742068285265095,-0.43977407824993986,-0.48884334734707185,-0.035511693272353935,-0.5342855677426966,-0.48180500751838384,-0.5402177259755799,-0.4257760630492741,0.7481064580560373,0.38511250543185005,0.8948997926718579,0.5536185568036587,-0.6179898772826783,-0.7373935557874557,-0.6587419190524676,-0.7908486650543705,1.9579085993292384,1.0227320867440015,0.08107381074532037,-1.0480676019418818,-0.038411630922692945,-0.43553368154143673,0.30547134666727555,0.31837764643846567,-1.2142755537571501,-1.33773432084597,-0.7116738068907645,0.9183167283589629,1.4743458775421812,-0.8431681057751841,0.43131204721851857,-0.9552574710960884,1.360748437511149,0.17242502311920802,-0.1770824993618998,-1.2597307314975406,0.10361795124246964,-0.18102523650578423,1.9573674380123398,-1.9199468808812759,1.4147956826988282,-0.9874818136598563,-0.7022202694544329,-0.5705377079294096,-0.7181380869066,-1.5780613890451551,1.8132684520903277,-0.04335726224652799,-0.622068537839199,0.49221363767893667,1.3014197695620342,1.2885602911496903,-2.8538900169933634,0.25687937793931975,-0.9849351141966023,0.12599618770693463,0.34654139867809725,1.6403611743900608,0.34133072787434726,-0.3534901678291325,-1.3064588907422594,-0.4066703765884158,-1.9235557950647617,-0.7594602183434284,-0.7594261635516536,-0.29650932390946017,-0.7528925452720961,-0.026538330860710606,-0.7006225652800655,0.08891626131943374,-0.9241877460937217,1.1524864431883304,-1.5516429203762085,-0.7512503489892757,-0.2172506305976222,-0.3702813233079158,-1.6215454634160695,0.8196735120810899,-0.7064143748530674,-1.4730559538526578,1.2335673831613592,-1.7081096406580358,-0.6861292538606032,0.4460871106918229,2.145446758488049,-1.1984764313861387,0.9179123015415466,1.97791814986797,1.421128192119911,1.0233477071069101,-0.45111783720311166]},{\"connectgaps\":false,\"fill\":\"tozeroy\",\"line\":{\"color\":\"green\",\"dash\":\"solid\",\"shape\":\"linear\",\"width\":0.5},\"mode\":\"lines\",\"name\":\"Spread\",\"showlegend\":false,\"type\":\"scatter\",\"x\":[0,1,2,3,4,5,6,7,8,9,10,11,12,13,14,15,16,17,18,19,20,21,22,23,24,25,26,27,28,29,30,31,32,33,34,35,36,37,38,39,40,41,42,43,44,45,46,47,48,49,50,51,52,53,54,55,56,57,58,59,60,61,62,63,64,65,66,67,68,69,70,71,72,73,74,75,76,77,78,79,80,81,82,83,84,85,86,87,88,89,90,91,92,93,94,95,96,97,98,99],\"xaxis\":\"x2\",\"y\":[2.2261468325823928,0.8015100944765954,\"\",\"\",\"\",0.5535314672859206,\"\",2.012590937092652,\"\",\"\",1.5145588676923225,\"\",0.9158526637665348,1.3619593126254204,\"\",\"\",0.7382200984714318,\"\",1.149833996627119,\"\",\"\",0.9814148512933355,0.4662341648464903,\"\",\"\",\"\",\"\",\"\",0.05602848930544524,\"\",0.4265733369370576,\"\",0.14636909257437136,2.2942928909824922,2.8038532774259166,2.487421932947922,\"\",\"\",0.3473144253589398,\"\",1.6441269599268904,\"\",0.9607599389781437,0.8844105748340428,2.7733848929685037,\"\",0.03764738958982061,\"\",0.7455035927644276,\"\",1.0744995385038014,1.2126023961637942,\"\",\"\",2.3019235555459923,\"\",0.6753482955480647,\"\",\"\",\"\",\"\",3.763166409876082,1.1294144643535122,1.604004001531855,\"\",\"\",\"\",0.21643894531262398,0.06148107778827033,1.554111472586524,0.6528175667143901,1.3368553475346308,0.07432968189723721,0.4233129728447314,0.9061843922183249,1.1585035367811782,\"\",\"\",\"\",0.9277782826786242,\"\",2.1712671850389578,2.0886936616488945,1.0009905278903473,0.15049318771791528,2.9322259101946235,\"\",0.6939210098879949,3.0298466795273664,\"\",3.169095024452429,0.5975857616110131,\"\",\"\",1.6204576140450446,\"\",\"\",\"\",0.5468023335029248,1.7727114971568256],\"yaxis\":\"y2\"},{\"connectgaps\":false,\"fill\":\"tozeroy\",\"line\":{\"color\":\"red\",\"dash\":\"solid\",\"shape\":\"linear\",\"width\":0.5},\"mode\":\"lines\",\"name\":\"Spread\",\"showlegend\":false,\"type\":\"scatter\",\"x\":[0,1,2,3,4,5,6,7,8,9,10,11,12,13,14,15,16,17,18,19,20,21,22,23,24,25,26,27,28,29,30,31,32,33,34,35,36,37,38,39,40,41,42,43,44,45,46,47,48,49,50,51,52,53,54,55,56,57,58,59,60,61,62,63,64,65,66,67,68,69,70,71,72,73,74,75,76,77,78,79,80,81,82,83,84,85,86,87,88,89,90,91,92,93,94,95,96,97,98,99],\"xaxis\":\"x2\",\"y\":[\"\",\"\",-3.1853633818949927,-1.0145021706817952,-1.5988017922256714,\"\",-0.9811572094050834,\"\",-1.6393767566517328,-0.9746374939415205,\"\",-0.36072131131266166,\"\",\"\",-1.5026561093074697,-0.04221692498408691,\"\",-2.653991104834447,\"\",-0.8612497276689075,-0.8438503879048057,\"\",\"\",-0.25447079322456434,-0.7388520065095361,-0.12131863433308698,-0.025111550174209518,-0.349356819840702,\"\",-1.0904362769204055,\"\",-0.21916164924780718,\"\",\"\",\"\",\"\",-0.5978048005866679,-1.6541582998508626,\"\",-1.5137163441673407,\"\",-1.9161938697751357,\"\",\"\",\"\",-0.26010218653605643,\"\",-2.362053307070836,\"\",-2.595182328112525,\"\",\"\",-0.1728027344863109,-0.5979775430551916,\"\",-1.8106473017750757,\"\",-0.15794783486170727,-0.13334553162612472,-2.1315961530474707,-2.141006066830835,\"\",\"\",\"\",-0.8712200836692492,-0.4518510590881847,-1.0356979217579982,\"\",\"\",\"\",\"\",\"\",\"\",\"\",\"\",\"\",-1.0457063939361488,-0.14227906618685038,-1.2302776766806054,\"\",-0.8103647675957726,\"\",\"\",\"\",\"\",\"\",-2.940059485274652,\"\",\"\",-1.3242750991893049,\"\",\"\",-1.302878471755961,-1.1156991927917819,\"\",-1.9525162959578766,-1.6043336268549078,-2.345282079080679,\"\",\"\"],\"yaxis\":\"y2\"}],                        {\"hovermode\":\"x\",\"legend\":{\"bgcolor\":\"#F5F6F9\",\"font\":{\"color\":\"#4D5663\"}},\"paper_bgcolor\":\"#F5F6F9\",\"plot_bgcolor\":\"#F5F6F9\",\"template\":{\"data\":{\"bar\":[{\"error_x\":{\"color\":\"#2a3f5f\"},\"error_y\":{\"color\":\"#2a3f5f\"},\"marker\":{\"line\":{\"color\":\"#E5ECF6\",\"width\":0.5},\"pattern\":{\"fillmode\":\"overlay\",\"size\":10,\"solidity\":0.2}},\"type\":\"bar\"}],\"barpolar\":[{\"marker\":{\"line\":{\"color\":\"#E5ECF6\",\"width\":0.5},\"pattern\":{\"fillmode\":\"overlay\",\"size\":10,\"solidity\":0.2}},\"type\":\"barpolar\"}],\"carpet\":[{\"aaxis\":{\"endlinecolor\":\"#2a3f5f\",\"gridcolor\":\"white\",\"linecolor\":\"white\",\"minorgridcolor\":\"white\",\"startlinecolor\":\"#2a3f5f\"},\"baxis\":{\"endlinecolor\":\"#2a3f5f\",\"gridcolor\":\"white\",\"linecolor\":\"white\",\"minorgridcolor\":\"white\",\"startlinecolor\":\"#2a3f5f\"},\"type\":\"carpet\"}],\"choropleth\":[{\"colorbar\":{\"outlinewidth\":0,\"ticks\":\"\"},\"type\":\"choropleth\"}],\"contour\":[{\"colorbar\":{\"outlinewidth\":0,\"ticks\":\"\"},\"colorscale\":[[0.0,\"#0d0887\"],[0.1111111111111111,\"#46039f\"],[0.2222222222222222,\"#7201a8\"],[0.3333333333333333,\"#9c179e\"],[0.4444444444444444,\"#bd3786\"],[0.5555555555555556,\"#d8576b\"],[0.6666666666666666,\"#ed7953\"],[0.7777777777777778,\"#fb9f3a\"],[0.8888888888888888,\"#fdca26\"],[1.0,\"#f0f921\"]],\"type\":\"contour\"}],\"contourcarpet\":[{\"colorbar\":{\"outlinewidth\":0,\"ticks\":\"\"},\"type\":\"contourcarpet\"}],\"heatmap\":[{\"colorbar\":{\"outlinewidth\":0,\"ticks\":\"\"},\"colorscale\":[[0.0,\"#0d0887\"],[0.1111111111111111,\"#46039f\"],[0.2222222222222222,\"#7201a8\"],[0.3333333333333333,\"#9c179e\"],[0.4444444444444444,\"#bd3786\"],[0.5555555555555556,\"#d8576b\"],[0.6666666666666666,\"#ed7953\"],[0.7777777777777778,\"#fb9f3a\"],[0.8888888888888888,\"#fdca26\"],[1.0,\"#f0f921\"]],\"type\":\"heatmap\"}],\"heatmapgl\":[{\"colorbar\":{\"outlinewidth\":0,\"ticks\":\"\"},\"colorscale\":[[0.0,\"#0d0887\"],[0.1111111111111111,\"#46039f\"],[0.2222222222222222,\"#7201a8\"],[0.3333333333333333,\"#9c179e\"],[0.4444444444444444,\"#bd3786\"],[0.5555555555555556,\"#d8576b\"],[0.6666666666666666,\"#ed7953\"],[0.7777777777777778,\"#fb9f3a\"],[0.8888888888888888,\"#fdca26\"],[1.0,\"#f0f921\"]],\"type\":\"heatmapgl\"}],\"histogram\":[{\"marker\":{\"pattern\":{\"fillmode\":\"overlay\",\"size\":10,\"solidity\":0.2}},\"type\":\"histogram\"}],\"histogram2d\":[{\"colorbar\":{\"outlinewidth\":0,\"ticks\":\"\"},\"colorscale\":[[0.0,\"#0d0887\"],[0.1111111111111111,\"#46039f\"],[0.2222222222222222,\"#7201a8\"],[0.3333333333333333,\"#9c179e\"],[0.4444444444444444,\"#bd3786\"],[0.5555555555555556,\"#d8576b\"],[0.6666666666666666,\"#ed7953\"],[0.7777777777777778,\"#fb9f3a\"],[0.8888888888888888,\"#fdca26\"],[1.0,\"#f0f921\"]],\"type\":\"histogram2d\"}],\"histogram2dcontour\":[{\"colorbar\":{\"outlinewidth\":0,\"ticks\":\"\"},\"colorscale\":[[0.0,\"#0d0887\"],[0.1111111111111111,\"#46039f\"],[0.2222222222222222,\"#7201a8\"],[0.3333333333333333,\"#9c179e\"],[0.4444444444444444,\"#bd3786\"],[0.5555555555555556,\"#d8576b\"],[0.6666666666666666,\"#ed7953\"],[0.7777777777777778,\"#fb9f3a\"],[0.8888888888888888,\"#fdca26\"],[1.0,\"#f0f921\"]],\"type\":\"histogram2dcontour\"}],\"mesh3d\":[{\"colorbar\":{\"outlinewidth\":0,\"ticks\":\"\"},\"type\":\"mesh3d\"}],\"parcoords\":[{\"line\":{\"colorbar\":{\"outlinewidth\":0,\"ticks\":\"\"}},\"type\":\"parcoords\"}],\"pie\":[{\"automargin\":true,\"type\":\"pie\"}],\"scatter\":[{\"marker\":{\"colorbar\":{\"outlinewidth\":0,\"ticks\":\"\"}},\"type\":\"scatter\"}],\"scatter3d\":[{\"line\":{\"colorbar\":{\"outlinewidth\":0,\"ticks\":\"\"}},\"marker\":{\"colorbar\":{\"outlinewidth\":0,\"ticks\":\"\"}},\"type\":\"scatter3d\"}],\"scattercarpet\":[{\"marker\":{\"colorbar\":{\"outlinewidth\":0,\"ticks\":\"\"}},\"type\":\"scattercarpet\"}],\"scattergeo\":[{\"marker\":{\"colorbar\":{\"outlinewidth\":0,\"ticks\":\"\"}},\"type\":\"scattergeo\"}],\"scattergl\":[{\"marker\":{\"colorbar\":{\"outlinewidth\":0,\"ticks\":\"\"}},\"type\":\"scattergl\"}],\"scattermapbox\":[{\"marker\":{\"colorbar\":{\"outlinewidth\":0,\"ticks\":\"\"}},\"type\":\"scattermapbox\"}],\"scatterpolar\":[{\"marker\":{\"colorbar\":{\"outlinewidth\":0,\"ticks\":\"\"}},\"type\":\"scatterpolar\"}],\"scatterpolargl\":[{\"marker\":{\"colorbar\":{\"outlinewidth\":0,\"ticks\":\"\"}},\"type\":\"scatterpolargl\"}],\"scatterternary\":[{\"marker\":{\"colorbar\":{\"outlinewidth\":0,\"ticks\":\"\"}},\"type\":\"scatterternary\"}],\"surface\":[{\"colorbar\":{\"outlinewidth\":0,\"ticks\":\"\"},\"colorscale\":[[0.0,\"#0d0887\"],[0.1111111111111111,\"#46039f\"],[0.2222222222222222,\"#7201a8\"],[0.3333333333333333,\"#9c179e\"],[0.4444444444444444,\"#bd3786\"],[0.5555555555555556,\"#d8576b\"],[0.6666666666666666,\"#ed7953\"],[0.7777777777777778,\"#fb9f3a\"],[0.8888888888888888,\"#fdca26\"],[1.0,\"#f0f921\"]],\"type\":\"surface\"}],\"table\":[{\"cells\":{\"fill\":{\"color\":\"#EBF0F8\"},\"line\":{\"color\":\"white\"}},\"header\":{\"fill\":{\"color\":\"#C8D4E3\"},\"line\":{\"color\":\"white\"}},\"type\":\"table\"}]},\"layout\":{\"annotationdefaults\":{\"arrowcolor\":\"#2a3f5f\",\"arrowhead\":0,\"arrowwidth\":1},\"autotypenumbers\":\"strict\",\"coloraxis\":{\"colorbar\":{\"outlinewidth\":0,\"ticks\":\"\"}},\"colorscale\":{\"diverging\":[[0,\"#8e0152\"],[0.1,\"#c51b7d\"],[0.2,\"#de77ae\"],[0.3,\"#f1b6da\"],[0.4,\"#fde0ef\"],[0.5,\"#f7f7f7\"],[0.6,\"#e6f5d0\"],[0.7,\"#b8e186\"],[0.8,\"#7fbc41\"],[0.9,\"#4d9221\"],[1,\"#276419\"]],\"sequential\":[[0.0,\"#0d0887\"],[0.1111111111111111,\"#46039f\"],[0.2222222222222222,\"#7201a8\"],[0.3333333333333333,\"#9c179e\"],[0.4444444444444444,\"#bd3786\"],[0.5555555555555556,\"#d8576b\"],[0.6666666666666666,\"#ed7953\"],[0.7777777777777778,\"#fb9f3a\"],[0.8888888888888888,\"#fdca26\"],[1.0,\"#f0f921\"]],\"sequentialminus\":[[0.0,\"#0d0887\"],[0.1111111111111111,\"#46039f\"],[0.2222222222222222,\"#7201a8\"],[0.3333333333333333,\"#9c179e\"],[0.4444444444444444,\"#bd3786\"],[0.5555555555555556,\"#d8576b\"],[0.6666666666666666,\"#ed7953\"],[0.7777777777777778,\"#fb9f3a\"],[0.8888888888888888,\"#fdca26\"],[1.0,\"#f0f921\"]]},\"colorway\":[\"#636efa\",\"#EF553B\",\"#00cc96\",\"#ab63fa\",\"#FFA15A\",\"#19d3f3\",\"#FF6692\",\"#B6E880\",\"#FF97FF\",\"#FECB52\"],\"font\":{\"color\":\"#2a3f5f\"},\"geo\":{\"bgcolor\":\"white\",\"lakecolor\":\"white\",\"landcolor\":\"#E5ECF6\",\"showlakes\":true,\"showland\":true,\"subunitcolor\":\"white\"},\"hoverlabel\":{\"align\":\"left\"},\"hovermode\":\"closest\",\"mapbox\":{\"style\":\"light\"},\"paper_bgcolor\":\"white\",\"plot_bgcolor\":\"#E5ECF6\",\"polar\":{\"angularaxis\":{\"gridcolor\":\"white\",\"linecolor\":\"white\",\"ticks\":\"\"},\"bgcolor\":\"#E5ECF6\",\"radialaxis\":{\"gridcolor\":\"white\",\"linecolor\":\"white\",\"ticks\":\"\"}},\"scene\":{\"xaxis\":{\"backgroundcolor\":\"#E5ECF6\",\"gridcolor\":\"white\",\"gridwidth\":2,\"linecolor\":\"white\",\"showbackground\":true,\"ticks\":\"\",\"zerolinecolor\":\"white\"},\"yaxis\":{\"backgroundcolor\":\"#E5ECF6\",\"gridcolor\":\"white\",\"gridwidth\":2,\"linecolor\":\"white\",\"showbackground\":true,\"ticks\":\"\",\"zerolinecolor\":\"white\"},\"zaxis\":{\"backgroundcolor\":\"#E5ECF6\",\"gridcolor\":\"white\",\"gridwidth\":2,\"linecolor\":\"white\",\"showbackground\":true,\"ticks\":\"\",\"zerolinecolor\":\"white\"}},\"shapedefaults\":{\"line\":{\"color\":\"#2a3f5f\"}},\"ternary\":{\"aaxis\":{\"gridcolor\":\"white\",\"linecolor\":\"white\",\"ticks\":\"\"},\"baxis\":{\"gridcolor\":\"white\",\"linecolor\":\"white\",\"ticks\":\"\"},\"bgcolor\":\"#E5ECF6\",\"caxis\":{\"gridcolor\":\"white\",\"linecolor\":\"white\",\"ticks\":\"\"}},\"title\":{\"x\":0.05},\"xaxis\":{\"automargin\":true,\"gridcolor\":\"white\",\"linecolor\":\"white\",\"ticks\":\"\",\"title\":{\"standoff\":15},\"zerolinecolor\":\"white\",\"zerolinewidth\":2},\"yaxis\":{\"automargin\":true,\"gridcolor\":\"white\",\"linecolor\":\"white\",\"ticks\":\"\",\"title\":{\"standoff\":15},\"zerolinecolor\":\"white\",\"zerolinewidth\":2}}},\"title\":{\"font\":{\"color\":\"#4D5663\"}},\"xaxis\":{\"gridcolor\":\"#E1E5ED\",\"showgrid\":true,\"tickfont\":{\"color\":\"#4D5663\"},\"title\":{\"font\":{\"color\":\"#4D5663\"},\"text\":\"\"},\"zerolinecolor\":\"#E1E5ED\"},\"xaxis2\":{\"anchor\":\"y2\",\"gridcolor\":\"#E1E5ED\",\"showgrid\":true,\"showticklabels\":false,\"tickfont\":{\"color\":\"#4D5663\"},\"title\":{\"font\":{\"color\":\"#4D5663\"},\"text\":\"\"},\"zerolinecolor\":\"#E1E5ED\"},\"yaxis\":{\"domain\":[0.3,1],\"gridcolor\":\"#E1E5ED\",\"showgrid\":true,\"tickfont\":{\"color\":\"#4D5663\"},\"title\":{\"font\":{\"color\":\"#4D5663\"},\"text\":\"\"},\"zerolinecolor\":\"#E1E5ED\"},\"yaxis2\":{\"domain\":[0,0.25],\"gridcolor\":\"#E1E5ED\",\"showgrid\":true,\"tickfont\":{\"color\":\"#4D5663\"},\"title\":{\"font\":{\"color\":\"#4D5663\"},\"text\":\"Spread\"},\"zerolinecolor\":\"#E1E5ED\"}},                        {\"showLink\": true, \"linkText\": \"Export to plot.ly\", \"plotlyServerURL\": \"https://plot.ly\", \"responsive\": true}                    ).then(function(){\n",
       "                            \n",
       "var gd = document.getElementById('ad86faa3-d721-4954-b571-21a0664bbd32');\n",
       "var x = new MutationObserver(function (mutations, observer) {{\n",
       "        var display = window.getComputedStyle(gd).display;\n",
       "        if (!display || display === 'none') {{\n",
       "            console.log([gd, 'removed!']);\n",
       "            Plotly.purge(gd);\n",
       "            observer.disconnect();\n",
       "        }}\n",
       "}});\n",
       "\n",
       "// Listen for the removal of the full notebook cells\n",
       "var notebookContainer = gd.closest('#notebook-container');\n",
       "if (notebookContainer) {{\n",
       "    x.observe(notebookContainer, {childList: true});\n",
       "}}\n",
       "\n",
       "// Listen for the clearing of the current output cell\n",
       "var outputEl = gd.closest('.output');\n",
       "if (outputEl) {{\n",
       "    x.observe(outputEl, {childList: true});\n",
       "}}\n",
       "\n",
       "                        })                };                });            </script>        </div>"
      ]
     },
     "metadata": {},
     "output_type": "display_data"
    }
   ],
   "source": [
    "#spread type visualization is widely used in stock data\n",
    "df1[['A','B']].iplot(kind='spread')"
   ]
  },
  {
   "cell_type": "code",
   "execution_count": 26,
   "id": "d570178d",
   "metadata": {
    "scrolled": true
   },
   "outputs": [
    {
     "data": {
      "application/vnd.plotly.v1+json": {
       "config": {
        "linkText": "Export to plot.ly",
        "plotlyServerURL": "https://plot.ly",
        "showLink": true
       },
       "data": [
        {
         "marker": {
          "color": [
           "rgb(255, 153, 51)",
           "rgb(55, 128, 191)",
           "rgb(50, 171, 96)",
           "rgb(128, 0, 128)",
           "rgb(219, 64, 82)",
           "rgb(0, 128, 128)",
           "rgb(255, 255, 51)",
           "rgb(128, 128, 0)",
           "rgb(251, 128, 114)",
           "rgb(128, 177, 211)"
          ],
          "line": {
           "width": 1.3
          },
          "size": [
           40,
           98,
           100,
           54,
           46,
           107,
           66,
           51,
           57,
           104,
           76,
           49,
           61,
           76,
           63,
           55,
           65,
           77,
           60,
           79,
           78,
           44,
           38,
           79,
           76,
           45,
           74,
           78,
           73,
           12,
           53,
           48,
           86,
           65,
           26,
           28,
           93,
           76,
           71,
           46,
           77,
           71,
           58,
           84,
           31,
           67,
           27,
           56,
           81,
           66,
           44,
           47,
           54,
           72,
           65,
           81,
           57,
           75,
           79,
           98,
           106,
           76,
           78,
           29,
           112,
           86,
           69,
           65,
           68,
           73,
           41,
           57,
           84,
           51,
           79,
           67,
           63,
           50,
           78,
           36,
           60,
           52,
           44,
           52,
           111,
           71,
           38,
           70,
           63,
           110,
           33,
           71,
           65,
           96,
           40,
           74,
           80,
           70,
           36,
           70
          ],
          "symbol": "circle"
         },
         "mode": "markers",
         "text": "",
         "type": "scatter",
         "x": [
          2.589041960375388,
          0.46446495832878104,
          -1.8622342467167692,
          0.44748282470611106,
          0.5183570648847058,
          0.12564036024206882,
          -0.24671833426783726,
          1.462267278267704,
          0.6501389382278583,
          -0.6672168110888695,
          1.0747847894423825,
          -0.8495646586597335,
          0.8803409704941809,
          0.8276737448827238,
          -1.9844611168258537,
          -0.5824346509596668,
          0.31244403542215765,
          -1.9058846467784096,
          1.534946502058969,
          0.03365006500295044,
          -0.29023183110114703,
          0.3634249740106572,
          -0.2711593909409654,
          -0.9132127122770319,
          -1.5297006715639065,
          1.8365899649961515,
          0.997620536569792,
          -0.2682830090953816,
          -0.9920391126364365,
          -1.1288479078430984,
          -0.008960344604379092,
          0.08630969741946837,
          0.46474673901283703,
          1.080017337225342,
          1.4661189565799466,
          1.7757481260571573,
          0.3205119277722951,
          -0.1798124223086815,
          -0.4958536804162443,
          -1.0824042969488221,
          0.6888694888308021,
          -0.5554454322639867,
          1.1331849620973518,
          0.707328075472143,
          1.5136541614709633,
          -0.15648423529358677,
          -0.1433778469159636,
          -0.40468586905849585,
          -1.1744432881168483,
          -1.1803866454136969,
          0.08701772484394507,
          0.5103821267093613,
          -0.7433404424157205,
          -1.3161156299617915,
          0.723862166500837,
          0.0026211503152519856,
          0.6319910333015367,
          -0.7800163727009063,
          0.35886810605281194,
          -0.8301763834854368,
          -0.8524457756811449,
          0.9092763928827187,
          1.386293842292832,
          0.6190688873352528,
          -0.7452238959623145,
          -0.10530966041008744,
          0.6046632526320624,
          0.5577696731869712,
          -0.2920090900408622,
          0.24765258184426459,
          0.24614719012597427,
          -0.5867004475301311,
          -0.6851305364461912,
          -0.3361131907069222,
          0.6096750683088648,
          0.40561099150908214,
          -1.0722447247968594,
          -0.8429016314669159,
          -1.1413614153611717,
          0.003590536584902493,
          0.34212167559255774,
          0.6196242646627494,
          1.3374433126596188,
          0.783739897292725,
          -0.21978813559000052,
          1.310680446778554,
          -2.1203859731935624,
          -0.012493364965072527,
          1.5567907256747087,
          -0.09070771602794563,
          1.4609853837943934,
          -0.08854349224959014,
          -0.856791361064138,
          1.0297475656962671,
          0.42198118265890605,
          -1.03460399441633,
          0.3735845230130623,
          -0.9241538869607678,
          1.570150040609835,
          1.321593659953714
         ],
         "y": [
          0.3628951277929951,
          -0.3370451361478144,
          1.3231291351782233,
          1.4619849953879063,
          2.117158857110377,
          -0.4278911070438518,
          0.7344388751372461,
          -0.550323658824948,
          2.289515694879591,
          0.30742068285265095,
          -0.43977407824993986,
          -0.48884334734707185,
          -0.035511693272353935,
          -0.5342855677426966,
          -0.48180500751838384,
          -0.5402177259755799,
          -0.4257760630492741,
          0.7481064580560373,
          0.38511250543185005,
          0.8948997926718579,
          0.5536185568036587,
          -0.6179898772826783,
          -0.7373935557874557,
          -0.6587419190524676,
          -0.7908486650543705,
          1.9579085993292384,
          1.0227320867440015,
          0.08107381074532037,
          -1.0480676019418818,
          -0.038411630922692945,
          -0.43553368154143673,
          0.30547134666727555,
          0.31837764643846567,
          -1.2142755537571501,
          -1.33773432084597,
          -0.7116738068907645,
          0.9183167283589629,
          1.4743458775421812,
          -0.8431681057751841,
          0.43131204721851857,
          -0.9552574710960884,
          1.360748437511149,
          0.17242502311920802,
          -0.1770824993618998,
          -1.2597307314975406,
          0.10361795124246964,
          -0.18102523650578423,
          1.9573674380123398,
          -1.9199468808812759,
          1.4147956826988282,
          -0.9874818136598563,
          -0.7022202694544329,
          -0.5705377079294096,
          -0.7181380869066,
          -1.5780613890451551,
          1.8132684520903277,
          -0.04335726224652799,
          -0.622068537839199,
          0.49221363767893667,
          1.3014197695620342,
          1.2885602911496903,
          -2.8538900169933634,
          0.25687937793931975,
          -0.9849351141966023,
          0.12599618770693463,
          0.34654139867809725,
          1.6403611743900608,
          0.34133072787434726,
          -0.3534901678291325,
          -1.3064588907422594,
          -0.4066703765884158,
          -1.9235557950647617,
          -0.7594602183434284,
          -0.7594261635516536,
          -0.29650932390946017,
          -0.7528925452720961,
          -0.026538330860710606,
          -0.7006225652800655,
          0.08891626131943374,
          -0.9241877460937217,
          1.1524864431883304,
          -1.5516429203762085,
          -0.7512503489892757,
          -0.2172506305976222,
          -0.3702813233079158,
          -1.6215454634160695,
          0.8196735120810899,
          -0.7064143748530674,
          -1.4730559538526578,
          1.2335673831613592,
          -1.7081096406580358,
          -0.6861292538606032,
          0.4460871106918229,
          2.145446758488049,
          -1.1984764313861387,
          0.9179123015415466,
          1.97791814986797,
          1.421128192119911,
          1.0233477071069101,
          -0.45111783720311166
         ]
        }
       ],
       "layout": {
        "legend": {
         "bgcolor": "#F5F6F9",
         "font": {
          "color": "#4D5663"
         }
        },
        "paper_bgcolor": "#F5F6F9",
        "plot_bgcolor": "#F5F6F9",
        "template": {
         "data": {
          "bar": [
           {
            "error_x": {
             "color": "#2a3f5f"
            },
            "error_y": {
             "color": "#2a3f5f"
            },
            "marker": {
             "line": {
              "color": "#E5ECF6",
              "width": 0.5
             },
             "pattern": {
              "fillmode": "overlay",
              "size": 10,
              "solidity": 0.2
             }
            },
            "type": "bar"
           }
          ],
          "barpolar": [
           {
            "marker": {
             "line": {
              "color": "#E5ECF6",
              "width": 0.5
             },
             "pattern": {
              "fillmode": "overlay",
              "size": 10,
              "solidity": 0.2
             }
            },
            "type": "barpolar"
           }
          ],
          "carpet": [
           {
            "aaxis": {
             "endlinecolor": "#2a3f5f",
             "gridcolor": "white",
             "linecolor": "white",
             "minorgridcolor": "white",
             "startlinecolor": "#2a3f5f"
            },
            "baxis": {
             "endlinecolor": "#2a3f5f",
             "gridcolor": "white",
             "linecolor": "white",
             "minorgridcolor": "white",
             "startlinecolor": "#2a3f5f"
            },
            "type": "carpet"
           }
          ],
          "choropleth": [
           {
            "colorbar": {
             "outlinewidth": 0,
             "ticks": ""
            },
            "type": "choropleth"
           }
          ],
          "contour": [
           {
            "colorbar": {
             "outlinewidth": 0,
             "ticks": ""
            },
            "colorscale": [
             [
              0,
              "#0d0887"
             ],
             [
              0.1111111111111111,
              "#46039f"
             ],
             [
              0.2222222222222222,
              "#7201a8"
             ],
             [
              0.3333333333333333,
              "#9c179e"
             ],
             [
              0.4444444444444444,
              "#bd3786"
             ],
             [
              0.5555555555555556,
              "#d8576b"
             ],
             [
              0.6666666666666666,
              "#ed7953"
             ],
             [
              0.7777777777777778,
              "#fb9f3a"
             ],
             [
              0.8888888888888888,
              "#fdca26"
             ],
             [
              1,
              "#f0f921"
             ]
            ],
            "type": "contour"
           }
          ],
          "contourcarpet": [
           {
            "colorbar": {
             "outlinewidth": 0,
             "ticks": ""
            },
            "type": "contourcarpet"
           }
          ],
          "heatmap": [
           {
            "colorbar": {
             "outlinewidth": 0,
             "ticks": ""
            },
            "colorscale": [
             [
              0,
              "#0d0887"
             ],
             [
              0.1111111111111111,
              "#46039f"
             ],
             [
              0.2222222222222222,
              "#7201a8"
             ],
             [
              0.3333333333333333,
              "#9c179e"
             ],
             [
              0.4444444444444444,
              "#bd3786"
             ],
             [
              0.5555555555555556,
              "#d8576b"
             ],
             [
              0.6666666666666666,
              "#ed7953"
             ],
             [
              0.7777777777777778,
              "#fb9f3a"
             ],
             [
              0.8888888888888888,
              "#fdca26"
             ],
             [
              1,
              "#f0f921"
             ]
            ],
            "type": "heatmap"
           }
          ],
          "heatmapgl": [
           {
            "colorbar": {
             "outlinewidth": 0,
             "ticks": ""
            },
            "colorscale": [
             [
              0,
              "#0d0887"
             ],
             [
              0.1111111111111111,
              "#46039f"
             ],
             [
              0.2222222222222222,
              "#7201a8"
             ],
             [
              0.3333333333333333,
              "#9c179e"
             ],
             [
              0.4444444444444444,
              "#bd3786"
             ],
             [
              0.5555555555555556,
              "#d8576b"
             ],
             [
              0.6666666666666666,
              "#ed7953"
             ],
             [
              0.7777777777777778,
              "#fb9f3a"
             ],
             [
              0.8888888888888888,
              "#fdca26"
             ],
             [
              1,
              "#f0f921"
             ]
            ],
            "type": "heatmapgl"
           }
          ],
          "histogram": [
           {
            "marker": {
             "pattern": {
              "fillmode": "overlay",
              "size": 10,
              "solidity": 0.2
             }
            },
            "type": "histogram"
           }
          ],
          "histogram2d": [
           {
            "colorbar": {
             "outlinewidth": 0,
             "ticks": ""
            },
            "colorscale": [
             [
              0,
              "#0d0887"
             ],
             [
              0.1111111111111111,
              "#46039f"
             ],
             [
              0.2222222222222222,
              "#7201a8"
             ],
             [
              0.3333333333333333,
              "#9c179e"
             ],
             [
              0.4444444444444444,
              "#bd3786"
             ],
             [
              0.5555555555555556,
              "#d8576b"
             ],
             [
              0.6666666666666666,
              "#ed7953"
             ],
             [
              0.7777777777777778,
              "#fb9f3a"
             ],
             [
              0.8888888888888888,
              "#fdca26"
             ],
             [
              1,
              "#f0f921"
             ]
            ],
            "type": "histogram2d"
           }
          ],
          "histogram2dcontour": [
           {
            "colorbar": {
             "outlinewidth": 0,
             "ticks": ""
            },
            "colorscale": [
             [
              0,
              "#0d0887"
             ],
             [
              0.1111111111111111,
              "#46039f"
             ],
             [
              0.2222222222222222,
              "#7201a8"
             ],
             [
              0.3333333333333333,
              "#9c179e"
             ],
             [
              0.4444444444444444,
              "#bd3786"
             ],
             [
              0.5555555555555556,
              "#d8576b"
             ],
             [
              0.6666666666666666,
              "#ed7953"
             ],
             [
              0.7777777777777778,
              "#fb9f3a"
             ],
             [
              0.8888888888888888,
              "#fdca26"
             ],
             [
              1,
              "#f0f921"
             ]
            ],
            "type": "histogram2dcontour"
           }
          ],
          "mesh3d": [
           {
            "colorbar": {
             "outlinewidth": 0,
             "ticks": ""
            },
            "type": "mesh3d"
           }
          ],
          "parcoords": [
           {
            "line": {
             "colorbar": {
              "outlinewidth": 0,
              "ticks": ""
             }
            },
            "type": "parcoords"
           }
          ],
          "pie": [
           {
            "automargin": true,
            "type": "pie"
           }
          ],
          "scatter": [
           {
            "marker": {
             "colorbar": {
              "outlinewidth": 0,
              "ticks": ""
             }
            },
            "type": "scatter"
           }
          ],
          "scatter3d": [
           {
            "line": {
             "colorbar": {
              "outlinewidth": 0,
              "ticks": ""
             }
            },
            "marker": {
             "colorbar": {
              "outlinewidth": 0,
              "ticks": ""
             }
            },
            "type": "scatter3d"
           }
          ],
          "scattercarpet": [
           {
            "marker": {
             "colorbar": {
              "outlinewidth": 0,
              "ticks": ""
             }
            },
            "type": "scattercarpet"
           }
          ],
          "scattergeo": [
           {
            "marker": {
             "colorbar": {
              "outlinewidth": 0,
              "ticks": ""
             }
            },
            "type": "scattergeo"
           }
          ],
          "scattergl": [
           {
            "marker": {
             "colorbar": {
              "outlinewidth": 0,
              "ticks": ""
             }
            },
            "type": "scattergl"
           }
          ],
          "scattermapbox": [
           {
            "marker": {
             "colorbar": {
              "outlinewidth": 0,
              "ticks": ""
             }
            },
            "type": "scattermapbox"
           }
          ],
          "scatterpolar": [
           {
            "marker": {
             "colorbar": {
              "outlinewidth": 0,
              "ticks": ""
             }
            },
            "type": "scatterpolar"
           }
          ],
          "scatterpolargl": [
           {
            "marker": {
             "colorbar": {
              "outlinewidth": 0,
              "ticks": ""
             }
            },
            "type": "scatterpolargl"
           }
          ],
          "scatterternary": [
           {
            "marker": {
             "colorbar": {
              "outlinewidth": 0,
              "ticks": ""
             }
            },
            "type": "scatterternary"
           }
          ],
          "surface": [
           {
            "colorbar": {
             "outlinewidth": 0,
             "ticks": ""
            },
            "colorscale": [
             [
              0,
              "#0d0887"
             ],
             [
              0.1111111111111111,
              "#46039f"
             ],
             [
              0.2222222222222222,
              "#7201a8"
             ],
             [
              0.3333333333333333,
              "#9c179e"
             ],
             [
              0.4444444444444444,
              "#bd3786"
             ],
             [
              0.5555555555555556,
              "#d8576b"
             ],
             [
              0.6666666666666666,
              "#ed7953"
             ],
             [
              0.7777777777777778,
              "#fb9f3a"
             ],
             [
              0.8888888888888888,
              "#fdca26"
             ],
             [
              1,
              "#f0f921"
             ]
            ],
            "type": "surface"
           }
          ],
          "table": [
           {
            "cells": {
             "fill": {
              "color": "#EBF0F8"
             },
             "line": {
              "color": "white"
             }
            },
            "header": {
             "fill": {
              "color": "#C8D4E3"
             },
             "line": {
              "color": "white"
             }
            },
            "type": "table"
           }
          ]
         },
         "layout": {
          "annotationdefaults": {
           "arrowcolor": "#2a3f5f",
           "arrowhead": 0,
           "arrowwidth": 1
          },
          "autotypenumbers": "strict",
          "coloraxis": {
           "colorbar": {
            "outlinewidth": 0,
            "ticks": ""
           }
          },
          "colorscale": {
           "diverging": [
            [
             0,
             "#8e0152"
            ],
            [
             0.1,
             "#c51b7d"
            ],
            [
             0.2,
             "#de77ae"
            ],
            [
             0.3,
             "#f1b6da"
            ],
            [
             0.4,
             "#fde0ef"
            ],
            [
             0.5,
             "#f7f7f7"
            ],
            [
             0.6,
             "#e6f5d0"
            ],
            [
             0.7,
             "#b8e186"
            ],
            [
             0.8,
             "#7fbc41"
            ],
            [
             0.9,
             "#4d9221"
            ],
            [
             1,
             "#276419"
            ]
           ],
           "sequential": [
            [
             0,
             "#0d0887"
            ],
            [
             0.1111111111111111,
             "#46039f"
            ],
            [
             0.2222222222222222,
             "#7201a8"
            ],
            [
             0.3333333333333333,
             "#9c179e"
            ],
            [
             0.4444444444444444,
             "#bd3786"
            ],
            [
             0.5555555555555556,
             "#d8576b"
            ],
            [
             0.6666666666666666,
             "#ed7953"
            ],
            [
             0.7777777777777778,
             "#fb9f3a"
            ],
            [
             0.8888888888888888,
             "#fdca26"
            ],
            [
             1,
             "#f0f921"
            ]
           ],
           "sequentialminus": [
            [
             0,
             "#0d0887"
            ],
            [
             0.1111111111111111,
             "#46039f"
            ],
            [
             0.2222222222222222,
             "#7201a8"
            ],
            [
             0.3333333333333333,
             "#9c179e"
            ],
            [
             0.4444444444444444,
             "#bd3786"
            ],
            [
             0.5555555555555556,
             "#d8576b"
            ],
            [
             0.6666666666666666,
             "#ed7953"
            ],
            [
             0.7777777777777778,
             "#fb9f3a"
            ],
            [
             0.8888888888888888,
             "#fdca26"
            ],
            [
             1,
             "#f0f921"
            ]
           ]
          },
          "colorway": [
           "#636efa",
           "#EF553B",
           "#00cc96",
           "#ab63fa",
           "#FFA15A",
           "#19d3f3",
           "#FF6692",
           "#B6E880",
           "#FF97FF",
           "#FECB52"
          ],
          "font": {
           "color": "#2a3f5f"
          },
          "geo": {
           "bgcolor": "white",
           "lakecolor": "white",
           "landcolor": "#E5ECF6",
           "showlakes": true,
           "showland": true,
           "subunitcolor": "white"
          },
          "hoverlabel": {
           "align": "left"
          },
          "hovermode": "closest",
          "mapbox": {
           "style": "light"
          },
          "paper_bgcolor": "white",
          "plot_bgcolor": "#E5ECF6",
          "polar": {
           "angularaxis": {
            "gridcolor": "white",
            "linecolor": "white",
            "ticks": ""
           },
           "bgcolor": "#E5ECF6",
           "radialaxis": {
            "gridcolor": "white",
            "linecolor": "white",
            "ticks": ""
           }
          },
          "scene": {
           "xaxis": {
            "backgroundcolor": "#E5ECF6",
            "gridcolor": "white",
            "gridwidth": 2,
            "linecolor": "white",
            "showbackground": true,
            "ticks": "",
            "zerolinecolor": "white"
           },
           "yaxis": {
            "backgroundcolor": "#E5ECF6",
            "gridcolor": "white",
            "gridwidth": 2,
            "linecolor": "white",
            "showbackground": true,
            "ticks": "",
            "zerolinecolor": "white"
           },
           "zaxis": {
            "backgroundcolor": "#E5ECF6",
            "gridcolor": "white",
            "gridwidth": 2,
            "linecolor": "white",
            "showbackground": true,
            "ticks": "",
            "zerolinecolor": "white"
           }
          },
          "shapedefaults": {
           "line": {
            "color": "#2a3f5f"
           }
          },
          "ternary": {
           "aaxis": {
            "gridcolor": "white",
            "linecolor": "white",
            "ticks": ""
           },
           "baxis": {
            "gridcolor": "white",
            "linecolor": "white",
            "ticks": ""
           },
           "bgcolor": "#E5ECF6",
           "caxis": {
            "gridcolor": "white",
            "linecolor": "white",
            "ticks": ""
           }
          },
          "title": {
           "x": 0.05
          },
          "xaxis": {
           "automargin": true,
           "gridcolor": "white",
           "linecolor": "white",
           "ticks": "",
           "title": {
            "standoff": 15
           },
           "zerolinecolor": "white",
           "zerolinewidth": 2
          },
          "yaxis": {
           "automargin": true,
           "gridcolor": "white",
           "linecolor": "white",
           "ticks": "",
           "title": {
            "standoff": 15
           },
           "zerolinecolor": "white",
           "zerolinewidth": 2
          }
         }
        },
        "title": {
         "font": {
          "color": "#4D5663"
         }
        },
        "xaxis": {
         "gridcolor": "#E1E5ED",
         "showgrid": true,
         "tickfont": {
          "color": "#4D5663"
         },
         "title": {
          "font": {
           "color": "#4D5663"
          },
          "text": ""
         },
         "zerolinecolor": "#E1E5ED"
        },
        "yaxis": {
         "gridcolor": "#E1E5ED",
         "showgrid": true,
         "tickfont": {
          "color": "#4D5663"
         },
         "title": {
          "font": {
           "color": "#4D5663"
          },
          "text": ""
         },
         "zerolinecolor": "#E1E5ED"
        }
       }
      },
      "text/html": [
       "<div>                            <div id=\"f1d15b60-7c12-4aff-b047-72e536388067\" class=\"plotly-graph-div\" style=\"height:525px; width:100%;\"></div>            <script type=\"text/javascript\">                require([\"plotly\"], function(Plotly) {                    window.PLOTLYENV=window.PLOTLYENV || {};\n",
       "                    window.PLOTLYENV.BASE_URL='https://plot.ly';                                    if (document.getElementById(\"f1d15b60-7c12-4aff-b047-72e536388067\")) {                    Plotly.newPlot(                        \"f1d15b60-7c12-4aff-b047-72e536388067\",                        [{\"marker\":{\"color\":[\"rgb(255, 153, 51)\",\"rgb(55, 128, 191)\",\"rgb(50, 171, 96)\",\"rgb(128, 0, 128)\",\"rgb(219, 64, 82)\",\"rgb(0, 128, 128)\",\"rgb(255, 255, 51)\",\"rgb(128, 128, 0)\",\"rgb(251, 128, 114)\",\"rgb(128, 177, 211)\"],\"line\":{\"width\":1.3},\"size\":[40,98,100,54,46,107,66,51,57,104,76,49,61,76,63,55,65,77,60,79,78,44,38,79,76,45,74,78,73,12,53,48,86,65,26,28,93,76,71,46,77,71,58,84,31,67,27,56,81,66,44,47,54,72,65,81,57,75,79,98,106,76,78,29,112,86,69,65,68,73,41,57,84,51,79,67,63,50,78,36,60,52,44,52,111,71,38,70,63,110,33,71,65,96,40,74,80,70,36,70],\"symbol\":\"circle\"},\"mode\":\"markers\",\"text\":\"\",\"type\":\"scatter\",\"x\":[2.589041960375388,0.46446495832878104,-1.8622342467167692,0.44748282470611106,0.5183570648847058,0.12564036024206882,-0.24671833426783726,1.462267278267704,0.6501389382278583,-0.6672168110888695,1.0747847894423825,-0.8495646586597335,0.8803409704941809,0.8276737448827238,-1.9844611168258537,-0.5824346509596668,0.31244403542215765,-1.9058846467784096,1.534946502058969,0.03365006500295044,-0.29023183110114703,0.3634249740106572,-0.2711593909409654,-0.9132127122770319,-1.5297006715639065,1.8365899649961515,0.997620536569792,-0.2682830090953816,-0.9920391126364365,-1.1288479078430984,-0.008960344604379092,0.08630969741946837,0.46474673901283703,1.080017337225342,1.4661189565799466,1.7757481260571573,0.3205119277722951,-0.1798124223086815,-0.4958536804162443,-1.0824042969488221,0.6888694888308021,-0.5554454322639867,1.1331849620973518,0.707328075472143,1.5136541614709633,-0.15648423529358677,-0.1433778469159636,-0.40468586905849585,-1.1744432881168483,-1.1803866454136969,0.08701772484394507,0.5103821267093613,-0.7433404424157205,-1.3161156299617915,0.723862166500837,0.0026211503152519856,0.6319910333015367,-0.7800163727009063,0.35886810605281194,-0.8301763834854368,-0.8524457756811449,0.9092763928827187,1.386293842292832,0.6190688873352528,-0.7452238959623145,-0.10530966041008744,0.6046632526320624,0.5577696731869712,-0.2920090900408622,0.24765258184426459,0.24614719012597427,-0.5867004475301311,-0.6851305364461912,-0.3361131907069222,0.6096750683088648,0.40561099150908214,-1.0722447247968594,-0.8429016314669159,-1.1413614153611717,0.003590536584902493,0.34212167559255774,0.6196242646627494,1.3374433126596188,0.783739897292725,-0.21978813559000052,1.310680446778554,-2.1203859731935624,-0.012493364965072527,1.5567907256747087,-0.09070771602794563,1.4609853837943934,-0.08854349224959014,-0.856791361064138,1.0297475656962671,0.42198118265890605,-1.03460399441633,0.3735845230130623,-0.9241538869607678,1.570150040609835,1.321593659953714],\"y\":[0.3628951277929951,-0.3370451361478144,1.3231291351782233,1.4619849953879063,2.117158857110377,-0.4278911070438518,0.7344388751372461,-0.550323658824948,2.289515694879591,0.30742068285265095,-0.43977407824993986,-0.48884334734707185,-0.035511693272353935,-0.5342855677426966,-0.48180500751838384,-0.5402177259755799,-0.4257760630492741,0.7481064580560373,0.38511250543185005,0.8948997926718579,0.5536185568036587,-0.6179898772826783,-0.7373935557874557,-0.6587419190524676,-0.7908486650543705,1.9579085993292384,1.0227320867440015,0.08107381074532037,-1.0480676019418818,-0.038411630922692945,-0.43553368154143673,0.30547134666727555,0.31837764643846567,-1.2142755537571501,-1.33773432084597,-0.7116738068907645,0.9183167283589629,1.4743458775421812,-0.8431681057751841,0.43131204721851857,-0.9552574710960884,1.360748437511149,0.17242502311920802,-0.1770824993618998,-1.2597307314975406,0.10361795124246964,-0.18102523650578423,1.9573674380123398,-1.9199468808812759,1.4147956826988282,-0.9874818136598563,-0.7022202694544329,-0.5705377079294096,-0.7181380869066,-1.5780613890451551,1.8132684520903277,-0.04335726224652799,-0.622068537839199,0.49221363767893667,1.3014197695620342,1.2885602911496903,-2.8538900169933634,0.25687937793931975,-0.9849351141966023,0.12599618770693463,0.34654139867809725,1.6403611743900608,0.34133072787434726,-0.3534901678291325,-1.3064588907422594,-0.4066703765884158,-1.9235557950647617,-0.7594602183434284,-0.7594261635516536,-0.29650932390946017,-0.7528925452720961,-0.026538330860710606,-0.7006225652800655,0.08891626131943374,-0.9241877460937217,1.1524864431883304,-1.5516429203762085,-0.7512503489892757,-0.2172506305976222,-0.3702813233079158,-1.6215454634160695,0.8196735120810899,-0.7064143748530674,-1.4730559538526578,1.2335673831613592,-1.7081096406580358,-0.6861292538606032,0.4460871106918229,2.145446758488049,-1.1984764313861387,0.9179123015415466,1.97791814986797,1.421128192119911,1.0233477071069101,-0.45111783720311166]}],                        {\"legend\":{\"bgcolor\":\"#F5F6F9\",\"font\":{\"color\":\"#4D5663\"}},\"paper_bgcolor\":\"#F5F6F9\",\"plot_bgcolor\":\"#F5F6F9\",\"template\":{\"data\":{\"bar\":[{\"error_x\":{\"color\":\"#2a3f5f\"},\"error_y\":{\"color\":\"#2a3f5f\"},\"marker\":{\"line\":{\"color\":\"#E5ECF6\",\"width\":0.5},\"pattern\":{\"fillmode\":\"overlay\",\"size\":10,\"solidity\":0.2}},\"type\":\"bar\"}],\"barpolar\":[{\"marker\":{\"line\":{\"color\":\"#E5ECF6\",\"width\":0.5},\"pattern\":{\"fillmode\":\"overlay\",\"size\":10,\"solidity\":0.2}},\"type\":\"barpolar\"}],\"carpet\":[{\"aaxis\":{\"endlinecolor\":\"#2a3f5f\",\"gridcolor\":\"white\",\"linecolor\":\"white\",\"minorgridcolor\":\"white\",\"startlinecolor\":\"#2a3f5f\"},\"baxis\":{\"endlinecolor\":\"#2a3f5f\",\"gridcolor\":\"white\",\"linecolor\":\"white\",\"minorgridcolor\":\"white\",\"startlinecolor\":\"#2a3f5f\"},\"type\":\"carpet\"}],\"choropleth\":[{\"colorbar\":{\"outlinewidth\":0,\"ticks\":\"\"},\"type\":\"choropleth\"}],\"contour\":[{\"colorbar\":{\"outlinewidth\":0,\"ticks\":\"\"},\"colorscale\":[[0.0,\"#0d0887\"],[0.1111111111111111,\"#46039f\"],[0.2222222222222222,\"#7201a8\"],[0.3333333333333333,\"#9c179e\"],[0.4444444444444444,\"#bd3786\"],[0.5555555555555556,\"#d8576b\"],[0.6666666666666666,\"#ed7953\"],[0.7777777777777778,\"#fb9f3a\"],[0.8888888888888888,\"#fdca26\"],[1.0,\"#f0f921\"]],\"type\":\"contour\"}],\"contourcarpet\":[{\"colorbar\":{\"outlinewidth\":0,\"ticks\":\"\"},\"type\":\"contourcarpet\"}],\"heatmap\":[{\"colorbar\":{\"outlinewidth\":0,\"ticks\":\"\"},\"colorscale\":[[0.0,\"#0d0887\"],[0.1111111111111111,\"#46039f\"],[0.2222222222222222,\"#7201a8\"],[0.3333333333333333,\"#9c179e\"],[0.4444444444444444,\"#bd3786\"],[0.5555555555555556,\"#d8576b\"],[0.6666666666666666,\"#ed7953\"],[0.7777777777777778,\"#fb9f3a\"],[0.8888888888888888,\"#fdca26\"],[1.0,\"#f0f921\"]],\"type\":\"heatmap\"}],\"heatmapgl\":[{\"colorbar\":{\"outlinewidth\":0,\"ticks\":\"\"},\"colorscale\":[[0.0,\"#0d0887\"],[0.1111111111111111,\"#46039f\"],[0.2222222222222222,\"#7201a8\"],[0.3333333333333333,\"#9c179e\"],[0.4444444444444444,\"#bd3786\"],[0.5555555555555556,\"#d8576b\"],[0.6666666666666666,\"#ed7953\"],[0.7777777777777778,\"#fb9f3a\"],[0.8888888888888888,\"#fdca26\"],[1.0,\"#f0f921\"]],\"type\":\"heatmapgl\"}],\"histogram\":[{\"marker\":{\"pattern\":{\"fillmode\":\"overlay\",\"size\":10,\"solidity\":0.2}},\"type\":\"histogram\"}],\"histogram2d\":[{\"colorbar\":{\"outlinewidth\":0,\"ticks\":\"\"},\"colorscale\":[[0.0,\"#0d0887\"],[0.1111111111111111,\"#46039f\"],[0.2222222222222222,\"#7201a8\"],[0.3333333333333333,\"#9c179e\"],[0.4444444444444444,\"#bd3786\"],[0.5555555555555556,\"#d8576b\"],[0.6666666666666666,\"#ed7953\"],[0.7777777777777778,\"#fb9f3a\"],[0.8888888888888888,\"#fdca26\"],[1.0,\"#f0f921\"]],\"type\":\"histogram2d\"}],\"histogram2dcontour\":[{\"colorbar\":{\"outlinewidth\":0,\"ticks\":\"\"},\"colorscale\":[[0.0,\"#0d0887\"],[0.1111111111111111,\"#46039f\"],[0.2222222222222222,\"#7201a8\"],[0.3333333333333333,\"#9c179e\"],[0.4444444444444444,\"#bd3786\"],[0.5555555555555556,\"#d8576b\"],[0.6666666666666666,\"#ed7953\"],[0.7777777777777778,\"#fb9f3a\"],[0.8888888888888888,\"#fdca26\"],[1.0,\"#f0f921\"]],\"type\":\"histogram2dcontour\"}],\"mesh3d\":[{\"colorbar\":{\"outlinewidth\":0,\"ticks\":\"\"},\"type\":\"mesh3d\"}],\"parcoords\":[{\"line\":{\"colorbar\":{\"outlinewidth\":0,\"ticks\":\"\"}},\"type\":\"parcoords\"}],\"pie\":[{\"automargin\":true,\"type\":\"pie\"}],\"scatter\":[{\"marker\":{\"colorbar\":{\"outlinewidth\":0,\"ticks\":\"\"}},\"type\":\"scatter\"}],\"scatter3d\":[{\"line\":{\"colorbar\":{\"outlinewidth\":0,\"ticks\":\"\"}},\"marker\":{\"colorbar\":{\"outlinewidth\":0,\"ticks\":\"\"}},\"type\":\"scatter3d\"}],\"scattercarpet\":[{\"marker\":{\"colorbar\":{\"outlinewidth\":0,\"ticks\":\"\"}},\"type\":\"scattercarpet\"}],\"scattergeo\":[{\"marker\":{\"colorbar\":{\"outlinewidth\":0,\"ticks\":\"\"}},\"type\":\"scattergeo\"}],\"scattergl\":[{\"marker\":{\"colorbar\":{\"outlinewidth\":0,\"ticks\":\"\"}},\"type\":\"scattergl\"}],\"scattermapbox\":[{\"marker\":{\"colorbar\":{\"outlinewidth\":0,\"ticks\":\"\"}},\"type\":\"scattermapbox\"}],\"scatterpolar\":[{\"marker\":{\"colorbar\":{\"outlinewidth\":0,\"ticks\":\"\"}},\"type\":\"scatterpolar\"}],\"scatterpolargl\":[{\"marker\":{\"colorbar\":{\"outlinewidth\":0,\"ticks\":\"\"}},\"type\":\"scatterpolargl\"}],\"scatterternary\":[{\"marker\":{\"colorbar\":{\"outlinewidth\":0,\"ticks\":\"\"}},\"type\":\"scatterternary\"}],\"surface\":[{\"colorbar\":{\"outlinewidth\":0,\"ticks\":\"\"},\"colorscale\":[[0.0,\"#0d0887\"],[0.1111111111111111,\"#46039f\"],[0.2222222222222222,\"#7201a8\"],[0.3333333333333333,\"#9c179e\"],[0.4444444444444444,\"#bd3786\"],[0.5555555555555556,\"#d8576b\"],[0.6666666666666666,\"#ed7953\"],[0.7777777777777778,\"#fb9f3a\"],[0.8888888888888888,\"#fdca26\"],[1.0,\"#f0f921\"]],\"type\":\"surface\"}],\"table\":[{\"cells\":{\"fill\":{\"color\":\"#EBF0F8\"},\"line\":{\"color\":\"white\"}},\"header\":{\"fill\":{\"color\":\"#C8D4E3\"},\"line\":{\"color\":\"white\"}},\"type\":\"table\"}]},\"layout\":{\"annotationdefaults\":{\"arrowcolor\":\"#2a3f5f\",\"arrowhead\":0,\"arrowwidth\":1},\"autotypenumbers\":\"strict\",\"coloraxis\":{\"colorbar\":{\"outlinewidth\":0,\"ticks\":\"\"}},\"colorscale\":{\"diverging\":[[0,\"#8e0152\"],[0.1,\"#c51b7d\"],[0.2,\"#de77ae\"],[0.3,\"#f1b6da\"],[0.4,\"#fde0ef\"],[0.5,\"#f7f7f7\"],[0.6,\"#e6f5d0\"],[0.7,\"#b8e186\"],[0.8,\"#7fbc41\"],[0.9,\"#4d9221\"],[1,\"#276419\"]],\"sequential\":[[0.0,\"#0d0887\"],[0.1111111111111111,\"#46039f\"],[0.2222222222222222,\"#7201a8\"],[0.3333333333333333,\"#9c179e\"],[0.4444444444444444,\"#bd3786\"],[0.5555555555555556,\"#d8576b\"],[0.6666666666666666,\"#ed7953\"],[0.7777777777777778,\"#fb9f3a\"],[0.8888888888888888,\"#fdca26\"],[1.0,\"#f0f921\"]],\"sequentialminus\":[[0.0,\"#0d0887\"],[0.1111111111111111,\"#46039f\"],[0.2222222222222222,\"#7201a8\"],[0.3333333333333333,\"#9c179e\"],[0.4444444444444444,\"#bd3786\"],[0.5555555555555556,\"#d8576b\"],[0.6666666666666666,\"#ed7953\"],[0.7777777777777778,\"#fb9f3a\"],[0.8888888888888888,\"#fdca26\"],[1.0,\"#f0f921\"]]},\"colorway\":[\"#636efa\",\"#EF553B\",\"#00cc96\",\"#ab63fa\",\"#FFA15A\",\"#19d3f3\",\"#FF6692\",\"#B6E880\",\"#FF97FF\",\"#FECB52\"],\"font\":{\"color\":\"#2a3f5f\"},\"geo\":{\"bgcolor\":\"white\",\"lakecolor\":\"white\",\"landcolor\":\"#E5ECF6\",\"showlakes\":true,\"showland\":true,\"subunitcolor\":\"white\"},\"hoverlabel\":{\"align\":\"left\"},\"hovermode\":\"closest\",\"mapbox\":{\"style\":\"light\"},\"paper_bgcolor\":\"white\",\"plot_bgcolor\":\"#E5ECF6\",\"polar\":{\"angularaxis\":{\"gridcolor\":\"white\",\"linecolor\":\"white\",\"ticks\":\"\"},\"bgcolor\":\"#E5ECF6\",\"radialaxis\":{\"gridcolor\":\"white\",\"linecolor\":\"white\",\"ticks\":\"\"}},\"scene\":{\"xaxis\":{\"backgroundcolor\":\"#E5ECF6\",\"gridcolor\":\"white\",\"gridwidth\":2,\"linecolor\":\"white\",\"showbackground\":true,\"ticks\":\"\",\"zerolinecolor\":\"white\"},\"yaxis\":{\"backgroundcolor\":\"#E5ECF6\",\"gridcolor\":\"white\",\"gridwidth\":2,\"linecolor\":\"white\",\"showbackground\":true,\"ticks\":\"\",\"zerolinecolor\":\"white\"},\"zaxis\":{\"backgroundcolor\":\"#E5ECF6\",\"gridcolor\":\"white\",\"gridwidth\":2,\"linecolor\":\"white\",\"showbackground\":true,\"ticks\":\"\",\"zerolinecolor\":\"white\"}},\"shapedefaults\":{\"line\":{\"color\":\"#2a3f5f\"}},\"ternary\":{\"aaxis\":{\"gridcolor\":\"white\",\"linecolor\":\"white\",\"ticks\":\"\"},\"baxis\":{\"gridcolor\":\"white\",\"linecolor\":\"white\",\"ticks\":\"\"},\"bgcolor\":\"#E5ECF6\",\"caxis\":{\"gridcolor\":\"white\",\"linecolor\":\"white\",\"ticks\":\"\"}},\"title\":{\"x\":0.05},\"xaxis\":{\"automargin\":true,\"gridcolor\":\"white\",\"linecolor\":\"white\",\"ticks\":\"\",\"title\":{\"standoff\":15},\"zerolinecolor\":\"white\",\"zerolinewidth\":2},\"yaxis\":{\"automargin\":true,\"gridcolor\":\"white\",\"linecolor\":\"white\",\"ticks\":\"\",\"title\":{\"standoff\":15},\"zerolinecolor\":\"white\",\"zerolinewidth\":2}}},\"title\":{\"font\":{\"color\":\"#4D5663\"}},\"xaxis\":{\"gridcolor\":\"#E1E5ED\",\"showgrid\":true,\"tickfont\":{\"color\":\"#4D5663\"},\"title\":{\"font\":{\"color\":\"#4D5663\"},\"text\":\"\"},\"zerolinecolor\":\"#E1E5ED\"},\"yaxis\":{\"gridcolor\":\"#E1E5ED\",\"showgrid\":true,\"tickfont\":{\"color\":\"#4D5663\"},\"title\":{\"font\":{\"color\":\"#4D5663\"},\"text\":\"\"},\"zerolinecolor\":\"#E1E5ED\"}},                        {\"showLink\": true, \"linkText\": \"Export to plot.ly\", \"plotlyServerURL\": \"https://plot.ly\", \"responsive\": true}                    ).then(function(){\n",
       "                            \n",
       "var gd = document.getElementById('f1d15b60-7c12-4aff-b047-72e536388067');\n",
       "var x = new MutationObserver(function (mutations, observer) {{\n",
       "        var display = window.getComputedStyle(gd).display;\n",
       "        if (!display || display === 'none') {{\n",
       "            console.log([gd, 'removed!']);\n",
       "            Plotly.purge(gd);\n",
       "            observer.disconnect();\n",
       "        }}\n",
       "}});\n",
       "\n",
       "// Listen for the removal of the full notebook cells\n",
       "var notebookContainer = gd.closest('#notebook-container');\n",
       "if (notebookContainer) {{\n",
       "    x.observe(notebookContainer, {childList: true});\n",
       "}}\n",
       "\n",
       "// Listen for the clearing of the current output cell\n",
       "var outputEl = gd.closest('.output');\n",
       "if (outputEl) {{\n",
       "    x.observe(outputEl, {childList: true});\n",
       "}}\n",
       "\n",
       "                        })                };                });            </script>        </div>"
      ]
     },
     "metadata": {},
     "output_type": "display_data"
    }
   ],
   "source": [
    "df1.iplot(kind='bubble',x='A',y='B',size='C') #size of the col based off anthr col"
   ]
  },
  {
   "cell_type": "code",
   "execution_count": 27,
   "id": "1b1f507c",
   "metadata": {},
   "outputs": [
    {
     "data": {
      "application/vnd.plotly.v1+json": {
       "config": {
        "linkText": "Export to plot.ly",
        "plotlyServerURL": "https://plot.ly",
        "showLink": true
       },
       "data": [
        {
         "histfunc": "count",
         "histnorm": "",
         "marker": {
          "color": "rgba(255, 153, 51, 1.0)",
          "line": {
           "color": "#4D5663",
           "width": 1.3
          }
         },
         "name": "A",
         "nbinsx": 10,
         "opacity": 0.8,
         "orientation": "v",
         "type": "histogram",
         "x": [
          2.589041960375388,
          0.46446495832878104,
          -1.8622342467167692,
          0.44748282470611106,
          0.5183570648847058,
          0.12564036024206882,
          -0.24671833426783726,
          1.462267278267704,
          0.6501389382278583,
          -0.6672168110888695,
          1.0747847894423825,
          -0.8495646586597335,
          0.8803409704941809,
          0.8276737448827238,
          -1.9844611168258537,
          -0.5824346509596668,
          0.31244403542215765,
          -1.9058846467784096,
          1.534946502058969,
          0.03365006500295044,
          -0.29023183110114703,
          0.3634249740106572,
          -0.2711593909409654,
          -0.9132127122770319,
          -1.5297006715639065,
          1.8365899649961515,
          0.997620536569792,
          -0.2682830090953816,
          -0.9920391126364365,
          -1.1288479078430984,
          -0.008960344604379092,
          0.08630969741946837,
          0.46474673901283703,
          1.080017337225342,
          1.4661189565799466,
          1.7757481260571573,
          0.3205119277722951,
          -0.1798124223086815,
          -0.4958536804162443,
          -1.0824042969488221,
          0.6888694888308021,
          -0.5554454322639867,
          1.1331849620973518,
          0.707328075472143,
          1.5136541614709633,
          -0.15648423529358677,
          -0.1433778469159636,
          -0.40468586905849585,
          -1.1744432881168483,
          -1.1803866454136969,
          0.08701772484394507,
          0.5103821267093613,
          -0.7433404424157205,
          -1.3161156299617915,
          0.723862166500837,
          0.0026211503152519856,
          0.6319910333015367,
          -0.7800163727009063,
          0.35886810605281194,
          -0.8301763834854368,
          -0.8524457756811449,
          0.9092763928827187,
          1.386293842292832,
          0.6190688873352528,
          -0.7452238959623145,
          -0.10530966041008744,
          0.6046632526320624,
          0.5577696731869712,
          -0.2920090900408622,
          0.24765258184426459,
          0.24614719012597427,
          -0.5867004475301311,
          -0.6851305364461912,
          -0.3361131907069222,
          0.6096750683088648,
          0.40561099150908214,
          -1.0722447247968594,
          -0.8429016314669159,
          -1.1413614153611717,
          0.003590536584902493,
          0.34212167559255774,
          0.6196242646627494,
          1.3374433126596188,
          0.783739897292725,
          -0.21978813559000052,
          1.310680446778554,
          -2.1203859731935624,
          -0.012493364965072527,
          1.5567907256747087,
          -0.09070771602794563,
          1.4609853837943934,
          -0.08854349224959014,
          -0.856791361064138,
          1.0297475656962671,
          0.42198118265890605,
          -1.03460399441633,
          0.3735845230130623,
          -0.9241538869607678,
          1.570150040609835,
          1.321593659953714
         ],
         "xaxis": "x",
         "yaxis": "y"
        },
        {
         "line": {
          "color": "rgba(128, 128, 128, 1.0)",
          "dash": "solid",
          "shape": "linear",
          "width": 1.3
         },
         "marker": {
          "size": 2,
          "symbol": "circle"
         },
         "mode": "markers",
         "name": "A",
         "text": "",
         "type": "scatter",
         "x": [
          0.3628951277929951,
          -0.3370451361478144,
          1.3231291351782233,
          1.4619849953879063,
          2.117158857110377,
          -0.4278911070438518,
          0.7344388751372461,
          -0.550323658824948,
          2.289515694879591,
          0.30742068285265095,
          -0.43977407824993986,
          -0.48884334734707185,
          -0.035511693272353935,
          -0.5342855677426966,
          -0.48180500751838384,
          -0.5402177259755799,
          -0.4257760630492741,
          0.7481064580560373,
          0.38511250543185005,
          0.8948997926718579,
          0.5536185568036587,
          -0.6179898772826783,
          -0.7373935557874557,
          -0.6587419190524676,
          -0.7908486650543705,
          1.9579085993292384,
          1.0227320867440015,
          0.08107381074532037,
          -1.0480676019418818,
          -0.038411630922692945,
          -0.43553368154143673,
          0.30547134666727555,
          0.31837764643846567,
          -1.2142755537571501,
          -1.33773432084597,
          -0.7116738068907645,
          0.9183167283589629,
          1.4743458775421812,
          -0.8431681057751841,
          0.43131204721851857,
          -0.9552574710960884,
          1.360748437511149,
          0.17242502311920802,
          -0.1770824993618998,
          -1.2597307314975406,
          0.10361795124246964,
          -0.18102523650578423,
          1.9573674380123398,
          -1.9199468808812759,
          1.4147956826988282,
          -0.9874818136598563,
          -0.7022202694544329,
          -0.5705377079294096,
          -0.7181380869066,
          -1.5780613890451551,
          1.8132684520903277,
          -0.04335726224652799,
          -0.622068537839199,
          0.49221363767893667,
          1.3014197695620342,
          1.2885602911496903,
          -2.8538900169933634,
          0.25687937793931975,
          -0.9849351141966023,
          0.12599618770693463,
          0.34654139867809725,
          1.6403611743900608,
          0.34133072787434726,
          -0.3534901678291325,
          -1.3064588907422594,
          -0.4066703765884158,
          -1.9235557950647617,
          -0.7594602183434284,
          -0.7594261635516536,
          -0.29650932390946017,
          -0.7528925452720961,
          -0.026538330860710606,
          -0.7006225652800655,
          0.08891626131943374,
          -0.9241877460937217,
          1.1524864431883304,
          -1.5516429203762085,
          -0.7512503489892757,
          -0.2172506305976222,
          -0.3702813233079158,
          -1.6215454634160695,
          0.8196735120810899,
          -0.7064143748530674,
          -1.4730559538526578,
          1.2335673831613592,
          -1.7081096406580358,
          -0.6861292538606032,
          0.4460871106918229,
          2.145446758488049,
          -1.1984764313861387,
          0.9179123015415466,
          1.97791814986797,
          1.421128192119911,
          1.0233477071069101,
          -0.45111783720311166
         ],
         "xaxis": "x2",
         "y": [
          2.589041960375388,
          0.46446495832878104,
          -1.8622342467167692,
          0.44748282470611106,
          0.5183570648847058,
          0.12564036024206882,
          -0.24671833426783726,
          1.462267278267704,
          0.6501389382278583,
          -0.6672168110888695,
          1.0747847894423825,
          -0.8495646586597335,
          0.8803409704941809,
          0.8276737448827238,
          -1.9844611168258537,
          -0.5824346509596668,
          0.31244403542215765,
          -1.9058846467784096,
          1.534946502058969,
          0.03365006500295044,
          -0.29023183110114703,
          0.3634249740106572,
          -0.2711593909409654,
          -0.9132127122770319,
          -1.5297006715639065,
          1.8365899649961515,
          0.997620536569792,
          -0.2682830090953816,
          -0.9920391126364365,
          -1.1288479078430984,
          -0.008960344604379092,
          0.08630969741946837,
          0.46474673901283703,
          1.080017337225342,
          1.4661189565799466,
          1.7757481260571573,
          0.3205119277722951,
          -0.1798124223086815,
          -0.4958536804162443,
          -1.0824042969488221,
          0.6888694888308021,
          -0.5554454322639867,
          1.1331849620973518,
          0.707328075472143,
          1.5136541614709633,
          -0.15648423529358677,
          -0.1433778469159636,
          -0.40468586905849585,
          -1.1744432881168483,
          -1.1803866454136969,
          0.08701772484394507,
          0.5103821267093613,
          -0.7433404424157205,
          -1.3161156299617915,
          0.723862166500837,
          0.0026211503152519856,
          0.6319910333015367,
          -0.7800163727009063,
          0.35886810605281194,
          -0.8301763834854368,
          -0.8524457756811449,
          0.9092763928827187,
          1.386293842292832,
          0.6190688873352528,
          -0.7452238959623145,
          -0.10530966041008744,
          0.6046632526320624,
          0.5577696731869712,
          -0.2920090900408622,
          0.24765258184426459,
          0.24614719012597427,
          -0.5867004475301311,
          -0.6851305364461912,
          -0.3361131907069222,
          0.6096750683088648,
          0.40561099150908214,
          -1.0722447247968594,
          -0.8429016314669159,
          -1.1413614153611717,
          0.003590536584902493,
          0.34212167559255774,
          0.6196242646627494,
          1.3374433126596188,
          0.783739897292725,
          -0.21978813559000052,
          1.310680446778554,
          -2.1203859731935624,
          -0.012493364965072527,
          1.5567907256747087,
          -0.09070771602794563,
          1.4609853837943934,
          -0.08854349224959014,
          -0.856791361064138,
          1.0297475656962671,
          0.42198118265890605,
          -1.03460399441633,
          0.3735845230130623,
          -0.9241538869607678,
          1.570150040609835,
          1.321593659953714
         ],
         "yaxis": "y2"
        },
        {
         "line": {
          "color": "rgba(128, 128, 128, 1.0)",
          "dash": "solid",
          "shape": "linear",
          "width": 1.3
         },
         "marker": {
          "size": 2,
          "symbol": "circle"
         },
         "mode": "markers",
         "name": "A",
         "text": "",
         "type": "scatter",
         "x": [
          -1.262246386708045,
          1.5638579611107675,
          1.6533456642054394,
          -0.5857274150439693,
          -0.9718003335278091,
          1.9910197132485752,
          -0.01613438128547328,
          -0.7222960998036906,
          -0.43452788842835516,
          1.8314339377290816,
          0.4826739694509472,
          -0.8357536125493982,
          -0.2593056592632085,
          0.47485761951349925,
          -0.14457728585036042,
          -0.56176823174519,
          -0.0803096305257362,
          0.5397232549572729,
          -0.31562777844065215,
          0.609617256698708,
          0.5820343674747728,
          -1.0964528018403226,
          -1.390339177426912,
          0.6400248855065004,
          0.47259256055418436,
          -1.009103140705429,
          0.40008503543512436,
          0.5995439538437828,
          0.3133663894433051,
          -2.665883259984044,
          -0.6461013421361341,
          -0.897748954090031,
          0.9621321118411451,
          -0.04320877208820299,
          -1.9574508338642798,
          -1.8760688791065874,
          1.3121315059780538,
          0.4780649355181438,
          0.2570784378160595,
          -1.0061816352506987,
          0.5381896067709654,
          0.21933334682360123,
          -0.4136204340160217,
          0.8789952767971859,
          -1.733200734199713,
          0.059984712005299604,
          -1.91442323813317,
          -0.5197833673791261,
          0.6991419801679005,
          -0.03210088725470912,
          -1.0632333928130342,
          -0.9300430509553365,
          -0.6012510269252737,
          0.2865154738217406,
          -0.06645984323458184,
          0.700151111328033,
          -0.4545238559681508,
          0.4197119613844714,
          0.6250125750521822,
          1.543602961789841,
          1.9234299147607956,
          0.4923533990036386,
          0.5823243218785095,
          -1.7956378010179064,
          2.2093208145112797,
          0.9489631119338943,
          0.11530760570093612,
          -0.046247696279733165,
          0.10286615664533401,
          0.3355010334083271,
          -1.2288175562291406,
          -0.4381558644867527,
          0.885854600105045,
          -0.7263145339435798,
          0.6037080262828017,
          0.039503474380392735,
          -0.13721426690389715,
          -0.7697375720421394,
          0.5664177039909022,
          -1.4533834714828815,
          -0.28788223418867487,
          -0.6869229799254724,
          -1.1019783015488456,
          -0.6995551434410562,
          2.178902724269444,
          0.2367245426897461,
          -1.3572443445271885,
          0.19080191211520586,
          -0.13534547363413924,
          2.1480475225124707,
          -1.640485130488358,
          0.24098007138199837,
          -0.06635707305500717,
          1.43720151371039,
          -1.2881494307241494,
          0.358308734244282,
          0.6610268948939776,
          0.17306216631950902,
          -1.4831561712608663,
          0.17009094047524345
         ],
         "xaxis": "x3",
         "y": [
          2.589041960375388,
          0.46446495832878104,
          -1.8622342467167692,
          0.44748282470611106,
          0.5183570648847058,
          0.12564036024206882,
          -0.24671833426783726,
          1.462267278267704,
          0.6501389382278583,
          -0.6672168110888695,
          1.0747847894423825,
          -0.8495646586597335,
          0.8803409704941809,
          0.8276737448827238,
          -1.9844611168258537,
          -0.5824346509596668,
          0.31244403542215765,
          -1.9058846467784096,
          1.534946502058969,
          0.03365006500295044,
          -0.29023183110114703,
          0.3634249740106572,
          -0.2711593909409654,
          -0.9132127122770319,
          -1.5297006715639065,
          1.8365899649961515,
          0.997620536569792,
          -0.2682830090953816,
          -0.9920391126364365,
          -1.1288479078430984,
          -0.008960344604379092,
          0.08630969741946837,
          0.46474673901283703,
          1.080017337225342,
          1.4661189565799466,
          1.7757481260571573,
          0.3205119277722951,
          -0.1798124223086815,
          -0.4958536804162443,
          -1.0824042969488221,
          0.6888694888308021,
          -0.5554454322639867,
          1.1331849620973518,
          0.707328075472143,
          1.5136541614709633,
          -0.15648423529358677,
          -0.1433778469159636,
          -0.40468586905849585,
          -1.1744432881168483,
          -1.1803866454136969,
          0.08701772484394507,
          0.5103821267093613,
          -0.7433404424157205,
          -1.3161156299617915,
          0.723862166500837,
          0.0026211503152519856,
          0.6319910333015367,
          -0.7800163727009063,
          0.35886810605281194,
          -0.8301763834854368,
          -0.8524457756811449,
          0.9092763928827187,
          1.386293842292832,
          0.6190688873352528,
          -0.7452238959623145,
          -0.10530966041008744,
          0.6046632526320624,
          0.5577696731869712,
          -0.2920090900408622,
          0.24765258184426459,
          0.24614719012597427,
          -0.5867004475301311,
          -0.6851305364461912,
          -0.3361131907069222,
          0.6096750683088648,
          0.40561099150908214,
          -1.0722447247968594,
          -0.8429016314669159,
          -1.1413614153611717,
          0.003590536584902493,
          0.34212167559255774,
          0.6196242646627494,
          1.3374433126596188,
          0.783739897292725,
          -0.21978813559000052,
          1.310680446778554,
          -2.1203859731935624,
          -0.012493364965072527,
          1.5567907256747087,
          -0.09070771602794563,
          1.4609853837943934,
          -0.08854349224959014,
          -0.856791361064138,
          1.0297475656962671,
          0.42198118265890605,
          -1.03460399441633,
          0.3735845230130623,
          -0.9241538869607678,
          1.570150040609835,
          1.321593659953714
         ],
         "yaxis": "y3"
        },
        {
         "line": {
          "color": "rgba(128, 128, 128, 1.0)",
          "dash": "solid",
          "shape": "linear",
          "width": 1.3
         },
         "marker": {
          "size": 2,
          "symbol": "circle"
         },
         "mode": "markers",
         "name": "A",
         "text": "",
         "type": "scatter",
         "x": [
          0.586241282522509,
          -0.22089794130715373,
          -0.32977958431585386,
          -0.5405340776475431,
          -0.04877349669389779,
          0.17133305898484838,
          0.7339462271620942,
          -1.7541849625682326,
          0.38375511557610975,
          0.5464722105970232,
          0.8766556178661989,
          0.6253743071113597,
          1.6496321321064724,
          -0.10249437906321221,
          -1.8595332557304354,
          -0.5715638089220502,
          0.4540962512541975,
          0.7954282130636511,
          -0.6171071272338289,
          0.9411102920743672,
          -0.569366457259254,
          -1.767388870564552,
          0.5747861920019599,
          -0.02796334802597153,
          -1.2198724082225554,
          -0.18441574978108347,
          -0.08983485756478941,
          0.7827998769009209,
          -0.6616735120219261,
          -0.21427997059061274,
          1.1716129881809083,
          -1.9365676452401521,
          -0.10149410131838696,
          -0.2315074296925576,
          0.4333018191203166,
          0.06759345971896527,
          -0.9565589970551207,
          -0.19913366531592835,
          0.6331964735409779,
          0.13008037562286812,
          -0.18791630766850706,
          0.6071395142047425,
          -0.9420566323715552,
          1.4991190191191128,
          0.775317504035868,
          -0.15913932979620232,
          0.1510895181968772,
          -0.5296271622969968,
          -0.7197989233436392,
          0.11309694712602393,
          0.44412989477713655,
          -0.09403027940187994,
          -0.8682299237393994,
          1.7553823217684428,
          0.4005643438094378,
          0.597826128640621,
          -0.7137331780235777,
          0.08946368313769949,
          -0.6430225688837589,
          -1.287764150816326,
          0.41927884809407495,
          0.1308943120600146,
          1.4612925365780403,
          0.4173722049236492,
          -1.2898246332745469,
          0.12236587640394747,
          0.3675122286041763,
          -0.711997864746745,
          -0.35653191502630593,
          0.42361621822173884,
          0.4459568784922028,
          -0.42929052053717953,
          0.09773405326685174,
          -1.4684722989661918,
          -0.31127757815040275,
          -1.1450330047394817,
          0.7635046452857974,
          0.6846182203864283,
          0.6830606678917067,
          -0.23039228538683168,
          -0.7468894046264111,
          -0.40334364788009475,
          0.6974026863797835,
          0.4129473636523078,
          -0.3019078924747539,
          -0.6427034119718875,
          -1.0264660139234527,
          -0.257059610559706,
          -0.05721108300739811,
          0.5561748153861257,
          1.202268969030958,
          1.310702613250076,
          -0.007279985522969998,
          -1.127865115148052,
          -1.2633103084419985,
          -0.41207404062384906,
          -2.680605099876662,
          -0.8744459753552564,
          -0.8670295998657446,
          -0.2292315238956763
         ],
         "xaxis": "x4",
         "y": [
          2.589041960375388,
          0.46446495832878104,
          -1.8622342467167692,
          0.44748282470611106,
          0.5183570648847058,
          0.12564036024206882,
          -0.24671833426783726,
          1.462267278267704,
          0.6501389382278583,
          -0.6672168110888695,
          1.0747847894423825,
          -0.8495646586597335,
          0.8803409704941809,
          0.8276737448827238,
          -1.9844611168258537,
          -0.5824346509596668,
          0.31244403542215765,
          -1.9058846467784096,
          1.534946502058969,
          0.03365006500295044,
          -0.29023183110114703,
          0.3634249740106572,
          -0.2711593909409654,
          -0.9132127122770319,
          -1.5297006715639065,
          1.8365899649961515,
          0.997620536569792,
          -0.2682830090953816,
          -0.9920391126364365,
          -1.1288479078430984,
          -0.008960344604379092,
          0.08630969741946837,
          0.46474673901283703,
          1.080017337225342,
          1.4661189565799466,
          1.7757481260571573,
          0.3205119277722951,
          -0.1798124223086815,
          -0.4958536804162443,
          -1.0824042969488221,
          0.6888694888308021,
          -0.5554454322639867,
          1.1331849620973518,
          0.707328075472143,
          1.5136541614709633,
          -0.15648423529358677,
          -0.1433778469159636,
          -0.40468586905849585,
          -1.1744432881168483,
          -1.1803866454136969,
          0.08701772484394507,
          0.5103821267093613,
          -0.7433404424157205,
          -1.3161156299617915,
          0.723862166500837,
          0.0026211503152519856,
          0.6319910333015367,
          -0.7800163727009063,
          0.35886810605281194,
          -0.8301763834854368,
          -0.8524457756811449,
          0.9092763928827187,
          1.386293842292832,
          0.6190688873352528,
          -0.7452238959623145,
          -0.10530966041008744,
          0.6046632526320624,
          0.5577696731869712,
          -0.2920090900408622,
          0.24765258184426459,
          0.24614719012597427,
          -0.5867004475301311,
          -0.6851305364461912,
          -0.3361131907069222,
          0.6096750683088648,
          0.40561099150908214,
          -1.0722447247968594,
          -0.8429016314669159,
          -1.1413614153611717,
          0.003590536584902493,
          0.34212167559255774,
          0.6196242646627494,
          1.3374433126596188,
          0.783739897292725,
          -0.21978813559000052,
          1.310680446778554,
          -2.1203859731935624,
          -0.012493364965072527,
          1.5567907256747087,
          -0.09070771602794563,
          1.4609853837943934,
          -0.08854349224959014,
          -0.856791361064138,
          1.0297475656962671,
          0.42198118265890605,
          -1.03460399441633,
          0.3735845230130623,
          -0.9241538869607678,
          1.570150040609835,
          1.321593659953714
         ],
         "yaxis": "y4"
        },
        {
         "line": {
          "color": "rgba(128, 128, 128, 1.0)",
          "dash": "solid",
          "shape": "linear",
          "width": 1.3
         },
         "marker": {
          "size": 2,
          "symbol": "circle"
         },
         "mode": "markers",
         "name": "B",
         "text": "",
         "type": "scatter",
         "x": [
          2.589041960375388,
          0.46446495832878104,
          -1.8622342467167692,
          0.44748282470611106,
          0.5183570648847058,
          0.12564036024206882,
          -0.24671833426783726,
          1.462267278267704,
          0.6501389382278583,
          -0.6672168110888695,
          1.0747847894423825,
          -0.8495646586597335,
          0.8803409704941809,
          0.8276737448827238,
          -1.9844611168258537,
          -0.5824346509596668,
          0.31244403542215765,
          -1.9058846467784096,
          1.534946502058969,
          0.03365006500295044,
          -0.29023183110114703,
          0.3634249740106572,
          -0.2711593909409654,
          -0.9132127122770319,
          -1.5297006715639065,
          1.8365899649961515,
          0.997620536569792,
          -0.2682830090953816,
          -0.9920391126364365,
          -1.1288479078430984,
          -0.008960344604379092,
          0.08630969741946837,
          0.46474673901283703,
          1.080017337225342,
          1.4661189565799466,
          1.7757481260571573,
          0.3205119277722951,
          -0.1798124223086815,
          -0.4958536804162443,
          -1.0824042969488221,
          0.6888694888308021,
          -0.5554454322639867,
          1.1331849620973518,
          0.707328075472143,
          1.5136541614709633,
          -0.15648423529358677,
          -0.1433778469159636,
          -0.40468586905849585,
          -1.1744432881168483,
          -1.1803866454136969,
          0.08701772484394507,
          0.5103821267093613,
          -0.7433404424157205,
          -1.3161156299617915,
          0.723862166500837,
          0.0026211503152519856,
          0.6319910333015367,
          -0.7800163727009063,
          0.35886810605281194,
          -0.8301763834854368,
          -0.8524457756811449,
          0.9092763928827187,
          1.386293842292832,
          0.6190688873352528,
          -0.7452238959623145,
          -0.10530966041008744,
          0.6046632526320624,
          0.5577696731869712,
          -0.2920090900408622,
          0.24765258184426459,
          0.24614719012597427,
          -0.5867004475301311,
          -0.6851305364461912,
          -0.3361131907069222,
          0.6096750683088648,
          0.40561099150908214,
          -1.0722447247968594,
          -0.8429016314669159,
          -1.1413614153611717,
          0.003590536584902493,
          0.34212167559255774,
          0.6196242646627494,
          1.3374433126596188,
          0.783739897292725,
          -0.21978813559000052,
          1.310680446778554,
          -2.1203859731935624,
          -0.012493364965072527,
          1.5567907256747087,
          -0.09070771602794563,
          1.4609853837943934,
          -0.08854349224959014,
          -0.856791361064138,
          1.0297475656962671,
          0.42198118265890605,
          -1.03460399441633,
          0.3735845230130623,
          -0.9241538869607678,
          1.570150040609835,
          1.321593659953714
         ],
         "xaxis": "x5",
         "y": [
          0.3628951277929951,
          -0.3370451361478144,
          1.3231291351782233,
          1.4619849953879063,
          2.117158857110377,
          -0.4278911070438518,
          0.7344388751372461,
          -0.550323658824948,
          2.289515694879591,
          0.30742068285265095,
          -0.43977407824993986,
          -0.48884334734707185,
          -0.035511693272353935,
          -0.5342855677426966,
          -0.48180500751838384,
          -0.5402177259755799,
          -0.4257760630492741,
          0.7481064580560373,
          0.38511250543185005,
          0.8948997926718579,
          0.5536185568036587,
          -0.6179898772826783,
          -0.7373935557874557,
          -0.6587419190524676,
          -0.7908486650543705,
          1.9579085993292384,
          1.0227320867440015,
          0.08107381074532037,
          -1.0480676019418818,
          -0.038411630922692945,
          -0.43553368154143673,
          0.30547134666727555,
          0.31837764643846567,
          -1.2142755537571501,
          -1.33773432084597,
          -0.7116738068907645,
          0.9183167283589629,
          1.4743458775421812,
          -0.8431681057751841,
          0.43131204721851857,
          -0.9552574710960884,
          1.360748437511149,
          0.17242502311920802,
          -0.1770824993618998,
          -1.2597307314975406,
          0.10361795124246964,
          -0.18102523650578423,
          1.9573674380123398,
          -1.9199468808812759,
          1.4147956826988282,
          -0.9874818136598563,
          -0.7022202694544329,
          -0.5705377079294096,
          -0.7181380869066,
          -1.5780613890451551,
          1.8132684520903277,
          -0.04335726224652799,
          -0.622068537839199,
          0.49221363767893667,
          1.3014197695620342,
          1.2885602911496903,
          -2.8538900169933634,
          0.25687937793931975,
          -0.9849351141966023,
          0.12599618770693463,
          0.34654139867809725,
          1.6403611743900608,
          0.34133072787434726,
          -0.3534901678291325,
          -1.3064588907422594,
          -0.4066703765884158,
          -1.9235557950647617,
          -0.7594602183434284,
          -0.7594261635516536,
          -0.29650932390946017,
          -0.7528925452720961,
          -0.026538330860710606,
          -0.7006225652800655,
          0.08891626131943374,
          -0.9241877460937217,
          1.1524864431883304,
          -1.5516429203762085,
          -0.7512503489892757,
          -0.2172506305976222,
          -0.3702813233079158,
          -1.6215454634160695,
          0.8196735120810899,
          -0.7064143748530674,
          -1.4730559538526578,
          1.2335673831613592,
          -1.7081096406580358,
          -0.6861292538606032,
          0.4460871106918229,
          2.145446758488049,
          -1.1984764313861387,
          0.9179123015415466,
          1.97791814986797,
          1.421128192119911,
          1.0233477071069101,
          -0.45111783720311166
         ],
         "yaxis": "y5"
        },
        {
         "histfunc": "count",
         "histnorm": "",
         "marker": {
          "color": "rgba(55, 128, 191, 1.0)",
          "line": {
           "color": "#4D5663",
           "width": 1.3
          }
         },
         "name": "B",
         "nbinsx": 10,
         "opacity": 0.8,
         "orientation": "v",
         "type": "histogram",
         "x": [
          0.3628951277929951,
          -0.3370451361478144,
          1.3231291351782233,
          1.4619849953879063,
          2.117158857110377,
          -0.4278911070438518,
          0.7344388751372461,
          -0.550323658824948,
          2.289515694879591,
          0.30742068285265095,
          -0.43977407824993986,
          -0.48884334734707185,
          -0.035511693272353935,
          -0.5342855677426966,
          -0.48180500751838384,
          -0.5402177259755799,
          -0.4257760630492741,
          0.7481064580560373,
          0.38511250543185005,
          0.8948997926718579,
          0.5536185568036587,
          -0.6179898772826783,
          -0.7373935557874557,
          -0.6587419190524676,
          -0.7908486650543705,
          1.9579085993292384,
          1.0227320867440015,
          0.08107381074532037,
          -1.0480676019418818,
          -0.038411630922692945,
          -0.43553368154143673,
          0.30547134666727555,
          0.31837764643846567,
          -1.2142755537571501,
          -1.33773432084597,
          -0.7116738068907645,
          0.9183167283589629,
          1.4743458775421812,
          -0.8431681057751841,
          0.43131204721851857,
          -0.9552574710960884,
          1.360748437511149,
          0.17242502311920802,
          -0.1770824993618998,
          -1.2597307314975406,
          0.10361795124246964,
          -0.18102523650578423,
          1.9573674380123398,
          -1.9199468808812759,
          1.4147956826988282,
          -0.9874818136598563,
          -0.7022202694544329,
          -0.5705377079294096,
          -0.7181380869066,
          -1.5780613890451551,
          1.8132684520903277,
          -0.04335726224652799,
          -0.622068537839199,
          0.49221363767893667,
          1.3014197695620342,
          1.2885602911496903,
          -2.8538900169933634,
          0.25687937793931975,
          -0.9849351141966023,
          0.12599618770693463,
          0.34654139867809725,
          1.6403611743900608,
          0.34133072787434726,
          -0.3534901678291325,
          -1.3064588907422594,
          -0.4066703765884158,
          -1.9235557950647617,
          -0.7594602183434284,
          -0.7594261635516536,
          -0.29650932390946017,
          -0.7528925452720961,
          -0.026538330860710606,
          -0.7006225652800655,
          0.08891626131943374,
          -0.9241877460937217,
          1.1524864431883304,
          -1.5516429203762085,
          -0.7512503489892757,
          -0.2172506305976222,
          -0.3702813233079158,
          -1.6215454634160695,
          0.8196735120810899,
          -0.7064143748530674,
          -1.4730559538526578,
          1.2335673831613592,
          -1.7081096406580358,
          -0.6861292538606032,
          0.4460871106918229,
          2.145446758488049,
          -1.1984764313861387,
          0.9179123015415466,
          1.97791814986797,
          1.421128192119911,
          1.0233477071069101,
          -0.45111783720311166
         ],
         "xaxis": "x6",
         "yaxis": "y6"
        },
        {
         "line": {
          "color": "rgba(128, 128, 128, 1.0)",
          "dash": "solid",
          "shape": "linear",
          "width": 1.3
         },
         "marker": {
          "size": 2,
          "symbol": "circle"
         },
         "mode": "markers",
         "name": "B",
         "text": "",
         "type": "scatter",
         "x": [
          -1.262246386708045,
          1.5638579611107675,
          1.6533456642054394,
          -0.5857274150439693,
          -0.9718003335278091,
          1.9910197132485752,
          -0.01613438128547328,
          -0.7222960998036906,
          -0.43452788842835516,
          1.8314339377290816,
          0.4826739694509472,
          -0.8357536125493982,
          -0.2593056592632085,
          0.47485761951349925,
          -0.14457728585036042,
          -0.56176823174519,
          -0.0803096305257362,
          0.5397232549572729,
          -0.31562777844065215,
          0.609617256698708,
          0.5820343674747728,
          -1.0964528018403226,
          -1.390339177426912,
          0.6400248855065004,
          0.47259256055418436,
          -1.009103140705429,
          0.40008503543512436,
          0.5995439538437828,
          0.3133663894433051,
          -2.665883259984044,
          -0.6461013421361341,
          -0.897748954090031,
          0.9621321118411451,
          -0.04320877208820299,
          -1.9574508338642798,
          -1.8760688791065874,
          1.3121315059780538,
          0.4780649355181438,
          0.2570784378160595,
          -1.0061816352506987,
          0.5381896067709654,
          0.21933334682360123,
          -0.4136204340160217,
          0.8789952767971859,
          -1.733200734199713,
          0.059984712005299604,
          -1.91442323813317,
          -0.5197833673791261,
          0.6991419801679005,
          -0.03210088725470912,
          -1.0632333928130342,
          -0.9300430509553365,
          -0.6012510269252737,
          0.2865154738217406,
          -0.06645984323458184,
          0.700151111328033,
          -0.4545238559681508,
          0.4197119613844714,
          0.6250125750521822,
          1.543602961789841,
          1.9234299147607956,
          0.4923533990036386,
          0.5823243218785095,
          -1.7956378010179064,
          2.2093208145112797,
          0.9489631119338943,
          0.11530760570093612,
          -0.046247696279733165,
          0.10286615664533401,
          0.3355010334083271,
          -1.2288175562291406,
          -0.4381558644867527,
          0.885854600105045,
          -0.7263145339435798,
          0.6037080262828017,
          0.039503474380392735,
          -0.13721426690389715,
          -0.7697375720421394,
          0.5664177039909022,
          -1.4533834714828815,
          -0.28788223418867487,
          -0.6869229799254724,
          -1.1019783015488456,
          -0.6995551434410562,
          2.178902724269444,
          0.2367245426897461,
          -1.3572443445271885,
          0.19080191211520586,
          -0.13534547363413924,
          2.1480475225124707,
          -1.640485130488358,
          0.24098007138199837,
          -0.06635707305500717,
          1.43720151371039,
          -1.2881494307241494,
          0.358308734244282,
          0.6610268948939776,
          0.17306216631950902,
          -1.4831561712608663,
          0.17009094047524345
         ],
         "xaxis": "x7",
         "y": [
          0.3628951277929951,
          -0.3370451361478144,
          1.3231291351782233,
          1.4619849953879063,
          2.117158857110377,
          -0.4278911070438518,
          0.7344388751372461,
          -0.550323658824948,
          2.289515694879591,
          0.30742068285265095,
          -0.43977407824993986,
          -0.48884334734707185,
          -0.035511693272353935,
          -0.5342855677426966,
          -0.48180500751838384,
          -0.5402177259755799,
          -0.4257760630492741,
          0.7481064580560373,
          0.38511250543185005,
          0.8948997926718579,
          0.5536185568036587,
          -0.6179898772826783,
          -0.7373935557874557,
          -0.6587419190524676,
          -0.7908486650543705,
          1.9579085993292384,
          1.0227320867440015,
          0.08107381074532037,
          -1.0480676019418818,
          -0.038411630922692945,
          -0.43553368154143673,
          0.30547134666727555,
          0.31837764643846567,
          -1.2142755537571501,
          -1.33773432084597,
          -0.7116738068907645,
          0.9183167283589629,
          1.4743458775421812,
          -0.8431681057751841,
          0.43131204721851857,
          -0.9552574710960884,
          1.360748437511149,
          0.17242502311920802,
          -0.1770824993618998,
          -1.2597307314975406,
          0.10361795124246964,
          -0.18102523650578423,
          1.9573674380123398,
          -1.9199468808812759,
          1.4147956826988282,
          -0.9874818136598563,
          -0.7022202694544329,
          -0.5705377079294096,
          -0.7181380869066,
          -1.5780613890451551,
          1.8132684520903277,
          -0.04335726224652799,
          -0.622068537839199,
          0.49221363767893667,
          1.3014197695620342,
          1.2885602911496903,
          -2.8538900169933634,
          0.25687937793931975,
          -0.9849351141966023,
          0.12599618770693463,
          0.34654139867809725,
          1.6403611743900608,
          0.34133072787434726,
          -0.3534901678291325,
          -1.3064588907422594,
          -0.4066703765884158,
          -1.9235557950647617,
          -0.7594602183434284,
          -0.7594261635516536,
          -0.29650932390946017,
          -0.7528925452720961,
          -0.026538330860710606,
          -0.7006225652800655,
          0.08891626131943374,
          -0.9241877460937217,
          1.1524864431883304,
          -1.5516429203762085,
          -0.7512503489892757,
          -0.2172506305976222,
          -0.3702813233079158,
          -1.6215454634160695,
          0.8196735120810899,
          -0.7064143748530674,
          -1.4730559538526578,
          1.2335673831613592,
          -1.7081096406580358,
          -0.6861292538606032,
          0.4460871106918229,
          2.145446758488049,
          -1.1984764313861387,
          0.9179123015415466,
          1.97791814986797,
          1.421128192119911,
          1.0233477071069101,
          -0.45111783720311166
         ],
         "yaxis": "y7"
        },
        {
         "line": {
          "color": "rgba(128, 128, 128, 1.0)",
          "dash": "solid",
          "shape": "linear",
          "width": 1.3
         },
         "marker": {
          "size": 2,
          "symbol": "circle"
         },
         "mode": "markers",
         "name": "B",
         "text": "",
         "type": "scatter",
         "x": [
          0.586241282522509,
          -0.22089794130715373,
          -0.32977958431585386,
          -0.5405340776475431,
          -0.04877349669389779,
          0.17133305898484838,
          0.7339462271620942,
          -1.7541849625682326,
          0.38375511557610975,
          0.5464722105970232,
          0.8766556178661989,
          0.6253743071113597,
          1.6496321321064724,
          -0.10249437906321221,
          -1.8595332557304354,
          -0.5715638089220502,
          0.4540962512541975,
          0.7954282130636511,
          -0.6171071272338289,
          0.9411102920743672,
          -0.569366457259254,
          -1.767388870564552,
          0.5747861920019599,
          -0.02796334802597153,
          -1.2198724082225554,
          -0.18441574978108347,
          -0.08983485756478941,
          0.7827998769009209,
          -0.6616735120219261,
          -0.21427997059061274,
          1.1716129881809083,
          -1.9365676452401521,
          -0.10149410131838696,
          -0.2315074296925576,
          0.4333018191203166,
          0.06759345971896527,
          -0.9565589970551207,
          -0.19913366531592835,
          0.6331964735409779,
          0.13008037562286812,
          -0.18791630766850706,
          0.6071395142047425,
          -0.9420566323715552,
          1.4991190191191128,
          0.775317504035868,
          -0.15913932979620232,
          0.1510895181968772,
          -0.5296271622969968,
          -0.7197989233436392,
          0.11309694712602393,
          0.44412989477713655,
          -0.09403027940187994,
          -0.8682299237393994,
          1.7553823217684428,
          0.4005643438094378,
          0.597826128640621,
          -0.7137331780235777,
          0.08946368313769949,
          -0.6430225688837589,
          -1.287764150816326,
          0.41927884809407495,
          0.1308943120600146,
          1.4612925365780403,
          0.4173722049236492,
          -1.2898246332745469,
          0.12236587640394747,
          0.3675122286041763,
          -0.711997864746745,
          -0.35653191502630593,
          0.42361621822173884,
          0.4459568784922028,
          -0.42929052053717953,
          0.09773405326685174,
          -1.4684722989661918,
          -0.31127757815040275,
          -1.1450330047394817,
          0.7635046452857974,
          0.6846182203864283,
          0.6830606678917067,
          -0.23039228538683168,
          -0.7468894046264111,
          -0.40334364788009475,
          0.6974026863797835,
          0.4129473636523078,
          -0.3019078924747539,
          -0.6427034119718875,
          -1.0264660139234527,
          -0.257059610559706,
          -0.05721108300739811,
          0.5561748153861257,
          1.202268969030958,
          1.310702613250076,
          -0.007279985522969998,
          -1.127865115148052,
          -1.2633103084419985,
          -0.41207404062384906,
          -2.680605099876662,
          -0.8744459753552564,
          -0.8670295998657446,
          -0.2292315238956763
         ],
         "xaxis": "x8",
         "y": [
          0.3628951277929951,
          -0.3370451361478144,
          1.3231291351782233,
          1.4619849953879063,
          2.117158857110377,
          -0.4278911070438518,
          0.7344388751372461,
          -0.550323658824948,
          2.289515694879591,
          0.30742068285265095,
          -0.43977407824993986,
          -0.48884334734707185,
          -0.035511693272353935,
          -0.5342855677426966,
          -0.48180500751838384,
          -0.5402177259755799,
          -0.4257760630492741,
          0.7481064580560373,
          0.38511250543185005,
          0.8948997926718579,
          0.5536185568036587,
          -0.6179898772826783,
          -0.7373935557874557,
          -0.6587419190524676,
          -0.7908486650543705,
          1.9579085993292384,
          1.0227320867440015,
          0.08107381074532037,
          -1.0480676019418818,
          -0.038411630922692945,
          -0.43553368154143673,
          0.30547134666727555,
          0.31837764643846567,
          -1.2142755537571501,
          -1.33773432084597,
          -0.7116738068907645,
          0.9183167283589629,
          1.4743458775421812,
          -0.8431681057751841,
          0.43131204721851857,
          -0.9552574710960884,
          1.360748437511149,
          0.17242502311920802,
          -0.1770824993618998,
          -1.2597307314975406,
          0.10361795124246964,
          -0.18102523650578423,
          1.9573674380123398,
          -1.9199468808812759,
          1.4147956826988282,
          -0.9874818136598563,
          -0.7022202694544329,
          -0.5705377079294096,
          -0.7181380869066,
          -1.5780613890451551,
          1.8132684520903277,
          -0.04335726224652799,
          -0.622068537839199,
          0.49221363767893667,
          1.3014197695620342,
          1.2885602911496903,
          -2.8538900169933634,
          0.25687937793931975,
          -0.9849351141966023,
          0.12599618770693463,
          0.34654139867809725,
          1.6403611743900608,
          0.34133072787434726,
          -0.3534901678291325,
          -1.3064588907422594,
          -0.4066703765884158,
          -1.9235557950647617,
          -0.7594602183434284,
          -0.7594261635516536,
          -0.29650932390946017,
          -0.7528925452720961,
          -0.026538330860710606,
          -0.7006225652800655,
          0.08891626131943374,
          -0.9241877460937217,
          1.1524864431883304,
          -1.5516429203762085,
          -0.7512503489892757,
          -0.2172506305976222,
          -0.3702813233079158,
          -1.6215454634160695,
          0.8196735120810899,
          -0.7064143748530674,
          -1.4730559538526578,
          1.2335673831613592,
          -1.7081096406580358,
          -0.6861292538606032,
          0.4460871106918229,
          2.145446758488049,
          -1.1984764313861387,
          0.9179123015415466,
          1.97791814986797,
          1.421128192119911,
          1.0233477071069101,
          -0.45111783720311166
         ],
         "yaxis": "y8"
        },
        {
         "line": {
          "color": "rgba(128, 128, 128, 1.0)",
          "dash": "solid",
          "shape": "linear",
          "width": 1.3
         },
         "marker": {
          "size": 2,
          "symbol": "circle"
         },
         "mode": "markers",
         "name": "C",
         "text": "",
         "type": "scatter",
         "x": [
          2.589041960375388,
          0.46446495832878104,
          -1.8622342467167692,
          0.44748282470611106,
          0.5183570648847058,
          0.12564036024206882,
          -0.24671833426783726,
          1.462267278267704,
          0.6501389382278583,
          -0.6672168110888695,
          1.0747847894423825,
          -0.8495646586597335,
          0.8803409704941809,
          0.8276737448827238,
          -1.9844611168258537,
          -0.5824346509596668,
          0.31244403542215765,
          -1.9058846467784096,
          1.534946502058969,
          0.03365006500295044,
          -0.29023183110114703,
          0.3634249740106572,
          -0.2711593909409654,
          -0.9132127122770319,
          -1.5297006715639065,
          1.8365899649961515,
          0.997620536569792,
          -0.2682830090953816,
          -0.9920391126364365,
          -1.1288479078430984,
          -0.008960344604379092,
          0.08630969741946837,
          0.46474673901283703,
          1.080017337225342,
          1.4661189565799466,
          1.7757481260571573,
          0.3205119277722951,
          -0.1798124223086815,
          -0.4958536804162443,
          -1.0824042969488221,
          0.6888694888308021,
          -0.5554454322639867,
          1.1331849620973518,
          0.707328075472143,
          1.5136541614709633,
          -0.15648423529358677,
          -0.1433778469159636,
          -0.40468586905849585,
          -1.1744432881168483,
          -1.1803866454136969,
          0.08701772484394507,
          0.5103821267093613,
          -0.7433404424157205,
          -1.3161156299617915,
          0.723862166500837,
          0.0026211503152519856,
          0.6319910333015367,
          -0.7800163727009063,
          0.35886810605281194,
          -0.8301763834854368,
          -0.8524457756811449,
          0.9092763928827187,
          1.386293842292832,
          0.6190688873352528,
          -0.7452238959623145,
          -0.10530966041008744,
          0.6046632526320624,
          0.5577696731869712,
          -0.2920090900408622,
          0.24765258184426459,
          0.24614719012597427,
          -0.5867004475301311,
          -0.6851305364461912,
          -0.3361131907069222,
          0.6096750683088648,
          0.40561099150908214,
          -1.0722447247968594,
          -0.8429016314669159,
          -1.1413614153611717,
          0.003590536584902493,
          0.34212167559255774,
          0.6196242646627494,
          1.3374433126596188,
          0.783739897292725,
          -0.21978813559000052,
          1.310680446778554,
          -2.1203859731935624,
          -0.012493364965072527,
          1.5567907256747087,
          -0.09070771602794563,
          1.4609853837943934,
          -0.08854349224959014,
          -0.856791361064138,
          1.0297475656962671,
          0.42198118265890605,
          -1.03460399441633,
          0.3735845230130623,
          -0.9241538869607678,
          1.570150040609835,
          1.321593659953714
         ],
         "xaxis": "x9",
         "y": [
          -1.262246386708045,
          1.5638579611107675,
          1.6533456642054394,
          -0.5857274150439693,
          -0.9718003335278091,
          1.9910197132485752,
          -0.01613438128547328,
          -0.7222960998036906,
          -0.43452788842835516,
          1.8314339377290816,
          0.4826739694509472,
          -0.8357536125493982,
          -0.2593056592632085,
          0.47485761951349925,
          -0.14457728585036042,
          -0.56176823174519,
          -0.0803096305257362,
          0.5397232549572729,
          -0.31562777844065215,
          0.609617256698708,
          0.5820343674747728,
          -1.0964528018403226,
          -1.390339177426912,
          0.6400248855065004,
          0.47259256055418436,
          -1.009103140705429,
          0.40008503543512436,
          0.5995439538437828,
          0.3133663894433051,
          -2.665883259984044,
          -0.6461013421361341,
          -0.897748954090031,
          0.9621321118411451,
          -0.04320877208820299,
          -1.9574508338642798,
          -1.8760688791065874,
          1.3121315059780538,
          0.4780649355181438,
          0.2570784378160595,
          -1.0061816352506987,
          0.5381896067709654,
          0.21933334682360123,
          -0.4136204340160217,
          0.8789952767971859,
          -1.733200734199713,
          0.059984712005299604,
          -1.91442323813317,
          -0.5197833673791261,
          0.6991419801679005,
          -0.03210088725470912,
          -1.0632333928130342,
          -0.9300430509553365,
          -0.6012510269252737,
          0.2865154738217406,
          -0.06645984323458184,
          0.700151111328033,
          -0.4545238559681508,
          0.4197119613844714,
          0.6250125750521822,
          1.543602961789841,
          1.9234299147607956,
          0.4923533990036386,
          0.5823243218785095,
          -1.7956378010179064,
          2.2093208145112797,
          0.9489631119338943,
          0.11530760570093612,
          -0.046247696279733165,
          0.10286615664533401,
          0.3355010334083271,
          -1.2288175562291406,
          -0.4381558644867527,
          0.885854600105045,
          -0.7263145339435798,
          0.6037080262828017,
          0.039503474380392735,
          -0.13721426690389715,
          -0.7697375720421394,
          0.5664177039909022,
          -1.4533834714828815,
          -0.28788223418867487,
          -0.6869229799254724,
          -1.1019783015488456,
          -0.6995551434410562,
          2.178902724269444,
          0.2367245426897461,
          -1.3572443445271885,
          0.19080191211520586,
          -0.13534547363413924,
          2.1480475225124707,
          -1.640485130488358,
          0.24098007138199837,
          -0.06635707305500717,
          1.43720151371039,
          -1.2881494307241494,
          0.358308734244282,
          0.6610268948939776,
          0.17306216631950902,
          -1.4831561712608663,
          0.17009094047524345
         ],
         "yaxis": "y9"
        },
        {
         "line": {
          "color": "rgba(128, 128, 128, 1.0)",
          "dash": "solid",
          "shape": "linear",
          "width": 1.3
         },
         "marker": {
          "size": 2,
          "symbol": "circle"
         },
         "mode": "markers",
         "name": "C",
         "text": "",
         "type": "scatter",
         "x": [
          0.3628951277929951,
          -0.3370451361478144,
          1.3231291351782233,
          1.4619849953879063,
          2.117158857110377,
          -0.4278911070438518,
          0.7344388751372461,
          -0.550323658824948,
          2.289515694879591,
          0.30742068285265095,
          -0.43977407824993986,
          -0.48884334734707185,
          -0.035511693272353935,
          -0.5342855677426966,
          -0.48180500751838384,
          -0.5402177259755799,
          -0.4257760630492741,
          0.7481064580560373,
          0.38511250543185005,
          0.8948997926718579,
          0.5536185568036587,
          -0.6179898772826783,
          -0.7373935557874557,
          -0.6587419190524676,
          -0.7908486650543705,
          1.9579085993292384,
          1.0227320867440015,
          0.08107381074532037,
          -1.0480676019418818,
          -0.038411630922692945,
          -0.43553368154143673,
          0.30547134666727555,
          0.31837764643846567,
          -1.2142755537571501,
          -1.33773432084597,
          -0.7116738068907645,
          0.9183167283589629,
          1.4743458775421812,
          -0.8431681057751841,
          0.43131204721851857,
          -0.9552574710960884,
          1.360748437511149,
          0.17242502311920802,
          -0.1770824993618998,
          -1.2597307314975406,
          0.10361795124246964,
          -0.18102523650578423,
          1.9573674380123398,
          -1.9199468808812759,
          1.4147956826988282,
          -0.9874818136598563,
          -0.7022202694544329,
          -0.5705377079294096,
          -0.7181380869066,
          -1.5780613890451551,
          1.8132684520903277,
          -0.04335726224652799,
          -0.622068537839199,
          0.49221363767893667,
          1.3014197695620342,
          1.2885602911496903,
          -2.8538900169933634,
          0.25687937793931975,
          -0.9849351141966023,
          0.12599618770693463,
          0.34654139867809725,
          1.6403611743900608,
          0.34133072787434726,
          -0.3534901678291325,
          -1.3064588907422594,
          -0.4066703765884158,
          -1.9235557950647617,
          -0.7594602183434284,
          -0.7594261635516536,
          -0.29650932390946017,
          -0.7528925452720961,
          -0.026538330860710606,
          -0.7006225652800655,
          0.08891626131943374,
          -0.9241877460937217,
          1.1524864431883304,
          -1.5516429203762085,
          -0.7512503489892757,
          -0.2172506305976222,
          -0.3702813233079158,
          -1.6215454634160695,
          0.8196735120810899,
          -0.7064143748530674,
          -1.4730559538526578,
          1.2335673831613592,
          -1.7081096406580358,
          -0.6861292538606032,
          0.4460871106918229,
          2.145446758488049,
          -1.1984764313861387,
          0.9179123015415466,
          1.97791814986797,
          1.421128192119911,
          1.0233477071069101,
          -0.45111783720311166
         ],
         "xaxis": "x10",
         "y": [
          -1.262246386708045,
          1.5638579611107675,
          1.6533456642054394,
          -0.5857274150439693,
          -0.9718003335278091,
          1.9910197132485752,
          -0.01613438128547328,
          -0.7222960998036906,
          -0.43452788842835516,
          1.8314339377290816,
          0.4826739694509472,
          -0.8357536125493982,
          -0.2593056592632085,
          0.47485761951349925,
          -0.14457728585036042,
          -0.56176823174519,
          -0.0803096305257362,
          0.5397232549572729,
          -0.31562777844065215,
          0.609617256698708,
          0.5820343674747728,
          -1.0964528018403226,
          -1.390339177426912,
          0.6400248855065004,
          0.47259256055418436,
          -1.009103140705429,
          0.40008503543512436,
          0.5995439538437828,
          0.3133663894433051,
          -2.665883259984044,
          -0.6461013421361341,
          -0.897748954090031,
          0.9621321118411451,
          -0.04320877208820299,
          -1.9574508338642798,
          -1.8760688791065874,
          1.3121315059780538,
          0.4780649355181438,
          0.2570784378160595,
          -1.0061816352506987,
          0.5381896067709654,
          0.21933334682360123,
          -0.4136204340160217,
          0.8789952767971859,
          -1.733200734199713,
          0.059984712005299604,
          -1.91442323813317,
          -0.5197833673791261,
          0.6991419801679005,
          -0.03210088725470912,
          -1.0632333928130342,
          -0.9300430509553365,
          -0.6012510269252737,
          0.2865154738217406,
          -0.06645984323458184,
          0.700151111328033,
          -0.4545238559681508,
          0.4197119613844714,
          0.6250125750521822,
          1.543602961789841,
          1.9234299147607956,
          0.4923533990036386,
          0.5823243218785095,
          -1.7956378010179064,
          2.2093208145112797,
          0.9489631119338943,
          0.11530760570093612,
          -0.046247696279733165,
          0.10286615664533401,
          0.3355010334083271,
          -1.2288175562291406,
          -0.4381558644867527,
          0.885854600105045,
          -0.7263145339435798,
          0.6037080262828017,
          0.039503474380392735,
          -0.13721426690389715,
          -0.7697375720421394,
          0.5664177039909022,
          -1.4533834714828815,
          -0.28788223418867487,
          -0.6869229799254724,
          -1.1019783015488456,
          -0.6995551434410562,
          2.178902724269444,
          0.2367245426897461,
          -1.3572443445271885,
          0.19080191211520586,
          -0.13534547363413924,
          2.1480475225124707,
          -1.640485130488358,
          0.24098007138199837,
          -0.06635707305500717,
          1.43720151371039,
          -1.2881494307241494,
          0.358308734244282,
          0.6610268948939776,
          0.17306216631950902,
          -1.4831561712608663,
          0.17009094047524345
         ],
         "yaxis": "y10"
        },
        {
         "histfunc": "count",
         "histnorm": "",
         "marker": {
          "color": "rgba(50, 171, 96, 1.0)",
          "line": {
           "color": "#4D5663",
           "width": 1.3
          }
         },
         "name": "C",
         "nbinsx": 10,
         "opacity": 0.8,
         "orientation": "v",
         "type": "histogram",
         "x": [
          -1.262246386708045,
          1.5638579611107675,
          1.6533456642054394,
          -0.5857274150439693,
          -0.9718003335278091,
          1.9910197132485752,
          -0.01613438128547328,
          -0.7222960998036906,
          -0.43452788842835516,
          1.8314339377290816,
          0.4826739694509472,
          -0.8357536125493982,
          -0.2593056592632085,
          0.47485761951349925,
          -0.14457728585036042,
          -0.56176823174519,
          -0.0803096305257362,
          0.5397232549572729,
          -0.31562777844065215,
          0.609617256698708,
          0.5820343674747728,
          -1.0964528018403226,
          -1.390339177426912,
          0.6400248855065004,
          0.47259256055418436,
          -1.009103140705429,
          0.40008503543512436,
          0.5995439538437828,
          0.3133663894433051,
          -2.665883259984044,
          -0.6461013421361341,
          -0.897748954090031,
          0.9621321118411451,
          -0.04320877208820299,
          -1.9574508338642798,
          -1.8760688791065874,
          1.3121315059780538,
          0.4780649355181438,
          0.2570784378160595,
          -1.0061816352506987,
          0.5381896067709654,
          0.21933334682360123,
          -0.4136204340160217,
          0.8789952767971859,
          -1.733200734199713,
          0.059984712005299604,
          -1.91442323813317,
          -0.5197833673791261,
          0.6991419801679005,
          -0.03210088725470912,
          -1.0632333928130342,
          -0.9300430509553365,
          -0.6012510269252737,
          0.2865154738217406,
          -0.06645984323458184,
          0.700151111328033,
          -0.4545238559681508,
          0.4197119613844714,
          0.6250125750521822,
          1.543602961789841,
          1.9234299147607956,
          0.4923533990036386,
          0.5823243218785095,
          -1.7956378010179064,
          2.2093208145112797,
          0.9489631119338943,
          0.11530760570093612,
          -0.046247696279733165,
          0.10286615664533401,
          0.3355010334083271,
          -1.2288175562291406,
          -0.4381558644867527,
          0.885854600105045,
          -0.7263145339435798,
          0.6037080262828017,
          0.039503474380392735,
          -0.13721426690389715,
          -0.7697375720421394,
          0.5664177039909022,
          -1.4533834714828815,
          -0.28788223418867487,
          -0.6869229799254724,
          -1.1019783015488456,
          -0.6995551434410562,
          2.178902724269444,
          0.2367245426897461,
          -1.3572443445271885,
          0.19080191211520586,
          -0.13534547363413924,
          2.1480475225124707,
          -1.640485130488358,
          0.24098007138199837,
          -0.06635707305500717,
          1.43720151371039,
          -1.2881494307241494,
          0.358308734244282,
          0.6610268948939776,
          0.17306216631950902,
          -1.4831561712608663,
          0.17009094047524345
         ],
         "xaxis": "x11",
         "yaxis": "y11"
        },
        {
         "line": {
          "color": "rgba(128, 128, 128, 1.0)",
          "dash": "solid",
          "shape": "linear",
          "width": 1.3
         },
         "marker": {
          "size": 2,
          "symbol": "circle"
         },
         "mode": "markers",
         "name": "C",
         "text": "",
         "type": "scatter",
         "x": [
          0.586241282522509,
          -0.22089794130715373,
          -0.32977958431585386,
          -0.5405340776475431,
          -0.04877349669389779,
          0.17133305898484838,
          0.7339462271620942,
          -1.7541849625682326,
          0.38375511557610975,
          0.5464722105970232,
          0.8766556178661989,
          0.6253743071113597,
          1.6496321321064724,
          -0.10249437906321221,
          -1.8595332557304354,
          -0.5715638089220502,
          0.4540962512541975,
          0.7954282130636511,
          -0.6171071272338289,
          0.9411102920743672,
          -0.569366457259254,
          -1.767388870564552,
          0.5747861920019599,
          -0.02796334802597153,
          -1.2198724082225554,
          -0.18441574978108347,
          -0.08983485756478941,
          0.7827998769009209,
          -0.6616735120219261,
          -0.21427997059061274,
          1.1716129881809083,
          -1.9365676452401521,
          -0.10149410131838696,
          -0.2315074296925576,
          0.4333018191203166,
          0.06759345971896527,
          -0.9565589970551207,
          -0.19913366531592835,
          0.6331964735409779,
          0.13008037562286812,
          -0.18791630766850706,
          0.6071395142047425,
          -0.9420566323715552,
          1.4991190191191128,
          0.775317504035868,
          -0.15913932979620232,
          0.1510895181968772,
          -0.5296271622969968,
          -0.7197989233436392,
          0.11309694712602393,
          0.44412989477713655,
          -0.09403027940187994,
          -0.8682299237393994,
          1.7553823217684428,
          0.4005643438094378,
          0.597826128640621,
          -0.7137331780235777,
          0.08946368313769949,
          -0.6430225688837589,
          -1.287764150816326,
          0.41927884809407495,
          0.1308943120600146,
          1.4612925365780403,
          0.4173722049236492,
          -1.2898246332745469,
          0.12236587640394747,
          0.3675122286041763,
          -0.711997864746745,
          -0.35653191502630593,
          0.42361621822173884,
          0.4459568784922028,
          -0.42929052053717953,
          0.09773405326685174,
          -1.4684722989661918,
          -0.31127757815040275,
          -1.1450330047394817,
          0.7635046452857974,
          0.6846182203864283,
          0.6830606678917067,
          -0.23039228538683168,
          -0.7468894046264111,
          -0.40334364788009475,
          0.6974026863797835,
          0.4129473636523078,
          -0.3019078924747539,
          -0.6427034119718875,
          -1.0264660139234527,
          -0.257059610559706,
          -0.05721108300739811,
          0.5561748153861257,
          1.202268969030958,
          1.310702613250076,
          -0.007279985522969998,
          -1.127865115148052,
          -1.2633103084419985,
          -0.41207404062384906,
          -2.680605099876662,
          -0.8744459753552564,
          -0.8670295998657446,
          -0.2292315238956763
         ],
         "xaxis": "x12",
         "y": [
          -1.262246386708045,
          1.5638579611107675,
          1.6533456642054394,
          -0.5857274150439693,
          -0.9718003335278091,
          1.9910197132485752,
          -0.01613438128547328,
          -0.7222960998036906,
          -0.43452788842835516,
          1.8314339377290816,
          0.4826739694509472,
          -0.8357536125493982,
          -0.2593056592632085,
          0.47485761951349925,
          -0.14457728585036042,
          -0.56176823174519,
          -0.0803096305257362,
          0.5397232549572729,
          -0.31562777844065215,
          0.609617256698708,
          0.5820343674747728,
          -1.0964528018403226,
          -1.390339177426912,
          0.6400248855065004,
          0.47259256055418436,
          -1.009103140705429,
          0.40008503543512436,
          0.5995439538437828,
          0.3133663894433051,
          -2.665883259984044,
          -0.6461013421361341,
          -0.897748954090031,
          0.9621321118411451,
          -0.04320877208820299,
          -1.9574508338642798,
          -1.8760688791065874,
          1.3121315059780538,
          0.4780649355181438,
          0.2570784378160595,
          -1.0061816352506987,
          0.5381896067709654,
          0.21933334682360123,
          -0.4136204340160217,
          0.8789952767971859,
          -1.733200734199713,
          0.059984712005299604,
          -1.91442323813317,
          -0.5197833673791261,
          0.6991419801679005,
          -0.03210088725470912,
          -1.0632333928130342,
          -0.9300430509553365,
          -0.6012510269252737,
          0.2865154738217406,
          -0.06645984323458184,
          0.700151111328033,
          -0.4545238559681508,
          0.4197119613844714,
          0.6250125750521822,
          1.543602961789841,
          1.9234299147607956,
          0.4923533990036386,
          0.5823243218785095,
          -1.7956378010179064,
          2.2093208145112797,
          0.9489631119338943,
          0.11530760570093612,
          -0.046247696279733165,
          0.10286615664533401,
          0.3355010334083271,
          -1.2288175562291406,
          -0.4381558644867527,
          0.885854600105045,
          -0.7263145339435798,
          0.6037080262828017,
          0.039503474380392735,
          -0.13721426690389715,
          -0.7697375720421394,
          0.5664177039909022,
          -1.4533834714828815,
          -0.28788223418867487,
          -0.6869229799254724,
          -1.1019783015488456,
          -0.6995551434410562,
          2.178902724269444,
          0.2367245426897461,
          -1.3572443445271885,
          0.19080191211520586,
          -0.13534547363413924,
          2.1480475225124707,
          -1.640485130488358,
          0.24098007138199837,
          -0.06635707305500717,
          1.43720151371039,
          -1.2881494307241494,
          0.358308734244282,
          0.6610268948939776,
          0.17306216631950902,
          -1.4831561712608663,
          0.17009094047524345
         ],
         "yaxis": "y12"
        },
        {
         "line": {
          "color": "rgba(128, 128, 128, 1.0)",
          "dash": "solid",
          "shape": "linear",
          "width": 1.3
         },
         "marker": {
          "size": 2,
          "symbol": "circle"
         },
         "mode": "markers",
         "name": "D",
         "text": "",
         "type": "scatter",
         "x": [
          2.589041960375388,
          0.46446495832878104,
          -1.8622342467167692,
          0.44748282470611106,
          0.5183570648847058,
          0.12564036024206882,
          -0.24671833426783726,
          1.462267278267704,
          0.6501389382278583,
          -0.6672168110888695,
          1.0747847894423825,
          -0.8495646586597335,
          0.8803409704941809,
          0.8276737448827238,
          -1.9844611168258537,
          -0.5824346509596668,
          0.31244403542215765,
          -1.9058846467784096,
          1.534946502058969,
          0.03365006500295044,
          -0.29023183110114703,
          0.3634249740106572,
          -0.2711593909409654,
          -0.9132127122770319,
          -1.5297006715639065,
          1.8365899649961515,
          0.997620536569792,
          -0.2682830090953816,
          -0.9920391126364365,
          -1.1288479078430984,
          -0.008960344604379092,
          0.08630969741946837,
          0.46474673901283703,
          1.080017337225342,
          1.4661189565799466,
          1.7757481260571573,
          0.3205119277722951,
          -0.1798124223086815,
          -0.4958536804162443,
          -1.0824042969488221,
          0.6888694888308021,
          -0.5554454322639867,
          1.1331849620973518,
          0.707328075472143,
          1.5136541614709633,
          -0.15648423529358677,
          -0.1433778469159636,
          -0.40468586905849585,
          -1.1744432881168483,
          -1.1803866454136969,
          0.08701772484394507,
          0.5103821267093613,
          -0.7433404424157205,
          -1.3161156299617915,
          0.723862166500837,
          0.0026211503152519856,
          0.6319910333015367,
          -0.7800163727009063,
          0.35886810605281194,
          -0.8301763834854368,
          -0.8524457756811449,
          0.9092763928827187,
          1.386293842292832,
          0.6190688873352528,
          -0.7452238959623145,
          -0.10530966041008744,
          0.6046632526320624,
          0.5577696731869712,
          -0.2920090900408622,
          0.24765258184426459,
          0.24614719012597427,
          -0.5867004475301311,
          -0.6851305364461912,
          -0.3361131907069222,
          0.6096750683088648,
          0.40561099150908214,
          -1.0722447247968594,
          -0.8429016314669159,
          -1.1413614153611717,
          0.003590536584902493,
          0.34212167559255774,
          0.6196242646627494,
          1.3374433126596188,
          0.783739897292725,
          -0.21978813559000052,
          1.310680446778554,
          -2.1203859731935624,
          -0.012493364965072527,
          1.5567907256747087,
          -0.09070771602794563,
          1.4609853837943934,
          -0.08854349224959014,
          -0.856791361064138,
          1.0297475656962671,
          0.42198118265890605,
          -1.03460399441633,
          0.3735845230130623,
          -0.9241538869607678,
          1.570150040609835,
          1.321593659953714
         ],
         "xaxis": "x13",
         "y": [
          0.586241282522509,
          -0.22089794130715373,
          -0.32977958431585386,
          -0.5405340776475431,
          -0.04877349669389779,
          0.17133305898484838,
          0.7339462271620942,
          -1.7541849625682326,
          0.38375511557610975,
          0.5464722105970232,
          0.8766556178661989,
          0.6253743071113597,
          1.6496321321064724,
          -0.10249437906321221,
          -1.8595332557304354,
          -0.5715638089220502,
          0.4540962512541975,
          0.7954282130636511,
          -0.6171071272338289,
          0.9411102920743672,
          -0.569366457259254,
          -1.767388870564552,
          0.5747861920019599,
          -0.02796334802597153,
          -1.2198724082225554,
          -0.18441574978108347,
          -0.08983485756478941,
          0.7827998769009209,
          -0.6616735120219261,
          -0.21427997059061274,
          1.1716129881809083,
          -1.9365676452401521,
          -0.10149410131838696,
          -0.2315074296925576,
          0.4333018191203166,
          0.06759345971896527,
          -0.9565589970551207,
          -0.19913366531592835,
          0.6331964735409779,
          0.13008037562286812,
          -0.18791630766850706,
          0.6071395142047425,
          -0.9420566323715552,
          1.4991190191191128,
          0.775317504035868,
          -0.15913932979620232,
          0.1510895181968772,
          -0.5296271622969968,
          -0.7197989233436392,
          0.11309694712602393,
          0.44412989477713655,
          -0.09403027940187994,
          -0.8682299237393994,
          1.7553823217684428,
          0.4005643438094378,
          0.597826128640621,
          -0.7137331780235777,
          0.08946368313769949,
          -0.6430225688837589,
          -1.287764150816326,
          0.41927884809407495,
          0.1308943120600146,
          1.4612925365780403,
          0.4173722049236492,
          -1.2898246332745469,
          0.12236587640394747,
          0.3675122286041763,
          -0.711997864746745,
          -0.35653191502630593,
          0.42361621822173884,
          0.4459568784922028,
          -0.42929052053717953,
          0.09773405326685174,
          -1.4684722989661918,
          -0.31127757815040275,
          -1.1450330047394817,
          0.7635046452857974,
          0.6846182203864283,
          0.6830606678917067,
          -0.23039228538683168,
          -0.7468894046264111,
          -0.40334364788009475,
          0.6974026863797835,
          0.4129473636523078,
          -0.3019078924747539,
          -0.6427034119718875,
          -1.0264660139234527,
          -0.257059610559706,
          -0.05721108300739811,
          0.5561748153861257,
          1.202268969030958,
          1.310702613250076,
          -0.007279985522969998,
          -1.127865115148052,
          -1.2633103084419985,
          -0.41207404062384906,
          -2.680605099876662,
          -0.8744459753552564,
          -0.8670295998657446,
          -0.2292315238956763
         ],
         "yaxis": "y13"
        },
        {
         "line": {
          "color": "rgba(128, 128, 128, 1.0)",
          "dash": "solid",
          "shape": "linear",
          "width": 1.3
         },
         "marker": {
          "size": 2,
          "symbol": "circle"
         },
         "mode": "markers",
         "name": "D",
         "text": "",
         "type": "scatter",
         "x": [
          0.3628951277929951,
          -0.3370451361478144,
          1.3231291351782233,
          1.4619849953879063,
          2.117158857110377,
          -0.4278911070438518,
          0.7344388751372461,
          -0.550323658824948,
          2.289515694879591,
          0.30742068285265095,
          -0.43977407824993986,
          -0.48884334734707185,
          -0.035511693272353935,
          -0.5342855677426966,
          -0.48180500751838384,
          -0.5402177259755799,
          -0.4257760630492741,
          0.7481064580560373,
          0.38511250543185005,
          0.8948997926718579,
          0.5536185568036587,
          -0.6179898772826783,
          -0.7373935557874557,
          -0.6587419190524676,
          -0.7908486650543705,
          1.9579085993292384,
          1.0227320867440015,
          0.08107381074532037,
          -1.0480676019418818,
          -0.038411630922692945,
          -0.43553368154143673,
          0.30547134666727555,
          0.31837764643846567,
          -1.2142755537571501,
          -1.33773432084597,
          -0.7116738068907645,
          0.9183167283589629,
          1.4743458775421812,
          -0.8431681057751841,
          0.43131204721851857,
          -0.9552574710960884,
          1.360748437511149,
          0.17242502311920802,
          -0.1770824993618998,
          -1.2597307314975406,
          0.10361795124246964,
          -0.18102523650578423,
          1.9573674380123398,
          -1.9199468808812759,
          1.4147956826988282,
          -0.9874818136598563,
          -0.7022202694544329,
          -0.5705377079294096,
          -0.7181380869066,
          -1.5780613890451551,
          1.8132684520903277,
          -0.04335726224652799,
          -0.622068537839199,
          0.49221363767893667,
          1.3014197695620342,
          1.2885602911496903,
          -2.8538900169933634,
          0.25687937793931975,
          -0.9849351141966023,
          0.12599618770693463,
          0.34654139867809725,
          1.6403611743900608,
          0.34133072787434726,
          -0.3534901678291325,
          -1.3064588907422594,
          -0.4066703765884158,
          -1.9235557950647617,
          -0.7594602183434284,
          -0.7594261635516536,
          -0.29650932390946017,
          -0.7528925452720961,
          -0.026538330860710606,
          -0.7006225652800655,
          0.08891626131943374,
          -0.9241877460937217,
          1.1524864431883304,
          -1.5516429203762085,
          -0.7512503489892757,
          -0.2172506305976222,
          -0.3702813233079158,
          -1.6215454634160695,
          0.8196735120810899,
          -0.7064143748530674,
          -1.4730559538526578,
          1.2335673831613592,
          -1.7081096406580358,
          -0.6861292538606032,
          0.4460871106918229,
          2.145446758488049,
          -1.1984764313861387,
          0.9179123015415466,
          1.97791814986797,
          1.421128192119911,
          1.0233477071069101,
          -0.45111783720311166
         ],
         "xaxis": "x14",
         "y": [
          0.586241282522509,
          -0.22089794130715373,
          -0.32977958431585386,
          -0.5405340776475431,
          -0.04877349669389779,
          0.17133305898484838,
          0.7339462271620942,
          -1.7541849625682326,
          0.38375511557610975,
          0.5464722105970232,
          0.8766556178661989,
          0.6253743071113597,
          1.6496321321064724,
          -0.10249437906321221,
          -1.8595332557304354,
          -0.5715638089220502,
          0.4540962512541975,
          0.7954282130636511,
          -0.6171071272338289,
          0.9411102920743672,
          -0.569366457259254,
          -1.767388870564552,
          0.5747861920019599,
          -0.02796334802597153,
          -1.2198724082225554,
          -0.18441574978108347,
          -0.08983485756478941,
          0.7827998769009209,
          -0.6616735120219261,
          -0.21427997059061274,
          1.1716129881809083,
          -1.9365676452401521,
          -0.10149410131838696,
          -0.2315074296925576,
          0.4333018191203166,
          0.06759345971896527,
          -0.9565589970551207,
          -0.19913366531592835,
          0.6331964735409779,
          0.13008037562286812,
          -0.18791630766850706,
          0.6071395142047425,
          -0.9420566323715552,
          1.4991190191191128,
          0.775317504035868,
          -0.15913932979620232,
          0.1510895181968772,
          -0.5296271622969968,
          -0.7197989233436392,
          0.11309694712602393,
          0.44412989477713655,
          -0.09403027940187994,
          -0.8682299237393994,
          1.7553823217684428,
          0.4005643438094378,
          0.597826128640621,
          -0.7137331780235777,
          0.08946368313769949,
          -0.6430225688837589,
          -1.287764150816326,
          0.41927884809407495,
          0.1308943120600146,
          1.4612925365780403,
          0.4173722049236492,
          -1.2898246332745469,
          0.12236587640394747,
          0.3675122286041763,
          -0.711997864746745,
          -0.35653191502630593,
          0.42361621822173884,
          0.4459568784922028,
          -0.42929052053717953,
          0.09773405326685174,
          -1.4684722989661918,
          -0.31127757815040275,
          -1.1450330047394817,
          0.7635046452857974,
          0.6846182203864283,
          0.6830606678917067,
          -0.23039228538683168,
          -0.7468894046264111,
          -0.40334364788009475,
          0.6974026863797835,
          0.4129473636523078,
          -0.3019078924747539,
          -0.6427034119718875,
          -1.0264660139234527,
          -0.257059610559706,
          -0.05721108300739811,
          0.5561748153861257,
          1.202268969030958,
          1.310702613250076,
          -0.007279985522969998,
          -1.127865115148052,
          -1.2633103084419985,
          -0.41207404062384906,
          -2.680605099876662,
          -0.8744459753552564,
          -0.8670295998657446,
          -0.2292315238956763
         ],
         "yaxis": "y14"
        },
        {
         "line": {
          "color": "rgba(128, 128, 128, 1.0)",
          "dash": "solid",
          "shape": "linear",
          "width": 1.3
         },
         "marker": {
          "size": 2,
          "symbol": "circle"
         },
         "mode": "markers",
         "name": "D",
         "text": "",
         "type": "scatter",
         "x": [
          -1.262246386708045,
          1.5638579611107675,
          1.6533456642054394,
          -0.5857274150439693,
          -0.9718003335278091,
          1.9910197132485752,
          -0.01613438128547328,
          -0.7222960998036906,
          -0.43452788842835516,
          1.8314339377290816,
          0.4826739694509472,
          -0.8357536125493982,
          -0.2593056592632085,
          0.47485761951349925,
          -0.14457728585036042,
          -0.56176823174519,
          -0.0803096305257362,
          0.5397232549572729,
          -0.31562777844065215,
          0.609617256698708,
          0.5820343674747728,
          -1.0964528018403226,
          -1.390339177426912,
          0.6400248855065004,
          0.47259256055418436,
          -1.009103140705429,
          0.40008503543512436,
          0.5995439538437828,
          0.3133663894433051,
          -2.665883259984044,
          -0.6461013421361341,
          -0.897748954090031,
          0.9621321118411451,
          -0.04320877208820299,
          -1.9574508338642798,
          -1.8760688791065874,
          1.3121315059780538,
          0.4780649355181438,
          0.2570784378160595,
          -1.0061816352506987,
          0.5381896067709654,
          0.21933334682360123,
          -0.4136204340160217,
          0.8789952767971859,
          -1.733200734199713,
          0.059984712005299604,
          -1.91442323813317,
          -0.5197833673791261,
          0.6991419801679005,
          -0.03210088725470912,
          -1.0632333928130342,
          -0.9300430509553365,
          -0.6012510269252737,
          0.2865154738217406,
          -0.06645984323458184,
          0.700151111328033,
          -0.4545238559681508,
          0.4197119613844714,
          0.6250125750521822,
          1.543602961789841,
          1.9234299147607956,
          0.4923533990036386,
          0.5823243218785095,
          -1.7956378010179064,
          2.2093208145112797,
          0.9489631119338943,
          0.11530760570093612,
          -0.046247696279733165,
          0.10286615664533401,
          0.3355010334083271,
          -1.2288175562291406,
          -0.4381558644867527,
          0.885854600105045,
          -0.7263145339435798,
          0.6037080262828017,
          0.039503474380392735,
          -0.13721426690389715,
          -0.7697375720421394,
          0.5664177039909022,
          -1.4533834714828815,
          -0.28788223418867487,
          -0.6869229799254724,
          -1.1019783015488456,
          -0.6995551434410562,
          2.178902724269444,
          0.2367245426897461,
          -1.3572443445271885,
          0.19080191211520586,
          -0.13534547363413924,
          2.1480475225124707,
          -1.640485130488358,
          0.24098007138199837,
          -0.06635707305500717,
          1.43720151371039,
          -1.2881494307241494,
          0.358308734244282,
          0.6610268948939776,
          0.17306216631950902,
          -1.4831561712608663,
          0.17009094047524345
         ],
         "xaxis": "x15",
         "y": [
          0.586241282522509,
          -0.22089794130715373,
          -0.32977958431585386,
          -0.5405340776475431,
          -0.04877349669389779,
          0.17133305898484838,
          0.7339462271620942,
          -1.7541849625682326,
          0.38375511557610975,
          0.5464722105970232,
          0.8766556178661989,
          0.6253743071113597,
          1.6496321321064724,
          -0.10249437906321221,
          -1.8595332557304354,
          -0.5715638089220502,
          0.4540962512541975,
          0.7954282130636511,
          -0.6171071272338289,
          0.9411102920743672,
          -0.569366457259254,
          -1.767388870564552,
          0.5747861920019599,
          -0.02796334802597153,
          -1.2198724082225554,
          -0.18441574978108347,
          -0.08983485756478941,
          0.7827998769009209,
          -0.6616735120219261,
          -0.21427997059061274,
          1.1716129881809083,
          -1.9365676452401521,
          -0.10149410131838696,
          -0.2315074296925576,
          0.4333018191203166,
          0.06759345971896527,
          -0.9565589970551207,
          -0.19913366531592835,
          0.6331964735409779,
          0.13008037562286812,
          -0.18791630766850706,
          0.6071395142047425,
          -0.9420566323715552,
          1.4991190191191128,
          0.775317504035868,
          -0.15913932979620232,
          0.1510895181968772,
          -0.5296271622969968,
          -0.7197989233436392,
          0.11309694712602393,
          0.44412989477713655,
          -0.09403027940187994,
          -0.8682299237393994,
          1.7553823217684428,
          0.4005643438094378,
          0.597826128640621,
          -0.7137331780235777,
          0.08946368313769949,
          -0.6430225688837589,
          -1.287764150816326,
          0.41927884809407495,
          0.1308943120600146,
          1.4612925365780403,
          0.4173722049236492,
          -1.2898246332745469,
          0.12236587640394747,
          0.3675122286041763,
          -0.711997864746745,
          -0.35653191502630593,
          0.42361621822173884,
          0.4459568784922028,
          -0.42929052053717953,
          0.09773405326685174,
          -1.4684722989661918,
          -0.31127757815040275,
          -1.1450330047394817,
          0.7635046452857974,
          0.6846182203864283,
          0.6830606678917067,
          -0.23039228538683168,
          -0.7468894046264111,
          -0.40334364788009475,
          0.6974026863797835,
          0.4129473636523078,
          -0.3019078924747539,
          -0.6427034119718875,
          -1.0264660139234527,
          -0.257059610559706,
          -0.05721108300739811,
          0.5561748153861257,
          1.202268969030958,
          1.310702613250076,
          -0.007279985522969998,
          -1.127865115148052,
          -1.2633103084419985,
          -0.41207404062384906,
          -2.680605099876662,
          -0.8744459753552564,
          -0.8670295998657446,
          -0.2292315238956763
         ],
         "yaxis": "y15"
        },
        {
         "histfunc": "count",
         "histnorm": "",
         "marker": {
          "color": "rgba(128, 0, 128, 1.0)",
          "line": {
           "color": "#4D5663",
           "width": 1.3
          }
         },
         "name": "D",
         "nbinsx": 10,
         "opacity": 0.8,
         "orientation": "v",
         "type": "histogram",
         "x": [
          0.586241282522509,
          -0.22089794130715373,
          -0.32977958431585386,
          -0.5405340776475431,
          -0.04877349669389779,
          0.17133305898484838,
          0.7339462271620942,
          -1.7541849625682326,
          0.38375511557610975,
          0.5464722105970232,
          0.8766556178661989,
          0.6253743071113597,
          1.6496321321064724,
          -0.10249437906321221,
          -1.8595332557304354,
          -0.5715638089220502,
          0.4540962512541975,
          0.7954282130636511,
          -0.6171071272338289,
          0.9411102920743672,
          -0.569366457259254,
          -1.767388870564552,
          0.5747861920019599,
          -0.02796334802597153,
          -1.2198724082225554,
          -0.18441574978108347,
          -0.08983485756478941,
          0.7827998769009209,
          -0.6616735120219261,
          -0.21427997059061274,
          1.1716129881809083,
          -1.9365676452401521,
          -0.10149410131838696,
          -0.2315074296925576,
          0.4333018191203166,
          0.06759345971896527,
          -0.9565589970551207,
          -0.19913366531592835,
          0.6331964735409779,
          0.13008037562286812,
          -0.18791630766850706,
          0.6071395142047425,
          -0.9420566323715552,
          1.4991190191191128,
          0.775317504035868,
          -0.15913932979620232,
          0.1510895181968772,
          -0.5296271622969968,
          -0.7197989233436392,
          0.11309694712602393,
          0.44412989477713655,
          -0.09403027940187994,
          -0.8682299237393994,
          1.7553823217684428,
          0.4005643438094378,
          0.597826128640621,
          -0.7137331780235777,
          0.08946368313769949,
          -0.6430225688837589,
          -1.287764150816326,
          0.41927884809407495,
          0.1308943120600146,
          1.4612925365780403,
          0.4173722049236492,
          -1.2898246332745469,
          0.12236587640394747,
          0.3675122286041763,
          -0.711997864746745,
          -0.35653191502630593,
          0.42361621822173884,
          0.4459568784922028,
          -0.42929052053717953,
          0.09773405326685174,
          -1.4684722989661918,
          -0.31127757815040275,
          -1.1450330047394817,
          0.7635046452857974,
          0.6846182203864283,
          0.6830606678917067,
          -0.23039228538683168,
          -0.7468894046264111,
          -0.40334364788009475,
          0.6974026863797835,
          0.4129473636523078,
          -0.3019078924747539,
          -0.6427034119718875,
          -1.0264660139234527,
          -0.257059610559706,
          -0.05721108300739811,
          0.5561748153861257,
          1.202268969030958,
          1.310702613250076,
          -0.007279985522969998,
          -1.127865115148052,
          -1.2633103084419985,
          -0.41207404062384906,
          -2.680605099876662,
          -0.8744459753552564,
          -0.8670295998657446,
          -0.2292315238956763
         ],
         "xaxis": "x16",
         "yaxis": "y16"
        }
       ],
       "layout": {
        "bargap": 0.02,
        "legend": {
         "bgcolor": "#F5F6F9",
         "font": {
          "color": "#4D5663"
         }
        },
        "paper_bgcolor": "#F5F6F9",
        "plot_bgcolor": "#F5F6F9",
        "showlegend": false,
        "template": {
         "data": {
          "bar": [
           {
            "error_x": {
             "color": "#2a3f5f"
            },
            "error_y": {
             "color": "#2a3f5f"
            },
            "marker": {
             "line": {
              "color": "#E5ECF6",
              "width": 0.5
             },
             "pattern": {
              "fillmode": "overlay",
              "size": 10,
              "solidity": 0.2
             }
            },
            "type": "bar"
           }
          ],
          "barpolar": [
           {
            "marker": {
             "line": {
              "color": "#E5ECF6",
              "width": 0.5
             },
             "pattern": {
              "fillmode": "overlay",
              "size": 10,
              "solidity": 0.2
             }
            },
            "type": "barpolar"
           }
          ],
          "carpet": [
           {
            "aaxis": {
             "endlinecolor": "#2a3f5f",
             "gridcolor": "white",
             "linecolor": "white",
             "minorgridcolor": "white",
             "startlinecolor": "#2a3f5f"
            },
            "baxis": {
             "endlinecolor": "#2a3f5f",
             "gridcolor": "white",
             "linecolor": "white",
             "minorgridcolor": "white",
             "startlinecolor": "#2a3f5f"
            },
            "type": "carpet"
           }
          ],
          "choropleth": [
           {
            "colorbar": {
             "outlinewidth": 0,
             "ticks": ""
            },
            "type": "choropleth"
           }
          ],
          "contour": [
           {
            "colorbar": {
             "outlinewidth": 0,
             "ticks": ""
            },
            "colorscale": [
             [
              0,
              "#0d0887"
             ],
             [
              0.1111111111111111,
              "#46039f"
             ],
             [
              0.2222222222222222,
              "#7201a8"
             ],
             [
              0.3333333333333333,
              "#9c179e"
             ],
             [
              0.4444444444444444,
              "#bd3786"
             ],
             [
              0.5555555555555556,
              "#d8576b"
             ],
             [
              0.6666666666666666,
              "#ed7953"
             ],
             [
              0.7777777777777778,
              "#fb9f3a"
             ],
             [
              0.8888888888888888,
              "#fdca26"
             ],
             [
              1,
              "#f0f921"
             ]
            ],
            "type": "contour"
           }
          ],
          "contourcarpet": [
           {
            "colorbar": {
             "outlinewidth": 0,
             "ticks": ""
            },
            "type": "contourcarpet"
           }
          ],
          "heatmap": [
           {
            "colorbar": {
             "outlinewidth": 0,
             "ticks": ""
            },
            "colorscale": [
             [
              0,
              "#0d0887"
             ],
             [
              0.1111111111111111,
              "#46039f"
             ],
             [
              0.2222222222222222,
              "#7201a8"
             ],
             [
              0.3333333333333333,
              "#9c179e"
             ],
             [
              0.4444444444444444,
              "#bd3786"
             ],
             [
              0.5555555555555556,
              "#d8576b"
             ],
             [
              0.6666666666666666,
              "#ed7953"
             ],
             [
              0.7777777777777778,
              "#fb9f3a"
             ],
             [
              0.8888888888888888,
              "#fdca26"
             ],
             [
              1,
              "#f0f921"
             ]
            ],
            "type": "heatmap"
           }
          ],
          "heatmapgl": [
           {
            "colorbar": {
             "outlinewidth": 0,
             "ticks": ""
            },
            "colorscale": [
             [
              0,
              "#0d0887"
             ],
             [
              0.1111111111111111,
              "#46039f"
             ],
             [
              0.2222222222222222,
              "#7201a8"
             ],
             [
              0.3333333333333333,
              "#9c179e"
             ],
             [
              0.4444444444444444,
              "#bd3786"
             ],
             [
              0.5555555555555556,
              "#d8576b"
             ],
             [
              0.6666666666666666,
              "#ed7953"
             ],
             [
              0.7777777777777778,
              "#fb9f3a"
             ],
             [
              0.8888888888888888,
              "#fdca26"
             ],
             [
              1,
              "#f0f921"
             ]
            ],
            "type": "heatmapgl"
           }
          ],
          "histogram": [
           {
            "marker": {
             "pattern": {
              "fillmode": "overlay",
              "size": 10,
              "solidity": 0.2
             }
            },
            "type": "histogram"
           }
          ],
          "histogram2d": [
           {
            "colorbar": {
             "outlinewidth": 0,
             "ticks": ""
            },
            "colorscale": [
             [
              0,
              "#0d0887"
             ],
             [
              0.1111111111111111,
              "#46039f"
             ],
             [
              0.2222222222222222,
              "#7201a8"
             ],
             [
              0.3333333333333333,
              "#9c179e"
             ],
             [
              0.4444444444444444,
              "#bd3786"
             ],
             [
              0.5555555555555556,
              "#d8576b"
             ],
             [
              0.6666666666666666,
              "#ed7953"
             ],
             [
              0.7777777777777778,
              "#fb9f3a"
             ],
             [
              0.8888888888888888,
              "#fdca26"
             ],
             [
              1,
              "#f0f921"
             ]
            ],
            "type": "histogram2d"
           }
          ],
          "histogram2dcontour": [
           {
            "colorbar": {
             "outlinewidth": 0,
             "ticks": ""
            },
            "colorscale": [
             [
              0,
              "#0d0887"
             ],
             [
              0.1111111111111111,
              "#46039f"
             ],
             [
              0.2222222222222222,
              "#7201a8"
             ],
             [
              0.3333333333333333,
              "#9c179e"
             ],
             [
              0.4444444444444444,
              "#bd3786"
             ],
             [
              0.5555555555555556,
              "#d8576b"
             ],
             [
              0.6666666666666666,
              "#ed7953"
             ],
             [
              0.7777777777777778,
              "#fb9f3a"
             ],
             [
              0.8888888888888888,
              "#fdca26"
             ],
             [
              1,
              "#f0f921"
             ]
            ],
            "type": "histogram2dcontour"
           }
          ],
          "mesh3d": [
           {
            "colorbar": {
             "outlinewidth": 0,
             "ticks": ""
            },
            "type": "mesh3d"
           }
          ],
          "parcoords": [
           {
            "line": {
             "colorbar": {
              "outlinewidth": 0,
              "ticks": ""
             }
            },
            "type": "parcoords"
           }
          ],
          "pie": [
           {
            "automargin": true,
            "type": "pie"
           }
          ],
          "scatter": [
           {
            "marker": {
             "colorbar": {
              "outlinewidth": 0,
              "ticks": ""
             }
            },
            "type": "scatter"
           }
          ],
          "scatter3d": [
           {
            "line": {
             "colorbar": {
              "outlinewidth": 0,
              "ticks": ""
             }
            },
            "marker": {
             "colorbar": {
              "outlinewidth": 0,
              "ticks": ""
             }
            },
            "type": "scatter3d"
           }
          ],
          "scattercarpet": [
           {
            "marker": {
             "colorbar": {
              "outlinewidth": 0,
              "ticks": ""
             }
            },
            "type": "scattercarpet"
           }
          ],
          "scattergeo": [
           {
            "marker": {
             "colorbar": {
              "outlinewidth": 0,
              "ticks": ""
             }
            },
            "type": "scattergeo"
           }
          ],
          "scattergl": [
           {
            "marker": {
             "colorbar": {
              "outlinewidth": 0,
              "ticks": ""
             }
            },
            "type": "scattergl"
           }
          ],
          "scattermapbox": [
           {
            "marker": {
             "colorbar": {
              "outlinewidth": 0,
              "ticks": ""
             }
            },
            "type": "scattermapbox"
           }
          ],
          "scatterpolar": [
           {
            "marker": {
             "colorbar": {
              "outlinewidth": 0,
              "ticks": ""
             }
            },
            "type": "scatterpolar"
           }
          ],
          "scatterpolargl": [
           {
            "marker": {
             "colorbar": {
              "outlinewidth": 0,
              "ticks": ""
             }
            },
            "type": "scatterpolargl"
           }
          ],
          "scatterternary": [
           {
            "marker": {
             "colorbar": {
              "outlinewidth": 0,
              "ticks": ""
             }
            },
            "type": "scatterternary"
           }
          ],
          "surface": [
           {
            "colorbar": {
             "outlinewidth": 0,
             "ticks": ""
            },
            "colorscale": [
             [
              0,
              "#0d0887"
             ],
             [
              0.1111111111111111,
              "#46039f"
             ],
             [
              0.2222222222222222,
              "#7201a8"
             ],
             [
              0.3333333333333333,
              "#9c179e"
             ],
             [
              0.4444444444444444,
              "#bd3786"
             ],
             [
              0.5555555555555556,
              "#d8576b"
             ],
             [
              0.6666666666666666,
              "#ed7953"
             ],
             [
              0.7777777777777778,
              "#fb9f3a"
             ],
             [
              0.8888888888888888,
              "#fdca26"
             ],
             [
              1,
              "#f0f921"
             ]
            ],
            "type": "surface"
           }
          ],
          "table": [
           {
            "cells": {
             "fill": {
              "color": "#EBF0F8"
             },
             "line": {
              "color": "white"
             }
            },
            "header": {
             "fill": {
              "color": "#C8D4E3"
             },
             "line": {
              "color": "white"
             }
            },
            "type": "table"
           }
          ]
         },
         "layout": {
          "annotationdefaults": {
           "arrowcolor": "#2a3f5f",
           "arrowhead": 0,
           "arrowwidth": 1
          },
          "autotypenumbers": "strict",
          "coloraxis": {
           "colorbar": {
            "outlinewidth": 0,
            "ticks": ""
           }
          },
          "colorscale": {
           "diverging": [
            [
             0,
             "#8e0152"
            ],
            [
             0.1,
             "#c51b7d"
            ],
            [
             0.2,
             "#de77ae"
            ],
            [
             0.3,
             "#f1b6da"
            ],
            [
             0.4,
             "#fde0ef"
            ],
            [
             0.5,
             "#f7f7f7"
            ],
            [
             0.6,
             "#e6f5d0"
            ],
            [
             0.7,
             "#b8e186"
            ],
            [
             0.8,
             "#7fbc41"
            ],
            [
             0.9,
             "#4d9221"
            ],
            [
             1,
             "#276419"
            ]
           ],
           "sequential": [
            [
             0,
             "#0d0887"
            ],
            [
             0.1111111111111111,
             "#46039f"
            ],
            [
             0.2222222222222222,
             "#7201a8"
            ],
            [
             0.3333333333333333,
             "#9c179e"
            ],
            [
             0.4444444444444444,
             "#bd3786"
            ],
            [
             0.5555555555555556,
             "#d8576b"
            ],
            [
             0.6666666666666666,
             "#ed7953"
            ],
            [
             0.7777777777777778,
             "#fb9f3a"
            ],
            [
             0.8888888888888888,
             "#fdca26"
            ],
            [
             1,
             "#f0f921"
            ]
           ],
           "sequentialminus": [
            [
             0,
             "#0d0887"
            ],
            [
             0.1111111111111111,
             "#46039f"
            ],
            [
             0.2222222222222222,
             "#7201a8"
            ],
            [
             0.3333333333333333,
             "#9c179e"
            ],
            [
             0.4444444444444444,
             "#bd3786"
            ],
            [
             0.5555555555555556,
             "#d8576b"
            ],
            [
             0.6666666666666666,
             "#ed7953"
            ],
            [
             0.7777777777777778,
             "#fb9f3a"
            ],
            [
             0.8888888888888888,
             "#fdca26"
            ],
            [
             1,
             "#f0f921"
            ]
           ]
          },
          "colorway": [
           "#636efa",
           "#EF553B",
           "#00cc96",
           "#ab63fa",
           "#FFA15A",
           "#19d3f3",
           "#FF6692",
           "#B6E880",
           "#FF97FF",
           "#FECB52"
          ],
          "font": {
           "color": "#2a3f5f"
          },
          "geo": {
           "bgcolor": "white",
           "lakecolor": "white",
           "landcolor": "#E5ECF6",
           "showlakes": true,
           "showland": true,
           "subunitcolor": "white"
          },
          "hoverlabel": {
           "align": "left"
          },
          "hovermode": "closest",
          "mapbox": {
           "style": "light"
          },
          "paper_bgcolor": "white",
          "plot_bgcolor": "#E5ECF6",
          "polar": {
           "angularaxis": {
            "gridcolor": "white",
            "linecolor": "white",
            "ticks": ""
           },
           "bgcolor": "#E5ECF6",
           "radialaxis": {
            "gridcolor": "white",
            "linecolor": "white",
            "ticks": ""
           }
          },
          "scene": {
           "xaxis": {
            "backgroundcolor": "#E5ECF6",
            "gridcolor": "white",
            "gridwidth": 2,
            "linecolor": "white",
            "showbackground": true,
            "ticks": "",
            "zerolinecolor": "white"
           },
           "yaxis": {
            "backgroundcolor": "#E5ECF6",
            "gridcolor": "white",
            "gridwidth": 2,
            "linecolor": "white",
            "showbackground": true,
            "ticks": "",
            "zerolinecolor": "white"
           },
           "zaxis": {
            "backgroundcolor": "#E5ECF6",
            "gridcolor": "white",
            "gridwidth": 2,
            "linecolor": "white",
            "showbackground": true,
            "ticks": "",
            "zerolinecolor": "white"
           }
          },
          "shapedefaults": {
           "line": {
            "color": "#2a3f5f"
           }
          },
          "ternary": {
           "aaxis": {
            "gridcolor": "white",
            "linecolor": "white",
            "ticks": ""
           },
           "baxis": {
            "gridcolor": "white",
            "linecolor": "white",
            "ticks": ""
           },
           "bgcolor": "#E5ECF6",
           "caxis": {
            "gridcolor": "white",
            "linecolor": "white",
            "ticks": ""
           }
          },
          "title": {
           "x": 0.05
          },
          "xaxis": {
           "automargin": true,
           "gridcolor": "white",
           "linecolor": "white",
           "ticks": "",
           "title": {
            "standoff": 15
           },
           "zerolinecolor": "white",
           "zerolinewidth": 2
          },
          "yaxis": {
           "automargin": true,
           "gridcolor": "white",
           "linecolor": "white",
           "ticks": "",
           "title": {
            "standoff": 15
           },
           "zerolinecolor": "white",
           "zerolinewidth": 2
          }
         }
        },
        "title": {
         "font": {
          "color": "#4D5663"
         }
        },
        "xaxis": {
         "anchor": "y",
         "domain": [
          0,
          0.2125
         ],
         "gridcolor": "#E1E5ED",
         "showgrid": false,
         "tickfont": {
          "color": "#4D5663"
         },
         "title": {
          "font": {
           "color": "#4D5663"
          },
          "text": ""
         },
         "zerolinecolor": "#E1E5ED"
        },
        "xaxis10": {
         "anchor": "y10",
         "domain": [
          0.2625,
          0.475
         ],
         "gridcolor": "#E1E5ED",
         "showgrid": false,
         "tickfont": {
          "color": "#4D5663"
         },
         "title": {
          "font": {
           "color": "#4D5663"
          },
          "text": ""
         },
         "zerolinecolor": "#E1E5ED"
        },
        "xaxis11": {
         "anchor": "y11",
         "domain": [
          0.525,
          0.7375
         ],
         "gridcolor": "#E1E5ED",
         "showgrid": false,
         "tickfont": {
          "color": "#4D5663"
         },
         "title": {
          "font": {
           "color": "#4D5663"
          },
          "text": ""
         },
         "zerolinecolor": "#E1E5ED"
        },
        "xaxis12": {
         "anchor": "y12",
         "domain": [
          0.7875,
          1
         ],
         "gridcolor": "#E1E5ED",
         "showgrid": false,
         "tickfont": {
          "color": "#4D5663"
         },
         "title": {
          "font": {
           "color": "#4D5663"
          },
          "text": ""
         },
         "zerolinecolor": "#E1E5ED"
        },
        "xaxis13": {
         "anchor": "y13",
         "domain": [
          0,
          0.2125
         ],
         "gridcolor": "#E1E5ED",
         "showgrid": false,
         "tickfont": {
          "color": "#4D5663"
         },
         "title": {
          "font": {
           "color": "#4D5663"
          },
          "text": ""
         },
         "zerolinecolor": "#E1E5ED"
        },
        "xaxis14": {
         "anchor": "y14",
         "domain": [
          0.2625,
          0.475
         ],
         "gridcolor": "#E1E5ED",
         "showgrid": false,
         "tickfont": {
          "color": "#4D5663"
         },
         "title": {
          "font": {
           "color": "#4D5663"
          },
          "text": ""
         },
         "zerolinecolor": "#E1E5ED"
        },
        "xaxis15": {
         "anchor": "y15",
         "domain": [
          0.525,
          0.7375
         ],
         "gridcolor": "#E1E5ED",
         "showgrid": false,
         "tickfont": {
          "color": "#4D5663"
         },
         "title": {
          "font": {
           "color": "#4D5663"
          },
          "text": ""
         },
         "zerolinecolor": "#E1E5ED"
        },
        "xaxis16": {
         "anchor": "y16",
         "domain": [
          0.7875,
          1
         ],
         "gridcolor": "#E1E5ED",
         "showgrid": false,
         "tickfont": {
          "color": "#4D5663"
         },
         "title": {
          "font": {
           "color": "#4D5663"
          },
          "text": ""
         },
         "zerolinecolor": "#E1E5ED"
        },
        "xaxis2": {
         "anchor": "y2",
         "domain": [
          0.2625,
          0.475
         ],
         "gridcolor": "#E1E5ED",
         "showgrid": false,
         "tickfont": {
          "color": "#4D5663"
         },
         "title": {
          "font": {
           "color": "#4D5663"
          },
          "text": ""
         },
         "zerolinecolor": "#E1E5ED"
        },
        "xaxis3": {
         "anchor": "y3",
         "domain": [
          0.525,
          0.7375
         ],
         "gridcolor": "#E1E5ED",
         "showgrid": false,
         "tickfont": {
          "color": "#4D5663"
         },
         "title": {
          "font": {
           "color": "#4D5663"
          },
          "text": ""
         },
         "zerolinecolor": "#E1E5ED"
        },
        "xaxis4": {
         "anchor": "y4",
         "domain": [
          0.7875,
          1
         ],
         "gridcolor": "#E1E5ED",
         "showgrid": false,
         "tickfont": {
          "color": "#4D5663"
         },
         "title": {
          "font": {
           "color": "#4D5663"
          },
          "text": ""
         },
         "zerolinecolor": "#E1E5ED"
        },
        "xaxis5": {
         "anchor": "y5",
         "domain": [
          0,
          0.2125
         ],
         "gridcolor": "#E1E5ED",
         "showgrid": false,
         "tickfont": {
          "color": "#4D5663"
         },
         "title": {
          "font": {
           "color": "#4D5663"
          },
          "text": ""
         },
         "zerolinecolor": "#E1E5ED"
        },
        "xaxis6": {
         "anchor": "y6",
         "domain": [
          0.2625,
          0.475
         ],
         "gridcolor": "#E1E5ED",
         "showgrid": false,
         "tickfont": {
          "color": "#4D5663"
         },
         "title": {
          "font": {
           "color": "#4D5663"
          },
          "text": ""
         },
         "zerolinecolor": "#E1E5ED"
        },
        "xaxis7": {
         "anchor": "y7",
         "domain": [
          0.525,
          0.7375
         ],
         "gridcolor": "#E1E5ED",
         "showgrid": false,
         "tickfont": {
          "color": "#4D5663"
         },
         "title": {
          "font": {
           "color": "#4D5663"
          },
          "text": ""
         },
         "zerolinecolor": "#E1E5ED"
        },
        "xaxis8": {
         "anchor": "y8",
         "domain": [
          0.7875,
          1
         ],
         "gridcolor": "#E1E5ED",
         "showgrid": false,
         "tickfont": {
          "color": "#4D5663"
         },
         "title": {
          "font": {
           "color": "#4D5663"
          },
          "text": ""
         },
         "zerolinecolor": "#E1E5ED"
        },
        "xaxis9": {
         "anchor": "y9",
         "domain": [
          0,
          0.2125
         ],
         "gridcolor": "#E1E5ED",
         "showgrid": false,
         "tickfont": {
          "color": "#4D5663"
         },
         "title": {
          "font": {
           "color": "#4D5663"
          },
          "text": ""
         },
         "zerolinecolor": "#E1E5ED"
        },
        "yaxis": {
         "anchor": "x",
         "domain": [
          0.8025,
          1
         ],
         "gridcolor": "#E1E5ED",
         "showgrid": false,
         "tickfont": {
          "color": "#4D5663"
         },
         "title": {
          "font": {
           "color": "#4D5663"
          },
          "text": ""
         },
         "zerolinecolor": "#E1E5ED"
        },
        "yaxis10": {
         "anchor": "x10",
         "domain": [
          0.2675,
          0.465
         ],
         "gridcolor": "#E1E5ED",
         "showgrid": false,
         "tickfont": {
          "color": "#4D5663"
         },
         "title": {
          "font": {
           "color": "#4D5663"
          },
          "text": ""
         },
         "zerolinecolor": "#E1E5ED"
        },
        "yaxis11": {
         "anchor": "x11",
         "domain": [
          0.2675,
          0.465
         ],
         "gridcolor": "#E1E5ED",
         "showgrid": false,
         "tickfont": {
          "color": "#4D5663"
         },
         "title": {
          "font": {
           "color": "#4D5663"
          },
          "text": ""
         },
         "zerolinecolor": "#E1E5ED"
        },
        "yaxis12": {
         "anchor": "x12",
         "domain": [
          0.2675,
          0.465
         ],
         "gridcolor": "#E1E5ED",
         "showgrid": false,
         "tickfont": {
          "color": "#4D5663"
         },
         "title": {
          "font": {
           "color": "#4D5663"
          },
          "text": ""
         },
         "zerolinecolor": "#E1E5ED"
        },
        "yaxis13": {
         "anchor": "x13",
         "domain": [
          0,
          0.1975
         ],
         "gridcolor": "#E1E5ED",
         "showgrid": false,
         "tickfont": {
          "color": "#4D5663"
         },
         "title": {
          "font": {
           "color": "#4D5663"
          },
          "text": ""
         },
         "zerolinecolor": "#E1E5ED"
        },
        "yaxis14": {
         "anchor": "x14",
         "domain": [
          0,
          0.1975
         ],
         "gridcolor": "#E1E5ED",
         "showgrid": false,
         "tickfont": {
          "color": "#4D5663"
         },
         "title": {
          "font": {
           "color": "#4D5663"
          },
          "text": ""
         },
         "zerolinecolor": "#E1E5ED"
        },
        "yaxis15": {
         "anchor": "x15",
         "domain": [
          0,
          0.1975
         ],
         "gridcolor": "#E1E5ED",
         "showgrid": false,
         "tickfont": {
          "color": "#4D5663"
         },
         "title": {
          "font": {
           "color": "#4D5663"
          },
          "text": ""
         },
         "zerolinecolor": "#E1E5ED"
        },
        "yaxis16": {
         "anchor": "x16",
         "domain": [
          0,
          0.1975
         ],
         "gridcolor": "#E1E5ED",
         "showgrid": false,
         "tickfont": {
          "color": "#4D5663"
         },
         "title": {
          "font": {
           "color": "#4D5663"
          },
          "text": ""
         },
         "zerolinecolor": "#E1E5ED"
        },
        "yaxis2": {
         "anchor": "x2",
         "domain": [
          0.8025,
          1
         ],
         "gridcolor": "#E1E5ED",
         "showgrid": false,
         "tickfont": {
          "color": "#4D5663"
         },
         "title": {
          "font": {
           "color": "#4D5663"
          },
          "text": ""
         },
         "zerolinecolor": "#E1E5ED"
        },
        "yaxis3": {
         "anchor": "x3",
         "domain": [
          0.8025,
          1
         ],
         "gridcolor": "#E1E5ED",
         "showgrid": false,
         "tickfont": {
          "color": "#4D5663"
         },
         "title": {
          "font": {
           "color": "#4D5663"
          },
          "text": ""
         },
         "zerolinecolor": "#E1E5ED"
        },
        "yaxis4": {
         "anchor": "x4",
         "domain": [
          0.8025,
          1
         ],
         "gridcolor": "#E1E5ED",
         "showgrid": false,
         "tickfont": {
          "color": "#4D5663"
         },
         "title": {
          "font": {
           "color": "#4D5663"
          },
          "text": ""
         },
         "zerolinecolor": "#E1E5ED"
        },
        "yaxis5": {
         "anchor": "x5",
         "domain": [
          0.535,
          0.7325
         ],
         "gridcolor": "#E1E5ED",
         "showgrid": false,
         "tickfont": {
          "color": "#4D5663"
         },
         "title": {
          "font": {
           "color": "#4D5663"
          },
          "text": ""
         },
         "zerolinecolor": "#E1E5ED"
        },
        "yaxis6": {
         "anchor": "x6",
         "domain": [
          0.535,
          0.7325
         ],
         "gridcolor": "#E1E5ED",
         "showgrid": false,
         "tickfont": {
          "color": "#4D5663"
         },
         "title": {
          "font": {
           "color": "#4D5663"
          },
          "text": ""
         },
         "zerolinecolor": "#E1E5ED"
        },
        "yaxis7": {
         "anchor": "x7",
         "domain": [
          0.535,
          0.7325
         ],
         "gridcolor": "#E1E5ED",
         "showgrid": false,
         "tickfont": {
          "color": "#4D5663"
         },
         "title": {
          "font": {
           "color": "#4D5663"
          },
          "text": ""
         },
         "zerolinecolor": "#E1E5ED"
        },
        "yaxis8": {
         "anchor": "x8",
         "domain": [
          0.535,
          0.7325
         ],
         "gridcolor": "#E1E5ED",
         "showgrid": false,
         "tickfont": {
          "color": "#4D5663"
         },
         "title": {
          "font": {
           "color": "#4D5663"
          },
          "text": ""
         },
         "zerolinecolor": "#E1E5ED"
        },
        "yaxis9": {
         "anchor": "x9",
         "domain": [
          0.2675,
          0.465
         ],
         "gridcolor": "#E1E5ED",
         "showgrid": false,
         "tickfont": {
          "color": "#4D5663"
         },
         "title": {
          "font": {
           "color": "#4D5663"
          },
          "text": ""
         },
         "zerolinecolor": "#E1E5ED"
        }
       }
      },
      "text/html": [
       "<div>                            <div id=\"e7994913-bc6d-4579-b2e9-afa56522823a\" class=\"plotly-graph-div\" style=\"height:525px; width:100%;\"></div>            <script type=\"text/javascript\">                require([\"plotly\"], function(Plotly) {                    window.PLOTLYENV=window.PLOTLYENV || {};\n",
       "                    window.PLOTLYENV.BASE_URL='https://plot.ly';                                    if (document.getElementById(\"e7994913-bc6d-4579-b2e9-afa56522823a\")) {                    Plotly.newPlot(                        \"e7994913-bc6d-4579-b2e9-afa56522823a\",                        [{\"histfunc\":\"count\",\"histnorm\":\"\",\"marker\":{\"color\":\"rgba(255, 153, 51, 1.0)\",\"line\":{\"color\":\"#4D5663\",\"width\":1.3}},\"name\":\"A\",\"nbinsx\":10,\"opacity\":0.8,\"orientation\":\"v\",\"type\":\"histogram\",\"x\":[2.589041960375388,0.46446495832878104,-1.8622342467167692,0.44748282470611106,0.5183570648847058,0.12564036024206882,-0.24671833426783726,1.462267278267704,0.6501389382278583,-0.6672168110888695,1.0747847894423825,-0.8495646586597335,0.8803409704941809,0.8276737448827238,-1.9844611168258537,-0.5824346509596668,0.31244403542215765,-1.9058846467784096,1.534946502058969,0.03365006500295044,-0.29023183110114703,0.3634249740106572,-0.2711593909409654,-0.9132127122770319,-1.5297006715639065,1.8365899649961515,0.997620536569792,-0.2682830090953816,-0.9920391126364365,-1.1288479078430984,-0.008960344604379092,0.08630969741946837,0.46474673901283703,1.080017337225342,1.4661189565799466,1.7757481260571573,0.3205119277722951,-0.1798124223086815,-0.4958536804162443,-1.0824042969488221,0.6888694888308021,-0.5554454322639867,1.1331849620973518,0.707328075472143,1.5136541614709633,-0.15648423529358677,-0.1433778469159636,-0.40468586905849585,-1.1744432881168483,-1.1803866454136969,0.08701772484394507,0.5103821267093613,-0.7433404424157205,-1.3161156299617915,0.723862166500837,0.0026211503152519856,0.6319910333015367,-0.7800163727009063,0.35886810605281194,-0.8301763834854368,-0.8524457756811449,0.9092763928827187,1.386293842292832,0.6190688873352528,-0.7452238959623145,-0.10530966041008744,0.6046632526320624,0.5577696731869712,-0.2920090900408622,0.24765258184426459,0.24614719012597427,-0.5867004475301311,-0.6851305364461912,-0.3361131907069222,0.6096750683088648,0.40561099150908214,-1.0722447247968594,-0.8429016314669159,-1.1413614153611717,0.003590536584902493,0.34212167559255774,0.6196242646627494,1.3374433126596188,0.783739897292725,-0.21978813559000052,1.310680446778554,-2.1203859731935624,-0.012493364965072527,1.5567907256747087,-0.09070771602794563,1.4609853837943934,-0.08854349224959014,-0.856791361064138,1.0297475656962671,0.42198118265890605,-1.03460399441633,0.3735845230130623,-0.9241538869607678,1.570150040609835,1.321593659953714],\"xaxis\":\"x\",\"yaxis\":\"y\"},{\"line\":{\"color\":\"rgba(128, 128, 128, 1.0)\",\"dash\":\"solid\",\"shape\":\"linear\",\"width\":1.3},\"marker\":{\"size\":2,\"symbol\":\"circle\"},\"mode\":\"markers\",\"name\":\"A\",\"text\":\"\",\"type\":\"scatter\",\"x\":[0.3628951277929951,-0.3370451361478144,1.3231291351782233,1.4619849953879063,2.117158857110377,-0.4278911070438518,0.7344388751372461,-0.550323658824948,2.289515694879591,0.30742068285265095,-0.43977407824993986,-0.48884334734707185,-0.035511693272353935,-0.5342855677426966,-0.48180500751838384,-0.5402177259755799,-0.4257760630492741,0.7481064580560373,0.38511250543185005,0.8948997926718579,0.5536185568036587,-0.6179898772826783,-0.7373935557874557,-0.6587419190524676,-0.7908486650543705,1.9579085993292384,1.0227320867440015,0.08107381074532037,-1.0480676019418818,-0.038411630922692945,-0.43553368154143673,0.30547134666727555,0.31837764643846567,-1.2142755537571501,-1.33773432084597,-0.7116738068907645,0.9183167283589629,1.4743458775421812,-0.8431681057751841,0.43131204721851857,-0.9552574710960884,1.360748437511149,0.17242502311920802,-0.1770824993618998,-1.2597307314975406,0.10361795124246964,-0.18102523650578423,1.9573674380123398,-1.9199468808812759,1.4147956826988282,-0.9874818136598563,-0.7022202694544329,-0.5705377079294096,-0.7181380869066,-1.5780613890451551,1.8132684520903277,-0.04335726224652799,-0.622068537839199,0.49221363767893667,1.3014197695620342,1.2885602911496903,-2.8538900169933634,0.25687937793931975,-0.9849351141966023,0.12599618770693463,0.34654139867809725,1.6403611743900608,0.34133072787434726,-0.3534901678291325,-1.3064588907422594,-0.4066703765884158,-1.9235557950647617,-0.7594602183434284,-0.7594261635516536,-0.29650932390946017,-0.7528925452720961,-0.026538330860710606,-0.7006225652800655,0.08891626131943374,-0.9241877460937217,1.1524864431883304,-1.5516429203762085,-0.7512503489892757,-0.2172506305976222,-0.3702813233079158,-1.6215454634160695,0.8196735120810899,-0.7064143748530674,-1.4730559538526578,1.2335673831613592,-1.7081096406580358,-0.6861292538606032,0.4460871106918229,2.145446758488049,-1.1984764313861387,0.9179123015415466,1.97791814986797,1.421128192119911,1.0233477071069101,-0.45111783720311166],\"xaxis\":\"x2\",\"y\":[2.589041960375388,0.46446495832878104,-1.8622342467167692,0.44748282470611106,0.5183570648847058,0.12564036024206882,-0.24671833426783726,1.462267278267704,0.6501389382278583,-0.6672168110888695,1.0747847894423825,-0.8495646586597335,0.8803409704941809,0.8276737448827238,-1.9844611168258537,-0.5824346509596668,0.31244403542215765,-1.9058846467784096,1.534946502058969,0.03365006500295044,-0.29023183110114703,0.3634249740106572,-0.2711593909409654,-0.9132127122770319,-1.5297006715639065,1.8365899649961515,0.997620536569792,-0.2682830090953816,-0.9920391126364365,-1.1288479078430984,-0.008960344604379092,0.08630969741946837,0.46474673901283703,1.080017337225342,1.4661189565799466,1.7757481260571573,0.3205119277722951,-0.1798124223086815,-0.4958536804162443,-1.0824042969488221,0.6888694888308021,-0.5554454322639867,1.1331849620973518,0.707328075472143,1.5136541614709633,-0.15648423529358677,-0.1433778469159636,-0.40468586905849585,-1.1744432881168483,-1.1803866454136969,0.08701772484394507,0.5103821267093613,-0.7433404424157205,-1.3161156299617915,0.723862166500837,0.0026211503152519856,0.6319910333015367,-0.7800163727009063,0.35886810605281194,-0.8301763834854368,-0.8524457756811449,0.9092763928827187,1.386293842292832,0.6190688873352528,-0.7452238959623145,-0.10530966041008744,0.6046632526320624,0.5577696731869712,-0.2920090900408622,0.24765258184426459,0.24614719012597427,-0.5867004475301311,-0.6851305364461912,-0.3361131907069222,0.6096750683088648,0.40561099150908214,-1.0722447247968594,-0.8429016314669159,-1.1413614153611717,0.003590536584902493,0.34212167559255774,0.6196242646627494,1.3374433126596188,0.783739897292725,-0.21978813559000052,1.310680446778554,-2.1203859731935624,-0.012493364965072527,1.5567907256747087,-0.09070771602794563,1.4609853837943934,-0.08854349224959014,-0.856791361064138,1.0297475656962671,0.42198118265890605,-1.03460399441633,0.3735845230130623,-0.9241538869607678,1.570150040609835,1.321593659953714],\"yaxis\":\"y2\"},{\"line\":{\"color\":\"rgba(128, 128, 128, 1.0)\",\"dash\":\"solid\",\"shape\":\"linear\",\"width\":1.3},\"marker\":{\"size\":2,\"symbol\":\"circle\"},\"mode\":\"markers\",\"name\":\"A\",\"text\":\"\",\"type\":\"scatter\",\"x\":[-1.262246386708045,1.5638579611107675,1.6533456642054394,-0.5857274150439693,-0.9718003335278091,1.9910197132485752,-0.01613438128547328,-0.7222960998036906,-0.43452788842835516,1.8314339377290816,0.4826739694509472,-0.8357536125493982,-0.2593056592632085,0.47485761951349925,-0.14457728585036042,-0.56176823174519,-0.0803096305257362,0.5397232549572729,-0.31562777844065215,0.609617256698708,0.5820343674747728,-1.0964528018403226,-1.390339177426912,0.6400248855065004,0.47259256055418436,-1.009103140705429,0.40008503543512436,0.5995439538437828,0.3133663894433051,-2.665883259984044,-0.6461013421361341,-0.897748954090031,0.9621321118411451,-0.04320877208820299,-1.9574508338642798,-1.8760688791065874,1.3121315059780538,0.4780649355181438,0.2570784378160595,-1.0061816352506987,0.5381896067709654,0.21933334682360123,-0.4136204340160217,0.8789952767971859,-1.733200734199713,0.059984712005299604,-1.91442323813317,-0.5197833673791261,0.6991419801679005,-0.03210088725470912,-1.0632333928130342,-0.9300430509553365,-0.6012510269252737,0.2865154738217406,-0.06645984323458184,0.700151111328033,-0.4545238559681508,0.4197119613844714,0.6250125750521822,1.543602961789841,1.9234299147607956,0.4923533990036386,0.5823243218785095,-1.7956378010179064,2.2093208145112797,0.9489631119338943,0.11530760570093612,-0.046247696279733165,0.10286615664533401,0.3355010334083271,-1.2288175562291406,-0.4381558644867527,0.885854600105045,-0.7263145339435798,0.6037080262828017,0.039503474380392735,-0.13721426690389715,-0.7697375720421394,0.5664177039909022,-1.4533834714828815,-0.28788223418867487,-0.6869229799254724,-1.1019783015488456,-0.6995551434410562,2.178902724269444,0.2367245426897461,-1.3572443445271885,0.19080191211520586,-0.13534547363413924,2.1480475225124707,-1.640485130488358,0.24098007138199837,-0.06635707305500717,1.43720151371039,-1.2881494307241494,0.358308734244282,0.6610268948939776,0.17306216631950902,-1.4831561712608663,0.17009094047524345],\"xaxis\":\"x3\",\"y\":[2.589041960375388,0.46446495832878104,-1.8622342467167692,0.44748282470611106,0.5183570648847058,0.12564036024206882,-0.24671833426783726,1.462267278267704,0.6501389382278583,-0.6672168110888695,1.0747847894423825,-0.8495646586597335,0.8803409704941809,0.8276737448827238,-1.9844611168258537,-0.5824346509596668,0.31244403542215765,-1.9058846467784096,1.534946502058969,0.03365006500295044,-0.29023183110114703,0.3634249740106572,-0.2711593909409654,-0.9132127122770319,-1.5297006715639065,1.8365899649961515,0.997620536569792,-0.2682830090953816,-0.9920391126364365,-1.1288479078430984,-0.008960344604379092,0.08630969741946837,0.46474673901283703,1.080017337225342,1.4661189565799466,1.7757481260571573,0.3205119277722951,-0.1798124223086815,-0.4958536804162443,-1.0824042969488221,0.6888694888308021,-0.5554454322639867,1.1331849620973518,0.707328075472143,1.5136541614709633,-0.15648423529358677,-0.1433778469159636,-0.40468586905849585,-1.1744432881168483,-1.1803866454136969,0.08701772484394507,0.5103821267093613,-0.7433404424157205,-1.3161156299617915,0.723862166500837,0.0026211503152519856,0.6319910333015367,-0.7800163727009063,0.35886810605281194,-0.8301763834854368,-0.8524457756811449,0.9092763928827187,1.386293842292832,0.6190688873352528,-0.7452238959623145,-0.10530966041008744,0.6046632526320624,0.5577696731869712,-0.2920090900408622,0.24765258184426459,0.24614719012597427,-0.5867004475301311,-0.6851305364461912,-0.3361131907069222,0.6096750683088648,0.40561099150908214,-1.0722447247968594,-0.8429016314669159,-1.1413614153611717,0.003590536584902493,0.34212167559255774,0.6196242646627494,1.3374433126596188,0.783739897292725,-0.21978813559000052,1.310680446778554,-2.1203859731935624,-0.012493364965072527,1.5567907256747087,-0.09070771602794563,1.4609853837943934,-0.08854349224959014,-0.856791361064138,1.0297475656962671,0.42198118265890605,-1.03460399441633,0.3735845230130623,-0.9241538869607678,1.570150040609835,1.321593659953714],\"yaxis\":\"y3\"},{\"line\":{\"color\":\"rgba(128, 128, 128, 1.0)\",\"dash\":\"solid\",\"shape\":\"linear\",\"width\":1.3},\"marker\":{\"size\":2,\"symbol\":\"circle\"},\"mode\":\"markers\",\"name\":\"A\",\"text\":\"\",\"type\":\"scatter\",\"x\":[0.586241282522509,-0.22089794130715373,-0.32977958431585386,-0.5405340776475431,-0.04877349669389779,0.17133305898484838,0.7339462271620942,-1.7541849625682326,0.38375511557610975,0.5464722105970232,0.8766556178661989,0.6253743071113597,1.6496321321064724,-0.10249437906321221,-1.8595332557304354,-0.5715638089220502,0.4540962512541975,0.7954282130636511,-0.6171071272338289,0.9411102920743672,-0.569366457259254,-1.767388870564552,0.5747861920019599,-0.02796334802597153,-1.2198724082225554,-0.18441574978108347,-0.08983485756478941,0.7827998769009209,-0.6616735120219261,-0.21427997059061274,1.1716129881809083,-1.9365676452401521,-0.10149410131838696,-0.2315074296925576,0.4333018191203166,0.06759345971896527,-0.9565589970551207,-0.19913366531592835,0.6331964735409779,0.13008037562286812,-0.18791630766850706,0.6071395142047425,-0.9420566323715552,1.4991190191191128,0.775317504035868,-0.15913932979620232,0.1510895181968772,-0.5296271622969968,-0.7197989233436392,0.11309694712602393,0.44412989477713655,-0.09403027940187994,-0.8682299237393994,1.7553823217684428,0.4005643438094378,0.597826128640621,-0.7137331780235777,0.08946368313769949,-0.6430225688837589,-1.287764150816326,0.41927884809407495,0.1308943120600146,1.4612925365780403,0.4173722049236492,-1.2898246332745469,0.12236587640394747,0.3675122286041763,-0.711997864746745,-0.35653191502630593,0.42361621822173884,0.4459568784922028,-0.42929052053717953,0.09773405326685174,-1.4684722989661918,-0.31127757815040275,-1.1450330047394817,0.7635046452857974,0.6846182203864283,0.6830606678917067,-0.23039228538683168,-0.7468894046264111,-0.40334364788009475,0.6974026863797835,0.4129473636523078,-0.3019078924747539,-0.6427034119718875,-1.0264660139234527,-0.257059610559706,-0.05721108300739811,0.5561748153861257,1.202268969030958,1.310702613250076,-0.007279985522969998,-1.127865115148052,-1.2633103084419985,-0.41207404062384906,-2.680605099876662,-0.8744459753552564,-0.8670295998657446,-0.2292315238956763],\"xaxis\":\"x4\",\"y\":[2.589041960375388,0.46446495832878104,-1.8622342467167692,0.44748282470611106,0.5183570648847058,0.12564036024206882,-0.24671833426783726,1.462267278267704,0.6501389382278583,-0.6672168110888695,1.0747847894423825,-0.8495646586597335,0.8803409704941809,0.8276737448827238,-1.9844611168258537,-0.5824346509596668,0.31244403542215765,-1.9058846467784096,1.534946502058969,0.03365006500295044,-0.29023183110114703,0.3634249740106572,-0.2711593909409654,-0.9132127122770319,-1.5297006715639065,1.8365899649961515,0.997620536569792,-0.2682830090953816,-0.9920391126364365,-1.1288479078430984,-0.008960344604379092,0.08630969741946837,0.46474673901283703,1.080017337225342,1.4661189565799466,1.7757481260571573,0.3205119277722951,-0.1798124223086815,-0.4958536804162443,-1.0824042969488221,0.6888694888308021,-0.5554454322639867,1.1331849620973518,0.707328075472143,1.5136541614709633,-0.15648423529358677,-0.1433778469159636,-0.40468586905849585,-1.1744432881168483,-1.1803866454136969,0.08701772484394507,0.5103821267093613,-0.7433404424157205,-1.3161156299617915,0.723862166500837,0.0026211503152519856,0.6319910333015367,-0.7800163727009063,0.35886810605281194,-0.8301763834854368,-0.8524457756811449,0.9092763928827187,1.386293842292832,0.6190688873352528,-0.7452238959623145,-0.10530966041008744,0.6046632526320624,0.5577696731869712,-0.2920090900408622,0.24765258184426459,0.24614719012597427,-0.5867004475301311,-0.6851305364461912,-0.3361131907069222,0.6096750683088648,0.40561099150908214,-1.0722447247968594,-0.8429016314669159,-1.1413614153611717,0.003590536584902493,0.34212167559255774,0.6196242646627494,1.3374433126596188,0.783739897292725,-0.21978813559000052,1.310680446778554,-2.1203859731935624,-0.012493364965072527,1.5567907256747087,-0.09070771602794563,1.4609853837943934,-0.08854349224959014,-0.856791361064138,1.0297475656962671,0.42198118265890605,-1.03460399441633,0.3735845230130623,-0.9241538869607678,1.570150040609835,1.321593659953714],\"yaxis\":\"y4\"},{\"line\":{\"color\":\"rgba(128, 128, 128, 1.0)\",\"dash\":\"solid\",\"shape\":\"linear\",\"width\":1.3},\"marker\":{\"size\":2,\"symbol\":\"circle\"},\"mode\":\"markers\",\"name\":\"B\",\"text\":\"\",\"type\":\"scatter\",\"x\":[2.589041960375388,0.46446495832878104,-1.8622342467167692,0.44748282470611106,0.5183570648847058,0.12564036024206882,-0.24671833426783726,1.462267278267704,0.6501389382278583,-0.6672168110888695,1.0747847894423825,-0.8495646586597335,0.8803409704941809,0.8276737448827238,-1.9844611168258537,-0.5824346509596668,0.31244403542215765,-1.9058846467784096,1.534946502058969,0.03365006500295044,-0.29023183110114703,0.3634249740106572,-0.2711593909409654,-0.9132127122770319,-1.5297006715639065,1.8365899649961515,0.997620536569792,-0.2682830090953816,-0.9920391126364365,-1.1288479078430984,-0.008960344604379092,0.08630969741946837,0.46474673901283703,1.080017337225342,1.4661189565799466,1.7757481260571573,0.3205119277722951,-0.1798124223086815,-0.4958536804162443,-1.0824042969488221,0.6888694888308021,-0.5554454322639867,1.1331849620973518,0.707328075472143,1.5136541614709633,-0.15648423529358677,-0.1433778469159636,-0.40468586905849585,-1.1744432881168483,-1.1803866454136969,0.08701772484394507,0.5103821267093613,-0.7433404424157205,-1.3161156299617915,0.723862166500837,0.0026211503152519856,0.6319910333015367,-0.7800163727009063,0.35886810605281194,-0.8301763834854368,-0.8524457756811449,0.9092763928827187,1.386293842292832,0.6190688873352528,-0.7452238959623145,-0.10530966041008744,0.6046632526320624,0.5577696731869712,-0.2920090900408622,0.24765258184426459,0.24614719012597427,-0.5867004475301311,-0.6851305364461912,-0.3361131907069222,0.6096750683088648,0.40561099150908214,-1.0722447247968594,-0.8429016314669159,-1.1413614153611717,0.003590536584902493,0.34212167559255774,0.6196242646627494,1.3374433126596188,0.783739897292725,-0.21978813559000052,1.310680446778554,-2.1203859731935624,-0.012493364965072527,1.5567907256747087,-0.09070771602794563,1.4609853837943934,-0.08854349224959014,-0.856791361064138,1.0297475656962671,0.42198118265890605,-1.03460399441633,0.3735845230130623,-0.9241538869607678,1.570150040609835,1.321593659953714],\"xaxis\":\"x5\",\"y\":[0.3628951277929951,-0.3370451361478144,1.3231291351782233,1.4619849953879063,2.117158857110377,-0.4278911070438518,0.7344388751372461,-0.550323658824948,2.289515694879591,0.30742068285265095,-0.43977407824993986,-0.48884334734707185,-0.035511693272353935,-0.5342855677426966,-0.48180500751838384,-0.5402177259755799,-0.4257760630492741,0.7481064580560373,0.38511250543185005,0.8948997926718579,0.5536185568036587,-0.6179898772826783,-0.7373935557874557,-0.6587419190524676,-0.7908486650543705,1.9579085993292384,1.0227320867440015,0.08107381074532037,-1.0480676019418818,-0.038411630922692945,-0.43553368154143673,0.30547134666727555,0.31837764643846567,-1.2142755537571501,-1.33773432084597,-0.7116738068907645,0.9183167283589629,1.4743458775421812,-0.8431681057751841,0.43131204721851857,-0.9552574710960884,1.360748437511149,0.17242502311920802,-0.1770824993618998,-1.2597307314975406,0.10361795124246964,-0.18102523650578423,1.9573674380123398,-1.9199468808812759,1.4147956826988282,-0.9874818136598563,-0.7022202694544329,-0.5705377079294096,-0.7181380869066,-1.5780613890451551,1.8132684520903277,-0.04335726224652799,-0.622068537839199,0.49221363767893667,1.3014197695620342,1.2885602911496903,-2.8538900169933634,0.25687937793931975,-0.9849351141966023,0.12599618770693463,0.34654139867809725,1.6403611743900608,0.34133072787434726,-0.3534901678291325,-1.3064588907422594,-0.4066703765884158,-1.9235557950647617,-0.7594602183434284,-0.7594261635516536,-0.29650932390946017,-0.7528925452720961,-0.026538330860710606,-0.7006225652800655,0.08891626131943374,-0.9241877460937217,1.1524864431883304,-1.5516429203762085,-0.7512503489892757,-0.2172506305976222,-0.3702813233079158,-1.6215454634160695,0.8196735120810899,-0.7064143748530674,-1.4730559538526578,1.2335673831613592,-1.7081096406580358,-0.6861292538606032,0.4460871106918229,2.145446758488049,-1.1984764313861387,0.9179123015415466,1.97791814986797,1.421128192119911,1.0233477071069101,-0.45111783720311166],\"yaxis\":\"y5\"},{\"histfunc\":\"count\",\"histnorm\":\"\",\"marker\":{\"color\":\"rgba(55, 128, 191, 1.0)\",\"line\":{\"color\":\"#4D5663\",\"width\":1.3}},\"name\":\"B\",\"nbinsx\":10,\"opacity\":0.8,\"orientation\":\"v\",\"type\":\"histogram\",\"x\":[0.3628951277929951,-0.3370451361478144,1.3231291351782233,1.4619849953879063,2.117158857110377,-0.4278911070438518,0.7344388751372461,-0.550323658824948,2.289515694879591,0.30742068285265095,-0.43977407824993986,-0.48884334734707185,-0.035511693272353935,-0.5342855677426966,-0.48180500751838384,-0.5402177259755799,-0.4257760630492741,0.7481064580560373,0.38511250543185005,0.8948997926718579,0.5536185568036587,-0.6179898772826783,-0.7373935557874557,-0.6587419190524676,-0.7908486650543705,1.9579085993292384,1.0227320867440015,0.08107381074532037,-1.0480676019418818,-0.038411630922692945,-0.43553368154143673,0.30547134666727555,0.31837764643846567,-1.2142755537571501,-1.33773432084597,-0.7116738068907645,0.9183167283589629,1.4743458775421812,-0.8431681057751841,0.43131204721851857,-0.9552574710960884,1.360748437511149,0.17242502311920802,-0.1770824993618998,-1.2597307314975406,0.10361795124246964,-0.18102523650578423,1.9573674380123398,-1.9199468808812759,1.4147956826988282,-0.9874818136598563,-0.7022202694544329,-0.5705377079294096,-0.7181380869066,-1.5780613890451551,1.8132684520903277,-0.04335726224652799,-0.622068537839199,0.49221363767893667,1.3014197695620342,1.2885602911496903,-2.8538900169933634,0.25687937793931975,-0.9849351141966023,0.12599618770693463,0.34654139867809725,1.6403611743900608,0.34133072787434726,-0.3534901678291325,-1.3064588907422594,-0.4066703765884158,-1.9235557950647617,-0.7594602183434284,-0.7594261635516536,-0.29650932390946017,-0.7528925452720961,-0.026538330860710606,-0.7006225652800655,0.08891626131943374,-0.9241877460937217,1.1524864431883304,-1.5516429203762085,-0.7512503489892757,-0.2172506305976222,-0.3702813233079158,-1.6215454634160695,0.8196735120810899,-0.7064143748530674,-1.4730559538526578,1.2335673831613592,-1.7081096406580358,-0.6861292538606032,0.4460871106918229,2.145446758488049,-1.1984764313861387,0.9179123015415466,1.97791814986797,1.421128192119911,1.0233477071069101,-0.45111783720311166],\"xaxis\":\"x6\",\"yaxis\":\"y6\"},{\"line\":{\"color\":\"rgba(128, 128, 128, 1.0)\",\"dash\":\"solid\",\"shape\":\"linear\",\"width\":1.3},\"marker\":{\"size\":2,\"symbol\":\"circle\"},\"mode\":\"markers\",\"name\":\"B\",\"text\":\"\",\"type\":\"scatter\",\"x\":[-1.262246386708045,1.5638579611107675,1.6533456642054394,-0.5857274150439693,-0.9718003335278091,1.9910197132485752,-0.01613438128547328,-0.7222960998036906,-0.43452788842835516,1.8314339377290816,0.4826739694509472,-0.8357536125493982,-0.2593056592632085,0.47485761951349925,-0.14457728585036042,-0.56176823174519,-0.0803096305257362,0.5397232549572729,-0.31562777844065215,0.609617256698708,0.5820343674747728,-1.0964528018403226,-1.390339177426912,0.6400248855065004,0.47259256055418436,-1.009103140705429,0.40008503543512436,0.5995439538437828,0.3133663894433051,-2.665883259984044,-0.6461013421361341,-0.897748954090031,0.9621321118411451,-0.04320877208820299,-1.9574508338642798,-1.8760688791065874,1.3121315059780538,0.4780649355181438,0.2570784378160595,-1.0061816352506987,0.5381896067709654,0.21933334682360123,-0.4136204340160217,0.8789952767971859,-1.733200734199713,0.059984712005299604,-1.91442323813317,-0.5197833673791261,0.6991419801679005,-0.03210088725470912,-1.0632333928130342,-0.9300430509553365,-0.6012510269252737,0.2865154738217406,-0.06645984323458184,0.700151111328033,-0.4545238559681508,0.4197119613844714,0.6250125750521822,1.543602961789841,1.9234299147607956,0.4923533990036386,0.5823243218785095,-1.7956378010179064,2.2093208145112797,0.9489631119338943,0.11530760570093612,-0.046247696279733165,0.10286615664533401,0.3355010334083271,-1.2288175562291406,-0.4381558644867527,0.885854600105045,-0.7263145339435798,0.6037080262828017,0.039503474380392735,-0.13721426690389715,-0.7697375720421394,0.5664177039909022,-1.4533834714828815,-0.28788223418867487,-0.6869229799254724,-1.1019783015488456,-0.6995551434410562,2.178902724269444,0.2367245426897461,-1.3572443445271885,0.19080191211520586,-0.13534547363413924,2.1480475225124707,-1.640485130488358,0.24098007138199837,-0.06635707305500717,1.43720151371039,-1.2881494307241494,0.358308734244282,0.6610268948939776,0.17306216631950902,-1.4831561712608663,0.17009094047524345],\"xaxis\":\"x7\",\"y\":[0.3628951277929951,-0.3370451361478144,1.3231291351782233,1.4619849953879063,2.117158857110377,-0.4278911070438518,0.7344388751372461,-0.550323658824948,2.289515694879591,0.30742068285265095,-0.43977407824993986,-0.48884334734707185,-0.035511693272353935,-0.5342855677426966,-0.48180500751838384,-0.5402177259755799,-0.4257760630492741,0.7481064580560373,0.38511250543185005,0.8948997926718579,0.5536185568036587,-0.6179898772826783,-0.7373935557874557,-0.6587419190524676,-0.7908486650543705,1.9579085993292384,1.0227320867440015,0.08107381074532037,-1.0480676019418818,-0.038411630922692945,-0.43553368154143673,0.30547134666727555,0.31837764643846567,-1.2142755537571501,-1.33773432084597,-0.7116738068907645,0.9183167283589629,1.4743458775421812,-0.8431681057751841,0.43131204721851857,-0.9552574710960884,1.360748437511149,0.17242502311920802,-0.1770824993618998,-1.2597307314975406,0.10361795124246964,-0.18102523650578423,1.9573674380123398,-1.9199468808812759,1.4147956826988282,-0.9874818136598563,-0.7022202694544329,-0.5705377079294096,-0.7181380869066,-1.5780613890451551,1.8132684520903277,-0.04335726224652799,-0.622068537839199,0.49221363767893667,1.3014197695620342,1.2885602911496903,-2.8538900169933634,0.25687937793931975,-0.9849351141966023,0.12599618770693463,0.34654139867809725,1.6403611743900608,0.34133072787434726,-0.3534901678291325,-1.3064588907422594,-0.4066703765884158,-1.9235557950647617,-0.7594602183434284,-0.7594261635516536,-0.29650932390946017,-0.7528925452720961,-0.026538330860710606,-0.7006225652800655,0.08891626131943374,-0.9241877460937217,1.1524864431883304,-1.5516429203762085,-0.7512503489892757,-0.2172506305976222,-0.3702813233079158,-1.6215454634160695,0.8196735120810899,-0.7064143748530674,-1.4730559538526578,1.2335673831613592,-1.7081096406580358,-0.6861292538606032,0.4460871106918229,2.145446758488049,-1.1984764313861387,0.9179123015415466,1.97791814986797,1.421128192119911,1.0233477071069101,-0.45111783720311166],\"yaxis\":\"y7\"},{\"line\":{\"color\":\"rgba(128, 128, 128, 1.0)\",\"dash\":\"solid\",\"shape\":\"linear\",\"width\":1.3},\"marker\":{\"size\":2,\"symbol\":\"circle\"},\"mode\":\"markers\",\"name\":\"B\",\"text\":\"\",\"type\":\"scatter\",\"x\":[0.586241282522509,-0.22089794130715373,-0.32977958431585386,-0.5405340776475431,-0.04877349669389779,0.17133305898484838,0.7339462271620942,-1.7541849625682326,0.38375511557610975,0.5464722105970232,0.8766556178661989,0.6253743071113597,1.6496321321064724,-0.10249437906321221,-1.8595332557304354,-0.5715638089220502,0.4540962512541975,0.7954282130636511,-0.6171071272338289,0.9411102920743672,-0.569366457259254,-1.767388870564552,0.5747861920019599,-0.02796334802597153,-1.2198724082225554,-0.18441574978108347,-0.08983485756478941,0.7827998769009209,-0.6616735120219261,-0.21427997059061274,1.1716129881809083,-1.9365676452401521,-0.10149410131838696,-0.2315074296925576,0.4333018191203166,0.06759345971896527,-0.9565589970551207,-0.19913366531592835,0.6331964735409779,0.13008037562286812,-0.18791630766850706,0.6071395142047425,-0.9420566323715552,1.4991190191191128,0.775317504035868,-0.15913932979620232,0.1510895181968772,-0.5296271622969968,-0.7197989233436392,0.11309694712602393,0.44412989477713655,-0.09403027940187994,-0.8682299237393994,1.7553823217684428,0.4005643438094378,0.597826128640621,-0.7137331780235777,0.08946368313769949,-0.6430225688837589,-1.287764150816326,0.41927884809407495,0.1308943120600146,1.4612925365780403,0.4173722049236492,-1.2898246332745469,0.12236587640394747,0.3675122286041763,-0.711997864746745,-0.35653191502630593,0.42361621822173884,0.4459568784922028,-0.42929052053717953,0.09773405326685174,-1.4684722989661918,-0.31127757815040275,-1.1450330047394817,0.7635046452857974,0.6846182203864283,0.6830606678917067,-0.23039228538683168,-0.7468894046264111,-0.40334364788009475,0.6974026863797835,0.4129473636523078,-0.3019078924747539,-0.6427034119718875,-1.0264660139234527,-0.257059610559706,-0.05721108300739811,0.5561748153861257,1.202268969030958,1.310702613250076,-0.007279985522969998,-1.127865115148052,-1.2633103084419985,-0.41207404062384906,-2.680605099876662,-0.8744459753552564,-0.8670295998657446,-0.2292315238956763],\"xaxis\":\"x8\",\"y\":[0.3628951277929951,-0.3370451361478144,1.3231291351782233,1.4619849953879063,2.117158857110377,-0.4278911070438518,0.7344388751372461,-0.550323658824948,2.289515694879591,0.30742068285265095,-0.43977407824993986,-0.48884334734707185,-0.035511693272353935,-0.5342855677426966,-0.48180500751838384,-0.5402177259755799,-0.4257760630492741,0.7481064580560373,0.38511250543185005,0.8948997926718579,0.5536185568036587,-0.6179898772826783,-0.7373935557874557,-0.6587419190524676,-0.7908486650543705,1.9579085993292384,1.0227320867440015,0.08107381074532037,-1.0480676019418818,-0.038411630922692945,-0.43553368154143673,0.30547134666727555,0.31837764643846567,-1.2142755537571501,-1.33773432084597,-0.7116738068907645,0.9183167283589629,1.4743458775421812,-0.8431681057751841,0.43131204721851857,-0.9552574710960884,1.360748437511149,0.17242502311920802,-0.1770824993618998,-1.2597307314975406,0.10361795124246964,-0.18102523650578423,1.9573674380123398,-1.9199468808812759,1.4147956826988282,-0.9874818136598563,-0.7022202694544329,-0.5705377079294096,-0.7181380869066,-1.5780613890451551,1.8132684520903277,-0.04335726224652799,-0.622068537839199,0.49221363767893667,1.3014197695620342,1.2885602911496903,-2.8538900169933634,0.25687937793931975,-0.9849351141966023,0.12599618770693463,0.34654139867809725,1.6403611743900608,0.34133072787434726,-0.3534901678291325,-1.3064588907422594,-0.4066703765884158,-1.9235557950647617,-0.7594602183434284,-0.7594261635516536,-0.29650932390946017,-0.7528925452720961,-0.026538330860710606,-0.7006225652800655,0.08891626131943374,-0.9241877460937217,1.1524864431883304,-1.5516429203762085,-0.7512503489892757,-0.2172506305976222,-0.3702813233079158,-1.6215454634160695,0.8196735120810899,-0.7064143748530674,-1.4730559538526578,1.2335673831613592,-1.7081096406580358,-0.6861292538606032,0.4460871106918229,2.145446758488049,-1.1984764313861387,0.9179123015415466,1.97791814986797,1.421128192119911,1.0233477071069101,-0.45111783720311166],\"yaxis\":\"y8\"},{\"line\":{\"color\":\"rgba(128, 128, 128, 1.0)\",\"dash\":\"solid\",\"shape\":\"linear\",\"width\":1.3},\"marker\":{\"size\":2,\"symbol\":\"circle\"},\"mode\":\"markers\",\"name\":\"C\",\"text\":\"\",\"type\":\"scatter\",\"x\":[2.589041960375388,0.46446495832878104,-1.8622342467167692,0.44748282470611106,0.5183570648847058,0.12564036024206882,-0.24671833426783726,1.462267278267704,0.6501389382278583,-0.6672168110888695,1.0747847894423825,-0.8495646586597335,0.8803409704941809,0.8276737448827238,-1.9844611168258537,-0.5824346509596668,0.31244403542215765,-1.9058846467784096,1.534946502058969,0.03365006500295044,-0.29023183110114703,0.3634249740106572,-0.2711593909409654,-0.9132127122770319,-1.5297006715639065,1.8365899649961515,0.997620536569792,-0.2682830090953816,-0.9920391126364365,-1.1288479078430984,-0.008960344604379092,0.08630969741946837,0.46474673901283703,1.080017337225342,1.4661189565799466,1.7757481260571573,0.3205119277722951,-0.1798124223086815,-0.4958536804162443,-1.0824042969488221,0.6888694888308021,-0.5554454322639867,1.1331849620973518,0.707328075472143,1.5136541614709633,-0.15648423529358677,-0.1433778469159636,-0.40468586905849585,-1.1744432881168483,-1.1803866454136969,0.08701772484394507,0.5103821267093613,-0.7433404424157205,-1.3161156299617915,0.723862166500837,0.0026211503152519856,0.6319910333015367,-0.7800163727009063,0.35886810605281194,-0.8301763834854368,-0.8524457756811449,0.9092763928827187,1.386293842292832,0.6190688873352528,-0.7452238959623145,-0.10530966041008744,0.6046632526320624,0.5577696731869712,-0.2920090900408622,0.24765258184426459,0.24614719012597427,-0.5867004475301311,-0.6851305364461912,-0.3361131907069222,0.6096750683088648,0.40561099150908214,-1.0722447247968594,-0.8429016314669159,-1.1413614153611717,0.003590536584902493,0.34212167559255774,0.6196242646627494,1.3374433126596188,0.783739897292725,-0.21978813559000052,1.310680446778554,-2.1203859731935624,-0.012493364965072527,1.5567907256747087,-0.09070771602794563,1.4609853837943934,-0.08854349224959014,-0.856791361064138,1.0297475656962671,0.42198118265890605,-1.03460399441633,0.3735845230130623,-0.9241538869607678,1.570150040609835,1.321593659953714],\"xaxis\":\"x9\",\"y\":[-1.262246386708045,1.5638579611107675,1.6533456642054394,-0.5857274150439693,-0.9718003335278091,1.9910197132485752,-0.01613438128547328,-0.7222960998036906,-0.43452788842835516,1.8314339377290816,0.4826739694509472,-0.8357536125493982,-0.2593056592632085,0.47485761951349925,-0.14457728585036042,-0.56176823174519,-0.0803096305257362,0.5397232549572729,-0.31562777844065215,0.609617256698708,0.5820343674747728,-1.0964528018403226,-1.390339177426912,0.6400248855065004,0.47259256055418436,-1.009103140705429,0.40008503543512436,0.5995439538437828,0.3133663894433051,-2.665883259984044,-0.6461013421361341,-0.897748954090031,0.9621321118411451,-0.04320877208820299,-1.9574508338642798,-1.8760688791065874,1.3121315059780538,0.4780649355181438,0.2570784378160595,-1.0061816352506987,0.5381896067709654,0.21933334682360123,-0.4136204340160217,0.8789952767971859,-1.733200734199713,0.059984712005299604,-1.91442323813317,-0.5197833673791261,0.6991419801679005,-0.03210088725470912,-1.0632333928130342,-0.9300430509553365,-0.6012510269252737,0.2865154738217406,-0.06645984323458184,0.700151111328033,-0.4545238559681508,0.4197119613844714,0.6250125750521822,1.543602961789841,1.9234299147607956,0.4923533990036386,0.5823243218785095,-1.7956378010179064,2.2093208145112797,0.9489631119338943,0.11530760570093612,-0.046247696279733165,0.10286615664533401,0.3355010334083271,-1.2288175562291406,-0.4381558644867527,0.885854600105045,-0.7263145339435798,0.6037080262828017,0.039503474380392735,-0.13721426690389715,-0.7697375720421394,0.5664177039909022,-1.4533834714828815,-0.28788223418867487,-0.6869229799254724,-1.1019783015488456,-0.6995551434410562,2.178902724269444,0.2367245426897461,-1.3572443445271885,0.19080191211520586,-0.13534547363413924,2.1480475225124707,-1.640485130488358,0.24098007138199837,-0.06635707305500717,1.43720151371039,-1.2881494307241494,0.358308734244282,0.6610268948939776,0.17306216631950902,-1.4831561712608663,0.17009094047524345],\"yaxis\":\"y9\"},{\"line\":{\"color\":\"rgba(128, 128, 128, 1.0)\",\"dash\":\"solid\",\"shape\":\"linear\",\"width\":1.3},\"marker\":{\"size\":2,\"symbol\":\"circle\"},\"mode\":\"markers\",\"name\":\"C\",\"text\":\"\",\"type\":\"scatter\",\"x\":[0.3628951277929951,-0.3370451361478144,1.3231291351782233,1.4619849953879063,2.117158857110377,-0.4278911070438518,0.7344388751372461,-0.550323658824948,2.289515694879591,0.30742068285265095,-0.43977407824993986,-0.48884334734707185,-0.035511693272353935,-0.5342855677426966,-0.48180500751838384,-0.5402177259755799,-0.4257760630492741,0.7481064580560373,0.38511250543185005,0.8948997926718579,0.5536185568036587,-0.6179898772826783,-0.7373935557874557,-0.6587419190524676,-0.7908486650543705,1.9579085993292384,1.0227320867440015,0.08107381074532037,-1.0480676019418818,-0.038411630922692945,-0.43553368154143673,0.30547134666727555,0.31837764643846567,-1.2142755537571501,-1.33773432084597,-0.7116738068907645,0.9183167283589629,1.4743458775421812,-0.8431681057751841,0.43131204721851857,-0.9552574710960884,1.360748437511149,0.17242502311920802,-0.1770824993618998,-1.2597307314975406,0.10361795124246964,-0.18102523650578423,1.9573674380123398,-1.9199468808812759,1.4147956826988282,-0.9874818136598563,-0.7022202694544329,-0.5705377079294096,-0.7181380869066,-1.5780613890451551,1.8132684520903277,-0.04335726224652799,-0.622068537839199,0.49221363767893667,1.3014197695620342,1.2885602911496903,-2.8538900169933634,0.25687937793931975,-0.9849351141966023,0.12599618770693463,0.34654139867809725,1.6403611743900608,0.34133072787434726,-0.3534901678291325,-1.3064588907422594,-0.4066703765884158,-1.9235557950647617,-0.7594602183434284,-0.7594261635516536,-0.29650932390946017,-0.7528925452720961,-0.026538330860710606,-0.7006225652800655,0.08891626131943374,-0.9241877460937217,1.1524864431883304,-1.5516429203762085,-0.7512503489892757,-0.2172506305976222,-0.3702813233079158,-1.6215454634160695,0.8196735120810899,-0.7064143748530674,-1.4730559538526578,1.2335673831613592,-1.7081096406580358,-0.6861292538606032,0.4460871106918229,2.145446758488049,-1.1984764313861387,0.9179123015415466,1.97791814986797,1.421128192119911,1.0233477071069101,-0.45111783720311166],\"xaxis\":\"x10\",\"y\":[-1.262246386708045,1.5638579611107675,1.6533456642054394,-0.5857274150439693,-0.9718003335278091,1.9910197132485752,-0.01613438128547328,-0.7222960998036906,-0.43452788842835516,1.8314339377290816,0.4826739694509472,-0.8357536125493982,-0.2593056592632085,0.47485761951349925,-0.14457728585036042,-0.56176823174519,-0.0803096305257362,0.5397232549572729,-0.31562777844065215,0.609617256698708,0.5820343674747728,-1.0964528018403226,-1.390339177426912,0.6400248855065004,0.47259256055418436,-1.009103140705429,0.40008503543512436,0.5995439538437828,0.3133663894433051,-2.665883259984044,-0.6461013421361341,-0.897748954090031,0.9621321118411451,-0.04320877208820299,-1.9574508338642798,-1.8760688791065874,1.3121315059780538,0.4780649355181438,0.2570784378160595,-1.0061816352506987,0.5381896067709654,0.21933334682360123,-0.4136204340160217,0.8789952767971859,-1.733200734199713,0.059984712005299604,-1.91442323813317,-0.5197833673791261,0.6991419801679005,-0.03210088725470912,-1.0632333928130342,-0.9300430509553365,-0.6012510269252737,0.2865154738217406,-0.06645984323458184,0.700151111328033,-0.4545238559681508,0.4197119613844714,0.6250125750521822,1.543602961789841,1.9234299147607956,0.4923533990036386,0.5823243218785095,-1.7956378010179064,2.2093208145112797,0.9489631119338943,0.11530760570093612,-0.046247696279733165,0.10286615664533401,0.3355010334083271,-1.2288175562291406,-0.4381558644867527,0.885854600105045,-0.7263145339435798,0.6037080262828017,0.039503474380392735,-0.13721426690389715,-0.7697375720421394,0.5664177039909022,-1.4533834714828815,-0.28788223418867487,-0.6869229799254724,-1.1019783015488456,-0.6995551434410562,2.178902724269444,0.2367245426897461,-1.3572443445271885,0.19080191211520586,-0.13534547363413924,2.1480475225124707,-1.640485130488358,0.24098007138199837,-0.06635707305500717,1.43720151371039,-1.2881494307241494,0.358308734244282,0.6610268948939776,0.17306216631950902,-1.4831561712608663,0.17009094047524345],\"yaxis\":\"y10\"},{\"histfunc\":\"count\",\"histnorm\":\"\",\"marker\":{\"color\":\"rgba(50, 171, 96, 1.0)\",\"line\":{\"color\":\"#4D5663\",\"width\":1.3}},\"name\":\"C\",\"nbinsx\":10,\"opacity\":0.8,\"orientation\":\"v\",\"type\":\"histogram\",\"x\":[-1.262246386708045,1.5638579611107675,1.6533456642054394,-0.5857274150439693,-0.9718003335278091,1.9910197132485752,-0.01613438128547328,-0.7222960998036906,-0.43452788842835516,1.8314339377290816,0.4826739694509472,-0.8357536125493982,-0.2593056592632085,0.47485761951349925,-0.14457728585036042,-0.56176823174519,-0.0803096305257362,0.5397232549572729,-0.31562777844065215,0.609617256698708,0.5820343674747728,-1.0964528018403226,-1.390339177426912,0.6400248855065004,0.47259256055418436,-1.009103140705429,0.40008503543512436,0.5995439538437828,0.3133663894433051,-2.665883259984044,-0.6461013421361341,-0.897748954090031,0.9621321118411451,-0.04320877208820299,-1.9574508338642798,-1.8760688791065874,1.3121315059780538,0.4780649355181438,0.2570784378160595,-1.0061816352506987,0.5381896067709654,0.21933334682360123,-0.4136204340160217,0.8789952767971859,-1.733200734199713,0.059984712005299604,-1.91442323813317,-0.5197833673791261,0.6991419801679005,-0.03210088725470912,-1.0632333928130342,-0.9300430509553365,-0.6012510269252737,0.2865154738217406,-0.06645984323458184,0.700151111328033,-0.4545238559681508,0.4197119613844714,0.6250125750521822,1.543602961789841,1.9234299147607956,0.4923533990036386,0.5823243218785095,-1.7956378010179064,2.2093208145112797,0.9489631119338943,0.11530760570093612,-0.046247696279733165,0.10286615664533401,0.3355010334083271,-1.2288175562291406,-0.4381558644867527,0.885854600105045,-0.7263145339435798,0.6037080262828017,0.039503474380392735,-0.13721426690389715,-0.7697375720421394,0.5664177039909022,-1.4533834714828815,-0.28788223418867487,-0.6869229799254724,-1.1019783015488456,-0.6995551434410562,2.178902724269444,0.2367245426897461,-1.3572443445271885,0.19080191211520586,-0.13534547363413924,2.1480475225124707,-1.640485130488358,0.24098007138199837,-0.06635707305500717,1.43720151371039,-1.2881494307241494,0.358308734244282,0.6610268948939776,0.17306216631950902,-1.4831561712608663,0.17009094047524345],\"xaxis\":\"x11\",\"yaxis\":\"y11\"},{\"line\":{\"color\":\"rgba(128, 128, 128, 1.0)\",\"dash\":\"solid\",\"shape\":\"linear\",\"width\":1.3},\"marker\":{\"size\":2,\"symbol\":\"circle\"},\"mode\":\"markers\",\"name\":\"C\",\"text\":\"\",\"type\":\"scatter\",\"x\":[0.586241282522509,-0.22089794130715373,-0.32977958431585386,-0.5405340776475431,-0.04877349669389779,0.17133305898484838,0.7339462271620942,-1.7541849625682326,0.38375511557610975,0.5464722105970232,0.8766556178661989,0.6253743071113597,1.6496321321064724,-0.10249437906321221,-1.8595332557304354,-0.5715638089220502,0.4540962512541975,0.7954282130636511,-0.6171071272338289,0.9411102920743672,-0.569366457259254,-1.767388870564552,0.5747861920019599,-0.02796334802597153,-1.2198724082225554,-0.18441574978108347,-0.08983485756478941,0.7827998769009209,-0.6616735120219261,-0.21427997059061274,1.1716129881809083,-1.9365676452401521,-0.10149410131838696,-0.2315074296925576,0.4333018191203166,0.06759345971896527,-0.9565589970551207,-0.19913366531592835,0.6331964735409779,0.13008037562286812,-0.18791630766850706,0.6071395142047425,-0.9420566323715552,1.4991190191191128,0.775317504035868,-0.15913932979620232,0.1510895181968772,-0.5296271622969968,-0.7197989233436392,0.11309694712602393,0.44412989477713655,-0.09403027940187994,-0.8682299237393994,1.7553823217684428,0.4005643438094378,0.597826128640621,-0.7137331780235777,0.08946368313769949,-0.6430225688837589,-1.287764150816326,0.41927884809407495,0.1308943120600146,1.4612925365780403,0.4173722049236492,-1.2898246332745469,0.12236587640394747,0.3675122286041763,-0.711997864746745,-0.35653191502630593,0.42361621822173884,0.4459568784922028,-0.42929052053717953,0.09773405326685174,-1.4684722989661918,-0.31127757815040275,-1.1450330047394817,0.7635046452857974,0.6846182203864283,0.6830606678917067,-0.23039228538683168,-0.7468894046264111,-0.40334364788009475,0.6974026863797835,0.4129473636523078,-0.3019078924747539,-0.6427034119718875,-1.0264660139234527,-0.257059610559706,-0.05721108300739811,0.5561748153861257,1.202268969030958,1.310702613250076,-0.007279985522969998,-1.127865115148052,-1.2633103084419985,-0.41207404062384906,-2.680605099876662,-0.8744459753552564,-0.8670295998657446,-0.2292315238956763],\"xaxis\":\"x12\",\"y\":[-1.262246386708045,1.5638579611107675,1.6533456642054394,-0.5857274150439693,-0.9718003335278091,1.9910197132485752,-0.01613438128547328,-0.7222960998036906,-0.43452788842835516,1.8314339377290816,0.4826739694509472,-0.8357536125493982,-0.2593056592632085,0.47485761951349925,-0.14457728585036042,-0.56176823174519,-0.0803096305257362,0.5397232549572729,-0.31562777844065215,0.609617256698708,0.5820343674747728,-1.0964528018403226,-1.390339177426912,0.6400248855065004,0.47259256055418436,-1.009103140705429,0.40008503543512436,0.5995439538437828,0.3133663894433051,-2.665883259984044,-0.6461013421361341,-0.897748954090031,0.9621321118411451,-0.04320877208820299,-1.9574508338642798,-1.8760688791065874,1.3121315059780538,0.4780649355181438,0.2570784378160595,-1.0061816352506987,0.5381896067709654,0.21933334682360123,-0.4136204340160217,0.8789952767971859,-1.733200734199713,0.059984712005299604,-1.91442323813317,-0.5197833673791261,0.6991419801679005,-0.03210088725470912,-1.0632333928130342,-0.9300430509553365,-0.6012510269252737,0.2865154738217406,-0.06645984323458184,0.700151111328033,-0.4545238559681508,0.4197119613844714,0.6250125750521822,1.543602961789841,1.9234299147607956,0.4923533990036386,0.5823243218785095,-1.7956378010179064,2.2093208145112797,0.9489631119338943,0.11530760570093612,-0.046247696279733165,0.10286615664533401,0.3355010334083271,-1.2288175562291406,-0.4381558644867527,0.885854600105045,-0.7263145339435798,0.6037080262828017,0.039503474380392735,-0.13721426690389715,-0.7697375720421394,0.5664177039909022,-1.4533834714828815,-0.28788223418867487,-0.6869229799254724,-1.1019783015488456,-0.6995551434410562,2.178902724269444,0.2367245426897461,-1.3572443445271885,0.19080191211520586,-0.13534547363413924,2.1480475225124707,-1.640485130488358,0.24098007138199837,-0.06635707305500717,1.43720151371039,-1.2881494307241494,0.358308734244282,0.6610268948939776,0.17306216631950902,-1.4831561712608663,0.17009094047524345],\"yaxis\":\"y12\"},{\"line\":{\"color\":\"rgba(128, 128, 128, 1.0)\",\"dash\":\"solid\",\"shape\":\"linear\",\"width\":1.3},\"marker\":{\"size\":2,\"symbol\":\"circle\"},\"mode\":\"markers\",\"name\":\"D\",\"text\":\"\",\"type\":\"scatter\",\"x\":[2.589041960375388,0.46446495832878104,-1.8622342467167692,0.44748282470611106,0.5183570648847058,0.12564036024206882,-0.24671833426783726,1.462267278267704,0.6501389382278583,-0.6672168110888695,1.0747847894423825,-0.8495646586597335,0.8803409704941809,0.8276737448827238,-1.9844611168258537,-0.5824346509596668,0.31244403542215765,-1.9058846467784096,1.534946502058969,0.03365006500295044,-0.29023183110114703,0.3634249740106572,-0.2711593909409654,-0.9132127122770319,-1.5297006715639065,1.8365899649961515,0.997620536569792,-0.2682830090953816,-0.9920391126364365,-1.1288479078430984,-0.008960344604379092,0.08630969741946837,0.46474673901283703,1.080017337225342,1.4661189565799466,1.7757481260571573,0.3205119277722951,-0.1798124223086815,-0.4958536804162443,-1.0824042969488221,0.6888694888308021,-0.5554454322639867,1.1331849620973518,0.707328075472143,1.5136541614709633,-0.15648423529358677,-0.1433778469159636,-0.40468586905849585,-1.1744432881168483,-1.1803866454136969,0.08701772484394507,0.5103821267093613,-0.7433404424157205,-1.3161156299617915,0.723862166500837,0.0026211503152519856,0.6319910333015367,-0.7800163727009063,0.35886810605281194,-0.8301763834854368,-0.8524457756811449,0.9092763928827187,1.386293842292832,0.6190688873352528,-0.7452238959623145,-0.10530966041008744,0.6046632526320624,0.5577696731869712,-0.2920090900408622,0.24765258184426459,0.24614719012597427,-0.5867004475301311,-0.6851305364461912,-0.3361131907069222,0.6096750683088648,0.40561099150908214,-1.0722447247968594,-0.8429016314669159,-1.1413614153611717,0.003590536584902493,0.34212167559255774,0.6196242646627494,1.3374433126596188,0.783739897292725,-0.21978813559000052,1.310680446778554,-2.1203859731935624,-0.012493364965072527,1.5567907256747087,-0.09070771602794563,1.4609853837943934,-0.08854349224959014,-0.856791361064138,1.0297475656962671,0.42198118265890605,-1.03460399441633,0.3735845230130623,-0.9241538869607678,1.570150040609835,1.321593659953714],\"xaxis\":\"x13\",\"y\":[0.586241282522509,-0.22089794130715373,-0.32977958431585386,-0.5405340776475431,-0.04877349669389779,0.17133305898484838,0.7339462271620942,-1.7541849625682326,0.38375511557610975,0.5464722105970232,0.8766556178661989,0.6253743071113597,1.6496321321064724,-0.10249437906321221,-1.8595332557304354,-0.5715638089220502,0.4540962512541975,0.7954282130636511,-0.6171071272338289,0.9411102920743672,-0.569366457259254,-1.767388870564552,0.5747861920019599,-0.02796334802597153,-1.2198724082225554,-0.18441574978108347,-0.08983485756478941,0.7827998769009209,-0.6616735120219261,-0.21427997059061274,1.1716129881809083,-1.9365676452401521,-0.10149410131838696,-0.2315074296925576,0.4333018191203166,0.06759345971896527,-0.9565589970551207,-0.19913366531592835,0.6331964735409779,0.13008037562286812,-0.18791630766850706,0.6071395142047425,-0.9420566323715552,1.4991190191191128,0.775317504035868,-0.15913932979620232,0.1510895181968772,-0.5296271622969968,-0.7197989233436392,0.11309694712602393,0.44412989477713655,-0.09403027940187994,-0.8682299237393994,1.7553823217684428,0.4005643438094378,0.597826128640621,-0.7137331780235777,0.08946368313769949,-0.6430225688837589,-1.287764150816326,0.41927884809407495,0.1308943120600146,1.4612925365780403,0.4173722049236492,-1.2898246332745469,0.12236587640394747,0.3675122286041763,-0.711997864746745,-0.35653191502630593,0.42361621822173884,0.4459568784922028,-0.42929052053717953,0.09773405326685174,-1.4684722989661918,-0.31127757815040275,-1.1450330047394817,0.7635046452857974,0.6846182203864283,0.6830606678917067,-0.23039228538683168,-0.7468894046264111,-0.40334364788009475,0.6974026863797835,0.4129473636523078,-0.3019078924747539,-0.6427034119718875,-1.0264660139234527,-0.257059610559706,-0.05721108300739811,0.5561748153861257,1.202268969030958,1.310702613250076,-0.007279985522969998,-1.127865115148052,-1.2633103084419985,-0.41207404062384906,-2.680605099876662,-0.8744459753552564,-0.8670295998657446,-0.2292315238956763],\"yaxis\":\"y13\"},{\"line\":{\"color\":\"rgba(128, 128, 128, 1.0)\",\"dash\":\"solid\",\"shape\":\"linear\",\"width\":1.3},\"marker\":{\"size\":2,\"symbol\":\"circle\"},\"mode\":\"markers\",\"name\":\"D\",\"text\":\"\",\"type\":\"scatter\",\"x\":[0.3628951277929951,-0.3370451361478144,1.3231291351782233,1.4619849953879063,2.117158857110377,-0.4278911070438518,0.7344388751372461,-0.550323658824948,2.289515694879591,0.30742068285265095,-0.43977407824993986,-0.48884334734707185,-0.035511693272353935,-0.5342855677426966,-0.48180500751838384,-0.5402177259755799,-0.4257760630492741,0.7481064580560373,0.38511250543185005,0.8948997926718579,0.5536185568036587,-0.6179898772826783,-0.7373935557874557,-0.6587419190524676,-0.7908486650543705,1.9579085993292384,1.0227320867440015,0.08107381074532037,-1.0480676019418818,-0.038411630922692945,-0.43553368154143673,0.30547134666727555,0.31837764643846567,-1.2142755537571501,-1.33773432084597,-0.7116738068907645,0.9183167283589629,1.4743458775421812,-0.8431681057751841,0.43131204721851857,-0.9552574710960884,1.360748437511149,0.17242502311920802,-0.1770824993618998,-1.2597307314975406,0.10361795124246964,-0.18102523650578423,1.9573674380123398,-1.9199468808812759,1.4147956826988282,-0.9874818136598563,-0.7022202694544329,-0.5705377079294096,-0.7181380869066,-1.5780613890451551,1.8132684520903277,-0.04335726224652799,-0.622068537839199,0.49221363767893667,1.3014197695620342,1.2885602911496903,-2.8538900169933634,0.25687937793931975,-0.9849351141966023,0.12599618770693463,0.34654139867809725,1.6403611743900608,0.34133072787434726,-0.3534901678291325,-1.3064588907422594,-0.4066703765884158,-1.9235557950647617,-0.7594602183434284,-0.7594261635516536,-0.29650932390946017,-0.7528925452720961,-0.026538330860710606,-0.7006225652800655,0.08891626131943374,-0.9241877460937217,1.1524864431883304,-1.5516429203762085,-0.7512503489892757,-0.2172506305976222,-0.3702813233079158,-1.6215454634160695,0.8196735120810899,-0.7064143748530674,-1.4730559538526578,1.2335673831613592,-1.7081096406580358,-0.6861292538606032,0.4460871106918229,2.145446758488049,-1.1984764313861387,0.9179123015415466,1.97791814986797,1.421128192119911,1.0233477071069101,-0.45111783720311166],\"xaxis\":\"x14\",\"y\":[0.586241282522509,-0.22089794130715373,-0.32977958431585386,-0.5405340776475431,-0.04877349669389779,0.17133305898484838,0.7339462271620942,-1.7541849625682326,0.38375511557610975,0.5464722105970232,0.8766556178661989,0.6253743071113597,1.6496321321064724,-0.10249437906321221,-1.8595332557304354,-0.5715638089220502,0.4540962512541975,0.7954282130636511,-0.6171071272338289,0.9411102920743672,-0.569366457259254,-1.767388870564552,0.5747861920019599,-0.02796334802597153,-1.2198724082225554,-0.18441574978108347,-0.08983485756478941,0.7827998769009209,-0.6616735120219261,-0.21427997059061274,1.1716129881809083,-1.9365676452401521,-0.10149410131838696,-0.2315074296925576,0.4333018191203166,0.06759345971896527,-0.9565589970551207,-0.19913366531592835,0.6331964735409779,0.13008037562286812,-0.18791630766850706,0.6071395142047425,-0.9420566323715552,1.4991190191191128,0.775317504035868,-0.15913932979620232,0.1510895181968772,-0.5296271622969968,-0.7197989233436392,0.11309694712602393,0.44412989477713655,-0.09403027940187994,-0.8682299237393994,1.7553823217684428,0.4005643438094378,0.597826128640621,-0.7137331780235777,0.08946368313769949,-0.6430225688837589,-1.287764150816326,0.41927884809407495,0.1308943120600146,1.4612925365780403,0.4173722049236492,-1.2898246332745469,0.12236587640394747,0.3675122286041763,-0.711997864746745,-0.35653191502630593,0.42361621822173884,0.4459568784922028,-0.42929052053717953,0.09773405326685174,-1.4684722989661918,-0.31127757815040275,-1.1450330047394817,0.7635046452857974,0.6846182203864283,0.6830606678917067,-0.23039228538683168,-0.7468894046264111,-0.40334364788009475,0.6974026863797835,0.4129473636523078,-0.3019078924747539,-0.6427034119718875,-1.0264660139234527,-0.257059610559706,-0.05721108300739811,0.5561748153861257,1.202268969030958,1.310702613250076,-0.007279985522969998,-1.127865115148052,-1.2633103084419985,-0.41207404062384906,-2.680605099876662,-0.8744459753552564,-0.8670295998657446,-0.2292315238956763],\"yaxis\":\"y14\"},{\"line\":{\"color\":\"rgba(128, 128, 128, 1.0)\",\"dash\":\"solid\",\"shape\":\"linear\",\"width\":1.3},\"marker\":{\"size\":2,\"symbol\":\"circle\"},\"mode\":\"markers\",\"name\":\"D\",\"text\":\"\",\"type\":\"scatter\",\"x\":[-1.262246386708045,1.5638579611107675,1.6533456642054394,-0.5857274150439693,-0.9718003335278091,1.9910197132485752,-0.01613438128547328,-0.7222960998036906,-0.43452788842835516,1.8314339377290816,0.4826739694509472,-0.8357536125493982,-0.2593056592632085,0.47485761951349925,-0.14457728585036042,-0.56176823174519,-0.0803096305257362,0.5397232549572729,-0.31562777844065215,0.609617256698708,0.5820343674747728,-1.0964528018403226,-1.390339177426912,0.6400248855065004,0.47259256055418436,-1.009103140705429,0.40008503543512436,0.5995439538437828,0.3133663894433051,-2.665883259984044,-0.6461013421361341,-0.897748954090031,0.9621321118411451,-0.04320877208820299,-1.9574508338642798,-1.8760688791065874,1.3121315059780538,0.4780649355181438,0.2570784378160595,-1.0061816352506987,0.5381896067709654,0.21933334682360123,-0.4136204340160217,0.8789952767971859,-1.733200734199713,0.059984712005299604,-1.91442323813317,-0.5197833673791261,0.6991419801679005,-0.03210088725470912,-1.0632333928130342,-0.9300430509553365,-0.6012510269252737,0.2865154738217406,-0.06645984323458184,0.700151111328033,-0.4545238559681508,0.4197119613844714,0.6250125750521822,1.543602961789841,1.9234299147607956,0.4923533990036386,0.5823243218785095,-1.7956378010179064,2.2093208145112797,0.9489631119338943,0.11530760570093612,-0.046247696279733165,0.10286615664533401,0.3355010334083271,-1.2288175562291406,-0.4381558644867527,0.885854600105045,-0.7263145339435798,0.6037080262828017,0.039503474380392735,-0.13721426690389715,-0.7697375720421394,0.5664177039909022,-1.4533834714828815,-0.28788223418867487,-0.6869229799254724,-1.1019783015488456,-0.6995551434410562,2.178902724269444,0.2367245426897461,-1.3572443445271885,0.19080191211520586,-0.13534547363413924,2.1480475225124707,-1.640485130488358,0.24098007138199837,-0.06635707305500717,1.43720151371039,-1.2881494307241494,0.358308734244282,0.6610268948939776,0.17306216631950902,-1.4831561712608663,0.17009094047524345],\"xaxis\":\"x15\",\"y\":[0.586241282522509,-0.22089794130715373,-0.32977958431585386,-0.5405340776475431,-0.04877349669389779,0.17133305898484838,0.7339462271620942,-1.7541849625682326,0.38375511557610975,0.5464722105970232,0.8766556178661989,0.6253743071113597,1.6496321321064724,-0.10249437906321221,-1.8595332557304354,-0.5715638089220502,0.4540962512541975,0.7954282130636511,-0.6171071272338289,0.9411102920743672,-0.569366457259254,-1.767388870564552,0.5747861920019599,-0.02796334802597153,-1.2198724082225554,-0.18441574978108347,-0.08983485756478941,0.7827998769009209,-0.6616735120219261,-0.21427997059061274,1.1716129881809083,-1.9365676452401521,-0.10149410131838696,-0.2315074296925576,0.4333018191203166,0.06759345971896527,-0.9565589970551207,-0.19913366531592835,0.6331964735409779,0.13008037562286812,-0.18791630766850706,0.6071395142047425,-0.9420566323715552,1.4991190191191128,0.775317504035868,-0.15913932979620232,0.1510895181968772,-0.5296271622969968,-0.7197989233436392,0.11309694712602393,0.44412989477713655,-0.09403027940187994,-0.8682299237393994,1.7553823217684428,0.4005643438094378,0.597826128640621,-0.7137331780235777,0.08946368313769949,-0.6430225688837589,-1.287764150816326,0.41927884809407495,0.1308943120600146,1.4612925365780403,0.4173722049236492,-1.2898246332745469,0.12236587640394747,0.3675122286041763,-0.711997864746745,-0.35653191502630593,0.42361621822173884,0.4459568784922028,-0.42929052053717953,0.09773405326685174,-1.4684722989661918,-0.31127757815040275,-1.1450330047394817,0.7635046452857974,0.6846182203864283,0.6830606678917067,-0.23039228538683168,-0.7468894046264111,-0.40334364788009475,0.6974026863797835,0.4129473636523078,-0.3019078924747539,-0.6427034119718875,-1.0264660139234527,-0.257059610559706,-0.05721108300739811,0.5561748153861257,1.202268969030958,1.310702613250076,-0.007279985522969998,-1.127865115148052,-1.2633103084419985,-0.41207404062384906,-2.680605099876662,-0.8744459753552564,-0.8670295998657446,-0.2292315238956763],\"yaxis\":\"y15\"},{\"histfunc\":\"count\",\"histnorm\":\"\",\"marker\":{\"color\":\"rgba(128, 0, 128, 1.0)\",\"line\":{\"color\":\"#4D5663\",\"width\":1.3}},\"name\":\"D\",\"nbinsx\":10,\"opacity\":0.8,\"orientation\":\"v\",\"type\":\"histogram\",\"x\":[0.586241282522509,-0.22089794130715373,-0.32977958431585386,-0.5405340776475431,-0.04877349669389779,0.17133305898484838,0.7339462271620942,-1.7541849625682326,0.38375511557610975,0.5464722105970232,0.8766556178661989,0.6253743071113597,1.6496321321064724,-0.10249437906321221,-1.8595332557304354,-0.5715638089220502,0.4540962512541975,0.7954282130636511,-0.6171071272338289,0.9411102920743672,-0.569366457259254,-1.767388870564552,0.5747861920019599,-0.02796334802597153,-1.2198724082225554,-0.18441574978108347,-0.08983485756478941,0.7827998769009209,-0.6616735120219261,-0.21427997059061274,1.1716129881809083,-1.9365676452401521,-0.10149410131838696,-0.2315074296925576,0.4333018191203166,0.06759345971896527,-0.9565589970551207,-0.19913366531592835,0.6331964735409779,0.13008037562286812,-0.18791630766850706,0.6071395142047425,-0.9420566323715552,1.4991190191191128,0.775317504035868,-0.15913932979620232,0.1510895181968772,-0.5296271622969968,-0.7197989233436392,0.11309694712602393,0.44412989477713655,-0.09403027940187994,-0.8682299237393994,1.7553823217684428,0.4005643438094378,0.597826128640621,-0.7137331780235777,0.08946368313769949,-0.6430225688837589,-1.287764150816326,0.41927884809407495,0.1308943120600146,1.4612925365780403,0.4173722049236492,-1.2898246332745469,0.12236587640394747,0.3675122286041763,-0.711997864746745,-0.35653191502630593,0.42361621822173884,0.4459568784922028,-0.42929052053717953,0.09773405326685174,-1.4684722989661918,-0.31127757815040275,-1.1450330047394817,0.7635046452857974,0.6846182203864283,0.6830606678917067,-0.23039228538683168,-0.7468894046264111,-0.40334364788009475,0.6974026863797835,0.4129473636523078,-0.3019078924747539,-0.6427034119718875,-1.0264660139234527,-0.257059610559706,-0.05721108300739811,0.5561748153861257,1.202268969030958,1.310702613250076,-0.007279985522969998,-1.127865115148052,-1.2633103084419985,-0.41207404062384906,-2.680605099876662,-0.8744459753552564,-0.8670295998657446,-0.2292315238956763],\"xaxis\":\"x16\",\"yaxis\":\"y16\"}],                        {\"bargap\":0.02,\"legend\":{\"bgcolor\":\"#F5F6F9\",\"font\":{\"color\":\"#4D5663\"}},\"paper_bgcolor\":\"#F5F6F9\",\"plot_bgcolor\":\"#F5F6F9\",\"showlegend\":false,\"template\":{\"data\":{\"bar\":[{\"error_x\":{\"color\":\"#2a3f5f\"},\"error_y\":{\"color\":\"#2a3f5f\"},\"marker\":{\"line\":{\"color\":\"#E5ECF6\",\"width\":0.5},\"pattern\":{\"fillmode\":\"overlay\",\"size\":10,\"solidity\":0.2}},\"type\":\"bar\"}],\"barpolar\":[{\"marker\":{\"line\":{\"color\":\"#E5ECF6\",\"width\":0.5},\"pattern\":{\"fillmode\":\"overlay\",\"size\":10,\"solidity\":0.2}},\"type\":\"barpolar\"}],\"carpet\":[{\"aaxis\":{\"endlinecolor\":\"#2a3f5f\",\"gridcolor\":\"white\",\"linecolor\":\"white\",\"minorgridcolor\":\"white\",\"startlinecolor\":\"#2a3f5f\"},\"baxis\":{\"endlinecolor\":\"#2a3f5f\",\"gridcolor\":\"white\",\"linecolor\":\"white\",\"minorgridcolor\":\"white\",\"startlinecolor\":\"#2a3f5f\"},\"type\":\"carpet\"}],\"choropleth\":[{\"colorbar\":{\"outlinewidth\":0,\"ticks\":\"\"},\"type\":\"choropleth\"}],\"contour\":[{\"colorbar\":{\"outlinewidth\":0,\"ticks\":\"\"},\"colorscale\":[[0.0,\"#0d0887\"],[0.1111111111111111,\"#46039f\"],[0.2222222222222222,\"#7201a8\"],[0.3333333333333333,\"#9c179e\"],[0.4444444444444444,\"#bd3786\"],[0.5555555555555556,\"#d8576b\"],[0.6666666666666666,\"#ed7953\"],[0.7777777777777778,\"#fb9f3a\"],[0.8888888888888888,\"#fdca26\"],[1.0,\"#f0f921\"]],\"type\":\"contour\"}],\"contourcarpet\":[{\"colorbar\":{\"outlinewidth\":0,\"ticks\":\"\"},\"type\":\"contourcarpet\"}],\"heatmap\":[{\"colorbar\":{\"outlinewidth\":0,\"ticks\":\"\"},\"colorscale\":[[0.0,\"#0d0887\"],[0.1111111111111111,\"#46039f\"],[0.2222222222222222,\"#7201a8\"],[0.3333333333333333,\"#9c179e\"],[0.4444444444444444,\"#bd3786\"],[0.5555555555555556,\"#d8576b\"],[0.6666666666666666,\"#ed7953\"],[0.7777777777777778,\"#fb9f3a\"],[0.8888888888888888,\"#fdca26\"],[1.0,\"#f0f921\"]],\"type\":\"heatmap\"}],\"heatmapgl\":[{\"colorbar\":{\"outlinewidth\":0,\"ticks\":\"\"},\"colorscale\":[[0.0,\"#0d0887\"],[0.1111111111111111,\"#46039f\"],[0.2222222222222222,\"#7201a8\"],[0.3333333333333333,\"#9c179e\"],[0.4444444444444444,\"#bd3786\"],[0.5555555555555556,\"#d8576b\"],[0.6666666666666666,\"#ed7953\"],[0.7777777777777778,\"#fb9f3a\"],[0.8888888888888888,\"#fdca26\"],[1.0,\"#f0f921\"]],\"type\":\"heatmapgl\"}],\"histogram\":[{\"marker\":{\"pattern\":{\"fillmode\":\"overlay\",\"size\":10,\"solidity\":0.2}},\"type\":\"histogram\"}],\"histogram2d\":[{\"colorbar\":{\"outlinewidth\":0,\"ticks\":\"\"},\"colorscale\":[[0.0,\"#0d0887\"],[0.1111111111111111,\"#46039f\"],[0.2222222222222222,\"#7201a8\"],[0.3333333333333333,\"#9c179e\"],[0.4444444444444444,\"#bd3786\"],[0.5555555555555556,\"#d8576b\"],[0.6666666666666666,\"#ed7953\"],[0.7777777777777778,\"#fb9f3a\"],[0.8888888888888888,\"#fdca26\"],[1.0,\"#f0f921\"]],\"type\":\"histogram2d\"}],\"histogram2dcontour\":[{\"colorbar\":{\"outlinewidth\":0,\"ticks\":\"\"},\"colorscale\":[[0.0,\"#0d0887\"],[0.1111111111111111,\"#46039f\"],[0.2222222222222222,\"#7201a8\"],[0.3333333333333333,\"#9c179e\"],[0.4444444444444444,\"#bd3786\"],[0.5555555555555556,\"#d8576b\"],[0.6666666666666666,\"#ed7953\"],[0.7777777777777778,\"#fb9f3a\"],[0.8888888888888888,\"#fdca26\"],[1.0,\"#f0f921\"]],\"type\":\"histogram2dcontour\"}],\"mesh3d\":[{\"colorbar\":{\"outlinewidth\":0,\"ticks\":\"\"},\"type\":\"mesh3d\"}],\"parcoords\":[{\"line\":{\"colorbar\":{\"outlinewidth\":0,\"ticks\":\"\"}},\"type\":\"parcoords\"}],\"pie\":[{\"automargin\":true,\"type\":\"pie\"}],\"scatter\":[{\"marker\":{\"colorbar\":{\"outlinewidth\":0,\"ticks\":\"\"}},\"type\":\"scatter\"}],\"scatter3d\":[{\"line\":{\"colorbar\":{\"outlinewidth\":0,\"ticks\":\"\"}},\"marker\":{\"colorbar\":{\"outlinewidth\":0,\"ticks\":\"\"}},\"type\":\"scatter3d\"}],\"scattercarpet\":[{\"marker\":{\"colorbar\":{\"outlinewidth\":0,\"ticks\":\"\"}},\"type\":\"scattercarpet\"}],\"scattergeo\":[{\"marker\":{\"colorbar\":{\"outlinewidth\":0,\"ticks\":\"\"}},\"type\":\"scattergeo\"}],\"scattergl\":[{\"marker\":{\"colorbar\":{\"outlinewidth\":0,\"ticks\":\"\"}},\"type\":\"scattergl\"}],\"scattermapbox\":[{\"marker\":{\"colorbar\":{\"outlinewidth\":0,\"ticks\":\"\"}},\"type\":\"scattermapbox\"}],\"scatterpolar\":[{\"marker\":{\"colorbar\":{\"outlinewidth\":0,\"ticks\":\"\"}},\"type\":\"scatterpolar\"}],\"scatterpolargl\":[{\"marker\":{\"colorbar\":{\"outlinewidth\":0,\"ticks\":\"\"}},\"type\":\"scatterpolargl\"}],\"scatterternary\":[{\"marker\":{\"colorbar\":{\"outlinewidth\":0,\"ticks\":\"\"}},\"type\":\"scatterternary\"}],\"surface\":[{\"colorbar\":{\"outlinewidth\":0,\"ticks\":\"\"},\"colorscale\":[[0.0,\"#0d0887\"],[0.1111111111111111,\"#46039f\"],[0.2222222222222222,\"#7201a8\"],[0.3333333333333333,\"#9c179e\"],[0.4444444444444444,\"#bd3786\"],[0.5555555555555556,\"#d8576b\"],[0.6666666666666666,\"#ed7953\"],[0.7777777777777778,\"#fb9f3a\"],[0.8888888888888888,\"#fdca26\"],[1.0,\"#f0f921\"]],\"type\":\"surface\"}],\"table\":[{\"cells\":{\"fill\":{\"color\":\"#EBF0F8\"},\"line\":{\"color\":\"white\"}},\"header\":{\"fill\":{\"color\":\"#C8D4E3\"},\"line\":{\"color\":\"white\"}},\"type\":\"table\"}]},\"layout\":{\"annotationdefaults\":{\"arrowcolor\":\"#2a3f5f\",\"arrowhead\":0,\"arrowwidth\":1},\"autotypenumbers\":\"strict\",\"coloraxis\":{\"colorbar\":{\"outlinewidth\":0,\"ticks\":\"\"}},\"colorscale\":{\"diverging\":[[0,\"#8e0152\"],[0.1,\"#c51b7d\"],[0.2,\"#de77ae\"],[0.3,\"#f1b6da\"],[0.4,\"#fde0ef\"],[0.5,\"#f7f7f7\"],[0.6,\"#e6f5d0\"],[0.7,\"#b8e186\"],[0.8,\"#7fbc41\"],[0.9,\"#4d9221\"],[1,\"#276419\"]],\"sequential\":[[0.0,\"#0d0887\"],[0.1111111111111111,\"#46039f\"],[0.2222222222222222,\"#7201a8\"],[0.3333333333333333,\"#9c179e\"],[0.4444444444444444,\"#bd3786\"],[0.5555555555555556,\"#d8576b\"],[0.6666666666666666,\"#ed7953\"],[0.7777777777777778,\"#fb9f3a\"],[0.8888888888888888,\"#fdca26\"],[1.0,\"#f0f921\"]],\"sequentialminus\":[[0.0,\"#0d0887\"],[0.1111111111111111,\"#46039f\"],[0.2222222222222222,\"#7201a8\"],[0.3333333333333333,\"#9c179e\"],[0.4444444444444444,\"#bd3786\"],[0.5555555555555556,\"#d8576b\"],[0.6666666666666666,\"#ed7953\"],[0.7777777777777778,\"#fb9f3a\"],[0.8888888888888888,\"#fdca26\"],[1.0,\"#f0f921\"]]},\"colorway\":[\"#636efa\",\"#EF553B\",\"#00cc96\",\"#ab63fa\",\"#FFA15A\",\"#19d3f3\",\"#FF6692\",\"#B6E880\",\"#FF97FF\",\"#FECB52\"],\"font\":{\"color\":\"#2a3f5f\"},\"geo\":{\"bgcolor\":\"white\",\"lakecolor\":\"white\",\"landcolor\":\"#E5ECF6\",\"showlakes\":true,\"showland\":true,\"subunitcolor\":\"white\"},\"hoverlabel\":{\"align\":\"left\"},\"hovermode\":\"closest\",\"mapbox\":{\"style\":\"light\"},\"paper_bgcolor\":\"white\",\"plot_bgcolor\":\"#E5ECF6\",\"polar\":{\"angularaxis\":{\"gridcolor\":\"white\",\"linecolor\":\"white\",\"ticks\":\"\"},\"bgcolor\":\"#E5ECF6\",\"radialaxis\":{\"gridcolor\":\"white\",\"linecolor\":\"white\",\"ticks\":\"\"}},\"scene\":{\"xaxis\":{\"backgroundcolor\":\"#E5ECF6\",\"gridcolor\":\"white\",\"gridwidth\":2,\"linecolor\":\"white\",\"showbackground\":true,\"ticks\":\"\",\"zerolinecolor\":\"white\"},\"yaxis\":{\"backgroundcolor\":\"#E5ECF6\",\"gridcolor\":\"white\",\"gridwidth\":2,\"linecolor\":\"white\",\"showbackground\":true,\"ticks\":\"\",\"zerolinecolor\":\"white\"},\"zaxis\":{\"backgroundcolor\":\"#E5ECF6\",\"gridcolor\":\"white\",\"gridwidth\":2,\"linecolor\":\"white\",\"showbackground\":true,\"ticks\":\"\",\"zerolinecolor\":\"white\"}},\"shapedefaults\":{\"line\":{\"color\":\"#2a3f5f\"}},\"ternary\":{\"aaxis\":{\"gridcolor\":\"white\",\"linecolor\":\"white\",\"ticks\":\"\"},\"baxis\":{\"gridcolor\":\"white\",\"linecolor\":\"white\",\"ticks\":\"\"},\"bgcolor\":\"#E5ECF6\",\"caxis\":{\"gridcolor\":\"white\",\"linecolor\":\"white\",\"ticks\":\"\"}},\"title\":{\"x\":0.05},\"xaxis\":{\"automargin\":true,\"gridcolor\":\"white\",\"linecolor\":\"white\",\"ticks\":\"\",\"title\":{\"standoff\":15},\"zerolinecolor\":\"white\",\"zerolinewidth\":2},\"yaxis\":{\"automargin\":true,\"gridcolor\":\"white\",\"linecolor\":\"white\",\"ticks\":\"\",\"title\":{\"standoff\":15},\"zerolinecolor\":\"white\",\"zerolinewidth\":2}}},\"title\":{\"font\":{\"color\":\"#4D5663\"}},\"xaxis\":{\"anchor\":\"y\",\"domain\":[0.0,0.2125],\"gridcolor\":\"#E1E5ED\",\"showgrid\":false,\"tickfont\":{\"color\":\"#4D5663\"},\"title\":{\"font\":{\"color\":\"#4D5663\"},\"text\":\"\"},\"zerolinecolor\":\"#E1E5ED\"},\"xaxis10\":{\"anchor\":\"y10\",\"domain\":[0.2625,0.475],\"gridcolor\":\"#E1E5ED\",\"showgrid\":false,\"tickfont\":{\"color\":\"#4D5663\"},\"title\":{\"font\":{\"color\":\"#4D5663\"},\"text\":\"\"},\"zerolinecolor\":\"#E1E5ED\"},\"xaxis11\":{\"anchor\":\"y11\",\"domain\":[0.525,0.7375],\"gridcolor\":\"#E1E5ED\",\"showgrid\":false,\"tickfont\":{\"color\":\"#4D5663\"},\"title\":{\"font\":{\"color\":\"#4D5663\"},\"text\":\"\"},\"zerolinecolor\":\"#E1E5ED\"},\"xaxis12\":{\"anchor\":\"y12\",\"domain\":[0.7875,1.0],\"gridcolor\":\"#E1E5ED\",\"showgrid\":false,\"tickfont\":{\"color\":\"#4D5663\"},\"title\":{\"font\":{\"color\":\"#4D5663\"},\"text\":\"\"},\"zerolinecolor\":\"#E1E5ED\"},\"xaxis13\":{\"anchor\":\"y13\",\"domain\":[0.0,0.2125],\"gridcolor\":\"#E1E5ED\",\"showgrid\":false,\"tickfont\":{\"color\":\"#4D5663\"},\"title\":{\"font\":{\"color\":\"#4D5663\"},\"text\":\"\"},\"zerolinecolor\":\"#E1E5ED\"},\"xaxis14\":{\"anchor\":\"y14\",\"domain\":[0.2625,0.475],\"gridcolor\":\"#E1E5ED\",\"showgrid\":false,\"tickfont\":{\"color\":\"#4D5663\"},\"title\":{\"font\":{\"color\":\"#4D5663\"},\"text\":\"\"},\"zerolinecolor\":\"#E1E5ED\"},\"xaxis15\":{\"anchor\":\"y15\",\"domain\":[0.525,0.7375],\"gridcolor\":\"#E1E5ED\",\"showgrid\":false,\"tickfont\":{\"color\":\"#4D5663\"},\"title\":{\"font\":{\"color\":\"#4D5663\"},\"text\":\"\"},\"zerolinecolor\":\"#E1E5ED\"},\"xaxis16\":{\"anchor\":\"y16\",\"domain\":[0.7875,1.0],\"gridcolor\":\"#E1E5ED\",\"showgrid\":false,\"tickfont\":{\"color\":\"#4D5663\"},\"title\":{\"font\":{\"color\":\"#4D5663\"},\"text\":\"\"},\"zerolinecolor\":\"#E1E5ED\"},\"xaxis2\":{\"anchor\":\"y2\",\"domain\":[0.2625,0.475],\"gridcolor\":\"#E1E5ED\",\"showgrid\":false,\"tickfont\":{\"color\":\"#4D5663\"},\"title\":{\"font\":{\"color\":\"#4D5663\"},\"text\":\"\"},\"zerolinecolor\":\"#E1E5ED\"},\"xaxis3\":{\"anchor\":\"y3\",\"domain\":[0.525,0.7375],\"gridcolor\":\"#E1E5ED\",\"showgrid\":false,\"tickfont\":{\"color\":\"#4D5663\"},\"title\":{\"font\":{\"color\":\"#4D5663\"},\"text\":\"\"},\"zerolinecolor\":\"#E1E5ED\"},\"xaxis4\":{\"anchor\":\"y4\",\"domain\":[0.7875,1.0],\"gridcolor\":\"#E1E5ED\",\"showgrid\":false,\"tickfont\":{\"color\":\"#4D5663\"},\"title\":{\"font\":{\"color\":\"#4D5663\"},\"text\":\"\"},\"zerolinecolor\":\"#E1E5ED\"},\"xaxis5\":{\"anchor\":\"y5\",\"domain\":[0.0,0.2125],\"gridcolor\":\"#E1E5ED\",\"showgrid\":false,\"tickfont\":{\"color\":\"#4D5663\"},\"title\":{\"font\":{\"color\":\"#4D5663\"},\"text\":\"\"},\"zerolinecolor\":\"#E1E5ED\"},\"xaxis6\":{\"anchor\":\"y6\",\"domain\":[0.2625,0.475],\"gridcolor\":\"#E1E5ED\",\"showgrid\":false,\"tickfont\":{\"color\":\"#4D5663\"},\"title\":{\"font\":{\"color\":\"#4D5663\"},\"text\":\"\"},\"zerolinecolor\":\"#E1E5ED\"},\"xaxis7\":{\"anchor\":\"y7\",\"domain\":[0.525,0.7375],\"gridcolor\":\"#E1E5ED\",\"showgrid\":false,\"tickfont\":{\"color\":\"#4D5663\"},\"title\":{\"font\":{\"color\":\"#4D5663\"},\"text\":\"\"},\"zerolinecolor\":\"#E1E5ED\"},\"xaxis8\":{\"anchor\":\"y8\",\"domain\":[0.7875,1.0],\"gridcolor\":\"#E1E5ED\",\"showgrid\":false,\"tickfont\":{\"color\":\"#4D5663\"},\"title\":{\"font\":{\"color\":\"#4D5663\"},\"text\":\"\"},\"zerolinecolor\":\"#E1E5ED\"},\"xaxis9\":{\"anchor\":\"y9\",\"domain\":[0.0,0.2125],\"gridcolor\":\"#E1E5ED\",\"showgrid\":false,\"tickfont\":{\"color\":\"#4D5663\"},\"title\":{\"font\":{\"color\":\"#4D5663\"},\"text\":\"\"},\"zerolinecolor\":\"#E1E5ED\"},\"yaxis\":{\"anchor\":\"x\",\"domain\":[0.8025,1.0],\"gridcolor\":\"#E1E5ED\",\"showgrid\":false,\"tickfont\":{\"color\":\"#4D5663\"},\"title\":{\"font\":{\"color\":\"#4D5663\"},\"text\":\"\"},\"zerolinecolor\":\"#E1E5ED\"},\"yaxis10\":{\"anchor\":\"x10\",\"domain\":[0.2675,0.465],\"gridcolor\":\"#E1E5ED\",\"showgrid\":false,\"tickfont\":{\"color\":\"#4D5663\"},\"title\":{\"font\":{\"color\":\"#4D5663\"},\"text\":\"\"},\"zerolinecolor\":\"#E1E5ED\"},\"yaxis11\":{\"anchor\":\"x11\",\"domain\":[0.2675,0.465],\"gridcolor\":\"#E1E5ED\",\"showgrid\":false,\"tickfont\":{\"color\":\"#4D5663\"},\"title\":{\"font\":{\"color\":\"#4D5663\"},\"text\":\"\"},\"zerolinecolor\":\"#E1E5ED\"},\"yaxis12\":{\"anchor\":\"x12\",\"domain\":[0.2675,0.465],\"gridcolor\":\"#E1E5ED\",\"showgrid\":false,\"tickfont\":{\"color\":\"#4D5663\"},\"title\":{\"font\":{\"color\":\"#4D5663\"},\"text\":\"\"},\"zerolinecolor\":\"#E1E5ED\"},\"yaxis13\":{\"anchor\":\"x13\",\"domain\":[0.0,0.1975],\"gridcolor\":\"#E1E5ED\",\"showgrid\":false,\"tickfont\":{\"color\":\"#4D5663\"},\"title\":{\"font\":{\"color\":\"#4D5663\"},\"text\":\"\"},\"zerolinecolor\":\"#E1E5ED\"},\"yaxis14\":{\"anchor\":\"x14\",\"domain\":[0.0,0.1975],\"gridcolor\":\"#E1E5ED\",\"showgrid\":false,\"tickfont\":{\"color\":\"#4D5663\"},\"title\":{\"font\":{\"color\":\"#4D5663\"},\"text\":\"\"},\"zerolinecolor\":\"#E1E5ED\"},\"yaxis15\":{\"anchor\":\"x15\",\"domain\":[0.0,0.1975],\"gridcolor\":\"#E1E5ED\",\"showgrid\":false,\"tickfont\":{\"color\":\"#4D5663\"},\"title\":{\"font\":{\"color\":\"#4D5663\"},\"text\":\"\"},\"zerolinecolor\":\"#E1E5ED\"},\"yaxis16\":{\"anchor\":\"x16\",\"domain\":[0.0,0.1975],\"gridcolor\":\"#E1E5ED\",\"showgrid\":false,\"tickfont\":{\"color\":\"#4D5663\"},\"title\":{\"font\":{\"color\":\"#4D5663\"},\"text\":\"\"},\"zerolinecolor\":\"#E1E5ED\"},\"yaxis2\":{\"anchor\":\"x2\",\"domain\":[0.8025,1.0],\"gridcolor\":\"#E1E5ED\",\"showgrid\":false,\"tickfont\":{\"color\":\"#4D5663\"},\"title\":{\"font\":{\"color\":\"#4D5663\"},\"text\":\"\"},\"zerolinecolor\":\"#E1E5ED\"},\"yaxis3\":{\"anchor\":\"x3\",\"domain\":[0.8025,1.0],\"gridcolor\":\"#E1E5ED\",\"showgrid\":false,\"tickfont\":{\"color\":\"#4D5663\"},\"title\":{\"font\":{\"color\":\"#4D5663\"},\"text\":\"\"},\"zerolinecolor\":\"#E1E5ED\"},\"yaxis4\":{\"anchor\":\"x4\",\"domain\":[0.8025,1.0],\"gridcolor\":\"#E1E5ED\",\"showgrid\":false,\"tickfont\":{\"color\":\"#4D5663\"},\"title\":{\"font\":{\"color\":\"#4D5663\"},\"text\":\"\"},\"zerolinecolor\":\"#E1E5ED\"},\"yaxis5\":{\"anchor\":\"x5\",\"domain\":[0.535,0.7325],\"gridcolor\":\"#E1E5ED\",\"showgrid\":false,\"tickfont\":{\"color\":\"#4D5663\"},\"title\":{\"font\":{\"color\":\"#4D5663\"},\"text\":\"\"},\"zerolinecolor\":\"#E1E5ED\"},\"yaxis6\":{\"anchor\":\"x6\",\"domain\":[0.535,0.7325],\"gridcolor\":\"#E1E5ED\",\"showgrid\":false,\"tickfont\":{\"color\":\"#4D5663\"},\"title\":{\"font\":{\"color\":\"#4D5663\"},\"text\":\"\"},\"zerolinecolor\":\"#E1E5ED\"},\"yaxis7\":{\"anchor\":\"x7\",\"domain\":[0.535,0.7325],\"gridcolor\":\"#E1E5ED\",\"showgrid\":false,\"tickfont\":{\"color\":\"#4D5663\"},\"title\":{\"font\":{\"color\":\"#4D5663\"},\"text\":\"\"},\"zerolinecolor\":\"#E1E5ED\"},\"yaxis8\":{\"anchor\":\"x8\",\"domain\":[0.535,0.7325],\"gridcolor\":\"#E1E5ED\",\"showgrid\":false,\"tickfont\":{\"color\":\"#4D5663\"},\"title\":{\"font\":{\"color\":\"#4D5663\"},\"text\":\"\"},\"zerolinecolor\":\"#E1E5ED\"},\"yaxis9\":{\"anchor\":\"x9\",\"domain\":[0.2675,0.465],\"gridcolor\":\"#E1E5ED\",\"showgrid\":false,\"tickfont\":{\"color\":\"#4D5663\"},\"title\":{\"font\":{\"color\":\"#4D5663\"},\"text\":\"\"},\"zerolinecolor\":\"#E1E5ED\"}},                        {\"showLink\": true, \"linkText\": \"Export to plot.ly\", \"plotlyServerURL\": \"https://plot.ly\", \"responsive\": true}                    ).then(function(){\n",
       "                            \n",
       "var gd = document.getElementById('e7994913-bc6d-4579-b2e9-afa56522823a');\n",
       "var x = new MutationObserver(function (mutations, observer) {{\n",
       "        var display = window.getComputedStyle(gd).display;\n",
       "        if (!display || display === 'none') {{\n",
       "            console.log([gd, 'removed!']);\n",
       "            Plotly.purge(gd);\n",
       "            observer.disconnect();\n",
       "        }}\n",
       "}});\n",
       "\n",
       "// Listen for the removal of the full notebook cells\n",
       "var notebookContainer = gd.closest('#notebook-container');\n",
       "if (notebookContainer) {{\n",
       "    x.observe(notebookContainer, {childList: true});\n",
       "}}\n",
       "\n",
       "// Listen for the clearing of the current output cell\n",
       "var outputEl = gd.closest('.output');\n",
       "if (outputEl) {{\n",
       "    x.observe(outputEl, {childList: true});\n",
       "}}\n",
       "\n",
       "                        })                };                });            </script>        </div>"
      ]
     },
     "metadata": {},
     "output_type": "display_data"
    }
   ],
   "source": [
    "df1.scatter_matrix()"
   ]
  },
  {
   "cell_type": "code",
   "execution_count": null,
   "id": "01c79cd1",
   "metadata": {},
   "outputs": [],
   "source": []
  },
  {
   "cell_type": "code",
   "execution_count": null,
   "id": "b1fdb3f6",
   "metadata": {},
   "outputs": [],
   "source": []
  },
  {
   "cell_type": "code",
   "execution_count": null,
   "id": "e92a5911",
   "metadata": {},
   "outputs": [],
   "source": []
  },
  {
   "cell_type": "code",
   "execution_count": null,
   "id": "60dca9bb",
   "metadata": {},
   "outputs": [],
   "source": []
  },
  {
   "cell_type": "code",
   "execution_count": null,
   "id": "c3bbbf16",
   "metadata": {},
   "outputs": [],
   "source": []
  },
  {
   "cell_type": "code",
   "execution_count": null,
   "id": "4b79f15d",
   "metadata": {},
   "outputs": [],
   "source": []
  },
  {
   "cell_type": "code",
   "execution_count": null,
   "id": "7f508e75",
   "metadata": {},
   "outputs": [],
   "source": []
  },
  {
   "cell_type": "code",
   "execution_count": null,
   "id": "0f6ebd29",
   "metadata": {},
   "outputs": [],
   "source": []
  },
  {
   "cell_type": "code",
   "execution_count": null,
   "id": "b1aca256",
   "metadata": {},
   "outputs": [],
   "source": []
  },
  {
   "cell_type": "code",
   "execution_count": null,
   "id": "b04ac16c",
   "metadata": {},
   "outputs": [],
   "source": []
  },
  {
   "cell_type": "code",
   "execution_count": null,
   "id": "cba3796f",
   "metadata": {},
   "outputs": [],
   "source": []
  },
  {
   "cell_type": "code",
   "execution_count": null,
   "id": "7c63f5d6",
   "metadata": {},
   "outputs": [],
   "source": []
  },
  {
   "cell_type": "code",
   "execution_count": null,
   "id": "9edc0227",
   "metadata": {},
   "outputs": [],
   "source": []
  },
  {
   "cell_type": "code",
   "execution_count": null,
   "id": "e4e71afe",
   "metadata": {},
   "outputs": [],
   "source": []
  },
  {
   "cell_type": "code",
   "execution_count": null,
   "id": "dfb8d2f2",
   "metadata": {},
   "outputs": [],
   "source": []
  },
  {
   "cell_type": "code",
   "execution_count": null,
   "id": "7a1929fe",
   "metadata": {},
   "outputs": [],
   "source": []
  },
  {
   "cell_type": "code",
   "execution_count": null,
   "id": "2c6774b1",
   "metadata": {},
   "outputs": [],
   "source": []
  },
  {
   "cell_type": "code",
   "execution_count": null,
   "id": "d28a7ccf",
   "metadata": {},
   "outputs": [],
   "source": []
  },
  {
   "cell_type": "code",
   "execution_count": null,
   "id": "aab4f188",
   "metadata": {},
   "outputs": [],
   "source": []
  },
  {
   "cell_type": "code",
   "execution_count": null,
   "id": "799466fe",
   "metadata": {},
   "outputs": [],
   "source": []
  },
  {
   "cell_type": "code",
   "execution_count": null,
   "id": "acf27183",
   "metadata": {},
   "outputs": [],
   "source": []
  },
  {
   "cell_type": "code",
   "execution_count": null,
   "id": "499ef7c3",
   "metadata": {},
   "outputs": [],
   "source": []
  },
  {
   "cell_type": "code",
   "execution_count": null,
   "id": "0edef2c0",
   "metadata": {},
   "outputs": [],
   "source": []
  }
 ],
 "metadata": {
  "kernelspec": {
   "display_name": "Python 3",
   "language": "python",
   "name": "python3"
  },
  "language_info": {
   "codemirror_mode": {
    "name": "ipython",
    "version": 3
   },
   "file_extension": ".py",
   "mimetype": "text/x-python",
   "name": "python",
   "nbconvert_exporter": "python",
   "pygments_lexer": "ipython3",
   "version": "3.8.8"
  }
 },
 "nbformat": 4,
 "nbformat_minor": 5
}
