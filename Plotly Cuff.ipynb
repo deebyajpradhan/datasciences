{
 "cells": [
  {
   "cell_type": "code",
   "execution_count": 1,
   "id": "3e93a77e",
   "metadata": {},
   "outputs": [],
   "source": [
    "import pandas as pd\n",
    "%matplotlib inline"
   ]
  },
  {
   "cell_type": "code",
   "execution_count": 2,
   "id": "2e9c1254",
   "metadata": {},
   "outputs": [],
   "source": [
    "import numpy as np"
   ]
  },
  {
   "cell_type": "code",
   "execution_count": 3,
   "id": "0ce2b78d",
   "metadata": {},
   "outputs": [],
   "source": [
    "import chart_studio.plotly as py"
   ]
  },
  {
   "cell_type": "code",
   "execution_count": 4,
   "id": "5002385f",
   "metadata": {},
   "outputs": [],
   "source": [
    "from plotly import __version__"
   ]
  },
  {
   "cell_type": "code",
   "execution_count": 5,
   "id": "fd2d9aaf",
   "metadata": {},
   "outputs": [
    {
     "name": "stdout",
     "output_type": "stream",
     "text": [
      "5.3.1\n"
     ]
    }
   ],
   "source": [
    "print(__version__)"
   ]
  },
  {
   "cell_type": "code",
   "execution_count": 6,
   "id": "604926d9",
   "metadata": {},
   "outputs": [],
   "source": [
    "import cufflinks as cf"
   ]
  },
  {
   "cell_type": "code",
   "execution_count": 7,
   "id": "13dafad5",
   "metadata": {},
   "outputs": [],
   "source": [
    "from plotly.offline import download_plotlyjs,init_notebook_mode,plot,iplot"
   ]
  },
  {
   "cell_type": "code",
   "execution_count": 8,
   "id": "8a3fb235",
   "metadata": {},
   "outputs": [
    {
     "data": {
      "text/html": [
       "        <script type=\"text/javascript\">\n",
       "        window.PlotlyConfig = {MathJaxConfig: 'local'};\n",
       "        if (window.MathJax) {MathJax.Hub.Config({SVG: {font: \"STIX-Web\"}});}\n",
       "        if (typeof require !== 'undefined') {\n",
       "        require.undef(\"plotly\");\n",
       "        requirejs.config({\n",
       "            paths: {\n",
       "                'plotly': ['https://cdn.plot.ly/plotly-2.4.2.min']\n",
       "            }\n",
       "        });\n",
       "        require(['plotly'], function(Plotly) {\n",
       "            window._Plotly = Plotly;\n",
       "        });\n",
       "        }\n",
       "        </script>\n",
       "        "
      ]
     },
     "metadata": {},
     "output_type": "display_data"
    }
   ],
   "source": [
    "init_notebook_mode(connected=True) #this connects js to notebook"
   ]
  },
  {
   "cell_type": "code",
   "execution_count": 9,
   "id": "b52d0b11",
   "metadata": {},
   "outputs": [
    {
     "data": {
      "text/html": [
       "        <script type=\"text/javascript\">\n",
       "        window.PlotlyConfig = {MathJaxConfig: 'local'};\n",
       "        if (window.MathJax) {MathJax.Hub.Config({SVG: {font: \"STIX-Web\"}});}\n",
       "        if (typeof require !== 'undefined') {\n",
       "        require.undef(\"plotly\");\n",
       "        requirejs.config({\n",
       "            paths: {\n",
       "                'plotly': ['https://cdn.plot.ly/plotly-2.4.2.min']\n",
       "            }\n",
       "        });\n",
       "        require(['plotly'], function(Plotly) {\n",
       "            window._Plotly = Plotly;\n",
       "        });\n",
       "        }\n",
       "        </script>\n",
       "        "
      ]
     },
     "metadata": {},
     "output_type": "display_data"
    }
   ],
   "source": [
    "#plotly essentially connects pandas and python to the interactive js library\n",
    "cf.go_offline() #this allows to use cufflinks offline"
   ]
  },
  {
   "cell_type": "code",
   "execution_count": 10,
   "id": "af6d40e1",
   "metadata": {},
   "outputs": [],
   "source": [
    "#Data\n",
    "df1=pd.DataFrame(np.random.randn(100,4),columns='A B C D'.split())"
   ]
  },
  {
   "cell_type": "code",
   "execution_count": 11,
   "id": "5d0221f4",
   "metadata": {},
   "outputs": [
    {
     "data": {
      "text/html": [
       "<div>\n",
       "<style scoped>\n",
       "    .dataframe tbody tr th:only-of-type {\n",
       "        vertical-align: middle;\n",
       "    }\n",
       "\n",
       "    .dataframe tbody tr th {\n",
       "        vertical-align: top;\n",
       "    }\n",
       "\n",
       "    .dataframe thead th {\n",
       "        text-align: right;\n",
       "    }\n",
       "</style>\n",
       "<table border=\"1\" class=\"dataframe\">\n",
       "  <thead>\n",
       "    <tr style=\"text-align: right;\">\n",
       "      <th></th>\n",
       "      <th>A</th>\n",
       "      <th>B</th>\n",
       "      <th>C</th>\n",
       "      <th>D</th>\n",
       "    </tr>\n",
       "  </thead>\n",
       "  <tbody>\n",
       "    <tr>\n",
       "      <th>0</th>\n",
       "      <td>-1.025650</td>\n",
       "      <td>-0.085207</td>\n",
       "      <td>-0.893645</td>\n",
       "      <td>-0.254758</td>\n",
       "    </tr>\n",
       "    <tr>\n",
       "      <th>1</th>\n",
       "      <td>-0.287106</td>\n",
       "      <td>-0.542835</td>\n",
       "      <td>-0.794700</td>\n",
       "      <td>1.715392</td>\n",
       "    </tr>\n",
       "    <tr>\n",
       "      <th>2</th>\n",
       "      <td>-0.612664</td>\n",
       "      <td>-0.922968</td>\n",
       "      <td>-0.664197</td>\n",
       "      <td>-0.449260</td>\n",
       "    </tr>\n",
       "    <tr>\n",
       "      <th>3</th>\n",
       "      <td>-1.859704</td>\n",
       "      <td>-1.137384</td>\n",
       "      <td>0.108548</td>\n",
       "      <td>0.381712</td>\n",
       "    </tr>\n",
       "    <tr>\n",
       "      <th>4</th>\n",
       "      <td>-0.956643</td>\n",
       "      <td>-0.599743</td>\n",
       "      <td>-0.541937</td>\n",
       "      <td>-0.953918</td>\n",
       "    </tr>\n",
       "  </tbody>\n",
       "</table>\n",
       "</div>"
      ],
      "text/plain": [
       "          A         B         C         D\n",
       "0 -1.025650 -0.085207 -0.893645 -0.254758\n",
       "1 -0.287106 -0.542835 -0.794700  1.715392\n",
       "2 -0.612664 -0.922968 -0.664197 -0.449260\n",
       "3 -1.859704 -1.137384  0.108548  0.381712\n",
       "4 -0.956643 -0.599743 -0.541937 -0.953918"
      ]
     },
     "execution_count": 11,
     "metadata": {},
     "output_type": "execute_result"
    }
   ],
   "source": [
    "df1.head()"
   ]
  },
  {
   "cell_type": "code",
   "execution_count": 12,
   "id": "7336c9c1",
   "metadata": {},
   "outputs": [
    {
     "data": {
      "text/html": [
       "<div>\n",
       "<style scoped>\n",
       "    .dataframe tbody tr th:only-of-type {\n",
       "        vertical-align: middle;\n",
       "    }\n",
       "\n",
       "    .dataframe tbody tr th {\n",
       "        vertical-align: top;\n",
       "    }\n",
       "\n",
       "    .dataframe thead th {\n",
       "        text-align: right;\n",
       "    }\n",
       "</style>\n",
       "<table border=\"1\" class=\"dataframe\">\n",
       "  <thead>\n",
       "    <tr style=\"text-align: right;\">\n",
       "      <th></th>\n",
       "      <th>Category</th>\n",
       "      <th>Values</th>\n",
       "    </tr>\n",
       "  </thead>\n",
       "  <tbody>\n",
       "    <tr>\n",
       "      <th>0</th>\n",
       "      <td>A</td>\n",
       "      <td>32</td>\n",
       "    </tr>\n",
       "    <tr>\n",
       "      <th>1</th>\n",
       "      <td>B</td>\n",
       "      <td>43</td>\n",
       "    </tr>\n",
       "    <tr>\n",
       "      <th>2</th>\n",
       "      <td>C</td>\n",
       "      <td>50</td>\n",
       "    </tr>\n",
       "  </tbody>\n",
       "</table>\n",
       "</div>"
      ],
      "text/plain": [
       "  Category  Values\n",
       "0        A      32\n",
       "1        B      43\n",
       "2        C      50"
      ]
     },
     "execution_count": 12,
     "metadata": {},
     "output_type": "execute_result"
    }
   ],
   "source": [
    "df2=pd.DataFrame({'Category':['A','B','C'],'Values':[32,43,50]})\n",
    "df2"
   ]
  },
  {
   "cell_type": "code",
   "execution_count": 13,
   "id": "eb2f6608",
   "metadata": {},
   "outputs": [
    {
     "data": {
      "text/plain": [
       "<AxesSubplot:>"
      ]
     },
     "execution_count": 13,
     "metadata": {},
     "output_type": "execute_result"
    },
    {
     "data": {
      "image/png": "[encoded data removed]",
      "text/plain": [
       "<Figure size 432x288 with 1 Axes>"
      ]
     },
     "metadata": {
      "needs_background": "light"
     },
     "output_type": "display_data"
    }
   ],
   "source": [
    "df1.plot()"
   ]
  },
  {
   "cell_type": "code",
   "execution_count": 14,
   "id": "18a63ac7",
   "metadata": {},
   "outputs": [
    {
     "data": {
      "application/vnd.plotly.v1+json": {
       "config": {
        "linkText": "Export to plot.ly",
        "plotlyServerURL": "https://plot.ly",
        "showLink": true
       },
       "data": [
        {
         "line": {
          "color": "rgba(255, 153, 51, 1.0)",
          "dash": "solid",
          "shape": "linear",
          "width": 1.3
         },
         "mode": "lines",
         "name": "A",
         "text": "",
         "type": "scatter",
         "x": [
          0,
          1,
          2,
          3,
          4,
          5,
          6,
          7,
          8,
          9,
          10,
          11,
          12,
          13,
          14,
          15,
          16,
          17,
          18,
          19,
          20,
          21,
          22,
          23,
          24,
          25,
          26,
          27,
          28,
          29,
          30,
          31,
          32,
          33,
          34,
          35,
          36,
          37,
          38,
          39,
          40,
          41,
          42,
          43,
          44,
          45,
          46,
          47,
          48,
          49,
          50,
          51,
          52,
          53,
          54,
          55,
          56,
          57,
          58,
          59,
          60,
          61,
          62,
          63,
          64,
          65,
          66,
          67,
          68,
          69,
          70,
          71,
          72,
          73,
          74,
          75,
          76,
          77,
          78,
          79,
          80,
          81,
          82,
          83,
          84,
          85,
          86,
          87,
          88,
          89,
          90,
          91,
          92,
          93,
          94,
          95,
          96,
          97,
          98,
          99
         ],
         "y": [
          -1.0256496621618938,
          -0.287105672454455,
          -0.6126639634228842,
          -1.8597037893552084,
          -0.9566427708642816,
          -0.22859819369550846,
          -0.4793812465302499,
          -2.4903951825038813,
          0.6035392131290644,
          2.677096068539839,
          0.5624731248787744,
          0.6222528642358222,
          -0.8490252514473418,
          -0.548810215060859,
          -0.5441384236153484,
          -2.5149406977090956,
          -0.3333675628721594,
          -1.245999584290874,
          -0.7903534761881433,
          1.5942982357052238,
          -1.5430176620588751,
          -0.13089543216082566,
          0.6700435896476531,
          -0.6069714026860633,
          1.2123405058155519,
          0.3749006858232452,
          -0.009946020164863893,
          1.5073145491676003,
          0.5699235250463723,
          0.7398952783904557,
          -1.1036200331677495,
          -0.29057344258650386,
          -1.7712973637365244,
          -0.389337166193235,
          0.3602812720007109,
          1.2395176372632817,
          -0.15738519218783073,
          -0.5722716346763621,
          0.07426592847210023,
          0.5334310013393081,
          1.006867506307998,
          -0.7966987716444317,
          -0.6176020520570332,
          -0.13744267022751766,
          0.7863067739194248,
          -1.194862481983797,
          -0.769640861846518,
          -2.122468731579507,
          -0.7632481255170883,
          -1.1025826503717449,
          -1.4045051468002292,
          0.8961136540172652,
          -1.0710974125608013,
          0.15498772074028588,
          1.4859884020677092,
          -0.577619136840705,
          1.0070183885795967,
          0.5852939462271314,
          0.8324944714535736,
          -0.5978250831419247,
          -1.178038718496559,
          3.5635564719893926,
          0.2949200815314698,
          -0.4067784379393906,
          1.787379881681812,
          -0.6804979122610798,
          1.0624202313096711,
          0.30189649555208004,
          -1.3803836409834225,
          1.8851095843009085,
          -0.25984318725201777,
          2.5727962929003705,
          -1.0745228643283593,
          0.24764449226937535,
          0.6818166884272487,
          -0.02858693606250979,
          0.38039070767124006,
          -0.4321678825504317,
          -1.3169608985732824,
          1.0446582585781277,
          1.8480262263356928,
          -0.4532527549832854,
          0.2706580650625444,
          -0.22665173044390874,
          0.05181115815723766,
          -0.5417283794399212,
          1.1166506320083285,
          -0.14254506526142394,
          0.8459633017895346,
          -2.5397751668382043,
          -0.5552784592316042,
          -0.4822945755268403,
          0.12701578635685654,
          0.7148797761841683,
          -2.038555956140452,
          -1.994346917296289,
          2.630091203316942,
          -1.303775711537322,
          -1.1227860545476014,
          0.6671696461846212
         ]
        },
        {
         "line": {
          "color": "rgba(55, 128, 191, 1.0)",
          "dash": "solid",
          "shape": "linear",
          "width": 1.3
         },
         "mode": "lines",
         "name": "B",
         "text": "",
         "type": "scatter",
         "x": [
          0,
          1,
          2,
          3,
          4,
          5,
          6,
          7,
          8,
          9,
          10,
          11,
          12,
          13,
          14,
          15,
          16,
          17,
          18,
          19,
          20,
          21,
          22,
          23,
          24,
          25,
          26,
          27,
          28,
          29,
          30,
          31,
          32,
          33,
          34,
          35,
          36,
          37,
          38,
          39,
          40,
          41,
          42,
          43,
          44,
          45,
          46,
          47,
          48,
          49,
          50,
          51,
          52,
          53,
          54,
          55,
          56,
          57,
          58,
          59,
          60,
          61,
          62,
          63,
          64,
          65,
          66,
          67,
          68,
          69,
          70,
          71,
          72,
          73,
          74,
          75,
          76,
          77,
          78,
          79,
          80,
          81,
          82,
          83,
          84,
          85,
          86,
          87,
          88,
          89,
          90,
          91,
          92,
          93,
          94,
          95,
          96,
          97,
          98,
          99
         ],
         "y": [
          -0.08520702370665945,
          -0.5428353896137872,
          -0.9229682894210636,
          -1.1373838493074757,
          -0.59974338941446,
          -0.6226775282171854,
          -0.6909488674104681,
          -0.6429884712883694,
          -0.763829818415618,
          1.9126612513514099,
          0.5051946942444656,
          1.1534796814020114,
          -1.4973541967185586,
          -1.1603641595539111,
          1.2089092230741885,
          -1.2866488766091513,
          0.6253039088147416,
          0.09943432806814738,
          -1.81878967090492,
          0.45454932869301284,
          -1.0661959002998078,
          -0.45226231295844893,
          0.502073890766179,
          1.360000850818429,
          1.576199232879038,
          -0.991354458568695,
          -0.41864922052129755,
          -0.27693294224574005,
          -1.4369765922877695,
          -0.4564622304795268,
          -0.543033343656325,
          -0.796411024933017,
          -0.6674501440461106,
          -0.4083371687249216,
          -0.9477198563372072,
          0.17176129717986716,
          0.4348243846709589,
          0.29771223214238673,
          0.26427765803321684,
          -0.8363995101281714,
          0.8823759134303497,
          0.905607194137671,
          -0.5565870945944663,
          -0.41972347347737227,
          -1.9249329386407084,
          0.6295212818429051,
          0.8028696678842703,
          -0.9588753331328411,
          -2.0406461185745655,
          0.5798060382596439,
          -0.7415515925609483,
          -0.25876903380250166,
          2.182261418702065,
          1.0229115282733865,
          1.294722395518006,
          0.3884114484562883,
          -2.2263153739917003,
          -0.6268318814354596,
          -1.6025381888476122,
          -1.0045768452368167,
          -1.157463102824297,
          -0.5838177334890376,
          0.32452522809203876,
          -0.7419037873420108,
          0.8579172439573104,
          -1.5878134298301179,
          -0.21031196661969556,
          0.5675315039804291,
          -0.3621359496459766,
          0.32448366104306103,
          0.19420872288635715,
          -2.597531208936153,
          0.04676148891109547,
          -0.17483040082085477,
          -0.2621860092876313,
          -1.045483666627226,
          0.050234493136657045,
          -0.05791781576786074,
          0.513050713788694,
          -1.6255212702788666,
          -1.5156077636707201,
          -1.9785169493256909,
          -1.9490945331143803,
          -1.0806817557769284,
          1.6839128089017628,
          0.6076703250867478,
          -0.9721863273679423,
          0.6347401000811329,
          1.1733829018513646,
          2.481087579855182,
          0.7055191896422903,
          -1.0860434878294678,
          1.5917538490464633,
          0.257385934981979,
          -1.9815757748839793,
          -0.2840951440640914,
          -1.295585170698604,
          -0.3272390968001948,
          -0.7705741622343572,
          -0.12028512029356135
         ]
        },
        {
         "line": {
          "color": "rgba(50, 171, 96, 1.0)",
          "dash": "solid",
          "shape": "linear",
          "width": 1.3
         },
         "mode": "lines",
         "name": "C",
         "text": "",
         "type": "scatter",
         "x": [
          0,
          1,
          2,
          3,
          4,
          5,
          6,
          7,
          8,
          9,
          10,
          11,
          12,
          13,
          14,
          15,
          16,
          17,
          18,
          19,
          20,
          21,
          22,
          23,
          24,
          25,
          26,
          27,
          28,
          29,
          30,
          31,
          32,
          33,
          34,
          35,
          36,
          37,
          38,
          39,
          40,
          41,
          42,
          43,
          44,
          45,
          46,
          47,
          48,
          49,
          50,
          51,
          52,
          53,
          54,
          55,
          56,
          57,
          58,
          59,
          60,
          61,
          62,
          63,
          64,
          65,
          66,
          67,
          68,
          69,
          70,
          71,
          72,
          73,
          74,
          75,
          76,
          77,
          78,
          79,
          80,
          81,
          82,
          83,
          84,
          85,
          86,
          87,
          88,
          89,
          90,
          91,
          92,
          93,
          94,
          95,
          96,
          97,
          98,
          99
         ],
         "y": [
          -0.8936446390927574,
          -0.7946997115803555,
          -0.6641970253019951,
          0.10854762736244102,
          -0.5419366081440622,
          0.7347620301138176,
          1.211577767882975,
          -0.0073492529509151736,
          -0.8905222782055254,
          -0.20895947355587638,
          0.7216072090728042,
          0.7471611657676913,
          -1.857883654159354,
          1.5399644795570173,
          -2.1114706039932893,
          -0.27869828127472385,
          0.4108123490013363,
          0.6287474350771571,
          -0.045922216805762375,
          0.08305344366670474,
          -0.6327668276271052,
          2.104370421985547,
          0.8505626985666442,
          1.1368432936763215,
          0.046150979735368726,
          1.4399395142187927,
          -0.2191327979192292,
          -1.6245975976546034,
          1.2380609013958852,
          1.2869929141055805,
          0.2112601112189276,
          0.03577833563509893,
          0.04228057754471103,
          -0.18367568953869837,
          -0.058366605746244,
          1.2802015661999784,
          -0.34082159165414005,
          1.7581433100657584,
          0.9283819196486757,
          1.1695835151776708,
          0.0881061999660237,
          -0.046070216802679864,
          0.21954034544068105,
          1.6054149958236246,
          0.566294282764027,
          -0.4700588447800426,
          -0.8032406492975612,
          1.1257873036720174,
          -0.6327776781173501,
          -0.7196055061238562,
          2.2772966607591485,
          -1.7662618133492722,
          -0.8105273121331076,
          1.0414951531322088,
          -1.182415864274357,
          0.2778891944531858,
          0.6477779565295866,
          -1.2850822380960962,
          0.6078843560895357,
          -0.7893747586776593,
          -1.3810269824977204,
          0.0839802250563766,
          -0.1925459641559751,
          1.0448610760472854,
          -0.100612097321845,
          -0.6921324852841738,
          0.12474494450596404,
          -2.083715006962687,
          -0.04274220643320186,
          -1.5380138820173286,
          -0.06824507522006448,
          -0.7700581617758347,
          1.9614759743524235,
          0.236116634753566,
          -1.016540617631119,
          -2.1998884013802456,
          -0.6806725937182262,
          0.2202056281997777,
          0.26057422894712556,
          0.5591908240266653,
          0.20635827973177412,
          0.6269451963000509,
          0.36804646571791055,
          0.8484665156988875,
          -0.032805402678268286,
          0.3153792895292077,
          2.376969391867502,
          0.26044305501817483,
          1.3433999859819574,
          -1.1156861979306572,
          -0.4696670754262642,
          0.5844025105384789,
          -1.7364989229986567,
          -0.34542889234682367,
          1.2216811974503263,
          0.0601899165023874,
          -0.551271019517415,
          1.9075683564065347,
          0.7417191012240812,
          0.6810854840489595
         ]
        },
        {
         "line": {
          "color": "rgba(128, 0, 128, 1.0)",
          "dash": "solid",
          "shape": "linear",
          "width": 1.3
         },
         "mode": "lines",
         "name": "D",
         "text": "",
         "type": "scatter",
         "x": [
          0,
          1,
          2,
          3,
          4,
          5,
          6,
          7,
          8,
          9,
          10,
          11,
          12,
          13,
          14,
          15,
          16,
          17,
          18,
          19,
          20,
          21,
          22,
          23,
          24,
          25,
          26,
          27,
          28,
          29,
          30,
          31,
          32,
          33,
          34,
          35,
          36,
          37,
          38,
          39,
          40,
          41,
          42,
          43,
          44,
          45,
          46,
          47,
          48,
          49,
          50,
          51,
          52,
          53,
          54,
          55,
          56,
          57,
          58,
          59,
          60,
          61,
          62,
          63,
          64,
          65,
          66,
          67,
          68,
          69,
          70,
          71,
          72,
          73,
          74,
          75,
          76,
          77,
          78,
          79,
          80,
          81,
          82,
          83,
          84,
          85,
          86,
          87,
          88,
          89,
          90,
          91,
          92,
          93,
          94,
          95,
          96,
          97,
          98,
          99
         ],
         "y": [
          -0.2547583637030008,
          1.7153923145195713,
          -0.44925958380724423,
          0.3817122619289423,
          -0.9539184920139783,
          -0.5414724044802119,
          1.2886121853667651,
          0.4591371751815021,
          -0.8318466038311664,
          1.0559393125239018,
          -0.1211206779234331,
          -1.1264576740561543,
          -0.3490659386328372,
          1.5444800534649525,
          -0.9336657022168428,
          0.6184359745075972,
          0.454996050826126,
          -0.7926439856701983,
          -0.027341710630058188,
          0.46509407069501435,
          -0.12887852253916282,
          2.1770655884297736,
          1.0938041405441596,
          -0.3601929576483487,
          -1.5414169093827494,
          0.8588967455730289,
          -0.5595059459239674,
          0.39544057681840994,
          -0.5962805112692506,
          -0.09571817523462174,
          -1.760239437549029,
          -1.4282787997647104,
          1.0538189853494435,
          -1.1687967544211606,
          -1.0006899546625991,
          0.04007335183795498,
          -1.1306715264567835,
          0.7475261776718441,
          -0.44394833467424294,
          0.7060898668122305,
          0.27796354073246593,
          -0.7703457543729,
          0.8374644539808129,
          -1.3578814655629283,
          -1.9161877184637712,
          2.2245598157361663,
          0.8756510122696048,
          0.8185887351370049,
          0.8358635833428306,
          -0.7695508524195369,
          0.6676990328557973,
          1.2372978729226272,
          1.5157199194696185,
          -2.5401592383765985,
          2.688733856978057,
          -0.976225831781194,
          -0.17279282553758024,
          -2.2312411366371485,
          0.12104567018784905,
          0.8432613277615293,
          -1.3453703345388546,
          -0.7110083620041104,
          0.427802628801016,
          -0.828146143346612,
          -1.5251192269228544,
          0.34323461095761176,
          0.5874819483519925,
          0.06983636993549536,
          0.3139424566832101,
          -1.492755788001548,
          0.2603956017095522,
          0.7527731423923882,
          0.586476949046145,
          0.880429765315423,
          0.3666172118032136,
          1.006818999622996,
          0.4985990209983369,
          -1.2825106625556784,
          -2.249249371514007,
          -0.6152213554185121,
          -0.7380733493183868,
          -0.36522290632922705,
          0.1447213079834652,
          -0.9688082494329535,
          0.8637691020173891,
          1.2368450748511657,
          0.9289868927448707,
          -0.0037208588766144894,
          1.417465898869651,
          0.4691241844829205,
          -0.6732817808990572,
          1.2232277397651579,
          -1.0045760547542537,
          -0.22633756579704814,
          1.8947219421162727,
          -1.1503550790379204,
          0.6768960513088612,
          1.0679901667852234,
          0.550269322408129,
          -0.3390521921074524
         ]
        }
       ],
       "layout": {
        "legend": {
         "bgcolor": "#F5F6F9",
         "font": {
          "color": "#4D5663"
         }
        },
        "paper_bgcolor": "#F5F6F9",
        "plot_bgcolor": "#F5F6F9",
        "template": {
         "data": {
          "bar": [
           {
            "error_x": {
             "color": "#2a3f5f"
            },
            "error_y": {
             "color": "#2a3f5f"
            },
            "marker": {
             "line": {
              "color": "#E5ECF6",
              "width": 0.5
             },
             "pattern": {
              "fillmode": "overlay",
              "size": 10,
              "solidity": 0.2
             }
            },
            "type": "bar"
           }
          ],
          "barpolar": [
           {
            "marker": {
             "line": {
              "color": "#E5ECF6",
              "width": 0.5
             },
             "pattern": {
              "fillmode": "overlay",
              "size": 10,
              "solidity": 0.2
             }
            },
            "type": "barpolar"
           }
          ],
          "carpet": [
           {
            "aaxis": {
             "endlinecolor": "#2a3f5f",
             "gridcolor": "white",
             "linecolor": "white",
             "minorgridcolor": "white",
             "startlinecolor": "#2a3f5f"
            },
            "baxis": {
             "endlinecolor": "#2a3f5f",
             "gridcolor": "white",
             "linecolor": "white",
             "minorgridcolor": "white",
             "startlinecolor": "#2a3f5f"
            },
            "type": "carpet"
           }
          ],
          "choropleth": [
           {
            "colorbar": {
             "outlinewidth": 0,
             "ticks": ""
            },
            "type": "choropleth"
           }
          ],
          "contour": [
           {
            "colorbar": {
             "outlinewidth": 0,
             "ticks": ""
            },
            "colorscale": [
             [
              0,
              "#0d0887"
             ],
             [
              0.1111111111111111,
              "#46039f"
             ],
             [
              0.2222222222222222,
              "#7201a8"
             ],
             [
              0.3333333333333333,
              "#9c179e"
             ],
             [
              0.4444444444444444,
              "#bd3786"
             ],
             [
              0.5555555555555556,
              "#d8576b"
             ],
             [
              0.6666666666666666,
              "#ed7953"
             ],
             [
              0.7777777777777778,
              "#fb9f3a"
             ],
             [
              0.8888888888888888,
              "#fdca26"
             ],
             [
              1,
              "#f0f921"
             ]
            ],
            "type": "contour"
           }
          ],
          "contourcarpet": [
           {
            "colorbar": {
             "outlinewidth": 0,
             "ticks": ""
            },
            "type": "contourcarpet"
           }
          ],
          "heatmap": [
           {
            "colorbar": {
             "outlinewidth": 0,
             "ticks": ""
            },
            "colorscale": [
             [
              0,
              "#0d0887"
             ],
             [
              0.1111111111111111,
              "#46039f"
             ],
             [
              0.2222222222222222,
              "#7201a8"
             ],
             [
              0.3333333333333333,
              "#9c179e"
             ],
             [
              0.4444444444444444,
              "#bd3786"
             ],
             [
              0.5555555555555556,
              "#d8576b"
             ],
             [
              0.6666666666666666,
              "#ed7953"
             ],
             [
              0.7777777777777778,
              "#fb9f3a"
             ],
             [
              0.8888888888888888,
              "#fdca26"
             ],
             [
              1,
              "#f0f921"
             ]
            ],
            "type": "heatmap"
           }
          ],
          "heatmapgl": [
           {
            "colorbar": {
             "outlinewidth": 0,
             "ticks": ""
            },
            "colorscale": [
             [
              0,
              "#0d0887"
             ],
             [
              0.1111111111111111,
              "#46039f"
             ],
             [
              0.2222222222222222,
              "#7201a8"
             ],
             [
              0.3333333333333333,
              "#9c179e"
             ],
             [
              0.4444444444444444,
              "#bd3786"
             ],
             [
              0.5555555555555556,
              "#d8576b"
             ],
             [
              0.6666666666666666,
              "#ed7953"
             ],
             [
              0.7777777777777778,
              "#fb9f3a"
             ],
             [
              0.8888888888888888,
              "#fdca26"
             ],
             [
              1,
              "#f0f921"
             ]
            ],
            "type": "heatmapgl"
           }
          ],
          "histogram": [
           {
            "marker": {
             "pattern": {
              "fillmode": "overlay",
              "size": 10,
              "solidity": 0.2
             }
            },
            "type": "histogram"
           }
          ],
          "histogram2d": [
           {
            "colorbar": {
             "outlinewidth": 0,
             "ticks": ""
            },
            "colorscale": [
             [
              0,
              "#0d0887"
             ],
             [
              0.1111111111111111,
              "#46039f"
             ],
             [
              0.2222222222222222,
              "#7201a8"
             ],
             [
              0.3333333333333333,
              "#9c179e"
             ],
             [
              0.4444444444444444,
              "#bd3786"
             ],
             [
              0.5555555555555556,
              "#d8576b"
             ],
             [
              0.6666666666666666,
              "#ed7953"
             ],
             [
              0.7777777777777778,
              "#fb9f3a"
             ],
             [
              0.8888888888888888,
              "#fdca26"
             ],
             [
              1,
              "#f0f921"
             ]
            ],
            "type": "histogram2d"
           }
          ],
          "histogram2dcontour": [
           {
            "colorbar": {
             "outlinewidth": 0,
             "ticks": ""
            },
            "colorscale": [
             [
              0,
              "#0d0887"
             ],
             [
              0.1111111111111111,
              "#46039f"
             ],
             [
              0.2222222222222222,
              "#7201a8"
             ],
             [
              0.3333333333333333,
              "#9c179e"
             ],
             [
              0.4444444444444444,
              "#bd3786"
             ],
             [
              0.5555555555555556,
              "#d8576b"
             ],
             [
              0.6666666666666666,
              "#ed7953"
             ],
             [
              0.7777777777777778,
              "#fb9f3a"
             ],
             [
              0.8888888888888888,
              "#fdca26"
             ],
             [
              1,
              "#f0f921"
             ]
            ],
            "type": "histogram2dcontour"
           }
          ],
          "mesh3d": [
           {
            "colorbar": {
             "outlinewidth": 0,
             "ticks": ""
            },
            "type": "mesh3d"
           }
          ],
          "parcoords": [
           {
            "line": {
             "colorbar": {
              "outlinewidth": 0,
              "ticks": ""
             }
            },
            "type": "parcoords"
           }
          ],
          "pie": [
           {
            "automargin": true,
            "type": "pie"
           }
          ],
          "scatter": [
           {
            "marker": {
             "colorbar": {
              "outlinewidth": 0,
              "ticks": ""
             }
            },
            "type": "scatter"
           }
          ],
          "scatter3d": [
           {
            "line": {
             "colorbar": {
              "outlinewidth": 0,
              "ticks": ""
             }
            },
            "marker": {
             "colorbar": {
              "outlinewidth": 0,
              "ticks": ""
             }
            },
            "type": "scatter3d"
           }
          ],
          "scattercarpet": [
           {
            "marker": {
             "colorbar": {
              "outlinewidth": 0,
              "ticks": ""
             }
            },
            "type": "scattercarpet"
           }
          ],
          "scattergeo": [
           {
            "marker": {
             "colorbar": {
              "outlinewidth": 0,
              "ticks": ""
             }
            },
            "type": "scattergeo"
           }
          ],
          "scattergl": [
           {
            "marker": {
             "colorbar": {
              "outlinewidth": 0,
              "ticks": ""
             }
            },
            "type": "scattergl"
           }
          ],
          "scattermapbox": [
           {
            "marker": {
             "colorbar": {
              "outlinewidth": 0,
              "ticks": ""
             }
            },
            "type": "scattermapbox"
           }
          ],
          "scatterpolar": [
           {
            "marker": {
             "colorbar": {
              "outlinewidth": 0,
              "ticks": ""
             }
            },
            "type": "scatterpolar"
           }
          ],
          "scatterpolargl": [
           {
            "marker": {
             "colorbar": {
              "outlinewidth": 0,
              "ticks": ""
             }
            },
            "type": "scatterpolargl"
           }
          ],
          "scatterternary": [
           {
            "marker": {
             "colorbar": {
              "outlinewidth": 0,
              "ticks": ""
             }
            },
            "type": "scatterternary"
           }
          ],
          "surface": [
           {
            "colorbar": {
             "outlinewidth": 0,
             "ticks": ""
            },
            "colorscale": [
             [
              0,
              "#0d0887"
             ],
             [
              0.1111111111111111,
              "#46039f"
             ],
             [
              0.2222222222222222,
              "#7201a8"
             ],
             [
              0.3333333333333333,
              "#9c179e"
             ],
             [
              0.4444444444444444,
              "#bd3786"
             ],
             [
              0.5555555555555556,
              "#d8576b"
             ],
             [
              0.6666666666666666,
              "#ed7953"
             ],
             [
              0.7777777777777778,
              "#fb9f3a"
             ],
             [
              0.8888888888888888,
              "#fdca26"
             ],
             [
              1,
              "#f0f921"
             ]
            ],
            "type": "surface"
           }
          ],
          "table": [
           {
            "cells": {
             "fill": {
              "color": "#EBF0F8"
             },
             "line": {
              "color": "white"
             }
            },
            "header": {
             "fill": {
              "color": "#C8D4E3"
             },
             "line": {
              "color": "white"
             }
            },
            "type": "table"
           }
          ]
         },
         "layout": {
          "annotationdefaults": {
           "arrowcolor": "#2a3f5f",
           "arrowhead": 0,
           "arrowwidth": 1
          },
          "autotypenumbers": "strict",
          "coloraxis": {
           "colorbar": {
            "outlinewidth": 0,
            "ticks": ""
           }
          },
          "colorscale": {
           "diverging": [
            [
             0,
             "#8e0152"
            ],
            [
             0.1,
             "#c51b7d"
            ],
            [
             0.2,
             "#de77ae"
            ],
            [
             0.3,
             "#f1b6da"
            ],
            [
             0.4,
             "#fde0ef"
            ],
            [
             0.5,
             "#f7f7f7"
            ],
            [
             0.6,
             "#e6f5d0"
            ],
            [
             0.7,
             "#b8e186"
            ],
            [
             0.8,
             "#7fbc41"
            ],
            [
             0.9,
             "#4d9221"
            ],
            [
             1,
             "#276419"
            ]
           ],
           "sequential": [
            [
             0,
             "#0d0887"
            ],
            [
             0.1111111111111111,
             "#46039f"
            ],
            [
             0.2222222222222222,
             "#7201a8"
            ],
            [
             0.3333333333333333,
             "#9c179e"
            ],
            [
             0.4444444444444444,
             "#bd3786"
            ],
            [
             0.5555555555555556,
             "#d8576b"
            ],
            [
             0.6666666666666666,
             "#ed7953"
            ],
            [
             0.7777777777777778,
             "#fb9f3a"
            ],
            [
             0.8888888888888888,
             "#fdca26"
            ],
            [
             1,
             "#f0f921"
            ]
           ],
           "sequentialminus": [
            [
             0,
             "#0d0887"
            ],
            [
             0.1111111111111111,
             "#46039f"
            ],
            [
             0.2222222222222222,
             "#7201a8"
            ],
            [
             0.3333333333333333,
             "#9c179e"
            ],
            [
             0.4444444444444444,
             "#bd3786"
            ],
            [
             0.5555555555555556,
             "#d8576b"
            ],
            [
             0.6666666666666666,
             "#ed7953"
            ],
            [
             0.7777777777777778,
             "#fb9f3a"
            ],
            [
             0.8888888888888888,
             "#fdca26"
            ],
            [
             1,
             "#f0f921"
            ]
           ]
          },
          "colorway": [
           "#636efa",
           "#EF553B",
           "#00cc96",
           "#ab63fa",
           "#FFA15A",
           "#19d3f3",
           "#FF6692",
           "#B6E880",
           "#FF97FF",
           "#FECB52"
          ],
          "font": {
           "color": "#2a3f5f"
          },
          "geo": {
           "bgcolor": "white",
           "lakecolor": "white",
           "landcolor": "#E5ECF6",
           "showlakes": true,
           "showland": true,
           "subunitcolor": "white"
          },
          "hoverlabel": {
           "align": "left"
          },
          "hovermode": "closest",
          "mapbox": {
           "style": "light"
          },
          "paper_bgcolor": "white",
          "plot_bgcolor": "#E5ECF6",
          "polar": {
           "angularaxis": {
            "gridcolor": "white",
            "linecolor": "white",
            "ticks": ""
           },
           "bgcolor": "#E5ECF6",
           "radialaxis": {
            "gridcolor": "white",
            "linecolor": "white",
            "ticks": ""
           }
          },
          "scene": {
           "xaxis": {
            "backgroundcolor": "#E5ECF6",
            "gridcolor": "white",
            "gridwidth": 2,
            "linecolor": "white",
            "showbackground": true,
            "ticks": "",
            "zerolinecolor": "white"
           },
           "yaxis": {
            "backgroundcolor": "#E5ECF6",
            "gridcolor": "white",
            "gridwidth": 2,
            "linecolor": "white",
            "showbackground": true,
            "ticks": "",
            "zerolinecolor": "white"
           },
           "zaxis": {
            "backgroundcolor": "#E5ECF6",
            "gridcolor": "white",
            "gridwidth": 2,
            "linecolor": "white",
            "showbackground": true,
            "ticks": "",
            "zerolinecolor": "white"
           }
          },
          "shapedefaults": {
           "line": {
            "color": "#2a3f5f"
           }
          },
          "ternary": {
           "aaxis": {
            "gridcolor": "white",
            "linecolor": "white",
            "ticks": ""
           },
           "baxis": {
            "gridcolor": "white",
            "linecolor": "white",
            "ticks": ""
           },
           "bgcolor": "#E5ECF6",
           "caxis": {
            "gridcolor": "white",
            "linecolor": "white",
            "ticks": ""
           }
          },
          "title": {
           "x": 0.05
          },
          "xaxis": {
           "automargin": true,
           "gridcolor": "white",
           "linecolor": "white",
           "ticks": "",
           "title": {
            "standoff": 15
           },
           "zerolinecolor": "white",
           "zerolinewidth": 2
          },
          "yaxis": {
           "automargin": true,
           "gridcolor": "white",
           "linecolor": "white",
           "ticks": "",
           "title": {
            "standoff": 15
           },
           "zerolinecolor": "white",
           "zerolinewidth": 2
          }
         }
        },
        "title": {
         "font": {
          "color": "#4D5663"
         }
        },
        "xaxis": {
         "gridcolor": "#E1E5ED",
         "showgrid": true,
         "tickfont": {
          "color": "#4D5663"
         },
         "title": {
          "font": {
           "color": "#4D5663"
          },
          "text": ""
         },
         "zerolinecolor": "#E1E5ED"
        },
        "yaxis": {
         "gridcolor": "#E1E5ED",
         "showgrid": true,
         "tickfont": {
          "color": "#4D5663"
         },
         "title": {
          "font": {
           "color": "#4D5663"
          },
          "text": ""
         },
         "zerolinecolor": "#E1E5ED"
        }
       }
      },
      "text/html": [
       "<div>                            <div id=\"6518114c-b43b-4df5-9f27-fdcdb82425cf\" class=\"plotly-graph-div\" style=\"height:525px; width:100%;\"></div>            <script type=\"text/javascript\">                require([\"plotly\"], function(Plotly) {                    window.PLOTLYENV=window.PLOTLYENV || {};\n",
       "                    window.PLOTLYENV.BASE_URL='https://plot.ly';                                    if (document.getElementById(\"6518114c-b43b-4df5-9f27-fdcdb82425cf\")) {                    Plotly.newPlot(                        \"6518114c-b43b-4df5-9f27-fdcdb82425cf\",                        [{\"line\":{\"color\":\"rgba(255, 153, 51, 1.0)\",\"dash\":\"solid\",\"shape\":\"linear\",\"width\":1.3},\"mode\":\"lines\",\"name\":\"A\",\"text\":\"\",\"type\":\"scatter\",\"x\":[0,1,2,3,4,5,6,7,8,9,10,11,12,13,14,15,16,17,18,19,20,21,22,23,24,25,26,27,28,29,30,31,32,33,34,35,36,37,38,39,40,41,42,43,44,45,46,47,48,49,50,51,52,53,54,55,56,57,58,59,60,61,62,63,64,65,66,67,68,69,70,71,72,73,74,75,76,77,78,79,80,81,82,83,84,85,86,87,88,89,90,91,92,93,94,95,96,97,98,99],\"y\":[-1.0256496621618938,-0.287105672454455,-0.6126639634228842,-1.8597037893552084,-0.9566427708642816,-0.22859819369550846,-0.4793812465302499,-2.4903951825038813,0.6035392131290644,2.677096068539839,0.5624731248787744,0.6222528642358222,-0.8490252514473418,-0.548810215060859,-0.5441384236153484,-2.5149406977090956,-0.3333675628721594,-1.245999584290874,-0.7903534761881433,1.5942982357052238,-1.5430176620588751,-0.13089543216082566,0.6700435896476531,-0.6069714026860633,1.2123405058155519,0.3749006858232452,-0.009946020164863893,1.5073145491676003,0.5699235250463723,0.7398952783904557,-1.1036200331677495,-0.29057344258650386,-1.7712973637365244,-0.389337166193235,0.3602812720007109,1.2395176372632817,-0.15738519218783073,-0.5722716346763621,0.07426592847210023,0.5334310013393081,1.006867506307998,-0.7966987716444317,-0.6176020520570332,-0.13744267022751766,0.7863067739194248,-1.194862481983797,-0.769640861846518,-2.122468731579507,-0.7632481255170883,-1.1025826503717449,-1.4045051468002292,0.8961136540172652,-1.0710974125608013,0.15498772074028588,1.4859884020677092,-0.577619136840705,1.0070183885795967,0.5852939462271314,0.8324944714535736,-0.5978250831419247,-1.178038718496559,3.5635564719893926,0.2949200815314698,-0.4067784379393906,1.787379881681812,-0.6804979122610798,1.0624202313096711,0.30189649555208004,-1.3803836409834225,1.8851095843009085,-0.25984318725201777,2.5727962929003705,-1.0745228643283593,0.24764449226937535,0.6818166884272487,-0.02858693606250979,0.38039070767124006,-0.4321678825504317,-1.3169608985732824,1.0446582585781277,1.8480262263356928,-0.4532527549832854,0.2706580650625444,-0.22665173044390874,0.05181115815723766,-0.5417283794399212,1.1166506320083285,-0.14254506526142394,0.8459633017895346,-2.5397751668382043,-0.5552784592316042,-0.4822945755268403,0.12701578635685654,0.7148797761841683,-2.038555956140452,-1.994346917296289,2.630091203316942,-1.303775711537322,-1.1227860545476014,0.6671696461846212]},{\"line\":{\"color\":\"rgba(55, 128, 191, 1.0)\",\"dash\":\"solid\",\"shape\":\"linear\",\"width\":1.3},\"mode\":\"lines\",\"name\":\"B\",\"text\":\"\",\"type\":\"scatter\",\"x\":[0,1,2,3,4,5,6,7,8,9,10,11,12,13,14,15,16,17,18,19,20,21,22,23,24,25,26,27,28,29,30,31,32,33,34,35,36,37,38,39,40,41,42,43,44,45,46,47,48,49,50,51,52,53,54,55,56,57,58,59,60,61,62,63,64,65,66,67,68,69,70,71,72,73,74,75,76,77,78,79,80,81,82,83,84,85,86,87,88,89,90,91,92,93,94,95,96,97,98,99],\"y\":[-0.08520702370665945,-0.5428353896137872,-0.9229682894210636,-1.1373838493074757,-0.59974338941446,-0.6226775282171854,-0.6909488674104681,-0.6429884712883694,-0.763829818415618,1.9126612513514099,0.5051946942444656,1.1534796814020114,-1.4973541967185586,-1.1603641595539111,1.2089092230741885,-1.2866488766091513,0.6253039088147416,0.09943432806814738,-1.81878967090492,0.45454932869301284,-1.0661959002998078,-0.45226231295844893,0.502073890766179,1.360000850818429,1.576199232879038,-0.991354458568695,-0.41864922052129755,-0.27693294224574005,-1.4369765922877695,-0.4564622304795268,-0.543033343656325,-0.796411024933017,-0.6674501440461106,-0.4083371687249216,-0.9477198563372072,0.17176129717986716,0.4348243846709589,0.29771223214238673,0.26427765803321684,-0.8363995101281714,0.8823759134303497,0.905607194137671,-0.5565870945944663,-0.41972347347737227,-1.9249329386407084,0.6295212818429051,0.8028696678842703,-0.9588753331328411,-2.0406461185745655,0.5798060382596439,-0.7415515925609483,-0.25876903380250166,2.182261418702065,1.0229115282733865,1.294722395518006,0.3884114484562883,-2.2263153739917003,-0.6268318814354596,-1.6025381888476122,-1.0045768452368167,-1.157463102824297,-0.5838177334890376,0.32452522809203876,-0.7419037873420108,0.8579172439573104,-1.5878134298301179,-0.21031196661969556,0.5675315039804291,-0.3621359496459766,0.32448366104306103,0.19420872288635715,-2.597531208936153,0.04676148891109547,-0.17483040082085477,-0.2621860092876313,-1.045483666627226,0.050234493136657045,-0.05791781576786074,0.513050713788694,-1.6255212702788666,-1.5156077636707201,-1.9785169493256909,-1.9490945331143803,-1.0806817557769284,1.6839128089017628,0.6076703250867478,-0.9721863273679423,0.6347401000811329,1.1733829018513646,2.481087579855182,0.7055191896422903,-1.0860434878294678,1.5917538490464633,0.257385934981979,-1.9815757748839793,-0.2840951440640914,-1.295585170698604,-0.3272390968001948,-0.7705741622343572,-0.12028512029356135]},{\"line\":{\"color\":\"rgba(50, 171, 96, 1.0)\",\"dash\":\"solid\",\"shape\":\"linear\",\"width\":1.3},\"mode\":\"lines\",\"name\":\"C\",\"text\":\"\",\"type\":\"scatter\",\"x\":[0,1,2,3,4,5,6,7,8,9,10,11,12,13,14,15,16,17,18,19,20,21,22,23,24,25,26,27,28,29,30,31,32,33,34,35,36,37,38,39,40,41,42,43,44,45,46,47,48,49,50,51,52,53,54,55,56,57,58,59,60,61,62,63,64,65,66,67,68,69,70,71,72,73,74,75,76,77,78,79,80,81,82,83,84,85,86,87,88,89,90,91,92,93,94,95,96,97,98,99],\"y\":[-0.8936446390927574,-0.7946997115803555,-0.6641970253019951,0.10854762736244102,-0.5419366081440622,0.7347620301138176,1.211577767882975,-0.0073492529509151736,-0.8905222782055254,-0.20895947355587638,0.7216072090728042,0.7471611657676913,-1.857883654159354,1.5399644795570173,-2.1114706039932893,-0.27869828127472385,0.4108123490013363,0.6287474350771571,-0.045922216805762375,0.08305344366670474,-0.6327668276271052,2.104370421985547,0.8505626985666442,1.1368432936763215,0.046150979735368726,1.4399395142187927,-0.2191327979192292,-1.6245975976546034,1.2380609013958852,1.2869929141055805,0.2112601112189276,0.03577833563509893,0.04228057754471103,-0.18367568953869837,-0.058366605746244,1.2802015661999784,-0.34082159165414005,1.7581433100657584,0.9283819196486757,1.1695835151776708,0.0881061999660237,-0.046070216802679864,0.21954034544068105,1.6054149958236246,0.566294282764027,-0.4700588447800426,-0.8032406492975612,1.1257873036720174,-0.6327776781173501,-0.7196055061238562,2.2772966607591485,-1.7662618133492722,-0.8105273121331076,1.0414951531322088,-1.182415864274357,0.2778891944531858,0.6477779565295866,-1.2850822380960962,0.6078843560895357,-0.7893747586776593,-1.3810269824977204,0.0839802250563766,-0.1925459641559751,1.0448610760472854,-0.100612097321845,-0.6921324852841738,0.12474494450596404,-2.083715006962687,-0.04274220643320186,-1.5380138820173286,-0.06824507522006448,-0.7700581617758347,1.9614759743524235,0.236116634753566,-1.016540617631119,-2.1998884013802456,-0.6806725937182262,0.2202056281997777,0.26057422894712556,0.5591908240266653,0.20635827973177412,0.6269451963000509,0.36804646571791055,0.8484665156988875,-0.032805402678268286,0.3153792895292077,2.376969391867502,0.26044305501817483,1.3433999859819574,-1.1156861979306572,-0.4696670754262642,0.5844025105384789,-1.7364989229986567,-0.34542889234682367,1.2216811974503263,0.0601899165023874,-0.551271019517415,1.9075683564065347,0.7417191012240812,0.6810854840489595]},{\"line\":{\"color\":\"rgba(128, 0, 128, 1.0)\",\"dash\":\"solid\",\"shape\":\"linear\",\"width\":1.3},\"mode\":\"lines\",\"name\":\"D\",\"text\":\"\",\"type\":\"scatter\",\"x\":[0,1,2,3,4,5,6,7,8,9,10,11,12,13,14,15,16,17,18,19,20,21,22,23,24,25,26,27,28,29,30,31,32,33,34,35,36,37,38,39,40,41,42,43,44,45,46,47,48,49,50,51,52,53,54,55,56,57,58,59,60,61,62,63,64,65,66,67,68,69,70,71,72,73,74,75,76,77,78,79,80,81,82,83,84,85,86,87,88,89,90,91,92,93,94,95,96,97,98,99],\"y\":[-0.2547583637030008,1.7153923145195713,-0.44925958380724423,0.3817122619289423,-0.9539184920139783,-0.5414724044802119,1.2886121853667651,0.4591371751815021,-0.8318466038311664,1.0559393125239018,-0.1211206779234331,-1.1264576740561543,-0.3490659386328372,1.5444800534649525,-0.9336657022168428,0.6184359745075972,0.454996050826126,-0.7926439856701983,-0.027341710630058188,0.46509407069501435,-0.12887852253916282,2.1770655884297736,1.0938041405441596,-0.3601929576483487,-1.5414169093827494,0.8588967455730289,-0.5595059459239674,0.39544057681840994,-0.5962805112692506,-0.09571817523462174,-1.760239437549029,-1.4282787997647104,1.0538189853494435,-1.1687967544211606,-1.0006899546625991,0.04007335183795498,-1.1306715264567835,0.7475261776718441,-0.44394833467424294,0.7060898668122305,0.27796354073246593,-0.7703457543729,0.8374644539808129,-1.3578814655629283,-1.9161877184637712,2.2245598157361663,0.8756510122696048,0.8185887351370049,0.8358635833428306,-0.7695508524195369,0.6676990328557973,1.2372978729226272,1.5157199194696185,-2.5401592383765985,2.688733856978057,-0.976225831781194,-0.17279282553758024,-2.2312411366371485,0.12104567018784905,0.8432613277615293,-1.3453703345388546,-0.7110083620041104,0.427802628801016,-0.828146143346612,-1.5251192269228544,0.34323461095761176,0.5874819483519925,0.06983636993549536,0.3139424566832101,-1.492755788001548,0.2603956017095522,0.7527731423923882,0.586476949046145,0.880429765315423,0.3666172118032136,1.006818999622996,0.4985990209983369,-1.2825106625556784,-2.249249371514007,-0.6152213554185121,-0.7380733493183868,-0.36522290632922705,0.1447213079834652,-0.9688082494329535,0.8637691020173891,1.2368450748511657,0.9289868927448707,-0.0037208588766144894,1.417465898869651,0.4691241844829205,-0.6732817808990572,1.2232277397651579,-1.0045760547542537,-0.22633756579704814,1.8947219421162727,-1.1503550790379204,0.6768960513088612,1.0679901667852234,0.550269322408129,-0.3390521921074524]}],                        {\"legend\":{\"bgcolor\":\"#F5F6F9\",\"font\":{\"color\":\"#4D5663\"}},\"paper_bgcolor\":\"#F5F6F9\",\"plot_bgcolor\":\"#F5F6F9\",\"template\":{\"data\":{\"bar\":[{\"error_x\":{\"color\":\"#2a3f5f\"},\"error_y\":{\"color\":\"#2a3f5f\"},\"marker\":{\"line\":{\"color\":\"#E5ECF6\",\"width\":0.5},\"pattern\":{\"fillmode\":\"overlay\",\"size\":10,\"solidity\":0.2}},\"type\":\"bar\"}],\"barpolar\":[{\"marker\":{\"line\":{\"color\":\"#E5ECF6\",\"width\":0.5},\"pattern\":{\"fillmode\":\"overlay\",\"size\":10,\"solidity\":0.2}},\"type\":\"barpolar\"}],\"carpet\":[{\"aaxis\":{\"endlinecolor\":\"#2a3f5f\",\"gridcolor\":\"white\",\"linecolor\":\"white\",\"minorgridcolor\":\"white\",\"startlinecolor\":\"#2a3f5f\"},\"baxis\":{\"endlinecolor\":\"#2a3f5f\",\"gridcolor\":\"white\",\"linecolor\":\"white\",\"minorgridcolor\":\"white\",\"startlinecolor\":\"#2a3f5f\"},\"type\":\"carpet\"}],\"choropleth\":[{\"colorbar\":{\"outlinewidth\":0,\"ticks\":\"\"},\"type\":\"choropleth\"}],\"contour\":[{\"colorbar\":{\"outlinewidth\":0,\"ticks\":\"\"},\"colorscale\":[[0.0,\"#0d0887\"],[0.1111111111111111,\"#46039f\"],[0.2222222222222222,\"#7201a8\"],[0.3333333333333333,\"#9c179e\"],[0.4444444444444444,\"#bd3786\"],[0.5555555555555556,\"#d8576b\"],[0.6666666666666666,\"#ed7953\"],[0.7777777777777778,\"#fb9f3a\"],[0.8888888888888888,\"#fdca26\"],[1.0,\"#f0f921\"]],\"type\":\"contour\"}],\"contourcarpet\":[{\"colorbar\":{\"outlinewidth\":0,\"ticks\":\"\"},\"type\":\"contourcarpet\"}],\"heatmap\":[{\"colorbar\":{\"outlinewidth\":0,\"ticks\":\"\"},\"colorscale\":[[0.0,\"#0d0887\"],[0.1111111111111111,\"#46039f\"],[0.2222222222222222,\"#7201a8\"],[0.3333333333333333,\"#9c179e\"],[0.4444444444444444,\"#bd3786\"],[0.5555555555555556,\"#d8576b\"],[0.6666666666666666,\"#ed7953\"],[0.7777777777777778,\"#fb9f3a\"],[0.8888888888888888,\"#fdca26\"],[1.0,\"#f0f921\"]],\"type\":\"heatmap\"}],\"heatmapgl\":[{\"colorbar\":{\"outlinewidth\":0,\"ticks\":\"\"},\"colorscale\":[[0.0,\"#0d0887\"],[0.1111111111111111,\"#46039f\"],[0.2222222222222222,\"#7201a8\"],[0.3333333333333333,\"#9c179e\"],[0.4444444444444444,\"#bd3786\"],[0.5555555555555556,\"#d8576b\"],[0.6666666666666666,\"#ed7953\"],[0.7777777777777778,\"#fb9f3a\"],[0.8888888888888888,\"#fdca26\"],[1.0,\"#f0f921\"]],\"type\":\"heatmapgl\"}],\"histogram\":[{\"marker\":{\"pattern\":{\"fillmode\":\"overlay\",\"size\":10,\"solidity\":0.2}},\"type\":\"histogram\"}],\"histogram2d\":[{\"colorbar\":{\"outlinewidth\":0,\"ticks\":\"\"},\"colorscale\":[[0.0,\"#0d0887\"],[0.1111111111111111,\"#46039f\"],[0.2222222222222222,\"#7201a8\"],[0.3333333333333333,\"#9c179e\"],[0.4444444444444444,\"#bd3786\"],[0.5555555555555556,\"#d8576b\"],[0.6666666666666666,\"#ed7953\"],[0.7777777777777778,\"#fb9f3a\"],[0.8888888888888888,\"#fdca26\"],[1.0,\"#f0f921\"]],\"type\":\"histogram2d\"}],\"histogram2dcontour\":[{\"colorbar\":{\"outlinewidth\":0,\"ticks\":\"\"},\"colorscale\":[[0.0,\"#0d0887\"],[0.1111111111111111,\"#46039f\"],[0.2222222222222222,\"#7201a8\"],[0.3333333333333333,\"#9c179e\"],[0.4444444444444444,\"#bd3786\"],[0.5555555555555556,\"#d8576b\"],[0.6666666666666666,\"#ed7953\"],[0.7777777777777778,\"#fb9f3a\"],[0.8888888888888888,\"#fdca26\"],[1.0,\"#f0f921\"]],\"type\":\"histogram2dcontour\"}],\"mesh3d\":[{\"colorbar\":{\"outlinewidth\":0,\"ticks\":\"\"},\"type\":\"mesh3d\"}],\"parcoords\":[{\"line\":{\"colorbar\":{\"outlinewidth\":0,\"ticks\":\"\"}},\"type\":\"parcoords\"}],\"pie\":[{\"automargin\":true,\"type\":\"pie\"}],\"scatter\":[{\"marker\":{\"colorbar\":{\"outlinewidth\":0,\"ticks\":\"\"}},\"type\":\"scatter\"}],\"scatter3d\":[{\"line\":{\"colorbar\":{\"outlinewidth\":0,\"ticks\":\"\"}},\"marker\":{\"colorbar\":{\"outlinewidth\":0,\"ticks\":\"\"}},\"type\":\"scatter3d\"}],\"scattercarpet\":[{\"marker\":{\"colorbar\":{\"outlinewidth\":0,\"ticks\":\"\"}},\"type\":\"scattercarpet\"}],\"scattergeo\":[{\"marker\":{\"colorbar\":{\"outlinewidth\":0,\"ticks\":\"\"}},\"type\":\"scattergeo\"}],\"scattergl\":[{\"marker\":{\"colorbar\":{\"outlinewidth\":0,\"ticks\":\"\"}},\"type\":\"scattergl\"}],\"scattermapbox\":[{\"marker\":{\"colorbar\":{\"outlinewidth\":0,\"ticks\":\"\"}},\"type\":\"scattermapbox\"}],\"scatterpolar\":[{\"marker\":{\"colorbar\":{\"outlinewidth\":0,\"ticks\":\"\"}},\"type\":\"scatterpolar\"}],\"scatterpolargl\":[{\"marker\":{\"colorbar\":{\"outlinewidth\":0,\"ticks\":\"\"}},\"type\":\"scatterpolargl\"}],\"scatterternary\":[{\"marker\":{\"colorbar\":{\"outlinewidth\":0,\"ticks\":\"\"}},\"type\":\"scatterternary\"}],\"surface\":[{\"colorbar\":{\"outlinewidth\":0,\"ticks\":\"\"},\"colorscale\":[[0.0,\"#0d0887\"],[0.1111111111111111,\"#46039f\"],[0.2222222222222222,\"#7201a8\"],[0.3333333333333333,\"#9c179e\"],[0.4444444444444444,\"#bd3786\"],[0.5555555555555556,\"#d8576b\"],[0.6666666666666666,\"#ed7953\"],[0.7777777777777778,\"#fb9f3a\"],[0.8888888888888888,\"#fdca26\"],[1.0,\"#f0f921\"]],\"type\":\"surface\"}],\"table\":[{\"cells\":{\"fill\":{\"color\":\"#EBF0F8\"},\"line\":{\"color\":\"white\"}},\"header\":{\"fill\":{\"color\":\"#C8D4E3\"},\"line\":{\"color\":\"white\"}},\"type\":\"table\"}]},\"layout\":{\"annotationdefaults\":{\"arrowcolor\":\"#2a3f5f\",\"arrowhead\":0,\"arrowwidth\":1},\"autotypenumbers\":\"strict\",\"coloraxis\":{\"colorbar\":{\"outlinewidth\":0,\"ticks\":\"\"}},\"colorscale\":{\"diverging\":[[0,\"#8e0152\"],[0.1,\"#c51b7d\"],[0.2,\"#de77ae\"],[0.3,\"#f1b6da\"],[0.4,\"#fde0ef\"],[0.5,\"#f7f7f7\"],[0.6,\"#e6f5d0\"],[0.7,\"#b8e186\"],[0.8,\"#7fbc41\"],[0.9,\"#4d9221\"],[1,\"#276419\"]],\"sequential\":[[0.0,\"#0d0887\"],[0.1111111111111111,\"#46039f\"],[0.2222222222222222,\"#7201a8\"],[0.3333333333333333,\"#9c179e\"],[0.4444444444444444,\"#bd3786\"],[0.5555555555555556,\"#d8576b\"],[0.6666666666666666,\"#ed7953\"],[0.7777777777777778,\"#fb9f3a\"],[0.8888888888888888,\"#fdca26\"],[1.0,\"#f0f921\"]],\"sequentialminus\":[[0.0,\"#0d0887\"],[0.1111111111111111,\"#46039f\"],[0.2222222222222222,\"#7201a8\"],[0.3333333333333333,\"#9c179e\"],[0.4444444444444444,\"#bd3786\"],[0.5555555555555556,\"#d8576b\"],[0.6666666666666666,\"#ed7953\"],[0.7777777777777778,\"#fb9f3a\"],[0.8888888888888888,\"#fdca26\"],[1.0,\"#f0f921\"]]},\"colorway\":[\"#636efa\",\"#EF553B\",\"#00cc96\",\"#ab63fa\",\"#FFA15A\",\"#19d3f3\",\"#FF6692\",\"#B6E880\",\"#FF97FF\",\"#FECB52\"],\"font\":{\"color\":\"#2a3f5f\"},\"geo\":{\"bgcolor\":\"white\",\"lakecolor\":\"white\",\"landcolor\":\"#E5ECF6\",\"showlakes\":true,\"showland\":true,\"subunitcolor\":\"white\"},\"hoverlabel\":{\"align\":\"left\"},\"hovermode\":\"closest\",\"mapbox\":{\"style\":\"light\"},\"paper_bgcolor\":\"white\",\"plot_bgcolor\":\"#E5ECF6\",\"polar\":{\"angularaxis\":{\"gridcolor\":\"white\",\"linecolor\":\"white\",\"ticks\":\"\"},\"bgcolor\":\"#E5ECF6\",\"radialaxis\":{\"gridcolor\":\"white\",\"linecolor\":\"white\",\"ticks\":\"\"}},\"scene\":{\"xaxis\":{\"backgroundcolor\":\"#E5ECF6\",\"gridcolor\":\"white\",\"gridwidth\":2,\"linecolor\":\"white\",\"showbackground\":true,\"ticks\":\"\",\"zerolinecolor\":\"white\"},\"yaxis\":{\"backgroundcolor\":\"#E5ECF6\",\"gridcolor\":\"white\",\"gridwidth\":2,\"linecolor\":\"white\",\"showbackground\":true,\"ticks\":\"\",\"zerolinecolor\":\"white\"},\"zaxis\":{\"backgroundcolor\":\"#E5ECF6\",\"gridcolor\":\"white\",\"gridwidth\":2,\"linecolor\":\"white\",\"showbackground\":true,\"ticks\":\"\",\"zerolinecolor\":\"white\"}},\"shapedefaults\":{\"line\":{\"color\":\"#2a3f5f\"}},\"ternary\":{\"aaxis\":{\"gridcolor\":\"white\",\"linecolor\":\"white\",\"ticks\":\"\"},\"baxis\":{\"gridcolor\":\"white\",\"linecolor\":\"white\",\"ticks\":\"\"},\"bgcolor\":\"#E5ECF6\",\"caxis\":{\"gridcolor\":\"white\",\"linecolor\":\"white\",\"ticks\":\"\"}},\"title\":{\"x\":0.05},\"xaxis\":{\"automargin\":true,\"gridcolor\":\"white\",\"linecolor\":\"white\",\"ticks\":\"\",\"title\":{\"standoff\":15},\"zerolinecolor\":\"white\",\"zerolinewidth\":2},\"yaxis\":{\"automargin\":true,\"gridcolor\":\"white\",\"linecolor\":\"white\",\"ticks\":\"\",\"title\":{\"standoff\":15},\"zerolinecolor\":\"white\",\"zerolinewidth\":2}}},\"title\":{\"font\":{\"color\":\"#4D5663\"}},\"xaxis\":{\"gridcolor\":\"#E1E5ED\",\"showgrid\":true,\"tickfont\":{\"color\":\"#4D5663\"},\"title\":{\"font\":{\"color\":\"#4D5663\"},\"text\":\"\"},\"zerolinecolor\":\"#E1E5ED\"},\"yaxis\":{\"gridcolor\":\"#E1E5ED\",\"showgrid\":true,\"tickfont\":{\"color\":\"#4D5663\"},\"title\":{\"font\":{\"color\":\"#4D5663\"},\"text\":\"\"},\"zerolinecolor\":\"#E1E5ED\"}},                        {\"showLink\": true, \"linkText\": \"Export to plot.ly\", \"plotlyServerURL\": \"https://plot.ly\", \"responsive\": true}                    ).then(function(){\n",
       "                            \n",
       "var gd = document.getElementById('6518114c-b43b-4df5-9f27-fdcdb82425cf');\n",
       "var x = new MutationObserver(function (mutations, observer) {{\n",
       "        var display = window.getComputedStyle(gd).display;\n",
       "        if (!display || display === 'none') {{\n",
       "            console.log([gd, 'removed!']);\n",
       "            Plotly.purge(gd);\n",
       "            observer.disconnect();\n",
       "        }}\n",
       "}});\n",
       "\n",
       "// Listen for the removal of the full notebook cells\n",
       "var notebookContainer = gd.closest('#notebook-container');\n",
       "if (notebookContainer) {{\n",
       "    x.observe(notebookContainer, {childList: true});\n",
       "}}\n",
       "\n",
       "// Listen for the clearing of the current output cell\n",
       "var outputEl = gd.closest('.output');\n",
       "if (outputEl) {{\n",
       "    x.observe(outputEl, {childList: true});\n",
       "}}\n",
       "\n",
       "                        })                };                });            </script>        </div>"
      ]
     },
     "metadata": {},
     "output_type": "display_data"
    }
   ],
   "source": [
    "df1.iplot() #this gives an interactive line plot"
   ]
  },
  {
   "cell_type": "code",
   "execution_count": 15,
   "id": "4ff01591",
   "metadata": {},
   "outputs": [
    {
     "data": {
      "application/vnd.plotly.v1+json": {
       "config": {
        "linkText": "Export to plot.ly",
        "plotlyServerURL": "https://plot.ly",
        "showLink": true
       },
       "data": [
        {
         "line": {
          "color": "rgba(255, 153, 51, 1.0)",
          "dash": "solid",
          "shape": "linear",
          "width": 1.3
         },
         "marker": {
          "size": 10,
          "symbol": "circle"
         },
         "mode": "markers",
         "name": "B",
         "text": "",
         "type": "scatter",
         "x": [
          -1.0256496621618938,
          -0.287105672454455,
          -0.6126639634228842,
          -1.8597037893552084,
          -0.9566427708642816,
          -0.22859819369550846,
          -0.4793812465302499,
          -2.4903951825038813,
          0.6035392131290644,
          2.677096068539839,
          0.5624731248787744,
          0.6222528642358222,
          -0.8490252514473418,
          -0.548810215060859,
          -0.5441384236153484,
          -2.5149406977090956,
          -0.3333675628721594,
          -1.245999584290874,
          -0.7903534761881433,
          1.5942982357052238,
          -1.5430176620588751,
          -0.13089543216082566,
          0.6700435896476531,
          -0.6069714026860633,
          1.2123405058155519,
          0.3749006858232452,
          -0.009946020164863893,
          1.5073145491676003,
          0.5699235250463723,
          0.7398952783904557,
          -1.1036200331677495,
          -0.29057344258650386,
          -1.7712973637365244,
          -0.389337166193235,
          0.3602812720007109,
          1.2395176372632817,
          -0.15738519218783073,
          -0.5722716346763621,
          0.07426592847210023,
          0.5334310013393081,
          1.006867506307998,
          -0.7966987716444317,
          -0.6176020520570332,
          -0.13744267022751766,
          0.7863067739194248,
          -1.194862481983797,
          -0.769640861846518,
          -2.122468731579507,
          -0.7632481255170883,
          -1.1025826503717449,
          -1.4045051468002292,
          0.8961136540172652,
          -1.0710974125608013,
          0.15498772074028588,
          1.4859884020677092,
          -0.577619136840705,
          1.0070183885795967,
          0.5852939462271314,
          0.8324944714535736,
          -0.5978250831419247,
          -1.178038718496559,
          3.5635564719893926,
          0.2949200815314698,
          -0.4067784379393906,
          1.787379881681812,
          -0.6804979122610798,
          1.0624202313096711,
          0.30189649555208004,
          -1.3803836409834225,
          1.8851095843009085,
          -0.25984318725201777,
          2.5727962929003705,
          -1.0745228643283593,
          0.24764449226937535,
          0.6818166884272487,
          -0.02858693606250979,
          0.38039070767124006,
          -0.4321678825504317,
          -1.3169608985732824,
          1.0446582585781277,
          1.8480262263356928,
          -0.4532527549832854,
          0.2706580650625444,
          -0.22665173044390874,
          0.05181115815723766,
          -0.5417283794399212,
          1.1166506320083285,
          -0.14254506526142394,
          0.8459633017895346,
          -2.5397751668382043,
          -0.5552784592316042,
          -0.4822945755268403,
          0.12701578635685654,
          0.7148797761841683,
          -2.038555956140452,
          -1.994346917296289,
          2.630091203316942,
          -1.303775711537322,
          -1.1227860545476014,
          0.6671696461846212
         ],
         "y": [
          -0.08520702370665945,
          -0.5428353896137872,
          -0.9229682894210636,
          -1.1373838493074757,
          -0.59974338941446,
          -0.6226775282171854,
          -0.6909488674104681,
          -0.6429884712883694,
          -0.763829818415618,
          1.9126612513514099,
          0.5051946942444656,
          1.1534796814020114,
          -1.4973541967185586,
          -1.1603641595539111,
          1.2089092230741885,
          -1.2866488766091513,
          0.6253039088147416,
          0.09943432806814738,
          -1.81878967090492,
          0.45454932869301284,
          -1.0661959002998078,
          -0.45226231295844893,
          0.502073890766179,
          1.360000850818429,
          1.576199232879038,
          -0.991354458568695,
          -0.41864922052129755,
          -0.27693294224574005,
          -1.4369765922877695,
          -0.4564622304795268,
          -0.543033343656325,
          -0.796411024933017,
          -0.6674501440461106,
          -0.4083371687249216,
          -0.9477198563372072,
          0.17176129717986716,
          0.4348243846709589,
          0.29771223214238673,
          0.26427765803321684,
          -0.8363995101281714,
          0.8823759134303497,
          0.905607194137671,
          -0.5565870945944663,
          -0.41972347347737227,
          -1.9249329386407084,
          0.6295212818429051,
          0.8028696678842703,
          -0.9588753331328411,
          -2.0406461185745655,
          0.5798060382596439,
          -0.7415515925609483,
          -0.25876903380250166,
          2.182261418702065,
          1.0229115282733865,
          1.294722395518006,
          0.3884114484562883,
          -2.2263153739917003,
          -0.6268318814354596,
          -1.6025381888476122,
          -1.0045768452368167,
          -1.157463102824297,
          -0.5838177334890376,
          0.32452522809203876,
          -0.7419037873420108,
          0.8579172439573104,
          -1.5878134298301179,
          -0.21031196661969556,
          0.5675315039804291,
          -0.3621359496459766,
          0.32448366104306103,
          0.19420872288635715,
          -2.597531208936153,
          0.04676148891109547,
          -0.17483040082085477,
          -0.2621860092876313,
          -1.045483666627226,
          0.050234493136657045,
          -0.05791781576786074,
          0.513050713788694,
          -1.6255212702788666,
          -1.5156077636707201,
          -1.9785169493256909,
          -1.9490945331143803,
          -1.0806817557769284,
          1.6839128089017628,
          0.6076703250867478,
          -0.9721863273679423,
          0.6347401000811329,
          1.1733829018513646,
          2.481087579855182,
          0.7055191896422903,
          -1.0860434878294678,
          1.5917538490464633,
          0.257385934981979,
          -1.9815757748839793,
          -0.2840951440640914,
          -1.295585170698604,
          -0.3272390968001948,
          -0.7705741622343572,
          -0.12028512029356135
         ]
        }
       ],
       "layout": {
        "legend": {
         "bgcolor": "#F5F6F9",
         "font": {
          "color": "#4D5663"
         }
        },
        "paper_bgcolor": "#F5F6F9",
        "plot_bgcolor": "#F5F6F9",
        "template": {
         "data": {
          "bar": [
           {
            "error_x": {
             "color": "#2a3f5f"
            },
            "error_y": {
             "color": "#2a3f5f"
            },
            "marker": {
             "line": {
              "color": "#E5ECF6",
              "width": 0.5
             },
             "pattern": {
              "fillmode": "overlay",
              "size": 10,
              "solidity": 0.2
             }
            },
            "type": "bar"
           }
          ],
          "barpolar": [
           {
            "marker": {
             "line": {
              "color": "#E5ECF6",
              "width": 0.5
             },
             "pattern": {
              "fillmode": "overlay",
              "size": 10,
              "solidity": 0.2
             }
            },
            "type": "barpolar"
           }
          ],
          "carpet": [
           {
            "aaxis": {
             "endlinecolor": "#2a3f5f",
             "gridcolor": "white",
             "linecolor": "white",
             "minorgridcolor": "white",
             "startlinecolor": "#2a3f5f"
            },
            "baxis": {
             "endlinecolor": "#2a3f5f",
             "gridcolor": "white",
             "linecolor": "white",
             "minorgridcolor": "white",
             "startlinecolor": "#2a3f5f"
            },
            "type": "carpet"
           }
          ],
          "choropleth": [
           {
            "colorbar": {
             "outlinewidth": 0,
             "ticks": ""
            },
            "type": "choropleth"
           }
          ],
          "contour": [
           {
            "colorbar": {
             "outlinewidth": 0,
             "ticks": ""
            },
            "colorscale": [
             [
              0,
              "#0d0887"
             ],
             [
              0.1111111111111111,
              "#46039f"
             ],
             [
              0.2222222222222222,
              "#7201a8"
             ],
             [
              0.3333333333333333,
              "#9c179e"
             ],
             [
              0.4444444444444444,
              "#bd3786"
             ],
             [
              0.5555555555555556,
              "#d8576b"
             ],
             [
              0.6666666666666666,
              "#ed7953"
             ],
             [
              0.7777777777777778,
              "#fb9f3a"
             ],
             [
              0.8888888888888888,
              "#fdca26"
             ],
             [
              1,
              "#f0f921"
             ]
            ],
            "type": "contour"
           }
          ],
          "contourcarpet": [
           {
            "colorbar": {
             "outlinewidth": 0,
             "ticks": ""
            },
            "type": "contourcarpet"
           }
          ],
          "heatmap": [
           {
            "colorbar": {
             "outlinewidth": 0,
             "ticks": ""
            },
            "colorscale": [
             [
              0,
              "#0d0887"
             ],
             [
              0.1111111111111111,
              "#46039f"
             ],
             [
              0.2222222222222222,
              "#7201a8"
             ],
             [
              0.3333333333333333,
              "#9c179e"
             ],
             [
              0.4444444444444444,
              "#bd3786"
             ],
             [
              0.5555555555555556,
              "#d8576b"
             ],
             [
              0.6666666666666666,
              "#ed7953"
             ],
             [
              0.7777777777777778,
              "#fb9f3a"
             ],
             [
              0.8888888888888888,
              "#fdca26"
             ],
             [
              1,
              "#f0f921"
             ]
            ],
            "type": "heatmap"
           }
          ],
          "heatmapgl": [
           {
            "colorbar": {
             "outlinewidth": 0,
             "ticks": ""
            },
            "colorscale": [
             [
              0,
              "#0d0887"
             ],
             [
              0.1111111111111111,
              "#46039f"
             ],
             [
              0.2222222222222222,
              "#7201a8"
             ],
             [
              0.3333333333333333,
              "#9c179e"
             ],
             [
              0.4444444444444444,
              "#bd3786"
             ],
             [
              0.5555555555555556,
              "#d8576b"
             ],
             [
              0.6666666666666666,
              "#ed7953"
             ],
             [
              0.7777777777777778,
              "#fb9f3a"
             ],
             [
              0.8888888888888888,
              "#fdca26"
             ],
             [
              1,
              "#f0f921"
             ]
            ],
            "type": "heatmapgl"
           }
          ],
          "histogram": [
           {
            "marker": {
             "pattern": {
              "fillmode": "overlay",
              "size": 10,
              "solidity": 0.2
             }
            },
            "type": "histogram"
           }
          ],
          "histogram2d": [
           {
            "colorbar": {
             "outlinewidth": 0,
             "ticks": ""
            },
            "colorscale": [
             [
              0,
              "#0d0887"
             ],
             [
              0.1111111111111111,
              "#46039f"
             ],
             [
              0.2222222222222222,
              "#7201a8"
             ],
             [
              0.3333333333333333,
              "#9c179e"
             ],
             [
              0.4444444444444444,
              "#bd3786"
             ],
             [
              0.5555555555555556,
              "#d8576b"
             ],
             [
              0.6666666666666666,
              "#ed7953"
             ],
             [
              0.7777777777777778,
              "#fb9f3a"
             ],
             [
              0.8888888888888888,
              "#fdca26"
             ],
             [
              1,
              "#f0f921"
             ]
            ],
            "type": "histogram2d"
           }
          ],
          "histogram2dcontour": [
           {
            "colorbar": {
             "outlinewidth": 0,
             "ticks": ""
            },
            "colorscale": [
             [
              0,
              "#0d0887"
             ],
             [
              0.1111111111111111,
              "#46039f"
             ],
             [
              0.2222222222222222,
              "#7201a8"
             ],
             [
              0.3333333333333333,
              "#9c179e"
             ],
             [
              0.4444444444444444,
              "#bd3786"
             ],
             [
              0.5555555555555556,
              "#d8576b"
             ],
             [
              0.6666666666666666,
              "#ed7953"
             ],
             [
              0.7777777777777778,
              "#fb9f3a"
             ],
             [
              0.8888888888888888,
              "#fdca26"
             ],
             [
              1,
              "#f0f921"
             ]
            ],
            "type": "histogram2dcontour"
           }
          ],
          "mesh3d": [
           {
            "colorbar": {
             "outlinewidth": 0,
             "ticks": ""
            },
            "type": "mesh3d"
           }
          ],
          "parcoords": [
           {
            "line": {
             "colorbar": {
              "outlinewidth": 0,
              "ticks": ""
             }
            },
            "type": "parcoords"
           }
          ],
          "pie": [
           {
            "automargin": true,
            "type": "pie"
           }
          ],
          "scatter": [
           {
            "marker": {
             "colorbar": {
              "outlinewidth": 0,
              "ticks": ""
             }
            },
            "type": "scatter"
           }
          ],
          "scatter3d": [
           {
            "line": {
             "colorbar": {
              "outlinewidth": 0,
              "ticks": ""
             }
            },
            "marker": {
             "colorbar": {
              "outlinewidth": 0,
              "ticks": ""
             }
            },
            "type": "scatter3d"
           }
          ],
          "scattercarpet": [
           {
            "marker": {
             "colorbar": {
              "outlinewidth": 0,
              "ticks": ""
             }
            },
            "type": "scattercarpet"
           }
          ],
          "scattergeo": [
           {
            "marker": {
             "colorbar": {
              "outlinewidth": 0,
              "ticks": ""
             }
            },
            "type": "scattergeo"
           }
          ],
          "scattergl": [
           {
            "marker": {
             "colorbar": {
              "outlinewidth": 0,
              "ticks": ""
             }
            },
            "type": "scattergl"
           }
          ],
          "scattermapbox": [
           {
            "marker": {
             "colorbar": {
              "outlinewidth": 0,
              "ticks": ""
             }
            },
            "type": "scattermapbox"
           }
          ],
          "scatterpolar": [
           {
            "marker": {
             "colorbar": {
              "outlinewidth": 0,
              "ticks": ""
             }
            },
            "type": "scatterpolar"
           }
          ],
          "scatterpolargl": [
           {
            "marker": {
             "colorbar": {
              "outlinewidth": 0,
              "ticks": ""
             }
            },
            "type": "scatterpolargl"
           }
          ],
          "scatterternary": [
           {
            "marker": {
             "colorbar": {
              "outlinewidth": 0,
              "ticks": ""
             }
            },
            "type": "scatterternary"
           }
          ],
          "surface": [
           {
            "colorbar": {
             "outlinewidth": 0,
             "ticks": ""
            },
            "colorscale": [
             [
              0,
              "#0d0887"
             ],
             [
              0.1111111111111111,
              "#46039f"
             ],
             [
              0.2222222222222222,
              "#7201a8"
             ],
             [
              0.3333333333333333,
              "#9c179e"
             ],
             [
              0.4444444444444444,
              "#bd3786"
             ],
             [
              0.5555555555555556,
              "#d8576b"
             ],
             [
              0.6666666666666666,
              "#ed7953"
             ],
             [
              0.7777777777777778,
              "#fb9f3a"
             ],
             [
              0.8888888888888888,
              "#fdca26"
             ],
             [
              1,
              "#f0f921"
             ]
            ],
            "type": "surface"
           }
          ],
          "table": [
           {
            "cells": {
             "fill": {
              "color": "#EBF0F8"
             },
             "line": {
              "color": "white"
             }
            },
            "header": {
             "fill": {
              "color": "#C8D4E3"
             },
             "line": {
              "color": "white"
             }
            },
            "type": "table"
           }
          ]
         },
         "layout": {
          "annotationdefaults": {
           "arrowcolor": "#2a3f5f",
           "arrowhead": 0,
           "arrowwidth": 1
          },
          "autotypenumbers": "strict",
          "coloraxis": {
           "colorbar": {
            "outlinewidth": 0,
            "ticks": ""
           }
          },
          "colorscale": {
           "diverging": [
            [
             0,
             "#8e0152"
            ],
            [
             0.1,
             "#c51b7d"
            ],
            [
             0.2,
             "#de77ae"
            ],
            [
             0.3,
             "#f1b6da"
            ],
            [
             0.4,
             "#fde0ef"
            ],
            [
             0.5,
             "#f7f7f7"
            ],
            [
             0.6,
             "#e6f5d0"
            ],
            [
             0.7,
             "#b8e186"
            ],
            [
             0.8,
             "#7fbc41"
            ],
            [
             0.9,
             "#4d9221"
            ],
            [
             1,
             "#276419"
            ]
           ],
           "sequential": [
            [
             0,
             "#0d0887"
            ],
            [
             0.1111111111111111,
             "#46039f"
            ],
            [
             0.2222222222222222,
             "#7201a8"
            ],
            [
             0.3333333333333333,
             "#9c179e"
            ],
            [
             0.4444444444444444,
             "#bd3786"
            ],
            [
             0.5555555555555556,
             "#d8576b"
            ],
            [
             0.6666666666666666,
             "#ed7953"
            ],
            [
             0.7777777777777778,
             "#fb9f3a"
            ],
            [
             0.8888888888888888,
             "#fdca26"
            ],
            [
             1,
             "#f0f921"
            ]
           ],
           "sequentialminus": [
            [
             0,
             "#0d0887"
            ],
            [
             0.1111111111111111,
             "#46039f"
            ],
            [
             0.2222222222222222,
             "#7201a8"
            ],
            [
             0.3333333333333333,
             "#9c179e"
            ],
            [
             0.4444444444444444,
             "#bd3786"
            ],
            [
             0.5555555555555556,
             "#d8576b"
            ],
            [
             0.6666666666666666,
             "#ed7953"
            ],
            [
             0.7777777777777778,
             "#fb9f3a"
            ],
            [
             0.8888888888888888,
             "#fdca26"
            ],
            [
             1,
             "#f0f921"
            ]
           ]
          },
          "colorway": [
           "#636efa",
           "#EF553B",
           "#00cc96",
           "#ab63fa",
           "#FFA15A",
           "#19d3f3",
           "#FF6692",
           "#B6E880",
           "#FF97FF",
           "#FECB52"
          ],
          "font": {
           "color": "#2a3f5f"
          },
          "geo": {
           "bgcolor": "white",
           "lakecolor": "white",
           "landcolor": "#E5ECF6",
           "showlakes": true,
           "showland": true,
           "subunitcolor": "white"
          },
          "hoverlabel": {
           "align": "left"
          },
          "hovermode": "closest",
          "mapbox": {
           "style": "light"
          },
          "paper_bgcolor": "white",
          "plot_bgcolor": "#E5ECF6",
          "polar": {
           "angularaxis": {
            "gridcolor": "white",
            "linecolor": "white",
            "ticks": ""
           },
           "bgcolor": "#E5ECF6",
           "radialaxis": {
            "gridcolor": "white",
            "linecolor": "white",
            "ticks": ""
           }
          },
          "scene": {
           "xaxis": {
            "backgroundcolor": "#E5ECF6",
            "gridcolor": "white",
            "gridwidth": 2,
            "linecolor": "white",
            "showbackground": true,
            "ticks": "",
            "zerolinecolor": "white"
           },
           "yaxis": {
            "backgroundcolor": "#E5ECF6",
            "gridcolor": "white",
            "gridwidth": 2,
            "linecolor": "white",
            "showbackground": true,
            "ticks": "",
            "zerolinecolor": "white"
           },
           "zaxis": {
            "backgroundcolor": "#E5ECF6",
            "gridcolor": "white",
            "gridwidth": 2,
            "linecolor": "white",
            "showbackground": true,
            "ticks": "",
            "zerolinecolor": "white"
           }
          },
          "shapedefaults": {
           "line": {
            "color": "#2a3f5f"
           }
          },
          "ternary": {
           "aaxis": {
            "gridcolor": "white",
            "linecolor": "white",
            "ticks": ""
           },
           "baxis": {
            "gridcolor": "white",
            "linecolor": "white",
            "ticks": ""
           },
           "bgcolor": "#E5ECF6",
           "caxis": {
            "gridcolor": "white",
            "linecolor": "white",
            "ticks": ""
           }
          },
          "title": {
           "x": 0.05
          },
          "xaxis": {
           "automargin": true,
           "gridcolor": "white",
           "linecolor": "white",
           "ticks": "",
           "title": {
            "standoff": 15
           },
           "zerolinecolor": "white",
           "zerolinewidth": 2
          },
          "yaxis": {
           "automargin": true,
           "gridcolor": "white",
           "linecolor": "white",
           "ticks": "",
           "title": {
            "standoff": 15
           },
           "zerolinecolor": "white",
           "zerolinewidth": 2
          }
         }
        },
        "title": {
         "font": {
          "color": "#4D5663"
         }
        },
        "xaxis": {
         "gridcolor": "#E1E5ED",
         "showgrid": true,
         "tickfont": {
          "color": "#4D5663"
         },
         "title": {
          "font": {
           "color": "#4D5663"
          },
          "text": ""
         },
         "zerolinecolor": "#E1E5ED"
        },
        "yaxis": {
         "gridcolor": "#E1E5ED",
         "showgrid": true,
         "tickfont": {
          "color": "#4D5663"
         },
         "title": {
          "font": {
           "color": "#4D5663"
          },
          "text": ""
         },
         "zerolinecolor": "#E1E5ED"
        }
       }
      },
      "text/html": [
       "<div>                            <div id=\"693ad48f-d7f1-420e-a0c6-1e7c4e655408\" class=\"plotly-graph-div\" style=\"height:525px; width:100%;\"></div>            <script type=\"text/javascript\">                require([\"plotly\"], function(Plotly) {                    window.PLOTLYENV=window.PLOTLYENV || {};\n",
       "                    window.PLOTLYENV.BASE_URL='https://plot.ly';                                    if (document.getElementById(\"693ad48f-d7f1-420e-a0c6-1e7c4e655408\")) {                    Plotly.newPlot(                        \"693ad48f-d7f1-420e-a0c6-1e7c4e655408\",                        [{\"line\":{\"color\":\"rgba(255, 153, 51, 1.0)\",\"dash\":\"solid\",\"shape\":\"linear\",\"width\":1.3},\"marker\":{\"size\":10,\"symbol\":\"circle\"},\"mode\":\"markers\",\"name\":\"B\",\"text\":\"\",\"type\":\"scatter\",\"x\":[-1.0256496621618938,-0.287105672454455,-0.6126639634228842,-1.8597037893552084,-0.9566427708642816,-0.22859819369550846,-0.4793812465302499,-2.4903951825038813,0.6035392131290644,2.677096068539839,0.5624731248787744,0.6222528642358222,-0.8490252514473418,-0.548810215060859,-0.5441384236153484,-2.5149406977090956,-0.3333675628721594,-1.245999584290874,-0.7903534761881433,1.5942982357052238,-1.5430176620588751,-0.13089543216082566,0.6700435896476531,-0.6069714026860633,1.2123405058155519,0.3749006858232452,-0.009946020164863893,1.5073145491676003,0.5699235250463723,0.7398952783904557,-1.1036200331677495,-0.29057344258650386,-1.7712973637365244,-0.389337166193235,0.3602812720007109,1.2395176372632817,-0.15738519218783073,-0.5722716346763621,0.07426592847210023,0.5334310013393081,1.006867506307998,-0.7966987716444317,-0.6176020520570332,-0.13744267022751766,0.7863067739194248,-1.194862481983797,-0.769640861846518,-2.122468731579507,-0.7632481255170883,-1.1025826503717449,-1.4045051468002292,0.8961136540172652,-1.0710974125608013,0.15498772074028588,1.4859884020677092,-0.577619136840705,1.0070183885795967,0.5852939462271314,0.8324944714535736,-0.5978250831419247,-1.178038718496559,3.5635564719893926,0.2949200815314698,-0.4067784379393906,1.787379881681812,-0.6804979122610798,1.0624202313096711,0.30189649555208004,-1.3803836409834225,1.8851095843009085,-0.25984318725201777,2.5727962929003705,-1.0745228643283593,0.24764449226937535,0.6818166884272487,-0.02858693606250979,0.38039070767124006,-0.4321678825504317,-1.3169608985732824,1.0446582585781277,1.8480262263356928,-0.4532527549832854,0.2706580650625444,-0.22665173044390874,0.05181115815723766,-0.5417283794399212,1.1166506320083285,-0.14254506526142394,0.8459633017895346,-2.5397751668382043,-0.5552784592316042,-0.4822945755268403,0.12701578635685654,0.7148797761841683,-2.038555956140452,-1.994346917296289,2.630091203316942,-1.303775711537322,-1.1227860545476014,0.6671696461846212],\"y\":[-0.08520702370665945,-0.5428353896137872,-0.9229682894210636,-1.1373838493074757,-0.59974338941446,-0.6226775282171854,-0.6909488674104681,-0.6429884712883694,-0.763829818415618,1.9126612513514099,0.5051946942444656,1.1534796814020114,-1.4973541967185586,-1.1603641595539111,1.2089092230741885,-1.2866488766091513,0.6253039088147416,0.09943432806814738,-1.81878967090492,0.45454932869301284,-1.0661959002998078,-0.45226231295844893,0.502073890766179,1.360000850818429,1.576199232879038,-0.991354458568695,-0.41864922052129755,-0.27693294224574005,-1.4369765922877695,-0.4564622304795268,-0.543033343656325,-0.796411024933017,-0.6674501440461106,-0.4083371687249216,-0.9477198563372072,0.17176129717986716,0.4348243846709589,0.29771223214238673,0.26427765803321684,-0.8363995101281714,0.8823759134303497,0.905607194137671,-0.5565870945944663,-0.41972347347737227,-1.9249329386407084,0.6295212818429051,0.8028696678842703,-0.9588753331328411,-2.0406461185745655,0.5798060382596439,-0.7415515925609483,-0.25876903380250166,2.182261418702065,1.0229115282733865,1.294722395518006,0.3884114484562883,-2.2263153739917003,-0.6268318814354596,-1.6025381888476122,-1.0045768452368167,-1.157463102824297,-0.5838177334890376,0.32452522809203876,-0.7419037873420108,0.8579172439573104,-1.5878134298301179,-0.21031196661969556,0.5675315039804291,-0.3621359496459766,0.32448366104306103,0.19420872288635715,-2.597531208936153,0.04676148891109547,-0.17483040082085477,-0.2621860092876313,-1.045483666627226,0.050234493136657045,-0.05791781576786074,0.513050713788694,-1.6255212702788666,-1.5156077636707201,-1.9785169493256909,-1.9490945331143803,-1.0806817557769284,1.6839128089017628,0.6076703250867478,-0.9721863273679423,0.6347401000811329,1.1733829018513646,2.481087579855182,0.7055191896422903,-1.0860434878294678,1.5917538490464633,0.257385934981979,-1.9815757748839793,-0.2840951440640914,-1.295585170698604,-0.3272390968001948,-0.7705741622343572,-0.12028512029356135]}],                        {\"legend\":{\"bgcolor\":\"#F5F6F9\",\"font\":{\"color\":\"#4D5663\"}},\"paper_bgcolor\":\"#F5F6F9\",\"plot_bgcolor\":\"#F5F6F9\",\"template\":{\"data\":{\"bar\":[{\"error_x\":{\"color\":\"#2a3f5f\"},\"error_y\":{\"color\":\"#2a3f5f\"},\"marker\":{\"line\":{\"color\":\"#E5ECF6\",\"width\":0.5},\"pattern\":{\"fillmode\":\"overlay\",\"size\":10,\"solidity\":0.2}},\"type\":\"bar\"}],\"barpolar\":[{\"marker\":{\"line\":{\"color\":\"#E5ECF6\",\"width\":0.5},\"pattern\":{\"fillmode\":\"overlay\",\"size\":10,\"solidity\":0.2}},\"type\":\"barpolar\"}],\"carpet\":[{\"aaxis\":{\"endlinecolor\":\"#2a3f5f\",\"gridcolor\":\"white\",\"linecolor\":\"white\",\"minorgridcolor\":\"white\",\"startlinecolor\":\"#2a3f5f\"},\"baxis\":{\"endlinecolor\":\"#2a3f5f\",\"gridcolor\":\"white\",\"linecolor\":\"white\",\"minorgridcolor\":\"white\",\"startlinecolor\":\"#2a3f5f\"},\"type\":\"carpet\"}],\"choropleth\":[{\"colorbar\":{\"outlinewidth\":0,\"ticks\":\"\"},\"type\":\"choropleth\"}],\"contour\":[{\"colorbar\":{\"outlinewidth\":0,\"ticks\":\"\"},\"colorscale\":[[0.0,\"#0d0887\"],[0.1111111111111111,\"#46039f\"],[0.2222222222222222,\"#7201a8\"],[0.3333333333333333,\"#9c179e\"],[0.4444444444444444,\"#bd3786\"],[0.5555555555555556,\"#d8576b\"],[0.6666666666666666,\"#ed7953\"],[0.7777777777777778,\"#fb9f3a\"],[0.8888888888888888,\"#fdca26\"],[1.0,\"#f0f921\"]],\"type\":\"contour\"}],\"contourcarpet\":[{\"colorbar\":{\"outlinewidth\":0,\"ticks\":\"\"},\"type\":\"contourcarpet\"}],\"heatmap\":[{\"colorbar\":{\"outlinewidth\":0,\"ticks\":\"\"},\"colorscale\":[[0.0,\"#0d0887\"],[0.1111111111111111,\"#46039f\"],[0.2222222222222222,\"#7201a8\"],[0.3333333333333333,\"#9c179e\"],[0.4444444444444444,\"#bd3786\"],[0.5555555555555556,\"#d8576b\"],[0.6666666666666666,\"#ed7953\"],[0.7777777777777778,\"#fb9f3a\"],[0.8888888888888888,\"#fdca26\"],[1.0,\"#f0f921\"]],\"type\":\"heatmap\"}],\"heatmapgl\":[{\"colorbar\":{\"outlinewidth\":0,\"ticks\":\"\"},\"colorscale\":[[0.0,\"#0d0887\"],[0.1111111111111111,\"#46039f\"],[0.2222222222222222,\"#7201a8\"],[0.3333333333333333,\"#9c179e\"],[0.4444444444444444,\"#bd3786\"],[0.5555555555555556,\"#d8576b\"],[0.6666666666666666,\"#ed7953\"],[0.7777777777777778,\"#fb9f3a\"],[0.8888888888888888,\"#fdca26\"],[1.0,\"#f0f921\"]],\"type\":\"heatmapgl\"}],\"histogram\":[{\"marker\":{\"pattern\":{\"fillmode\":\"overlay\",\"size\":10,\"solidity\":0.2}},\"type\":\"histogram\"}],\"histogram2d\":[{\"colorbar\":{\"outlinewidth\":0,\"ticks\":\"\"},\"colorscale\":[[0.0,\"#0d0887\"],[0.1111111111111111,\"#46039f\"],[0.2222222222222222,\"#7201a8\"],[0.3333333333333333,\"#9c179e\"],[0.4444444444444444,\"#bd3786\"],[0.5555555555555556,\"#d8576b\"],[0.6666666666666666,\"#ed7953\"],[0.7777777777777778,\"#fb9f3a\"],[0.8888888888888888,\"#fdca26\"],[1.0,\"#f0f921\"]],\"type\":\"histogram2d\"}],\"histogram2dcontour\":[{\"colorbar\":{\"outlinewidth\":0,\"ticks\":\"\"},\"colorscale\":[[0.0,\"#0d0887\"],[0.1111111111111111,\"#46039f\"],[0.2222222222222222,\"#7201a8\"],[0.3333333333333333,\"#9c179e\"],[0.4444444444444444,\"#bd3786\"],[0.5555555555555556,\"#d8576b\"],[0.6666666666666666,\"#ed7953\"],[0.7777777777777778,\"#fb9f3a\"],[0.8888888888888888,\"#fdca26\"],[1.0,\"#f0f921\"]],\"type\":\"histogram2dcontour\"}],\"mesh3d\":[{\"colorbar\":{\"outlinewidth\":0,\"ticks\":\"\"},\"type\":\"mesh3d\"}],\"parcoords\":[{\"line\":{\"colorbar\":{\"outlinewidth\":0,\"ticks\":\"\"}},\"type\":\"parcoords\"}],\"pie\":[{\"automargin\":true,\"type\":\"pie\"}],\"scatter\":[{\"marker\":{\"colorbar\":{\"outlinewidth\":0,\"ticks\":\"\"}},\"type\":\"scatter\"}],\"scatter3d\":[{\"line\":{\"colorbar\":{\"outlinewidth\":0,\"ticks\":\"\"}},\"marker\":{\"colorbar\":{\"outlinewidth\":0,\"ticks\":\"\"}},\"type\":\"scatter3d\"}],\"scattercarpet\":[{\"marker\":{\"colorbar\":{\"outlinewidth\":0,\"ticks\":\"\"}},\"type\":\"scattercarpet\"}],\"scattergeo\":[{\"marker\":{\"colorbar\":{\"outlinewidth\":0,\"ticks\":\"\"}},\"type\":\"scattergeo\"}],\"scattergl\":[{\"marker\":{\"colorbar\":{\"outlinewidth\":0,\"ticks\":\"\"}},\"type\":\"scattergl\"}],\"scattermapbox\":[{\"marker\":{\"colorbar\":{\"outlinewidth\":0,\"ticks\":\"\"}},\"type\":\"scattermapbox\"}],\"scatterpolar\":[{\"marker\":{\"colorbar\":{\"outlinewidth\":0,\"ticks\":\"\"}},\"type\":\"scatterpolar\"}],\"scatterpolargl\":[{\"marker\":{\"colorbar\":{\"outlinewidth\":0,\"ticks\":\"\"}},\"type\":\"scatterpolargl\"}],\"scatterternary\":[{\"marker\":{\"colorbar\":{\"outlinewidth\":0,\"ticks\":\"\"}},\"type\":\"scatterternary\"}],\"surface\":[{\"colorbar\":{\"outlinewidth\":0,\"ticks\":\"\"},\"colorscale\":[[0.0,\"#0d0887\"],[0.1111111111111111,\"#46039f\"],[0.2222222222222222,\"#7201a8\"],[0.3333333333333333,\"#9c179e\"],[0.4444444444444444,\"#bd3786\"],[0.5555555555555556,\"#d8576b\"],[0.6666666666666666,\"#ed7953\"],[0.7777777777777778,\"#fb9f3a\"],[0.8888888888888888,\"#fdca26\"],[1.0,\"#f0f921\"]],\"type\":\"surface\"}],\"table\":[{\"cells\":{\"fill\":{\"color\":\"#EBF0F8\"},\"line\":{\"color\":\"white\"}},\"header\":{\"fill\":{\"color\":\"#C8D4E3\"},\"line\":{\"color\":\"white\"}},\"type\":\"table\"}]},\"layout\":{\"annotationdefaults\":{\"arrowcolor\":\"#2a3f5f\",\"arrowhead\":0,\"arrowwidth\":1},\"autotypenumbers\":\"strict\",\"coloraxis\":{\"colorbar\":{\"outlinewidth\":0,\"ticks\":\"\"}},\"colorscale\":{\"diverging\":[[0,\"#8e0152\"],[0.1,\"#c51b7d\"],[0.2,\"#de77ae\"],[0.3,\"#f1b6da\"],[0.4,\"#fde0ef\"],[0.5,\"#f7f7f7\"],[0.6,\"#e6f5d0\"],[0.7,\"#b8e186\"],[0.8,\"#7fbc41\"],[0.9,\"#4d9221\"],[1,\"#276419\"]],\"sequential\":[[0.0,\"#0d0887\"],[0.1111111111111111,\"#46039f\"],[0.2222222222222222,\"#7201a8\"],[0.3333333333333333,\"#9c179e\"],[0.4444444444444444,\"#bd3786\"],[0.5555555555555556,\"#d8576b\"],[0.6666666666666666,\"#ed7953\"],[0.7777777777777778,\"#fb9f3a\"],[0.8888888888888888,\"#fdca26\"],[1.0,\"#f0f921\"]],\"sequentialminus\":[[0.0,\"#0d0887\"],[0.1111111111111111,\"#46039f\"],[0.2222222222222222,\"#7201a8\"],[0.3333333333333333,\"#9c179e\"],[0.4444444444444444,\"#bd3786\"],[0.5555555555555556,\"#d8576b\"],[0.6666666666666666,\"#ed7953\"],[0.7777777777777778,\"#fb9f3a\"],[0.8888888888888888,\"#fdca26\"],[1.0,\"#f0f921\"]]},\"colorway\":[\"#636efa\",\"#EF553B\",\"#00cc96\",\"#ab63fa\",\"#FFA15A\",\"#19d3f3\",\"#FF6692\",\"#B6E880\",\"#FF97FF\",\"#FECB52\"],\"font\":{\"color\":\"#2a3f5f\"},\"geo\":{\"bgcolor\":\"white\",\"lakecolor\":\"white\",\"landcolor\":\"#E5ECF6\",\"showlakes\":true,\"showland\":true,\"subunitcolor\":\"white\"},\"hoverlabel\":{\"align\":\"left\"},\"hovermode\":\"closest\",\"mapbox\":{\"style\":\"light\"},\"paper_bgcolor\":\"white\",\"plot_bgcolor\":\"#E5ECF6\",\"polar\":{\"angularaxis\":{\"gridcolor\":\"white\",\"linecolor\":\"white\",\"ticks\":\"\"},\"bgcolor\":\"#E5ECF6\",\"radialaxis\":{\"gridcolor\":\"white\",\"linecolor\":\"white\",\"ticks\":\"\"}},\"scene\":{\"xaxis\":{\"backgroundcolor\":\"#E5ECF6\",\"gridcolor\":\"white\",\"gridwidth\":2,\"linecolor\":\"white\",\"showbackground\":true,\"ticks\":\"\",\"zerolinecolor\":\"white\"},\"yaxis\":{\"backgroundcolor\":\"#E5ECF6\",\"gridcolor\":\"white\",\"gridwidth\":2,\"linecolor\":\"white\",\"showbackground\":true,\"ticks\":\"\",\"zerolinecolor\":\"white\"},\"zaxis\":{\"backgroundcolor\":\"#E5ECF6\",\"gridcolor\":\"white\",\"gridwidth\":2,\"linecolor\":\"white\",\"showbackground\":true,\"ticks\":\"\",\"zerolinecolor\":\"white\"}},\"shapedefaults\":{\"line\":{\"color\":\"#2a3f5f\"}},\"ternary\":{\"aaxis\":{\"gridcolor\":\"white\",\"linecolor\":\"white\",\"ticks\":\"\"},\"baxis\":{\"gridcolor\":\"white\",\"linecolor\":\"white\",\"ticks\":\"\"},\"bgcolor\":\"#E5ECF6\",\"caxis\":{\"gridcolor\":\"white\",\"linecolor\":\"white\",\"ticks\":\"\"}},\"title\":{\"x\":0.05},\"xaxis\":{\"automargin\":true,\"gridcolor\":\"white\",\"linecolor\":\"white\",\"ticks\":\"\",\"title\":{\"standoff\":15},\"zerolinecolor\":\"white\",\"zerolinewidth\":2},\"yaxis\":{\"automargin\":true,\"gridcolor\":\"white\",\"linecolor\":\"white\",\"ticks\":\"\",\"title\":{\"standoff\":15},\"zerolinecolor\":\"white\",\"zerolinewidth\":2}}},\"title\":{\"font\":{\"color\":\"#4D5663\"}},\"xaxis\":{\"gridcolor\":\"#E1E5ED\",\"showgrid\":true,\"tickfont\":{\"color\":\"#4D5663\"},\"title\":{\"font\":{\"color\":\"#4D5663\"},\"text\":\"\"},\"zerolinecolor\":\"#E1E5ED\"},\"yaxis\":{\"gridcolor\":\"#E1E5ED\",\"showgrid\":true,\"tickfont\":{\"color\":\"#4D5663\"},\"title\":{\"font\":{\"color\":\"#4D5663\"},\"text\":\"\"},\"zerolinecolor\":\"#E1E5ED\"}},                        {\"showLink\": true, \"linkText\": \"Export to plot.ly\", \"plotlyServerURL\": \"https://plot.ly\", \"responsive\": true}                    ).then(function(){\n",
       "                            \n",
       "var gd = document.getElementById('693ad48f-d7f1-420e-a0c6-1e7c4e655408');\n",
       "var x = new MutationObserver(function (mutations, observer) {{\n",
       "        var display = window.getComputedStyle(gd).display;\n",
       "        if (!display || display === 'none') {{\n",
       "            console.log([gd, 'removed!']);\n",
       "            Plotly.purge(gd);\n",
       "            observer.disconnect();\n",
       "        }}\n",
       "}});\n",
       "\n",
       "// Listen for the removal of the full notebook cells\n",
       "var notebookContainer = gd.closest('#notebook-container');\n",
       "if (notebookContainer) {{\n",
       "    x.observe(notebookContainer, {childList: true});\n",
       "}}\n",
       "\n",
       "// Listen for the clearing of the current output cell\n",
       "var outputEl = gd.closest('.output');\n",
       "if (outputEl) {{\n",
       "    x.observe(outputEl, {childList: true});\n",
       "}}\n",
       "\n",
       "                        })                };                });            </script>        </div>"
      ]
     },
     "metadata": {},
     "output_type": "display_data"
    }
   ],
   "source": [
    "df1.iplot(kind='scatter',x='A',y='B',mode='markers',size=10)"
   ]
  },
  {
   "cell_type": "code",
   "execution_count": 16,
   "id": "0d33e681",
   "metadata": {},
   "outputs": [
    {
     "data": {
      "application/vnd.plotly.v1+json": {
       "config": {
        "linkText": "Export to plot.ly",
        "plotlyServerURL": "https://plot.ly",
        "showLink": true
       },
       "data": [
        {
         "marker": {
          "color": "rgba(255, 153, 51, 0.6)",
          "line": {
           "color": "rgba(255, 153, 51, 1.0)",
           "width": 1
          }
         },
         "name": "Values",
         "orientation": "v",
         "text": "",
         "type": "bar",
         "x": [
          "A",
          "B",
          "C"
         ],
         "y": [
          32,
          43,
          50
         ]
        }
       ],
       "layout": {
        "legend": {
         "bgcolor": "#F5F6F9",
         "font": {
          "color": "#4D5663"
         }
        },
        "paper_bgcolor": "#F5F6F9",
        "plot_bgcolor": "#F5F6F9",
        "template": {
         "data": {
          "bar": [
           {
            "error_x": {
             "color": "#2a3f5f"
            },
            "error_y": {
             "color": "#2a3f5f"
            },
            "marker": {
             "line": {
              "color": "#E5ECF6",
              "width": 0.5
             },
             "pattern": {
              "fillmode": "overlay",
              "size": 10,
              "solidity": 0.2
             }
            },
            "type": "bar"
           }
          ],
          "barpolar": [
           {
            "marker": {
             "line": {
              "color": "#E5ECF6",
              "width": 0.5
             },
             "pattern": {
              "fillmode": "overlay",
              "size": 10,
              "solidity": 0.2
             }
            },
            "type": "barpolar"
           }
          ],
          "carpet": [
           {
            "aaxis": {
             "endlinecolor": "#2a3f5f",
             "gridcolor": "white",
             "linecolor": "white",
             "minorgridcolor": "white",
             "startlinecolor": "#2a3f5f"
            },
            "baxis": {
             "endlinecolor": "#2a3f5f",
             "gridcolor": "white",
             "linecolor": "white",
             "minorgridcolor": "white",
             "startlinecolor": "#2a3f5f"
            },
            "type": "carpet"
           }
          ],
          "choropleth": [
           {
            "colorbar": {
             "outlinewidth": 0,
             "ticks": ""
            },
            "type": "choropleth"
           }
          ],
          "contour": [
           {
            "colorbar": {
             "outlinewidth": 0,
             "ticks": ""
            },
            "colorscale": [
             [
              0,
              "#0d0887"
             ],
             [
              0.1111111111111111,
              "#46039f"
             ],
             [
              0.2222222222222222,
              "#7201a8"
             ],
             [
              0.3333333333333333,
              "#9c179e"
             ],
             [
              0.4444444444444444,
              "#bd3786"
             ],
             [
              0.5555555555555556,
              "#d8576b"
             ],
             [
              0.6666666666666666,
              "#ed7953"
             ],
             [
              0.7777777777777778,
              "#fb9f3a"
             ],
             [
              0.8888888888888888,
              "#fdca26"
             ],
             [
              1,
              "#f0f921"
             ]
            ],
            "type": "contour"
           }
          ],
          "contourcarpet": [
           {
            "colorbar": {
             "outlinewidth": 0,
             "ticks": ""
            },
            "type": "contourcarpet"
           }
          ],
          "heatmap": [
           {
            "colorbar": {
             "outlinewidth": 0,
             "ticks": ""
            },
            "colorscale": [
             [
              0,
              "#0d0887"
             ],
             [
              0.1111111111111111,
              "#46039f"
             ],
             [
              0.2222222222222222,
              "#7201a8"
             ],
             [
              0.3333333333333333,
              "#9c179e"
             ],
             [
              0.4444444444444444,
              "#bd3786"
             ],
             [
              0.5555555555555556,
              "#d8576b"
             ],
             [
              0.6666666666666666,
              "#ed7953"
             ],
             [
              0.7777777777777778,
              "#fb9f3a"
             ],
             [
              0.8888888888888888,
              "#fdca26"
             ],
             [
              1,
              "#f0f921"
             ]
            ],
            "type": "heatmap"
           }
          ],
          "heatmapgl": [
           {
            "colorbar": {
             "outlinewidth": 0,
             "ticks": ""
            },
            "colorscale": [
             [
              0,
              "#0d0887"
             ],
             [
              0.1111111111111111,
              "#46039f"
             ],
             [
              0.2222222222222222,
              "#7201a8"
             ],
             [
              0.3333333333333333,
              "#9c179e"
             ],
             [
              0.4444444444444444,
              "#bd3786"
             ],
             [
              0.5555555555555556,
              "#d8576b"
             ],
             [
              0.6666666666666666,
              "#ed7953"
             ],
             [
              0.7777777777777778,
              "#fb9f3a"
             ],
             [
              0.8888888888888888,
              "#fdca26"
             ],
             [
              1,
              "#f0f921"
             ]
            ],
            "type": "heatmapgl"
           }
          ],
          "histogram": [
           {
            "marker": {
             "pattern": {
              "fillmode": "overlay",
              "size": 10,
              "solidity": 0.2
             }
            },
            "type": "histogram"
           }
          ],
          "histogram2d": [
           {
            "colorbar": {
             "outlinewidth": 0,
             "ticks": ""
            },
            "colorscale": [
             [
              0,
              "#0d0887"
             ],
             [
              0.1111111111111111,
              "#46039f"
             ],
             [
              0.2222222222222222,
              "#7201a8"
             ],
             [
              0.3333333333333333,
              "#9c179e"
             ],
             [
              0.4444444444444444,
              "#bd3786"
             ],
             [
              0.5555555555555556,
              "#d8576b"
             ],
             [
              0.6666666666666666,
              "#ed7953"
             ],
             [
              0.7777777777777778,
              "#fb9f3a"
             ],
             [
              0.8888888888888888,
              "#fdca26"
             ],
             [
              1,
              "#f0f921"
             ]
            ],
            "type": "histogram2d"
           }
          ],
          "histogram2dcontour": [
           {
            "colorbar": {
             "outlinewidth": 0,
             "ticks": ""
            },
            "colorscale": [
             [
              0,
              "#0d0887"
             ],
             [
              0.1111111111111111,
              "#46039f"
             ],
             [
              0.2222222222222222,
              "#7201a8"
             ],
             [
              0.3333333333333333,
              "#9c179e"
             ],
             [
              0.4444444444444444,
              "#bd3786"
             ],
             [
              0.5555555555555556,
              "#d8576b"
             ],
             [
              0.6666666666666666,
              "#ed7953"
             ],
             [
              0.7777777777777778,
              "#fb9f3a"
             ],
             [
              0.8888888888888888,
              "#fdca26"
             ],
             [
              1,
              "#f0f921"
             ]
            ],
            "type": "histogram2dcontour"
           }
          ],
          "mesh3d": [
           {
            "colorbar": {
             "outlinewidth": 0,
             "ticks": ""
            },
            "type": "mesh3d"
           }
          ],
          "parcoords": [
           {
            "line": {
             "colorbar": {
              "outlinewidth": 0,
              "ticks": ""
             }
            },
            "type": "parcoords"
           }
          ],
          "pie": [
           {
            "automargin": true,
            "type": "pie"
           }
          ],
          "scatter": [
           {
            "marker": {
             "colorbar": {
              "outlinewidth": 0,
              "ticks": ""
             }
            },
            "type": "scatter"
           }
          ],
          "scatter3d": [
           {
            "line": {
             "colorbar": {
              "outlinewidth": 0,
              "ticks": ""
             }
            },
            "marker": {
             "colorbar": {
              "outlinewidth": 0,
              "ticks": ""
             }
            },
            "type": "scatter3d"
           }
          ],
          "scattercarpet": [
           {
            "marker": {
             "colorbar": {
              "outlinewidth": 0,
              "ticks": ""
             }
            },
            "type": "scattercarpet"
           }
          ],
          "scattergeo": [
           {
            "marker": {
             "colorbar": {
              "outlinewidth": 0,
              "ticks": ""
             }
            },
            "type": "scattergeo"
           }
          ],
          "scattergl": [
           {
            "marker": {
             "colorbar": {
              "outlinewidth": 0,
              "ticks": ""
             }
            },
            "type": "scattergl"
           }
          ],
          "scattermapbox": [
           {
            "marker": {
             "colorbar": {
              "outlinewidth": 0,
              "ticks": ""
             }
            },
            "type": "scattermapbox"
           }
          ],
          "scatterpolar": [
           {
            "marker": {
             "colorbar": {
              "outlinewidth": 0,
              "ticks": ""
             }
            },
            "type": "scatterpolar"
           }
          ],
          "scatterpolargl": [
           {
            "marker": {
             "colorbar": {
              "outlinewidth": 0,
              "ticks": ""
             }
            },
            "type": "scatterpolargl"
           }
          ],
          "scatterternary": [
           {
            "marker": {
             "colorbar": {
              "outlinewidth": 0,
              "ticks": ""
             }
            },
            "type": "scatterternary"
           }
          ],
          "surface": [
           {
            "colorbar": {
             "outlinewidth": 0,
             "ticks": ""
            },
            "colorscale": [
             [
              0,
              "#0d0887"
             ],
             [
              0.1111111111111111,
              "#46039f"
             ],
             [
              0.2222222222222222,
              "#7201a8"
             ],
             [
              0.3333333333333333,
              "#9c179e"
             ],
             [
              0.4444444444444444,
              "#bd3786"
             ],
             [
              0.5555555555555556,
              "#d8576b"
             ],
             [
              0.6666666666666666,
              "#ed7953"
             ],
             [
              0.7777777777777778,
              "#fb9f3a"
             ],
             [
              0.8888888888888888,
              "#fdca26"
             ],
             [
              1,
              "#f0f921"
             ]
            ],
            "type": "surface"
           }
          ],
          "table": [
           {
            "cells": {
             "fill": {
              "color": "#EBF0F8"
             },
             "line": {
              "color": "white"
             }
            },
            "header": {
             "fill": {
              "color": "#C8D4E3"
             },
             "line": {
              "color": "white"
             }
            },
            "type": "table"
           }
          ]
         },
         "layout": {
          "annotationdefaults": {
           "arrowcolor": "#2a3f5f",
           "arrowhead": 0,
           "arrowwidth": 1
          },
          "autotypenumbers": "strict",
          "coloraxis": {
           "colorbar": {
            "outlinewidth": 0,
            "ticks": ""
           }
          },
          "colorscale": {
           "diverging": [
            [
             0,
             "#8e0152"
            ],
            [
             0.1,
             "#c51b7d"
            ],
            [
             0.2,
             "#de77ae"
            ],
            [
             0.3,
             "#f1b6da"
            ],
            [
             0.4,
             "#fde0ef"
            ],
            [
             0.5,
             "#f7f7f7"
            ],
            [
             0.6,
             "#e6f5d0"
            ],
            [
             0.7,
             "#b8e186"
            ],
            [
             0.8,
             "#7fbc41"
            ],
            [
             0.9,
             "#4d9221"
            ],
            [
             1,
             "#276419"
            ]
           ],
           "sequential": [
            [
             0,
             "#0d0887"
            ],
            [
             0.1111111111111111,
             "#46039f"
            ],
            [
             0.2222222222222222,
             "#7201a8"
            ],
            [
             0.3333333333333333,
             "#9c179e"
            ],
            [
             0.4444444444444444,
             "#bd3786"
            ],
            [
             0.5555555555555556,
             "#d8576b"
            ],
            [
             0.6666666666666666,
             "#ed7953"
            ],
            [
             0.7777777777777778,
             "#fb9f3a"
            ],
            [
             0.8888888888888888,
             "#fdca26"
            ],
            [
             1,
             "#f0f921"
            ]
           ],
           "sequentialminus": [
            [
             0,
             "#0d0887"
            ],
            [
             0.1111111111111111,
             "#46039f"
            ],
            [
             0.2222222222222222,
             "#7201a8"
            ],
            [
             0.3333333333333333,
             "#9c179e"
            ],
            [
             0.4444444444444444,
             "#bd3786"
            ],
            [
             0.5555555555555556,
             "#d8576b"
            ],
            [
             0.6666666666666666,
             "#ed7953"
            ],
            [
             0.7777777777777778,
             "#fb9f3a"
            ],
            [
             0.8888888888888888,
             "#fdca26"
            ],
            [
             1,
             "#f0f921"
            ]
           ]
          },
          "colorway": [
           "#636efa",
           "#EF553B",
           "#00cc96",
           "#ab63fa",
           "#FFA15A",
           "#19d3f3",
           "#FF6692",
           "#B6E880",
           "#FF97FF",
           "#FECB52"
          ],
          "font": {
           "color": "#2a3f5f"
          },
          "geo": {
           "bgcolor": "white",
           "lakecolor": "white",
           "landcolor": "#E5ECF6",
           "showlakes": true,
           "showland": true,
           "subunitcolor": "white"
          },
          "hoverlabel": {
           "align": "left"
          },
          "hovermode": "closest",
          "mapbox": {
           "style": "light"
          },
          "paper_bgcolor": "white",
          "plot_bgcolor": "#E5ECF6",
          "polar": {
           "angularaxis": {
            "gridcolor": "white",
            "linecolor": "white",
            "ticks": ""
           },
           "bgcolor": "#E5ECF6",
           "radialaxis": {
            "gridcolor": "white",
            "linecolor": "white",
            "ticks": ""
           }
          },
          "scene": {
           "xaxis": {
            "backgroundcolor": "#E5ECF6",
            "gridcolor": "white",
            "gridwidth": 2,
            "linecolor": "white",
            "showbackground": true,
            "ticks": "",
            "zerolinecolor": "white"
           },
           "yaxis": {
            "backgroundcolor": "#E5ECF6",
            "gridcolor": "white",
            "gridwidth": 2,
            "linecolor": "white",
            "showbackground": true,
            "ticks": "",
            "zerolinecolor": "white"
           },
           "zaxis": {
            "backgroundcolor": "#E5ECF6",
            "gridcolor": "white",
            "gridwidth": 2,
            "linecolor": "white",
            "showbackground": true,
            "ticks": "",
            "zerolinecolor": "white"
           }
          },
          "shapedefaults": {
           "line": {
            "color": "#2a3f5f"
           }
          },
          "ternary": {
           "aaxis": {
            "gridcolor": "white",
            "linecolor": "white",
            "ticks": ""
           },
           "baxis": {
            "gridcolor": "white",
            "linecolor": "white",
            "ticks": ""
           },
           "bgcolor": "#E5ECF6",
           "caxis": {
            "gridcolor": "white",
            "linecolor": "white",
            "ticks": ""
           }
          },
          "title": {
           "x": 0.05
          },
          "xaxis": {
           "automargin": true,
           "gridcolor": "white",
           "linecolor": "white",
           "ticks": "",
           "title": {
            "standoff": 15
           },
           "zerolinecolor": "white",
           "zerolinewidth": 2
          },
          "yaxis": {
           "automargin": true,
           "gridcolor": "white",
           "linecolor": "white",
           "ticks": "",
           "title": {
            "standoff": 15
           },
           "zerolinecolor": "white",
           "zerolinewidth": 2
          }
         }
        },
        "title": {
         "font": {
          "color": "#4D5663"
         }
        },
        "xaxis": {
         "gridcolor": "#E1E5ED",
         "showgrid": true,
         "tickfont": {
          "color": "#4D5663"
         },
         "title": {
          "font": {
           "color": "#4D5663"
          },
          "text": ""
         },
         "zerolinecolor": "#E1E5ED"
        },
        "yaxis": {
         "gridcolor": "#E1E5ED",
         "showgrid": true,
         "tickfont": {
          "color": "#4D5663"
         },
         "title": {
          "font": {
           "color": "#4D5663"
          },
          "text": ""
         },
         "zerolinecolor": "#E1E5ED"
        }
       }
      },
      "text/html": [
       "<div>                            <div id=\"65e77b3c-b869-4c9e-97f7-c407a8757c1b\" class=\"plotly-graph-div\" style=\"height:525px; width:100%;\"></div>            <script type=\"text/javascript\">                require([\"plotly\"], function(Plotly) {                    window.PLOTLYENV=window.PLOTLYENV || {};\n",
       "                    window.PLOTLYENV.BASE_URL='https://plot.ly';                                    if (document.getElementById(\"65e77b3c-b869-4c9e-97f7-c407a8757c1b\")) {                    Plotly.newPlot(                        \"65e77b3c-b869-4c9e-97f7-c407a8757c1b\",                        [{\"marker\":{\"color\":\"rgba(255, 153, 51, 0.6)\",\"line\":{\"color\":\"rgba(255, 153, 51, 1.0)\",\"width\":1}},\"name\":\"Values\",\"orientation\":\"v\",\"text\":\"\",\"type\":\"bar\",\"x\":[\"A\",\"B\",\"C\"],\"y\":[32,43,50]}],                        {\"legend\":{\"bgcolor\":\"#F5F6F9\",\"font\":{\"color\":\"#4D5663\"}},\"paper_bgcolor\":\"#F5F6F9\",\"plot_bgcolor\":\"#F5F6F9\",\"template\":{\"data\":{\"bar\":[{\"error_x\":{\"color\":\"#2a3f5f\"},\"error_y\":{\"color\":\"#2a3f5f\"},\"marker\":{\"line\":{\"color\":\"#E5ECF6\",\"width\":0.5},\"pattern\":{\"fillmode\":\"overlay\",\"size\":10,\"solidity\":0.2}},\"type\":\"bar\"}],\"barpolar\":[{\"marker\":{\"line\":{\"color\":\"#E5ECF6\",\"width\":0.5},\"pattern\":{\"fillmode\":\"overlay\",\"size\":10,\"solidity\":0.2}},\"type\":\"barpolar\"}],\"carpet\":[{\"aaxis\":{\"endlinecolor\":\"#2a3f5f\",\"gridcolor\":\"white\",\"linecolor\":\"white\",\"minorgridcolor\":\"white\",\"startlinecolor\":\"#2a3f5f\"},\"baxis\":{\"endlinecolor\":\"#2a3f5f\",\"gridcolor\":\"white\",\"linecolor\":\"white\",\"minorgridcolor\":\"white\",\"startlinecolor\":\"#2a3f5f\"},\"type\":\"carpet\"}],\"choropleth\":[{\"colorbar\":{\"outlinewidth\":0,\"ticks\":\"\"},\"type\":\"choropleth\"}],\"contour\":[{\"colorbar\":{\"outlinewidth\":0,\"ticks\":\"\"},\"colorscale\":[[0.0,\"#0d0887\"],[0.1111111111111111,\"#46039f\"],[0.2222222222222222,\"#7201a8\"],[0.3333333333333333,\"#9c179e\"],[0.4444444444444444,\"#bd3786\"],[0.5555555555555556,\"#d8576b\"],[0.6666666666666666,\"#ed7953\"],[0.7777777777777778,\"#fb9f3a\"],[0.8888888888888888,\"#fdca26\"],[1.0,\"#f0f921\"]],\"type\":\"contour\"}],\"contourcarpet\":[{\"colorbar\":{\"outlinewidth\":0,\"ticks\":\"\"},\"type\":\"contourcarpet\"}],\"heatmap\":[{\"colorbar\":{\"outlinewidth\":0,\"ticks\":\"\"},\"colorscale\":[[0.0,\"#0d0887\"],[0.1111111111111111,\"#46039f\"],[0.2222222222222222,\"#7201a8\"],[0.3333333333333333,\"#9c179e\"],[0.4444444444444444,\"#bd3786\"],[0.5555555555555556,\"#d8576b\"],[0.6666666666666666,\"#ed7953\"],[0.7777777777777778,\"#fb9f3a\"],[0.8888888888888888,\"#fdca26\"],[1.0,\"#f0f921\"]],\"type\":\"heatmap\"}],\"heatmapgl\":[{\"colorbar\":{\"outlinewidth\":0,\"ticks\":\"\"},\"colorscale\":[[0.0,\"#0d0887\"],[0.1111111111111111,\"#46039f\"],[0.2222222222222222,\"#7201a8\"],[0.3333333333333333,\"#9c179e\"],[0.4444444444444444,\"#bd3786\"],[0.5555555555555556,\"#d8576b\"],[0.6666666666666666,\"#ed7953\"],[0.7777777777777778,\"#fb9f3a\"],[0.8888888888888888,\"#fdca26\"],[1.0,\"#f0f921\"]],\"type\":\"heatmapgl\"}],\"histogram\":[{\"marker\":{\"pattern\":{\"fillmode\":\"overlay\",\"size\":10,\"solidity\":0.2}},\"type\":\"histogram\"}],\"histogram2d\":[{\"colorbar\":{\"outlinewidth\":0,\"ticks\":\"\"},\"colorscale\":[[0.0,\"#0d0887\"],[0.1111111111111111,\"#46039f\"],[0.2222222222222222,\"#7201a8\"],[0.3333333333333333,\"#9c179e\"],[0.4444444444444444,\"#bd3786\"],[0.5555555555555556,\"#d8576b\"],[0.6666666666666666,\"#ed7953\"],[0.7777777777777778,\"#fb9f3a\"],[0.8888888888888888,\"#fdca26\"],[1.0,\"#f0f921\"]],\"type\":\"histogram2d\"}],\"histogram2dcontour\":[{\"colorbar\":{\"outlinewidth\":0,\"ticks\":\"\"},\"colorscale\":[[0.0,\"#0d0887\"],[0.1111111111111111,\"#46039f\"],[0.2222222222222222,\"#7201a8\"],[0.3333333333333333,\"#9c179e\"],[0.4444444444444444,\"#bd3786\"],[0.5555555555555556,\"#d8576b\"],[0.6666666666666666,\"#ed7953\"],[0.7777777777777778,\"#fb9f3a\"],[0.8888888888888888,\"#fdca26\"],[1.0,\"#f0f921\"]],\"type\":\"histogram2dcontour\"}],\"mesh3d\":[{\"colorbar\":{\"outlinewidth\":0,\"ticks\":\"\"},\"type\":\"mesh3d\"}],\"parcoords\":[{\"line\":{\"colorbar\":{\"outlinewidth\":0,\"ticks\":\"\"}},\"type\":\"parcoords\"}],\"pie\":[{\"automargin\":true,\"type\":\"pie\"}],\"scatter\":[{\"marker\":{\"colorbar\":{\"outlinewidth\":0,\"ticks\":\"\"}},\"type\":\"scatter\"}],\"scatter3d\":[{\"line\":{\"colorbar\":{\"outlinewidth\":0,\"ticks\":\"\"}},\"marker\":{\"colorbar\":{\"outlinewidth\":0,\"ticks\":\"\"}},\"type\":\"scatter3d\"}],\"scattercarpet\":[{\"marker\":{\"colorbar\":{\"outlinewidth\":0,\"ticks\":\"\"}},\"type\":\"scattercarpet\"}],\"scattergeo\":[{\"marker\":{\"colorbar\":{\"outlinewidth\":0,\"ticks\":\"\"}},\"type\":\"scattergeo\"}],\"scattergl\":[{\"marker\":{\"colorbar\":{\"outlinewidth\":0,\"ticks\":\"\"}},\"type\":\"scattergl\"}],\"scattermapbox\":[{\"marker\":{\"colorbar\":{\"outlinewidth\":0,\"ticks\":\"\"}},\"type\":\"scattermapbox\"}],\"scatterpolar\":[{\"marker\":{\"colorbar\":{\"outlinewidth\":0,\"ticks\":\"\"}},\"type\":\"scatterpolar\"}],\"scatterpolargl\":[{\"marker\":{\"colorbar\":{\"outlinewidth\":0,\"ticks\":\"\"}},\"type\":\"scatterpolargl\"}],\"scatterternary\":[{\"marker\":{\"colorbar\":{\"outlinewidth\":0,\"ticks\":\"\"}},\"type\":\"scatterternary\"}],\"surface\":[{\"colorbar\":{\"outlinewidth\":0,\"ticks\":\"\"},\"colorscale\":[[0.0,\"#0d0887\"],[0.1111111111111111,\"#46039f\"],[0.2222222222222222,\"#7201a8\"],[0.3333333333333333,\"#9c179e\"],[0.4444444444444444,\"#bd3786\"],[0.5555555555555556,\"#d8576b\"],[0.6666666666666666,\"#ed7953\"],[0.7777777777777778,\"#fb9f3a\"],[0.8888888888888888,\"#fdca26\"],[1.0,\"#f0f921\"]],\"type\":\"surface\"}],\"table\":[{\"cells\":{\"fill\":{\"color\":\"#EBF0F8\"},\"line\":{\"color\":\"white\"}},\"header\":{\"fill\":{\"color\":\"#C8D4E3\"},\"line\":{\"color\":\"white\"}},\"type\":\"table\"}]},\"layout\":{\"annotationdefaults\":{\"arrowcolor\":\"#2a3f5f\",\"arrowhead\":0,\"arrowwidth\":1},\"autotypenumbers\":\"strict\",\"coloraxis\":{\"colorbar\":{\"outlinewidth\":0,\"ticks\":\"\"}},\"colorscale\":{\"diverging\":[[0,\"#8e0152\"],[0.1,\"#c51b7d\"],[0.2,\"#de77ae\"],[0.3,\"#f1b6da\"],[0.4,\"#fde0ef\"],[0.5,\"#f7f7f7\"],[0.6,\"#e6f5d0\"],[0.7,\"#b8e186\"],[0.8,\"#7fbc41\"],[0.9,\"#4d9221\"],[1,\"#276419\"]],\"sequential\":[[0.0,\"#0d0887\"],[0.1111111111111111,\"#46039f\"],[0.2222222222222222,\"#7201a8\"],[0.3333333333333333,\"#9c179e\"],[0.4444444444444444,\"#bd3786\"],[0.5555555555555556,\"#d8576b\"],[0.6666666666666666,\"#ed7953\"],[0.7777777777777778,\"#fb9f3a\"],[0.8888888888888888,\"#fdca26\"],[1.0,\"#f0f921\"]],\"sequentialminus\":[[0.0,\"#0d0887\"],[0.1111111111111111,\"#46039f\"],[0.2222222222222222,\"#7201a8\"],[0.3333333333333333,\"#9c179e\"],[0.4444444444444444,\"#bd3786\"],[0.5555555555555556,\"#d8576b\"],[0.6666666666666666,\"#ed7953\"],[0.7777777777777778,\"#fb9f3a\"],[0.8888888888888888,\"#fdca26\"],[1.0,\"#f0f921\"]]},\"colorway\":[\"#636efa\",\"#EF553B\",\"#00cc96\",\"#ab63fa\",\"#FFA15A\",\"#19d3f3\",\"#FF6692\",\"#B6E880\",\"#FF97FF\",\"#FECB52\"],\"font\":{\"color\":\"#2a3f5f\"},\"geo\":{\"bgcolor\":\"white\",\"lakecolor\":\"white\",\"landcolor\":\"#E5ECF6\",\"showlakes\":true,\"showland\":true,\"subunitcolor\":\"white\"},\"hoverlabel\":{\"align\":\"left\"},\"hovermode\":\"closest\",\"mapbox\":{\"style\":\"light\"},\"paper_bgcolor\":\"white\",\"plot_bgcolor\":\"#E5ECF6\",\"polar\":{\"angularaxis\":{\"gridcolor\":\"white\",\"linecolor\":\"white\",\"ticks\":\"\"},\"bgcolor\":\"#E5ECF6\",\"radialaxis\":{\"gridcolor\":\"white\",\"linecolor\":\"white\",\"ticks\":\"\"}},\"scene\":{\"xaxis\":{\"backgroundcolor\":\"#E5ECF6\",\"gridcolor\":\"white\",\"gridwidth\":2,\"linecolor\":\"white\",\"showbackground\":true,\"ticks\":\"\",\"zerolinecolor\":\"white\"},\"yaxis\":{\"backgroundcolor\":\"#E5ECF6\",\"gridcolor\":\"white\",\"gridwidth\":2,\"linecolor\":\"white\",\"showbackground\":true,\"ticks\":\"\",\"zerolinecolor\":\"white\"},\"zaxis\":{\"backgroundcolor\":\"#E5ECF6\",\"gridcolor\":\"white\",\"gridwidth\":2,\"linecolor\":\"white\",\"showbackground\":true,\"ticks\":\"\",\"zerolinecolor\":\"white\"}},\"shapedefaults\":{\"line\":{\"color\":\"#2a3f5f\"}},\"ternary\":{\"aaxis\":{\"gridcolor\":\"white\",\"linecolor\":\"white\",\"ticks\":\"\"},\"baxis\":{\"gridcolor\":\"white\",\"linecolor\":\"white\",\"ticks\":\"\"},\"bgcolor\":\"#E5ECF6\",\"caxis\":{\"gridcolor\":\"white\",\"linecolor\":\"white\",\"ticks\":\"\"}},\"title\":{\"x\":0.05},\"xaxis\":{\"automargin\":true,\"gridcolor\":\"white\",\"linecolor\":\"white\",\"ticks\":\"\",\"title\":{\"standoff\":15},\"zerolinecolor\":\"white\",\"zerolinewidth\":2},\"yaxis\":{\"automargin\":true,\"gridcolor\":\"white\",\"linecolor\":\"white\",\"ticks\":\"\",\"title\":{\"standoff\":15},\"zerolinecolor\":\"white\",\"zerolinewidth\":2}}},\"title\":{\"font\":{\"color\":\"#4D5663\"}},\"xaxis\":{\"gridcolor\":\"#E1E5ED\",\"showgrid\":true,\"tickfont\":{\"color\":\"#4D5663\"},\"title\":{\"font\":{\"color\":\"#4D5663\"},\"text\":\"\"},\"zerolinecolor\":\"#E1E5ED\"},\"yaxis\":{\"gridcolor\":\"#E1E5ED\",\"showgrid\":true,\"tickfont\":{\"color\":\"#4D5663\"},\"title\":{\"font\":{\"color\":\"#4D5663\"},\"text\":\"\"},\"zerolinecolor\":\"#E1E5ED\"}},                        {\"showLink\": true, \"linkText\": \"Export to plot.ly\", \"plotlyServerURL\": \"https://plot.ly\", \"responsive\": true}                    ).then(function(){\n",
       "                            \n",
       "var gd = document.getElementById('65e77b3c-b869-4c9e-97f7-c407a8757c1b');\n",
       "var x = new MutationObserver(function (mutations, observer) {{\n",
       "        var display = window.getComputedStyle(gd).display;\n",
       "        if (!display || display === 'none') {{\n",
       "            console.log([gd, 'removed!']);\n",
       "            Plotly.purge(gd);\n",
       "            observer.disconnect();\n",
       "        }}\n",
       "}});\n",
       "\n",
       "// Listen for the removal of the full notebook cells\n",
       "var notebookContainer = gd.closest('#notebook-container');\n",
       "if (notebookContainer) {{\n",
       "    x.observe(notebookContainer, {childList: true});\n",
       "}}\n",
       "\n",
       "// Listen for the clearing of the current output cell\n",
       "var outputEl = gd.closest('.output');\n",
       "if (outputEl) {{\n",
       "    x.observe(outputEl, {childList: true});\n",
       "}}\n",
       "\n",
       "                        })                };                });            </script>        </div>"
      ]
     },
     "metadata": {},
     "output_type": "display_data"
    }
   ],
   "source": [
    "df2.iplot(kind='bar',x='Category',y='Values')"
   ]
  },
  {
   "cell_type": "code",
   "execution_count": 17,
   "id": "30205070",
   "metadata": {},
   "outputs": [
    {
     "data": {
      "application/vnd.plotly.v1+json": {
       "config": {
        "linkText": "Export to plot.ly",
        "plotlyServerURL": "https://plot.ly",
        "showLink": true
       },
       "data": [
        {
         "marker": {
          "color": "rgba(255, 153, 51, 0.6)",
          "line": {
           "color": "rgba(255, 153, 51, 1.0)",
           "width": 1
          }
         },
         "name": "None",
         "orientation": "v",
         "text": "",
         "type": "bar",
         "x": [
          "A",
          "B",
          "C",
          "D"
         ],
         "y": [
          -8.46495609168061,
          -25.930639143708106,
          9.328463575059232,
          1.719426971877568
         ]
        }
       ],
       "layout": {
        "legend": {
         "bgcolor": "#F5F6F9",
         "font": {
          "color": "#4D5663"
         }
        },
        "paper_bgcolor": "#F5F6F9",
        "plot_bgcolor": "#F5F6F9",
        "template": {
         "data": {
          "bar": [
           {
            "error_x": {
             "color": "#2a3f5f"
            },
            "error_y": {
             "color": "#2a3f5f"
            },
            "marker": {
             "line": {
              "color": "#E5ECF6",
              "width": 0.5
             },
             "pattern": {
              "fillmode": "overlay",
              "size": 10,
              "solidity": 0.2
             }
            },
            "type": "bar"
           }
          ],
          "barpolar": [
           {
            "marker": {
             "line": {
              "color": "#E5ECF6",
              "width": 0.5
             },
             "pattern": {
              "fillmode": "overlay",
              "size": 10,
              "solidity": 0.2
             }
            },
            "type": "barpolar"
           }
          ],
          "carpet": [
           {
            "aaxis": {
             "endlinecolor": "#2a3f5f",
             "gridcolor": "white",
             "linecolor": "white",
             "minorgridcolor": "white",
             "startlinecolor": "#2a3f5f"
            },
            "baxis": {
             "endlinecolor": "#2a3f5f",
             "gridcolor": "white",
             "linecolor": "white",
             "minorgridcolor": "white",
             "startlinecolor": "#2a3f5f"
            },
            "type": "carpet"
           }
          ],
          "choropleth": [
           {
            "colorbar": {
             "outlinewidth": 0,
             "ticks": ""
            },
            "type": "choropleth"
           }
          ],
          "contour": [
           {
            "colorbar": {
             "outlinewidth": 0,
             "ticks": ""
            },
            "colorscale": [
             [
              0,
              "#0d0887"
             ],
             [
              0.1111111111111111,
              "#46039f"
             ],
             [
              0.2222222222222222,
              "#7201a8"
             ],
             [
              0.3333333333333333,
              "#9c179e"
             ],
             [
              0.4444444444444444,
              "#bd3786"
             ],
             [
              0.5555555555555556,
              "#d8576b"
             ],
             [
              0.6666666666666666,
              "#ed7953"
             ],
             [
              0.7777777777777778,
              "#fb9f3a"
             ],
             [
              0.8888888888888888,
              "#fdca26"
             ],
             [
              1,
              "#f0f921"
             ]
            ],
            "type": "contour"
           }
          ],
          "contourcarpet": [
           {
            "colorbar": {
             "outlinewidth": 0,
             "ticks": ""
            },
            "type": "contourcarpet"
           }
          ],
          "heatmap": [
           {
            "colorbar": {
             "outlinewidth": 0,
             "ticks": ""
            },
            "colorscale": [
             [
              0,
              "#0d0887"
             ],
             [
              0.1111111111111111,
              "#46039f"
             ],
             [
              0.2222222222222222,
              "#7201a8"
             ],
             [
              0.3333333333333333,
              "#9c179e"
             ],
             [
              0.4444444444444444,
              "#bd3786"
             ],
             [
              0.5555555555555556,
              "#d8576b"
             ],
             [
              0.6666666666666666,
              "#ed7953"
             ],
             [
              0.7777777777777778,
              "#fb9f3a"
             ],
             [
              0.8888888888888888,
              "#fdca26"
             ],
             [
              1,
              "#f0f921"
             ]
            ],
            "type": "heatmap"
           }
          ],
          "heatmapgl": [
           {
            "colorbar": {
             "outlinewidth": 0,
             "ticks": ""
            },
            "colorscale": [
             [
              0,
              "#0d0887"
             ],
             [
              0.1111111111111111,
              "#46039f"
             ],
             [
              0.2222222222222222,
              "#7201a8"
             ],
             [
              0.3333333333333333,
              "#9c179e"
             ],
             [
              0.4444444444444444,
              "#bd3786"
             ],
             [
              0.5555555555555556,
              "#d8576b"
             ],
             [
              0.6666666666666666,
              "#ed7953"
             ],
             [
              0.7777777777777778,
              "#fb9f3a"
             ],
             [
              0.8888888888888888,
              "#fdca26"
             ],
             [
              1,
              "#f0f921"
             ]
            ],
            "type": "heatmapgl"
           }
          ],
          "histogram": [
           {
            "marker": {
             "pattern": {
              "fillmode": "overlay",
              "size": 10,
              "solidity": 0.2
             }
            },
            "type": "histogram"
           }
          ],
          "histogram2d": [
           {
            "colorbar": {
             "outlinewidth": 0,
             "ticks": ""
            },
            "colorscale": [
             [
              0,
              "#0d0887"
             ],
             [
              0.1111111111111111,
              "#46039f"
             ],
             [
              0.2222222222222222,
              "#7201a8"
             ],
             [
              0.3333333333333333,
              "#9c179e"
             ],
             [
              0.4444444444444444,
              "#bd3786"
             ],
             [
              0.5555555555555556,
              "#d8576b"
             ],
             [
              0.6666666666666666,
              "#ed7953"
             ],
             [
              0.7777777777777778,
              "#fb9f3a"
             ],
             [
              0.8888888888888888,
              "#fdca26"
             ],
             [
              1,
              "#f0f921"
             ]
            ],
            "type": "histogram2d"
           }
          ],
          "histogram2dcontour": [
           {
            "colorbar": {
             "outlinewidth": 0,
             "ticks": ""
            },
            "colorscale": [
             [
              0,
              "#0d0887"
             ],
             [
              0.1111111111111111,
              "#46039f"
             ],
             [
              0.2222222222222222,
              "#7201a8"
             ],
             [
              0.3333333333333333,
              "#9c179e"
             ],
             [
              0.4444444444444444,
              "#bd3786"
             ],
             [
              0.5555555555555556,
              "#d8576b"
             ],
             [
              0.6666666666666666,
              "#ed7953"
             ],
             [
              0.7777777777777778,
              "#fb9f3a"
             ],
             [
              0.8888888888888888,
              "#fdca26"
             ],
             [
              1,
              "#f0f921"
             ]
            ],
            "type": "histogram2dcontour"
           }
          ],
          "mesh3d": [
           {
            "colorbar": {
             "outlinewidth": 0,
             "ticks": ""
            },
            "type": "mesh3d"
           }
          ],
          "parcoords": [
           {
            "line": {
             "colorbar": {
              "outlinewidth": 0,
              "ticks": ""
             }
            },
            "type": "parcoords"
           }
          ],
          "pie": [
           {
            "automargin": true,
            "type": "pie"
           }
          ],
          "scatter": [
           {
            "marker": {
             "colorbar": {
              "outlinewidth": 0,
              "ticks": ""
             }
            },
            "type": "scatter"
           }
          ],
          "scatter3d": [
           {
            "line": {
             "colorbar": {
              "outlinewidth": 0,
              "ticks": ""
             }
            },
            "marker": {
             "colorbar": {
              "outlinewidth": 0,
              "ticks": ""
             }
            },
            "type": "scatter3d"
           }
          ],
          "scattercarpet": [
           {
            "marker": {
             "colorbar": {
              "outlinewidth": 0,
              "ticks": ""
             }
            },
            "type": "scattercarpet"
           }
          ],
          "scattergeo": [
           {
            "marker": {
             "colorbar": {
              "outlinewidth": 0,
              "ticks": ""
             }
            },
            "type": "scattergeo"
           }
          ],
          "scattergl": [
           {
            "marker": {
             "colorbar": {
              "outlinewidth": 0,
              "ticks": ""
             }
            },
            "type": "scattergl"
           }
          ],
          "scattermapbox": [
           {
            "marker": {
             "colorbar": {
              "outlinewidth": 0,
              "ticks": ""
             }
            },
            "type": "scattermapbox"
           }
          ],
          "scatterpolar": [
           {
            "marker": {
             "colorbar": {
              "outlinewidth": 0,
              "ticks": ""
             }
            },
            "type": "scatterpolar"
           }
          ],
          "scatterpolargl": [
           {
            "marker": {
             "colorbar": {
              "outlinewidth": 0,
              "ticks": ""
             }
            },
            "type": "scatterpolargl"
           }
          ],
          "scatterternary": [
           {
            "marker": {
             "colorbar": {
              "outlinewidth": 0,
              "ticks": ""
             }
            },
            "type": "scatterternary"
           }
          ],
          "surface": [
           {
            "colorbar": {
             "outlinewidth": 0,
             "ticks": ""
            },
            "colorscale": [
             [
              0,
              "#0d0887"
             ],
             [
              0.1111111111111111,
              "#46039f"
             ],
             [
              0.2222222222222222,
              "#7201a8"
             ],
             [
              0.3333333333333333,
              "#9c179e"
             ],
             [
              0.4444444444444444,
              "#bd3786"
             ],
             [
              0.5555555555555556,
              "#d8576b"
             ],
             [
              0.6666666666666666,
              "#ed7953"
             ],
             [
              0.7777777777777778,
              "#fb9f3a"
             ],
             [
              0.8888888888888888,
              "#fdca26"
             ],
             [
              1,
              "#f0f921"
             ]
            ],
            "type": "surface"
           }
          ],
          "table": [
           {
            "cells": {
             "fill": {
              "color": "#EBF0F8"
             },
             "line": {
              "color": "white"
             }
            },
            "header": {
             "fill": {
              "color": "#C8D4E3"
             },
             "line": {
              "color": "white"
             }
            },
            "type": "table"
           }
          ]
         },
         "layout": {
          "annotationdefaults": {
           "arrowcolor": "#2a3f5f",
           "arrowhead": 0,
           "arrowwidth": 1
          },
          "autotypenumbers": "strict",
          "coloraxis": {
           "colorbar": {
            "outlinewidth": 0,
            "ticks": ""
           }
          },
          "colorscale": {
           "diverging": [
            [
             0,
             "#8e0152"
            ],
            [
             0.1,
             "#c51b7d"
            ],
            [
             0.2,
             "#de77ae"
            ],
            [
             0.3,
             "#f1b6da"
            ],
            [
             0.4,
             "#fde0ef"
            ],
            [
             0.5,
             "#f7f7f7"
            ],
            [
             0.6,
             "#e6f5d0"
            ],
            [
             0.7,
             "#b8e186"
            ],
            [
             0.8,
             "#7fbc41"
            ],
            [
             0.9,
             "#4d9221"
            ],
            [
             1,
             "#276419"
            ]
           ],
           "sequential": [
            [
             0,
             "#0d0887"
            ],
            [
             0.1111111111111111,
             "#46039f"
            ],
            [
             0.2222222222222222,
             "#7201a8"
            ],
            [
             0.3333333333333333,
             "#9c179e"
            ],
            [
             0.4444444444444444,
             "#bd3786"
            ],
            [
             0.5555555555555556,
             "#d8576b"
            ],
            [
             0.6666666666666666,
             "#ed7953"
            ],
            [
             0.7777777777777778,
             "#fb9f3a"
            ],
            [
             0.8888888888888888,
             "#fdca26"
            ],
            [
             1,
             "#f0f921"
            ]
           ],
           "sequentialminus": [
            [
             0,
             "#0d0887"
            ],
            [
             0.1111111111111111,
             "#46039f"
            ],
            [
             0.2222222222222222,
             "#7201a8"
            ],
            [
             0.3333333333333333,
             "#9c179e"
            ],
            [
             0.4444444444444444,
             "#bd3786"
            ],
            [
             0.5555555555555556,
             "#d8576b"
            ],
            [
             0.6666666666666666,
             "#ed7953"
            ],
            [
             0.7777777777777778,
             "#fb9f3a"
            ],
            [
             0.8888888888888888,
             "#fdca26"
            ],
            [
             1,
             "#f0f921"
            ]
           ]
          },
          "colorway": [
           "#636efa",
           "#EF553B",
           "#00cc96",
           "#ab63fa",
           "#FFA15A",
           "#19d3f3",
           "#FF6692",
           "#B6E880",
           "#FF97FF",
           "#FECB52"
          ],
          "font": {
           "color": "#2a3f5f"
          },
          "geo": {
           "bgcolor": "white",
           "lakecolor": "white",
           "landcolor": "#E5ECF6",
           "showlakes": true,
           "showland": true,
           "subunitcolor": "white"
          },
          "hoverlabel": {
           "align": "left"
          },
          "hovermode": "closest",
          "mapbox": {
           "style": "light"
          },
          "paper_bgcolor": "white",
          "plot_bgcolor": "#E5ECF6",
          "polar": {
           "angularaxis": {
            "gridcolor": "white",
            "linecolor": "white",
            "ticks": ""
           },
           "bgcolor": "#E5ECF6",
           "radialaxis": {
            "gridcolor": "white",
            "linecolor": "white",
            "ticks": ""
           }
          },
          "scene": {
           "xaxis": {
            "backgroundcolor": "#E5ECF6",
            "gridcolor": "white",
            "gridwidth": 2,
            "linecolor": "white",
            "showbackground": true,
            "ticks": "",
            "zerolinecolor": "white"
           },
           "yaxis": {
            "backgroundcolor": "#E5ECF6",
            "gridcolor": "white",
            "gridwidth": 2,
            "linecolor": "white",
            "showbackground": true,
            "ticks": "",
            "zerolinecolor": "white"
           },
           "zaxis": {
            "backgroundcolor": "#E5ECF6",
            "gridcolor": "white",
            "gridwidth": 2,
            "linecolor": "white",
            "showbackground": true,
            "ticks": "",
            "zerolinecolor": "white"
           }
          },
          "shapedefaults": {
           "line": {
            "color": "#2a3f5f"
           }
          },
          "ternary": {
           "aaxis": {
            "gridcolor": "white",
            "linecolor": "white",
            "ticks": ""
           },
           "baxis": {
            "gridcolor": "white",
            "linecolor": "white",
            "ticks": ""
           },
           "bgcolor": "#E5ECF6",
           "caxis": {
            "gridcolor": "white",
            "linecolor": "white",
            "ticks": ""
           }
          },
          "title": {
           "x": 0.05
          },
          "xaxis": {
           "automargin": true,
           "gridcolor": "white",
           "linecolor": "white",
           "ticks": "",
           "title": {
            "standoff": 15
           },
           "zerolinecolor": "white",
           "zerolinewidth": 2
          },
          "yaxis": {
           "automargin": true,
           "gridcolor": "white",
           "linecolor": "white",
           "ticks": "",
           "title": {
            "standoff": 15
           },
           "zerolinecolor": "white",
           "zerolinewidth": 2
          }
         }
        },
        "title": {
         "font": {
          "color": "#4D5663"
         }
        },
        "xaxis": {
         "gridcolor": "#E1E5ED",
         "showgrid": true,
         "tickfont": {
          "color": "#4D5663"
         },
         "title": {
          "font": {
           "color": "#4D5663"
          },
          "text": ""
         },
         "zerolinecolor": "#E1E5ED"
        },
        "yaxis": {
         "gridcolor": "#E1E5ED",
         "showgrid": true,
         "tickfont": {
          "color": "#4D5663"
         },
         "title": {
          "font": {
           "color": "#4D5663"
          },
          "text": ""
         },
         "zerolinecolor": "#E1E5ED"
        }
       }
      },
      "text/html": [
       "<div>                            <div id=\"ffce6d84-c29c-4c0f-a121-1ecee81f063f\" class=\"plotly-graph-div\" style=\"height:525px; width:100%;\"></div>            <script type=\"text/javascript\">                require([\"plotly\"], function(Plotly) {                    window.PLOTLYENV=window.PLOTLYENV || {};\n",
       "                    window.PLOTLYENV.BASE_URL='https://plot.ly';                                    if (document.getElementById(\"ffce6d84-c29c-4c0f-a121-1ecee81f063f\")) {                    Plotly.newPlot(                        \"ffce6d84-c29c-4c0f-a121-1ecee81f063f\",                        [{\"marker\":{\"color\":\"rgba(255, 153, 51, 0.6)\",\"line\":{\"color\":\"rgba(255, 153, 51, 1.0)\",\"width\":1}},\"name\":\"None\",\"orientation\":\"v\",\"text\":\"\",\"type\":\"bar\",\"x\":[\"A\",\"B\",\"C\",\"D\"],\"y\":[-8.46495609168061,-25.930639143708106,9.328463575059232,1.719426971877568]}],                        {\"legend\":{\"bgcolor\":\"#F5F6F9\",\"font\":{\"color\":\"#4D5663\"}},\"paper_bgcolor\":\"#F5F6F9\",\"plot_bgcolor\":\"#F5F6F9\",\"template\":{\"data\":{\"bar\":[{\"error_x\":{\"color\":\"#2a3f5f\"},\"error_y\":{\"color\":\"#2a3f5f\"},\"marker\":{\"line\":{\"color\":\"#E5ECF6\",\"width\":0.5},\"pattern\":{\"fillmode\":\"overlay\",\"size\":10,\"solidity\":0.2}},\"type\":\"bar\"}],\"barpolar\":[{\"marker\":{\"line\":{\"color\":\"#E5ECF6\",\"width\":0.5},\"pattern\":{\"fillmode\":\"overlay\",\"size\":10,\"solidity\":0.2}},\"type\":\"barpolar\"}],\"carpet\":[{\"aaxis\":{\"endlinecolor\":\"#2a3f5f\",\"gridcolor\":\"white\",\"linecolor\":\"white\",\"minorgridcolor\":\"white\",\"startlinecolor\":\"#2a3f5f\"},\"baxis\":{\"endlinecolor\":\"#2a3f5f\",\"gridcolor\":\"white\",\"linecolor\":\"white\",\"minorgridcolor\":\"white\",\"startlinecolor\":\"#2a3f5f\"},\"type\":\"carpet\"}],\"choropleth\":[{\"colorbar\":{\"outlinewidth\":0,\"ticks\":\"\"},\"type\":\"choropleth\"}],\"contour\":[{\"colorbar\":{\"outlinewidth\":0,\"ticks\":\"\"},\"colorscale\":[[0.0,\"#0d0887\"],[0.1111111111111111,\"#46039f\"],[0.2222222222222222,\"#7201a8\"],[0.3333333333333333,\"#9c179e\"],[0.4444444444444444,\"#bd3786\"],[0.5555555555555556,\"#d8576b\"],[0.6666666666666666,\"#ed7953\"],[0.7777777777777778,\"#fb9f3a\"],[0.8888888888888888,\"#fdca26\"],[1.0,\"#f0f921\"]],\"type\":\"contour\"}],\"contourcarpet\":[{\"colorbar\":{\"outlinewidth\":0,\"ticks\":\"\"},\"type\":\"contourcarpet\"}],\"heatmap\":[{\"colorbar\":{\"outlinewidth\":0,\"ticks\":\"\"},\"colorscale\":[[0.0,\"#0d0887\"],[0.1111111111111111,\"#46039f\"],[0.2222222222222222,\"#7201a8\"],[0.3333333333333333,\"#9c179e\"],[0.4444444444444444,\"#bd3786\"],[0.5555555555555556,\"#d8576b\"],[0.6666666666666666,\"#ed7953\"],[0.7777777777777778,\"#fb9f3a\"],[0.8888888888888888,\"#fdca26\"],[1.0,\"#f0f921\"]],\"type\":\"heatmap\"}],\"heatmapgl\":[{\"colorbar\":{\"outlinewidth\":0,\"ticks\":\"\"},\"colorscale\":[[0.0,\"#0d0887\"],[0.1111111111111111,\"#46039f\"],[0.2222222222222222,\"#7201a8\"],[0.3333333333333333,\"#9c179e\"],[0.4444444444444444,\"#bd3786\"],[0.5555555555555556,\"#d8576b\"],[0.6666666666666666,\"#ed7953\"],[0.7777777777777778,\"#fb9f3a\"],[0.8888888888888888,\"#fdca26\"],[1.0,\"#f0f921\"]],\"type\":\"heatmapgl\"}],\"histogram\":[{\"marker\":{\"pattern\":{\"fillmode\":\"overlay\",\"size\":10,\"solidity\":0.2}},\"type\":\"histogram\"}],\"histogram2d\":[{\"colorbar\":{\"outlinewidth\":0,\"ticks\":\"\"},\"colorscale\":[[0.0,\"#0d0887\"],[0.1111111111111111,\"#46039f\"],[0.2222222222222222,\"#7201a8\"],[0.3333333333333333,\"#9c179e\"],[0.4444444444444444,\"#bd3786\"],[0.5555555555555556,\"#d8576b\"],[0.6666666666666666,\"#ed7953\"],[0.7777777777777778,\"#fb9f3a\"],[0.8888888888888888,\"#fdca26\"],[1.0,\"#f0f921\"]],\"type\":\"histogram2d\"}],\"histogram2dcontour\":[{\"colorbar\":{\"outlinewidth\":0,\"ticks\":\"\"},\"colorscale\":[[0.0,\"#0d0887\"],[0.1111111111111111,\"#46039f\"],[0.2222222222222222,\"#7201a8\"],[0.3333333333333333,\"#9c179e\"],[0.4444444444444444,\"#bd3786\"],[0.5555555555555556,\"#d8576b\"],[0.6666666666666666,\"#ed7953\"],[0.7777777777777778,\"#fb9f3a\"],[0.8888888888888888,\"#fdca26\"],[1.0,\"#f0f921\"]],\"type\":\"histogram2dcontour\"}],\"mesh3d\":[{\"colorbar\":{\"outlinewidth\":0,\"ticks\":\"\"},\"type\":\"mesh3d\"}],\"parcoords\":[{\"line\":{\"colorbar\":{\"outlinewidth\":0,\"ticks\":\"\"}},\"type\":\"parcoords\"}],\"pie\":[{\"automargin\":true,\"type\":\"pie\"}],\"scatter\":[{\"marker\":{\"colorbar\":{\"outlinewidth\":0,\"ticks\":\"\"}},\"type\":\"scatter\"}],\"scatter3d\":[{\"line\":{\"colorbar\":{\"outlinewidth\":0,\"ticks\":\"\"}},\"marker\":{\"colorbar\":{\"outlinewidth\":0,\"ticks\":\"\"}},\"type\":\"scatter3d\"}],\"scattercarpet\":[{\"marker\":{\"colorbar\":{\"outlinewidth\":0,\"ticks\":\"\"}},\"type\":\"scattercarpet\"}],\"scattergeo\":[{\"marker\":{\"colorbar\":{\"outlinewidth\":0,\"ticks\":\"\"}},\"type\":\"scattergeo\"}],\"scattergl\":[{\"marker\":{\"colorbar\":{\"outlinewidth\":0,\"ticks\":\"\"}},\"type\":\"scattergl\"}],\"scattermapbox\":[{\"marker\":{\"colorbar\":{\"outlinewidth\":0,\"ticks\":\"\"}},\"type\":\"scattermapbox\"}],\"scatterpolar\":[{\"marker\":{\"colorbar\":{\"outlinewidth\":0,\"ticks\":\"\"}},\"type\":\"scatterpolar\"}],\"scatterpolargl\":[{\"marker\":{\"colorbar\":{\"outlinewidth\":0,\"ticks\":\"\"}},\"type\":\"scatterpolargl\"}],\"scatterternary\":[{\"marker\":{\"colorbar\":{\"outlinewidth\":0,\"ticks\":\"\"}},\"type\":\"scatterternary\"}],\"surface\":[{\"colorbar\":{\"outlinewidth\":0,\"ticks\":\"\"},\"colorscale\":[[0.0,\"#0d0887\"],[0.1111111111111111,\"#46039f\"],[0.2222222222222222,\"#7201a8\"],[0.3333333333333333,\"#9c179e\"],[0.4444444444444444,\"#bd3786\"],[0.5555555555555556,\"#d8576b\"],[0.6666666666666666,\"#ed7953\"],[0.7777777777777778,\"#fb9f3a\"],[0.8888888888888888,\"#fdca26\"],[1.0,\"#f0f921\"]],\"type\":\"surface\"}],\"table\":[{\"cells\":{\"fill\":{\"color\":\"#EBF0F8\"},\"line\":{\"color\":\"white\"}},\"header\":{\"fill\":{\"color\":\"#C8D4E3\"},\"line\":{\"color\":\"white\"}},\"type\":\"table\"}]},\"layout\":{\"annotationdefaults\":{\"arrowcolor\":\"#2a3f5f\",\"arrowhead\":0,\"arrowwidth\":1},\"autotypenumbers\":\"strict\",\"coloraxis\":{\"colorbar\":{\"outlinewidth\":0,\"ticks\":\"\"}},\"colorscale\":{\"diverging\":[[0,\"#8e0152\"],[0.1,\"#c51b7d\"],[0.2,\"#de77ae\"],[0.3,\"#f1b6da\"],[0.4,\"#fde0ef\"],[0.5,\"#f7f7f7\"],[0.6,\"#e6f5d0\"],[0.7,\"#b8e186\"],[0.8,\"#7fbc41\"],[0.9,\"#4d9221\"],[1,\"#276419\"]],\"sequential\":[[0.0,\"#0d0887\"],[0.1111111111111111,\"#46039f\"],[0.2222222222222222,\"#7201a8\"],[0.3333333333333333,\"#9c179e\"],[0.4444444444444444,\"#bd3786\"],[0.5555555555555556,\"#d8576b\"],[0.6666666666666666,\"#ed7953\"],[0.7777777777777778,\"#fb9f3a\"],[0.8888888888888888,\"#fdca26\"],[1.0,\"#f0f921\"]],\"sequentialminus\":[[0.0,\"#0d0887\"],[0.1111111111111111,\"#46039f\"],[0.2222222222222222,\"#7201a8\"],[0.3333333333333333,\"#9c179e\"],[0.4444444444444444,\"#bd3786\"],[0.5555555555555556,\"#d8576b\"],[0.6666666666666666,\"#ed7953\"],[0.7777777777777778,\"#fb9f3a\"],[0.8888888888888888,\"#fdca26\"],[1.0,\"#f0f921\"]]},\"colorway\":[\"#636efa\",\"#EF553B\",\"#00cc96\",\"#ab63fa\",\"#FFA15A\",\"#19d3f3\",\"#FF6692\",\"#B6E880\",\"#FF97FF\",\"#FECB52\"],\"font\":{\"color\":\"#2a3f5f\"},\"geo\":{\"bgcolor\":\"white\",\"lakecolor\":\"white\",\"landcolor\":\"#E5ECF6\",\"showlakes\":true,\"showland\":true,\"subunitcolor\":\"white\"},\"hoverlabel\":{\"align\":\"left\"},\"hovermode\":\"closest\",\"mapbox\":{\"style\":\"light\"},\"paper_bgcolor\":\"white\",\"plot_bgcolor\":\"#E5ECF6\",\"polar\":{\"angularaxis\":{\"gridcolor\":\"white\",\"linecolor\":\"white\",\"ticks\":\"\"},\"bgcolor\":\"#E5ECF6\",\"radialaxis\":{\"gridcolor\":\"white\",\"linecolor\":\"white\",\"ticks\":\"\"}},\"scene\":{\"xaxis\":{\"backgroundcolor\":\"#E5ECF6\",\"gridcolor\":\"white\",\"gridwidth\":2,\"linecolor\":\"white\",\"showbackground\":true,\"ticks\":\"\",\"zerolinecolor\":\"white\"},\"yaxis\":{\"backgroundcolor\":\"#E5ECF6\",\"gridcolor\":\"white\",\"gridwidth\":2,\"linecolor\":\"white\",\"showbackground\":true,\"ticks\":\"\",\"zerolinecolor\":\"white\"},\"zaxis\":{\"backgroundcolor\":\"#E5ECF6\",\"gridcolor\":\"white\",\"gridwidth\":2,\"linecolor\":\"white\",\"showbackground\":true,\"ticks\":\"\",\"zerolinecolor\":\"white\"}},\"shapedefaults\":{\"line\":{\"color\":\"#2a3f5f\"}},\"ternary\":{\"aaxis\":{\"gridcolor\":\"white\",\"linecolor\":\"white\",\"ticks\":\"\"},\"baxis\":{\"gridcolor\":\"white\",\"linecolor\":\"white\",\"ticks\":\"\"},\"bgcolor\":\"#E5ECF6\",\"caxis\":{\"gridcolor\":\"white\",\"linecolor\":\"white\",\"ticks\":\"\"}},\"title\":{\"x\":0.05},\"xaxis\":{\"automargin\":true,\"gridcolor\":\"white\",\"linecolor\":\"white\",\"ticks\":\"\",\"title\":{\"standoff\":15},\"zerolinecolor\":\"white\",\"zerolinewidth\":2},\"yaxis\":{\"automargin\":true,\"gridcolor\":\"white\",\"linecolor\":\"white\",\"ticks\":\"\",\"title\":{\"standoff\":15},\"zerolinecolor\":\"white\",\"zerolinewidth\":2}}},\"title\":{\"font\":{\"color\":\"#4D5663\"}},\"xaxis\":{\"gridcolor\":\"#E1E5ED\",\"showgrid\":true,\"tickfont\":{\"color\":\"#4D5663\"},\"title\":{\"font\":{\"color\":\"#4D5663\"},\"text\":\"\"},\"zerolinecolor\":\"#E1E5ED\"},\"yaxis\":{\"gridcolor\":\"#E1E5ED\",\"showgrid\":true,\"tickfont\":{\"color\":\"#4D5663\"},\"title\":{\"font\":{\"color\":\"#4D5663\"},\"text\":\"\"},\"zerolinecolor\":\"#E1E5ED\"}},                        {\"showLink\": true, \"linkText\": \"Export to plot.ly\", \"plotlyServerURL\": \"https://plot.ly\", \"responsive\": true}                    ).then(function(){\n",
       "                            \n",
       "var gd = document.getElementById('ffce6d84-c29c-4c0f-a121-1ecee81f063f');\n",
       "var x = new MutationObserver(function (mutations, observer) {{\n",
       "        var display = window.getComputedStyle(gd).display;\n",
       "        if (!display || display === 'none') {{\n",
       "            console.log([gd, 'removed!']);\n",
       "            Plotly.purge(gd);\n",
       "            observer.disconnect();\n",
       "        }}\n",
       "}});\n",
       "\n",
       "// Listen for the removal of the full notebook cells\n",
       "var notebookContainer = gd.closest('#notebook-container');\n",
       "if (notebookContainer) {{\n",
       "    x.observe(notebookContainer, {childList: true});\n",
       "}}\n",
       "\n",
       "// Listen for the clearing of the current output cell\n",
       "var outputEl = gd.closest('.output');\n",
       "if (outputEl) {{\n",
       "    x.observe(outputEl, {childList: true});\n",
       "}}\n",
       "\n",
       "                        })                };                });            </script>        </div>"
      ]
     },
     "metadata": {},
     "output_type": "display_data"
    }
   ],
   "source": [
    "df1.sum().iplot(kind='bar')"
   ]
  },
  {
   "cell_type": "code",
   "execution_count": 18,
   "id": "d3783b32",
   "metadata": {},
   "outputs": [
    {
     "data": {
      "application/vnd.plotly.v1+json": {
       "config": {
        "linkText": "Export to plot.ly",
        "plotlyServerURL": "https://plot.ly",
        "showLink": true
       },
       "data": [
        {
         "marker": {
          "color": "rgba(255, 153, 51, 0.6)",
          "line": {
           "color": "rgba(255, 153, 51, 1.0)",
           "width": 1
          }
         },
         "name": "None",
         "orientation": "v",
         "text": "",
         "type": "bar",
         "x": [
          "A",
          "B",
          "C",
          "D"
         ],
         "y": [
          100,
          100,
          100,
          100
         ]
        }
       ],
       "layout": {
        "legend": {
         "bgcolor": "#F5F6F9",
         "font": {
          "color": "#4D5663"
         }
        },
        "paper_bgcolor": "#F5F6F9",
        "plot_bgcolor": "#F5F6F9",
        "template": {
         "data": {
          "bar": [
           {
            "error_x": {
             "color": "#2a3f5f"
            },
            "error_y": {
             "color": "#2a3f5f"
            },
            "marker": {
             "line": {
              "color": "#E5ECF6",
              "width": 0.5
             },
             "pattern": {
              "fillmode": "overlay",
              "size": 10,
              "solidity": 0.2
             }
            },
            "type": "bar"
           }
          ],
          "barpolar": [
           {
            "marker": {
             "line": {
              "color": "#E5ECF6",
              "width": 0.5
             },
             "pattern": {
              "fillmode": "overlay",
              "size": 10,
              "solidity": 0.2
             }
            },
            "type": "barpolar"
           }
          ],
          "carpet": [
           {
            "aaxis": {
             "endlinecolor": "#2a3f5f",
             "gridcolor": "white",
             "linecolor": "white",
             "minorgridcolor": "white",
             "startlinecolor": "#2a3f5f"
            },
            "baxis": {
             "endlinecolor": "#2a3f5f",
             "gridcolor": "white",
             "linecolor": "white",
             "minorgridcolor": "white",
             "startlinecolor": "#2a3f5f"
            },
            "type": "carpet"
           }
          ],
          "choropleth": [
           {
            "colorbar": {
             "outlinewidth": 0,
             "ticks": ""
            },
            "type": "choropleth"
           }
          ],
          "contour": [
           {
            "colorbar": {
             "outlinewidth": 0,
             "ticks": ""
            },
            "colorscale": [
             [
              0,
              "#0d0887"
             ],
             [
              0.1111111111111111,
              "#46039f"
             ],
             [
              0.2222222222222222,
              "#7201a8"
             ],
             [
              0.3333333333333333,
              "#9c179e"
             ],
             [
              0.4444444444444444,
              "#bd3786"
             ],
             [
              0.5555555555555556,
              "#d8576b"
             ],
             [
              0.6666666666666666,
              "#ed7953"
             ],
             [
              0.7777777777777778,
              "#fb9f3a"
             ],
             [
              0.8888888888888888,
              "#fdca26"
             ],
             [
              1,
              "#f0f921"
             ]
            ],
            "type": "contour"
           }
          ],
          "contourcarpet": [
           {
            "colorbar": {
             "outlinewidth": 0,
             "ticks": ""
            },
            "type": "contourcarpet"
           }
          ],
          "heatmap": [
           {
            "colorbar": {
             "outlinewidth": 0,
             "ticks": ""
            },
            "colorscale": [
             [
              0,
              "#0d0887"
             ],
             [
              0.1111111111111111,
              "#46039f"
             ],
             [
              0.2222222222222222,
              "#7201a8"
             ],
             [
              0.3333333333333333,
              "#9c179e"
             ],
             [
              0.4444444444444444,
              "#bd3786"
             ],
             [
              0.5555555555555556,
              "#d8576b"
             ],
             [
              0.6666666666666666,
              "#ed7953"
             ],
             [
              0.7777777777777778,
              "#fb9f3a"
             ],
             [
              0.8888888888888888,
              "#fdca26"
             ],
             [
              1,
              "#f0f921"
             ]
            ],
            "type": "heatmap"
           }
          ],
          "heatmapgl": [
           {
            "colorbar": {
             "outlinewidth": 0,
             "ticks": ""
            },
            "colorscale": [
             [
              0,
              "#0d0887"
             ],
             [
              0.1111111111111111,
              "#46039f"
             ],
             [
              0.2222222222222222,
              "#7201a8"
             ],
             [
              0.3333333333333333,
              "#9c179e"
             ],
             [
              0.4444444444444444,
              "#bd3786"
             ],
             [
              0.5555555555555556,
              "#d8576b"
             ],
             [
              0.6666666666666666,
              "#ed7953"
             ],
             [
              0.7777777777777778,
              "#fb9f3a"
             ],
             [
              0.8888888888888888,
              "#fdca26"
             ],
             [
              1,
              "#f0f921"
             ]
            ],
            "type": "heatmapgl"
           }
          ],
          "histogram": [
           {
            "marker": {
             "pattern": {
              "fillmode": "overlay",
              "size": 10,
              "solidity": 0.2
             }
            },
            "type": "histogram"
           }
          ],
          "histogram2d": [
           {
            "colorbar": {
             "outlinewidth": 0,
             "ticks": ""
            },
            "colorscale": [
             [
              0,
              "#0d0887"
             ],
             [
              0.1111111111111111,
              "#46039f"
             ],
             [
              0.2222222222222222,
              "#7201a8"
             ],
             [
              0.3333333333333333,
              "#9c179e"
             ],
             [
              0.4444444444444444,
              "#bd3786"
             ],
             [
              0.5555555555555556,
              "#d8576b"
             ],
             [
              0.6666666666666666,
              "#ed7953"
             ],
             [
              0.7777777777777778,
              "#fb9f3a"
             ],
             [
              0.8888888888888888,
              "#fdca26"
             ],
             [
              1,
              "#f0f921"
             ]
            ],
            "type": "histogram2d"
           }
          ],
          "histogram2dcontour": [
           {
            "colorbar": {
             "outlinewidth": 0,
             "ticks": ""
            },
            "colorscale": [
             [
              0,
              "#0d0887"
             ],
             [
              0.1111111111111111,
              "#46039f"
             ],
             [
              0.2222222222222222,
              "#7201a8"
             ],
             [
              0.3333333333333333,
              "#9c179e"
             ],
             [
              0.4444444444444444,
              "#bd3786"
             ],
             [
              0.5555555555555556,
              "#d8576b"
             ],
             [
              0.6666666666666666,
              "#ed7953"
             ],
             [
              0.7777777777777778,
              "#fb9f3a"
             ],
             [
              0.8888888888888888,
              "#fdca26"
             ],
             [
              1,
              "#f0f921"
             ]
            ],
            "type": "histogram2dcontour"
           }
          ],
          "mesh3d": [
           {
            "colorbar": {
             "outlinewidth": 0,
             "ticks": ""
            },
            "type": "mesh3d"
           }
          ],
          "parcoords": [
           {
            "line": {
             "colorbar": {
              "outlinewidth": 0,
              "ticks": ""
             }
            },
            "type": "parcoords"
           }
          ],
          "pie": [
           {
            "automargin": true,
            "type": "pie"
           }
          ],
          "scatter": [
           {
            "marker": {
             "colorbar": {
              "outlinewidth": 0,
              "ticks": ""
             }
            },
            "type": "scatter"
           }
          ],
          "scatter3d": [
           {
            "line": {
             "colorbar": {
              "outlinewidth": 0,
              "ticks": ""
             }
            },
            "marker": {
             "colorbar": {
              "outlinewidth": 0,
              "ticks": ""
             }
            },
            "type": "scatter3d"
           }
          ],
          "scattercarpet": [
           {
            "marker": {
             "colorbar": {
              "outlinewidth": 0,
              "ticks": ""
             }
            },
            "type": "scattercarpet"
           }
          ],
          "scattergeo": [
           {
            "marker": {
             "colorbar": {
              "outlinewidth": 0,
              "ticks": ""
             }
            },
            "type": "scattergeo"
           }
          ],
          "scattergl": [
           {
            "marker": {
             "colorbar": {
              "outlinewidth": 0,
              "ticks": ""
             }
            },
            "type": "scattergl"
           }
          ],
          "scattermapbox": [
           {
            "marker": {
             "colorbar": {
              "outlinewidth": 0,
              "ticks": ""
             }
            },
            "type": "scattermapbox"
           }
          ],
          "scatterpolar": [
           {
            "marker": {
             "colorbar": {
              "outlinewidth": 0,
              "ticks": ""
             }
            },
            "type": "scatterpolar"
           }
          ],
          "scatterpolargl": [
           {
            "marker": {
             "colorbar": {
              "outlinewidth": 0,
              "ticks": ""
             }
            },
            "type": "scatterpolargl"
           }
          ],
          "scatterternary": [
           {
            "marker": {
             "colorbar": {
              "outlinewidth": 0,
              "ticks": ""
             }
            },
            "type": "scatterternary"
           }
          ],
          "surface": [
           {
            "colorbar": {
             "outlinewidth": 0,
             "ticks": ""
            },
            "colorscale": [
             [
              0,
              "#0d0887"
             ],
             [
              0.1111111111111111,
              "#46039f"
             ],
             [
              0.2222222222222222,
              "#7201a8"
             ],
             [
              0.3333333333333333,
              "#9c179e"
             ],
             [
              0.4444444444444444,
              "#bd3786"
             ],
             [
              0.5555555555555556,
              "#d8576b"
             ],
             [
              0.6666666666666666,
              "#ed7953"
             ],
             [
              0.7777777777777778,
              "#fb9f3a"
             ],
             [
              0.8888888888888888,
              "#fdca26"
             ],
             [
              1,
              "#f0f921"
             ]
            ],
            "type": "surface"
           }
          ],
          "table": [
           {
            "cells": {
             "fill": {
              "color": "#EBF0F8"
             },
             "line": {
              "color": "white"
             }
            },
            "header": {
             "fill": {
              "color": "#C8D4E3"
             },
             "line": {
              "color": "white"
             }
            },
            "type": "table"
           }
          ]
         },
         "layout": {
          "annotationdefaults": {
           "arrowcolor": "#2a3f5f",
           "arrowhead": 0,
           "arrowwidth": 1
          },
          "autotypenumbers": "strict",
          "coloraxis": {
           "colorbar": {
            "outlinewidth": 0,
            "ticks": ""
           }
          },
          "colorscale": {
           "diverging": [
            [
             0,
             "#8e0152"
            ],
            [
             0.1,
             "#c51b7d"
            ],
            [
             0.2,
             "#de77ae"
            ],
            [
             0.3,
             "#f1b6da"
            ],
            [
             0.4,
             "#fde0ef"
            ],
            [
             0.5,
             "#f7f7f7"
            ],
            [
             0.6,
             "#e6f5d0"
            ],
            [
             0.7,
             "#b8e186"
            ],
            [
             0.8,
             "#7fbc41"
            ],
            [
             0.9,
             "#4d9221"
            ],
            [
             1,
             "#276419"
            ]
           ],
           "sequential": [
            [
             0,
             "#0d0887"
            ],
            [
             0.1111111111111111,
             "#46039f"
            ],
            [
             0.2222222222222222,
             "#7201a8"
            ],
            [
             0.3333333333333333,
             "#9c179e"
            ],
            [
             0.4444444444444444,
             "#bd3786"
            ],
            [
             0.5555555555555556,
             "#d8576b"
            ],
            [
             0.6666666666666666,
             "#ed7953"
            ],
            [
             0.7777777777777778,
             "#fb9f3a"
            ],
            [
             0.8888888888888888,
             "#fdca26"
            ],
            [
             1,
             "#f0f921"
            ]
           ],
           "sequentialminus": [
            [
             0,
             "#0d0887"
            ],
            [
             0.1111111111111111,
             "#46039f"
            ],
            [
             0.2222222222222222,
             "#7201a8"
            ],
            [
             0.3333333333333333,
             "#9c179e"
            ],
            [
             0.4444444444444444,
             "#bd3786"
            ],
            [
             0.5555555555555556,
             "#d8576b"
            ],
            [
             0.6666666666666666,
             "#ed7953"
            ],
            [
             0.7777777777777778,
             "#fb9f3a"
            ],
            [
             0.8888888888888888,
             "#fdca26"
            ],
            [
             1,
             "#f0f921"
            ]
           ]
          },
          "colorway": [
           "#636efa",
           "#EF553B",
           "#00cc96",
           "#ab63fa",
           "#FFA15A",
           "#19d3f3",
           "#FF6692",
           "#B6E880",
           "#FF97FF",
           "#FECB52"
          ],
          "font": {
           "color": "#2a3f5f"
          },
          "geo": {
           "bgcolor": "white",
           "lakecolor": "white",
           "landcolor": "#E5ECF6",
           "showlakes": true,
           "showland": true,
           "subunitcolor": "white"
          },
          "hoverlabel": {
           "align": "left"
          },
          "hovermode": "closest",
          "mapbox": {
           "style": "light"
          },
          "paper_bgcolor": "white",
          "plot_bgcolor": "#E5ECF6",
          "polar": {
           "angularaxis": {
            "gridcolor": "white",
            "linecolor": "white",
            "ticks": ""
           },
           "bgcolor": "#E5ECF6",
           "radialaxis": {
            "gridcolor": "white",
            "linecolor": "white",
            "ticks": ""
           }
          },
          "scene": {
           "xaxis": {
            "backgroundcolor": "#E5ECF6",
            "gridcolor": "white",
            "gridwidth": 2,
            "linecolor": "white",
            "showbackground": true,
            "ticks": "",
            "zerolinecolor": "white"
           },
           "yaxis": {
            "backgroundcolor": "#E5ECF6",
            "gridcolor": "white",
            "gridwidth": 2,
            "linecolor": "white",
            "showbackground": true,
            "ticks": "",
            "zerolinecolor": "white"
           },
           "zaxis": {
            "backgroundcolor": "#E5ECF6",
            "gridcolor": "white",
            "gridwidth": 2,
            "linecolor": "white",
            "showbackground": true,
            "ticks": "",
            "zerolinecolor": "white"
           }
          },
          "shapedefaults": {
           "line": {
            "color": "#2a3f5f"
           }
          },
          "ternary": {
           "aaxis": {
            "gridcolor": "white",
            "linecolor": "white",
            "ticks": ""
           },
           "baxis": {
            "gridcolor": "white",
            "linecolor": "white",
            "ticks": ""
           },
           "bgcolor": "#E5ECF6",
           "caxis": {
            "gridcolor": "white",
            "linecolor": "white",
            "ticks": ""
           }
          },
          "title": {
           "x": 0.05
          },
          "xaxis": {
           "automargin": true,
           "gridcolor": "white",
           "linecolor": "white",
           "ticks": "",
           "title": {
            "standoff": 15
           },
           "zerolinecolor": "white",
           "zerolinewidth": 2
          },
          "yaxis": {
           "automargin": true,
           "gridcolor": "white",
           "linecolor": "white",
           "ticks": "",
           "title": {
            "standoff": 15
           },
           "zerolinecolor": "white",
           "zerolinewidth": 2
          }
         }
        },
        "title": {
         "font": {
          "color": "#4D5663"
         }
        },
        "xaxis": {
         "gridcolor": "#E1E5ED",
         "showgrid": true,
         "tickfont": {
          "color": "#4D5663"
         },
         "title": {
          "font": {
           "color": "#4D5663"
          },
          "text": ""
         },
         "zerolinecolor": "#E1E5ED"
        },
        "yaxis": {
         "gridcolor": "#E1E5ED",
         "showgrid": true,
         "tickfont": {
          "color": "#4D5663"
         },
         "title": {
          "font": {
           "color": "#4D5663"
          },
          "text": ""
         },
         "zerolinecolor": "#E1E5ED"
        }
       }
      },
      "text/html": [
       "<div>                            <div id=\"114c0cb4-f21f-45cd-9def-11ae029c21c8\" class=\"plotly-graph-div\" style=\"height:525px; width:100%;\"></div>            <script type=\"text/javascript\">                require([\"plotly\"], function(Plotly) {                    window.PLOTLYENV=window.PLOTLYENV || {};\n",
       "                    window.PLOTLYENV.BASE_URL='https://plot.ly';                                    if (document.getElementById(\"114c0cb4-f21f-45cd-9def-11ae029c21c8\")) {                    Plotly.newPlot(                        \"114c0cb4-f21f-45cd-9def-11ae029c21c8\",                        [{\"marker\":{\"color\":\"rgba(255, 153, 51, 0.6)\",\"line\":{\"color\":\"rgba(255, 153, 51, 1.0)\",\"width\":1}},\"name\":\"None\",\"orientation\":\"v\",\"text\":\"\",\"type\":\"bar\",\"x\":[\"A\",\"B\",\"C\",\"D\"],\"y\":[100,100,100,100]}],                        {\"legend\":{\"bgcolor\":\"#F5F6F9\",\"font\":{\"color\":\"#4D5663\"}},\"paper_bgcolor\":\"#F5F6F9\",\"plot_bgcolor\":\"#F5F6F9\",\"template\":{\"data\":{\"bar\":[{\"error_x\":{\"color\":\"#2a3f5f\"},\"error_y\":{\"color\":\"#2a3f5f\"},\"marker\":{\"line\":{\"color\":\"#E5ECF6\",\"width\":0.5},\"pattern\":{\"fillmode\":\"overlay\",\"size\":10,\"solidity\":0.2}},\"type\":\"bar\"}],\"barpolar\":[{\"marker\":{\"line\":{\"color\":\"#E5ECF6\",\"width\":0.5},\"pattern\":{\"fillmode\":\"overlay\",\"size\":10,\"solidity\":0.2}},\"type\":\"barpolar\"}],\"carpet\":[{\"aaxis\":{\"endlinecolor\":\"#2a3f5f\",\"gridcolor\":\"white\",\"linecolor\":\"white\",\"minorgridcolor\":\"white\",\"startlinecolor\":\"#2a3f5f\"},\"baxis\":{\"endlinecolor\":\"#2a3f5f\",\"gridcolor\":\"white\",\"linecolor\":\"white\",\"minorgridcolor\":\"white\",\"startlinecolor\":\"#2a3f5f\"},\"type\":\"carpet\"}],\"choropleth\":[{\"colorbar\":{\"outlinewidth\":0,\"ticks\":\"\"},\"type\":\"choropleth\"}],\"contour\":[{\"colorbar\":{\"outlinewidth\":0,\"ticks\":\"\"},\"colorscale\":[[0.0,\"#0d0887\"],[0.1111111111111111,\"#46039f\"],[0.2222222222222222,\"#7201a8\"],[0.3333333333333333,\"#9c179e\"],[0.4444444444444444,\"#bd3786\"],[0.5555555555555556,\"#d8576b\"],[0.6666666666666666,\"#ed7953\"],[0.7777777777777778,\"#fb9f3a\"],[0.8888888888888888,\"#fdca26\"],[1.0,\"#f0f921\"]],\"type\":\"contour\"}],\"contourcarpet\":[{\"colorbar\":{\"outlinewidth\":0,\"ticks\":\"\"},\"type\":\"contourcarpet\"}],\"heatmap\":[{\"colorbar\":{\"outlinewidth\":0,\"ticks\":\"\"},\"colorscale\":[[0.0,\"#0d0887\"],[0.1111111111111111,\"#46039f\"],[0.2222222222222222,\"#7201a8\"],[0.3333333333333333,\"#9c179e\"],[0.4444444444444444,\"#bd3786\"],[0.5555555555555556,\"#d8576b\"],[0.6666666666666666,\"#ed7953\"],[0.7777777777777778,\"#fb9f3a\"],[0.8888888888888888,\"#fdca26\"],[1.0,\"#f0f921\"]],\"type\":\"heatmap\"}],\"heatmapgl\":[{\"colorbar\":{\"outlinewidth\":0,\"ticks\":\"\"},\"colorscale\":[[0.0,\"#0d0887\"],[0.1111111111111111,\"#46039f\"],[0.2222222222222222,\"#7201a8\"],[0.3333333333333333,\"#9c179e\"],[0.4444444444444444,\"#bd3786\"],[0.5555555555555556,\"#d8576b\"],[0.6666666666666666,\"#ed7953\"],[0.7777777777777778,\"#fb9f3a\"],[0.8888888888888888,\"#fdca26\"],[1.0,\"#f0f921\"]],\"type\":\"heatmapgl\"}],\"histogram\":[{\"marker\":{\"pattern\":{\"fillmode\":\"overlay\",\"size\":10,\"solidity\":0.2}},\"type\":\"histogram\"}],\"histogram2d\":[{\"colorbar\":{\"outlinewidth\":0,\"ticks\":\"\"},\"colorscale\":[[0.0,\"#0d0887\"],[0.1111111111111111,\"#46039f\"],[0.2222222222222222,\"#7201a8\"],[0.3333333333333333,\"#9c179e\"],[0.4444444444444444,\"#bd3786\"],[0.5555555555555556,\"#d8576b\"],[0.6666666666666666,\"#ed7953\"],[0.7777777777777778,\"#fb9f3a\"],[0.8888888888888888,\"#fdca26\"],[1.0,\"#f0f921\"]],\"type\":\"histogram2d\"}],\"histogram2dcontour\":[{\"colorbar\":{\"outlinewidth\":0,\"ticks\":\"\"},\"colorscale\":[[0.0,\"#0d0887\"],[0.1111111111111111,\"#46039f\"],[0.2222222222222222,\"#7201a8\"],[0.3333333333333333,\"#9c179e\"],[0.4444444444444444,\"#bd3786\"],[0.5555555555555556,\"#d8576b\"],[0.6666666666666666,\"#ed7953\"],[0.7777777777777778,\"#fb9f3a\"],[0.8888888888888888,\"#fdca26\"],[1.0,\"#f0f921\"]],\"type\":\"histogram2dcontour\"}],\"mesh3d\":[{\"colorbar\":{\"outlinewidth\":0,\"ticks\":\"\"},\"type\":\"mesh3d\"}],\"parcoords\":[{\"line\":{\"colorbar\":{\"outlinewidth\":0,\"ticks\":\"\"}},\"type\":\"parcoords\"}],\"pie\":[{\"automargin\":true,\"type\":\"pie\"}],\"scatter\":[{\"marker\":{\"colorbar\":{\"outlinewidth\":0,\"ticks\":\"\"}},\"type\":\"scatter\"}],\"scatter3d\":[{\"line\":{\"colorbar\":{\"outlinewidth\":0,\"ticks\":\"\"}},\"marker\":{\"colorbar\":{\"outlinewidth\":0,\"ticks\":\"\"}},\"type\":\"scatter3d\"}],\"scattercarpet\":[{\"marker\":{\"colorbar\":{\"outlinewidth\":0,\"ticks\":\"\"}},\"type\":\"scattercarpet\"}],\"scattergeo\":[{\"marker\":{\"colorbar\":{\"outlinewidth\":0,\"ticks\":\"\"}},\"type\":\"scattergeo\"}],\"scattergl\":[{\"marker\":{\"colorbar\":{\"outlinewidth\":0,\"ticks\":\"\"}},\"type\":\"scattergl\"}],\"scattermapbox\":[{\"marker\":{\"colorbar\":{\"outlinewidth\":0,\"ticks\":\"\"}},\"type\":\"scattermapbox\"}],\"scatterpolar\":[{\"marker\":{\"colorbar\":{\"outlinewidth\":0,\"ticks\":\"\"}},\"type\":\"scatterpolar\"}],\"scatterpolargl\":[{\"marker\":{\"colorbar\":{\"outlinewidth\":0,\"ticks\":\"\"}},\"type\":\"scatterpolargl\"}],\"scatterternary\":[{\"marker\":{\"colorbar\":{\"outlinewidth\":0,\"ticks\":\"\"}},\"type\":\"scatterternary\"}],\"surface\":[{\"colorbar\":{\"outlinewidth\":0,\"ticks\":\"\"},\"colorscale\":[[0.0,\"#0d0887\"],[0.1111111111111111,\"#46039f\"],[0.2222222222222222,\"#7201a8\"],[0.3333333333333333,\"#9c179e\"],[0.4444444444444444,\"#bd3786\"],[0.5555555555555556,\"#d8576b\"],[0.6666666666666666,\"#ed7953\"],[0.7777777777777778,\"#fb9f3a\"],[0.8888888888888888,\"#fdca26\"],[1.0,\"#f0f921\"]],\"type\":\"surface\"}],\"table\":[{\"cells\":{\"fill\":{\"color\":\"#EBF0F8\"},\"line\":{\"color\":\"white\"}},\"header\":{\"fill\":{\"color\":\"#C8D4E3\"},\"line\":{\"color\":\"white\"}},\"type\":\"table\"}]},\"layout\":{\"annotationdefaults\":{\"arrowcolor\":\"#2a3f5f\",\"arrowhead\":0,\"arrowwidth\":1},\"autotypenumbers\":\"strict\",\"coloraxis\":{\"colorbar\":{\"outlinewidth\":0,\"ticks\":\"\"}},\"colorscale\":{\"diverging\":[[0,\"#8e0152\"],[0.1,\"#c51b7d\"],[0.2,\"#de77ae\"],[0.3,\"#f1b6da\"],[0.4,\"#fde0ef\"],[0.5,\"#f7f7f7\"],[0.6,\"#e6f5d0\"],[0.7,\"#b8e186\"],[0.8,\"#7fbc41\"],[0.9,\"#4d9221\"],[1,\"#276419\"]],\"sequential\":[[0.0,\"#0d0887\"],[0.1111111111111111,\"#46039f\"],[0.2222222222222222,\"#7201a8\"],[0.3333333333333333,\"#9c179e\"],[0.4444444444444444,\"#bd3786\"],[0.5555555555555556,\"#d8576b\"],[0.6666666666666666,\"#ed7953\"],[0.7777777777777778,\"#fb9f3a\"],[0.8888888888888888,\"#fdca26\"],[1.0,\"#f0f921\"]],\"sequentialminus\":[[0.0,\"#0d0887\"],[0.1111111111111111,\"#46039f\"],[0.2222222222222222,\"#7201a8\"],[0.3333333333333333,\"#9c179e\"],[0.4444444444444444,\"#bd3786\"],[0.5555555555555556,\"#d8576b\"],[0.6666666666666666,\"#ed7953\"],[0.7777777777777778,\"#fb9f3a\"],[0.8888888888888888,\"#fdca26\"],[1.0,\"#f0f921\"]]},\"colorway\":[\"#636efa\",\"#EF553B\",\"#00cc96\",\"#ab63fa\",\"#FFA15A\",\"#19d3f3\",\"#FF6692\",\"#B6E880\",\"#FF97FF\",\"#FECB52\"],\"font\":{\"color\":\"#2a3f5f\"},\"geo\":{\"bgcolor\":\"white\",\"lakecolor\":\"white\",\"landcolor\":\"#E5ECF6\",\"showlakes\":true,\"showland\":true,\"subunitcolor\":\"white\"},\"hoverlabel\":{\"align\":\"left\"},\"hovermode\":\"closest\",\"mapbox\":{\"style\":\"light\"},\"paper_bgcolor\":\"white\",\"plot_bgcolor\":\"#E5ECF6\",\"polar\":{\"angularaxis\":{\"gridcolor\":\"white\",\"linecolor\":\"white\",\"ticks\":\"\"},\"bgcolor\":\"#E5ECF6\",\"radialaxis\":{\"gridcolor\":\"white\",\"linecolor\":\"white\",\"ticks\":\"\"}},\"scene\":{\"xaxis\":{\"backgroundcolor\":\"#E5ECF6\",\"gridcolor\":\"white\",\"gridwidth\":2,\"linecolor\":\"white\",\"showbackground\":true,\"ticks\":\"\",\"zerolinecolor\":\"white\"},\"yaxis\":{\"backgroundcolor\":\"#E5ECF6\",\"gridcolor\":\"white\",\"gridwidth\":2,\"linecolor\":\"white\",\"showbackground\":true,\"ticks\":\"\",\"zerolinecolor\":\"white\"},\"zaxis\":{\"backgroundcolor\":\"#E5ECF6\",\"gridcolor\":\"white\",\"gridwidth\":2,\"linecolor\":\"white\",\"showbackground\":true,\"ticks\":\"\",\"zerolinecolor\":\"white\"}},\"shapedefaults\":{\"line\":{\"color\":\"#2a3f5f\"}},\"ternary\":{\"aaxis\":{\"gridcolor\":\"white\",\"linecolor\":\"white\",\"ticks\":\"\"},\"baxis\":{\"gridcolor\":\"white\",\"linecolor\":\"white\",\"ticks\":\"\"},\"bgcolor\":\"#E5ECF6\",\"caxis\":{\"gridcolor\":\"white\",\"linecolor\":\"white\",\"ticks\":\"\"}},\"title\":{\"x\":0.05},\"xaxis\":{\"automargin\":true,\"gridcolor\":\"white\",\"linecolor\":\"white\",\"ticks\":\"\",\"title\":{\"standoff\":15},\"zerolinecolor\":\"white\",\"zerolinewidth\":2},\"yaxis\":{\"automargin\":true,\"gridcolor\":\"white\",\"linecolor\":\"white\",\"ticks\":\"\",\"title\":{\"standoff\":15},\"zerolinecolor\":\"white\",\"zerolinewidth\":2}}},\"title\":{\"font\":{\"color\":\"#4D5663\"}},\"xaxis\":{\"gridcolor\":\"#E1E5ED\",\"showgrid\":true,\"tickfont\":{\"color\":\"#4D5663\"},\"title\":{\"font\":{\"color\":\"#4D5663\"},\"text\":\"\"},\"zerolinecolor\":\"#E1E5ED\"},\"yaxis\":{\"gridcolor\":\"#E1E5ED\",\"showgrid\":true,\"tickfont\":{\"color\":\"#4D5663\"},\"title\":{\"font\":{\"color\":\"#4D5663\"},\"text\":\"\"},\"zerolinecolor\":\"#E1E5ED\"}},                        {\"showLink\": true, \"linkText\": \"Export to plot.ly\", \"plotlyServerURL\": \"https://plot.ly\", \"responsive\": true}                    ).then(function(){\n",
       "                            \n",
       "var gd = document.getElementById('114c0cb4-f21f-45cd-9def-11ae029c21c8');\n",
       "var x = new MutationObserver(function (mutations, observer) {{\n",
       "        var display = window.getComputedStyle(gd).display;\n",
       "        if (!display || display === 'none') {{\n",
       "            console.log([gd, 'removed!']);\n",
       "            Plotly.purge(gd);\n",
       "            observer.disconnect();\n",
       "        }}\n",
       "}});\n",
       "\n",
       "// Listen for the removal of the full notebook cells\n",
       "var notebookContainer = gd.closest('#notebook-container');\n",
       "if (notebookContainer) {{\n",
       "    x.observe(notebookContainer, {childList: true});\n",
       "}}\n",
       "\n",
       "// Listen for the clearing of the current output cell\n",
       "var outputEl = gd.closest('.output');\n",
       "if (outputEl) {{\n",
       "    x.observe(outputEl, {childList: true});\n",
       "}}\n",
       "\n",
       "                        })                };                });            </script>        </div>"
      ]
     },
     "metadata": {},
     "output_type": "display_data"
    }
   ],
   "source": [
    "df1.count().iplot(kind='bar')"
   ]
  },
  {
   "cell_type": "code",
   "execution_count": 19,
   "id": "6c4093a9",
   "metadata": {},
   "outputs": [],
   "source": [
    "#iplot with barplot can be considered useful when we call some groupby or\n",
    "#aggre funnc"
   ]
  },
  {
   "cell_type": "code",
   "execution_count": 20,
   "id": "af09bd3b",
   "metadata": {},
   "outputs": [
    {
     "data": {
      "application/vnd.plotly.v1+json": {
       "config": {
        "linkText": "Export to plot.ly",
        "plotlyServerURL": "https://plot.ly",
        "showLink": true
       },
       "data": [
        {
         "boxpoints": false,
         "line": {
          "width": 1.3
         },
         "marker": {
          "color": "rgba(255, 153, 51, 1.0)"
         },
         "name": "A",
         "orientation": "v",
         "type": "box",
         "y": [
          -1.0256496621618938,
          -0.287105672454455,
          -0.6126639634228842,
          -1.8597037893552084,
          -0.9566427708642816,
          -0.22859819369550846,
          -0.4793812465302499,
          -2.4903951825038813,
          0.6035392131290644,
          2.677096068539839,
          0.5624731248787744,
          0.6222528642358222,
          -0.8490252514473418,
          -0.548810215060859,
          -0.5441384236153484,
          -2.5149406977090956,
          -0.3333675628721594,
          -1.245999584290874,
          -0.7903534761881433,
          1.5942982357052238,
          -1.5430176620588751,
          -0.13089543216082566,
          0.6700435896476531,
          -0.6069714026860633,
          1.2123405058155519,
          0.3749006858232452,
          -0.009946020164863893,
          1.5073145491676003,
          0.5699235250463723,
          0.7398952783904557,
          -1.1036200331677495,
          -0.29057344258650386,
          -1.7712973637365244,
          -0.389337166193235,
          0.3602812720007109,
          1.2395176372632817,
          -0.15738519218783073,
          -0.5722716346763621,
          0.07426592847210023,
          0.5334310013393081,
          1.006867506307998,
          -0.7966987716444317,
          -0.6176020520570332,
          -0.13744267022751766,
          0.7863067739194248,
          -1.194862481983797,
          -0.769640861846518,
          -2.122468731579507,
          -0.7632481255170883,
          -1.1025826503717449,
          -1.4045051468002292,
          0.8961136540172652,
          -1.0710974125608013,
          0.15498772074028588,
          1.4859884020677092,
          -0.577619136840705,
          1.0070183885795967,
          0.5852939462271314,
          0.8324944714535736,
          -0.5978250831419247,
          -1.178038718496559,
          3.5635564719893926,
          0.2949200815314698,
          -0.4067784379393906,
          1.787379881681812,
          -0.6804979122610798,
          1.0624202313096711,
          0.30189649555208004,
          -1.3803836409834225,
          1.8851095843009085,
          -0.25984318725201777,
          2.5727962929003705,
          -1.0745228643283593,
          0.24764449226937535,
          0.6818166884272487,
          -0.02858693606250979,
          0.38039070767124006,
          -0.4321678825504317,
          -1.3169608985732824,
          1.0446582585781277,
          1.8480262263356928,
          -0.4532527549832854,
          0.2706580650625444,
          -0.22665173044390874,
          0.05181115815723766,
          -0.5417283794399212,
          1.1166506320083285,
          -0.14254506526142394,
          0.8459633017895346,
          -2.5397751668382043,
          -0.5552784592316042,
          -0.4822945755268403,
          0.12701578635685654,
          0.7148797761841683,
          -2.038555956140452,
          -1.994346917296289,
          2.630091203316942,
          -1.303775711537322,
          -1.1227860545476014,
          0.6671696461846212
         ]
        },
        {
         "boxpoints": false,
         "line": {
          "width": 1.3
         },
         "marker": {
          "color": "rgba(55, 128, 191, 1.0)"
         },
         "name": "B",
         "orientation": "v",
         "type": "box",
         "y": [
          -0.08520702370665945,
          -0.5428353896137872,
          -0.9229682894210636,
          -1.1373838493074757,
          -0.59974338941446,
          -0.6226775282171854,
          -0.6909488674104681,
          -0.6429884712883694,
          -0.763829818415618,
          1.9126612513514099,
          0.5051946942444656,
          1.1534796814020114,
          -1.4973541967185586,
          -1.1603641595539111,
          1.2089092230741885,
          -1.2866488766091513,
          0.6253039088147416,
          0.09943432806814738,
          -1.81878967090492,
          0.45454932869301284,
          -1.0661959002998078,
          -0.45226231295844893,
          0.502073890766179,
          1.360000850818429,
          1.576199232879038,
          -0.991354458568695,
          -0.41864922052129755,
          -0.27693294224574005,
          -1.4369765922877695,
          -0.4564622304795268,
          -0.543033343656325,
          -0.796411024933017,
          -0.6674501440461106,
          -0.4083371687249216,
          -0.9477198563372072,
          0.17176129717986716,
          0.4348243846709589,
          0.29771223214238673,
          0.26427765803321684,
          -0.8363995101281714,
          0.8823759134303497,
          0.905607194137671,
          -0.5565870945944663,
          -0.41972347347737227,
          -1.9249329386407084,
          0.6295212818429051,
          0.8028696678842703,
          -0.9588753331328411,
          -2.0406461185745655,
          0.5798060382596439,
          -0.7415515925609483,
          -0.25876903380250166,
          2.182261418702065,
          1.0229115282733865,
          1.294722395518006,
          0.3884114484562883,
          -2.2263153739917003,
          -0.6268318814354596,
          -1.6025381888476122,
          -1.0045768452368167,
          -1.157463102824297,
          -0.5838177334890376,
          0.32452522809203876,
          -0.7419037873420108,
          0.8579172439573104,
          -1.5878134298301179,
          -0.21031196661969556,
          0.5675315039804291,
          -0.3621359496459766,
          0.32448366104306103,
          0.19420872288635715,
          -2.597531208936153,
          0.04676148891109547,
          -0.17483040082085477,
          -0.2621860092876313,
          -1.045483666627226,
          0.050234493136657045,
          -0.05791781576786074,
          0.513050713788694,
          -1.6255212702788666,
          -1.5156077636707201,
          -1.9785169493256909,
          -1.9490945331143803,
          -1.0806817557769284,
          1.6839128089017628,
          0.6076703250867478,
          -0.9721863273679423,
          0.6347401000811329,
          1.1733829018513646,
          2.481087579855182,
          0.7055191896422903,
          -1.0860434878294678,
          1.5917538490464633,
          0.257385934981979,
          -1.9815757748839793,
          -0.2840951440640914,
          -1.295585170698604,
          -0.3272390968001948,
          -0.7705741622343572,
          -0.12028512029356135
         ]
        },
        {
         "boxpoints": false,
         "line": {
          "width": 1.3
         },
         "marker": {
          "color": "rgba(50, 171, 96, 1.0)"
         },
         "name": "C",
         "orientation": "v",
         "type": "box",
         "y": [
          -0.8936446390927574,
          -0.7946997115803555,
          -0.6641970253019951,
          0.10854762736244102,
          -0.5419366081440622,
          0.7347620301138176,
          1.211577767882975,
          -0.0073492529509151736,
          -0.8905222782055254,
          -0.20895947355587638,
          0.7216072090728042,
          0.7471611657676913,
          -1.857883654159354,
          1.5399644795570173,
          -2.1114706039932893,
          -0.27869828127472385,
          0.4108123490013363,
          0.6287474350771571,
          -0.045922216805762375,
          0.08305344366670474,
          -0.6327668276271052,
          2.104370421985547,
          0.8505626985666442,
          1.1368432936763215,
          0.046150979735368726,
          1.4399395142187927,
          -0.2191327979192292,
          -1.6245975976546034,
          1.2380609013958852,
          1.2869929141055805,
          0.2112601112189276,
          0.03577833563509893,
          0.04228057754471103,
          -0.18367568953869837,
          -0.058366605746244,
          1.2802015661999784,
          -0.34082159165414005,
          1.7581433100657584,
          0.9283819196486757,
          1.1695835151776708,
          0.0881061999660237,
          -0.046070216802679864,
          0.21954034544068105,
          1.6054149958236246,
          0.566294282764027,
          -0.4700588447800426,
          -0.8032406492975612,
          1.1257873036720174,
          -0.6327776781173501,
          -0.7196055061238562,
          2.2772966607591485,
          -1.7662618133492722,
          -0.8105273121331076,
          1.0414951531322088,
          -1.182415864274357,
          0.2778891944531858,
          0.6477779565295866,
          -1.2850822380960962,
          0.6078843560895357,
          -0.7893747586776593,
          -1.3810269824977204,
          0.0839802250563766,
          -0.1925459641559751,
          1.0448610760472854,
          -0.100612097321845,
          -0.6921324852841738,
          0.12474494450596404,
          -2.083715006962687,
          -0.04274220643320186,
          -1.5380138820173286,
          -0.06824507522006448,
          -0.7700581617758347,
          1.9614759743524235,
          0.236116634753566,
          -1.016540617631119,
          -2.1998884013802456,
          -0.6806725937182262,
          0.2202056281997777,
          0.26057422894712556,
          0.5591908240266653,
          0.20635827973177412,
          0.6269451963000509,
          0.36804646571791055,
          0.8484665156988875,
          -0.032805402678268286,
          0.3153792895292077,
          2.376969391867502,
          0.26044305501817483,
          1.3433999859819574,
          -1.1156861979306572,
          -0.4696670754262642,
          0.5844025105384789,
          -1.7364989229986567,
          -0.34542889234682367,
          1.2216811974503263,
          0.0601899165023874,
          -0.551271019517415,
          1.9075683564065347,
          0.7417191012240812,
          0.6810854840489595
         ]
        },
        {
         "boxpoints": false,
         "line": {
          "width": 1.3
         },
         "marker": {
          "color": "rgba(128, 0, 128, 1.0)"
         },
         "name": "D",
         "orientation": "v",
         "type": "box",
         "y": [
          -0.2547583637030008,
          1.7153923145195713,
          -0.44925958380724423,
          0.3817122619289423,
          -0.9539184920139783,
          -0.5414724044802119,
          1.2886121853667651,
          0.4591371751815021,
          -0.8318466038311664,
          1.0559393125239018,
          -0.1211206779234331,
          -1.1264576740561543,
          -0.3490659386328372,
          1.5444800534649525,
          -0.9336657022168428,
          0.6184359745075972,
          0.454996050826126,
          -0.7926439856701983,
          -0.027341710630058188,
          0.46509407069501435,
          -0.12887852253916282,
          2.1770655884297736,
          1.0938041405441596,
          -0.3601929576483487,
          -1.5414169093827494,
          0.8588967455730289,
          -0.5595059459239674,
          0.39544057681840994,
          -0.5962805112692506,
          -0.09571817523462174,
          -1.760239437549029,
          -1.4282787997647104,
          1.0538189853494435,
          -1.1687967544211606,
          -1.0006899546625991,
          0.04007335183795498,
          -1.1306715264567835,
          0.7475261776718441,
          -0.44394833467424294,
          0.7060898668122305,
          0.27796354073246593,
          -0.7703457543729,
          0.8374644539808129,
          -1.3578814655629283,
          -1.9161877184637712,
          2.2245598157361663,
          0.8756510122696048,
          0.8185887351370049,
          0.8358635833428306,
          -0.7695508524195369,
          0.6676990328557973,
          1.2372978729226272,
          1.5157199194696185,
          -2.5401592383765985,
          2.688733856978057,
          -0.976225831781194,
          -0.17279282553758024,
          -2.2312411366371485,
          0.12104567018784905,
          0.8432613277615293,
          -1.3453703345388546,
          -0.7110083620041104,
          0.427802628801016,
          -0.828146143346612,
          -1.5251192269228544,
          0.34323461095761176,
          0.5874819483519925,
          0.06983636993549536,
          0.3139424566832101,
          -1.492755788001548,
          0.2603956017095522,
          0.7527731423923882,
          0.586476949046145,
          0.880429765315423,
          0.3666172118032136,
          1.006818999622996,
          0.4985990209983369,
          -1.2825106625556784,
          -2.249249371514007,
          -0.6152213554185121,
          -0.7380733493183868,
          -0.36522290632922705,
          0.1447213079834652,
          -0.9688082494329535,
          0.8637691020173891,
          1.2368450748511657,
          0.9289868927448707,
          -0.0037208588766144894,
          1.417465898869651,
          0.4691241844829205,
          -0.6732817808990572,
          1.2232277397651579,
          -1.0045760547542537,
          -0.22633756579704814,
          1.8947219421162727,
          -1.1503550790379204,
          0.6768960513088612,
          1.0679901667852234,
          0.550269322408129,
          -0.3390521921074524
         ]
        }
       ],
       "layout": {
        "legend": {
         "bgcolor": "#F5F6F9",
         "font": {
          "color": "#4D5663"
         }
        },
        "paper_bgcolor": "#F5F6F9",
        "plot_bgcolor": "#F5F6F9",
        "template": {
         "data": {
          "bar": [
           {
            "error_x": {
             "color": "#2a3f5f"
            },
            "error_y": {
             "color": "#2a3f5f"
            },
            "marker": {
             "line": {
              "color": "#E5ECF6",
              "width": 0.5
             },
             "pattern": {
              "fillmode": "overlay",
              "size": 10,
              "solidity": 0.2
             }
            },
            "type": "bar"
           }
          ],
          "barpolar": [
           {
            "marker": {
             "line": {
              "color": "#E5ECF6",
              "width": 0.5
             },
             "pattern": {
              "fillmode": "overlay",
              "size": 10,
              "solidity": 0.2
             }
            },
            "type": "barpolar"
           }
          ],
          "carpet": [
           {
            "aaxis": {
             "endlinecolor": "#2a3f5f",
             "gridcolor": "white",
             "linecolor": "white",
             "minorgridcolor": "white",
             "startlinecolor": "#2a3f5f"
            },
            "baxis": {
             "endlinecolor": "#2a3f5f",
             "gridcolor": "white",
             "linecolor": "white",
             "minorgridcolor": "white",
             "startlinecolor": "#2a3f5f"
            },
            "type": "carpet"
           }
          ],
          "choropleth": [
           {
            "colorbar": {
             "outlinewidth": 0,
             "ticks": ""
            },
            "type": "choropleth"
           }
          ],
          "contour": [
           {
            "colorbar": {
             "outlinewidth": 0,
             "ticks": ""
            },
            "colorscale": [
             [
              0,
              "#0d0887"
             ],
             [
              0.1111111111111111,
              "#46039f"
             ],
             [
              0.2222222222222222,
              "#7201a8"
             ],
             [
              0.3333333333333333,
              "#9c179e"
             ],
             [
              0.4444444444444444,
              "#bd3786"
             ],
             [
              0.5555555555555556,
              "#d8576b"
             ],
             [
              0.6666666666666666,
              "#ed7953"
             ],
             [
              0.7777777777777778,
              "#fb9f3a"
             ],
             [
              0.8888888888888888,
              "#fdca26"
             ],
             [
              1,
              "#f0f921"
             ]
            ],
            "type": "contour"
           }
          ],
          "contourcarpet": [
           {
            "colorbar": {
             "outlinewidth": 0,
             "ticks": ""
            },
            "type": "contourcarpet"
           }
          ],
          "heatmap": [
           {
            "colorbar": {
             "outlinewidth": 0,
             "ticks": ""
            },
            "colorscale": [
             [
              0,
              "#0d0887"
             ],
             [
              0.1111111111111111,
              "#46039f"
             ],
             [
              0.2222222222222222,
              "#7201a8"
             ],
             [
              0.3333333333333333,
              "#9c179e"
             ],
             [
              0.4444444444444444,
              "#bd3786"
             ],
             [
              0.5555555555555556,
              "#d8576b"
             ],
             [
              0.6666666666666666,
              "#ed7953"
             ],
             [
              0.7777777777777778,
              "#fb9f3a"
             ],
             [
              0.8888888888888888,
              "#fdca26"
             ],
             [
              1,
              "#f0f921"
             ]
            ],
            "type": "heatmap"
           }
          ],
          "heatmapgl": [
           {
            "colorbar": {
             "outlinewidth": 0,
             "ticks": ""
            },
            "colorscale": [
             [
              0,
              "#0d0887"
             ],
             [
              0.1111111111111111,
              "#46039f"
             ],
             [
              0.2222222222222222,
              "#7201a8"
             ],
             [
              0.3333333333333333,
              "#9c179e"
             ],
             [
              0.4444444444444444,
              "#bd3786"
             ],
             [
              0.5555555555555556,
              "#d8576b"
             ],
             [
              0.6666666666666666,
              "#ed7953"
             ],
             [
              0.7777777777777778,
              "#fb9f3a"
             ],
             [
              0.8888888888888888,
              "#fdca26"
             ],
             [
              1,
              "#f0f921"
             ]
            ],
            "type": "heatmapgl"
           }
          ],
          "histogram": [
           {
            "marker": {
             "pattern": {
              "fillmode": "overlay",
              "size": 10,
              "solidity": 0.2
             }
            },
            "type": "histogram"
           }
          ],
          "histogram2d": [
           {
            "colorbar": {
             "outlinewidth": 0,
             "ticks": ""
            },
            "colorscale": [
             [
              0,
              "#0d0887"
             ],
             [
              0.1111111111111111,
              "#46039f"
             ],
             [
              0.2222222222222222,
              "#7201a8"
             ],
             [
              0.3333333333333333,
              "#9c179e"
             ],
             [
              0.4444444444444444,
              "#bd3786"
             ],
             [
              0.5555555555555556,
              "#d8576b"
             ],
             [
              0.6666666666666666,
              "#ed7953"
             ],
             [
              0.7777777777777778,
              "#fb9f3a"
             ],
             [
              0.8888888888888888,
              "#fdca26"
             ],
             [
              1,
              "#f0f921"
             ]
            ],
            "type": "histogram2d"
           }
          ],
          "histogram2dcontour": [
           {
            "colorbar": {
             "outlinewidth": 0,
             "ticks": ""
            },
            "colorscale": [
             [
              0,
              "#0d0887"
             ],
             [
              0.1111111111111111,
              "#46039f"
             ],
             [
              0.2222222222222222,
              "#7201a8"
             ],
             [
              0.3333333333333333,
              "#9c179e"
             ],
             [
              0.4444444444444444,
              "#bd3786"
             ],
             [
              0.5555555555555556,
              "#d8576b"
             ],
             [
              0.6666666666666666,
              "#ed7953"
             ],
             [
              0.7777777777777778,
              "#fb9f3a"
             ],
             [
              0.8888888888888888,
              "#fdca26"
             ],
             [
              1,
              "#f0f921"
             ]
            ],
            "type": "histogram2dcontour"
           }
          ],
          "mesh3d": [
           {
            "colorbar": {
             "outlinewidth": 0,
             "ticks": ""
            },
            "type": "mesh3d"
           }
          ],
          "parcoords": [
           {
            "line": {
             "colorbar": {
              "outlinewidth": 0,
              "ticks": ""
             }
            },
            "type": "parcoords"
           }
          ],
          "pie": [
           {
            "automargin": true,
            "type": "pie"
           }
          ],
          "scatter": [
           {
            "marker": {
             "colorbar": {
              "outlinewidth": 0,
              "ticks": ""
             }
            },
            "type": "scatter"
           }
          ],
          "scatter3d": [
           {
            "line": {
             "colorbar": {
              "outlinewidth": 0,
              "ticks": ""
             }
            },
            "marker": {
             "colorbar": {
              "outlinewidth": 0,
              "ticks": ""
             }
            },
            "type": "scatter3d"
           }
          ],
          "scattercarpet": [
           {
            "marker": {
             "colorbar": {
              "outlinewidth": 0,
              "ticks": ""
             }
            },
            "type": "scattercarpet"
           }
          ],
          "scattergeo": [
           {
            "marker": {
             "colorbar": {
              "outlinewidth": 0,
              "ticks": ""
             }
            },
            "type": "scattergeo"
           }
          ],
          "scattergl": [
           {
            "marker": {
             "colorbar": {
              "outlinewidth": 0,
              "ticks": ""
             }
            },
            "type": "scattergl"
           }
          ],
          "scattermapbox": [
           {
            "marker": {
             "colorbar": {
              "outlinewidth": 0,
              "ticks": ""
             }
            },
            "type": "scattermapbox"
           }
          ],
          "scatterpolar": [
           {
            "marker": {
             "colorbar": {
              "outlinewidth": 0,
              "ticks": ""
             }
            },
            "type": "scatterpolar"
           }
          ],
          "scatterpolargl": [
           {
            "marker": {
             "colorbar": {
              "outlinewidth": 0,
              "ticks": ""
             }
            },
            "type": "scatterpolargl"
           }
          ],
          "scatterternary": [
           {
            "marker": {
             "colorbar": {
              "outlinewidth": 0,
              "ticks": ""
             }
            },
            "type": "scatterternary"
           }
          ],
          "surface": [
           {
            "colorbar": {
             "outlinewidth": 0,
             "ticks": ""
            },
            "colorscale": [
             [
              0,
              "#0d0887"
             ],
             [
              0.1111111111111111,
              "#46039f"
             ],
             [
              0.2222222222222222,
              "#7201a8"
             ],
             [
              0.3333333333333333,
              "#9c179e"
             ],
             [
              0.4444444444444444,
              "#bd3786"
             ],
             [
              0.5555555555555556,
              "#d8576b"
             ],
             [
              0.6666666666666666,
              "#ed7953"
             ],
             [
              0.7777777777777778,
              "#fb9f3a"
             ],
             [
              0.8888888888888888,
              "#fdca26"
             ],
             [
              1,
              "#f0f921"
             ]
            ],
            "type": "surface"
           }
          ],
          "table": [
           {
            "cells": {
             "fill": {
              "color": "#EBF0F8"
             },
             "line": {
              "color": "white"
             }
            },
            "header": {
             "fill": {
              "color": "#C8D4E3"
             },
             "line": {
              "color": "white"
             }
            },
            "type": "table"
           }
          ]
         },
         "layout": {
          "annotationdefaults": {
           "arrowcolor": "#2a3f5f",
           "arrowhead": 0,
           "arrowwidth": 1
          },
          "autotypenumbers": "strict",
          "coloraxis": {
           "colorbar": {
            "outlinewidth": 0,
            "ticks": ""
           }
          },
          "colorscale": {
           "diverging": [
            [
             0,
             "#8e0152"
            ],
            [
             0.1,
             "#c51b7d"
            ],
            [
             0.2,
             "#de77ae"
            ],
            [
             0.3,
             "#f1b6da"
            ],
            [
             0.4,
             "#fde0ef"
            ],
            [
             0.5,
             "#f7f7f7"
            ],
            [
             0.6,
             "#e6f5d0"
            ],
            [
             0.7,
             "#b8e186"
            ],
            [
             0.8,
             "#7fbc41"
            ],
            [
             0.9,
             "#4d9221"
            ],
            [
             1,
             "#276419"
            ]
           ],
           "sequential": [
            [
             0,
             "#0d0887"
            ],
            [
             0.1111111111111111,
             "#46039f"
            ],
            [
             0.2222222222222222,
             "#7201a8"
            ],
            [
             0.3333333333333333,
             "#9c179e"
            ],
            [
             0.4444444444444444,
             "#bd3786"
            ],
            [
             0.5555555555555556,
             "#d8576b"
            ],
            [
             0.6666666666666666,
             "#ed7953"
            ],
            [
             0.7777777777777778,
             "#fb9f3a"
            ],
            [
             0.8888888888888888,
             "#fdca26"
            ],
            [
             1,
             "#f0f921"
            ]
           ],
           "sequentialminus": [
            [
             0,
             "#0d0887"
            ],
            [
             0.1111111111111111,
             "#46039f"
            ],
            [
             0.2222222222222222,
             "#7201a8"
            ],
            [
             0.3333333333333333,
             "#9c179e"
            ],
            [
             0.4444444444444444,
             "#bd3786"
            ],
            [
             0.5555555555555556,
             "#d8576b"
            ],
            [
             0.6666666666666666,
             "#ed7953"
            ],
            [
             0.7777777777777778,
             "#fb9f3a"
            ],
            [
             0.8888888888888888,
             "#fdca26"
            ],
            [
             1,
             "#f0f921"
            ]
           ]
          },
          "colorway": [
           "#636efa",
           "#EF553B",
           "#00cc96",
           "#ab63fa",
           "#FFA15A",
           "#19d3f3",
           "#FF6692",
           "#B6E880",
           "#FF97FF",
           "#FECB52"
          ],
          "font": {
           "color": "#2a3f5f"
          },
          "geo": {
           "bgcolor": "white",
           "lakecolor": "white",
           "landcolor": "#E5ECF6",
           "showlakes": true,
           "showland": true,
           "subunitcolor": "white"
          },
          "hoverlabel": {
           "align": "left"
          },
          "hovermode": "closest",
          "mapbox": {
           "style": "light"
          },
          "paper_bgcolor": "white",
          "plot_bgcolor": "#E5ECF6",
          "polar": {
           "angularaxis": {
            "gridcolor": "white",
            "linecolor": "white",
            "ticks": ""
           },
           "bgcolor": "#E5ECF6",
           "radialaxis": {
            "gridcolor": "white",
            "linecolor": "white",
            "ticks": ""
           }
          },
          "scene": {
           "xaxis": {
            "backgroundcolor": "#E5ECF6",
            "gridcolor": "white",
            "gridwidth": 2,
            "linecolor": "white",
            "showbackground": true,
            "ticks": "",
            "zerolinecolor": "white"
           },
           "yaxis": {
            "backgroundcolor": "#E5ECF6",
            "gridcolor": "white",
            "gridwidth": 2,
            "linecolor": "white",
            "showbackground": true,
            "ticks": "",
            "zerolinecolor": "white"
           },
           "zaxis": {
            "backgroundcolor": "#E5ECF6",
            "gridcolor": "white",
            "gridwidth": 2,
            "linecolor": "white",
            "showbackground": true,
            "ticks": "",
            "zerolinecolor": "white"
           }
          },
          "shapedefaults": {
           "line": {
            "color": "#2a3f5f"
           }
          },
          "ternary": {
           "aaxis": {
            "gridcolor": "white",
            "linecolor": "white",
            "ticks": ""
           },
           "baxis": {
            "gridcolor": "white",
            "linecolor": "white",
            "ticks": ""
           },
           "bgcolor": "#E5ECF6",
           "caxis": {
            "gridcolor": "white",
            "linecolor": "white",
            "ticks": ""
           }
          },
          "title": {
           "x": 0.05
          },
          "xaxis": {
           "automargin": true,
           "gridcolor": "white",
           "linecolor": "white",
           "ticks": "",
           "title": {
            "standoff": 15
           },
           "zerolinecolor": "white",
           "zerolinewidth": 2
          },
          "yaxis": {
           "automargin": true,
           "gridcolor": "white",
           "linecolor": "white",
           "ticks": "",
           "title": {
            "standoff": 15
           },
           "zerolinecolor": "white",
           "zerolinewidth": 2
          }
         }
        },
        "title": {
         "font": {
          "color": "#4D5663"
         }
        },
        "xaxis": {
         "gridcolor": "#E1E5ED",
         "showgrid": true,
         "tickfont": {
          "color": "#4D5663"
         },
         "title": {
          "font": {
           "color": "#4D5663"
          },
          "text": ""
         },
         "zerolinecolor": "#E1E5ED"
        },
        "yaxis": {
         "gridcolor": "#E1E5ED",
         "showgrid": true,
         "tickfont": {
          "color": "#4D5663"
         },
         "title": {
          "font": {
           "color": "#4D5663"
          },
          "text": ""
         },
         "zerolinecolor": "#E1E5ED"
        }
       }
      },
      "text/html": [
       "<div>                            <div id=\"be641b0c-2afc-4b4f-8de6-4659d1cab8ab\" class=\"plotly-graph-div\" style=\"height:525px; width:100%;\"></div>            <script type=\"text/javascript\">                require([\"plotly\"], function(Plotly) {                    window.PLOTLYENV=window.PLOTLYENV || {};\n",
       "                    window.PLOTLYENV.BASE_URL='https://plot.ly';                                    if (document.getElementById(\"be641b0c-2afc-4b4f-8de6-4659d1cab8ab\")) {                    Plotly.newPlot(                        \"be641b0c-2afc-4b4f-8de6-4659d1cab8ab\",                        [{\"boxpoints\":false,\"line\":{\"width\":1.3},\"marker\":{\"color\":\"rgba(255, 153, 51, 1.0)\"},\"name\":\"A\",\"orientation\":\"v\",\"type\":\"box\",\"y\":[-1.0256496621618938,-0.287105672454455,-0.6126639634228842,-1.8597037893552084,-0.9566427708642816,-0.22859819369550846,-0.4793812465302499,-2.4903951825038813,0.6035392131290644,2.677096068539839,0.5624731248787744,0.6222528642358222,-0.8490252514473418,-0.548810215060859,-0.5441384236153484,-2.5149406977090956,-0.3333675628721594,-1.245999584290874,-0.7903534761881433,1.5942982357052238,-1.5430176620588751,-0.13089543216082566,0.6700435896476531,-0.6069714026860633,1.2123405058155519,0.3749006858232452,-0.009946020164863893,1.5073145491676003,0.5699235250463723,0.7398952783904557,-1.1036200331677495,-0.29057344258650386,-1.7712973637365244,-0.389337166193235,0.3602812720007109,1.2395176372632817,-0.15738519218783073,-0.5722716346763621,0.07426592847210023,0.5334310013393081,1.006867506307998,-0.7966987716444317,-0.6176020520570332,-0.13744267022751766,0.7863067739194248,-1.194862481983797,-0.769640861846518,-2.122468731579507,-0.7632481255170883,-1.1025826503717449,-1.4045051468002292,0.8961136540172652,-1.0710974125608013,0.15498772074028588,1.4859884020677092,-0.577619136840705,1.0070183885795967,0.5852939462271314,0.8324944714535736,-0.5978250831419247,-1.178038718496559,3.5635564719893926,0.2949200815314698,-0.4067784379393906,1.787379881681812,-0.6804979122610798,1.0624202313096711,0.30189649555208004,-1.3803836409834225,1.8851095843009085,-0.25984318725201777,2.5727962929003705,-1.0745228643283593,0.24764449226937535,0.6818166884272487,-0.02858693606250979,0.38039070767124006,-0.4321678825504317,-1.3169608985732824,1.0446582585781277,1.8480262263356928,-0.4532527549832854,0.2706580650625444,-0.22665173044390874,0.05181115815723766,-0.5417283794399212,1.1166506320083285,-0.14254506526142394,0.8459633017895346,-2.5397751668382043,-0.5552784592316042,-0.4822945755268403,0.12701578635685654,0.7148797761841683,-2.038555956140452,-1.994346917296289,2.630091203316942,-1.303775711537322,-1.1227860545476014,0.6671696461846212]},{\"boxpoints\":false,\"line\":{\"width\":1.3},\"marker\":{\"color\":\"rgba(55, 128, 191, 1.0)\"},\"name\":\"B\",\"orientation\":\"v\",\"type\":\"box\",\"y\":[-0.08520702370665945,-0.5428353896137872,-0.9229682894210636,-1.1373838493074757,-0.59974338941446,-0.6226775282171854,-0.6909488674104681,-0.6429884712883694,-0.763829818415618,1.9126612513514099,0.5051946942444656,1.1534796814020114,-1.4973541967185586,-1.1603641595539111,1.2089092230741885,-1.2866488766091513,0.6253039088147416,0.09943432806814738,-1.81878967090492,0.45454932869301284,-1.0661959002998078,-0.45226231295844893,0.502073890766179,1.360000850818429,1.576199232879038,-0.991354458568695,-0.41864922052129755,-0.27693294224574005,-1.4369765922877695,-0.4564622304795268,-0.543033343656325,-0.796411024933017,-0.6674501440461106,-0.4083371687249216,-0.9477198563372072,0.17176129717986716,0.4348243846709589,0.29771223214238673,0.26427765803321684,-0.8363995101281714,0.8823759134303497,0.905607194137671,-0.5565870945944663,-0.41972347347737227,-1.9249329386407084,0.6295212818429051,0.8028696678842703,-0.9588753331328411,-2.0406461185745655,0.5798060382596439,-0.7415515925609483,-0.25876903380250166,2.182261418702065,1.0229115282733865,1.294722395518006,0.3884114484562883,-2.2263153739917003,-0.6268318814354596,-1.6025381888476122,-1.0045768452368167,-1.157463102824297,-0.5838177334890376,0.32452522809203876,-0.7419037873420108,0.8579172439573104,-1.5878134298301179,-0.21031196661969556,0.5675315039804291,-0.3621359496459766,0.32448366104306103,0.19420872288635715,-2.597531208936153,0.04676148891109547,-0.17483040082085477,-0.2621860092876313,-1.045483666627226,0.050234493136657045,-0.05791781576786074,0.513050713788694,-1.6255212702788666,-1.5156077636707201,-1.9785169493256909,-1.9490945331143803,-1.0806817557769284,1.6839128089017628,0.6076703250867478,-0.9721863273679423,0.6347401000811329,1.1733829018513646,2.481087579855182,0.7055191896422903,-1.0860434878294678,1.5917538490464633,0.257385934981979,-1.9815757748839793,-0.2840951440640914,-1.295585170698604,-0.3272390968001948,-0.7705741622343572,-0.12028512029356135]},{\"boxpoints\":false,\"line\":{\"width\":1.3},\"marker\":{\"color\":\"rgba(50, 171, 96, 1.0)\"},\"name\":\"C\",\"orientation\":\"v\",\"type\":\"box\",\"y\":[-0.8936446390927574,-0.7946997115803555,-0.6641970253019951,0.10854762736244102,-0.5419366081440622,0.7347620301138176,1.211577767882975,-0.0073492529509151736,-0.8905222782055254,-0.20895947355587638,0.7216072090728042,0.7471611657676913,-1.857883654159354,1.5399644795570173,-2.1114706039932893,-0.27869828127472385,0.4108123490013363,0.6287474350771571,-0.045922216805762375,0.08305344366670474,-0.6327668276271052,2.104370421985547,0.8505626985666442,1.1368432936763215,0.046150979735368726,1.4399395142187927,-0.2191327979192292,-1.6245975976546034,1.2380609013958852,1.2869929141055805,0.2112601112189276,0.03577833563509893,0.04228057754471103,-0.18367568953869837,-0.058366605746244,1.2802015661999784,-0.34082159165414005,1.7581433100657584,0.9283819196486757,1.1695835151776708,0.0881061999660237,-0.046070216802679864,0.21954034544068105,1.6054149958236246,0.566294282764027,-0.4700588447800426,-0.8032406492975612,1.1257873036720174,-0.6327776781173501,-0.7196055061238562,2.2772966607591485,-1.7662618133492722,-0.8105273121331076,1.0414951531322088,-1.182415864274357,0.2778891944531858,0.6477779565295866,-1.2850822380960962,0.6078843560895357,-0.7893747586776593,-1.3810269824977204,0.0839802250563766,-0.1925459641559751,1.0448610760472854,-0.100612097321845,-0.6921324852841738,0.12474494450596404,-2.083715006962687,-0.04274220643320186,-1.5380138820173286,-0.06824507522006448,-0.7700581617758347,1.9614759743524235,0.236116634753566,-1.016540617631119,-2.1998884013802456,-0.6806725937182262,0.2202056281997777,0.26057422894712556,0.5591908240266653,0.20635827973177412,0.6269451963000509,0.36804646571791055,0.8484665156988875,-0.032805402678268286,0.3153792895292077,2.376969391867502,0.26044305501817483,1.3433999859819574,-1.1156861979306572,-0.4696670754262642,0.5844025105384789,-1.7364989229986567,-0.34542889234682367,1.2216811974503263,0.0601899165023874,-0.551271019517415,1.9075683564065347,0.7417191012240812,0.6810854840489595]},{\"boxpoints\":false,\"line\":{\"width\":1.3},\"marker\":{\"color\":\"rgba(128, 0, 128, 1.0)\"},\"name\":\"D\",\"orientation\":\"v\",\"type\":\"box\",\"y\":[-0.2547583637030008,1.7153923145195713,-0.44925958380724423,0.3817122619289423,-0.9539184920139783,-0.5414724044802119,1.2886121853667651,0.4591371751815021,-0.8318466038311664,1.0559393125239018,-0.1211206779234331,-1.1264576740561543,-0.3490659386328372,1.5444800534649525,-0.9336657022168428,0.6184359745075972,0.454996050826126,-0.7926439856701983,-0.027341710630058188,0.46509407069501435,-0.12887852253916282,2.1770655884297736,1.0938041405441596,-0.3601929576483487,-1.5414169093827494,0.8588967455730289,-0.5595059459239674,0.39544057681840994,-0.5962805112692506,-0.09571817523462174,-1.760239437549029,-1.4282787997647104,1.0538189853494435,-1.1687967544211606,-1.0006899546625991,0.04007335183795498,-1.1306715264567835,0.7475261776718441,-0.44394833467424294,0.7060898668122305,0.27796354073246593,-0.7703457543729,0.8374644539808129,-1.3578814655629283,-1.9161877184637712,2.2245598157361663,0.8756510122696048,0.8185887351370049,0.8358635833428306,-0.7695508524195369,0.6676990328557973,1.2372978729226272,1.5157199194696185,-2.5401592383765985,2.688733856978057,-0.976225831781194,-0.17279282553758024,-2.2312411366371485,0.12104567018784905,0.8432613277615293,-1.3453703345388546,-0.7110083620041104,0.427802628801016,-0.828146143346612,-1.5251192269228544,0.34323461095761176,0.5874819483519925,0.06983636993549536,0.3139424566832101,-1.492755788001548,0.2603956017095522,0.7527731423923882,0.586476949046145,0.880429765315423,0.3666172118032136,1.006818999622996,0.4985990209983369,-1.2825106625556784,-2.249249371514007,-0.6152213554185121,-0.7380733493183868,-0.36522290632922705,0.1447213079834652,-0.9688082494329535,0.8637691020173891,1.2368450748511657,0.9289868927448707,-0.0037208588766144894,1.417465898869651,0.4691241844829205,-0.6732817808990572,1.2232277397651579,-1.0045760547542537,-0.22633756579704814,1.8947219421162727,-1.1503550790379204,0.6768960513088612,1.0679901667852234,0.550269322408129,-0.3390521921074524]}],                        {\"legend\":{\"bgcolor\":\"#F5F6F9\",\"font\":{\"color\":\"#4D5663\"}},\"paper_bgcolor\":\"#F5F6F9\",\"plot_bgcolor\":\"#F5F6F9\",\"template\":{\"data\":{\"bar\":[{\"error_x\":{\"color\":\"#2a3f5f\"},\"error_y\":{\"color\":\"#2a3f5f\"},\"marker\":{\"line\":{\"color\":\"#E5ECF6\",\"width\":0.5},\"pattern\":{\"fillmode\":\"overlay\",\"size\":10,\"solidity\":0.2}},\"type\":\"bar\"}],\"barpolar\":[{\"marker\":{\"line\":{\"color\":\"#E5ECF6\",\"width\":0.5},\"pattern\":{\"fillmode\":\"overlay\",\"size\":10,\"solidity\":0.2}},\"type\":\"barpolar\"}],\"carpet\":[{\"aaxis\":{\"endlinecolor\":\"#2a3f5f\",\"gridcolor\":\"white\",\"linecolor\":\"white\",\"minorgridcolor\":\"white\",\"startlinecolor\":\"#2a3f5f\"},\"baxis\":{\"endlinecolor\":\"#2a3f5f\",\"gridcolor\":\"white\",\"linecolor\":\"white\",\"minorgridcolor\":\"white\",\"startlinecolor\":\"#2a3f5f\"},\"type\":\"carpet\"}],\"choropleth\":[{\"colorbar\":{\"outlinewidth\":0,\"ticks\":\"\"},\"type\":\"choropleth\"}],\"contour\":[{\"colorbar\":{\"outlinewidth\":0,\"ticks\":\"\"},\"colorscale\":[[0.0,\"#0d0887\"],[0.1111111111111111,\"#46039f\"],[0.2222222222222222,\"#7201a8\"],[0.3333333333333333,\"#9c179e\"],[0.4444444444444444,\"#bd3786\"],[0.5555555555555556,\"#d8576b\"],[0.6666666666666666,\"#ed7953\"],[0.7777777777777778,\"#fb9f3a\"],[0.8888888888888888,\"#fdca26\"],[1.0,\"#f0f921\"]],\"type\":\"contour\"}],\"contourcarpet\":[{\"colorbar\":{\"outlinewidth\":0,\"ticks\":\"\"},\"type\":\"contourcarpet\"}],\"heatmap\":[{\"colorbar\":{\"outlinewidth\":0,\"ticks\":\"\"},\"colorscale\":[[0.0,\"#0d0887\"],[0.1111111111111111,\"#46039f\"],[0.2222222222222222,\"#7201a8\"],[0.3333333333333333,\"#9c179e\"],[0.4444444444444444,\"#bd3786\"],[0.5555555555555556,\"#d8576b\"],[0.6666666666666666,\"#ed7953\"],[0.7777777777777778,\"#fb9f3a\"],[0.8888888888888888,\"#fdca26\"],[1.0,\"#f0f921\"]],\"type\":\"heatmap\"}],\"heatmapgl\":[{\"colorbar\":{\"outlinewidth\":0,\"ticks\":\"\"},\"colorscale\":[[0.0,\"#0d0887\"],[0.1111111111111111,\"#46039f\"],[0.2222222222222222,\"#7201a8\"],[0.3333333333333333,\"#9c179e\"],[0.4444444444444444,\"#bd3786\"],[0.5555555555555556,\"#d8576b\"],[0.6666666666666666,\"#ed7953\"],[0.7777777777777778,\"#fb9f3a\"],[0.8888888888888888,\"#fdca26\"],[1.0,\"#f0f921\"]],\"type\":\"heatmapgl\"}],\"histogram\":[{\"marker\":{\"pattern\":{\"fillmode\":\"overlay\",\"size\":10,\"solidity\":0.2}},\"type\":\"histogram\"}],\"histogram2d\":[{\"colorbar\":{\"outlinewidth\":0,\"ticks\":\"\"},\"colorscale\":[[0.0,\"#0d0887\"],[0.1111111111111111,\"#46039f\"],[0.2222222222222222,\"#7201a8\"],[0.3333333333333333,\"#9c179e\"],[0.4444444444444444,\"#bd3786\"],[0.5555555555555556,\"#d8576b\"],[0.6666666666666666,\"#ed7953\"],[0.7777777777777778,\"#fb9f3a\"],[0.8888888888888888,\"#fdca26\"],[1.0,\"#f0f921\"]],\"type\":\"histogram2d\"}],\"histogram2dcontour\":[{\"colorbar\":{\"outlinewidth\":0,\"ticks\":\"\"},\"colorscale\":[[0.0,\"#0d0887\"],[0.1111111111111111,\"#46039f\"],[0.2222222222222222,\"#7201a8\"],[0.3333333333333333,\"#9c179e\"],[0.4444444444444444,\"#bd3786\"],[0.5555555555555556,\"#d8576b\"],[0.6666666666666666,\"#ed7953\"],[0.7777777777777778,\"#fb9f3a\"],[0.8888888888888888,\"#fdca26\"],[1.0,\"#f0f921\"]],\"type\":\"histogram2dcontour\"}],\"mesh3d\":[{\"colorbar\":{\"outlinewidth\":0,\"ticks\":\"\"},\"type\":\"mesh3d\"}],\"parcoords\":[{\"line\":{\"colorbar\":{\"outlinewidth\":0,\"ticks\":\"\"}},\"type\":\"parcoords\"}],\"pie\":[{\"automargin\":true,\"type\":\"pie\"}],\"scatter\":[{\"marker\":{\"colorbar\":{\"outlinewidth\":0,\"ticks\":\"\"}},\"type\":\"scatter\"}],\"scatter3d\":[{\"line\":{\"colorbar\":{\"outlinewidth\":0,\"ticks\":\"\"}},\"marker\":{\"colorbar\":{\"outlinewidth\":0,\"ticks\":\"\"}},\"type\":\"scatter3d\"}],\"scattercarpet\":[{\"marker\":{\"colorbar\":{\"outlinewidth\":0,\"ticks\":\"\"}},\"type\":\"scattercarpet\"}],\"scattergeo\":[{\"marker\":{\"colorbar\":{\"outlinewidth\":0,\"ticks\":\"\"}},\"type\":\"scattergeo\"}],\"scattergl\":[{\"marker\":{\"colorbar\":{\"outlinewidth\":0,\"ticks\":\"\"}},\"type\":\"scattergl\"}],\"scattermapbox\":[{\"marker\":{\"colorbar\":{\"outlinewidth\":0,\"ticks\":\"\"}},\"type\":\"scattermapbox\"}],\"scatterpolar\":[{\"marker\":{\"colorbar\":{\"outlinewidth\":0,\"ticks\":\"\"}},\"type\":\"scatterpolar\"}],\"scatterpolargl\":[{\"marker\":{\"colorbar\":{\"outlinewidth\":0,\"ticks\":\"\"}},\"type\":\"scatterpolargl\"}],\"scatterternary\":[{\"marker\":{\"colorbar\":{\"outlinewidth\":0,\"ticks\":\"\"}},\"type\":\"scatterternary\"}],\"surface\":[{\"colorbar\":{\"outlinewidth\":0,\"ticks\":\"\"},\"colorscale\":[[0.0,\"#0d0887\"],[0.1111111111111111,\"#46039f\"],[0.2222222222222222,\"#7201a8\"],[0.3333333333333333,\"#9c179e\"],[0.4444444444444444,\"#bd3786\"],[0.5555555555555556,\"#d8576b\"],[0.6666666666666666,\"#ed7953\"],[0.7777777777777778,\"#fb9f3a\"],[0.8888888888888888,\"#fdca26\"],[1.0,\"#f0f921\"]],\"type\":\"surface\"}],\"table\":[{\"cells\":{\"fill\":{\"color\":\"#EBF0F8\"},\"line\":{\"color\":\"white\"}},\"header\":{\"fill\":{\"color\":\"#C8D4E3\"},\"line\":{\"color\":\"white\"}},\"type\":\"table\"}]},\"layout\":{\"annotationdefaults\":{\"arrowcolor\":\"#2a3f5f\",\"arrowhead\":0,\"arrowwidth\":1},\"autotypenumbers\":\"strict\",\"coloraxis\":{\"colorbar\":{\"outlinewidth\":0,\"ticks\":\"\"}},\"colorscale\":{\"diverging\":[[0,\"#8e0152\"],[0.1,\"#c51b7d\"],[0.2,\"#de77ae\"],[0.3,\"#f1b6da\"],[0.4,\"#fde0ef\"],[0.5,\"#f7f7f7\"],[0.6,\"#e6f5d0\"],[0.7,\"#b8e186\"],[0.8,\"#7fbc41\"],[0.9,\"#4d9221\"],[1,\"#276419\"]],\"sequential\":[[0.0,\"#0d0887\"],[0.1111111111111111,\"#46039f\"],[0.2222222222222222,\"#7201a8\"],[0.3333333333333333,\"#9c179e\"],[0.4444444444444444,\"#bd3786\"],[0.5555555555555556,\"#d8576b\"],[0.6666666666666666,\"#ed7953\"],[0.7777777777777778,\"#fb9f3a\"],[0.8888888888888888,\"#fdca26\"],[1.0,\"#f0f921\"]],\"sequentialminus\":[[0.0,\"#0d0887\"],[0.1111111111111111,\"#46039f\"],[0.2222222222222222,\"#7201a8\"],[0.3333333333333333,\"#9c179e\"],[0.4444444444444444,\"#bd3786\"],[0.5555555555555556,\"#d8576b\"],[0.6666666666666666,\"#ed7953\"],[0.7777777777777778,\"#fb9f3a\"],[0.8888888888888888,\"#fdca26\"],[1.0,\"#f0f921\"]]},\"colorway\":[\"#636efa\",\"#EF553B\",\"#00cc96\",\"#ab63fa\",\"#FFA15A\",\"#19d3f3\",\"#FF6692\",\"#B6E880\",\"#FF97FF\",\"#FECB52\"],\"font\":{\"color\":\"#2a3f5f\"},\"geo\":{\"bgcolor\":\"white\",\"lakecolor\":\"white\",\"landcolor\":\"#E5ECF6\",\"showlakes\":true,\"showland\":true,\"subunitcolor\":\"white\"},\"hoverlabel\":{\"align\":\"left\"},\"hovermode\":\"closest\",\"mapbox\":{\"style\":\"light\"},\"paper_bgcolor\":\"white\",\"plot_bgcolor\":\"#E5ECF6\",\"polar\":{\"angularaxis\":{\"gridcolor\":\"white\",\"linecolor\":\"white\",\"ticks\":\"\"},\"bgcolor\":\"#E5ECF6\",\"radialaxis\":{\"gridcolor\":\"white\",\"linecolor\":\"white\",\"ticks\":\"\"}},\"scene\":{\"xaxis\":{\"backgroundcolor\":\"#E5ECF6\",\"gridcolor\":\"white\",\"gridwidth\":2,\"linecolor\":\"white\",\"showbackground\":true,\"ticks\":\"\",\"zerolinecolor\":\"white\"},\"yaxis\":{\"backgroundcolor\":\"#E5ECF6\",\"gridcolor\":\"white\",\"gridwidth\":2,\"linecolor\":\"white\",\"showbackground\":true,\"ticks\":\"\",\"zerolinecolor\":\"white\"},\"zaxis\":{\"backgroundcolor\":\"#E5ECF6\",\"gridcolor\":\"white\",\"gridwidth\":2,\"linecolor\":\"white\",\"showbackground\":true,\"ticks\":\"\",\"zerolinecolor\":\"white\"}},\"shapedefaults\":{\"line\":{\"color\":\"#2a3f5f\"}},\"ternary\":{\"aaxis\":{\"gridcolor\":\"white\",\"linecolor\":\"white\",\"ticks\":\"\"},\"baxis\":{\"gridcolor\":\"white\",\"linecolor\":\"white\",\"ticks\":\"\"},\"bgcolor\":\"#E5ECF6\",\"caxis\":{\"gridcolor\":\"white\",\"linecolor\":\"white\",\"ticks\":\"\"}},\"title\":{\"x\":0.05},\"xaxis\":{\"automargin\":true,\"gridcolor\":\"white\",\"linecolor\":\"white\",\"ticks\":\"\",\"title\":{\"standoff\":15},\"zerolinecolor\":\"white\",\"zerolinewidth\":2},\"yaxis\":{\"automargin\":true,\"gridcolor\":\"white\",\"linecolor\":\"white\",\"ticks\":\"\",\"title\":{\"standoff\":15},\"zerolinecolor\":\"white\",\"zerolinewidth\":2}}},\"title\":{\"font\":{\"color\":\"#4D5663\"}},\"xaxis\":{\"gridcolor\":\"#E1E5ED\",\"showgrid\":true,\"tickfont\":{\"color\":\"#4D5663\"},\"title\":{\"font\":{\"color\":\"#4D5663\"},\"text\":\"\"},\"zerolinecolor\":\"#E1E5ED\"},\"yaxis\":{\"gridcolor\":\"#E1E5ED\",\"showgrid\":true,\"tickfont\":{\"color\":\"#4D5663\"},\"title\":{\"font\":{\"color\":\"#4D5663\"},\"text\":\"\"},\"zerolinecolor\":\"#E1E5ED\"}},                        {\"showLink\": true, \"linkText\": \"Export to plot.ly\", \"plotlyServerURL\": \"https://plot.ly\", \"responsive\": true}                    ).then(function(){\n",
       "                            \n",
       "var gd = document.getElementById('be641b0c-2afc-4b4f-8de6-4659d1cab8ab');\n",
       "var x = new MutationObserver(function (mutations, observer) {{\n",
       "        var display = window.getComputedStyle(gd).display;\n",
       "        if (!display || display === 'none') {{\n",
       "            console.log([gd, 'removed!']);\n",
       "            Plotly.purge(gd);\n",
       "            observer.disconnect();\n",
       "        }}\n",
       "}});\n",
       "\n",
       "// Listen for the removal of the full notebook cells\n",
       "var notebookContainer = gd.closest('#notebook-container');\n",
       "if (notebookContainer) {{\n",
       "    x.observe(notebookContainer, {childList: true});\n",
       "}}\n",
       "\n",
       "// Listen for the clearing of the current output cell\n",
       "var outputEl = gd.closest('.output');\n",
       "if (outputEl) {{\n",
       "    x.observe(outputEl, {childList: true});\n",
       "}}\n",
       "\n",
       "                        })                };                });            </script>        </div>"
      ]
     },
     "metadata": {},
     "output_type": "display_data"
    }
   ],
   "source": [
    "df1.iplot(kind='box')"
   ]
  },
  {
   "cell_type": "code",
   "execution_count": 21,
   "id": "98056da5",
   "metadata": {},
   "outputs": [],
   "source": [
    "df3 = pd.DataFrame({'x':[1,2,3,4,5],'y':[10,20,30,20,10],'z':[5,4,3,2,1]})"
   ]
  },
  {
   "cell_type": "code",
   "execution_count": 22,
   "id": "0b826975",
   "metadata": {},
   "outputs": [
    {
     "data": {
      "application/vnd.plotly.v1+json": {
       "config": {
        "linkText": "Export to plot.ly",
        "plotlyServerURL": "https://plot.ly",
        "showLink": true
       },
       "data": [
        {
         "colorscale": [
          [
           0,
           "rgb(165,0,38)"
          ],
          [
           0.1,
           "rgb(215,48,39)"
          ],
          [
           0.2,
           "rgb(244,109,67)"
          ],
          [
           0.3,
           "rgb(253,174,97)"
          ],
          [
           0.4,
           "rgb(254,224,144)"
          ],
          [
           0.5,
           "rgb(255,255,191)"
          ],
          [
           0.6,
           "rgb(224,243,248)"
          ],
          [
           0.7,
           "rgb(171,217,233)"
          ],
          [
           0.8,
           "rgb(116,173,209)"
          ],
          [
           0.9,
           "rgb(69,117,180)"
          ],
          [
           1,
           "rgb(49,54,149)"
          ]
         ],
         "type": "surface",
         "x": [
          0,
          1,
          2,
          3,
          4
         ],
         "y": [
          "x",
          "y",
          "z"
         ],
         "z": [
          [
           1,
           2,
           3,
           4,
           5
          ],
          [
           10,
           20,
           30,
           20,
           10
          ],
          [
           5,
           4,
           3,
           2,
           1
          ]
         ]
        }
       ],
       "layout": {
        "legend": {
         "bgcolor": "#F5F6F9",
         "font": {
          "color": "#4D5663"
         }
        },
        "paper_bgcolor": "#F5F6F9",
        "plot_bgcolor": "#F5F6F9",
        "template": {
         "data": {
          "bar": [
           {
            "error_x": {
             "color": "#2a3f5f"
            },
            "error_y": {
             "color": "#2a3f5f"
            },
            "marker": {
             "line": {
              "color": "#E5ECF6",
              "width": 0.5
             },
             "pattern": {
              "fillmode": "overlay",
              "size": 10,
              "solidity": 0.2
             }
            },
            "type": "bar"
           }
          ],
          "barpolar": [
           {
            "marker": {
             "line": {
              "color": "#E5ECF6",
              "width": 0.5
             },
             "pattern": {
              "fillmode": "overlay",
              "size": 10,
              "solidity": 0.2
             }
            },
            "type": "barpolar"
           }
          ],
          "carpet": [
           {
            "aaxis": {
             "endlinecolor": "#2a3f5f",
             "gridcolor": "white",
             "linecolor": "white",
             "minorgridcolor": "white",
             "startlinecolor": "#2a3f5f"
            },
            "baxis": {
             "endlinecolor": "#2a3f5f",
             "gridcolor": "white",
             "linecolor": "white",
             "minorgridcolor": "white",
             "startlinecolor": "#2a3f5f"
            },
            "type": "carpet"
           }
          ],
          "choropleth": [
           {
            "colorbar": {
             "outlinewidth": 0,
             "ticks": ""
            },
            "type": "choropleth"
           }
          ],
          "contour": [
           {
            "colorbar": {
             "outlinewidth": 0,
             "ticks": ""
            },
            "colorscale": [
             [
              0,
              "#0d0887"
             ],
             [
              0.1111111111111111,
              "#46039f"
             ],
             [
              0.2222222222222222,
              "#7201a8"
             ],
             [
              0.3333333333333333,
              "#9c179e"
             ],
             [
              0.4444444444444444,
              "#bd3786"
             ],
             [
              0.5555555555555556,
              "#d8576b"
             ],
             [
              0.6666666666666666,
              "#ed7953"
             ],
             [
              0.7777777777777778,
              "#fb9f3a"
             ],
             [
              0.8888888888888888,
              "#fdca26"
             ],
             [
              1,
              "#f0f921"
             ]
            ],
            "type": "contour"
           }
          ],
          "contourcarpet": [
           {
            "colorbar": {
             "outlinewidth": 0,
             "ticks": ""
            },
            "type": "contourcarpet"
           }
          ],
          "heatmap": [
           {
            "colorbar": {
             "outlinewidth": 0,
             "ticks": ""
            },
            "colorscale": [
             [
              0,
              "#0d0887"
             ],
             [
              0.1111111111111111,
              "#46039f"
             ],
             [
              0.2222222222222222,
              "#7201a8"
             ],
             [
              0.3333333333333333,
              "#9c179e"
             ],
             [
              0.4444444444444444,
              "#bd3786"
             ],
             [
              0.5555555555555556,
              "#d8576b"
             ],
             [
              0.6666666666666666,
              "#ed7953"
             ],
             [
              0.7777777777777778,
              "#fb9f3a"
             ],
             [
              0.8888888888888888,
              "#fdca26"
             ],
             [
              1,
              "#f0f921"
             ]
            ],
            "type": "heatmap"
           }
          ],
          "heatmapgl": [
           {
            "colorbar": {
             "outlinewidth": 0,
             "ticks": ""
            },
            "colorscale": [
             [
              0,
              "#0d0887"
             ],
             [
              0.1111111111111111,
              "#46039f"
             ],
             [
              0.2222222222222222,
              "#7201a8"
             ],
             [
              0.3333333333333333,
              "#9c179e"
             ],
             [
              0.4444444444444444,
              "#bd3786"
             ],
             [
              0.5555555555555556,
              "#d8576b"
             ],
             [
              0.6666666666666666,
              "#ed7953"
             ],
             [
              0.7777777777777778,
              "#fb9f3a"
             ],
             [
              0.8888888888888888,
              "#fdca26"
             ],
             [
              1,
              "#f0f921"
             ]
            ],
            "type": "heatmapgl"
           }
          ],
          "histogram": [
           {
            "marker": {
             "pattern": {
              "fillmode": "overlay",
              "size": 10,
              "solidity": 0.2
             }
            },
            "type": "histogram"
           }
          ],
          "histogram2d": [
           {
            "colorbar": {
             "outlinewidth": 0,
             "ticks": ""
            },
            "colorscale": [
             [
              0,
              "#0d0887"
             ],
             [
              0.1111111111111111,
              "#46039f"
             ],
             [
              0.2222222222222222,
              "#7201a8"
             ],
             [
              0.3333333333333333,
              "#9c179e"
             ],
             [
              0.4444444444444444,
              "#bd3786"
             ],
             [
              0.5555555555555556,
              "#d8576b"
             ],
             [
              0.6666666666666666,
              "#ed7953"
             ],
             [
              0.7777777777777778,
              "#fb9f3a"
             ],
             [
              0.8888888888888888,
              "#fdca26"
             ],
             [
              1,
              "#f0f921"
             ]
            ],
            "type": "histogram2d"
           }
          ],
          "histogram2dcontour": [
           {
            "colorbar": {
             "outlinewidth": 0,
             "ticks": ""
            },
            "colorscale": [
             [
              0,
              "#0d0887"
             ],
             [
              0.1111111111111111,
              "#46039f"
             ],
             [
              0.2222222222222222,
              "#7201a8"
             ],
             [
              0.3333333333333333,
              "#9c179e"
             ],
             [
              0.4444444444444444,
              "#bd3786"
             ],
             [
              0.5555555555555556,
              "#d8576b"
             ],
             [
              0.6666666666666666,
              "#ed7953"
             ],
             [
              0.7777777777777778,
              "#fb9f3a"
             ],
             [
              0.8888888888888888,
              "#fdca26"
             ],
             [
              1,
              "#f0f921"
             ]
            ],
            "type": "histogram2dcontour"
           }
          ],
          "mesh3d": [
           {
            "colorbar": {
             "outlinewidth": 0,
             "ticks": ""
            },
            "type": "mesh3d"
           }
          ],
          "parcoords": [
           {
            "line": {
             "colorbar": {
              "outlinewidth": 0,
              "ticks": ""
             }
            },
            "type": "parcoords"
           }
          ],
          "pie": [
           {
            "automargin": true,
            "type": "pie"
           }
          ],
          "scatter": [
           {
            "marker": {
             "colorbar": {
              "outlinewidth": 0,
              "ticks": ""
             }
            },
            "type": "scatter"
           }
          ],
          "scatter3d": [
           {
            "line": {
             "colorbar": {
              "outlinewidth": 0,
              "ticks": ""
             }
            },
            "marker": {
             "colorbar": {
              "outlinewidth": 0,
              "ticks": ""
             }
            },
            "type": "scatter3d"
           }
          ],
          "scattercarpet": [
           {
            "marker": {
             "colorbar": {
              "outlinewidth": 0,
              "ticks": ""
             }
            },
            "type": "scattercarpet"
           }
          ],
          "scattergeo": [
           {
            "marker": {
             "colorbar": {
              "outlinewidth": 0,
              "ticks": ""
             }
            },
            "type": "scattergeo"
           }
          ],
          "scattergl": [
           {
            "marker": {
             "colorbar": {
              "outlinewidth": 0,
              "ticks": ""
             }
            },
            "type": "scattergl"
           }
          ],
          "scattermapbox": [
           {
            "marker": {
             "colorbar": {
              "outlinewidth": 0,
              "ticks": ""
             }
            },
            "type": "scattermapbox"
           }
          ],
          "scatterpolar": [
           {
            "marker": {
             "colorbar": {
              "outlinewidth": 0,
              "ticks": ""
             }
            },
            "type": "scatterpolar"
           }
          ],
          "scatterpolargl": [
           {
            "marker": {
             "colorbar": {
              "outlinewidth": 0,
              "ticks": ""
             }
            },
            "type": "scatterpolargl"
           }
          ],
          "scatterternary": [
           {
            "marker": {
             "colorbar": {
              "outlinewidth": 0,
              "ticks": ""
             }
            },
            "type": "scatterternary"
           }
          ],
          "surface": [
           {
            "colorbar": {
             "outlinewidth": 0,
             "ticks": ""
            },
            "colorscale": [
             [
              0,
              "#0d0887"
             ],
             [
              0.1111111111111111,
              "#46039f"
             ],
             [
              0.2222222222222222,
              "#7201a8"
             ],
             [
              0.3333333333333333,
              "#9c179e"
             ],
             [
              0.4444444444444444,
              "#bd3786"
             ],
             [
              0.5555555555555556,
              "#d8576b"
             ],
             [
              0.6666666666666666,
              "#ed7953"
             ],
             [
              0.7777777777777778,
              "#fb9f3a"
             ],
             [
              0.8888888888888888,
              "#fdca26"
             ],
             [
              1,
              "#f0f921"
             ]
            ],
            "type": "surface"
           }
          ],
          "table": [
           {
            "cells": {
             "fill": {
              "color": "#EBF0F8"
             },
             "line": {
              "color": "white"
             }
            },
            "header": {
             "fill": {
              "color": "#C8D4E3"
             },
             "line": {
              "color": "white"
             }
            },
            "type": "table"
           }
          ]
         },
         "layout": {
          "annotationdefaults": {
           "arrowcolor": "#2a3f5f",
           "arrowhead": 0,
           "arrowwidth": 1
          },
          "autotypenumbers": "strict",
          "coloraxis": {
           "colorbar": {
            "outlinewidth": 0,
            "ticks": ""
           }
          },
          "colorscale": {
           "diverging": [
            [
             0,
             "#8e0152"
            ],
            [
             0.1,
             "#c51b7d"
            ],
            [
             0.2,
             "#de77ae"
            ],
            [
             0.3,
             "#f1b6da"
            ],
            [
             0.4,
             "#fde0ef"
            ],
            [
             0.5,
             "#f7f7f7"
            ],
            [
             0.6,
             "#e6f5d0"
            ],
            [
             0.7,
             "#b8e186"
            ],
            [
             0.8,
             "#7fbc41"
            ],
            [
             0.9,
             "#4d9221"
            ],
            [
             1,
             "#276419"
            ]
           ],
           "sequential": [
            [
             0,
             "#0d0887"
            ],
            [
             0.1111111111111111,
             "#46039f"
            ],
            [
             0.2222222222222222,
             "#7201a8"
            ],
            [
             0.3333333333333333,
             "#9c179e"
            ],
            [
             0.4444444444444444,
             "#bd3786"
            ],
            [
             0.5555555555555556,
             "#d8576b"
            ],
            [
             0.6666666666666666,
             "#ed7953"
            ],
            [
             0.7777777777777778,
             "#fb9f3a"
            ],
            [
             0.8888888888888888,
             "#fdca26"
            ],
            [
             1,
             "#f0f921"
            ]
           ],
           "sequentialminus": [
            [
             0,
             "#0d0887"
            ],
            [
             0.1111111111111111,
             "#46039f"
            ],
            [
             0.2222222222222222,
             "#7201a8"
            ],
            [
             0.3333333333333333,
             "#9c179e"
            ],
            [
             0.4444444444444444,
             "#bd3786"
            ],
            [
             0.5555555555555556,
             "#d8576b"
            ],
            [
             0.6666666666666666,
             "#ed7953"
            ],
            [
             0.7777777777777778,
             "#fb9f3a"
            ],
            [
             0.8888888888888888,
             "#fdca26"
            ],
            [
             1,
             "#f0f921"
            ]
           ]
          },
          "colorway": [
           "#636efa",
           "#EF553B",
           "#00cc96",
           "#ab63fa",
           "#FFA15A",
           "#19d3f3",
           "#FF6692",
           "#B6E880",
           "#FF97FF",
           "#FECB52"
          ],
          "font": {
           "color": "#2a3f5f"
          },
          "geo": {
           "bgcolor": "white",
           "lakecolor": "white",
           "landcolor": "#E5ECF6",
           "showlakes": true,
           "showland": true,
           "subunitcolor": "white"
          },
          "hoverlabel": {
           "align": "left"
          },
          "hovermode": "closest",
          "mapbox": {
           "style": "light"
          },
          "paper_bgcolor": "white",
          "plot_bgcolor": "#E5ECF6",
          "polar": {
           "angularaxis": {
            "gridcolor": "white",
            "linecolor": "white",
            "ticks": ""
           },
           "bgcolor": "#E5ECF6",
           "radialaxis": {
            "gridcolor": "white",
            "linecolor": "white",
            "ticks": ""
           }
          },
          "scene": {
           "xaxis": {
            "backgroundcolor": "#E5ECF6",
            "gridcolor": "white",
            "gridwidth": 2,
            "linecolor": "white",
            "showbackground": true,
            "ticks": "",
            "zerolinecolor": "white"
           },
           "yaxis": {
            "backgroundcolor": "#E5ECF6",
            "gridcolor": "white",
            "gridwidth": 2,
            "linecolor": "white",
            "showbackground": true,
            "ticks": "",
            "zerolinecolor": "white"
           },
           "zaxis": {
            "backgroundcolor": "#E5ECF6",
            "gridcolor": "white",
            "gridwidth": 2,
            "linecolor": "white",
            "showbackground": true,
            "ticks": "",
            "zerolinecolor": "white"
           }
          },
          "shapedefaults": {
           "line": {
            "color": "#2a3f5f"
           }
          },
          "ternary": {
           "aaxis": {
            "gridcolor": "white",
            "linecolor": "white",
            "ticks": ""
           },
           "baxis": {
            "gridcolor": "white",
            "linecolor": "white",
            "ticks": ""
           },
           "bgcolor": "#E5ECF6",
           "caxis": {
            "gridcolor": "white",
            "linecolor": "white",
            "ticks": ""
           }
          },
          "title": {
           "x": 0.05
          },
          "xaxis": {
           "automargin": true,
           "gridcolor": "white",
           "linecolor": "white",
           "ticks": "",
           "title": {
            "standoff": 15
           },
           "zerolinecolor": "white",
           "zerolinewidth": 2
          },
          "yaxis": {
           "automargin": true,
           "gridcolor": "white",
           "linecolor": "white",
           "ticks": "",
           "title": {
            "standoff": 15
           },
           "zerolinecolor": "white",
           "zerolinewidth": 2
          }
         }
        },
        "title": {
         "font": {
          "color": "#4D5663"
         }
        },
        "xaxis": {
         "gridcolor": "#E1E5ED",
         "showgrid": true,
         "tickfont": {
          "color": "#4D5663"
         },
         "title": {
          "font": {
           "color": "#4D5663"
          },
          "text": ""
         },
         "zerolinecolor": "#E1E5ED"
        },
        "yaxis": {
         "gridcolor": "#E1E5ED",
         "showgrid": true,
         "tickfont": {
          "color": "#4D5663"
         },
         "title": {
          "font": {
           "color": "#4D5663"
          },
          "text": ""
         },
         "zerolinecolor": "#E1E5ED"
        }
       }
      },
      "text/html": [
       "<div>                            <div id=\"22c0f15e-8281-4ac9-8e0c-cb84b8bca3f4\" class=\"plotly-graph-div\" style=\"height:525px; width:100%;\"></div>            <script type=\"text/javascript\">                require([\"plotly\"], function(Plotly) {                    window.PLOTLYENV=window.PLOTLYENV || {};\n",
       "                    window.PLOTLYENV.BASE_URL='https://plot.ly';                                    if (document.getElementById(\"22c0f15e-8281-4ac9-8e0c-cb84b8bca3f4\")) {                    Plotly.newPlot(                        \"22c0f15e-8281-4ac9-8e0c-cb84b8bca3f4\",                        [{\"colorscale\":[[0.0,\"rgb(165,0,38)\"],[0.1,\"rgb(215,48,39)\"],[0.2,\"rgb(244,109,67)\"],[0.3,\"rgb(253,174,97)\"],[0.4,\"rgb(254,224,144)\"],[0.5,\"rgb(255,255,191)\"],[0.6,\"rgb(224,243,248)\"],[0.7,\"rgb(171,217,233)\"],[0.8,\"rgb(116,173,209)\"],[0.9,\"rgb(69,117,180)\"],[1.0,\"rgb(49,54,149)\"]],\"type\":\"surface\",\"x\":[0,1,2,3,4],\"y\":[\"x\",\"y\",\"z\"],\"z\":[[1,2,3,4,5],[10,20,30,20,10],[5,4,3,2,1]]}],                        {\"legend\":{\"bgcolor\":\"#F5F6F9\",\"font\":{\"color\":\"#4D5663\"}},\"paper_bgcolor\":\"#F5F6F9\",\"plot_bgcolor\":\"#F5F6F9\",\"template\":{\"data\":{\"bar\":[{\"error_x\":{\"color\":\"#2a3f5f\"},\"error_y\":{\"color\":\"#2a3f5f\"},\"marker\":{\"line\":{\"color\":\"#E5ECF6\",\"width\":0.5},\"pattern\":{\"fillmode\":\"overlay\",\"size\":10,\"solidity\":0.2}},\"type\":\"bar\"}],\"barpolar\":[{\"marker\":{\"line\":{\"color\":\"#E5ECF6\",\"width\":0.5},\"pattern\":{\"fillmode\":\"overlay\",\"size\":10,\"solidity\":0.2}},\"type\":\"barpolar\"}],\"carpet\":[{\"aaxis\":{\"endlinecolor\":\"#2a3f5f\",\"gridcolor\":\"white\",\"linecolor\":\"white\",\"minorgridcolor\":\"white\",\"startlinecolor\":\"#2a3f5f\"},\"baxis\":{\"endlinecolor\":\"#2a3f5f\",\"gridcolor\":\"white\",\"linecolor\":\"white\",\"minorgridcolor\":\"white\",\"startlinecolor\":\"#2a3f5f\"},\"type\":\"carpet\"}],\"choropleth\":[{\"colorbar\":{\"outlinewidth\":0,\"ticks\":\"\"},\"type\":\"choropleth\"}],\"contour\":[{\"colorbar\":{\"outlinewidth\":0,\"ticks\":\"\"},\"colorscale\":[[0.0,\"#0d0887\"],[0.1111111111111111,\"#46039f\"],[0.2222222222222222,\"#7201a8\"],[0.3333333333333333,\"#9c179e\"],[0.4444444444444444,\"#bd3786\"],[0.5555555555555556,\"#d8576b\"],[0.6666666666666666,\"#ed7953\"],[0.7777777777777778,\"#fb9f3a\"],[0.8888888888888888,\"#fdca26\"],[1.0,\"#f0f921\"]],\"type\":\"contour\"}],\"contourcarpet\":[{\"colorbar\":{\"outlinewidth\":0,\"ticks\":\"\"},\"type\":\"contourcarpet\"}],\"heatmap\":[{\"colorbar\":{\"outlinewidth\":0,\"ticks\":\"\"},\"colorscale\":[[0.0,\"#0d0887\"],[0.1111111111111111,\"#46039f\"],[0.2222222222222222,\"#7201a8\"],[0.3333333333333333,\"#9c179e\"],[0.4444444444444444,\"#bd3786\"],[0.5555555555555556,\"#d8576b\"],[0.6666666666666666,\"#ed7953\"],[0.7777777777777778,\"#fb9f3a\"],[0.8888888888888888,\"#fdca26\"],[1.0,\"#f0f921\"]],\"type\":\"heatmap\"}],\"heatmapgl\":[{\"colorbar\":{\"outlinewidth\":0,\"ticks\":\"\"},\"colorscale\":[[0.0,\"#0d0887\"],[0.1111111111111111,\"#46039f\"],[0.2222222222222222,\"#7201a8\"],[0.3333333333333333,\"#9c179e\"],[0.4444444444444444,\"#bd3786\"],[0.5555555555555556,\"#d8576b\"],[0.6666666666666666,\"#ed7953\"],[0.7777777777777778,\"#fb9f3a\"],[0.8888888888888888,\"#fdca26\"],[1.0,\"#f0f921\"]],\"type\":\"heatmapgl\"}],\"histogram\":[{\"marker\":{\"pattern\":{\"fillmode\":\"overlay\",\"size\":10,\"solidity\":0.2}},\"type\":\"histogram\"}],\"histogram2d\":[{\"colorbar\":{\"outlinewidth\":0,\"ticks\":\"\"},\"colorscale\":[[0.0,\"#0d0887\"],[0.1111111111111111,\"#46039f\"],[0.2222222222222222,\"#7201a8\"],[0.3333333333333333,\"#9c179e\"],[0.4444444444444444,\"#bd3786\"],[0.5555555555555556,\"#d8576b\"],[0.6666666666666666,\"#ed7953\"],[0.7777777777777778,\"#fb9f3a\"],[0.8888888888888888,\"#fdca26\"],[1.0,\"#f0f921\"]],\"type\":\"histogram2d\"}],\"histogram2dcontour\":[{\"colorbar\":{\"outlinewidth\":0,\"ticks\":\"\"},\"colorscale\":[[0.0,\"#0d0887\"],[0.1111111111111111,\"#46039f\"],[0.2222222222222222,\"#7201a8\"],[0.3333333333333333,\"#9c179e\"],[0.4444444444444444,\"#bd3786\"],[0.5555555555555556,\"#d8576b\"],[0.6666666666666666,\"#ed7953\"],[0.7777777777777778,\"#fb9f3a\"],[0.8888888888888888,\"#fdca26\"],[1.0,\"#f0f921\"]],\"type\":\"histogram2dcontour\"}],\"mesh3d\":[{\"colorbar\":{\"outlinewidth\":0,\"ticks\":\"\"},\"type\":\"mesh3d\"}],\"parcoords\":[{\"line\":{\"colorbar\":{\"outlinewidth\":0,\"ticks\":\"\"}},\"type\":\"parcoords\"}],\"pie\":[{\"automargin\":true,\"type\":\"pie\"}],\"scatter\":[{\"marker\":{\"colorbar\":{\"outlinewidth\":0,\"ticks\":\"\"}},\"type\":\"scatter\"}],\"scatter3d\":[{\"line\":{\"colorbar\":{\"outlinewidth\":0,\"ticks\":\"\"}},\"marker\":{\"colorbar\":{\"outlinewidth\":0,\"ticks\":\"\"}},\"type\":\"scatter3d\"}],\"scattercarpet\":[{\"marker\":{\"colorbar\":{\"outlinewidth\":0,\"ticks\":\"\"}},\"type\":\"scattercarpet\"}],\"scattergeo\":[{\"marker\":{\"colorbar\":{\"outlinewidth\":0,\"ticks\":\"\"}},\"type\":\"scattergeo\"}],\"scattergl\":[{\"marker\":{\"colorbar\":{\"outlinewidth\":0,\"ticks\":\"\"}},\"type\":\"scattergl\"}],\"scattermapbox\":[{\"marker\":{\"colorbar\":{\"outlinewidth\":0,\"ticks\":\"\"}},\"type\":\"scattermapbox\"}],\"scatterpolar\":[{\"marker\":{\"colorbar\":{\"outlinewidth\":0,\"ticks\":\"\"}},\"type\":\"scatterpolar\"}],\"scatterpolargl\":[{\"marker\":{\"colorbar\":{\"outlinewidth\":0,\"ticks\":\"\"}},\"type\":\"scatterpolargl\"}],\"scatterternary\":[{\"marker\":{\"colorbar\":{\"outlinewidth\":0,\"ticks\":\"\"}},\"type\":\"scatterternary\"}],\"surface\":[{\"colorbar\":{\"outlinewidth\":0,\"ticks\":\"\"},\"colorscale\":[[0.0,\"#0d0887\"],[0.1111111111111111,\"#46039f\"],[0.2222222222222222,\"#7201a8\"],[0.3333333333333333,\"#9c179e\"],[0.4444444444444444,\"#bd3786\"],[0.5555555555555556,\"#d8576b\"],[0.6666666666666666,\"#ed7953\"],[0.7777777777777778,\"#fb9f3a\"],[0.8888888888888888,\"#fdca26\"],[1.0,\"#f0f921\"]],\"type\":\"surface\"}],\"table\":[{\"cells\":{\"fill\":{\"color\":\"#EBF0F8\"},\"line\":{\"color\":\"white\"}},\"header\":{\"fill\":{\"color\":\"#C8D4E3\"},\"line\":{\"color\":\"white\"}},\"type\":\"table\"}]},\"layout\":{\"annotationdefaults\":{\"arrowcolor\":\"#2a3f5f\",\"arrowhead\":0,\"arrowwidth\":1},\"autotypenumbers\":\"strict\",\"coloraxis\":{\"colorbar\":{\"outlinewidth\":0,\"ticks\":\"\"}},\"colorscale\":{\"diverging\":[[0,\"#8e0152\"],[0.1,\"#c51b7d\"],[0.2,\"#de77ae\"],[0.3,\"#f1b6da\"],[0.4,\"#fde0ef\"],[0.5,\"#f7f7f7\"],[0.6,\"#e6f5d0\"],[0.7,\"#b8e186\"],[0.8,\"#7fbc41\"],[0.9,\"#4d9221\"],[1,\"#276419\"]],\"sequential\":[[0.0,\"#0d0887\"],[0.1111111111111111,\"#46039f\"],[0.2222222222222222,\"#7201a8\"],[0.3333333333333333,\"#9c179e\"],[0.4444444444444444,\"#bd3786\"],[0.5555555555555556,\"#d8576b\"],[0.6666666666666666,\"#ed7953\"],[0.7777777777777778,\"#fb9f3a\"],[0.8888888888888888,\"#fdca26\"],[1.0,\"#f0f921\"]],\"sequentialminus\":[[0.0,\"#0d0887\"],[0.1111111111111111,\"#46039f\"],[0.2222222222222222,\"#7201a8\"],[0.3333333333333333,\"#9c179e\"],[0.4444444444444444,\"#bd3786\"],[0.5555555555555556,\"#d8576b\"],[0.6666666666666666,\"#ed7953\"],[0.7777777777777778,\"#fb9f3a\"],[0.8888888888888888,\"#fdca26\"],[1.0,\"#f0f921\"]]},\"colorway\":[\"#636efa\",\"#EF553B\",\"#00cc96\",\"#ab63fa\",\"#FFA15A\",\"#19d3f3\",\"#FF6692\",\"#B6E880\",\"#FF97FF\",\"#FECB52\"],\"font\":{\"color\":\"#2a3f5f\"},\"geo\":{\"bgcolor\":\"white\",\"lakecolor\":\"white\",\"landcolor\":\"#E5ECF6\",\"showlakes\":true,\"showland\":true,\"subunitcolor\":\"white\"},\"hoverlabel\":{\"align\":\"left\"},\"hovermode\":\"closest\",\"mapbox\":{\"style\":\"light\"},\"paper_bgcolor\":\"white\",\"plot_bgcolor\":\"#E5ECF6\",\"polar\":{\"angularaxis\":{\"gridcolor\":\"white\",\"linecolor\":\"white\",\"ticks\":\"\"},\"bgcolor\":\"#E5ECF6\",\"radialaxis\":{\"gridcolor\":\"white\",\"linecolor\":\"white\",\"ticks\":\"\"}},\"scene\":{\"xaxis\":{\"backgroundcolor\":\"#E5ECF6\",\"gridcolor\":\"white\",\"gridwidth\":2,\"linecolor\":\"white\",\"showbackground\":true,\"ticks\":\"\",\"zerolinecolor\":\"white\"},\"yaxis\":{\"backgroundcolor\":\"#E5ECF6\",\"gridcolor\":\"white\",\"gridwidth\":2,\"linecolor\":\"white\",\"showbackground\":true,\"ticks\":\"\",\"zerolinecolor\":\"white\"},\"zaxis\":{\"backgroundcolor\":\"#E5ECF6\",\"gridcolor\":\"white\",\"gridwidth\":2,\"linecolor\":\"white\",\"showbackground\":true,\"ticks\":\"\",\"zerolinecolor\":\"white\"}},\"shapedefaults\":{\"line\":{\"color\":\"#2a3f5f\"}},\"ternary\":{\"aaxis\":{\"gridcolor\":\"white\",\"linecolor\":\"white\",\"ticks\":\"\"},\"baxis\":{\"gridcolor\":\"white\",\"linecolor\":\"white\",\"ticks\":\"\"},\"bgcolor\":\"#E5ECF6\",\"caxis\":{\"gridcolor\":\"white\",\"linecolor\":\"white\",\"ticks\":\"\"}},\"title\":{\"x\":0.05},\"xaxis\":{\"automargin\":true,\"gridcolor\":\"white\",\"linecolor\":\"white\",\"ticks\":\"\",\"title\":{\"standoff\":15},\"zerolinecolor\":\"white\",\"zerolinewidth\":2},\"yaxis\":{\"automargin\":true,\"gridcolor\":\"white\",\"linecolor\":\"white\",\"ticks\":\"\",\"title\":{\"standoff\":15},\"zerolinecolor\":\"white\",\"zerolinewidth\":2}}},\"title\":{\"font\":{\"color\":\"#4D5663\"}},\"xaxis\":{\"gridcolor\":\"#E1E5ED\",\"showgrid\":true,\"tickfont\":{\"color\":\"#4D5663\"},\"title\":{\"font\":{\"color\":\"#4D5663\"},\"text\":\"\"},\"zerolinecolor\":\"#E1E5ED\"},\"yaxis\":{\"gridcolor\":\"#E1E5ED\",\"showgrid\":true,\"tickfont\":{\"color\":\"#4D5663\"},\"title\":{\"font\":{\"color\":\"#4D5663\"},\"text\":\"\"},\"zerolinecolor\":\"#E1E5ED\"}},                        {\"showLink\": true, \"linkText\": \"Export to plot.ly\", \"plotlyServerURL\": \"https://plot.ly\", \"responsive\": true}                    ).then(function(){\n",
       "                            \n",
       "var gd = document.getElementById('22c0f15e-8281-4ac9-8e0c-cb84b8bca3f4');\n",
       "var x = new MutationObserver(function (mutations, observer) {{\n",
       "        var display = window.getComputedStyle(gd).display;\n",
       "        if (!display || display === 'none') {{\n",
       "            console.log([gd, 'removed!']);\n",
       "            Plotly.purge(gd);\n",
       "            observer.disconnect();\n",
       "        }}\n",
       "}});\n",
       "\n",
       "// Listen for the removal of the full notebook cells\n",
       "var notebookContainer = gd.closest('#notebook-container');\n",
       "if (notebookContainer) {{\n",
       "    x.observe(notebookContainer, {childList: true});\n",
       "}}\n",
       "\n",
       "// Listen for the clearing of the current output cell\n",
       "var outputEl = gd.closest('.output');\n",
       "if (outputEl) {{\n",
       "    x.observe(outputEl, {childList: true});\n",
       "}}\n",
       "\n",
       "                        })                };                });            </script>        </div>"
      ]
     },
     "metadata": {},
     "output_type": "display_data"
    }
   ],
   "source": [
    "df3.iplot(kind='surface',colorscale='rdylbu')"
   ]
  },
  {
   "cell_type": "code",
   "execution_count": 23,
   "id": "c666825f",
   "metadata": {},
   "outputs": [
    {
     "data": {
      "application/vnd.plotly.v1+json": {
       "config": {
        "linkText": "Export to plot.ly",
        "plotlyServerURL": "https://plot.ly",
        "showLink": true
       },
       "data": [
        {
         "histfunc": "count",
         "histnorm": "",
         "marker": {
          "color": "rgba(255, 153, 51, 1.0)",
          "line": {
           "color": "#4D5663",
           "width": 1.3
          }
         },
         "name": "A",
         "opacity": 0.8,
         "orientation": "v",
         "type": "histogram",
         "x": [
          -1.0256496621618938,
          -0.287105672454455,
          -0.6126639634228842,
          -1.8597037893552084,
          -0.9566427708642816,
          -0.22859819369550846,
          -0.4793812465302499,
          -2.4903951825038813,
          0.6035392131290644,
          2.677096068539839,
          0.5624731248787744,
          0.6222528642358222,
          -0.8490252514473418,
          -0.548810215060859,
          -0.5441384236153484,
          -2.5149406977090956,
          -0.3333675628721594,
          -1.245999584290874,
          -0.7903534761881433,
          1.5942982357052238,
          -1.5430176620588751,
          -0.13089543216082566,
          0.6700435896476531,
          -0.6069714026860633,
          1.2123405058155519,
          0.3749006858232452,
          -0.009946020164863893,
          1.5073145491676003,
          0.5699235250463723,
          0.7398952783904557,
          -1.1036200331677495,
          -0.29057344258650386,
          -1.7712973637365244,
          -0.389337166193235,
          0.3602812720007109,
          1.2395176372632817,
          -0.15738519218783073,
          -0.5722716346763621,
          0.07426592847210023,
          0.5334310013393081,
          1.006867506307998,
          -0.7966987716444317,
          -0.6176020520570332,
          -0.13744267022751766,
          0.7863067739194248,
          -1.194862481983797,
          -0.769640861846518,
          -2.122468731579507,
          -0.7632481255170883,
          -1.1025826503717449,
          -1.4045051468002292,
          0.8961136540172652,
          -1.0710974125608013,
          0.15498772074028588,
          1.4859884020677092,
          -0.577619136840705,
          1.0070183885795967,
          0.5852939462271314,
          0.8324944714535736,
          -0.5978250831419247,
          -1.178038718496559,
          3.5635564719893926,
          0.2949200815314698,
          -0.4067784379393906,
          1.787379881681812,
          -0.6804979122610798,
          1.0624202313096711,
          0.30189649555208004,
          -1.3803836409834225,
          1.8851095843009085,
          -0.25984318725201777,
          2.5727962929003705,
          -1.0745228643283593,
          0.24764449226937535,
          0.6818166884272487,
          -0.02858693606250979,
          0.38039070767124006,
          -0.4321678825504317,
          -1.3169608985732824,
          1.0446582585781277,
          1.8480262263356928,
          -0.4532527549832854,
          0.2706580650625444,
          -0.22665173044390874,
          0.05181115815723766,
          -0.5417283794399212,
          1.1166506320083285,
          -0.14254506526142394,
          0.8459633017895346,
          -2.5397751668382043,
          -0.5552784592316042,
          -0.4822945755268403,
          0.12701578635685654,
          0.7148797761841683,
          -2.038555956140452,
          -1.994346917296289,
          2.630091203316942,
          -1.303775711537322,
          -1.1227860545476014,
          0.6671696461846212
         ]
        },
        {
         "histfunc": "count",
         "histnorm": "",
         "marker": {
          "color": "rgba(55, 128, 191, 1.0)",
          "line": {
           "color": "#4D5663",
           "width": 1.3
          }
         },
         "name": "B",
         "opacity": 0.8,
         "orientation": "v",
         "type": "histogram",
         "x": [
          -0.08520702370665945,
          -0.5428353896137872,
          -0.9229682894210636,
          -1.1373838493074757,
          -0.59974338941446,
          -0.6226775282171854,
          -0.6909488674104681,
          -0.6429884712883694,
          -0.763829818415618,
          1.9126612513514099,
          0.5051946942444656,
          1.1534796814020114,
          -1.4973541967185586,
          -1.1603641595539111,
          1.2089092230741885,
          -1.2866488766091513,
          0.6253039088147416,
          0.09943432806814738,
          -1.81878967090492,
          0.45454932869301284,
          -1.0661959002998078,
          -0.45226231295844893,
          0.502073890766179,
          1.360000850818429,
          1.576199232879038,
          -0.991354458568695,
          -0.41864922052129755,
          -0.27693294224574005,
          -1.4369765922877695,
          -0.4564622304795268,
          -0.543033343656325,
          -0.796411024933017,
          -0.6674501440461106,
          -0.4083371687249216,
          -0.9477198563372072,
          0.17176129717986716,
          0.4348243846709589,
          0.29771223214238673,
          0.26427765803321684,
          -0.8363995101281714,
          0.8823759134303497,
          0.905607194137671,
          -0.5565870945944663,
          -0.41972347347737227,
          -1.9249329386407084,
          0.6295212818429051,
          0.8028696678842703,
          -0.9588753331328411,
          -2.0406461185745655,
          0.5798060382596439,
          -0.7415515925609483,
          -0.25876903380250166,
          2.182261418702065,
          1.0229115282733865,
          1.294722395518006,
          0.3884114484562883,
          -2.2263153739917003,
          -0.6268318814354596,
          -1.6025381888476122,
          -1.0045768452368167,
          -1.157463102824297,
          -0.5838177334890376,
          0.32452522809203876,
          -0.7419037873420108,
          0.8579172439573104,
          -1.5878134298301179,
          -0.21031196661969556,
          0.5675315039804291,
          -0.3621359496459766,
          0.32448366104306103,
          0.19420872288635715,
          -2.597531208936153,
          0.04676148891109547,
          -0.17483040082085477,
          -0.2621860092876313,
          -1.045483666627226,
          0.050234493136657045,
          -0.05791781576786074,
          0.513050713788694,
          -1.6255212702788666,
          -1.5156077636707201,
          -1.9785169493256909,
          -1.9490945331143803,
          -1.0806817557769284,
          1.6839128089017628,
          0.6076703250867478,
          -0.9721863273679423,
          0.6347401000811329,
          1.1733829018513646,
          2.481087579855182,
          0.7055191896422903,
          -1.0860434878294678,
          1.5917538490464633,
          0.257385934981979,
          -1.9815757748839793,
          -0.2840951440640914,
          -1.295585170698604,
          -0.3272390968001948,
          -0.7705741622343572,
          -0.12028512029356135
         ]
        },
        {
         "histfunc": "count",
         "histnorm": "",
         "marker": {
          "color": "rgba(50, 171, 96, 1.0)",
          "line": {
           "color": "#4D5663",
           "width": 1.3
          }
         },
         "name": "C",
         "opacity": 0.8,
         "orientation": "v",
         "type": "histogram",
         "x": [
          -0.8936446390927574,
          -0.7946997115803555,
          -0.6641970253019951,
          0.10854762736244102,
          -0.5419366081440622,
          0.7347620301138176,
          1.211577767882975,
          -0.0073492529509151736,
          -0.8905222782055254,
          -0.20895947355587638,
          0.7216072090728042,
          0.7471611657676913,
          -1.857883654159354,
          1.5399644795570173,
          -2.1114706039932893,
          -0.27869828127472385,
          0.4108123490013363,
          0.6287474350771571,
          -0.045922216805762375,
          0.08305344366670474,
          -0.6327668276271052,
          2.104370421985547,
          0.8505626985666442,
          1.1368432936763215,
          0.046150979735368726,
          1.4399395142187927,
          -0.2191327979192292,
          -1.6245975976546034,
          1.2380609013958852,
          1.2869929141055805,
          0.2112601112189276,
          0.03577833563509893,
          0.04228057754471103,
          -0.18367568953869837,
          -0.058366605746244,
          1.2802015661999784,
          -0.34082159165414005,
          1.7581433100657584,
          0.9283819196486757,
          1.1695835151776708,
          0.0881061999660237,
          -0.046070216802679864,
          0.21954034544068105,
          1.6054149958236246,
          0.566294282764027,
          -0.4700588447800426,
          -0.8032406492975612,
          1.1257873036720174,
          -0.6327776781173501,
          -0.7196055061238562,
          2.2772966607591485,
          -1.7662618133492722,
          -0.8105273121331076,
          1.0414951531322088,
          -1.182415864274357,
          0.2778891944531858,
          0.6477779565295866,
          -1.2850822380960962,
          0.6078843560895357,
          -0.7893747586776593,
          -1.3810269824977204,
          0.0839802250563766,
          -0.1925459641559751,
          1.0448610760472854,
          -0.100612097321845,
          -0.6921324852841738,
          0.12474494450596404,
          -2.083715006962687,
          -0.04274220643320186,
          -1.5380138820173286,
          -0.06824507522006448,
          -0.7700581617758347,
          1.9614759743524235,
          0.236116634753566,
          -1.016540617631119,
          -2.1998884013802456,
          -0.6806725937182262,
          0.2202056281997777,
          0.26057422894712556,
          0.5591908240266653,
          0.20635827973177412,
          0.6269451963000509,
          0.36804646571791055,
          0.8484665156988875,
          -0.032805402678268286,
          0.3153792895292077,
          2.376969391867502,
          0.26044305501817483,
          1.3433999859819574,
          -1.1156861979306572,
          -0.4696670754262642,
          0.5844025105384789,
          -1.7364989229986567,
          -0.34542889234682367,
          1.2216811974503263,
          0.0601899165023874,
          -0.551271019517415,
          1.9075683564065347,
          0.7417191012240812,
          0.6810854840489595
         ]
        },
        {
         "histfunc": "count",
         "histnorm": "",
         "marker": {
          "color": "rgba(128, 0, 128, 1.0)",
          "line": {
           "color": "#4D5663",
           "width": 1.3
          }
         },
         "name": "D",
         "opacity": 0.8,
         "orientation": "v",
         "type": "histogram",
         "x": [
          -0.2547583637030008,
          1.7153923145195713,
          -0.44925958380724423,
          0.3817122619289423,
          -0.9539184920139783,
          -0.5414724044802119,
          1.2886121853667651,
          0.4591371751815021,
          -0.8318466038311664,
          1.0559393125239018,
          -0.1211206779234331,
          -1.1264576740561543,
          -0.3490659386328372,
          1.5444800534649525,
          -0.9336657022168428,
          0.6184359745075972,
          0.454996050826126,
          -0.7926439856701983,
          -0.027341710630058188,
          0.46509407069501435,
          -0.12887852253916282,
          2.1770655884297736,
          1.0938041405441596,
          -0.3601929576483487,
          -1.5414169093827494,
          0.8588967455730289,
          -0.5595059459239674,
          0.39544057681840994,
          -0.5962805112692506,
          -0.09571817523462174,
          -1.760239437549029,
          -1.4282787997647104,
          1.0538189853494435,
          -1.1687967544211606,
          -1.0006899546625991,
          0.04007335183795498,
          -1.1306715264567835,
          0.7475261776718441,
          -0.44394833467424294,
          0.7060898668122305,
          0.27796354073246593,
          -0.7703457543729,
          0.8374644539808129,
          -1.3578814655629283,
          -1.9161877184637712,
          2.2245598157361663,
          0.8756510122696048,
          0.8185887351370049,
          0.8358635833428306,
          -0.7695508524195369,
          0.6676990328557973,
          1.2372978729226272,
          1.5157199194696185,
          -2.5401592383765985,
          2.688733856978057,
          -0.976225831781194,
          -0.17279282553758024,
          -2.2312411366371485,
          0.12104567018784905,
          0.8432613277615293,
          -1.3453703345388546,
          -0.7110083620041104,
          0.427802628801016,
          -0.828146143346612,
          -1.5251192269228544,
          0.34323461095761176,
          0.5874819483519925,
          0.06983636993549536,
          0.3139424566832101,
          -1.492755788001548,
          0.2603956017095522,
          0.7527731423923882,
          0.586476949046145,
          0.880429765315423,
          0.3666172118032136,
          1.006818999622996,
          0.4985990209983369,
          -1.2825106625556784,
          -2.249249371514007,
          -0.6152213554185121,
          -0.7380733493183868,
          -0.36522290632922705,
          0.1447213079834652,
          -0.9688082494329535,
          0.8637691020173891,
          1.2368450748511657,
          0.9289868927448707,
          -0.0037208588766144894,
          1.417465898869651,
          0.4691241844829205,
          -0.6732817808990572,
          1.2232277397651579,
          -1.0045760547542537,
          -0.22633756579704814,
          1.8947219421162727,
          -1.1503550790379204,
          0.6768960513088612,
          1.0679901667852234,
          0.550269322408129,
          -0.3390521921074524
         ]
        }
       ],
       "layout": {
        "barmode": "overlay",
        "legend": {
         "bgcolor": "#F5F6F9",
         "font": {
          "color": "#4D5663"
         }
        },
        "paper_bgcolor": "#F5F6F9",
        "plot_bgcolor": "#F5F6F9",
        "template": {
         "data": {
          "bar": [
           {
            "error_x": {
             "color": "#2a3f5f"
            },
            "error_y": {
             "color": "#2a3f5f"
            },
            "marker": {
             "line": {
              "color": "#E5ECF6",
              "width": 0.5
             },
             "pattern": {
              "fillmode": "overlay",
              "size": 10,
              "solidity": 0.2
             }
            },
            "type": "bar"
           }
          ],
          "barpolar": [
           {
            "marker": {
             "line": {
              "color": "#E5ECF6",
              "width": 0.5
             },
             "pattern": {
              "fillmode": "overlay",
              "size": 10,
              "solidity": 0.2
             }
            },
            "type": "barpolar"
           }
          ],
          "carpet": [
           {
            "aaxis": {
             "endlinecolor": "#2a3f5f",
             "gridcolor": "white",
             "linecolor": "white",
             "minorgridcolor": "white",
             "startlinecolor": "#2a3f5f"
            },
            "baxis": {
             "endlinecolor": "#2a3f5f",
             "gridcolor": "white",
             "linecolor": "white",
             "minorgridcolor": "white",
             "startlinecolor": "#2a3f5f"
            },
            "type": "carpet"
           }
          ],
          "choropleth": [
           {
            "colorbar": {
             "outlinewidth": 0,
             "ticks": ""
            },
            "type": "choropleth"
           }
          ],
          "contour": [
           {
            "colorbar": {
             "outlinewidth": 0,
             "ticks": ""
            },
            "colorscale": [
             [
              0,
              "#0d0887"
             ],
             [
              0.1111111111111111,
              "#46039f"
             ],
             [
              0.2222222222222222,
              "#7201a8"
             ],
             [
              0.3333333333333333,
              "#9c179e"
             ],
             [
              0.4444444444444444,
              "#bd3786"
             ],
             [
              0.5555555555555556,
              "#d8576b"
             ],
             [
              0.6666666666666666,
              "#ed7953"
             ],
             [
              0.7777777777777778,
              "#fb9f3a"
             ],
             [
              0.8888888888888888,
              "#fdca26"
             ],
             [
              1,
              "#f0f921"
             ]
            ],
            "type": "contour"
           }
          ],
          "contourcarpet": [
           {
            "colorbar": {
             "outlinewidth": 0,
             "ticks": ""
            },
            "type": "contourcarpet"
           }
          ],
          "heatmap": [
           {
            "colorbar": {
             "outlinewidth": 0,
             "ticks": ""
            },
            "colorscale": [
             [
              0,
              "#0d0887"
             ],
             [
              0.1111111111111111,
              "#46039f"
             ],
             [
              0.2222222222222222,
              "#7201a8"
             ],
             [
              0.3333333333333333,
              "#9c179e"
             ],
             [
              0.4444444444444444,
              "#bd3786"
             ],
             [
              0.5555555555555556,
              "#d8576b"
             ],
             [
              0.6666666666666666,
              "#ed7953"
             ],
             [
              0.7777777777777778,
              "#fb9f3a"
             ],
             [
              0.8888888888888888,
              "#fdca26"
             ],
             [
              1,
              "#f0f921"
             ]
            ],
            "type": "heatmap"
           }
          ],
          "heatmapgl": [
           {
            "colorbar": {
             "outlinewidth": 0,
             "ticks": ""
            },
            "colorscale": [
             [
              0,
              "#0d0887"
             ],
             [
              0.1111111111111111,
              "#46039f"
             ],
             [
              0.2222222222222222,
              "#7201a8"
             ],
             [
              0.3333333333333333,
              "#9c179e"
             ],
             [
              0.4444444444444444,
              "#bd3786"
             ],
             [
              0.5555555555555556,
              "#d8576b"
             ],
             [
              0.6666666666666666,
              "#ed7953"
             ],
             [
              0.7777777777777778,
              "#fb9f3a"
             ],
             [
              0.8888888888888888,
              "#fdca26"
             ],
             [
              1,
              "#f0f921"
             ]
            ],
            "type": "heatmapgl"
           }
          ],
          "histogram": [
           {
            "marker": {
             "pattern": {
              "fillmode": "overlay",
              "size": 10,
              "solidity": 0.2
             }
            },
            "type": "histogram"
           }
          ],
          "histogram2d": [
           {
            "colorbar": {
             "outlinewidth": 0,
             "ticks": ""
            },
            "colorscale": [
             [
              0,
              "#0d0887"
             ],
             [
              0.1111111111111111,
              "#46039f"
             ],
             [
              0.2222222222222222,
              "#7201a8"
             ],
             [
              0.3333333333333333,
              "#9c179e"
             ],
             [
              0.4444444444444444,
              "#bd3786"
             ],
             [
              0.5555555555555556,
              "#d8576b"
             ],
             [
              0.6666666666666666,
              "#ed7953"
             ],
             [
              0.7777777777777778,
              "#fb9f3a"
             ],
             [
              0.8888888888888888,
              "#fdca26"
             ],
             [
              1,
              "#f0f921"
             ]
            ],
            "type": "histogram2d"
           }
          ],
          "histogram2dcontour": [
           {
            "colorbar": {
             "outlinewidth": 0,
             "ticks": ""
            },
            "colorscale": [
             [
              0,
              "#0d0887"
             ],
             [
              0.1111111111111111,
              "#46039f"
             ],
             [
              0.2222222222222222,
              "#7201a8"
             ],
             [
              0.3333333333333333,
              "#9c179e"
             ],
             [
              0.4444444444444444,
              "#bd3786"
             ],
             [
              0.5555555555555556,
              "#d8576b"
             ],
             [
              0.6666666666666666,
              "#ed7953"
             ],
             [
              0.7777777777777778,
              "#fb9f3a"
             ],
             [
              0.8888888888888888,
              "#fdca26"
             ],
             [
              1,
              "#f0f921"
             ]
            ],
            "type": "histogram2dcontour"
           }
          ],
          "mesh3d": [
           {
            "colorbar": {
             "outlinewidth": 0,
             "ticks": ""
            },
            "type": "mesh3d"
           }
          ],
          "parcoords": [
           {
            "line": {
             "colorbar": {
              "outlinewidth": 0,
              "ticks": ""
             }
            },
            "type": "parcoords"
           }
          ],
          "pie": [
           {
            "automargin": true,
            "type": "pie"
           }
          ],
          "scatter": [
           {
            "marker": {
             "colorbar": {
              "outlinewidth": 0,
              "ticks": ""
             }
            },
            "type": "scatter"
           }
          ],
          "scatter3d": [
           {
            "line": {
             "colorbar": {
              "outlinewidth": 0,
              "ticks": ""
             }
            },
            "marker": {
             "colorbar": {
              "outlinewidth": 0,
              "ticks": ""
             }
            },
            "type": "scatter3d"
           }
          ],
          "scattercarpet": [
           {
            "marker": {
             "colorbar": {
              "outlinewidth": 0,
              "ticks": ""
             }
            },
            "type": "scattercarpet"
           }
          ],
          "scattergeo": [
           {
            "marker": {
             "colorbar": {
              "outlinewidth": 0,
              "ticks": ""
             }
            },
            "type": "scattergeo"
           }
          ],
          "scattergl": [
           {
            "marker": {
             "colorbar": {
              "outlinewidth": 0,
              "ticks": ""
             }
            },
            "type": "scattergl"
           }
          ],
          "scattermapbox": [
           {
            "marker": {
             "colorbar": {
              "outlinewidth": 0,
              "ticks": ""
             }
            },
            "type": "scattermapbox"
           }
          ],
          "scatterpolar": [
           {
            "marker": {
             "colorbar": {
              "outlinewidth": 0,
              "ticks": ""
             }
            },
            "type": "scatterpolar"
           }
          ],
          "scatterpolargl": [
           {
            "marker": {
             "colorbar": {
              "outlinewidth": 0,
              "ticks": ""
             }
            },
            "type": "scatterpolargl"
           }
          ],
          "scatterternary": [
           {
            "marker": {
             "colorbar": {
              "outlinewidth": 0,
              "ticks": ""
             }
            },
            "type": "scatterternary"
           }
          ],
          "surface": [
           {
            "colorbar": {
             "outlinewidth": 0,
             "ticks": ""
            },
            "colorscale": [
             [
              0,
              "#0d0887"
             ],
             [
              0.1111111111111111,
              "#46039f"
             ],
             [
              0.2222222222222222,
              "#7201a8"
             ],
             [
              0.3333333333333333,
              "#9c179e"
             ],
             [
              0.4444444444444444,
              "#bd3786"
             ],
             [
              0.5555555555555556,
              "#d8576b"
             ],
             [
              0.6666666666666666,
              "#ed7953"
             ],
             [
              0.7777777777777778,
              "#fb9f3a"
             ],
             [
              0.8888888888888888,
              "#fdca26"
             ],
             [
              1,
              "#f0f921"
             ]
            ],
            "type": "surface"
           }
          ],
          "table": [
           {
            "cells": {
             "fill": {
              "color": "#EBF0F8"
             },
             "line": {
              "color": "white"
             }
            },
            "header": {
             "fill": {
              "color": "#C8D4E3"
             },
             "line": {
              "color": "white"
             }
            },
            "type": "table"
           }
          ]
         },
         "layout": {
          "annotationdefaults": {
           "arrowcolor": "#2a3f5f",
           "arrowhead": 0,
           "arrowwidth": 1
          },
          "autotypenumbers": "strict",
          "coloraxis": {
           "colorbar": {
            "outlinewidth": 0,
            "ticks": ""
           }
          },
          "colorscale": {
           "diverging": [
            [
             0,
             "#8e0152"
            ],
            [
             0.1,
             "#c51b7d"
            ],
            [
             0.2,
             "#de77ae"
            ],
            [
             0.3,
             "#f1b6da"
            ],
            [
             0.4,
             "#fde0ef"
            ],
            [
             0.5,
             "#f7f7f7"
            ],
            [
             0.6,
             "#e6f5d0"
            ],
            [
             0.7,
             "#b8e186"
            ],
            [
             0.8,
             "#7fbc41"
            ],
            [
             0.9,
             "#4d9221"
            ],
            [
             1,
             "#276419"
            ]
           ],
           "sequential": [
            [
             0,
             "#0d0887"
            ],
            [
             0.1111111111111111,
             "#46039f"
            ],
            [
             0.2222222222222222,
             "#7201a8"
            ],
            [
             0.3333333333333333,
             "#9c179e"
            ],
            [
             0.4444444444444444,
             "#bd3786"
            ],
            [
             0.5555555555555556,
             "#d8576b"
            ],
            [
             0.6666666666666666,
             "#ed7953"
            ],
            [
             0.7777777777777778,
             "#fb9f3a"
            ],
            [
             0.8888888888888888,
             "#fdca26"
            ],
            [
             1,
             "#f0f921"
            ]
           ],
           "sequentialminus": [
            [
             0,
             "#0d0887"
            ],
            [
             0.1111111111111111,
             "#46039f"
            ],
            [
             0.2222222222222222,
             "#7201a8"
            ],
            [
             0.3333333333333333,
             "#9c179e"
            ],
            [
             0.4444444444444444,
             "#bd3786"
            ],
            [
             0.5555555555555556,
             "#d8576b"
            ],
            [
             0.6666666666666666,
             "#ed7953"
            ],
            [
             0.7777777777777778,
             "#fb9f3a"
            ],
            [
             0.8888888888888888,
             "#fdca26"
            ],
            [
             1,
             "#f0f921"
            ]
           ]
          },
          "colorway": [
           "#636efa",
           "#EF553B",
           "#00cc96",
           "#ab63fa",
           "#FFA15A",
           "#19d3f3",
           "#FF6692",
           "#B6E880",
           "#FF97FF",
           "#FECB52"
          ],
          "font": {
           "color": "#2a3f5f"
          },
          "geo": {
           "bgcolor": "white",
           "lakecolor": "white",
           "landcolor": "#E5ECF6",
           "showlakes": true,
           "showland": true,
           "subunitcolor": "white"
          },
          "hoverlabel": {
           "align": "left"
          },
          "hovermode": "closest",
          "mapbox": {
           "style": "light"
          },
          "paper_bgcolor": "white",
          "plot_bgcolor": "#E5ECF6",
          "polar": {
           "angularaxis": {
            "gridcolor": "white",
            "linecolor": "white",
            "ticks": ""
           },
           "bgcolor": "#E5ECF6",
           "radialaxis": {
            "gridcolor": "white",
            "linecolor": "white",
            "ticks": ""
           }
          },
          "scene": {
           "xaxis": {
            "backgroundcolor": "#E5ECF6",
            "gridcolor": "white",
            "gridwidth": 2,
            "linecolor": "white",
            "showbackground": true,
            "ticks": "",
            "zerolinecolor": "white"
           },
           "yaxis": {
            "backgroundcolor": "#E5ECF6",
            "gridcolor": "white",
            "gridwidth": 2,
            "linecolor": "white",
            "showbackground": true,
            "ticks": "",
            "zerolinecolor": "white"
           },
           "zaxis": {
            "backgroundcolor": "#E5ECF6",
            "gridcolor": "white",
            "gridwidth": 2,
            "linecolor": "white",
            "showbackground": true,
            "ticks": "",
            "zerolinecolor": "white"
           }
          },
          "shapedefaults": {
           "line": {
            "color": "#2a3f5f"
           }
          },
          "ternary": {
           "aaxis": {
            "gridcolor": "white",
            "linecolor": "white",
            "ticks": ""
           },
           "baxis": {
            "gridcolor": "white",
            "linecolor": "white",
            "ticks": ""
           },
           "bgcolor": "#E5ECF6",
           "caxis": {
            "gridcolor": "white",
            "linecolor": "white",
            "ticks": ""
           }
          },
          "title": {
           "x": 0.05
          },
          "xaxis": {
           "automargin": true,
           "gridcolor": "white",
           "linecolor": "white",
           "ticks": "",
           "title": {
            "standoff": 15
           },
           "zerolinecolor": "white",
           "zerolinewidth": 2
          },
          "yaxis": {
           "automargin": true,
           "gridcolor": "white",
           "linecolor": "white",
           "ticks": "",
           "title": {
            "standoff": 15
           },
           "zerolinecolor": "white",
           "zerolinewidth": 2
          }
         }
        },
        "title": {
         "font": {
          "color": "#4D5663"
         }
        },
        "xaxis": {
         "gridcolor": "#E1E5ED",
         "showgrid": true,
         "tickfont": {
          "color": "#4D5663"
         },
         "title": {
          "font": {
           "color": "#4D5663"
          },
          "text": ""
         },
         "zerolinecolor": "#E1E5ED"
        },
        "yaxis": {
         "gridcolor": "#E1E5ED",
         "showgrid": true,
         "tickfont": {
          "color": "#4D5663"
         },
         "title": {
          "font": {
           "color": "#4D5663"
          },
          "text": ""
         },
         "zerolinecolor": "#E1E5ED"
        }
       }
      },
      "text/html": [
       "<div>                            <div id=\"d5489286-be2a-4442-8f21-08feac6571ed\" class=\"plotly-graph-div\" style=\"height:525px; width:100%;\"></div>            <script type=\"text/javascript\">                require([\"plotly\"], function(Plotly) {                    window.PLOTLYENV=window.PLOTLYENV || {};\n",
       "                    window.PLOTLYENV.BASE_URL='https://plot.ly';                                    if (document.getElementById(\"d5489286-be2a-4442-8f21-08feac6571ed\")) {                    Plotly.newPlot(                        \"d5489286-be2a-4442-8f21-08feac6571ed\",                        [{\"histfunc\":\"count\",\"histnorm\":\"\",\"marker\":{\"color\":\"rgba(255, 153, 51, 1.0)\",\"line\":{\"color\":\"#4D5663\",\"width\":1.3}},\"name\":\"A\",\"opacity\":0.8,\"orientation\":\"v\",\"type\":\"histogram\",\"x\":[-1.0256496621618938,-0.287105672454455,-0.6126639634228842,-1.8597037893552084,-0.9566427708642816,-0.22859819369550846,-0.4793812465302499,-2.4903951825038813,0.6035392131290644,2.677096068539839,0.5624731248787744,0.6222528642358222,-0.8490252514473418,-0.548810215060859,-0.5441384236153484,-2.5149406977090956,-0.3333675628721594,-1.245999584290874,-0.7903534761881433,1.5942982357052238,-1.5430176620588751,-0.13089543216082566,0.6700435896476531,-0.6069714026860633,1.2123405058155519,0.3749006858232452,-0.009946020164863893,1.5073145491676003,0.5699235250463723,0.7398952783904557,-1.1036200331677495,-0.29057344258650386,-1.7712973637365244,-0.389337166193235,0.3602812720007109,1.2395176372632817,-0.15738519218783073,-0.5722716346763621,0.07426592847210023,0.5334310013393081,1.006867506307998,-0.7966987716444317,-0.6176020520570332,-0.13744267022751766,0.7863067739194248,-1.194862481983797,-0.769640861846518,-2.122468731579507,-0.7632481255170883,-1.1025826503717449,-1.4045051468002292,0.8961136540172652,-1.0710974125608013,0.15498772074028588,1.4859884020677092,-0.577619136840705,1.0070183885795967,0.5852939462271314,0.8324944714535736,-0.5978250831419247,-1.178038718496559,3.5635564719893926,0.2949200815314698,-0.4067784379393906,1.787379881681812,-0.6804979122610798,1.0624202313096711,0.30189649555208004,-1.3803836409834225,1.8851095843009085,-0.25984318725201777,2.5727962929003705,-1.0745228643283593,0.24764449226937535,0.6818166884272487,-0.02858693606250979,0.38039070767124006,-0.4321678825504317,-1.3169608985732824,1.0446582585781277,1.8480262263356928,-0.4532527549832854,0.2706580650625444,-0.22665173044390874,0.05181115815723766,-0.5417283794399212,1.1166506320083285,-0.14254506526142394,0.8459633017895346,-2.5397751668382043,-0.5552784592316042,-0.4822945755268403,0.12701578635685654,0.7148797761841683,-2.038555956140452,-1.994346917296289,2.630091203316942,-1.303775711537322,-1.1227860545476014,0.6671696461846212]},{\"histfunc\":\"count\",\"histnorm\":\"\",\"marker\":{\"color\":\"rgba(55, 128, 191, 1.0)\",\"line\":{\"color\":\"#4D5663\",\"width\":1.3}},\"name\":\"B\",\"opacity\":0.8,\"orientation\":\"v\",\"type\":\"histogram\",\"x\":[-0.08520702370665945,-0.5428353896137872,-0.9229682894210636,-1.1373838493074757,-0.59974338941446,-0.6226775282171854,-0.6909488674104681,-0.6429884712883694,-0.763829818415618,1.9126612513514099,0.5051946942444656,1.1534796814020114,-1.4973541967185586,-1.1603641595539111,1.2089092230741885,-1.2866488766091513,0.6253039088147416,0.09943432806814738,-1.81878967090492,0.45454932869301284,-1.0661959002998078,-0.45226231295844893,0.502073890766179,1.360000850818429,1.576199232879038,-0.991354458568695,-0.41864922052129755,-0.27693294224574005,-1.4369765922877695,-0.4564622304795268,-0.543033343656325,-0.796411024933017,-0.6674501440461106,-0.4083371687249216,-0.9477198563372072,0.17176129717986716,0.4348243846709589,0.29771223214238673,0.26427765803321684,-0.8363995101281714,0.8823759134303497,0.905607194137671,-0.5565870945944663,-0.41972347347737227,-1.9249329386407084,0.6295212818429051,0.8028696678842703,-0.9588753331328411,-2.0406461185745655,0.5798060382596439,-0.7415515925609483,-0.25876903380250166,2.182261418702065,1.0229115282733865,1.294722395518006,0.3884114484562883,-2.2263153739917003,-0.6268318814354596,-1.6025381888476122,-1.0045768452368167,-1.157463102824297,-0.5838177334890376,0.32452522809203876,-0.7419037873420108,0.8579172439573104,-1.5878134298301179,-0.21031196661969556,0.5675315039804291,-0.3621359496459766,0.32448366104306103,0.19420872288635715,-2.597531208936153,0.04676148891109547,-0.17483040082085477,-0.2621860092876313,-1.045483666627226,0.050234493136657045,-0.05791781576786074,0.513050713788694,-1.6255212702788666,-1.5156077636707201,-1.9785169493256909,-1.9490945331143803,-1.0806817557769284,1.6839128089017628,0.6076703250867478,-0.9721863273679423,0.6347401000811329,1.1733829018513646,2.481087579855182,0.7055191896422903,-1.0860434878294678,1.5917538490464633,0.257385934981979,-1.9815757748839793,-0.2840951440640914,-1.295585170698604,-0.3272390968001948,-0.7705741622343572,-0.12028512029356135]},{\"histfunc\":\"count\",\"histnorm\":\"\",\"marker\":{\"color\":\"rgba(50, 171, 96, 1.0)\",\"line\":{\"color\":\"#4D5663\",\"width\":1.3}},\"name\":\"C\",\"opacity\":0.8,\"orientation\":\"v\",\"type\":\"histogram\",\"x\":[-0.8936446390927574,-0.7946997115803555,-0.6641970253019951,0.10854762736244102,-0.5419366081440622,0.7347620301138176,1.211577767882975,-0.0073492529509151736,-0.8905222782055254,-0.20895947355587638,0.7216072090728042,0.7471611657676913,-1.857883654159354,1.5399644795570173,-2.1114706039932893,-0.27869828127472385,0.4108123490013363,0.6287474350771571,-0.045922216805762375,0.08305344366670474,-0.6327668276271052,2.104370421985547,0.8505626985666442,1.1368432936763215,0.046150979735368726,1.4399395142187927,-0.2191327979192292,-1.6245975976546034,1.2380609013958852,1.2869929141055805,0.2112601112189276,0.03577833563509893,0.04228057754471103,-0.18367568953869837,-0.058366605746244,1.2802015661999784,-0.34082159165414005,1.7581433100657584,0.9283819196486757,1.1695835151776708,0.0881061999660237,-0.046070216802679864,0.21954034544068105,1.6054149958236246,0.566294282764027,-0.4700588447800426,-0.8032406492975612,1.1257873036720174,-0.6327776781173501,-0.7196055061238562,2.2772966607591485,-1.7662618133492722,-0.8105273121331076,1.0414951531322088,-1.182415864274357,0.2778891944531858,0.6477779565295866,-1.2850822380960962,0.6078843560895357,-0.7893747586776593,-1.3810269824977204,0.0839802250563766,-0.1925459641559751,1.0448610760472854,-0.100612097321845,-0.6921324852841738,0.12474494450596404,-2.083715006962687,-0.04274220643320186,-1.5380138820173286,-0.06824507522006448,-0.7700581617758347,1.9614759743524235,0.236116634753566,-1.016540617631119,-2.1998884013802456,-0.6806725937182262,0.2202056281997777,0.26057422894712556,0.5591908240266653,0.20635827973177412,0.6269451963000509,0.36804646571791055,0.8484665156988875,-0.032805402678268286,0.3153792895292077,2.376969391867502,0.26044305501817483,1.3433999859819574,-1.1156861979306572,-0.4696670754262642,0.5844025105384789,-1.7364989229986567,-0.34542889234682367,1.2216811974503263,0.0601899165023874,-0.551271019517415,1.9075683564065347,0.7417191012240812,0.6810854840489595]},{\"histfunc\":\"count\",\"histnorm\":\"\",\"marker\":{\"color\":\"rgba(128, 0, 128, 1.0)\",\"line\":{\"color\":\"#4D5663\",\"width\":1.3}},\"name\":\"D\",\"opacity\":0.8,\"orientation\":\"v\",\"type\":\"histogram\",\"x\":[-0.2547583637030008,1.7153923145195713,-0.44925958380724423,0.3817122619289423,-0.9539184920139783,-0.5414724044802119,1.2886121853667651,0.4591371751815021,-0.8318466038311664,1.0559393125239018,-0.1211206779234331,-1.1264576740561543,-0.3490659386328372,1.5444800534649525,-0.9336657022168428,0.6184359745075972,0.454996050826126,-0.7926439856701983,-0.027341710630058188,0.46509407069501435,-0.12887852253916282,2.1770655884297736,1.0938041405441596,-0.3601929576483487,-1.5414169093827494,0.8588967455730289,-0.5595059459239674,0.39544057681840994,-0.5962805112692506,-0.09571817523462174,-1.760239437549029,-1.4282787997647104,1.0538189853494435,-1.1687967544211606,-1.0006899546625991,0.04007335183795498,-1.1306715264567835,0.7475261776718441,-0.44394833467424294,0.7060898668122305,0.27796354073246593,-0.7703457543729,0.8374644539808129,-1.3578814655629283,-1.9161877184637712,2.2245598157361663,0.8756510122696048,0.8185887351370049,0.8358635833428306,-0.7695508524195369,0.6676990328557973,1.2372978729226272,1.5157199194696185,-2.5401592383765985,2.688733856978057,-0.976225831781194,-0.17279282553758024,-2.2312411366371485,0.12104567018784905,0.8432613277615293,-1.3453703345388546,-0.7110083620041104,0.427802628801016,-0.828146143346612,-1.5251192269228544,0.34323461095761176,0.5874819483519925,0.06983636993549536,0.3139424566832101,-1.492755788001548,0.2603956017095522,0.7527731423923882,0.586476949046145,0.880429765315423,0.3666172118032136,1.006818999622996,0.4985990209983369,-1.2825106625556784,-2.249249371514007,-0.6152213554185121,-0.7380733493183868,-0.36522290632922705,0.1447213079834652,-0.9688082494329535,0.8637691020173891,1.2368450748511657,0.9289868927448707,-0.0037208588766144894,1.417465898869651,0.4691241844829205,-0.6732817808990572,1.2232277397651579,-1.0045760547542537,-0.22633756579704814,1.8947219421162727,-1.1503550790379204,0.6768960513088612,1.0679901667852234,0.550269322408129,-0.3390521921074524]}],                        {\"barmode\":\"overlay\",\"legend\":{\"bgcolor\":\"#F5F6F9\",\"font\":{\"color\":\"#4D5663\"}},\"paper_bgcolor\":\"#F5F6F9\",\"plot_bgcolor\":\"#F5F6F9\",\"template\":{\"data\":{\"bar\":[{\"error_x\":{\"color\":\"#2a3f5f\"},\"error_y\":{\"color\":\"#2a3f5f\"},\"marker\":{\"line\":{\"color\":\"#E5ECF6\",\"width\":0.5},\"pattern\":{\"fillmode\":\"overlay\",\"size\":10,\"solidity\":0.2}},\"type\":\"bar\"}],\"barpolar\":[{\"marker\":{\"line\":{\"color\":\"#E5ECF6\",\"width\":0.5},\"pattern\":{\"fillmode\":\"overlay\",\"size\":10,\"solidity\":0.2}},\"type\":\"barpolar\"}],\"carpet\":[{\"aaxis\":{\"endlinecolor\":\"#2a3f5f\",\"gridcolor\":\"white\",\"linecolor\":\"white\",\"minorgridcolor\":\"white\",\"startlinecolor\":\"#2a3f5f\"},\"baxis\":{\"endlinecolor\":\"#2a3f5f\",\"gridcolor\":\"white\",\"linecolor\":\"white\",\"minorgridcolor\":\"white\",\"startlinecolor\":\"#2a3f5f\"},\"type\":\"carpet\"}],\"choropleth\":[{\"colorbar\":{\"outlinewidth\":0,\"ticks\":\"\"},\"type\":\"choropleth\"}],\"contour\":[{\"colorbar\":{\"outlinewidth\":0,\"ticks\":\"\"},\"colorscale\":[[0.0,\"#0d0887\"],[0.1111111111111111,\"#46039f\"],[0.2222222222222222,\"#7201a8\"],[0.3333333333333333,\"#9c179e\"],[0.4444444444444444,\"#bd3786\"],[0.5555555555555556,\"#d8576b\"],[0.6666666666666666,\"#ed7953\"],[0.7777777777777778,\"#fb9f3a\"],[0.8888888888888888,\"#fdca26\"],[1.0,\"#f0f921\"]],\"type\":\"contour\"}],\"contourcarpet\":[{\"colorbar\":{\"outlinewidth\":0,\"ticks\":\"\"},\"type\":\"contourcarpet\"}],\"heatmap\":[{\"colorbar\":{\"outlinewidth\":0,\"ticks\":\"\"},\"colorscale\":[[0.0,\"#0d0887\"],[0.1111111111111111,\"#46039f\"],[0.2222222222222222,\"#7201a8\"],[0.3333333333333333,\"#9c179e\"],[0.4444444444444444,\"#bd3786\"],[0.5555555555555556,\"#d8576b\"],[0.6666666666666666,\"#ed7953\"],[0.7777777777777778,\"#fb9f3a\"],[0.8888888888888888,\"#fdca26\"],[1.0,\"#f0f921\"]],\"type\":\"heatmap\"}],\"heatmapgl\":[{\"colorbar\":{\"outlinewidth\":0,\"ticks\":\"\"},\"colorscale\":[[0.0,\"#0d0887\"],[0.1111111111111111,\"#46039f\"],[0.2222222222222222,\"#7201a8\"],[0.3333333333333333,\"#9c179e\"],[0.4444444444444444,\"#bd3786\"],[0.5555555555555556,\"#d8576b\"],[0.6666666666666666,\"#ed7953\"],[0.7777777777777778,\"#fb9f3a\"],[0.8888888888888888,\"#fdca26\"],[1.0,\"#f0f921\"]],\"type\":\"heatmapgl\"}],\"histogram\":[{\"marker\":{\"pattern\":{\"fillmode\":\"overlay\",\"size\":10,\"solidity\":0.2}},\"type\":\"histogram\"}],\"histogram2d\":[{\"colorbar\":{\"outlinewidth\":0,\"ticks\":\"\"},\"colorscale\":[[0.0,\"#0d0887\"],[0.1111111111111111,\"#46039f\"],[0.2222222222222222,\"#7201a8\"],[0.3333333333333333,\"#9c179e\"],[0.4444444444444444,\"#bd3786\"],[0.5555555555555556,\"#d8576b\"],[0.6666666666666666,\"#ed7953\"],[0.7777777777777778,\"#fb9f3a\"],[0.8888888888888888,\"#fdca26\"],[1.0,\"#f0f921\"]],\"type\":\"histogram2d\"}],\"histogram2dcontour\":[{\"colorbar\":{\"outlinewidth\":0,\"ticks\":\"\"},\"colorscale\":[[0.0,\"#0d0887\"],[0.1111111111111111,\"#46039f\"],[0.2222222222222222,\"#7201a8\"],[0.3333333333333333,\"#9c179e\"],[0.4444444444444444,\"#bd3786\"],[0.5555555555555556,\"#d8576b\"],[0.6666666666666666,\"#ed7953\"],[0.7777777777777778,\"#fb9f3a\"],[0.8888888888888888,\"#fdca26\"],[1.0,\"#f0f921\"]],\"type\":\"histogram2dcontour\"}],\"mesh3d\":[{\"colorbar\":{\"outlinewidth\":0,\"ticks\":\"\"},\"type\":\"mesh3d\"}],\"parcoords\":[{\"line\":{\"colorbar\":{\"outlinewidth\":0,\"ticks\":\"\"}},\"type\":\"parcoords\"}],\"pie\":[{\"automargin\":true,\"type\":\"pie\"}],\"scatter\":[{\"marker\":{\"colorbar\":{\"outlinewidth\":0,\"ticks\":\"\"}},\"type\":\"scatter\"}],\"scatter3d\":[{\"line\":{\"colorbar\":{\"outlinewidth\":0,\"ticks\":\"\"}},\"marker\":{\"colorbar\":{\"outlinewidth\":0,\"ticks\":\"\"}},\"type\":\"scatter3d\"}],\"scattercarpet\":[{\"marker\":{\"colorbar\":{\"outlinewidth\":0,\"ticks\":\"\"}},\"type\":\"scattercarpet\"}],\"scattergeo\":[{\"marker\":{\"colorbar\":{\"outlinewidth\":0,\"ticks\":\"\"}},\"type\":\"scattergeo\"}],\"scattergl\":[{\"marker\":{\"colorbar\":{\"outlinewidth\":0,\"ticks\":\"\"}},\"type\":\"scattergl\"}],\"scattermapbox\":[{\"marker\":{\"colorbar\":{\"outlinewidth\":0,\"ticks\":\"\"}},\"type\":\"scattermapbox\"}],\"scatterpolar\":[{\"marker\":{\"colorbar\":{\"outlinewidth\":0,\"ticks\":\"\"}},\"type\":\"scatterpolar\"}],\"scatterpolargl\":[{\"marker\":{\"colorbar\":{\"outlinewidth\":0,\"ticks\":\"\"}},\"type\":\"scatterpolargl\"}],\"scatterternary\":[{\"marker\":{\"colorbar\":{\"outlinewidth\":0,\"ticks\":\"\"}},\"type\":\"scatterternary\"}],\"surface\":[{\"colorbar\":{\"outlinewidth\":0,\"ticks\":\"\"},\"colorscale\":[[0.0,\"#0d0887\"],[0.1111111111111111,\"#46039f\"],[0.2222222222222222,\"#7201a8\"],[0.3333333333333333,\"#9c179e\"],[0.4444444444444444,\"#bd3786\"],[0.5555555555555556,\"#d8576b\"],[0.6666666666666666,\"#ed7953\"],[0.7777777777777778,\"#fb9f3a\"],[0.8888888888888888,\"#fdca26\"],[1.0,\"#f0f921\"]],\"type\":\"surface\"}],\"table\":[{\"cells\":{\"fill\":{\"color\":\"#EBF0F8\"},\"line\":{\"color\":\"white\"}},\"header\":{\"fill\":{\"color\":\"#C8D4E3\"},\"line\":{\"color\":\"white\"}},\"type\":\"table\"}]},\"layout\":{\"annotationdefaults\":{\"arrowcolor\":\"#2a3f5f\",\"arrowhead\":0,\"arrowwidth\":1},\"autotypenumbers\":\"strict\",\"coloraxis\":{\"colorbar\":{\"outlinewidth\":0,\"ticks\":\"\"}},\"colorscale\":{\"diverging\":[[0,\"#8e0152\"],[0.1,\"#c51b7d\"],[0.2,\"#de77ae\"],[0.3,\"#f1b6da\"],[0.4,\"#fde0ef\"],[0.5,\"#f7f7f7\"],[0.6,\"#e6f5d0\"],[0.7,\"#b8e186\"],[0.8,\"#7fbc41\"],[0.9,\"#4d9221\"],[1,\"#276419\"]],\"sequential\":[[0.0,\"#0d0887\"],[0.1111111111111111,\"#46039f\"],[0.2222222222222222,\"#7201a8\"],[0.3333333333333333,\"#9c179e\"],[0.4444444444444444,\"#bd3786\"],[0.5555555555555556,\"#d8576b\"],[0.6666666666666666,\"#ed7953\"],[0.7777777777777778,\"#fb9f3a\"],[0.8888888888888888,\"#fdca26\"],[1.0,\"#f0f921\"]],\"sequentialminus\":[[0.0,\"#0d0887\"],[0.1111111111111111,\"#46039f\"],[0.2222222222222222,\"#7201a8\"],[0.3333333333333333,\"#9c179e\"],[0.4444444444444444,\"#bd3786\"],[0.5555555555555556,\"#d8576b\"],[0.6666666666666666,\"#ed7953\"],[0.7777777777777778,\"#fb9f3a\"],[0.8888888888888888,\"#fdca26\"],[1.0,\"#f0f921\"]]},\"colorway\":[\"#636efa\",\"#EF553B\",\"#00cc96\",\"#ab63fa\",\"#FFA15A\",\"#19d3f3\",\"#FF6692\",\"#B6E880\",\"#FF97FF\",\"#FECB52\"],\"font\":{\"color\":\"#2a3f5f\"},\"geo\":{\"bgcolor\":\"white\",\"lakecolor\":\"white\",\"landcolor\":\"#E5ECF6\",\"showlakes\":true,\"showland\":true,\"subunitcolor\":\"white\"},\"hoverlabel\":{\"align\":\"left\"},\"hovermode\":\"closest\",\"mapbox\":{\"style\":\"light\"},\"paper_bgcolor\":\"white\",\"plot_bgcolor\":\"#E5ECF6\",\"polar\":{\"angularaxis\":{\"gridcolor\":\"white\",\"linecolor\":\"white\",\"ticks\":\"\"},\"bgcolor\":\"#E5ECF6\",\"radialaxis\":{\"gridcolor\":\"white\",\"linecolor\":\"white\",\"ticks\":\"\"}},\"scene\":{\"xaxis\":{\"backgroundcolor\":\"#E5ECF6\",\"gridcolor\":\"white\",\"gridwidth\":2,\"linecolor\":\"white\",\"showbackground\":true,\"ticks\":\"\",\"zerolinecolor\":\"white\"},\"yaxis\":{\"backgroundcolor\":\"#E5ECF6\",\"gridcolor\":\"white\",\"gridwidth\":2,\"linecolor\":\"white\",\"showbackground\":true,\"ticks\":\"\",\"zerolinecolor\":\"white\"},\"zaxis\":{\"backgroundcolor\":\"#E5ECF6\",\"gridcolor\":\"white\",\"gridwidth\":2,\"linecolor\":\"white\",\"showbackground\":true,\"ticks\":\"\",\"zerolinecolor\":\"white\"}},\"shapedefaults\":{\"line\":{\"color\":\"#2a3f5f\"}},\"ternary\":{\"aaxis\":{\"gridcolor\":\"white\",\"linecolor\":\"white\",\"ticks\":\"\"},\"baxis\":{\"gridcolor\":\"white\",\"linecolor\":\"white\",\"ticks\":\"\"},\"bgcolor\":\"#E5ECF6\",\"caxis\":{\"gridcolor\":\"white\",\"linecolor\":\"white\",\"ticks\":\"\"}},\"title\":{\"x\":0.05},\"xaxis\":{\"automargin\":true,\"gridcolor\":\"white\",\"linecolor\":\"white\",\"ticks\":\"\",\"title\":{\"standoff\":15},\"zerolinecolor\":\"white\",\"zerolinewidth\":2},\"yaxis\":{\"automargin\":true,\"gridcolor\":\"white\",\"linecolor\":\"white\",\"ticks\":\"\",\"title\":{\"standoff\":15},\"zerolinecolor\":\"white\",\"zerolinewidth\":2}}},\"title\":{\"font\":{\"color\":\"#4D5663\"}},\"xaxis\":{\"gridcolor\":\"#E1E5ED\",\"showgrid\":true,\"tickfont\":{\"color\":\"#4D5663\"},\"title\":{\"font\":{\"color\":\"#4D5663\"},\"text\":\"\"},\"zerolinecolor\":\"#E1E5ED\"},\"yaxis\":{\"gridcolor\":\"#E1E5ED\",\"showgrid\":true,\"tickfont\":{\"color\":\"#4D5663\"},\"title\":{\"font\":{\"color\":\"#4D5663\"},\"text\":\"\"},\"zerolinecolor\":\"#E1E5ED\"}},                        {\"showLink\": true, \"linkText\": \"Export to plot.ly\", \"plotlyServerURL\": \"https://plot.ly\", \"responsive\": true}                    ).then(function(){\n",
       "                            \n",
       "var gd = document.getElementById('d5489286-be2a-4442-8f21-08feac6571ed');\n",
       "var x = new MutationObserver(function (mutations, observer) {{\n",
       "        var display = window.getComputedStyle(gd).display;\n",
       "        if (!display || display === 'none') {{\n",
       "            console.log([gd, 'removed!']);\n",
       "            Plotly.purge(gd);\n",
       "            observer.disconnect();\n",
       "        }}\n",
       "}});\n",
       "\n",
       "// Listen for the removal of the full notebook cells\n",
       "var notebookContainer = gd.closest('#notebook-container');\n",
       "if (notebookContainer) {{\n",
       "    x.observe(notebookContainer, {childList: true});\n",
       "}}\n",
       "\n",
       "// Listen for the clearing of the current output cell\n",
       "var outputEl = gd.closest('.output');\n",
       "if (outputEl) {{\n",
       "    x.observe(outputEl, {childList: true});\n",
       "}}\n",
       "\n",
       "                        })                };                });            </script>        </div>"
      ]
     },
     "metadata": {},
     "output_type": "display_data"
    }
   ],
   "source": [
    "df1.iplot(kind='hist')"
   ]
  },
  {
   "cell_type": "code",
   "execution_count": 24,
   "id": "d170d79c",
   "metadata": {
    "scrolled": true
   },
   "outputs": [
    {
     "name": "stderr",
     "output_type": "stream",
     "text": [
      "C:\\Users\\djpra\\Documents\\DS\\anaconda\\lib\\site-packages\\cufflinks\\plotlytools.py:849: FutureWarning:\n",
      "\n",
      "The pandas.np module is deprecated and will be removed from pandas in a future version. Import numpy directly instead\n",
      "\n",
      "C:\\Users\\djpra\\Documents\\DS\\anaconda\\lib\\site-packages\\cufflinks\\plotlytools.py:850: FutureWarning:\n",
      "\n",
      "The pandas.np module is deprecated and will be removed from pandas in a future version. Import numpy directly instead\n",
      "\n"
     ]
    },
    {
     "data": {
      "application/vnd.plotly.v1+json": {
       "config": {
        "linkText": "Export to plot.ly",
        "plotlyServerURL": "https://plot.ly",
        "showLink": true
       },
       "data": [
        {
         "line": {
          "color": "rgba(255, 153, 51, 1.0)",
          "dash": "solid",
          "shape": "linear",
          "width": 1.3
         },
         "mode": "lines",
         "name": "A",
         "text": "",
         "type": "scatter",
         "x": [
          0,
          1,
          2,
          3,
          4,
          5,
          6,
          7,
          8,
          9,
          10,
          11,
          12,
          13,
          14,
          15,
          16,
          17,
          18,
          19,
          20,
          21,
          22,
          23,
          24,
          25,
          26,
          27,
          28,
          29,
          30,
          31,
          32,
          33,
          34,
          35,
          36,
          37,
          38,
          39,
          40,
          41,
          42,
          43,
          44,
          45,
          46,
          47,
          48,
          49,
          50,
          51,
          52,
          53,
          54,
          55,
          56,
          57,
          58,
          59,
          60,
          61,
          62,
          63,
          64,
          65,
          66,
          67,
          68,
          69,
          70,
          71,
          72,
          73,
          74,
          75,
          76,
          77,
          78,
          79,
          80,
          81,
          82,
          83,
          84,
          85,
          86,
          87,
          88,
          89,
          90,
          91,
          92,
          93,
          94,
          95,
          96,
          97,
          98,
          99
         ],
         "y": [
          -1.0256496621618938,
          -0.287105672454455,
          -0.6126639634228842,
          -1.8597037893552084,
          -0.9566427708642816,
          -0.22859819369550846,
          -0.4793812465302499,
          -2.4903951825038813,
          0.6035392131290644,
          2.677096068539839,
          0.5624731248787744,
          0.6222528642358222,
          -0.8490252514473418,
          -0.548810215060859,
          -0.5441384236153484,
          -2.5149406977090956,
          -0.3333675628721594,
          -1.245999584290874,
          -0.7903534761881433,
          1.5942982357052238,
          -1.5430176620588751,
          -0.13089543216082566,
          0.6700435896476531,
          -0.6069714026860633,
          1.2123405058155519,
          0.3749006858232452,
          -0.009946020164863893,
          1.5073145491676003,
          0.5699235250463723,
          0.7398952783904557,
          -1.1036200331677495,
          -0.29057344258650386,
          -1.7712973637365244,
          -0.389337166193235,
          0.3602812720007109,
          1.2395176372632817,
          -0.15738519218783073,
          -0.5722716346763621,
          0.07426592847210023,
          0.5334310013393081,
          1.006867506307998,
          -0.7966987716444317,
          -0.6176020520570332,
          -0.13744267022751766,
          0.7863067739194248,
          -1.194862481983797,
          -0.769640861846518,
          -2.122468731579507,
          -0.7632481255170883,
          -1.1025826503717449,
          -1.4045051468002292,
          0.8961136540172652,
          -1.0710974125608013,
          0.15498772074028588,
          1.4859884020677092,
          -0.577619136840705,
          1.0070183885795967,
          0.5852939462271314,
          0.8324944714535736,
          -0.5978250831419247,
          -1.178038718496559,
          3.5635564719893926,
          0.2949200815314698,
          -0.4067784379393906,
          1.787379881681812,
          -0.6804979122610798,
          1.0624202313096711,
          0.30189649555208004,
          -1.3803836409834225,
          1.8851095843009085,
          -0.25984318725201777,
          2.5727962929003705,
          -1.0745228643283593,
          0.24764449226937535,
          0.6818166884272487,
          -0.02858693606250979,
          0.38039070767124006,
          -0.4321678825504317,
          -1.3169608985732824,
          1.0446582585781277,
          1.8480262263356928,
          -0.4532527549832854,
          0.2706580650625444,
          -0.22665173044390874,
          0.05181115815723766,
          -0.5417283794399212,
          1.1166506320083285,
          -0.14254506526142394,
          0.8459633017895346,
          -2.5397751668382043,
          -0.5552784592316042,
          -0.4822945755268403,
          0.12701578635685654,
          0.7148797761841683,
          -2.038555956140452,
          -1.994346917296289,
          2.630091203316942,
          -1.303775711537322,
          -1.1227860545476014,
          0.6671696461846212
         ]
        },
        {
         "line": {
          "color": "rgba(55, 128, 191, 1.0)",
          "dash": "solid",
          "shape": "linear",
          "width": 1.3
         },
         "mode": "lines",
         "name": "B",
         "text": "",
         "type": "scatter",
         "x": [
          0,
          1,
          2,
          3,
          4,
          5,
          6,
          7,
          8,
          9,
          10,
          11,
          12,
          13,
          14,
          15,
          16,
          17,
          18,
          19,
          20,
          21,
          22,
          23,
          24,
          25,
          26,
          27,
          28,
          29,
          30,
          31,
          32,
          33,
          34,
          35,
          36,
          37,
          38,
          39,
          40,
          41,
          42,
          43,
          44,
          45,
          46,
          47,
          48,
          49,
          50,
          51,
          52,
          53,
          54,
          55,
          56,
          57,
          58,
          59,
          60,
          61,
          62,
          63,
          64,
          65,
          66,
          67,
          68,
          69,
          70,
          71,
          72,
          73,
          74,
          75,
          76,
          77,
          78,
          79,
          80,
          81,
          82,
          83,
          84,
          85,
          86,
          87,
          88,
          89,
          90,
          91,
          92,
          93,
          94,
          95,
          96,
          97,
          98,
          99
         ],
         "y": [
          -0.08520702370665945,
          -0.5428353896137872,
          -0.9229682894210636,
          -1.1373838493074757,
          -0.59974338941446,
          -0.6226775282171854,
          -0.6909488674104681,
          -0.6429884712883694,
          -0.763829818415618,
          1.9126612513514099,
          0.5051946942444656,
          1.1534796814020114,
          -1.4973541967185586,
          -1.1603641595539111,
          1.2089092230741885,
          -1.2866488766091513,
          0.6253039088147416,
          0.09943432806814738,
          -1.81878967090492,
          0.45454932869301284,
          -1.0661959002998078,
          -0.45226231295844893,
          0.502073890766179,
          1.360000850818429,
          1.576199232879038,
          -0.991354458568695,
          -0.41864922052129755,
          -0.27693294224574005,
          -1.4369765922877695,
          -0.4564622304795268,
          -0.543033343656325,
          -0.796411024933017,
          -0.6674501440461106,
          -0.4083371687249216,
          -0.9477198563372072,
          0.17176129717986716,
          0.4348243846709589,
          0.29771223214238673,
          0.26427765803321684,
          -0.8363995101281714,
          0.8823759134303497,
          0.905607194137671,
          -0.5565870945944663,
          -0.41972347347737227,
          -1.9249329386407084,
          0.6295212818429051,
          0.8028696678842703,
          -0.9588753331328411,
          -2.0406461185745655,
          0.5798060382596439,
          -0.7415515925609483,
          -0.25876903380250166,
          2.182261418702065,
          1.0229115282733865,
          1.294722395518006,
          0.3884114484562883,
          -2.2263153739917003,
          -0.6268318814354596,
          -1.6025381888476122,
          -1.0045768452368167,
          -1.157463102824297,
          -0.5838177334890376,
          0.32452522809203876,
          -0.7419037873420108,
          0.8579172439573104,
          -1.5878134298301179,
          -0.21031196661969556,
          0.5675315039804291,
          -0.3621359496459766,
          0.32448366104306103,
          0.19420872288635715,
          -2.597531208936153,
          0.04676148891109547,
          -0.17483040082085477,
          -0.2621860092876313,
          -1.045483666627226,
          0.050234493136657045,
          -0.05791781576786074,
          0.513050713788694,
          -1.6255212702788666,
          -1.5156077636707201,
          -1.9785169493256909,
          -1.9490945331143803,
          -1.0806817557769284,
          1.6839128089017628,
          0.6076703250867478,
          -0.9721863273679423,
          0.6347401000811329,
          1.1733829018513646,
          2.481087579855182,
          0.7055191896422903,
          -1.0860434878294678,
          1.5917538490464633,
          0.257385934981979,
          -1.9815757748839793,
          -0.2840951440640914,
          -1.295585170698604,
          -0.3272390968001948,
          -0.7705741622343572,
          -0.12028512029356135
         ]
        },
        {
         "connectgaps": false,
         "fill": "tozeroy",
         "line": {
          "color": "green",
          "dash": "solid",
          "shape": "linear",
          "width": 0.5
         },
         "mode": "lines",
         "name": "Spread",
         "showlegend": false,
         "type": "scatter",
         "x": [
          0,
          1,
          2,
          3,
          4,
          5,
          6,
          7,
          8,
          9,
          10,
          11,
          12,
          13,
          14,
          15,
          16,
          17,
          18,
          19,
          20,
          21,
          22,
          23,
          24,
          25,
          26,
          27,
          28,
          29,
          30,
          31,
          32,
          33,
          34,
          35,
          36,
          37,
          38,
          39,
          40,
          41,
          42,
          43,
          44,
          45,
          46,
          47,
          48,
          49,
          50,
          51,
          52,
          53,
          54,
          55,
          56,
          57,
          58,
          59,
          60,
          61,
          62,
          63,
          64,
          65,
          66,
          67,
          68,
          69,
          70,
          71,
          72,
          73,
          74,
          75,
          76,
          77,
          78,
          79,
          80,
          81,
          82,
          83,
          84,
          85,
          86,
          87,
          88,
          89,
          90,
          91,
          92,
          93,
          94,
          95,
          96,
          97,
          98,
          99
         ],
         "xaxis": "x2",
         "y": [
          "",
          0.2557297171593322,
          0.31030432599817936,
          "",
          "",
          0.39407933452167687,
          0.21156762088021824,
          "",
          1.3673690315446825,
          0.764434817188429,
          0.05727843063430882,
          "",
          0.6483289452712169,
          0.6115539444930521,
          "",
          "",
          "",
          "",
          1.0284361947167766,
          1.1397489070122109,
          "",
          0.32136688079762327,
          0.16796969888147406,
          "",
          "",
          1.3662551443919402,
          0.40870320035643365,
          1.7842474914133404,
          2.006900117334142,
          1.1963575088699825,
          "",
          0.5058375823465131,
          "",
          0.0190000025316866,
          1.308001128337918,
          1.0677563400834145,
          "",
          "",
          "",
          1.3698305114674794,
          0.12449159287764822,
          "",
          "",
          0.2822808032498546,
          2.711239712560133,
          "",
          "",
          "",
          1.2773979930574773,
          "",
          "",
          1.1548826878197669,
          "",
          "",
          0.19126600654970316,
          "",
          3.233333762571297,
          1.212125827662591,
          2.435032660301186,
          0.40675176209489194,
          "",
          4.14737420547843,
          "",
          0.3351253494026202,
          0.9294626377245017,
          0.907315517569038,
          1.2727321979293666,
          "",
          "",
          1.5606259232578474,
          "",
          5.170327501836523,
          "",
          0.4224748930902301,
          0.9440026977148801,
          1.0168967305647163,
          0.330156214534583,
          "",
          "",
          2.6701795288569943,
          3.363633990006413,
          1.5252641943424055,
          2.2197525981769246,
          0.8540300253330196,
          "",
          "",
          2.0888369593762706,
          "",
          "",
          "",
          "",
          0.6037489123026275,
          "",
          0.45749384120218933,
          "",
          "",
          3.925676374015546,
          "",
          "",
          0.7874547664781825
         ],
         "yaxis": "y2"
        },
        {
         "connectgaps": false,
         "fill": "tozeroy",
         "line": {
          "color": "red",
          "dash": "solid",
          "shape": "linear",
          "width": 0.5
         },
         "mode": "lines",
         "name": "Spread",
         "showlegend": false,
         "type": "scatter",
         "x": [
          0,
          1,
          2,
          3,
          4,
          5,
          6,
          7,
          8,
          9,
          10,
          11,
          12,
          13,
          14,
          15,
          16,
          17,
          18,
          19,
          20,
          21,
          22,
          23,
          24,
          25,
          26,
          27,
          28,
          29,
          30,
          31,
          32,
          33,
          34,
          35,
          36,
          37,
          38,
          39,
          40,
          41,
          42,
          43,
          44,
          45,
          46,
          47,
          48,
          49,
          50,
          51,
          52,
          53,
          54,
          55,
          56,
          57,
          58,
          59,
          60,
          61,
          62,
          63,
          64,
          65,
          66,
          67,
          68,
          69,
          70,
          71,
          72,
          73,
          74,
          75,
          76,
          77,
          78,
          79,
          80,
          81,
          82,
          83,
          84,
          85,
          86,
          87,
          88,
          89,
          90,
          91,
          92,
          93,
          94,
          95,
          96,
          97,
          98,
          99
         ],
         "xaxis": "x2",
         "y": [
          -0.9404426384552343,
          "",
          "",
          -0.7223199400477327,
          -0.3568993814498216,
          "",
          "",
          -1.8474067112155117,
          "",
          "",
          "",
          -0.5312268171661892,
          "",
          "",
          -1.7530476466895368,
          -1.2282918210999443,
          -0.958671471686901,
          -1.3454339123590213,
          "",
          "",
          -0.4768217617590673,
          "",
          "",
          -1.9669722535044922,
          -0.3638587270634861,
          "",
          "",
          "",
          "",
          "",
          -0.5605866895114244,
          "",
          -1.1038472196904139,
          "",
          "",
          "",
          -0.5922095768587896,
          -0.8699838668187488,
          -0.19001172956111662,
          "",
          "",
          -1.7023059657821027,
          -0.06101495746256691,
          "",
          "",
          -1.824383763826702,
          -1.5725105297307884,
          -1.163593398446666,
          "",
          -1.6823886886313888,
          -0.6629535542392809,
          "",
          -3.253358831262866,
          -0.8679238075331006,
          "",
          -0.9660305852969933,
          "",
          "",
          "",
          "",
          -0.02057561567226207,
          "",
          -0.02960514656056895,
          "",
          "",
          "",
          "",
          -0.26563500842834903,
          -1.0182476913374459,
          "",
          -0.4540519101383749,
          "",
          -1.1212843532394547,
          "",
          "",
          "",
          "",
          -0.37425006678257094,
          -1.8300116123619765,
          "",
          "",
          "",
          "",
          "",
          -1.6321016507445252,
          -1.1493987045266691,
          "",
          -0.7772851653425569,
          -0.32741960006183,
          -5.020862746693386,
          -1.2607976488738946,
          "",
          -1.4647380626896067,
          "",
          -0.05698018125647253,
          -1.7102517732321978,
          "",
          -0.9765366147371273,
          -0.35221189231324423,
          ""
         ],
         "yaxis": "y2"
        }
       ],
       "layout": {
        "hovermode": "x",
        "legend": {
         "bgcolor": "#F5F6F9",
         "font": {
          "color": "#4D5663"
         }
        },
        "paper_bgcolor": "#F5F6F9",
        "plot_bgcolor": "#F5F6F9",
        "template": {
         "data": {
          "bar": [
           {
            "error_x": {
             "color": "#2a3f5f"
            },
            "error_y": {
             "color": "#2a3f5f"
            },
            "marker": {
             "line": {
              "color": "#E5ECF6",
              "width": 0.5
             },
             "pattern": {
              "fillmode": "overlay",
              "size": 10,
              "solidity": 0.2
             }
            },
            "type": "bar"
           }
          ],
          "barpolar": [
           {
            "marker": {
             "line": {
              "color": "#E5ECF6",
              "width": 0.5
             },
             "pattern": {
              "fillmode": "overlay",
              "size": 10,
              "solidity": 0.2
             }
            },
            "type": "barpolar"
           }
          ],
          "carpet": [
           {
            "aaxis": {
             "endlinecolor": "#2a3f5f",
             "gridcolor": "white",
             "linecolor": "white",
             "minorgridcolor": "white",
             "startlinecolor": "#2a3f5f"
            },
            "baxis": {
             "endlinecolor": "#2a3f5f",
             "gridcolor": "white",
             "linecolor": "white",
             "minorgridcolor": "white",
             "startlinecolor": "#2a3f5f"
            },
            "type": "carpet"
           }
          ],
          "choropleth": [
           {
            "colorbar": {
             "outlinewidth": 0,
             "ticks": ""
            },
            "type": "choropleth"
           }
          ],
          "contour": [
           {
            "colorbar": {
             "outlinewidth": 0,
             "ticks": ""
            },
            "colorscale": [
             [
              0,
              "#0d0887"
             ],
             [
              0.1111111111111111,
              "#46039f"
             ],
             [
              0.2222222222222222,
              "#7201a8"
             ],
             [
              0.3333333333333333,
              "#9c179e"
             ],
             [
              0.4444444444444444,
              "#bd3786"
             ],
             [
              0.5555555555555556,
              "#d8576b"
             ],
             [
              0.6666666666666666,
              "#ed7953"
             ],
             [
              0.7777777777777778,
              "#fb9f3a"
             ],
             [
              0.8888888888888888,
              "#fdca26"
             ],
             [
              1,
              "#f0f921"
             ]
            ],
            "type": "contour"
           }
          ],
          "contourcarpet": [
           {
            "colorbar": {
             "outlinewidth": 0,
             "ticks": ""
            },
            "type": "contourcarpet"
           }
          ],
          "heatmap": [
           {
            "colorbar": {
             "outlinewidth": 0,
             "ticks": ""
            },
            "colorscale": [
             [
              0,
              "#0d0887"
             ],
             [
              0.1111111111111111,
              "#46039f"
             ],
             [
              0.2222222222222222,
              "#7201a8"
             ],
             [
              0.3333333333333333,
              "#9c179e"
             ],
             [
              0.4444444444444444,
              "#bd3786"
             ],
             [
              0.5555555555555556,
              "#d8576b"
             ],
             [
              0.6666666666666666,
              "#ed7953"
             ],
             [
              0.7777777777777778,
              "#fb9f3a"
             ],
             [
              0.8888888888888888,
              "#fdca26"
             ],
             [
              1,
              "#f0f921"
             ]
            ],
            "type": "heatmap"
           }
          ],
          "heatmapgl": [
           {
            "colorbar": {
             "outlinewidth": 0,
             "ticks": ""
            },
            "colorscale": [
             [
              0,
              "#0d0887"
             ],
             [
              0.1111111111111111,
              "#46039f"
             ],
             [
              0.2222222222222222,
              "#7201a8"
             ],
             [
              0.3333333333333333,
              "#9c179e"
             ],
             [
              0.4444444444444444,
              "#bd3786"
             ],
             [
              0.5555555555555556,
              "#d8576b"
             ],
             [
              0.6666666666666666,
              "#ed7953"
             ],
             [
              0.7777777777777778,
              "#fb9f3a"
             ],
             [
              0.8888888888888888,
              "#fdca26"
             ],
             [
              1,
              "#f0f921"
             ]
            ],
            "type": "heatmapgl"
           }
          ],
          "histogram": [
           {
            "marker": {
             "pattern": {
              "fillmode": "overlay",
              "size": 10,
              "solidity": 0.2
             }
            },
            "type": "histogram"
           }
          ],
          "histogram2d": [
           {
            "colorbar": {
             "outlinewidth": 0,
             "ticks": ""
            },
            "colorscale": [
             [
              0,
              "#0d0887"
             ],
             [
              0.1111111111111111,
              "#46039f"
             ],
             [
              0.2222222222222222,
              "#7201a8"
             ],
             [
              0.3333333333333333,
              "#9c179e"
             ],
             [
              0.4444444444444444,
              "#bd3786"
             ],
             [
              0.5555555555555556,
              "#d8576b"
             ],
             [
              0.6666666666666666,
              "#ed7953"
             ],
             [
              0.7777777777777778,
              "#fb9f3a"
             ],
             [
              0.8888888888888888,
              "#fdca26"
             ],
             [
              1,
              "#f0f921"
             ]
            ],
            "type": "histogram2d"
           }
          ],
          "histogram2dcontour": [
           {
            "colorbar": {
             "outlinewidth": 0,
             "ticks": ""
            },
            "colorscale": [
             [
              0,
              "#0d0887"
             ],
             [
              0.1111111111111111,
              "#46039f"
             ],
             [
              0.2222222222222222,
              "#7201a8"
             ],
             [
              0.3333333333333333,
              "#9c179e"
             ],
             [
              0.4444444444444444,
              "#bd3786"
             ],
             [
              0.5555555555555556,
              "#d8576b"
             ],
             [
              0.6666666666666666,
              "#ed7953"
             ],
             [
              0.7777777777777778,
              "#fb9f3a"
             ],
             [
              0.8888888888888888,
              "#fdca26"
             ],
             [
              1,
              "#f0f921"
             ]
            ],
            "type": "histogram2dcontour"
           }
          ],
          "mesh3d": [
           {
            "colorbar": {
             "outlinewidth": 0,
             "ticks": ""
            },
            "type": "mesh3d"
           }
          ],
          "parcoords": [
           {
            "line": {
             "colorbar": {
              "outlinewidth": 0,
              "ticks": ""
             }
            },
            "type": "parcoords"
           }
          ],
          "pie": [
           {
            "automargin": true,
            "type": "pie"
           }
          ],
          "scatter": [
           {
            "marker": {
             "colorbar": {
              "outlinewidth": 0,
              "ticks": ""
             }
            },
            "type": "scatter"
           }
          ],
          "scatter3d": [
           {
            "line": {
             "colorbar": {
              "outlinewidth": 0,
              "ticks": ""
             }
            },
            "marker": {
             "colorbar": {
              "outlinewidth": 0,
              "ticks": ""
             }
            },
            "type": "scatter3d"
           }
          ],
          "scattercarpet": [
           {
            "marker": {
             "colorbar": {
              "outlinewidth": 0,
              "ticks": ""
             }
            },
            "type": "scattercarpet"
           }
          ],
          "scattergeo": [
           {
            "marker": {
             "colorbar": {
              "outlinewidth": 0,
              "ticks": ""
             }
            },
            "type": "scattergeo"
           }
          ],
          "scattergl": [
           {
            "marker": {
             "colorbar": {
              "outlinewidth": 0,
              "ticks": ""
             }
            },
            "type": "scattergl"
           }
          ],
          "scattermapbox": [
           {
            "marker": {
             "colorbar": {
              "outlinewidth": 0,
              "ticks": ""
             }
            },
            "type": "scattermapbox"
           }
          ],
          "scatterpolar": [
           {
            "marker": {
             "colorbar": {
              "outlinewidth": 0,
              "ticks": ""
             }
            },
            "type": "scatterpolar"
           }
          ],
          "scatterpolargl": [
           {
            "marker": {
             "colorbar": {
              "outlinewidth": 0,
              "ticks": ""
             }
            },
            "type": "scatterpolargl"
           }
          ],
          "scatterternary": [
           {
            "marker": {
             "colorbar": {
              "outlinewidth": 0,
              "ticks": ""
             }
            },
            "type": "scatterternary"
           }
          ],
          "surface": [
           {
            "colorbar": {
             "outlinewidth": 0,
             "ticks": ""
            },
            "colorscale": [
             [
              0,
              "#0d0887"
             ],
             [
              0.1111111111111111,
              "#46039f"
             ],
             [
              0.2222222222222222,
              "#7201a8"
             ],
             [
              0.3333333333333333,
              "#9c179e"
             ],
             [
              0.4444444444444444,
              "#bd3786"
             ],
             [
              0.5555555555555556,
              "#d8576b"
             ],
             [
              0.6666666666666666,
              "#ed7953"
             ],
             [
              0.7777777777777778,
              "#fb9f3a"
             ],
             [
              0.8888888888888888,
              "#fdca26"
             ],
             [
              1,
              "#f0f921"
             ]
            ],
            "type": "surface"
           }
          ],
          "table": [
           {
            "cells": {
             "fill": {
              "color": "#EBF0F8"
             },
             "line": {
              "color": "white"
             }
            },
            "header": {
             "fill": {
              "color": "#C8D4E3"
             },
             "line": {
              "color": "white"
             }
            },
            "type": "table"
           }
          ]
         },
         "layout": {
          "annotationdefaults": {
           "arrowcolor": "#2a3f5f",
           "arrowhead": 0,
           "arrowwidth": 1
          },
          "autotypenumbers": "strict",
          "coloraxis": {
           "colorbar": {
            "outlinewidth": 0,
            "ticks": ""
           }
          },
          "colorscale": {
           "diverging": [
            [
             0,
             "#8e0152"
            ],
            [
             0.1,
             "#c51b7d"
            ],
            [
             0.2,
             "#de77ae"
            ],
            [
             0.3,
             "#f1b6da"
            ],
            [
             0.4,
             "#fde0ef"
            ],
            [
             0.5,
             "#f7f7f7"
            ],
            [
             0.6,
             "#e6f5d0"
            ],
            [
             0.7,
             "#b8e186"
            ],
            [
             0.8,
             "#7fbc41"
            ],
            [
             0.9,
             "#4d9221"
            ],
            [
             1,
             "#276419"
            ]
           ],
           "sequential": [
            [
             0,
             "#0d0887"
            ],
            [
             0.1111111111111111,
             "#46039f"
            ],
            [
             0.2222222222222222,
             "#7201a8"
            ],
            [
             0.3333333333333333,
             "#9c179e"
            ],
            [
             0.4444444444444444,
             "#bd3786"
            ],
            [
             0.5555555555555556,
             "#d8576b"
            ],
            [
             0.6666666666666666,
             "#ed7953"
            ],
            [
             0.7777777777777778,
             "#fb9f3a"
            ],
            [
             0.8888888888888888,
             "#fdca26"
            ],
            [
             1,
             "#f0f921"
            ]
           ],
           "sequentialminus": [
            [
             0,
             "#0d0887"
            ],
            [
             0.1111111111111111,
             "#46039f"
            ],
            [
             0.2222222222222222,
             "#7201a8"
            ],
            [
             0.3333333333333333,
             "#9c179e"
            ],
            [
             0.4444444444444444,
             "#bd3786"
            ],
            [
             0.5555555555555556,
             "#d8576b"
            ],
            [
             0.6666666666666666,
             "#ed7953"
            ],
            [
             0.7777777777777778,
             "#fb9f3a"
            ],
            [
             0.8888888888888888,
             "#fdca26"
            ],
            [
             1,
             "#f0f921"
            ]
           ]
          },
          "colorway": [
           "#636efa",
           "#EF553B",
           "#00cc96",
           "#ab63fa",
           "#FFA15A",
           "#19d3f3",
           "#FF6692",
           "#B6E880",
           "#FF97FF",
           "#FECB52"
          ],
          "font": {
           "color": "#2a3f5f"
          },
          "geo": {
           "bgcolor": "white",
           "lakecolor": "white",
           "landcolor": "#E5ECF6",
           "showlakes": true,
           "showland": true,
           "subunitcolor": "white"
          },
          "hoverlabel": {
           "align": "left"
          },
          "hovermode": "closest",
          "mapbox": {
           "style": "light"
          },
          "paper_bgcolor": "white",
          "plot_bgcolor": "#E5ECF6",
          "polar": {
           "angularaxis": {
            "gridcolor": "white",
            "linecolor": "white",
            "ticks": ""
           },
           "bgcolor": "#E5ECF6",
           "radialaxis": {
            "gridcolor": "white",
            "linecolor": "white",
            "ticks": ""
           }
          },
          "scene": {
           "xaxis": {
            "backgroundcolor": "#E5ECF6",
            "gridcolor": "white",
            "gridwidth": 2,
            "linecolor": "white",
            "showbackground": true,
            "ticks": "",
            "zerolinecolor": "white"
           },
           "yaxis": {
            "backgroundcolor": "#E5ECF6",
            "gridcolor": "white",
            "gridwidth": 2,
            "linecolor": "white",
            "showbackground": true,
            "ticks": "",
            "zerolinecolor": "white"
           },
           "zaxis": {
            "backgroundcolor": "#E5ECF6",
            "gridcolor": "white",
            "gridwidth": 2,
            "linecolor": "white",
            "showbackground": true,
            "ticks": "",
            "zerolinecolor": "white"
           }
          },
          "shapedefaults": {
           "line": {
            "color": "#2a3f5f"
           }
          },
          "ternary": {
           "aaxis": {
            "gridcolor": "white",
            "linecolor": "white",
            "ticks": ""
           },
           "baxis": {
            "gridcolor": "white",
            "linecolor": "white",
            "ticks": ""
           },
           "bgcolor": "#E5ECF6",
           "caxis": {
            "gridcolor": "white",
            "linecolor": "white",
            "ticks": ""
           }
          },
          "title": {
           "x": 0.05
          },
          "xaxis": {
           "automargin": true,
           "gridcolor": "white",
           "linecolor": "white",
           "ticks": "",
           "title": {
            "standoff": 15
           },
           "zerolinecolor": "white",
           "zerolinewidth": 2
          },
          "yaxis": {
           "automargin": true,
           "gridcolor": "white",
           "linecolor": "white",
           "ticks": "",
           "title": {
            "standoff": 15
           },
           "zerolinecolor": "white",
           "zerolinewidth": 2
          }
         }
        },
        "title": {
         "font": {
          "color": "#4D5663"
         }
        },
        "xaxis": {
         "gridcolor": "#E1E5ED",
         "showgrid": true,
         "tickfont": {
          "color": "#4D5663"
         },
         "title": {
          "font": {
           "color": "#4D5663"
          },
          "text": ""
         },
         "zerolinecolor": "#E1E5ED"
        },
        "xaxis2": {
         "anchor": "y2",
         "gridcolor": "#E1E5ED",
         "showgrid": true,
         "showticklabels": false,
         "tickfont": {
          "color": "#4D5663"
         },
         "title": {
          "font": {
           "color": "#4D5663"
          },
          "text": ""
         },
         "zerolinecolor": "#E1E5ED"
        },
        "yaxis": {
         "domain": [
          0.3,
          1
         ],
         "gridcolor": "#E1E5ED",
         "showgrid": true,
         "tickfont": {
          "color": "#4D5663"
         },
         "title": {
          "font": {
           "color": "#4D5663"
          },
          "text": ""
         },
         "zerolinecolor": "#E1E5ED"
        },
        "yaxis2": {
         "domain": [
          0,
          0.25
         ],
         "gridcolor": "#E1E5ED",
         "showgrid": true,
         "tickfont": {
          "color": "#4D5663"
         },
         "title": {
          "font": {
           "color": "#4D5663"
          },
          "text": "Spread"
         },
         "zerolinecolor": "#E1E5ED"
        }
       }
      },
      "text/html": [
       "<div>                            <div id=\"e9a1b1ee-93cf-4d45-babf-84bfb4fa64c0\" class=\"plotly-graph-div\" style=\"height:525px; width:100%;\"></div>            <script type=\"text/javascript\">                require([\"plotly\"], function(Plotly) {                    window.PLOTLYENV=window.PLOTLYENV || {};\n",
       "                    window.PLOTLYENV.BASE_URL='https://plot.ly';                                    if (document.getElementById(\"e9a1b1ee-93cf-4d45-babf-84bfb4fa64c0\")) {                    Plotly.newPlot(                        \"e9a1b1ee-93cf-4d45-babf-84bfb4fa64c0\",                        [{\"line\":{\"color\":\"rgba(255, 153, 51, 1.0)\",\"dash\":\"solid\",\"shape\":\"linear\",\"width\":1.3},\"mode\":\"lines\",\"name\":\"A\",\"text\":\"\",\"type\":\"scatter\",\"x\":[0,1,2,3,4,5,6,7,8,9,10,11,12,13,14,15,16,17,18,19,20,21,22,23,24,25,26,27,28,29,30,31,32,33,34,35,36,37,38,39,40,41,42,43,44,45,46,47,48,49,50,51,52,53,54,55,56,57,58,59,60,61,62,63,64,65,66,67,68,69,70,71,72,73,74,75,76,77,78,79,80,81,82,83,84,85,86,87,88,89,90,91,92,93,94,95,96,97,98,99],\"y\":[-1.0256496621618938,-0.287105672454455,-0.6126639634228842,-1.8597037893552084,-0.9566427708642816,-0.22859819369550846,-0.4793812465302499,-2.4903951825038813,0.6035392131290644,2.677096068539839,0.5624731248787744,0.6222528642358222,-0.8490252514473418,-0.548810215060859,-0.5441384236153484,-2.5149406977090956,-0.3333675628721594,-1.245999584290874,-0.7903534761881433,1.5942982357052238,-1.5430176620588751,-0.13089543216082566,0.6700435896476531,-0.6069714026860633,1.2123405058155519,0.3749006858232452,-0.009946020164863893,1.5073145491676003,0.5699235250463723,0.7398952783904557,-1.1036200331677495,-0.29057344258650386,-1.7712973637365244,-0.389337166193235,0.3602812720007109,1.2395176372632817,-0.15738519218783073,-0.5722716346763621,0.07426592847210023,0.5334310013393081,1.006867506307998,-0.7966987716444317,-0.6176020520570332,-0.13744267022751766,0.7863067739194248,-1.194862481983797,-0.769640861846518,-2.122468731579507,-0.7632481255170883,-1.1025826503717449,-1.4045051468002292,0.8961136540172652,-1.0710974125608013,0.15498772074028588,1.4859884020677092,-0.577619136840705,1.0070183885795967,0.5852939462271314,0.8324944714535736,-0.5978250831419247,-1.178038718496559,3.5635564719893926,0.2949200815314698,-0.4067784379393906,1.787379881681812,-0.6804979122610798,1.0624202313096711,0.30189649555208004,-1.3803836409834225,1.8851095843009085,-0.25984318725201777,2.5727962929003705,-1.0745228643283593,0.24764449226937535,0.6818166884272487,-0.02858693606250979,0.38039070767124006,-0.4321678825504317,-1.3169608985732824,1.0446582585781277,1.8480262263356928,-0.4532527549832854,0.2706580650625444,-0.22665173044390874,0.05181115815723766,-0.5417283794399212,1.1166506320083285,-0.14254506526142394,0.8459633017895346,-2.5397751668382043,-0.5552784592316042,-0.4822945755268403,0.12701578635685654,0.7148797761841683,-2.038555956140452,-1.994346917296289,2.630091203316942,-1.303775711537322,-1.1227860545476014,0.6671696461846212]},{\"line\":{\"color\":\"rgba(55, 128, 191, 1.0)\",\"dash\":\"solid\",\"shape\":\"linear\",\"width\":1.3},\"mode\":\"lines\",\"name\":\"B\",\"text\":\"\",\"type\":\"scatter\",\"x\":[0,1,2,3,4,5,6,7,8,9,10,11,12,13,14,15,16,17,18,19,20,21,22,23,24,25,26,27,28,29,30,31,32,33,34,35,36,37,38,39,40,41,42,43,44,45,46,47,48,49,50,51,52,53,54,55,56,57,58,59,60,61,62,63,64,65,66,67,68,69,70,71,72,73,74,75,76,77,78,79,80,81,82,83,84,85,86,87,88,89,90,91,92,93,94,95,96,97,98,99],\"y\":[-0.08520702370665945,-0.5428353896137872,-0.9229682894210636,-1.1373838493074757,-0.59974338941446,-0.6226775282171854,-0.6909488674104681,-0.6429884712883694,-0.763829818415618,1.9126612513514099,0.5051946942444656,1.1534796814020114,-1.4973541967185586,-1.1603641595539111,1.2089092230741885,-1.2866488766091513,0.6253039088147416,0.09943432806814738,-1.81878967090492,0.45454932869301284,-1.0661959002998078,-0.45226231295844893,0.502073890766179,1.360000850818429,1.576199232879038,-0.991354458568695,-0.41864922052129755,-0.27693294224574005,-1.4369765922877695,-0.4564622304795268,-0.543033343656325,-0.796411024933017,-0.6674501440461106,-0.4083371687249216,-0.9477198563372072,0.17176129717986716,0.4348243846709589,0.29771223214238673,0.26427765803321684,-0.8363995101281714,0.8823759134303497,0.905607194137671,-0.5565870945944663,-0.41972347347737227,-1.9249329386407084,0.6295212818429051,0.8028696678842703,-0.9588753331328411,-2.0406461185745655,0.5798060382596439,-0.7415515925609483,-0.25876903380250166,2.182261418702065,1.0229115282733865,1.294722395518006,0.3884114484562883,-2.2263153739917003,-0.6268318814354596,-1.6025381888476122,-1.0045768452368167,-1.157463102824297,-0.5838177334890376,0.32452522809203876,-0.7419037873420108,0.8579172439573104,-1.5878134298301179,-0.21031196661969556,0.5675315039804291,-0.3621359496459766,0.32448366104306103,0.19420872288635715,-2.597531208936153,0.04676148891109547,-0.17483040082085477,-0.2621860092876313,-1.045483666627226,0.050234493136657045,-0.05791781576786074,0.513050713788694,-1.6255212702788666,-1.5156077636707201,-1.9785169493256909,-1.9490945331143803,-1.0806817557769284,1.6839128089017628,0.6076703250867478,-0.9721863273679423,0.6347401000811329,1.1733829018513646,2.481087579855182,0.7055191896422903,-1.0860434878294678,1.5917538490464633,0.257385934981979,-1.9815757748839793,-0.2840951440640914,-1.295585170698604,-0.3272390968001948,-0.7705741622343572,-0.12028512029356135]},{\"connectgaps\":false,\"fill\":\"tozeroy\",\"line\":{\"color\":\"green\",\"dash\":\"solid\",\"shape\":\"linear\",\"width\":0.5},\"mode\":\"lines\",\"name\":\"Spread\",\"showlegend\":false,\"type\":\"scatter\",\"x\":[0,1,2,3,4,5,6,7,8,9,10,11,12,13,14,15,16,17,18,19,20,21,22,23,24,25,26,27,28,29,30,31,32,33,34,35,36,37,38,39,40,41,42,43,44,45,46,47,48,49,50,51,52,53,54,55,56,57,58,59,60,61,62,63,64,65,66,67,68,69,70,71,72,73,74,75,76,77,78,79,80,81,82,83,84,85,86,87,88,89,90,91,92,93,94,95,96,97,98,99],\"xaxis\":\"x2\",\"y\":[\"\",0.2557297171593322,0.31030432599817936,\"\",\"\",0.39407933452167687,0.21156762088021824,\"\",1.3673690315446825,0.764434817188429,0.05727843063430882,\"\",0.6483289452712169,0.6115539444930521,\"\",\"\",\"\",\"\",1.0284361947167766,1.1397489070122109,\"\",0.32136688079762327,0.16796969888147406,\"\",\"\",1.3662551443919402,0.40870320035643365,1.7842474914133404,2.006900117334142,1.1963575088699825,\"\",0.5058375823465131,\"\",0.0190000025316866,1.308001128337918,1.0677563400834145,\"\",\"\",\"\",1.3698305114674794,0.12449159287764822,\"\",\"\",0.2822808032498546,2.711239712560133,\"\",\"\",\"\",1.2773979930574773,\"\",\"\",1.1548826878197669,\"\",\"\",0.19126600654970316,\"\",3.233333762571297,1.212125827662591,2.435032660301186,0.40675176209489194,\"\",4.14737420547843,\"\",0.3351253494026202,0.9294626377245017,0.907315517569038,1.2727321979293666,\"\",\"\",1.5606259232578474,\"\",5.170327501836523,\"\",0.4224748930902301,0.9440026977148801,1.0168967305647163,0.330156214534583,\"\",\"\",2.6701795288569943,3.363633990006413,1.5252641943424055,2.2197525981769246,0.8540300253330196,\"\",\"\",2.0888369593762706,\"\",\"\",\"\",\"\",0.6037489123026275,\"\",0.45749384120218933,\"\",\"\",3.925676374015546,\"\",\"\",0.7874547664781825],\"yaxis\":\"y2\"},{\"connectgaps\":false,\"fill\":\"tozeroy\",\"line\":{\"color\":\"red\",\"dash\":\"solid\",\"shape\":\"linear\",\"width\":0.5},\"mode\":\"lines\",\"name\":\"Spread\",\"showlegend\":false,\"type\":\"scatter\",\"x\":[0,1,2,3,4,5,6,7,8,9,10,11,12,13,14,15,16,17,18,19,20,21,22,23,24,25,26,27,28,29,30,31,32,33,34,35,36,37,38,39,40,41,42,43,44,45,46,47,48,49,50,51,52,53,54,55,56,57,58,59,60,61,62,63,64,65,66,67,68,69,70,71,72,73,74,75,76,77,78,79,80,81,82,83,84,85,86,87,88,89,90,91,92,93,94,95,96,97,98,99],\"xaxis\":\"x2\",\"y\":[-0.9404426384552343,\"\",\"\",-0.7223199400477327,-0.3568993814498216,\"\",\"\",-1.8474067112155117,\"\",\"\",\"\",-0.5312268171661892,\"\",\"\",-1.7530476466895368,-1.2282918210999443,-0.958671471686901,-1.3454339123590213,\"\",\"\",-0.4768217617590673,\"\",\"\",-1.9669722535044922,-0.3638587270634861,\"\",\"\",\"\",\"\",\"\",-0.5605866895114244,\"\",-1.1038472196904139,\"\",\"\",\"\",-0.5922095768587896,-0.8699838668187488,-0.19001172956111662,\"\",\"\",-1.7023059657821027,-0.06101495746256691,\"\",\"\",-1.824383763826702,-1.5725105297307884,-1.163593398446666,\"\",-1.6823886886313888,-0.6629535542392809,\"\",-3.253358831262866,-0.8679238075331006,\"\",-0.9660305852969933,\"\",\"\",\"\",\"\",-0.02057561567226207,\"\",-0.02960514656056895,\"\",\"\",\"\",\"\",-0.26563500842834903,-1.0182476913374459,\"\",-0.4540519101383749,\"\",-1.1212843532394547,\"\",\"\",\"\",\"\",-0.37425006678257094,-1.8300116123619765,\"\",\"\",\"\",\"\",\"\",-1.6321016507445252,-1.1493987045266691,\"\",-0.7772851653425569,-0.32741960006183,-5.020862746693386,-1.2607976488738946,\"\",-1.4647380626896067,\"\",-0.05698018125647253,-1.7102517732321978,\"\",-0.9765366147371273,-0.35221189231324423,\"\"],\"yaxis\":\"y2\"}],                        {\"hovermode\":\"x\",\"legend\":{\"bgcolor\":\"#F5F6F9\",\"font\":{\"color\":\"#4D5663\"}},\"paper_bgcolor\":\"#F5F6F9\",\"plot_bgcolor\":\"#F5F6F9\",\"template\":{\"data\":{\"bar\":[{\"error_x\":{\"color\":\"#2a3f5f\"},\"error_y\":{\"color\":\"#2a3f5f\"},\"marker\":{\"line\":{\"color\":\"#E5ECF6\",\"width\":0.5},\"pattern\":{\"fillmode\":\"overlay\",\"size\":10,\"solidity\":0.2}},\"type\":\"bar\"}],\"barpolar\":[{\"marker\":{\"line\":{\"color\":\"#E5ECF6\",\"width\":0.5},\"pattern\":{\"fillmode\":\"overlay\",\"size\":10,\"solidity\":0.2}},\"type\":\"barpolar\"}],\"carpet\":[{\"aaxis\":{\"endlinecolor\":\"#2a3f5f\",\"gridcolor\":\"white\",\"linecolor\":\"white\",\"minorgridcolor\":\"white\",\"startlinecolor\":\"#2a3f5f\"},\"baxis\":{\"endlinecolor\":\"#2a3f5f\",\"gridcolor\":\"white\",\"linecolor\":\"white\",\"minorgridcolor\":\"white\",\"startlinecolor\":\"#2a3f5f\"},\"type\":\"carpet\"}],\"choropleth\":[{\"colorbar\":{\"outlinewidth\":0,\"ticks\":\"\"},\"type\":\"choropleth\"}],\"contour\":[{\"colorbar\":{\"outlinewidth\":0,\"ticks\":\"\"},\"colorscale\":[[0.0,\"#0d0887\"],[0.1111111111111111,\"#46039f\"],[0.2222222222222222,\"#7201a8\"],[0.3333333333333333,\"#9c179e\"],[0.4444444444444444,\"#bd3786\"],[0.5555555555555556,\"#d8576b\"],[0.6666666666666666,\"#ed7953\"],[0.7777777777777778,\"#fb9f3a\"],[0.8888888888888888,\"#fdca26\"],[1.0,\"#f0f921\"]],\"type\":\"contour\"}],\"contourcarpet\":[{\"colorbar\":{\"outlinewidth\":0,\"ticks\":\"\"},\"type\":\"contourcarpet\"}],\"heatmap\":[{\"colorbar\":{\"outlinewidth\":0,\"ticks\":\"\"},\"colorscale\":[[0.0,\"#0d0887\"],[0.1111111111111111,\"#46039f\"],[0.2222222222222222,\"#7201a8\"],[0.3333333333333333,\"#9c179e\"],[0.4444444444444444,\"#bd3786\"],[0.5555555555555556,\"#d8576b\"],[0.6666666666666666,\"#ed7953\"],[0.7777777777777778,\"#fb9f3a\"],[0.8888888888888888,\"#fdca26\"],[1.0,\"#f0f921\"]],\"type\":\"heatmap\"}],\"heatmapgl\":[{\"colorbar\":{\"outlinewidth\":0,\"ticks\":\"\"},\"colorscale\":[[0.0,\"#0d0887\"],[0.1111111111111111,\"#46039f\"],[0.2222222222222222,\"#7201a8\"],[0.3333333333333333,\"#9c179e\"],[0.4444444444444444,\"#bd3786\"],[0.5555555555555556,\"#d8576b\"],[0.6666666666666666,\"#ed7953\"],[0.7777777777777778,\"#fb9f3a\"],[0.8888888888888888,\"#fdca26\"],[1.0,\"#f0f921\"]],\"type\":\"heatmapgl\"}],\"histogram\":[{\"marker\":{\"pattern\":{\"fillmode\":\"overlay\",\"size\":10,\"solidity\":0.2}},\"type\":\"histogram\"}],\"histogram2d\":[{\"colorbar\":{\"outlinewidth\":0,\"ticks\":\"\"},\"colorscale\":[[0.0,\"#0d0887\"],[0.1111111111111111,\"#46039f\"],[0.2222222222222222,\"#7201a8\"],[0.3333333333333333,\"#9c179e\"],[0.4444444444444444,\"#bd3786\"],[0.5555555555555556,\"#d8576b\"],[0.6666666666666666,\"#ed7953\"],[0.7777777777777778,\"#fb9f3a\"],[0.8888888888888888,\"#fdca26\"],[1.0,\"#f0f921\"]],\"type\":\"histogram2d\"}],\"histogram2dcontour\":[{\"colorbar\":{\"outlinewidth\":0,\"ticks\":\"\"},\"colorscale\":[[0.0,\"#0d0887\"],[0.1111111111111111,\"#46039f\"],[0.2222222222222222,\"#7201a8\"],[0.3333333333333333,\"#9c179e\"],[0.4444444444444444,\"#bd3786\"],[0.5555555555555556,\"#d8576b\"],[0.6666666666666666,\"#ed7953\"],[0.7777777777777778,\"#fb9f3a\"],[0.8888888888888888,\"#fdca26\"],[1.0,\"#f0f921\"]],\"type\":\"histogram2dcontour\"}],\"mesh3d\":[{\"colorbar\":{\"outlinewidth\":0,\"ticks\":\"\"},\"type\":\"mesh3d\"}],\"parcoords\":[{\"line\":{\"colorbar\":{\"outlinewidth\":0,\"ticks\":\"\"}},\"type\":\"parcoords\"}],\"pie\":[{\"automargin\":true,\"type\":\"pie\"}],\"scatter\":[{\"marker\":{\"colorbar\":{\"outlinewidth\":0,\"ticks\":\"\"}},\"type\":\"scatter\"}],\"scatter3d\":[{\"line\":{\"colorbar\":{\"outlinewidth\":0,\"ticks\":\"\"}},\"marker\":{\"colorbar\":{\"outlinewidth\":0,\"ticks\":\"\"}},\"type\":\"scatter3d\"}],\"scattercarpet\":[{\"marker\":{\"colorbar\":{\"outlinewidth\":0,\"ticks\":\"\"}},\"type\":\"scattercarpet\"}],\"scattergeo\":[{\"marker\":{\"colorbar\":{\"outlinewidth\":0,\"ticks\":\"\"}},\"type\":\"scattergeo\"}],\"scattergl\":[{\"marker\":{\"colorbar\":{\"outlinewidth\":0,\"ticks\":\"\"}},\"type\":\"scattergl\"}],\"scattermapbox\":[{\"marker\":{\"colorbar\":{\"outlinewidth\":0,\"ticks\":\"\"}},\"type\":\"scattermapbox\"}],\"scatterpolar\":[{\"marker\":{\"colorbar\":{\"outlinewidth\":0,\"ticks\":\"\"}},\"type\":\"scatterpolar\"}],\"scatterpolargl\":[{\"marker\":{\"colorbar\":{\"outlinewidth\":0,\"ticks\":\"\"}},\"type\":\"scatterpolargl\"}],\"scatterternary\":[{\"marker\":{\"colorbar\":{\"outlinewidth\":0,\"ticks\":\"\"}},\"type\":\"scatterternary\"}],\"surface\":[{\"colorbar\":{\"outlinewidth\":0,\"ticks\":\"\"},\"colorscale\":[[0.0,\"#0d0887\"],[0.1111111111111111,\"#46039f\"],[0.2222222222222222,\"#7201a8\"],[0.3333333333333333,\"#9c179e\"],[0.4444444444444444,\"#bd3786\"],[0.5555555555555556,\"#d8576b\"],[0.6666666666666666,\"#ed7953\"],[0.7777777777777778,\"#fb9f3a\"],[0.8888888888888888,\"#fdca26\"],[1.0,\"#f0f921\"]],\"type\":\"surface\"}],\"table\":[{\"cells\":{\"fill\":{\"color\":\"#EBF0F8\"},\"line\":{\"color\":\"white\"}},\"header\":{\"fill\":{\"color\":\"#C8D4E3\"},\"line\":{\"color\":\"white\"}},\"type\":\"table\"}]},\"layout\":{\"annotationdefaults\":{\"arrowcolor\":\"#2a3f5f\",\"arrowhead\":0,\"arrowwidth\":1},\"autotypenumbers\":\"strict\",\"coloraxis\":{\"colorbar\":{\"outlinewidth\":0,\"ticks\":\"\"}},\"colorscale\":{\"diverging\":[[0,\"#8e0152\"],[0.1,\"#c51b7d\"],[0.2,\"#de77ae\"],[0.3,\"#f1b6da\"],[0.4,\"#fde0ef\"],[0.5,\"#f7f7f7\"],[0.6,\"#e6f5d0\"],[0.7,\"#b8e186\"],[0.8,\"#7fbc41\"],[0.9,\"#4d9221\"],[1,\"#276419\"]],\"sequential\":[[0.0,\"#0d0887\"],[0.1111111111111111,\"#46039f\"],[0.2222222222222222,\"#7201a8\"],[0.3333333333333333,\"#9c179e\"],[0.4444444444444444,\"#bd3786\"],[0.5555555555555556,\"#d8576b\"],[0.6666666666666666,\"#ed7953\"],[0.7777777777777778,\"#fb9f3a\"],[0.8888888888888888,\"#fdca26\"],[1.0,\"#f0f921\"]],\"sequentialminus\":[[0.0,\"#0d0887\"],[0.1111111111111111,\"#46039f\"],[0.2222222222222222,\"#7201a8\"],[0.3333333333333333,\"#9c179e\"],[0.4444444444444444,\"#bd3786\"],[0.5555555555555556,\"#d8576b\"],[0.6666666666666666,\"#ed7953\"],[0.7777777777777778,\"#fb9f3a\"],[0.8888888888888888,\"#fdca26\"],[1.0,\"#f0f921\"]]},\"colorway\":[\"#636efa\",\"#EF553B\",\"#00cc96\",\"#ab63fa\",\"#FFA15A\",\"#19d3f3\",\"#FF6692\",\"#B6E880\",\"#FF97FF\",\"#FECB52\"],\"font\":{\"color\":\"#2a3f5f\"},\"geo\":{\"bgcolor\":\"white\",\"lakecolor\":\"white\",\"landcolor\":\"#E5ECF6\",\"showlakes\":true,\"showland\":true,\"subunitcolor\":\"white\"},\"hoverlabel\":{\"align\":\"left\"},\"hovermode\":\"closest\",\"mapbox\":{\"style\":\"light\"},\"paper_bgcolor\":\"white\",\"plot_bgcolor\":\"#E5ECF6\",\"polar\":{\"angularaxis\":{\"gridcolor\":\"white\",\"linecolor\":\"white\",\"ticks\":\"\"},\"bgcolor\":\"#E5ECF6\",\"radialaxis\":{\"gridcolor\":\"white\",\"linecolor\":\"white\",\"ticks\":\"\"}},\"scene\":{\"xaxis\":{\"backgroundcolor\":\"#E5ECF6\",\"gridcolor\":\"white\",\"gridwidth\":2,\"linecolor\":\"white\",\"showbackground\":true,\"ticks\":\"\",\"zerolinecolor\":\"white\"},\"yaxis\":{\"backgroundcolor\":\"#E5ECF6\",\"gridcolor\":\"white\",\"gridwidth\":2,\"linecolor\":\"white\",\"showbackground\":true,\"ticks\":\"\",\"zerolinecolor\":\"white\"},\"zaxis\":{\"backgroundcolor\":\"#E5ECF6\",\"gridcolor\":\"white\",\"gridwidth\":2,\"linecolor\":\"white\",\"showbackground\":true,\"ticks\":\"\",\"zerolinecolor\":\"white\"}},\"shapedefaults\":{\"line\":{\"color\":\"#2a3f5f\"}},\"ternary\":{\"aaxis\":{\"gridcolor\":\"white\",\"linecolor\":\"white\",\"ticks\":\"\"},\"baxis\":{\"gridcolor\":\"white\",\"linecolor\":\"white\",\"ticks\":\"\"},\"bgcolor\":\"#E5ECF6\",\"caxis\":{\"gridcolor\":\"white\",\"linecolor\":\"white\",\"ticks\":\"\"}},\"title\":{\"x\":0.05},\"xaxis\":{\"automargin\":true,\"gridcolor\":\"white\",\"linecolor\":\"white\",\"ticks\":\"\",\"title\":{\"standoff\":15},\"zerolinecolor\":\"white\",\"zerolinewidth\":2},\"yaxis\":{\"automargin\":true,\"gridcolor\":\"white\",\"linecolor\":\"white\",\"ticks\":\"\",\"title\":{\"standoff\":15},\"zerolinecolor\":\"white\",\"zerolinewidth\":2}}},\"title\":{\"font\":{\"color\":\"#4D5663\"}},\"xaxis\":{\"gridcolor\":\"#E1E5ED\",\"showgrid\":true,\"tickfont\":{\"color\":\"#4D5663\"},\"title\":{\"font\":{\"color\":\"#4D5663\"},\"text\":\"\"},\"zerolinecolor\":\"#E1E5ED\"},\"xaxis2\":{\"anchor\":\"y2\",\"gridcolor\":\"#E1E5ED\",\"showgrid\":true,\"showticklabels\":false,\"tickfont\":{\"color\":\"#4D5663\"},\"title\":{\"font\":{\"color\":\"#4D5663\"},\"text\":\"\"},\"zerolinecolor\":\"#E1E5ED\"},\"yaxis\":{\"domain\":[0.3,1],\"gridcolor\":\"#E1E5ED\",\"showgrid\":true,\"tickfont\":{\"color\":\"#4D5663\"},\"title\":{\"font\":{\"color\":\"#4D5663\"},\"text\":\"\"},\"zerolinecolor\":\"#E1E5ED\"},\"yaxis2\":{\"domain\":[0,0.25],\"gridcolor\":\"#E1E5ED\",\"showgrid\":true,\"tickfont\":{\"color\":\"#4D5663\"},\"title\":{\"font\":{\"color\":\"#4D5663\"},\"text\":\"Spread\"},\"zerolinecolor\":\"#E1E5ED\"}},                        {\"showLink\": true, \"linkText\": \"Export to plot.ly\", \"plotlyServerURL\": \"https://plot.ly\", \"responsive\": true}                    ).then(function(){\n",
       "                            \n",
       "var gd = document.getElementById('e9a1b1ee-93cf-4d45-babf-84bfb4fa64c0');\n",
       "var x = new MutationObserver(function (mutations, observer) {{\n",
       "        var display = window.getComputedStyle(gd).display;\n",
       "        if (!display || display === 'none') {{\n",
       "            console.log([gd, 'removed!']);\n",
       "            Plotly.purge(gd);\n",
       "            observer.disconnect();\n",
       "        }}\n",
       "}});\n",
       "\n",
       "// Listen for the removal of the full notebook cells\n",
       "var notebookContainer = gd.closest('#notebook-container');\n",
       "if (notebookContainer) {{\n",
       "    x.observe(notebookContainer, {childList: true});\n",
       "}}\n",
       "\n",
       "// Listen for the clearing of the current output cell\n",
       "var outputEl = gd.closest('.output');\n",
       "if (outputEl) {{\n",
       "    x.observe(outputEl, {childList: true});\n",
       "}}\n",
       "\n",
       "                        })                };                });            </script>        </div>"
      ]
     },
     "metadata": {},
     "output_type": "display_data"
    }
   ],
   "source": [
    "#spread type visualization is widely used in stock data\n",
    "df1[['A','B']].iplot(kind='spread')"
   ]
  },
  {
   "cell_type": "code",
   "execution_count": 25,
   "id": "d570178d",
   "metadata": {
    "scrolled": true
   },
   "outputs": [
    {
     "data": {
      "application/vnd.plotly.v1+json": {
       "config": {
        "linkText": "Export to plot.ly",
        "plotlyServerURL": "https://plot.ly",
        "showLink": true
       },
       "data": [
        {
         "marker": {
          "color": [
           "rgb(255, 153, 51)",
           "rgb(55, 128, 191)",
           "rgb(50, 171, 96)",
           "rgb(128, 0, 128)",
           "rgb(219, 64, 82)",
           "rgb(0, 128, 128)",
           "rgb(255, 255, 51)",
           "rgb(128, 128, 0)",
           "rgb(251, 128, 114)",
           "rgb(128, 177, 211)"
          ],
          "line": {
           "width": 1.3
          },
          "size": [
           40,
           42,
           45,
           62,
           48,
           76,
           86,
           59,
           40,
           55,
           75,
           76,
           19,
           93,
           13,
           53,
           69,
           73,
           59,
           61,
           46,
           106,
           78,
           84,
           61,
           91,
           55,
           24,
           87,
           88,
           64,
           60,
           60,
           56,
           58,
           88,
           52,
           98,
           80,
           85,
           61,
           59,
           64,
           95,
           72,
           49,
           42,
           84,
           46,
           44,
           109,
           21,
           42,
           82,
           34,
           66,
           74,
           31,
           73,
           42,
           29,
           61,
           55,
           82,
           57,
           44,
           62,
           14,
           59,
           26,
           58,
           43,
           102,
           65,
           37,
           12,
           45,
           64,
           65,
           72,
           64,
           73,
           68,
           78,
           59,
           66,
           112,
           65,
           89,
           35,
           49,
           72,
           22,
           52,
           86,
           61,
           48,
           101,
           76,
           74
          ],
          "symbol": "circle"
         },
         "mode": "markers",
         "text": "",
         "type": "scatter",
         "x": [
          -1.0256496621618938,
          -0.287105672454455,
          -0.6126639634228842,
          -1.8597037893552084,
          -0.9566427708642816,
          -0.22859819369550846,
          -0.4793812465302499,
          -2.4903951825038813,
          0.6035392131290644,
          2.677096068539839,
          0.5624731248787744,
          0.6222528642358222,
          -0.8490252514473418,
          -0.548810215060859,
          -0.5441384236153484,
          -2.5149406977090956,
          -0.3333675628721594,
          -1.245999584290874,
          -0.7903534761881433,
          1.5942982357052238,
          -1.5430176620588751,
          -0.13089543216082566,
          0.6700435896476531,
          -0.6069714026860633,
          1.2123405058155519,
          0.3749006858232452,
          -0.009946020164863893,
          1.5073145491676003,
          0.5699235250463723,
          0.7398952783904557,
          -1.1036200331677495,
          -0.29057344258650386,
          -1.7712973637365244,
          -0.389337166193235,
          0.3602812720007109,
          1.2395176372632817,
          -0.15738519218783073,
          -0.5722716346763621,
          0.07426592847210023,
          0.5334310013393081,
          1.006867506307998,
          -0.7966987716444317,
          -0.6176020520570332,
          -0.13744267022751766,
          0.7863067739194248,
          -1.194862481983797,
          -0.769640861846518,
          -2.122468731579507,
          -0.7632481255170883,
          -1.1025826503717449,
          -1.4045051468002292,
          0.8961136540172652,
          -1.0710974125608013,
          0.15498772074028588,
          1.4859884020677092,
          -0.577619136840705,
          1.0070183885795967,
          0.5852939462271314,
          0.8324944714535736,
          -0.5978250831419247,
          -1.178038718496559,
          3.5635564719893926,
          0.2949200815314698,
          -0.4067784379393906,
          1.787379881681812,
          -0.6804979122610798,
          1.0624202313096711,
          0.30189649555208004,
          -1.3803836409834225,
          1.8851095843009085,
          -0.25984318725201777,
          2.5727962929003705,
          -1.0745228643283593,
          0.24764449226937535,
          0.6818166884272487,
          -0.02858693606250979,
          0.38039070767124006,
          -0.4321678825504317,
          -1.3169608985732824,
          1.0446582585781277,
          1.8480262263356928,
          -0.4532527549832854,
          0.2706580650625444,
          -0.22665173044390874,
          0.05181115815723766,
          -0.5417283794399212,
          1.1166506320083285,
          -0.14254506526142394,
          0.8459633017895346,
          -2.5397751668382043,
          -0.5552784592316042,
          -0.4822945755268403,
          0.12701578635685654,
          0.7148797761841683,
          -2.038555956140452,
          -1.994346917296289,
          2.630091203316942,
          -1.303775711537322,
          -1.1227860545476014,
          0.6671696461846212
         ],
         "y": [
          -0.08520702370665945,
          -0.5428353896137872,
          -0.9229682894210636,
          -1.1373838493074757,
          -0.59974338941446,
          -0.6226775282171854,
          -0.6909488674104681,
          -0.6429884712883694,
          -0.763829818415618,
          1.9126612513514099,
          0.5051946942444656,
          1.1534796814020114,
          -1.4973541967185586,
          -1.1603641595539111,
          1.2089092230741885,
          -1.2866488766091513,
          0.6253039088147416,
          0.09943432806814738,
          -1.81878967090492,
          0.45454932869301284,
          -1.0661959002998078,
          -0.45226231295844893,
          0.502073890766179,
          1.360000850818429,
          1.576199232879038,
          -0.991354458568695,
          -0.41864922052129755,
          -0.27693294224574005,
          -1.4369765922877695,
          -0.4564622304795268,
          -0.543033343656325,
          -0.796411024933017,
          -0.6674501440461106,
          -0.4083371687249216,
          -0.9477198563372072,
          0.17176129717986716,
          0.4348243846709589,
          0.29771223214238673,
          0.26427765803321684,
          -0.8363995101281714,
          0.8823759134303497,
          0.905607194137671,
          -0.5565870945944663,
          -0.41972347347737227,
          -1.9249329386407084,
          0.6295212818429051,
          0.8028696678842703,
          -0.9588753331328411,
          -2.0406461185745655,
          0.5798060382596439,
          -0.7415515925609483,
          -0.25876903380250166,
          2.182261418702065,
          1.0229115282733865,
          1.294722395518006,
          0.3884114484562883,
          -2.2263153739917003,
          -0.6268318814354596,
          -1.6025381888476122,
          -1.0045768452368167,
          -1.157463102824297,
          -0.5838177334890376,
          0.32452522809203876,
          -0.7419037873420108,
          0.8579172439573104,
          -1.5878134298301179,
          -0.21031196661969556,
          0.5675315039804291,
          -0.3621359496459766,
          0.32448366104306103,
          0.19420872288635715,
          -2.597531208936153,
          0.04676148891109547,
          -0.17483040082085477,
          -0.2621860092876313,
          -1.045483666627226,
          0.050234493136657045,
          -0.05791781576786074,
          0.513050713788694,
          -1.6255212702788666,
          -1.5156077636707201,
          -1.9785169493256909,
          -1.9490945331143803,
          -1.0806817557769284,
          1.6839128089017628,
          0.6076703250867478,
          -0.9721863273679423,
          0.6347401000811329,
          1.1733829018513646,
          2.481087579855182,
          0.7055191896422903,
          -1.0860434878294678,
          1.5917538490464633,
          0.257385934981979,
          -1.9815757748839793,
          -0.2840951440640914,
          -1.295585170698604,
          -0.3272390968001948,
          -0.7705741622343572,
          -0.12028512029356135
         ]
        }
       ],
       "layout": {
        "legend": {
         "bgcolor": "#F5F6F9",
         "font": {
          "color": "#4D5663"
         }
        },
        "paper_bgcolor": "#F5F6F9",
        "plot_bgcolor": "#F5F6F9",
        "template": {
         "data": {
          "bar": [
           {
            "error_x": {
             "color": "#2a3f5f"
            },
            "error_y": {
             "color": "#2a3f5f"
            },
            "marker": {
             "line": {
              "color": "#E5ECF6",
              "width": 0.5
             },
             "pattern": {
              "fillmode": "overlay",
              "size": 10,
              "solidity": 0.2
             }
            },
            "type": "bar"
           }
          ],
          "barpolar": [
           {
            "marker": {
             "line": {
              "color": "#E5ECF6",
              "width": 0.5
             },
             "pattern": {
              "fillmode": "overlay",
              "size": 10,
              "solidity": 0.2
             }
            },
            "type": "barpolar"
           }
          ],
          "carpet": [
           {
            "aaxis": {
             "endlinecolor": "#2a3f5f",
             "gridcolor": "white",
             "linecolor": "white",
             "minorgridcolor": "white",
             "startlinecolor": "#2a3f5f"
            },
            "baxis": {
             "endlinecolor": "#2a3f5f",
             "gridcolor": "white",
             "linecolor": "white",
             "minorgridcolor": "white",
             "startlinecolor": "#2a3f5f"
            },
            "type": "carpet"
           }
          ],
          "choropleth": [
           {
            "colorbar": {
             "outlinewidth": 0,
             "ticks": ""
            },
            "type": "choropleth"
           }
          ],
          "contour": [
           {
            "colorbar": {
             "outlinewidth": 0,
             "ticks": ""
            },
            "colorscale": [
             [
              0,
              "#0d0887"
             ],
             [
              0.1111111111111111,
              "#46039f"
             ],
             [
              0.2222222222222222,
              "#7201a8"
             ],
             [
              0.3333333333333333,
              "#9c179e"
             ],
             [
              0.4444444444444444,
              "#bd3786"
             ],
             [
              0.5555555555555556,
              "#d8576b"
             ],
             [
              0.6666666666666666,
              "#ed7953"
             ],
             [
              0.7777777777777778,
              "#fb9f3a"
             ],
             [
              0.8888888888888888,
              "#fdca26"
             ],
             [
              1,
              "#f0f921"
             ]
            ],
            "type": "contour"
           }
          ],
          "contourcarpet": [
           {
            "colorbar": {
             "outlinewidth": 0,
             "ticks": ""
            },
            "type": "contourcarpet"
           }
          ],
          "heatmap": [
           {
            "colorbar": {
             "outlinewidth": 0,
             "ticks": ""
            },
            "colorscale": [
             [
              0,
              "#0d0887"
             ],
             [
              0.1111111111111111,
              "#46039f"
             ],
             [
              0.2222222222222222,
              "#7201a8"
             ],
             [
              0.3333333333333333,
              "#9c179e"
             ],
             [
              0.4444444444444444,
              "#bd3786"
             ],
             [
              0.5555555555555556,
              "#d8576b"
             ],
             [
              0.6666666666666666,
              "#ed7953"
             ],
             [
              0.7777777777777778,
              "#fb9f3a"
             ],
             [
              0.8888888888888888,
              "#fdca26"
             ],
             [
              1,
              "#f0f921"
             ]
            ],
            "type": "heatmap"
           }
          ],
          "heatmapgl": [
           {
            "colorbar": {
             "outlinewidth": 0,
             "ticks": ""
            },
            "colorscale": [
             [
              0,
              "#0d0887"
             ],
             [
              0.1111111111111111,
              "#46039f"
             ],
             [
              0.2222222222222222,
              "#7201a8"
             ],
             [
              0.3333333333333333,
              "#9c179e"
             ],
             [
              0.4444444444444444,
              "#bd3786"
             ],
             [
              0.5555555555555556,
              "#d8576b"
             ],
             [
              0.6666666666666666,
              "#ed7953"
             ],
             [
              0.7777777777777778,
              "#fb9f3a"
             ],
             [
              0.8888888888888888,
              "#fdca26"
             ],
             [
              1,
              "#f0f921"
             ]
            ],
            "type": "heatmapgl"
           }
          ],
          "histogram": [
           {
            "marker": {
             "pattern": {
              "fillmode": "overlay",
              "size": 10,
              "solidity": 0.2
             }
            },
            "type": "histogram"
           }
          ],
          "histogram2d": [
           {
            "colorbar": {
             "outlinewidth": 0,
             "ticks": ""
            },
            "colorscale": [
             [
              0,
              "#0d0887"
             ],
             [
              0.1111111111111111,
              "#46039f"
             ],
             [
              0.2222222222222222,
              "#7201a8"
             ],
             [
              0.3333333333333333,
              "#9c179e"
             ],
             [
              0.4444444444444444,
              "#bd3786"
             ],
             [
              0.5555555555555556,
              "#d8576b"
             ],
             [
              0.6666666666666666,
              "#ed7953"
             ],
             [
              0.7777777777777778,
              "#fb9f3a"
             ],
             [
              0.8888888888888888,
              "#fdca26"
             ],
             [
              1,
              "#f0f921"
             ]
            ],
            "type": "histogram2d"
           }
          ],
          "histogram2dcontour": [
           {
            "colorbar": {
             "outlinewidth": 0,
             "ticks": ""
            },
            "colorscale": [
             [
              0,
              "#0d0887"
             ],
             [
              0.1111111111111111,
              "#46039f"
             ],
             [
              0.2222222222222222,
              "#7201a8"
             ],
             [
              0.3333333333333333,
              "#9c179e"
             ],
             [
              0.4444444444444444,
              "#bd3786"
             ],
             [
              0.5555555555555556,
              "#d8576b"
             ],
             [
              0.6666666666666666,
              "#ed7953"
             ],
             [
              0.7777777777777778,
              "#fb9f3a"
             ],
             [
              0.8888888888888888,
              "#fdca26"
             ],
             [
              1,
              "#f0f921"
             ]
            ],
            "type": "histogram2dcontour"
           }
          ],
          "mesh3d": [
           {
            "colorbar": {
             "outlinewidth": 0,
             "ticks": ""
            },
            "type": "mesh3d"
           }
          ],
          "parcoords": [
           {
            "line": {
             "colorbar": {
              "outlinewidth": 0,
              "ticks": ""
             }
            },
            "type": "parcoords"
           }
          ],
          "pie": [
           {
            "automargin": true,
            "type": "pie"
           }
          ],
          "scatter": [
           {
            "marker": {
             "colorbar": {
              "outlinewidth": 0,
              "ticks": ""
             }
            },
            "type": "scatter"
           }
          ],
          "scatter3d": [
           {
            "line": {
             "colorbar": {
              "outlinewidth": 0,
              "ticks": ""
             }
            },
            "marker": {
             "colorbar": {
              "outlinewidth": 0,
              "ticks": ""
             }
            },
            "type": "scatter3d"
           }
          ],
          "scattercarpet": [
           {
            "marker": {
             "colorbar": {
              "outlinewidth": 0,
              "ticks": ""
             }
            },
            "type": "scattercarpet"
           }
          ],
          "scattergeo": [
           {
            "marker": {
             "colorbar": {
              "outlinewidth": 0,
              "ticks": ""
             }
            },
            "type": "scattergeo"
           }
          ],
          "scattergl": [
           {
            "marker": {
             "colorbar": {
              "outlinewidth": 0,
              "ticks": ""
             }
            },
            "type": "scattergl"
           }
          ],
          "scattermapbox": [
           {
            "marker": {
             "colorbar": {
              "outlinewidth": 0,
              "ticks": ""
             }
            },
            "type": "scattermapbox"
           }
          ],
          "scatterpolar": [
           {
            "marker": {
             "colorbar": {
              "outlinewidth": 0,
              "ticks": ""
             }
            },
            "type": "scatterpolar"
           }
          ],
          "scatterpolargl": [
           {
            "marker": {
             "colorbar": {
              "outlinewidth": 0,
              "ticks": ""
             }
            },
            "type": "scatterpolargl"
           }
          ],
          "scatterternary": [
           {
            "marker": {
             "colorbar": {
              "outlinewidth": 0,
              "ticks": ""
             }
            },
            "type": "scatterternary"
           }
          ],
          "surface": [
           {
            "colorbar": {
             "outlinewidth": 0,
             "ticks": ""
            },
            "colorscale": [
             [
              0,
              "#0d0887"
             ],
             [
              0.1111111111111111,
              "#46039f"
             ],
             [
              0.2222222222222222,
              "#7201a8"
             ],
             [
              0.3333333333333333,
              "#9c179e"
             ],
             [
              0.4444444444444444,
              "#bd3786"
             ],
             [
              0.5555555555555556,
              "#d8576b"
             ],
             [
              0.6666666666666666,
              "#ed7953"
             ],
             [
              0.7777777777777778,
              "#fb9f3a"
             ],
             [
              0.8888888888888888,
              "#fdca26"
             ],
             [
              1,
              "#f0f921"
             ]
            ],
            "type": "surface"
           }
          ],
          "table": [
           {
            "cells": {
             "fill": {
              "color": "#EBF0F8"
             },
             "line": {
              "color": "white"
             }
            },
            "header": {
             "fill": {
              "color": "#C8D4E3"
             },
             "line": {
              "color": "white"
             }
            },
            "type": "table"
           }
          ]
         },
         "layout": {
          "annotationdefaults": {
           "arrowcolor": "#2a3f5f",
           "arrowhead": 0,
           "arrowwidth": 1
          },
          "autotypenumbers": "strict",
          "coloraxis": {
           "colorbar": {
            "outlinewidth": 0,
            "ticks": ""
           }
          },
          "colorscale": {
           "diverging": [
            [
             0,
             "#8e0152"
            ],
            [
             0.1,
             "#c51b7d"
            ],
            [
             0.2,
             "#de77ae"
            ],
            [
             0.3,
             "#f1b6da"
            ],
            [
             0.4,
             "#fde0ef"
            ],
            [
             0.5,
             "#f7f7f7"
            ],
            [
             0.6,
             "#e6f5d0"
            ],
            [
             0.7,
             "#b8e186"
            ],
            [
             0.8,
             "#7fbc41"
            ],
            [
             0.9,
             "#4d9221"
            ],
            [
             1,
             "#276419"
            ]
           ],
           "sequential": [
            [
             0,
             "#0d0887"
            ],
            [
             0.1111111111111111,
             "#46039f"
            ],
            [
             0.2222222222222222,
             "#7201a8"
            ],
            [
             0.3333333333333333,
             "#9c179e"
            ],
            [
             0.4444444444444444,
             "#bd3786"
            ],
            [
             0.5555555555555556,
             "#d8576b"
            ],
            [
             0.6666666666666666,
             "#ed7953"
            ],
            [
             0.7777777777777778,
             "#fb9f3a"
            ],
            [
             0.8888888888888888,
             "#fdca26"
            ],
            [
             1,
             "#f0f921"
            ]
           ],
           "sequentialminus": [
            [
             0,
             "#0d0887"
            ],
            [
             0.1111111111111111,
             "#46039f"
            ],
            [
             0.2222222222222222,
             "#7201a8"
            ],
            [
             0.3333333333333333,
             "#9c179e"
            ],
            [
             0.4444444444444444,
             "#bd3786"
            ],
            [
             0.5555555555555556,
             "#d8576b"
            ],
            [
             0.6666666666666666,
             "#ed7953"
            ],
            [
             0.7777777777777778,
             "#fb9f3a"
            ],
            [
             0.8888888888888888,
             "#fdca26"
            ],
            [
             1,
             "#f0f921"
            ]
           ]
          },
          "colorway": [
           "#636efa",
           "#EF553B",
           "#00cc96",
           "#ab63fa",
           "#FFA15A",
           "#19d3f3",
           "#FF6692",
           "#B6E880",
           "#FF97FF",
           "#FECB52"
          ],
          "font": {
           "color": "#2a3f5f"
          },
          "geo": {
           "bgcolor": "white",
           "lakecolor": "white",
           "landcolor": "#E5ECF6",
           "showlakes": true,
           "showland": true,
           "subunitcolor": "white"
          },
          "hoverlabel": {
           "align": "left"
          },
          "hovermode": "closest",
          "mapbox": {
           "style": "light"
          },
          "paper_bgcolor": "white",
          "plot_bgcolor": "#E5ECF6",
          "polar": {
           "angularaxis": {
            "gridcolor": "white",
            "linecolor": "white",
            "ticks": ""
           },
           "bgcolor": "#E5ECF6",
           "radialaxis": {
            "gridcolor": "white",
            "linecolor": "white",
            "ticks": ""
           }
          },
          "scene": {
           "xaxis": {
            "backgroundcolor": "#E5ECF6",
            "gridcolor": "white",
            "gridwidth": 2,
            "linecolor": "white",
            "showbackground": true,
            "ticks": "",
            "zerolinecolor": "white"
           },
           "yaxis": {
            "backgroundcolor": "#E5ECF6",
            "gridcolor": "white",
            "gridwidth": 2,
            "linecolor": "white",
            "showbackground": true,
            "ticks": "",
            "zerolinecolor": "white"
           },
           "zaxis": {
            "backgroundcolor": "#E5ECF6",
            "gridcolor": "white",
            "gridwidth": 2,
            "linecolor": "white",
            "showbackground": true,
            "ticks": "",
            "zerolinecolor": "white"
           }
          },
          "shapedefaults": {
           "line": {
            "color": "#2a3f5f"
           }
          },
          "ternary": {
           "aaxis": {
            "gridcolor": "white",
            "linecolor": "white",
            "ticks": ""
           },
           "baxis": {
            "gridcolor": "white",
            "linecolor": "white",
            "ticks": ""
           },
           "bgcolor": "#E5ECF6",
           "caxis": {
            "gridcolor": "white",
            "linecolor": "white",
            "ticks": ""
           }
          },
          "title": {
           "x": 0.05
          },
          "xaxis": {
           "automargin": true,
           "gridcolor": "white",
           "linecolor": "white",
           "ticks": "",
           "title": {
            "standoff": 15
           },
           "zerolinecolor": "white",
           "zerolinewidth": 2
          },
          "yaxis": {
           "automargin": true,
           "gridcolor": "white",
           "linecolor": "white",
           "ticks": "",
           "title": {
            "standoff": 15
           },
           "zerolinecolor": "white",
           "zerolinewidth": 2
          }
         }
        },
        "title": {
         "font": {
          "color": "#4D5663"
         }
        },
        "xaxis": {
         "gridcolor": "#E1E5ED",
         "showgrid": true,
         "tickfont": {
          "color": "#4D5663"
         },
         "title": {
          "font": {
           "color": "#4D5663"
          },
          "text": ""
         },
         "zerolinecolor": "#E1E5ED"
        },
        "yaxis": {
         "gridcolor": "#E1E5ED",
         "showgrid": true,
         "tickfont": {
          "color": "#4D5663"
         },
         "title": {
          "font": {
           "color": "#4D5663"
          },
          "text": ""
         },
         "zerolinecolor": "#E1E5ED"
        }
       }
      },
      "text/html": [
       "<div>                            <div id=\"8b20f4c6-223b-40a1-bead-375f844e789a\" class=\"plotly-graph-div\" style=\"height:525px; width:100%;\"></div>            <script type=\"text/javascript\">                require([\"plotly\"], function(Plotly) {                    window.PLOTLYENV=window.PLOTLYENV || {};\n",
       "                    window.PLOTLYENV.BASE_URL='https://plot.ly';                                    if (document.getElementById(\"8b20f4c6-223b-40a1-bead-375f844e789a\")) {                    Plotly.newPlot(                        \"8b20f4c6-223b-40a1-bead-375f844e789a\",                        [{\"marker\":{\"color\":[\"rgb(255, 153, 51)\",\"rgb(55, 128, 191)\",\"rgb(50, 171, 96)\",\"rgb(128, 0, 128)\",\"rgb(219, 64, 82)\",\"rgb(0, 128, 128)\",\"rgb(255, 255, 51)\",\"rgb(128, 128, 0)\",\"rgb(251, 128, 114)\",\"rgb(128, 177, 211)\"],\"line\":{\"width\":1.3},\"size\":[40,42,45,62,48,76,86,59,40,55,75,76,19,93,13,53,69,73,59,61,46,106,78,84,61,91,55,24,87,88,64,60,60,56,58,88,52,98,80,85,61,59,64,95,72,49,42,84,46,44,109,21,42,82,34,66,74,31,73,42,29,61,55,82,57,44,62,14,59,26,58,43,102,65,37,12,45,64,65,72,64,73,68,78,59,66,112,65,89,35,49,72,22,52,86,61,48,101,76,74],\"symbol\":\"circle\"},\"mode\":\"markers\",\"text\":\"\",\"type\":\"scatter\",\"x\":[-1.0256496621618938,-0.287105672454455,-0.6126639634228842,-1.8597037893552084,-0.9566427708642816,-0.22859819369550846,-0.4793812465302499,-2.4903951825038813,0.6035392131290644,2.677096068539839,0.5624731248787744,0.6222528642358222,-0.8490252514473418,-0.548810215060859,-0.5441384236153484,-2.5149406977090956,-0.3333675628721594,-1.245999584290874,-0.7903534761881433,1.5942982357052238,-1.5430176620588751,-0.13089543216082566,0.6700435896476531,-0.6069714026860633,1.2123405058155519,0.3749006858232452,-0.009946020164863893,1.5073145491676003,0.5699235250463723,0.7398952783904557,-1.1036200331677495,-0.29057344258650386,-1.7712973637365244,-0.389337166193235,0.3602812720007109,1.2395176372632817,-0.15738519218783073,-0.5722716346763621,0.07426592847210023,0.5334310013393081,1.006867506307998,-0.7966987716444317,-0.6176020520570332,-0.13744267022751766,0.7863067739194248,-1.194862481983797,-0.769640861846518,-2.122468731579507,-0.7632481255170883,-1.1025826503717449,-1.4045051468002292,0.8961136540172652,-1.0710974125608013,0.15498772074028588,1.4859884020677092,-0.577619136840705,1.0070183885795967,0.5852939462271314,0.8324944714535736,-0.5978250831419247,-1.178038718496559,3.5635564719893926,0.2949200815314698,-0.4067784379393906,1.787379881681812,-0.6804979122610798,1.0624202313096711,0.30189649555208004,-1.3803836409834225,1.8851095843009085,-0.25984318725201777,2.5727962929003705,-1.0745228643283593,0.24764449226937535,0.6818166884272487,-0.02858693606250979,0.38039070767124006,-0.4321678825504317,-1.3169608985732824,1.0446582585781277,1.8480262263356928,-0.4532527549832854,0.2706580650625444,-0.22665173044390874,0.05181115815723766,-0.5417283794399212,1.1166506320083285,-0.14254506526142394,0.8459633017895346,-2.5397751668382043,-0.5552784592316042,-0.4822945755268403,0.12701578635685654,0.7148797761841683,-2.038555956140452,-1.994346917296289,2.630091203316942,-1.303775711537322,-1.1227860545476014,0.6671696461846212],\"y\":[-0.08520702370665945,-0.5428353896137872,-0.9229682894210636,-1.1373838493074757,-0.59974338941446,-0.6226775282171854,-0.6909488674104681,-0.6429884712883694,-0.763829818415618,1.9126612513514099,0.5051946942444656,1.1534796814020114,-1.4973541967185586,-1.1603641595539111,1.2089092230741885,-1.2866488766091513,0.6253039088147416,0.09943432806814738,-1.81878967090492,0.45454932869301284,-1.0661959002998078,-0.45226231295844893,0.502073890766179,1.360000850818429,1.576199232879038,-0.991354458568695,-0.41864922052129755,-0.27693294224574005,-1.4369765922877695,-0.4564622304795268,-0.543033343656325,-0.796411024933017,-0.6674501440461106,-0.4083371687249216,-0.9477198563372072,0.17176129717986716,0.4348243846709589,0.29771223214238673,0.26427765803321684,-0.8363995101281714,0.8823759134303497,0.905607194137671,-0.5565870945944663,-0.41972347347737227,-1.9249329386407084,0.6295212818429051,0.8028696678842703,-0.9588753331328411,-2.0406461185745655,0.5798060382596439,-0.7415515925609483,-0.25876903380250166,2.182261418702065,1.0229115282733865,1.294722395518006,0.3884114484562883,-2.2263153739917003,-0.6268318814354596,-1.6025381888476122,-1.0045768452368167,-1.157463102824297,-0.5838177334890376,0.32452522809203876,-0.7419037873420108,0.8579172439573104,-1.5878134298301179,-0.21031196661969556,0.5675315039804291,-0.3621359496459766,0.32448366104306103,0.19420872288635715,-2.597531208936153,0.04676148891109547,-0.17483040082085477,-0.2621860092876313,-1.045483666627226,0.050234493136657045,-0.05791781576786074,0.513050713788694,-1.6255212702788666,-1.5156077636707201,-1.9785169493256909,-1.9490945331143803,-1.0806817557769284,1.6839128089017628,0.6076703250867478,-0.9721863273679423,0.6347401000811329,1.1733829018513646,2.481087579855182,0.7055191896422903,-1.0860434878294678,1.5917538490464633,0.257385934981979,-1.9815757748839793,-0.2840951440640914,-1.295585170698604,-0.3272390968001948,-0.7705741622343572,-0.12028512029356135]}],                        {\"legend\":{\"bgcolor\":\"#F5F6F9\",\"font\":{\"color\":\"#4D5663\"}},\"paper_bgcolor\":\"#F5F6F9\",\"plot_bgcolor\":\"#F5F6F9\",\"template\":{\"data\":{\"bar\":[{\"error_x\":{\"color\":\"#2a3f5f\"},\"error_y\":{\"color\":\"#2a3f5f\"},\"marker\":{\"line\":{\"color\":\"#E5ECF6\",\"width\":0.5},\"pattern\":{\"fillmode\":\"overlay\",\"size\":10,\"solidity\":0.2}},\"type\":\"bar\"}],\"barpolar\":[{\"marker\":{\"line\":{\"color\":\"#E5ECF6\",\"width\":0.5},\"pattern\":{\"fillmode\":\"overlay\",\"size\":10,\"solidity\":0.2}},\"type\":\"barpolar\"}],\"carpet\":[{\"aaxis\":{\"endlinecolor\":\"#2a3f5f\",\"gridcolor\":\"white\",\"linecolor\":\"white\",\"minorgridcolor\":\"white\",\"startlinecolor\":\"#2a3f5f\"},\"baxis\":{\"endlinecolor\":\"#2a3f5f\",\"gridcolor\":\"white\",\"linecolor\":\"white\",\"minorgridcolor\":\"white\",\"startlinecolor\":\"#2a3f5f\"},\"type\":\"carpet\"}],\"choropleth\":[{\"colorbar\":{\"outlinewidth\":0,\"ticks\":\"\"},\"type\":\"choropleth\"}],\"contour\":[{\"colorbar\":{\"outlinewidth\":0,\"ticks\":\"\"},\"colorscale\":[[0.0,\"#0d0887\"],[0.1111111111111111,\"#46039f\"],[0.2222222222222222,\"#7201a8\"],[0.3333333333333333,\"#9c179e\"],[0.4444444444444444,\"#bd3786\"],[0.5555555555555556,\"#d8576b\"],[0.6666666666666666,\"#ed7953\"],[0.7777777777777778,\"#fb9f3a\"],[0.8888888888888888,\"#fdca26\"],[1.0,\"#f0f921\"]],\"type\":\"contour\"}],\"contourcarpet\":[{\"colorbar\":{\"outlinewidth\":0,\"ticks\":\"\"},\"type\":\"contourcarpet\"}],\"heatmap\":[{\"colorbar\":{\"outlinewidth\":0,\"ticks\":\"\"},\"colorscale\":[[0.0,\"#0d0887\"],[0.1111111111111111,\"#46039f\"],[0.2222222222222222,\"#7201a8\"],[0.3333333333333333,\"#9c179e\"],[0.4444444444444444,\"#bd3786\"],[0.5555555555555556,\"#d8576b\"],[0.6666666666666666,\"#ed7953\"],[0.7777777777777778,\"#fb9f3a\"],[0.8888888888888888,\"#fdca26\"],[1.0,\"#f0f921\"]],\"type\":\"heatmap\"}],\"heatmapgl\":[{\"colorbar\":{\"outlinewidth\":0,\"ticks\":\"\"},\"colorscale\":[[0.0,\"#0d0887\"],[0.1111111111111111,\"#46039f\"],[0.2222222222222222,\"#7201a8\"],[0.3333333333333333,\"#9c179e\"],[0.4444444444444444,\"#bd3786\"],[0.5555555555555556,\"#d8576b\"],[0.6666666666666666,\"#ed7953\"],[0.7777777777777778,\"#fb9f3a\"],[0.8888888888888888,\"#fdca26\"],[1.0,\"#f0f921\"]],\"type\":\"heatmapgl\"}],\"histogram\":[{\"marker\":{\"pattern\":{\"fillmode\":\"overlay\",\"size\":10,\"solidity\":0.2}},\"type\":\"histogram\"}],\"histogram2d\":[{\"colorbar\":{\"outlinewidth\":0,\"ticks\":\"\"},\"colorscale\":[[0.0,\"#0d0887\"],[0.1111111111111111,\"#46039f\"],[0.2222222222222222,\"#7201a8\"],[0.3333333333333333,\"#9c179e\"],[0.4444444444444444,\"#bd3786\"],[0.5555555555555556,\"#d8576b\"],[0.6666666666666666,\"#ed7953\"],[0.7777777777777778,\"#fb9f3a\"],[0.8888888888888888,\"#fdca26\"],[1.0,\"#f0f921\"]],\"type\":\"histogram2d\"}],\"histogram2dcontour\":[{\"colorbar\":{\"outlinewidth\":0,\"ticks\":\"\"},\"colorscale\":[[0.0,\"#0d0887\"],[0.1111111111111111,\"#46039f\"],[0.2222222222222222,\"#7201a8\"],[0.3333333333333333,\"#9c179e\"],[0.4444444444444444,\"#bd3786\"],[0.5555555555555556,\"#d8576b\"],[0.6666666666666666,\"#ed7953\"],[0.7777777777777778,\"#fb9f3a\"],[0.8888888888888888,\"#fdca26\"],[1.0,\"#f0f921\"]],\"type\":\"histogram2dcontour\"}],\"mesh3d\":[{\"colorbar\":{\"outlinewidth\":0,\"ticks\":\"\"},\"type\":\"mesh3d\"}],\"parcoords\":[{\"line\":{\"colorbar\":{\"outlinewidth\":0,\"ticks\":\"\"}},\"type\":\"parcoords\"}],\"pie\":[{\"automargin\":true,\"type\":\"pie\"}],\"scatter\":[{\"marker\":{\"colorbar\":{\"outlinewidth\":0,\"ticks\":\"\"}},\"type\":\"scatter\"}],\"scatter3d\":[{\"line\":{\"colorbar\":{\"outlinewidth\":0,\"ticks\":\"\"}},\"marker\":{\"colorbar\":{\"outlinewidth\":0,\"ticks\":\"\"}},\"type\":\"scatter3d\"}],\"scattercarpet\":[{\"marker\":{\"colorbar\":{\"outlinewidth\":0,\"ticks\":\"\"}},\"type\":\"scattercarpet\"}],\"scattergeo\":[{\"marker\":{\"colorbar\":{\"outlinewidth\":0,\"ticks\":\"\"}},\"type\":\"scattergeo\"}],\"scattergl\":[{\"marker\":{\"colorbar\":{\"outlinewidth\":0,\"ticks\":\"\"}},\"type\":\"scattergl\"}],\"scattermapbox\":[{\"marker\":{\"colorbar\":{\"outlinewidth\":0,\"ticks\":\"\"}},\"type\":\"scattermapbox\"}],\"scatterpolar\":[{\"marker\":{\"colorbar\":{\"outlinewidth\":0,\"ticks\":\"\"}},\"type\":\"scatterpolar\"}],\"scatterpolargl\":[{\"marker\":{\"colorbar\":{\"outlinewidth\":0,\"ticks\":\"\"}},\"type\":\"scatterpolargl\"}],\"scatterternary\":[{\"marker\":{\"colorbar\":{\"outlinewidth\":0,\"ticks\":\"\"}},\"type\":\"scatterternary\"}],\"surface\":[{\"colorbar\":{\"outlinewidth\":0,\"ticks\":\"\"},\"colorscale\":[[0.0,\"#0d0887\"],[0.1111111111111111,\"#46039f\"],[0.2222222222222222,\"#7201a8\"],[0.3333333333333333,\"#9c179e\"],[0.4444444444444444,\"#bd3786\"],[0.5555555555555556,\"#d8576b\"],[0.6666666666666666,\"#ed7953\"],[0.7777777777777778,\"#fb9f3a\"],[0.8888888888888888,\"#fdca26\"],[1.0,\"#f0f921\"]],\"type\":\"surface\"}],\"table\":[{\"cells\":{\"fill\":{\"color\":\"#EBF0F8\"},\"line\":{\"color\":\"white\"}},\"header\":{\"fill\":{\"color\":\"#C8D4E3\"},\"line\":{\"color\":\"white\"}},\"type\":\"table\"}]},\"layout\":{\"annotationdefaults\":{\"arrowcolor\":\"#2a3f5f\",\"arrowhead\":0,\"arrowwidth\":1},\"autotypenumbers\":\"strict\",\"coloraxis\":{\"colorbar\":{\"outlinewidth\":0,\"ticks\":\"\"}},\"colorscale\":{\"diverging\":[[0,\"#8e0152\"],[0.1,\"#c51b7d\"],[0.2,\"#de77ae\"],[0.3,\"#f1b6da\"],[0.4,\"#fde0ef\"],[0.5,\"#f7f7f7\"],[0.6,\"#e6f5d0\"],[0.7,\"#b8e186\"],[0.8,\"#7fbc41\"],[0.9,\"#4d9221\"],[1,\"#276419\"]],\"sequential\":[[0.0,\"#0d0887\"],[0.1111111111111111,\"#46039f\"],[0.2222222222222222,\"#7201a8\"],[0.3333333333333333,\"#9c179e\"],[0.4444444444444444,\"#bd3786\"],[0.5555555555555556,\"#d8576b\"],[0.6666666666666666,\"#ed7953\"],[0.7777777777777778,\"#fb9f3a\"],[0.8888888888888888,\"#fdca26\"],[1.0,\"#f0f921\"]],\"sequentialminus\":[[0.0,\"#0d0887\"],[0.1111111111111111,\"#46039f\"],[0.2222222222222222,\"#7201a8\"],[0.3333333333333333,\"#9c179e\"],[0.4444444444444444,\"#bd3786\"],[0.5555555555555556,\"#d8576b\"],[0.6666666666666666,\"#ed7953\"],[0.7777777777777778,\"#fb9f3a\"],[0.8888888888888888,\"#fdca26\"],[1.0,\"#f0f921\"]]},\"colorway\":[\"#636efa\",\"#EF553B\",\"#00cc96\",\"#ab63fa\",\"#FFA15A\",\"#19d3f3\",\"#FF6692\",\"#B6E880\",\"#FF97FF\",\"#FECB52\"],\"font\":{\"color\":\"#2a3f5f\"},\"geo\":{\"bgcolor\":\"white\",\"lakecolor\":\"white\",\"landcolor\":\"#E5ECF6\",\"showlakes\":true,\"showland\":true,\"subunitcolor\":\"white\"},\"hoverlabel\":{\"align\":\"left\"},\"hovermode\":\"closest\",\"mapbox\":{\"style\":\"light\"},\"paper_bgcolor\":\"white\",\"plot_bgcolor\":\"#E5ECF6\",\"polar\":{\"angularaxis\":{\"gridcolor\":\"white\",\"linecolor\":\"white\",\"ticks\":\"\"},\"bgcolor\":\"#E5ECF6\",\"radialaxis\":{\"gridcolor\":\"white\",\"linecolor\":\"white\",\"ticks\":\"\"}},\"scene\":{\"xaxis\":{\"backgroundcolor\":\"#E5ECF6\",\"gridcolor\":\"white\",\"gridwidth\":2,\"linecolor\":\"white\",\"showbackground\":true,\"ticks\":\"\",\"zerolinecolor\":\"white\"},\"yaxis\":{\"backgroundcolor\":\"#E5ECF6\",\"gridcolor\":\"white\",\"gridwidth\":2,\"linecolor\":\"white\",\"showbackground\":true,\"ticks\":\"\",\"zerolinecolor\":\"white\"},\"zaxis\":{\"backgroundcolor\":\"#E5ECF6\",\"gridcolor\":\"white\",\"gridwidth\":2,\"linecolor\":\"white\",\"showbackground\":true,\"ticks\":\"\",\"zerolinecolor\":\"white\"}},\"shapedefaults\":{\"line\":{\"color\":\"#2a3f5f\"}},\"ternary\":{\"aaxis\":{\"gridcolor\":\"white\",\"linecolor\":\"white\",\"ticks\":\"\"},\"baxis\":{\"gridcolor\":\"white\",\"linecolor\":\"white\",\"ticks\":\"\"},\"bgcolor\":\"#E5ECF6\",\"caxis\":{\"gridcolor\":\"white\",\"linecolor\":\"white\",\"ticks\":\"\"}},\"title\":{\"x\":0.05},\"xaxis\":{\"automargin\":true,\"gridcolor\":\"white\",\"linecolor\":\"white\",\"ticks\":\"\",\"title\":{\"standoff\":15},\"zerolinecolor\":\"white\",\"zerolinewidth\":2},\"yaxis\":{\"automargin\":true,\"gridcolor\":\"white\",\"linecolor\":\"white\",\"ticks\":\"\",\"title\":{\"standoff\":15},\"zerolinecolor\":\"white\",\"zerolinewidth\":2}}},\"title\":{\"font\":{\"color\":\"#4D5663\"}},\"xaxis\":{\"gridcolor\":\"#E1E5ED\",\"showgrid\":true,\"tickfont\":{\"color\":\"#4D5663\"},\"title\":{\"font\":{\"color\":\"#4D5663\"},\"text\":\"\"},\"zerolinecolor\":\"#E1E5ED\"},\"yaxis\":{\"gridcolor\":\"#E1E5ED\",\"showgrid\":true,\"tickfont\":{\"color\":\"#4D5663\"},\"title\":{\"font\":{\"color\":\"#4D5663\"},\"text\":\"\"},\"zerolinecolor\":\"#E1E5ED\"}},                        {\"showLink\": true, \"linkText\": \"Export to plot.ly\", \"plotlyServerURL\": \"https://plot.ly\", \"responsive\": true}                    ).then(function(){\n",
       "                            \n",
       "var gd = document.getElementById('8b20f4c6-223b-40a1-bead-375f844e789a');\n",
       "var x = new MutationObserver(function (mutations, observer) {{\n",
       "        var display = window.getComputedStyle(gd).display;\n",
       "        if (!display || display === 'none') {{\n",
       "            console.log([gd, 'removed!']);\n",
       "            Plotly.purge(gd);\n",
       "            observer.disconnect();\n",
       "        }}\n",
       "}});\n",
       "\n",
       "// Listen for the removal of the full notebook cells\n",
       "var notebookContainer = gd.closest('#notebook-container');\n",
       "if (notebookContainer) {{\n",
       "    x.observe(notebookContainer, {childList: true});\n",
       "}}\n",
       "\n",
       "// Listen for the clearing of the current output cell\n",
       "var outputEl = gd.closest('.output');\n",
       "if (outputEl) {{\n",
       "    x.observe(outputEl, {childList: true});\n",
       "}}\n",
       "\n",
       "                        })                };                });            </script>        </div>"
      ]
     },
     "metadata": {},
     "output_type": "display_data"
    }
   ],
   "source": [
    "df1.iplot(kind='bubble',x='A',y='B',size='C') #size of the col based off anthr col"
   ]
  },
  {
   "cell_type": "code",
   "execution_count": 26,
   "id": "1b1f507c",
   "metadata": {},
   "outputs": [
    {
     "data": {
      "application/vnd.plotly.v1+json": {
       "config": {
        "linkText": "Export to plot.ly",
        "plotlyServerURL": "https://plot.ly",
        "showLink": true
       },
       "data": [
        {
         "histfunc": "count",
         "histnorm": "",
         "marker": {
          "color": "rgba(255, 153, 51, 1.0)",
          "line": {
           "color": "#4D5663",
           "width": 1.3
          }
         },
         "name": "A",
         "nbinsx": 10,
         "opacity": 0.8,
         "orientation": "v",
         "type": "histogram",
         "x": [
          -1.0256496621618938,
          -0.287105672454455,
          -0.6126639634228842,
          -1.8597037893552084,
          -0.9566427708642816,
          -0.22859819369550846,
          -0.4793812465302499,
          -2.4903951825038813,
          0.6035392131290644,
          2.677096068539839,
          0.5624731248787744,
          0.6222528642358222,
          -0.8490252514473418,
          -0.548810215060859,
          -0.5441384236153484,
          -2.5149406977090956,
          -0.3333675628721594,
          -1.245999584290874,
          -0.7903534761881433,
          1.5942982357052238,
          -1.5430176620588751,
          -0.13089543216082566,
          0.6700435896476531,
          -0.6069714026860633,
          1.2123405058155519,
          0.3749006858232452,
          -0.009946020164863893,
          1.5073145491676003,
          0.5699235250463723,
          0.7398952783904557,
          -1.1036200331677495,
          -0.29057344258650386,
          -1.7712973637365244,
          -0.389337166193235,
          0.3602812720007109,
          1.2395176372632817,
          -0.15738519218783073,
          -0.5722716346763621,
          0.07426592847210023,
          0.5334310013393081,
          1.006867506307998,
          -0.7966987716444317,
          -0.6176020520570332,
          -0.13744267022751766,
          0.7863067739194248,
          -1.194862481983797,
          -0.769640861846518,
          -2.122468731579507,
          -0.7632481255170883,
          -1.1025826503717449,
          -1.4045051468002292,
          0.8961136540172652,
          -1.0710974125608013,
          0.15498772074028588,
          1.4859884020677092,
          -0.577619136840705,
          1.0070183885795967,
          0.5852939462271314,
          0.8324944714535736,
          -0.5978250831419247,
          -1.178038718496559,
          3.5635564719893926,
          0.2949200815314698,
          -0.4067784379393906,
          1.787379881681812,
          -0.6804979122610798,
          1.0624202313096711,
          0.30189649555208004,
          -1.3803836409834225,
          1.8851095843009085,
          -0.25984318725201777,
          2.5727962929003705,
          -1.0745228643283593,
          0.24764449226937535,
          0.6818166884272487,
          -0.02858693606250979,
          0.38039070767124006,
          -0.4321678825504317,
          -1.3169608985732824,
          1.0446582585781277,
          1.8480262263356928,
          -0.4532527549832854,
          0.2706580650625444,
          -0.22665173044390874,
          0.05181115815723766,
          -0.5417283794399212,
          1.1166506320083285,
          -0.14254506526142394,
          0.8459633017895346,
          -2.5397751668382043,
          -0.5552784592316042,
          -0.4822945755268403,
          0.12701578635685654,
          0.7148797761841683,
          -2.038555956140452,
          -1.994346917296289,
          2.630091203316942,
          -1.303775711537322,
          -1.1227860545476014,
          0.6671696461846212
         ],
         "xaxis": "x",
         "yaxis": "y"
        },
        {
         "line": {
          "color": "rgba(128, 128, 128, 1.0)",
          "dash": "solid",
          "shape": "linear",
          "width": 1.3
         },
         "marker": {
          "size": 2,
          "symbol": "circle"
         },
         "mode": "markers",
         "name": "A",
         "text": "",
         "type": "scatter",
         "x": [
          -0.08520702370665945,
          -0.5428353896137872,
          -0.9229682894210636,
          -1.1373838493074757,
          -0.59974338941446,
          -0.6226775282171854,
          -0.6909488674104681,
          -0.6429884712883694,
          -0.763829818415618,
          1.9126612513514099,
          0.5051946942444656,
          1.1534796814020114,
          -1.4973541967185586,
          -1.1603641595539111,
          1.2089092230741885,
          -1.2866488766091513,
          0.6253039088147416,
          0.09943432806814738,
          -1.81878967090492,
          0.45454932869301284,
          -1.0661959002998078,
          -0.45226231295844893,
          0.502073890766179,
          1.360000850818429,
          1.576199232879038,
          -0.991354458568695,
          -0.41864922052129755,
          -0.27693294224574005,
          -1.4369765922877695,
          -0.4564622304795268,
          -0.543033343656325,
          -0.796411024933017,
          -0.6674501440461106,
          -0.4083371687249216,
          -0.9477198563372072,
          0.17176129717986716,
          0.4348243846709589,
          0.29771223214238673,
          0.26427765803321684,
          -0.8363995101281714,
          0.8823759134303497,
          0.905607194137671,
          -0.5565870945944663,
          -0.41972347347737227,
          -1.9249329386407084,
          0.6295212818429051,
          0.8028696678842703,
          -0.9588753331328411,
          -2.0406461185745655,
          0.5798060382596439,
          -0.7415515925609483,
          -0.25876903380250166,
          2.182261418702065,
          1.0229115282733865,
          1.294722395518006,
          0.3884114484562883,
          -2.2263153739917003,
          -0.6268318814354596,
          -1.6025381888476122,
          -1.0045768452368167,
          -1.157463102824297,
          -0.5838177334890376,
          0.32452522809203876,
          -0.7419037873420108,
          0.8579172439573104,
          -1.5878134298301179,
          -0.21031196661969556,
          0.5675315039804291,
          -0.3621359496459766,
          0.32448366104306103,
          0.19420872288635715,
          -2.597531208936153,
          0.04676148891109547,
          -0.17483040082085477,
          -0.2621860092876313,
          -1.045483666627226,
          0.050234493136657045,
          -0.05791781576786074,
          0.513050713788694,
          -1.6255212702788666,
          -1.5156077636707201,
          -1.9785169493256909,
          -1.9490945331143803,
          -1.0806817557769284,
          1.6839128089017628,
          0.6076703250867478,
          -0.9721863273679423,
          0.6347401000811329,
          1.1733829018513646,
          2.481087579855182,
          0.7055191896422903,
          -1.0860434878294678,
          1.5917538490464633,
          0.257385934981979,
          -1.9815757748839793,
          -0.2840951440640914,
          -1.295585170698604,
          -0.3272390968001948,
          -0.7705741622343572,
          -0.12028512029356135
         ],
         "xaxis": "x2",
         "y": [
          -1.0256496621618938,
          -0.287105672454455,
          -0.6126639634228842,
          -1.8597037893552084,
          -0.9566427708642816,
          -0.22859819369550846,
          -0.4793812465302499,
          -2.4903951825038813,
          0.6035392131290644,
          2.677096068539839,
          0.5624731248787744,
          0.6222528642358222,
          -0.8490252514473418,
          -0.548810215060859,
          -0.5441384236153484,
          -2.5149406977090956,
          -0.3333675628721594,
          -1.245999584290874,
          -0.7903534761881433,
          1.5942982357052238,
          -1.5430176620588751,
          -0.13089543216082566,
          0.6700435896476531,
          -0.6069714026860633,
          1.2123405058155519,
          0.3749006858232452,
          -0.009946020164863893,
          1.5073145491676003,
          0.5699235250463723,
          0.7398952783904557,
          -1.1036200331677495,
          -0.29057344258650386,
          -1.7712973637365244,
          -0.389337166193235,
          0.3602812720007109,
          1.2395176372632817,
          -0.15738519218783073,
          -0.5722716346763621,
          0.07426592847210023,
          0.5334310013393081,
          1.006867506307998,
          -0.7966987716444317,
          -0.6176020520570332,
          -0.13744267022751766,
          0.7863067739194248,
          -1.194862481983797,
          -0.769640861846518,
          -2.122468731579507,
          -0.7632481255170883,
          -1.1025826503717449,
          -1.4045051468002292,
          0.8961136540172652,
          -1.0710974125608013,
          0.15498772074028588,
          1.4859884020677092,
          -0.577619136840705,
          1.0070183885795967,
          0.5852939462271314,
          0.8324944714535736,
          -0.5978250831419247,
          -1.178038718496559,
          3.5635564719893926,
          0.2949200815314698,
          -0.4067784379393906,
          1.787379881681812,
          -0.6804979122610798,
          1.0624202313096711,
          0.30189649555208004,
          -1.3803836409834225,
          1.8851095843009085,
          -0.25984318725201777,
          2.5727962929003705,
          -1.0745228643283593,
          0.24764449226937535,
          0.6818166884272487,
          -0.02858693606250979,
          0.38039070767124006,
          -0.4321678825504317,
          -1.3169608985732824,
          1.0446582585781277,
          1.8480262263356928,
          -0.4532527549832854,
          0.2706580650625444,
          -0.22665173044390874,
          0.05181115815723766,
          -0.5417283794399212,
          1.1166506320083285,
          -0.14254506526142394,
          0.8459633017895346,
          -2.5397751668382043,
          -0.5552784592316042,
          -0.4822945755268403,
          0.12701578635685654,
          0.7148797761841683,
          -2.038555956140452,
          -1.994346917296289,
          2.630091203316942,
          -1.303775711537322,
          -1.1227860545476014,
          0.6671696461846212
         ],
         "yaxis": "y2"
        },
        {
         "line": {
          "color": "rgba(128, 128, 128, 1.0)",
          "dash": "solid",
          "shape": "linear",
          "width": 1.3
         },
         "marker": {
          "size": 2,
          "symbol": "circle"
         },
         "mode": "markers",
         "name": "A",
         "text": "",
         "type": "scatter",
         "x": [
          -0.8936446390927574,
          -0.7946997115803555,
          -0.6641970253019951,
          0.10854762736244102,
          -0.5419366081440622,
          0.7347620301138176,
          1.211577767882975,
          -0.0073492529509151736,
          -0.8905222782055254,
          -0.20895947355587638,
          0.7216072090728042,
          0.7471611657676913,
          -1.857883654159354,
          1.5399644795570173,
          -2.1114706039932893,
          -0.27869828127472385,
          0.4108123490013363,
          0.6287474350771571,
          -0.045922216805762375,
          0.08305344366670474,
          -0.6327668276271052,
          2.104370421985547,
          0.8505626985666442,
          1.1368432936763215,
          0.046150979735368726,
          1.4399395142187927,
          -0.2191327979192292,
          -1.6245975976546034,
          1.2380609013958852,
          1.2869929141055805,
          0.2112601112189276,
          0.03577833563509893,
          0.04228057754471103,
          -0.18367568953869837,
          -0.058366605746244,
          1.2802015661999784,
          -0.34082159165414005,
          1.7581433100657584,
          0.9283819196486757,
          1.1695835151776708,
          0.0881061999660237,
          -0.046070216802679864,
          0.21954034544068105,
          1.6054149958236246,
          0.566294282764027,
          -0.4700588447800426,
          -0.8032406492975612,
          1.1257873036720174,
          -0.6327776781173501,
          -0.7196055061238562,
          2.2772966607591485,
          -1.7662618133492722,
          -0.8105273121331076,
          1.0414951531322088,
          -1.182415864274357,
          0.2778891944531858,
          0.6477779565295866,
          -1.2850822380960962,
          0.6078843560895357,
          -0.7893747586776593,
          -1.3810269824977204,
          0.0839802250563766,
          -0.1925459641559751,
          1.0448610760472854,
          -0.100612097321845,
          -0.6921324852841738,
          0.12474494450596404,
          -2.083715006962687,
          -0.04274220643320186,
          -1.5380138820173286,
          -0.06824507522006448,
          -0.7700581617758347,
          1.9614759743524235,
          0.236116634753566,
          -1.016540617631119,
          -2.1998884013802456,
          -0.6806725937182262,
          0.2202056281997777,
          0.26057422894712556,
          0.5591908240266653,
          0.20635827973177412,
          0.6269451963000509,
          0.36804646571791055,
          0.8484665156988875,
          -0.032805402678268286,
          0.3153792895292077,
          2.376969391867502,
          0.26044305501817483,
          1.3433999859819574,
          -1.1156861979306572,
          -0.4696670754262642,
          0.5844025105384789,
          -1.7364989229986567,
          -0.34542889234682367,
          1.2216811974503263,
          0.0601899165023874,
          -0.551271019517415,
          1.9075683564065347,
          0.7417191012240812,
          0.6810854840489595
         ],
         "xaxis": "x3",
         "y": [
          -1.0256496621618938,
          -0.287105672454455,
          -0.6126639634228842,
          -1.8597037893552084,
          -0.9566427708642816,
          -0.22859819369550846,
          -0.4793812465302499,
          -2.4903951825038813,
          0.6035392131290644,
          2.677096068539839,
          0.5624731248787744,
          0.6222528642358222,
          -0.8490252514473418,
          -0.548810215060859,
          -0.5441384236153484,
          -2.5149406977090956,
          -0.3333675628721594,
          -1.245999584290874,
          -0.7903534761881433,
          1.5942982357052238,
          -1.5430176620588751,
          -0.13089543216082566,
          0.6700435896476531,
          -0.6069714026860633,
          1.2123405058155519,
          0.3749006858232452,
          -0.009946020164863893,
          1.5073145491676003,
          0.5699235250463723,
          0.7398952783904557,
          -1.1036200331677495,
          -0.29057344258650386,
          -1.7712973637365244,
          -0.389337166193235,
          0.3602812720007109,
          1.2395176372632817,
          -0.15738519218783073,
          -0.5722716346763621,
          0.07426592847210023,
          0.5334310013393081,
          1.006867506307998,
          -0.7966987716444317,
          -0.6176020520570332,
          -0.13744267022751766,
          0.7863067739194248,
          -1.194862481983797,
          -0.769640861846518,
          -2.122468731579507,
          -0.7632481255170883,
          -1.1025826503717449,
          -1.4045051468002292,
          0.8961136540172652,
          -1.0710974125608013,
          0.15498772074028588,
          1.4859884020677092,
          -0.577619136840705,
          1.0070183885795967,
          0.5852939462271314,
          0.8324944714535736,
          -0.5978250831419247,
          -1.178038718496559,
          3.5635564719893926,
          0.2949200815314698,
          -0.4067784379393906,
          1.787379881681812,
          -0.6804979122610798,
          1.0624202313096711,
          0.30189649555208004,
          -1.3803836409834225,
          1.8851095843009085,
          -0.25984318725201777,
          2.5727962929003705,
          -1.0745228643283593,
          0.24764449226937535,
          0.6818166884272487,
          -0.02858693606250979,
          0.38039070767124006,
          -0.4321678825504317,
          -1.3169608985732824,
          1.0446582585781277,
          1.8480262263356928,
          -0.4532527549832854,
          0.2706580650625444,
          -0.22665173044390874,
          0.05181115815723766,
          -0.5417283794399212,
          1.1166506320083285,
          -0.14254506526142394,
          0.8459633017895346,
          -2.5397751668382043,
          -0.5552784592316042,
          -0.4822945755268403,
          0.12701578635685654,
          0.7148797761841683,
          -2.038555956140452,
          -1.994346917296289,
          2.630091203316942,
          -1.303775711537322,
          -1.1227860545476014,
          0.6671696461846212
         ],
         "yaxis": "y3"
        },
        {
         "line": {
          "color": "rgba(128, 128, 128, 1.0)",
          "dash": "solid",
          "shape": "linear",
          "width": 1.3
         },
         "marker": {
          "size": 2,
          "symbol": "circle"
         },
         "mode": "markers",
         "name": "A",
         "text": "",
         "type": "scatter",
         "x": [
          -0.2547583637030008,
          1.7153923145195713,
          -0.44925958380724423,
          0.3817122619289423,
          -0.9539184920139783,
          -0.5414724044802119,
          1.2886121853667651,
          0.4591371751815021,
          -0.8318466038311664,
          1.0559393125239018,
          -0.1211206779234331,
          -1.1264576740561543,
          -0.3490659386328372,
          1.5444800534649525,
          -0.9336657022168428,
          0.6184359745075972,
          0.454996050826126,
          -0.7926439856701983,
          -0.027341710630058188,
          0.46509407069501435,
          -0.12887852253916282,
          2.1770655884297736,
          1.0938041405441596,
          -0.3601929576483487,
          -1.5414169093827494,
          0.8588967455730289,
          -0.5595059459239674,
          0.39544057681840994,
          -0.5962805112692506,
          -0.09571817523462174,
          -1.760239437549029,
          -1.4282787997647104,
          1.0538189853494435,
          -1.1687967544211606,
          -1.0006899546625991,
          0.04007335183795498,
          -1.1306715264567835,
          0.7475261776718441,
          -0.44394833467424294,
          0.7060898668122305,
          0.27796354073246593,
          -0.7703457543729,
          0.8374644539808129,
          -1.3578814655629283,
          -1.9161877184637712,
          2.2245598157361663,
          0.8756510122696048,
          0.8185887351370049,
          0.8358635833428306,
          -0.7695508524195369,
          0.6676990328557973,
          1.2372978729226272,
          1.5157199194696185,
          -2.5401592383765985,
          2.688733856978057,
          -0.976225831781194,
          -0.17279282553758024,
          -2.2312411366371485,
          0.12104567018784905,
          0.8432613277615293,
          -1.3453703345388546,
          -0.7110083620041104,
          0.427802628801016,
          -0.828146143346612,
          -1.5251192269228544,
          0.34323461095761176,
          0.5874819483519925,
          0.06983636993549536,
          0.3139424566832101,
          -1.492755788001548,
          0.2603956017095522,
          0.7527731423923882,
          0.586476949046145,
          0.880429765315423,
          0.3666172118032136,
          1.006818999622996,
          0.4985990209983369,
          -1.2825106625556784,
          -2.249249371514007,
          -0.6152213554185121,
          -0.7380733493183868,
          -0.36522290632922705,
          0.1447213079834652,
          -0.9688082494329535,
          0.8637691020173891,
          1.2368450748511657,
          0.9289868927448707,
          -0.0037208588766144894,
          1.417465898869651,
          0.4691241844829205,
          -0.6732817808990572,
          1.2232277397651579,
          -1.0045760547542537,
          -0.22633756579704814,
          1.8947219421162727,
          -1.1503550790379204,
          0.6768960513088612,
          1.0679901667852234,
          0.550269322408129,
          -0.3390521921074524
         ],
         "xaxis": "x4",
         "y": [
          -1.0256496621618938,
          -0.287105672454455,
          -0.6126639634228842,
          -1.8597037893552084,
          -0.9566427708642816,
          -0.22859819369550846,
          -0.4793812465302499,
          -2.4903951825038813,
          0.6035392131290644,
          2.677096068539839,
          0.5624731248787744,
          0.6222528642358222,
          -0.8490252514473418,
          -0.548810215060859,
          -0.5441384236153484,
          -2.5149406977090956,
          -0.3333675628721594,
          -1.245999584290874,
          -0.7903534761881433,
          1.5942982357052238,
          -1.5430176620588751,
          -0.13089543216082566,
          0.6700435896476531,
          -0.6069714026860633,
          1.2123405058155519,
          0.3749006858232452,
          -0.009946020164863893,
          1.5073145491676003,
          0.5699235250463723,
          0.7398952783904557,
          -1.1036200331677495,
          -0.29057344258650386,
          -1.7712973637365244,
          -0.389337166193235,
          0.3602812720007109,
          1.2395176372632817,
          -0.15738519218783073,
          -0.5722716346763621,
          0.07426592847210023,
          0.5334310013393081,
          1.006867506307998,
          -0.7966987716444317,
          -0.6176020520570332,
          -0.13744267022751766,
          0.7863067739194248,
          -1.194862481983797,
          -0.769640861846518,
          -2.122468731579507,
          -0.7632481255170883,
          -1.1025826503717449,
          -1.4045051468002292,
          0.8961136540172652,
          -1.0710974125608013,
          0.15498772074028588,
          1.4859884020677092,
          -0.577619136840705,
          1.0070183885795967,
          0.5852939462271314,
          0.8324944714535736,
          -0.5978250831419247,
          -1.178038718496559,
          3.5635564719893926,
          0.2949200815314698,
          -0.4067784379393906,
          1.787379881681812,
          -0.6804979122610798,
          1.0624202313096711,
          0.30189649555208004,
          -1.3803836409834225,
          1.8851095843009085,
          -0.25984318725201777,
          2.5727962929003705,
          -1.0745228643283593,
          0.24764449226937535,
          0.6818166884272487,
          -0.02858693606250979,
          0.38039070767124006,
          -0.4321678825504317,
          -1.3169608985732824,
          1.0446582585781277,
          1.8480262263356928,
          -0.4532527549832854,
          0.2706580650625444,
          -0.22665173044390874,
          0.05181115815723766,
          -0.5417283794399212,
          1.1166506320083285,
          -0.14254506526142394,
          0.8459633017895346,
          -2.5397751668382043,
          -0.5552784592316042,
          -0.4822945755268403,
          0.12701578635685654,
          0.7148797761841683,
          -2.038555956140452,
          -1.994346917296289,
          2.630091203316942,
          -1.303775711537322,
          -1.1227860545476014,
          0.6671696461846212
         ],
         "yaxis": "y4"
        },
        {
         "line": {
          "color": "rgba(128, 128, 128, 1.0)",
          "dash": "solid",
          "shape": "linear",
          "width": 1.3
         },
         "marker": {
          "size": 2,
          "symbol": "circle"
         },
         "mode": "markers",
         "name": "B",
         "text": "",
         "type": "scatter",
         "x": [
          -1.0256496621618938,
          -0.287105672454455,
          -0.6126639634228842,
          -1.8597037893552084,
          -0.9566427708642816,
          -0.22859819369550846,
          -0.4793812465302499,
          -2.4903951825038813,
          0.6035392131290644,
          2.677096068539839,
          0.5624731248787744,
          0.6222528642358222,
          -0.8490252514473418,
          -0.548810215060859,
          -0.5441384236153484,
          -2.5149406977090956,
          -0.3333675628721594,
          -1.245999584290874,
          -0.7903534761881433,
          1.5942982357052238,
          -1.5430176620588751,
          -0.13089543216082566,
          0.6700435896476531,
          -0.6069714026860633,
          1.2123405058155519,
          0.3749006858232452,
          -0.009946020164863893,
          1.5073145491676003,
          0.5699235250463723,
          0.7398952783904557,
          -1.1036200331677495,
          -0.29057344258650386,
          -1.7712973637365244,
          -0.389337166193235,
          0.3602812720007109,
          1.2395176372632817,
          -0.15738519218783073,
          -0.5722716346763621,
          0.07426592847210023,
          0.5334310013393081,
          1.006867506307998,
          -0.7966987716444317,
          -0.6176020520570332,
          -0.13744267022751766,
          0.7863067739194248,
          -1.194862481983797,
          -0.769640861846518,
          -2.122468731579507,
          -0.7632481255170883,
          -1.1025826503717449,
          -1.4045051468002292,
          0.8961136540172652,
          -1.0710974125608013,
          0.15498772074028588,
          1.4859884020677092,
          -0.577619136840705,
          1.0070183885795967,
          0.5852939462271314,
          0.8324944714535736,
          -0.5978250831419247,
          -1.178038718496559,
          3.5635564719893926,
          0.2949200815314698,
          -0.4067784379393906,
          1.787379881681812,
          -0.6804979122610798,
          1.0624202313096711,
          0.30189649555208004,
          -1.3803836409834225,
          1.8851095843009085,
          -0.25984318725201777,
          2.5727962929003705,
          -1.0745228643283593,
          0.24764449226937535,
          0.6818166884272487,
          -0.02858693606250979,
          0.38039070767124006,
          -0.4321678825504317,
          -1.3169608985732824,
          1.0446582585781277,
          1.8480262263356928,
          -0.4532527549832854,
          0.2706580650625444,
          -0.22665173044390874,
          0.05181115815723766,
          -0.5417283794399212,
          1.1166506320083285,
          -0.14254506526142394,
          0.8459633017895346,
          -2.5397751668382043,
          -0.5552784592316042,
          -0.4822945755268403,
          0.12701578635685654,
          0.7148797761841683,
          -2.038555956140452,
          -1.994346917296289,
          2.630091203316942,
          -1.303775711537322,
          -1.1227860545476014,
          0.6671696461846212
         ],
         "xaxis": "x5",
         "y": [
          -0.08520702370665945,
          -0.5428353896137872,
          -0.9229682894210636,
          -1.1373838493074757,
          -0.59974338941446,
          -0.6226775282171854,
          -0.6909488674104681,
          -0.6429884712883694,
          -0.763829818415618,
          1.9126612513514099,
          0.5051946942444656,
          1.1534796814020114,
          -1.4973541967185586,
          -1.1603641595539111,
          1.2089092230741885,
          -1.2866488766091513,
          0.6253039088147416,
          0.09943432806814738,
          -1.81878967090492,
          0.45454932869301284,
          -1.0661959002998078,
          -0.45226231295844893,
          0.502073890766179,
          1.360000850818429,
          1.576199232879038,
          -0.991354458568695,
          -0.41864922052129755,
          -0.27693294224574005,
          -1.4369765922877695,
          -0.4564622304795268,
          -0.543033343656325,
          -0.796411024933017,
          -0.6674501440461106,
          -0.4083371687249216,
          -0.9477198563372072,
          0.17176129717986716,
          0.4348243846709589,
          0.29771223214238673,
          0.26427765803321684,
          -0.8363995101281714,
          0.8823759134303497,
          0.905607194137671,
          -0.5565870945944663,
          -0.41972347347737227,
          -1.9249329386407084,
          0.6295212818429051,
          0.8028696678842703,
          -0.9588753331328411,
          -2.0406461185745655,
          0.5798060382596439,
          -0.7415515925609483,
          -0.25876903380250166,
          2.182261418702065,
          1.0229115282733865,
          1.294722395518006,
          0.3884114484562883,
          -2.2263153739917003,
          -0.6268318814354596,
          -1.6025381888476122,
          -1.0045768452368167,
          -1.157463102824297,
          -0.5838177334890376,
          0.32452522809203876,
          -0.7419037873420108,
          0.8579172439573104,
          -1.5878134298301179,
          -0.21031196661969556,
          0.5675315039804291,
          -0.3621359496459766,
          0.32448366104306103,
          0.19420872288635715,
          -2.597531208936153,
          0.04676148891109547,
          -0.17483040082085477,
          -0.2621860092876313,
          -1.045483666627226,
          0.050234493136657045,
          -0.05791781576786074,
          0.513050713788694,
          -1.6255212702788666,
          -1.5156077636707201,
          -1.9785169493256909,
          -1.9490945331143803,
          -1.0806817557769284,
          1.6839128089017628,
          0.6076703250867478,
          -0.9721863273679423,
          0.6347401000811329,
          1.1733829018513646,
          2.481087579855182,
          0.7055191896422903,
          -1.0860434878294678,
          1.5917538490464633,
          0.257385934981979,
          -1.9815757748839793,
          -0.2840951440640914,
          -1.295585170698604,
          -0.3272390968001948,
          -0.7705741622343572,
          -0.12028512029356135
         ],
         "yaxis": "y5"
        },
        {
         "histfunc": "count",
         "histnorm": "",
         "marker": {
          "color": "rgba(55, 128, 191, 1.0)",
          "line": {
           "color": "#4D5663",
           "width": 1.3
          }
         },
         "name": "B",
         "nbinsx": 10,
         "opacity": 0.8,
         "orientation": "v",
         "type": "histogram",
         "x": [
          -0.08520702370665945,
          -0.5428353896137872,
          -0.9229682894210636,
          -1.1373838493074757,
          -0.59974338941446,
          -0.6226775282171854,
          -0.6909488674104681,
          -0.6429884712883694,
          -0.763829818415618,
          1.9126612513514099,
          0.5051946942444656,
          1.1534796814020114,
          -1.4973541967185586,
          -1.1603641595539111,
          1.2089092230741885,
          -1.2866488766091513,
          0.6253039088147416,
          0.09943432806814738,
          -1.81878967090492,
          0.45454932869301284,
          -1.0661959002998078,
          -0.45226231295844893,
          0.502073890766179,
          1.360000850818429,
          1.576199232879038,
          -0.991354458568695,
          -0.41864922052129755,
          -0.27693294224574005,
          -1.4369765922877695,
          -0.4564622304795268,
          -0.543033343656325,
          -0.796411024933017,
          -0.6674501440461106,
          -0.4083371687249216,
          -0.9477198563372072,
          0.17176129717986716,
          0.4348243846709589,
          0.29771223214238673,
          0.26427765803321684,
          -0.8363995101281714,
          0.8823759134303497,
          0.905607194137671,
          -0.5565870945944663,
          -0.41972347347737227,
          -1.9249329386407084,
          0.6295212818429051,
          0.8028696678842703,
          -0.9588753331328411,
          -2.0406461185745655,
          0.5798060382596439,
          -0.7415515925609483,
          -0.25876903380250166,
          2.182261418702065,
          1.0229115282733865,
          1.294722395518006,
          0.3884114484562883,
          -2.2263153739917003,
          -0.6268318814354596,
          -1.6025381888476122,
          -1.0045768452368167,
          -1.157463102824297,
          -0.5838177334890376,
          0.32452522809203876,
          -0.7419037873420108,
          0.8579172439573104,
          -1.5878134298301179,
          -0.21031196661969556,
          0.5675315039804291,
          -0.3621359496459766,
          0.32448366104306103,
          0.19420872288635715,
          -2.597531208936153,
          0.04676148891109547,
          -0.17483040082085477,
          -0.2621860092876313,
          -1.045483666627226,
          0.050234493136657045,
          -0.05791781576786074,
          0.513050713788694,
          -1.6255212702788666,
          -1.5156077636707201,
          -1.9785169493256909,
          -1.9490945331143803,
          -1.0806817557769284,
          1.6839128089017628,
          0.6076703250867478,
          -0.9721863273679423,
          0.6347401000811329,
          1.1733829018513646,
          2.481087579855182,
          0.7055191896422903,
          -1.0860434878294678,
          1.5917538490464633,
          0.257385934981979,
          -1.9815757748839793,
          -0.2840951440640914,
          -1.295585170698604,
          -0.3272390968001948,
          -0.7705741622343572,
          -0.12028512029356135
         ],
         "xaxis": "x6",
         "yaxis": "y6"
        },
        {
         "line": {
          "color": "rgba(128, 128, 128, 1.0)",
          "dash": "solid",
          "shape": "linear",
          "width": 1.3
         },
         "marker": {
          "size": 2,
          "symbol": "circle"
         },
         "mode": "markers",
         "name": "B",
         "text": "",
         "type": "scatter",
         "x": [
          -0.8936446390927574,
          -0.7946997115803555,
          -0.6641970253019951,
          0.10854762736244102,
          -0.5419366081440622,
          0.7347620301138176,
          1.211577767882975,
          -0.0073492529509151736,
          -0.8905222782055254,
          -0.20895947355587638,
          0.7216072090728042,
          0.7471611657676913,
          -1.857883654159354,
          1.5399644795570173,
          -2.1114706039932893,
          -0.27869828127472385,
          0.4108123490013363,
          0.6287474350771571,
          -0.045922216805762375,
          0.08305344366670474,
          -0.6327668276271052,
          2.104370421985547,
          0.8505626985666442,
          1.1368432936763215,
          0.046150979735368726,
          1.4399395142187927,
          -0.2191327979192292,
          -1.6245975976546034,
          1.2380609013958852,
          1.2869929141055805,
          0.2112601112189276,
          0.03577833563509893,
          0.04228057754471103,
          -0.18367568953869837,
          -0.058366605746244,
          1.2802015661999784,
          -0.34082159165414005,
          1.7581433100657584,
          0.9283819196486757,
          1.1695835151776708,
          0.0881061999660237,
          -0.046070216802679864,
          0.21954034544068105,
          1.6054149958236246,
          0.566294282764027,
          -0.4700588447800426,
          -0.8032406492975612,
          1.1257873036720174,
          -0.6327776781173501,
          -0.7196055061238562,
          2.2772966607591485,
          -1.7662618133492722,
          -0.8105273121331076,
          1.0414951531322088,
          -1.182415864274357,
          0.2778891944531858,
          0.6477779565295866,
          -1.2850822380960962,
          0.6078843560895357,
          -0.7893747586776593,
          -1.3810269824977204,
          0.0839802250563766,
          -0.1925459641559751,
          1.0448610760472854,
          -0.100612097321845,
          -0.6921324852841738,
          0.12474494450596404,
          -2.083715006962687,
          -0.04274220643320186,
          -1.5380138820173286,
          -0.06824507522006448,
          -0.7700581617758347,
          1.9614759743524235,
          0.236116634753566,
          -1.016540617631119,
          -2.1998884013802456,
          -0.6806725937182262,
          0.2202056281997777,
          0.26057422894712556,
          0.5591908240266653,
          0.20635827973177412,
          0.6269451963000509,
          0.36804646571791055,
          0.8484665156988875,
          -0.032805402678268286,
          0.3153792895292077,
          2.376969391867502,
          0.26044305501817483,
          1.3433999859819574,
          -1.1156861979306572,
          -0.4696670754262642,
          0.5844025105384789,
          -1.7364989229986567,
          -0.34542889234682367,
          1.2216811974503263,
          0.0601899165023874,
          -0.551271019517415,
          1.9075683564065347,
          0.7417191012240812,
          0.6810854840489595
         ],
         "xaxis": "x7",
         "y": [
          -0.08520702370665945,
          -0.5428353896137872,
          -0.9229682894210636,
          -1.1373838493074757,
          -0.59974338941446,
          -0.6226775282171854,
          -0.6909488674104681,
          -0.6429884712883694,
          -0.763829818415618,
          1.9126612513514099,
          0.5051946942444656,
          1.1534796814020114,
          -1.4973541967185586,
          -1.1603641595539111,
          1.2089092230741885,
          -1.2866488766091513,
          0.6253039088147416,
          0.09943432806814738,
          -1.81878967090492,
          0.45454932869301284,
          -1.0661959002998078,
          -0.45226231295844893,
          0.502073890766179,
          1.360000850818429,
          1.576199232879038,
          -0.991354458568695,
          -0.41864922052129755,
          -0.27693294224574005,
          -1.4369765922877695,
          -0.4564622304795268,
          -0.543033343656325,
          -0.796411024933017,
          -0.6674501440461106,
          -0.4083371687249216,
          -0.9477198563372072,
          0.17176129717986716,
          0.4348243846709589,
          0.29771223214238673,
          0.26427765803321684,
          -0.8363995101281714,
          0.8823759134303497,
          0.905607194137671,
          -0.5565870945944663,
          -0.41972347347737227,
          -1.9249329386407084,
          0.6295212818429051,
          0.8028696678842703,
          -0.9588753331328411,
          -2.0406461185745655,
          0.5798060382596439,
          -0.7415515925609483,
          -0.25876903380250166,
          2.182261418702065,
          1.0229115282733865,
          1.294722395518006,
          0.3884114484562883,
          -2.2263153739917003,
          -0.6268318814354596,
          -1.6025381888476122,
          -1.0045768452368167,
          -1.157463102824297,
          -0.5838177334890376,
          0.32452522809203876,
          -0.7419037873420108,
          0.8579172439573104,
          -1.5878134298301179,
          -0.21031196661969556,
          0.5675315039804291,
          -0.3621359496459766,
          0.32448366104306103,
          0.19420872288635715,
          -2.597531208936153,
          0.04676148891109547,
          -0.17483040082085477,
          -0.2621860092876313,
          -1.045483666627226,
          0.050234493136657045,
          -0.05791781576786074,
          0.513050713788694,
          -1.6255212702788666,
          -1.5156077636707201,
          -1.9785169493256909,
          -1.9490945331143803,
          -1.0806817557769284,
          1.6839128089017628,
          0.6076703250867478,
          -0.9721863273679423,
          0.6347401000811329,
          1.1733829018513646,
          2.481087579855182,
          0.7055191896422903,
          -1.0860434878294678,
          1.5917538490464633,
          0.257385934981979,
          -1.9815757748839793,
          -0.2840951440640914,
          -1.295585170698604,
          -0.3272390968001948,
          -0.7705741622343572,
          -0.12028512029356135
         ],
         "yaxis": "y7"
        },
        {
         "line": {
          "color": "rgba(128, 128, 128, 1.0)",
          "dash": "solid",
          "shape": "linear",
          "width": 1.3
         },
         "marker": {
          "size": 2,
          "symbol": "circle"
         },
         "mode": "markers",
         "name": "B",
         "text": "",
         "type": "scatter",
         "x": [
          -0.2547583637030008,
          1.7153923145195713,
          -0.44925958380724423,
          0.3817122619289423,
          -0.9539184920139783,
          -0.5414724044802119,
          1.2886121853667651,
          0.4591371751815021,
          -0.8318466038311664,
          1.0559393125239018,
          -0.1211206779234331,
          -1.1264576740561543,
          -0.3490659386328372,
          1.5444800534649525,
          -0.9336657022168428,
          0.6184359745075972,
          0.454996050826126,
          -0.7926439856701983,
          -0.027341710630058188,
          0.46509407069501435,
          -0.12887852253916282,
          2.1770655884297736,
          1.0938041405441596,
          -0.3601929576483487,
          -1.5414169093827494,
          0.8588967455730289,
          -0.5595059459239674,
          0.39544057681840994,
          -0.5962805112692506,
          -0.09571817523462174,
          -1.760239437549029,
          -1.4282787997647104,
          1.0538189853494435,
          -1.1687967544211606,
          -1.0006899546625991,
          0.04007335183795498,
          -1.1306715264567835,
          0.7475261776718441,
          -0.44394833467424294,
          0.7060898668122305,
          0.27796354073246593,
          -0.7703457543729,
          0.8374644539808129,
          -1.3578814655629283,
          -1.9161877184637712,
          2.2245598157361663,
          0.8756510122696048,
          0.8185887351370049,
          0.8358635833428306,
          -0.7695508524195369,
          0.6676990328557973,
          1.2372978729226272,
          1.5157199194696185,
          -2.5401592383765985,
          2.688733856978057,
          -0.976225831781194,
          -0.17279282553758024,
          -2.2312411366371485,
          0.12104567018784905,
          0.8432613277615293,
          -1.3453703345388546,
          -0.7110083620041104,
          0.427802628801016,
          -0.828146143346612,
          -1.5251192269228544,
          0.34323461095761176,
          0.5874819483519925,
          0.06983636993549536,
          0.3139424566832101,
          -1.492755788001548,
          0.2603956017095522,
          0.7527731423923882,
          0.586476949046145,
          0.880429765315423,
          0.3666172118032136,
          1.006818999622996,
          0.4985990209983369,
          -1.2825106625556784,
          -2.249249371514007,
          -0.6152213554185121,
          -0.7380733493183868,
          -0.36522290632922705,
          0.1447213079834652,
          -0.9688082494329535,
          0.8637691020173891,
          1.2368450748511657,
          0.9289868927448707,
          -0.0037208588766144894,
          1.417465898869651,
          0.4691241844829205,
          -0.6732817808990572,
          1.2232277397651579,
          -1.0045760547542537,
          -0.22633756579704814,
          1.8947219421162727,
          -1.1503550790379204,
          0.6768960513088612,
          1.0679901667852234,
          0.550269322408129,
          -0.3390521921074524
         ],
         "xaxis": "x8",
         "y": [
          -0.08520702370665945,
          -0.5428353896137872,
          -0.9229682894210636,
          -1.1373838493074757,
          -0.59974338941446,
          -0.6226775282171854,
          -0.6909488674104681,
          -0.6429884712883694,
          -0.763829818415618,
          1.9126612513514099,
          0.5051946942444656,
          1.1534796814020114,
          -1.4973541967185586,
          -1.1603641595539111,
          1.2089092230741885,
          -1.2866488766091513,
          0.6253039088147416,
          0.09943432806814738,
          -1.81878967090492,
          0.45454932869301284,
          -1.0661959002998078,
          -0.45226231295844893,
          0.502073890766179,
          1.360000850818429,
          1.576199232879038,
          -0.991354458568695,
          -0.41864922052129755,
          -0.27693294224574005,
          -1.4369765922877695,
          -0.4564622304795268,
          -0.543033343656325,
          -0.796411024933017,
          -0.6674501440461106,
          -0.4083371687249216,
          -0.9477198563372072,
          0.17176129717986716,
          0.4348243846709589,
          0.29771223214238673,
          0.26427765803321684,
          -0.8363995101281714,
          0.8823759134303497,
          0.905607194137671,
          -0.5565870945944663,
          -0.41972347347737227,
          -1.9249329386407084,
          0.6295212818429051,
          0.8028696678842703,
          -0.9588753331328411,
          -2.0406461185745655,
          0.5798060382596439,
          -0.7415515925609483,
          -0.25876903380250166,
          2.182261418702065,
          1.0229115282733865,
          1.294722395518006,
          0.3884114484562883,
          -2.2263153739917003,
          -0.6268318814354596,
          -1.6025381888476122,
          -1.0045768452368167,
          -1.157463102824297,
          -0.5838177334890376,
          0.32452522809203876,
          -0.7419037873420108,
          0.8579172439573104,
          -1.5878134298301179,
          -0.21031196661969556,
          0.5675315039804291,
          -0.3621359496459766,
          0.32448366104306103,
          0.19420872288635715,
          -2.597531208936153,
          0.04676148891109547,
          -0.17483040082085477,
          -0.2621860092876313,
          -1.045483666627226,
          0.050234493136657045,
          -0.05791781576786074,
          0.513050713788694,
          -1.6255212702788666,
          -1.5156077636707201,
          -1.9785169493256909,
          -1.9490945331143803,
          -1.0806817557769284,
          1.6839128089017628,
          0.6076703250867478,
          -0.9721863273679423,
          0.6347401000811329,
          1.1733829018513646,
          2.481087579855182,
          0.7055191896422903,
          -1.0860434878294678,
          1.5917538490464633,
          0.257385934981979,
          -1.9815757748839793,
          -0.2840951440640914,
          -1.295585170698604,
          -0.3272390968001948,
          -0.7705741622343572,
          -0.12028512029356135
         ],
         "yaxis": "y8"
        },
        {
         "line": {
          "color": "rgba(128, 128, 128, 1.0)",
          "dash": "solid",
          "shape": "linear",
          "width": 1.3
         },
         "marker": {
          "size": 2,
          "symbol": "circle"
         },
         "mode": "markers",
         "name": "C",
         "text": "",
         "type": "scatter",
         "x": [
          -1.0256496621618938,
          -0.287105672454455,
          -0.6126639634228842,
          -1.8597037893552084,
          -0.9566427708642816,
          -0.22859819369550846,
          -0.4793812465302499,
          -2.4903951825038813,
          0.6035392131290644,
          2.677096068539839,
          0.5624731248787744,
          0.6222528642358222,
          -0.8490252514473418,
          -0.548810215060859,
          -0.5441384236153484,
          -2.5149406977090956,
          -0.3333675628721594,
          -1.245999584290874,
          -0.7903534761881433,
          1.5942982357052238,
          -1.5430176620588751,
          -0.13089543216082566,
          0.6700435896476531,
          -0.6069714026860633,
          1.2123405058155519,
          0.3749006858232452,
          -0.009946020164863893,
          1.5073145491676003,
          0.5699235250463723,
          0.7398952783904557,
          -1.1036200331677495,
          -0.29057344258650386,
          -1.7712973637365244,
          -0.389337166193235,
          0.3602812720007109,
          1.2395176372632817,
          -0.15738519218783073,
          -0.5722716346763621,
          0.07426592847210023,
          0.5334310013393081,
          1.006867506307998,
          -0.7966987716444317,
          -0.6176020520570332,
          -0.13744267022751766,
          0.7863067739194248,
          -1.194862481983797,
          -0.769640861846518,
          -2.122468731579507,
          -0.7632481255170883,
          -1.1025826503717449,
          -1.4045051468002292,
          0.8961136540172652,
          -1.0710974125608013,
          0.15498772074028588,
          1.4859884020677092,
          -0.577619136840705,
          1.0070183885795967,
          0.5852939462271314,
          0.8324944714535736,
          -0.5978250831419247,
          -1.178038718496559,
          3.5635564719893926,
          0.2949200815314698,
          -0.4067784379393906,
          1.787379881681812,
          -0.6804979122610798,
          1.0624202313096711,
          0.30189649555208004,
          -1.3803836409834225,
          1.8851095843009085,
          -0.25984318725201777,
          2.5727962929003705,
          -1.0745228643283593,
          0.24764449226937535,
          0.6818166884272487,
          -0.02858693606250979,
          0.38039070767124006,
          -0.4321678825504317,
          -1.3169608985732824,
          1.0446582585781277,
          1.8480262263356928,
          -0.4532527549832854,
          0.2706580650625444,
          -0.22665173044390874,
          0.05181115815723766,
          -0.5417283794399212,
          1.1166506320083285,
          -0.14254506526142394,
          0.8459633017895346,
          -2.5397751668382043,
          -0.5552784592316042,
          -0.4822945755268403,
          0.12701578635685654,
          0.7148797761841683,
          -2.038555956140452,
          -1.994346917296289,
          2.630091203316942,
          -1.303775711537322,
          -1.1227860545476014,
          0.6671696461846212
         ],
         "xaxis": "x9",
         "y": [
          -0.8936446390927574,
          -0.7946997115803555,
          -0.6641970253019951,
          0.10854762736244102,
          -0.5419366081440622,
          0.7347620301138176,
          1.211577767882975,
          -0.0073492529509151736,
          -0.8905222782055254,
          -0.20895947355587638,
          0.7216072090728042,
          0.7471611657676913,
          -1.857883654159354,
          1.5399644795570173,
          -2.1114706039932893,
          -0.27869828127472385,
          0.4108123490013363,
          0.6287474350771571,
          -0.045922216805762375,
          0.08305344366670474,
          -0.6327668276271052,
          2.104370421985547,
          0.8505626985666442,
          1.1368432936763215,
          0.046150979735368726,
          1.4399395142187927,
          -0.2191327979192292,
          -1.6245975976546034,
          1.2380609013958852,
          1.2869929141055805,
          0.2112601112189276,
          0.03577833563509893,
          0.04228057754471103,
          -0.18367568953869837,
          -0.058366605746244,
          1.2802015661999784,
          -0.34082159165414005,
          1.7581433100657584,
          0.9283819196486757,
          1.1695835151776708,
          0.0881061999660237,
          -0.046070216802679864,
          0.21954034544068105,
          1.6054149958236246,
          0.566294282764027,
          -0.4700588447800426,
          -0.8032406492975612,
          1.1257873036720174,
          -0.6327776781173501,
          -0.7196055061238562,
          2.2772966607591485,
          -1.7662618133492722,
          -0.8105273121331076,
          1.0414951531322088,
          -1.182415864274357,
          0.2778891944531858,
          0.6477779565295866,
          -1.2850822380960962,
          0.6078843560895357,
          -0.7893747586776593,
          -1.3810269824977204,
          0.0839802250563766,
          -0.1925459641559751,
          1.0448610760472854,
          -0.100612097321845,
          -0.6921324852841738,
          0.12474494450596404,
          -2.083715006962687,
          -0.04274220643320186,
          -1.5380138820173286,
          -0.06824507522006448,
          -0.7700581617758347,
          1.9614759743524235,
          0.236116634753566,
          -1.016540617631119,
          -2.1998884013802456,
          -0.6806725937182262,
          0.2202056281997777,
          0.26057422894712556,
          0.5591908240266653,
          0.20635827973177412,
          0.6269451963000509,
          0.36804646571791055,
          0.8484665156988875,
          -0.032805402678268286,
          0.3153792895292077,
          2.376969391867502,
          0.26044305501817483,
          1.3433999859819574,
          -1.1156861979306572,
          -0.4696670754262642,
          0.5844025105384789,
          -1.7364989229986567,
          -0.34542889234682367,
          1.2216811974503263,
          0.0601899165023874,
          -0.551271019517415,
          1.9075683564065347,
          0.7417191012240812,
          0.6810854840489595
         ],
         "yaxis": "y9"
        },
        {
         "line": {
          "color": "rgba(128, 128, 128, 1.0)",
          "dash": "solid",
          "shape": "linear",
          "width": 1.3
         },
         "marker": {
          "size": 2,
          "symbol": "circle"
         },
         "mode": "markers",
         "name": "C",
         "text": "",
         "type": "scatter",
         "x": [
          -0.08520702370665945,
          -0.5428353896137872,
          -0.9229682894210636,
          -1.1373838493074757,
          -0.59974338941446,
          -0.6226775282171854,
          -0.6909488674104681,
          -0.6429884712883694,
          -0.763829818415618,
          1.9126612513514099,
          0.5051946942444656,
          1.1534796814020114,
          -1.4973541967185586,
          -1.1603641595539111,
          1.2089092230741885,
          -1.2866488766091513,
          0.6253039088147416,
          0.09943432806814738,
          -1.81878967090492,
          0.45454932869301284,
          -1.0661959002998078,
          -0.45226231295844893,
          0.502073890766179,
          1.360000850818429,
          1.576199232879038,
          -0.991354458568695,
          -0.41864922052129755,
          -0.27693294224574005,
          -1.4369765922877695,
          -0.4564622304795268,
          -0.543033343656325,
          -0.796411024933017,
          -0.6674501440461106,
          -0.4083371687249216,
          -0.9477198563372072,
          0.17176129717986716,
          0.4348243846709589,
          0.29771223214238673,
          0.26427765803321684,
          -0.8363995101281714,
          0.8823759134303497,
          0.905607194137671,
          -0.5565870945944663,
          -0.41972347347737227,
          -1.9249329386407084,
          0.6295212818429051,
          0.8028696678842703,
          -0.9588753331328411,
          -2.0406461185745655,
          0.5798060382596439,
          -0.7415515925609483,
          -0.25876903380250166,
          2.182261418702065,
          1.0229115282733865,
          1.294722395518006,
          0.3884114484562883,
          -2.2263153739917003,
          -0.6268318814354596,
          -1.6025381888476122,
          -1.0045768452368167,
          -1.157463102824297,
          -0.5838177334890376,
          0.32452522809203876,
          -0.7419037873420108,
          0.8579172439573104,
          -1.5878134298301179,
          -0.21031196661969556,
          0.5675315039804291,
          -0.3621359496459766,
          0.32448366104306103,
          0.19420872288635715,
          -2.597531208936153,
          0.04676148891109547,
          -0.17483040082085477,
          -0.2621860092876313,
          -1.045483666627226,
          0.050234493136657045,
          -0.05791781576786074,
          0.513050713788694,
          -1.6255212702788666,
          -1.5156077636707201,
          -1.9785169493256909,
          -1.9490945331143803,
          -1.0806817557769284,
          1.6839128089017628,
          0.6076703250867478,
          -0.9721863273679423,
          0.6347401000811329,
          1.1733829018513646,
          2.481087579855182,
          0.7055191896422903,
          -1.0860434878294678,
          1.5917538490464633,
          0.257385934981979,
          -1.9815757748839793,
          -0.2840951440640914,
          -1.295585170698604,
          -0.3272390968001948,
          -0.7705741622343572,
          -0.12028512029356135
         ],
         "xaxis": "x10",
         "y": [
          -0.8936446390927574,
          -0.7946997115803555,
          -0.6641970253019951,
          0.10854762736244102,
          -0.5419366081440622,
          0.7347620301138176,
          1.211577767882975,
          -0.0073492529509151736,
          -0.8905222782055254,
          -0.20895947355587638,
          0.7216072090728042,
          0.7471611657676913,
          -1.857883654159354,
          1.5399644795570173,
          -2.1114706039932893,
          -0.27869828127472385,
          0.4108123490013363,
          0.6287474350771571,
          -0.045922216805762375,
          0.08305344366670474,
          -0.6327668276271052,
          2.104370421985547,
          0.8505626985666442,
          1.1368432936763215,
          0.046150979735368726,
          1.4399395142187927,
          -0.2191327979192292,
          -1.6245975976546034,
          1.2380609013958852,
          1.2869929141055805,
          0.2112601112189276,
          0.03577833563509893,
          0.04228057754471103,
          -0.18367568953869837,
          -0.058366605746244,
          1.2802015661999784,
          -0.34082159165414005,
          1.7581433100657584,
          0.9283819196486757,
          1.1695835151776708,
          0.0881061999660237,
          -0.046070216802679864,
          0.21954034544068105,
          1.6054149958236246,
          0.566294282764027,
          -0.4700588447800426,
          -0.8032406492975612,
          1.1257873036720174,
          -0.6327776781173501,
          -0.7196055061238562,
          2.2772966607591485,
          -1.7662618133492722,
          -0.8105273121331076,
          1.0414951531322088,
          -1.182415864274357,
          0.2778891944531858,
          0.6477779565295866,
          -1.2850822380960962,
          0.6078843560895357,
          -0.7893747586776593,
          -1.3810269824977204,
          0.0839802250563766,
          -0.1925459641559751,
          1.0448610760472854,
          -0.100612097321845,
          -0.6921324852841738,
          0.12474494450596404,
          -2.083715006962687,
          -0.04274220643320186,
          -1.5380138820173286,
          -0.06824507522006448,
          -0.7700581617758347,
          1.9614759743524235,
          0.236116634753566,
          -1.016540617631119,
          -2.1998884013802456,
          -0.6806725937182262,
          0.2202056281997777,
          0.26057422894712556,
          0.5591908240266653,
          0.20635827973177412,
          0.6269451963000509,
          0.36804646571791055,
          0.8484665156988875,
          -0.032805402678268286,
          0.3153792895292077,
          2.376969391867502,
          0.26044305501817483,
          1.3433999859819574,
          -1.1156861979306572,
          -0.4696670754262642,
          0.5844025105384789,
          -1.7364989229986567,
          -0.34542889234682367,
          1.2216811974503263,
          0.0601899165023874,
          -0.551271019517415,
          1.9075683564065347,
          0.7417191012240812,
          0.6810854840489595
         ],
         "yaxis": "y10"
        },
        {
         "histfunc": "count",
         "histnorm": "",
         "marker": {
          "color": "rgba(50, 171, 96, 1.0)",
          "line": {
           "color": "#4D5663",
           "width": 1.3
          }
         },
         "name": "C",
         "nbinsx": 10,
         "opacity": 0.8,
         "orientation": "v",
         "type": "histogram",
         "x": [
          -0.8936446390927574,
          -0.7946997115803555,
          -0.6641970253019951,
          0.10854762736244102,
          -0.5419366081440622,
          0.7347620301138176,
          1.211577767882975,
          -0.0073492529509151736,
          -0.8905222782055254,
          -0.20895947355587638,
          0.7216072090728042,
          0.7471611657676913,
          -1.857883654159354,
          1.5399644795570173,
          -2.1114706039932893,
          -0.27869828127472385,
          0.4108123490013363,
          0.6287474350771571,
          -0.045922216805762375,
          0.08305344366670474,
          -0.6327668276271052,
          2.104370421985547,
          0.8505626985666442,
          1.1368432936763215,
          0.046150979735368726,
          1.4399395142187927,
          -0.2191327979192292,
          -1.6245975976546034,
          1.2380609013958852,
          1.2869929141055805,
          0.2112601112189276,
          0.03577833563509893,
          0.04228057754471103,
          -0.18367568953869837,
          -0.058366605746244,
          1.2802015661999784,
          -0.34082159165414005,
          1.7581433100657584,
          0.9283819196486757,
          1.1695835151776708,
          0.0881061999660237,
          -0.046070216802679864,
          0.21954034544068105,
          1.6054149958236246,
          0.566294282764027,
          -0.4700588447800426,
          -0.8032406492975612,
          1.1257873036720174,
          -0.6327776781173501,
          -0.7196055061238562,
          2.2772966607591485,
          -1.7662618133492722,
          -0.8105273121331076,
          1.0414951531322088,
          -1.182415864274357,
          0.2778891944531858,
          0.6477779565295866,
          -1.2850822380960962,
          0.6078843560895357,
          -0.7893747586776593,
          -1.3810269824977204,
          0.0839802250563766,
          -0.1925459641559751,
          1.0448610760472854,
          -0.100612097321845,
          -0.6921324852841738,
          0.12474494450596404,
          -2.083715006962687,
          -0.04274220643320186,
          -1.5380138820173286,
          -0.06824507522006448,
          -0.7700581617758347,
          1.9614759743524235,
          0.236116634753566,
          -1.016540617631119,
          -2.1998884013802456,
          -0.6806725937182262,
          0.2202056281997777,
          0.26057422894712556,
          0.5591908240266653,
          0.20635827973177412,
          0.6269451963000509,
          0.36804646571791055,
          0.8484665156988875,
          -0.032805402678268286,
          0.3153792895292077,
          2.376969391867502,
          0.26044305501817483,
          1.3433999859819574,
          -1.1156861979306572,
          -0.4696670754262642,
          0.5844025105384789,
          -1.7364989229986567,
          -0.34542889234682367,
          1.2216811974503263,
          0.0601899165023874,
          -0.551271019517415,
          1.9075683564065347,
          0.7417191012240812,
          0.6810854840489595
         ],
         "xaxis": "x11",
         "yaxis": "y11"
        },
        {
         "line": {
          "color": "rgba(128, 128, 128, 1.0)",
          "dash": "solid",
          "shape": "linear",
          "width": 1.3
         },
         "marker": {
          "size": 2,
          "symbol": "circle"
         },
         "mode": "markers",
         "name": "C",
         "text": "",
         "type": "scatter",
         "x": [
          -0.2547583637030008,
          1.7153923145195713,
          -0.44925958380724423,
          0.3817122619289423,
          -0.9539184920139783,
          -0.5414724044802119,
          1.2886121853667651,
          0.4591371751815021,
          -0.8318466038311664,
          1.0559393125239018,
          -0.1211206779234331,
          -1.1264576740561543,
          -0.3490659386328372,
          1.5444800534649525,
          -0.9336657022168428,
          0.6184359745075972,
          0.454996050826126,
          -0.7926439856701983,
          -0.027341710630058188,
          0.46509407069501435,
          -0.12887852253916282,
          2.1770655884297736,
          1.0938041405441596,
          -0.3601929576483487,
          -1.5414169093827494,
          0.8588967455730289,
          -0.5595059459239674,
          0.39544057681840994,
          -0.5962805112692506,
          -0.09571817523462174,
          -1.760239437549029,
          -1.4282787997647104,
          1.0538189853494435,
          -1.1687967544211606,
          -1.0006899546625991,
          0.04007335183795498,
          -1.1306715264567835,
          0.7475261776718441,
          -0.44394833467424294,
          0.7060898668122305,
          0.27796354073246593,
          -0.7703457543729,
          0.8374644539808129,
          -1.3578814655629283,
          -1.9161877184637712,
          2.2245598157361663,
          0.8756510122696048,
          0.8185887351370049,
          0.8358635833428306,
          -0.7695508524195369,
          0.6676990328557973,
          1.2372978729226272,
          1.5157199194696185,
          -2.5401592383765985,
          2.688733856978057,
          -0.976225831781194,
          -0.17279282553758024,
          -2.2312411366371485,
          0.12104567018784905,
          0.8432613277615293,
          -1.3453703345388546,
          -0.7110083620041104,
          0.427802628801016,
          -0.828146143346612,
          -1.5251192269228544,
          0.34323461095761176,
          0.5874819483519925,
          0.06983636993549536,
          0.3139424566832101,
          -1.492755788001548,
          0.2603956017095522,
          0.7527731423923882,
          0.586476949046145,
          0.880429765315423,
          0.3666172118032136,
          1.006818999622996,
          0.4985990209983369,
          -1.2825106625556784,
          -2.249249371514007,
          -0.6152213554185121,
          -0.7380733493183868,
          -0.36522290632922705,
          0.1447213079834652,
          -0.9688082494329535,
          0.8637691020173891,
          1.2368450748511657,
          0.9289868927448707,
          -0.0037208588766144894,
          1.417465898869651,
          0.4691241844829205,
          -0.6732817808990572,
          1.2232277397651579,
          -1.0045760547542537,
          -0.22633756579704814,
          1.8947219421162727,
          -1.1503550790379204,
          0.6768960513088612,
          1.0679901667852234,
          0.550269322408129,
          -0.3390521921074524
         ],
         "xaxis": "x12",
         "y": [
          -0.8936446390927574,
          -0.7946997115803555,
          -0.6641970253019951,
          0.10854762736244102,
          -0.5419366081440622,
          0.7347620301138176,
          1.211577767882975,
          -0.0073492529509151736,
          -0.8905222782055254,
          -0.20895947355587638,
          0.7216072090728042,
          0.7471611657676913,
          -1.857883654159354,
          1.5399644795570173,
          -2.1114706039932893,
          -0.27869828127472385,
          0.4108123490013363,
          0.6287474350771571,
          -0.045922216805762375,
          0.08305344366670474,
          -0.6327668276271052,
          2.104370421985547,
          0.8505626985666442,
          1.1368432936763215,
          0.046150979735368726,
          1.4399395142187927,
          -0.2191327979192292,
          -1.6245975976546034,
          1.2380609013958852,
          1.2869929141055805,
          0.2112601112189276,
          0.03577833563509893,
          0.04228057754471103,
          -0.18367568953869837,
          -0.058366605746244,
          1.2802015661999784,
          -0.34082159165414005,
          1.7581433100657584,
          0.9283819196486757,
          1.1695835151776708,
          0.0881061999660237,
          -0.046070216802679864,
          0.21954034544068105,
          1.6054149958236246,
          0.566294282764027,
          -0.4700588447800426,
          -0.8032406492975612,
          1.1257873036720174,
          -0.6327776781173501,
          -0.7196055061238562,
          2.2772966607591485,
          -1.7662618133492722,
          -0.8105273121331076,
          1.0414951531322088,
          -1.182415864274357,
          0.2778891944531858,
          0.6477779565295866,
          -1.2850822380960962,
          0.6078843560895357,
          -0.7893747586776593,
          -1.3810269824977204,
          0.0839802250563766,
          -0.1925459641559751,
          1.0448610760472854,
          -0.100612097321845,
          -0.6921324852841738,
          0.12474494450596404,
          -2.083715006962687,
          -0.04274220643320186,
          -1.5380138820173286,
          -0.06824507522006448,
          -0.7700581617758347,
          1.9614759743524235,
          0.236116634753566,
          -1.016540617631119,
          -2.1998884013802456,
          -0.6806725937182262,
          0.2202056281997777,
          0.26057422894712556,
          0.5591908240266653,
          0.20635827973177412,
          0.6269451963000509,
          0.36804646571791055,
          0.8484665156988875,
          -0.032805402678268286,
          0.3153792895292077,
          2.376969391867502,
          0.26044305501817483,
          1.3433999859819574,
          -1.1156861979306572,
          -0.4696670754262642,
          0.5844025105384789,
          -1.7364989229986567,
          -0.34542889234682367,
          1.2216811974503263,
          0.0601899165023874,
          -0.551271019517415,
          1.9075683564065347,
          0.7417191012240812,
          0.6810854840489595
         ],
         "yaxis": "y12"
        },
        {
         "line": {
          "color": "rgba(128, 128, 128, 1.0)",
          "dash": "solid",
          "shape": "linear",
          "width": 1.3
         },
         "marker": {
          "size": 2,
          "symbol": "circle"
         },
         "mode": "markers",
         "name": "D",
         "text": "",
         "type": "scatter",
         "x": [
          -1.0256496621618938,
          -0.287105672454455,
          -0.6126639634228842,
          -1.8597037893552084,
          -0.9566427708642816,
          -0.22859819369550846,
          -0.4793812465302499,
          -2.4903951825038813,
          0.6035392131290644,
          2.677096068539839,
          0.5624731248787744,
          0.6222528642358222,
          -0.8490252514473418,
          -0.548810215060859,
          -0.5441384236153484,
          -2.5149406977090956,
          -0.3333675628721594,
          -1.245999584290874,
          -0.7903534761881433,
          1.5942982357052238,
          -1.5430176620588751,
          -0.13089543216082566,
          0.6700435896476531,
          -0.6069714026860633,
          1.2123405058155519,
          0.3749006858232452,
          -0.009946020164863893,
          1.5073145491676003,
          0.5699235250463723,
          0.7398952783904557,
          -1.1036200331677495,
          -0.29057344258650386,
          -1.7712973637365244,
          -0.389337166193235,
          0.3602812720007109,
          1.2395176372632817,
          -0.15738519218783073,
          -0.5722716346763621,
          0.07426592847210023,
          0.5334310013393081,
          1.006867506307998,
          -0.7966987716444317,
          -0.6176020520570332,
          -0.13744267022751766,
          0.7863067739194248,
          -1.194862481983797,
          -0.769640861846518,
          -2.122468731579507,
          -0.7632481255170883,
          -1.1025826503717449,
          -1.4045051468002292,
          0.8961136540172652,
          -1.0710974125608013,
          0.15498772074028588,
          1.4859884020677092,
          -0.577619136840705,
          1.0070183885795967,
          0.5852939462271314,
          0.8324944714535736,
          -0.5978250831419247,
          -1.178038718496559,
          3.5635564719893926,
          0.2949200815314698,
          -0.4067784379393906,
          1.787379881681812,
          -0.6804979122610798,
          1.0624202313096711,
          0.30189649555208004,
          -1.3803836409834225,
          1.8851095843009085,
          -0.25984318725201777,
          2.5727962929003705,
          -1.0745228643283593,
          0.24764449226937535,
          0.6818166884272487,
          -0.02858693606250979,
          0.38039070767124006,
          -0.4321678825504317,
          -1.3169608985732824,
          1.0446582585781277,
          1.8480262263356928,
          -0.4532527549832854,
          0.2706580650625444,
          -0.22665173044390874,
          0.05181115815723766,
          -0.5417283794399212,
          1.1166506320083285,
          -0.14254506526142394,
          0.8459633017895346,
          -2.5397751668382043,
          -0.5552784592316042,
          -0.4822945755268403,
          0.12701578635685654,
          0.7148797761841683,
          -2.038555956140452,
          -1.994346917296289,
          2.630091203316942,
          -1.303775711537322,
          -1.1227860545476014,
          0.6671696461846212
         ],
         "xaxis": "x13",
         "y": [
          -0.2547583637030008,
          1.7153923145195713,
          -0.44925958380724423,
          0.3817122619289423,
          -0.9539184920139783,
          -0.5414724044802119,
          1.2886121853667651,
          0.4591371751815021,
          -0.8318466038311664,
          1.0559393125239018,
          -0.1211206779234331,
          -1.1264576740561543,
          -0.3490659386328372,
          1.5444800534649525,
          -0.9336657022168428,
          0.6184359745075972,
          0.454996050826126,
          -0.7926439856701983,
          -0.027341710630058188,
          0.46509407069501435,
          -0.12887852253916282,
          2.1770655884297736,
          1.0938041405441596,
          -0.3601929576483487,
          -1.5414169093827494,
          0.8588967455730289,
          -0.5595059459239674,
          0.39544057681840994,
          -0.5962805112692506,
          -0.09571817523462174,
          -1.760239437549029,
          -1.4282787997647104,
          1.0538189853494435,
          -1.1687967544211606,
          -1.0006899546625991,
          0.04007335183795498,
          -1.1306715264567835,
          0.7475261776718441,
          -0.44394833467424294,
          0.7060898668122305,
          0.27796354073246593,
          -0.7703457543729,
          0.8374644539808129,
          -1.3578814655629283,
          -1.9161877184637712,
          2.2245598157361663,
          0.8756510122696048,
          0.8185887351370049,
          0.8358635833428306,
          -0.7695508524195369,
          0.6676990328557973,
          1.2372978729226272,
          1.5157199194696185,
          -2.5401592383765985,
          2.688733856978057,
          -0.976225831781194,
          -0.17279282553758024,
          -2.2312411366371485,
          0.12104567018784905,
          0.8432613277615293,
          -1.3453703345388546,
          -0.7110083620041104,
          0.427802628801016,
          -0.828146143346612,
          -1.5251192269228544,
          0.34323461095761176,
          0.5874819483519925,
          0.06983636993549536,
          0.3139424566832101,
          -1.492755788001548,
          0.2603956017095522,
          0.7527731423923882,
          0.586476949046145,
          0.880429765315423,
          0.3666172118032136,
          1.006818999622996,
          0.4985990209983369,
          -1.2825106625556784,
          -2.249249371514007,
          -0.6152213554185121,
          -0.7380733493183868,
          -0.36522290632922705,
          0.1447213079834652,
          -0.9688082494329535,
          0.8637691020173891,
          1.2368450748511657,
          0.9289868927448707,
          -0.0037208588766144894,
          1.417465898869651,
          0.4691241844829205,
          -0.6732817808990572,
          1.2232277397651579,
          -1.0045760547542537,
          -0.22633756579704814,
          1.8947219421162727,
          -1.1503550790379204,
          0.6768960513088612,
          1.0679901667852234,
          0.550269322408129,
          -0.3390521921074524
         ],
         "yaxis": "y13"
        },
        {
         "line": {
          "color": "rgba(128, 128, 128, 1.0)",
          "dash": "solid",
          "shape": "linear",
          "width": 1.3
         },
         "marker": {
          "size": 2,
          "symbol": "circle"
         },
         "mode": "markers",
         "name": "D",
         "text": "",
         "type": "scatter",
         "x": [
          -0.08520702370665945,
          -0.5428353896137872,
          -0.9229682894210636,
          -1.1373838493074757,
          -0.59974338941446,
          -0.6226775282171854,
          -0.6909488674104681,
          -0.6429884712883694,
          -0.763829818415618,
          1.9126612513514099,
          0.5051946942444656,
          1.1534796814020114,
          -1.4973541967185586,
          -1.1603641595539111,
          1.2089092230741885,
          -1.2866488766091513,
          0.6253039088147416,
          0.09943432806814738,
          -1.81878967090492,
          0.45454932869301284,
          -1.0661959002998078,
          -0.45226231295844893,
          0.502073890766179,
          1.360000850818429,
          1.576199232879038,
          -0.991354458568695,
          -0.41864922052129755,
          -0.27693294224574005,
          -1.4369765922877695,
          -0.4564622304795268,
          -0.543033343656325,
          -0.796411024933017,
          -0.6674501440461106,
          -0.4083371687249216,
          -0.9477198563372072,
          0.17176129717986716,
          0.4348243846709589,
          0.29771223214238673,
          0.26427765803321684,
          -0.8363995101281714,
          0.8823759134303497,
          0.905607194137671,
          -0.5565870945944663,
          -0.41972347347737227,
          -1.9249329386407084,
          0.6295212818429051,
          0.8028696678842703,
          -0.9588753331328411,
          -2.0406461185745655,
          0.5798060382596439,
          -0.7415515925609483,
          -0.25876903380250166,
          2.182261418702065,
          1.0229115282733865,
          1.294722395518006,
          0.3884114484562883,
          -2.2263153739917003,
          -0.6268318814354596,
          -1.6025381888476122,
          -1.0045768452368167,
          -1.157463102824297,
          -0.5838177334890376,
          0.32452522809203876,
          -0.7419037873420108,
          0.8579172439573104,
          -1.5878134298301179,
          -0.21031196661969556,
          0.5675315039804291,
          -0.3621359496459766,
          0.32448366104306103,
          0.19420872288635715,
          -2.597531208936153,
          0.04676148891109547,
          -0.17483040082085477,
          -0.2621860092876313,
          -1.045483666627226,
          0.050234493136657045,
          -0.05791781576786074,
          0.513050713788694,
          -1.6255212702788666,
          -1.5156077636707201,
          -1.9785169493256909,
          -1.9490945331143803,
          -1.0806817557769284,
          1.6839128089017628,
          0.6076703250867478,
          -0.9721863273679423,
          0.6347401000811329,
          1.1733829018513646,
          2.481087579855182,
          0.7055191896422903,
          -1.0860434878294678,
          1.5917538490464633,
          0.257385934981979,
          -1.9815757748839793,
          -0.2840951440640914,
          -1.295585170698604,
          -0.3272390968001948,
          -0.7705741622343572,
          -0.12028512029356135
         ],
         "xaxis": "x14",
         "y": [
          -0.2547583637030008,
          1.7153923145195713,
          -0.44925958380724423,
          0.3817122619289423,
          -0.9539184920139783,
          -0.5414724044802119,
          1.2886121853667651,
          0.4591371751815021,
          -0.8318466038311664,
          1.0559393125239018,
          -0.1211206779234331,
          -1.1264576740561543,
          -0.3490659386328372,
          1.5444800534649525,
          -0.9336657022168428,
          0.6184359745075972,
          0.454996050826126,
          -0.7926439856701983,
          -0.027341710630058188,
          0.46509407069501435,
          -0.12887852253916282,
          2.1770655884297736,
          1.0938041405441596,
          -0.3601929576483487,
          -1.5414169093827494,
          0.8588967455730289,
          -0.5595059459239674,
          0.39544057681840994,
          -0.5962805112692506,
          -0.09571817523462174,
          -1.760239437549029,
          -1.4282787997647104,
          1.0538189853494435,
          -1.1687967544211606,
          -1.0006899546625991,
          0.04007335183795498,
          -1.1306715264567835,
          0.7475261776718441,
          -0.44394833467424294,
          0.7060898668122305,
          0.27796354073246593,
          -0.7703457543729,
          0.8374644539808129,
          -1.3578814655629283,
          -1.9161877184637712,
          2.2245598157361663,
          0.8756510122696048,
          0.8185887351370049,
          0.8358635833428306,
          -0.7695508524195369,
          0.6676990328557973,
          1.2372978729226272,
          1.5157199194696185,
          -2.5401592383765985,
          2.688733856978057,
          -0.976225831781194,
          -0.17279282553758024,
          -2.2312411366371485,
          0.12104567018784905,
          0.8432613277615293,
          -1.3453703345388546,
          -0.7110083620041104,
          0.427802628801016,
          -0.828146143346612,
          -1.5251192269228544,
          0.34323461095761176,
          0.5874819483519925,
          0.06983636993549536,
          0.3139424566832101,
          -1.492755788001548,
          0.2603956017095522,
          0.7527731423923882,
          0.586476949046145,
          0.880429765315423,
          0.3666172118032136,
          1.006818999622996,
          0.4985990209983369,
          -1.2825106625556784,
          -2.249249371514007,
          -0.6152213554185121,
          -0.7380733493183868,
          -0.36522290632922705,
          0.1447213079834652,
          -0.9688082494329535,
          0.8637691020173891,
          1.2368450748511657,
          0.9289868927448707,
          -0.0037208588766144894,
          1.417465898869651,
          0.4691241844829205,
          -0.6732817808990572,
          1.2232277397651579,
          -1.0045760547542537,
          -0.22633756579704814,
          1.8947219421162727,
          -1.1503550790379204,
          0.6768960513088612,
          1.0679901667852234,
          0.550269322408129,
          -0.3390521921074524
         ],
         "yaxis": "y14"
        },
        {
         "line": {
          "color": "rgba(128, 128, 128, 1.0)",
          "dash": "solid",
          "shape": "linear",
          "width": 1.3
         },
         "marker": {
          "size": 2,
          "symbol": "circle"
         },
         "mode": "markers",
         "name": "D",
         "text": "",
         "type": "scatter",
         "x": [
          -0.8936446390927574,
          -0.7946997115803555,
          -0.6641970253019951,
          0.10854762736244102,
          -0.5419366081440622,
          0.7347620301138176,
          1.211577767882975,
          -0.0073492529509151736,
          -0.8905222782055254,
          -0.20895947355587638,
          0.7216072090728042,
          0.7471611657676913,
          -1.857883654159354,
          1.5399644795570173,
          -2.1114706039932893,
          -0.27869828127472385,
          0.4108123490013363,
          0.6287474350771571,
          -0.045922216805762375,
          0.08305344366670474,
          -0.6327668276271052,
          2.104370421985547,
          0.8505626985666442,
          1.1368432936763215,
          0.046150979735368726,
          1.4399395142187927,
          -0.2191327979192292,
          -1.6245975976546034,
          1.2380609013958852,
          1.2869929141055805,
          0.2112601112189276,
          0.03577833563509893,
          0.04228057754471103,
          -0.18367568953869837,
          -0.058366605746244,
          1.2802015661999784,
          -0.34082159165414005,
          1.7581433100657584,
          0.9283819196486757,
          1.1695835151776708,
          0.0881061999660237,
          -0.046070216802679864,
          0.21954034544068105,
          1.6054149958236246,
          0.566294282764027,
          -0.4700588447800426,
          -0.8032406492975612,
          1.1257873036720174,
          -0.6327776781173501,
          -0.7196055061238562,
          2.2772966607591485,
          -1.7662618133492722,
          -0.8105273121331076,
          1.0414951531322088,
          -1.182415864274357,
          0.2778891944531858,
          0.6477779565295866,
          -1.2850822380960962,
          0.6078843560895357,
          -0.7893747586776593,
          -1.3810269824977204,
          0.0839802250563766,
          -0.1925459641559751,
          1.0448610760472854,
          -0.100612097321845,
          -0.6921324852841738,
          0.12474494450596404,
          -2.083715006962687,
          -0.04274220643320186,
          -1.5380138820173286,
          -0.06824507522006448,
          -0.7700581617758347,
          1.9614759743524235,
          0.236116634753566,
          -1.016540617631119,
          -2.1998884013802456,
          -0.6806725937182262,
          0.2202056281997777,
          0.26057422894712556,
          0.5591908240266653,
          0.20635827973177412,
          0.6269451963000509,
          0.36804646571791055,
          0.8484665156988875,
          -0.032805402678268286,
          0.3153792895292077,
          2.376969391867502,
          0.26044305501817483,
          1.3433999859819574,
          -1.1156861979306572,
          -0.4696670754262642,
          0.5844025105384789,
          -1.7364989229986567,
          -0.34542889234682367,
          1.2216811974503263,
          0.0601899165023874,
          -0.551271019517415,
          1.9075683564065347,
          0.7417191012240812,
          0.6810854840489595
         ],
         "xaxis": "x15",
         "y": [
          -0.2547583637030008,
          1.7153923145195713,
          -0.44925958380724423,
          0.3817122619289423,
          -0.9539184920139783,
          -0.5414724044802119,
          1.2886121853667651,
          0.4591371751815021,
          -0.8318466038311664,
          1.0559393125239018,
          -0.1211206779234331,
          -1.1264576740561543,
          -0.3490659386328372,
          1.5444800534649525,
          -0.9336657022168428,
          0.6184359745075972,
          0.454996050826126,
          -0.7926439856701983,
          -0.027341710630058188,
          0.46509407069501435,
          -0.12887852253916282,
          2.1770655884297736,
          1.0938041405441596,
          -0.3601929576483487,
          -1.5414169093827494,
          0.8588967455730289,
          -0.5595059459239674,
          0.39544057681840994,
          -0.5962805112692506,
          -0.09571817523462174,
          -1.760239437549029,
          -1.4282787997647104,
          1.0538189853494435,
          -1.1687967544211606,
          -1.0006899546625991,
          0.04007335183795498,
          -1.1306715264567835,
          0.7475261776718441,
          -0.44394833467424294,
          0.7060898668122305,
          0.27796354073246593,
          -0.7703457543729,
          0.8374644539808129,
          -1.3578814655629283,
          -1.9161877184637712,
          2.2245598157361663,
          0.8756510122696048,
          0.8185887351370049,
          0.8358635833428306,
          -0.7695508524195369,
          0.6676990328557973,
          1.2372978729226272,
          1.5157199194696185,
          -2.5401592383765985,
          2.688733856978057,
          -0.976225831781194,
          -0.17279282553758024,
          -2.2312411366371485,
          0.12104567018784905,
          0.8432613277615293,
          -1.3453703345388546,
          -0.7110083620041104,
          0.427802628801016,
          -0.828146143346612,
          -1.5251192269228544,
          0.34323461095761176,
          0.5874819483519925,
          0.06983636993549536,
          0.3139424566832101,
          -1.492755788001548,
          0.2603956017095522,
          0.7527731423923882,
          0.586476949046145,
          0.880429765315423,
          0.3666172118032136,
          1.006818999622996,
          0.4985990209983369,
          -1.2825106625556784,
          -2.249249371514007,
          -0.6152213554185121,
          -0.7380733493183868,
          -0.36522290632922705,
          0.1447213079834652,
          -0.9688082494329535,
          0.8637691020173891,
          1.2368450748511657,
          0.9289868927448707,
          -0.0037208588766144894,
          1.417465898869651,
          0.4691241844829205,
          -0.6732817808990572,
          1.2232277397651579,
          -1.0045760547542537,
          -0.22633756579704814,
          1.8947219421162727,
          -1.1503550790379204,
          0.6768960513088612,
          1.0679901667852234,
          0.550269322408129,
          -0.3390521921074524
         ],
         "yaxis": "y15"
        },
        {
         "histfunc": "count",
         "histnorm": "",
         "marker": {
          "color": "rgba(128, 0, 128, 1.0)",
          "line": {
           "color": "#4D5663",
           "width": 1.3
          }
         },
         "name": "D",
         "nbinsx": 10,
         "opacity": 0.8,
         "orientation": "v",
         "type": "histogram",
         "x": [
          -0.2547583637030008,
          1.7153923145195713,
          -0.44925958380724423,
          0.3817122619289423,
          -0.9539184920139783,
          -0.5414724044802119,
          1.2886121853667651,
          0.4591371751815021,
          -0.8318466038311664,
          1.0559393125239018,
          -0.1211206779234331,
          -1.1264576740561543,
          -0.3490659386328372,
          1.5444800534649525,
          -0.9336657022168428,
          0.6184359745075972,
          0.454996050826126,
          -0.7926439856701983,
          -0.027341710630058188,
          0.46509407069501435,
          -0.12887852253916282,
          2.1770655884297736,
          1.0938041405441596,
          -0.3601929576483487,
          -1.5414169093827494,
          0.8588967455730289,
          -0.5595059459239674,
          0.39544057681840994,
          -0.5962805112692506,
          -0.09571817523462174,
          -1.760239437549029,
          -1.4282787997647104,
          1.0538189853494435,
          -1.1687967544211606,
          -1.0006899546625991,
          0.04007335183795498,
          -1.1306715264567835,
          0.7475261776718441,
          -0.44394833467424294,
          0.7060898668122305,
          0.27796354073246593,
          -0.7703457543729,
          0.8374644539808129,
          -1.3578814655629283,
          -1.9161877184637712,
          2.2245598157361663,
          0.8756510122696048,
          0.8185887351370049,
          0.8358635833428306,
          -0.7695508524195369,
          0.6676990328557973,
          1.2372978729226272,
          1.5157199194696185,
          -2.5401592383765985,
          2.688733856978057,
          -0.976225831781194,
          -0.17279282553758024,
          -2.2312411366371485,
          0.12104567018784905,
          0.8432613277615293,
          -1.3453703345388546,
          -0.7110083620041104,
          0.427802628801016,
          -0.828146143346612,
          -1.5251192269228544,
          0.34323461095761176,
          0.5874819483519925,
          0.06983636993549536,
          0.3139424566832101,
          -1.492755788001548,
          0.2603956017095522,
          0.7527731423923882,
          0.586476949046145,
          0.880429765315423,
          0.3666172118032136,
          1.006818999622996,
          0.4985990209983369,
          -1.2825106625556784,
          -2.249249371514007,
          -0.6152213554185121,
          -0.7380733493183868,
          -0.36522290632922705,
          0.1447213079834652,
          -0.9688082494329535,
          0.8637691020173891,
          1.2368450748511657,
          0.9289868927448707,
          -0.0037208588766144894,
          1.417465898869651,
          0.4691241844829205,
          -0.6732817808990572,
          1.2232277397651579,
          -1.0045760547542537,
          -0.22633756579704814,
          1.8947219421162727,
          -1.1503550790379204,
          0.6768960513088612,
          1.0679901667852234,
          0.550269322408129,
          -0.3390521921074524
         ],
         "xaxis": "x16",
         "yaxis": "y16"
        }
       ],
       "layout": {
        "bargap": 0.02,
        "legend": {
         "bgcolor": "#F5F6F9",
         "font": {
          "color": "#4D5663"
         }
        },
        "paper_bgcolor": "#F5F6F9",
        "plot_bgcolor": "#F5F6F9",
        "showlegend": false,
        "template": {
         "data": {
          "bar": [
           {
            "error_x": {
             "color": "#2a3f5f"
            },
            "error_y": {
             "color": "#2a3f5f"
            },
            "marker": {
             "line": {
              "color": "#E5ECF6",
              "width": 0.5
             },
             "pattern": {
              "fillmode": "overlay",
              "size": 10,
              "solidity": 0.2
             }
            },
            "type": "bar"
           }
          ],
          "barpolar": [
           {
            "marker": {
             "line": {
              "color": "#E5ECF6",
              "width": 0.5
             },
             "pattern": {
              "fillmode": "overlay",
              "size": 10,
              "solidity": 0.2
             }
            },
            "type": "barpolar"
           }
          ],
          "carpet": [
           {
            "aaxis": {
             "endlinecolor": "#2a3f5f",
             "gridcolor": "white",
             "linecolor": "white",
             "minorgridcolor": "white",
             "startlinecolor": "#2a3f5f"
            },
            "baxis": {
             "endlinecolor": "#2a3f5f",
             "gridcolor": "white",
             "linecolor": "white",
             "minorgridcolor": "white",
             "startlinecolor": "#2a3f5f"
            },
            "type": "carpet"
           }
          ],
          "choropleth": [
           {
            "colorbar": {
             "outlinewidth": 0,
             "ticks": ""
            },
            "type": "choropleth"
           }
          ],
          "contour": [
           {
            "colorbar": {
             "outlinewidth": 0,
             "ticks": ""
            },
            "colorscale": [
             [
              0,
              "#0d0887"
             ],
             [
              0.1111111111111111,
              "#46039f"
             ],
             [
              0.2222222222222222,
              "#7201a8"
             ],
             [
              0.3333333333333333,
              "#9c179e"
             ],
             [
              0.4444444444444444,
              "#bd3786"
             ],
             [
              0.5555555555555556,
              "#d8576b"
             ],
             [
              0.6666666666666666,
              "#ed7953"
             ],
             [
              0.7777777777777778,
              "#fb9f3a"
             ],
             [
              0.8888888888888888,
              "#fdca26"
             ],
             [
              1,
              "#f0f921"
             ]
            ],
            "type": "contour"
           }
          ],
          "contourcarpet": [
           {
            "colorbar": {
             "outlinewidth": 0,
             "ticks": ""
            },
            "type": "contourcarpet"
           }
          ],
          "heatmap": [
           {
            "colorbar": {
             "outlinewidth": 0,
             "ticks": ""
            },
            "colorscale": [
             [
              0,
              "#0d0887"
             ],
             [
              0.1111111111111111,
              "#46039f"
             ],
             [
              0.2222222222222222,
              "#7201a8"
             ],
             [
              0.3333333333333333,
              "#9c179e"
             ],
             [
              0.4444444444444444,
              "#bd3786"
             ],
             [
              0.5555555555555556,
              "#d8576b"
             ],
             [
              0.6666666666666666,
              "#ed7953"
             ],
             [
              0.7777777777777778,
              "#fb9f3a"
             ],
             [
              0.8888888888888888,
              "#fdca26"
             ],
             [
              1,
              "#f0f921"
             ]
            ],
            "type": "heatmap"
           }
          ],
          "heatmapgl": [
           {
            "colorbar": {
             "outlinewidth": 0,
             "ticks": ""
            },
            "colorscale": [
             [
              0,
              "#0d0887"
             ],
             [
              0.1111111111111111,
              "#46039f"
             ],
             [
              0.2222222222222222,
              "#7201a8"
             ],
             [
              0.3333333333333333,
              "#9c179e"
             ],
             [
              0.4444444444444444,
              "#bd3786"
             ],
             [
              0.5555555555555556,
              "#d8576b"
             ],
             [
              0.6666666666666666,
              "#ed7953"
             ],
             [
              0.7777777777777778,
              "#fb9f3a"
             ],
             [
              0.8888888888888888,
              "#fdca26"
             ],
             [
              1,
              "#f0f921"
             ]
            ],
            "type": "heatmapgl"
           }
          ],
          "histogram": [
           {
            "marker": {
             "pattern": {
              "fillmode": "overlay",
              "size": 10,
              "solidity": 0.2
             }
            },
            "type": "histogram"
           }
          ],
          "histogram2d": [
           {
            "colorbar": {
             "outlinewidth": 0,
             "ticks": ""
            },
            "colorscale": [
             [
              0,
              "#0d0887"
             ],
             [
              0.1111111111111111,
              "#46039f"
             ],
             [
              0.2222222222222222,
              "#7201a8"
             ],
             [
              0.3333333333333333,
              "#9c179e"
             ],
             [
              0.4444444444444444,
              "#bd3786"
             ],
             [
              0.5555555555555556,
              "#d8576b"
             ],
             [
              0.6666666666666666,
              "#ed7953"
             ],
             [
              0.7777777777777778,
              "#fb9f3a"
             ],
             [
              0.8888888888888888,
              "#fdca26"
             ],
             [
              1,
              "#f0f921"
             ]
            ],
            "type": "histogram2d"
           }
          ],
          "histogram2dcontour": [
           {
            "colorbar": {
             "outlinewidth": 0,
             "ticks": ""
            },
            "colorscale": [
             [
              0,
              "#0d0887"
             ],
             [
              0.1111111111111111,
              "#46039f"
             ],
             [
              0.2222222222222222,
              "#7201a8"
             ],
             [
              0.3333333333333333,
              "#9c179e"
             ],
             [
              0.4444444444444444,
              "#bd3786"
             ],
             [
              0.5555555555555556,
              "#d8576b"
             ],
             [
              0.6666666666666666,
              "#ed7953"
             ],
             [
              0.7777777777777778,
              "#fb9f3a"
             ],
             [
              0.8888888888888888,
              "#fdca26"
             ],
             [
              1,
              "#f0f921"
             ]
            ],
            "type": "histogram2dcontour"
           }
          ],
          "mesh3d": [
           {
            "colorbar": {
             "outlinewidth": 0,
             "ticks": ""
            },
            "type": "mesh3d"
           }
          ],
          "parcoords": [
           {
            "line": {
             "colorbar": {
              "outlinewidth": 0,
              "ticks": ""
             }
            },
            "type": "parcoords"
           }
          ],
          "pie": [
           {
            "automargin": true,
            "type": "pie"
           }
          ],
          "scatter": [
           {
            "marker": {
             "colorbar": {
              "outlinewidth": 0,
              "ticks": ""
             }
            },
            "type": "scatter"
           }
          ],
          "scatter3d": [
           {
            "line": {
             "colorbar": {
              "outlinewidth": 0,
              "ticks": ""
             }
            },
            "marker": {
             "colorbar": {
              "outlinewidth": 0,
              "ticks": ""
             }
            },
            "type": "scatter3d"
           }
          ],
          "scattercarpet": [
           {
            "marker": {
             "colorbar": {
              "outlinewidth": 0,
              "ticks": ""
             }
            },
            "type": "scattercarpet"
           }
          ],
          "scattergeo": [
           {
            "marker": {
             "colorbar": {
              "outlinewidth": 0,
              "ticks": ""
             }
            },
            "type": "scattergeo"
           }
          ],
          "scattergl": [
           {
            "marker": {
             "colorbar": {
              "outlinewidth": 0,
              "ticks": ""
             }
            },
            "type": "scattergl"
           }
          ],
          "scattermapbox": [
           {
            "marker": {
             "colorbar": {
              "outlinewidth": 0,
              "ticks": ""
             }
            },
            "type": "scattermapbox"
           }
          ],
          "scatterpolar": [
           {
            "marker": {
             "colorbar": {
              "outlinewidth": 0,
              "ticks": ""
             }
            },
            "type": "scatterpolar"
           }
          ],
          "scatterpolargl": [
           {
            "marker": {
             "colorbar": {
              "outlinewidth": 0,
              "ticks": ""
             }
            },
            "type": "scatterpolargl"
           }
          ],
          "scatterternary": [
           {
            "marker": {
             "colorbar": {
              "outlinewidth": 0,
              "ticks": ""
             }
            },
            "type": "scatterternary"
           }
          ],
          "surface": [
           {
            "colorbar": {
             "outlinewidth": 0,
             "ticks": ""
            },
            "colorscale": [
             [
              0,
              "#0d0887"
             ],
             [
              0.1111111111111111,
              "#46039f"
             ],
             [
              0.2222222222222222,
              "#7201a8"
             ],
             [
              0.3333333333333333,
              "#9c179e"
             ],
             [
              0.4444444444444444,
              "#bd3786"
             ],
             [
              0.5555555555555556,
              "#d8576b"
             ],
             [
              0.6666666666666666,
              "#ed7953"
             ],
             [
              0.7777777777777778,
              "#fb9f3a"
             ],
             [
              0.8888888888888888,
              "#fdca26"
             ],
             [
              1,
              "#f0f921"
             ]
            ],
            "type": "surface"
           }
          ],
          "table": [
           {
            "cells": {
             "fill": {
              "color": "#EBF0F8"
             },
             "line": {
              "color": "white"
             }
            },
            "header": {
             "fill": {
              "color": "#C8D4E3"
             },
             "line": {
              "color": "white"
             }
            },
            "type": "table"
           }
          ]
         },
         "layout": {
          "annotationdefaults": {
           "arrowcolor": "#2a3f5f",
           "arrowhead": 0,
           "arrowwidth": 1
          },
          "autotypenumbers": "strict",
          "coloraxis": {
           "colorbar": {
            "outlinewidth": 0,
            "ticks": ""
           }
          },
          "colorscale": {
           "diverging": [
            [
             0,
             "#8e0152"
            ],
            [
             0.1,
             "#c51b7d"
            ],
            [
             0.2,
             "#de77ae"
            ],
            [
             0.3,
             "#f1b6da"
            ],
            [
             0.4,
             "#fde0ef"
            ],
            [
             0.5,
             "#f7f7f7"
            ],
            [
             0.6,
             "#e6f5d0"
            ],
            [
             0.7,
             "#b8e186"
            ],
            [
             0.8,
             "#7fbc41"
            ],
            [
             0.9,
             "#4d9221"
            ],
            [
             1,
             "#276419"
            ]
           ],
           "sequential": [
            [
             0,
             "#0d0887"
            ],
            [
             0.1111111111111111,
             "#46039f"
            ],
            [
             0.2222222222222222,
             "#7201a8"
            ],
            [
             0.3333333333333333,
             "#9c179e"
            ],
            [
             0.4444444444444444,
             "#bd3786"
            ],
            [
             0.5555555555555556,
             "#d8576b"
            ],
            [
             0.6666666666666666,
             "#ed7953"
            ],
            [
             0.7777777777777778,
             "#fb9f3a"
            ],
            [
             0.8888888888888888,
             "#fdca26"
            ],
            [
             1,
             "#f0f921"
            ]
           ],
           "sequentialminus": [
            [
             0,
             "#0d0887"
            ],
            [
             0.1111111111111111,
             "#46039f"
            ],
            [
             0.2222222222222222,
             "#7201a8"
            ],
            [
             0.3333333333333333,
             "#9c179e"
            ],
            [
             0.4444444444444444,
             "#bd3786"
            ],
            [
             0.5555555555555556,
             "#d8576b"
            ],
            [
             0.6666666666666666,
             "#ed7953"
            ],
            [
             0.7777777777777778,
             "#fb9f3a"
            ],
            [
             0.8888888888888888,
             "#fdca26"
            ],
            [
             1,
             "#f0f921"
            ]
           ]
          },
          "colorway": [
           "#636efa",
           "#EF553B",
           "#00cc96",
           "#ab63fa",
           "#FFA15A",
           "#19d3f3",
           "#FF6692",
           "#B6E880",
           "#FF97FF",
           "#FECB52"
          ],
          "font": {
           "color": "#2a3f5f"
          },
          "geo": {
           "bgcolor": "white",
           "lakecolor": "white",
           "landcolor": "#E5ECF6",
           "showlakes": true,
           "showland": true,
           "subunitcolor": "white"
          },
          "hoverlabel": {
           "align": "left"
          },
          "hovermode": "closest",
          "mapbox": {
           "style": "light"
          },
          "paper_bgcolor": "white",
          "plot_bgcolor": "#E5ECF6",
          "polar": {
           "angularaxis": {
            "gridcolor": "white",
            "linecolor": "white",
            "ticks": ""
           },
           "bgcolor": "#E5ECF6",
           "radialaxis": {
            "gridcolor": "white",
            "linecolor": "white",
            "ticks": ""
           }
          },
          "scene": {
           "xaxis": {
            "backgroundcolor": "#E5ECF6",
            "gridcolor": "white",
            "gridwidth": 2,
            "linecolor": "white",
            "showbackground": true,
            "ticks": "",
            "zerolinecolor": "white"
           },
           "yaxis": {
            "backgroundcolor": "#E5ECF6",
            "gridcolor": "white",
            "gridwidth": 2,
            "linecolor": "white",
            "showbackground": true,
            "ticks": "",
            "zerolinecolor": "white"
           },
           "zaxis": {
            "backgroundcolor": "#E5ECF6",
            "gridcolor": "white",
            "gridwidth": 2,
            "linecolor": "white",
            "showbackground": true,
            "ticks": "",
            "zerolinecolor": "white"
           }
          },
          "shapedefaults": {
           "line": {
            "color": "#2a3f5f"
           }
          },
          "ternary": {
           "aaxis": {
            "gridcolor": "white",
            "linecolor": "white",
            "ticks": ""
           },
           "baxis": {
            "gridcolor": "white",
            "linecolor": "white",
            "ticks": ""
           },
           "bgcolor": "#E5ECF6",
           "caxis": {
            "gridcolor": "white",
            "linecolor": "white",
            "ticks": ""
           }
          },
          "title": {
           "x": 0.05
          },
          "xaxis": {
           "automargin": true,
           "gridcolor": "white",
           "linecolor": "white",
           "ticks": "",
           "title": {
            "standoff": 15
           },
           "zerolinecolor": "white",
           "zerolinewidth": 2
          },
          "yaxis": {
           "automargin": true,
           "gridcolor": "white",
           "linecolor": "white",
           "ticks": "",
           "title": {
            "standoff": 15
           },
           "zerolinecolor": "white",
           "zerolinewidth": 2
          }
         }
        },
        "title": {
         "font": {
          "color": "#4D5663"
         }
        },
        "xaxis": {
         "anchor": "y",
         "domain": [
          0,
          0.2125
         ],
         "gridcolor": "#E1E5ED",
         "showgrid": false,
         "tickfont": {
          "color": "#4D5663"
         },
         "title": {
          "font": {
           "color": "#4D5663"
          },
          "text": ""
         },
         "zerolinecolor": "#E1E5ED"
        },
        "xaxis10": {
         "anchor": "y10",
         "domain": [
          0.2625,
          0.475
         ],
         "gridcolor": "#E1E5ED",
         "showgrid": false,
         "tickfont": {
          "color": "#4D5663"
         },
         "title": {
          "font": {
           "color": "#4D5663"
          },
          "text": ""
         },
         "zerolinecolor": "#E1E5ED"
        },
        "xaxis11": {
         "anchor": "y11",
         "domain": [
          0.525,
          0.7375
         ],
         "gridcolor": "#E1E5ED",
         "showgrid": false,
         "tickfont": {
          "color": "#4D5663"
         },
         "title": {
          "font": {
           "color": "#4D5663"
          },
          "text": ""
         },
         "zerolinecolor": "#E1E5ED"
        },
        "xaxis12": {
         "anchor": "y12",
         "domain": [
          0.7875,
          1
         ],
         "gridcolor": "#E1E5ED",
         "showgrid": false,
         "tickfont": {
          "color": "#4D5663"
         },
         "title": {
          "font": {
           "color": "#4D5663"
          },
          "text": ""
         },
         "zerolinecolor": "#E1E5ED"
        },
        "xaxis13": {
         "anchor": "y13",
         "domain": [
          0,
          0.2125
         ],
         "gridcolor": "#E1E5ED",
         "showgrid": false,
         "tickfont": {
          "color": "#4D5663"
         },
         "title": {
          "font": {
           "color": "#4D5663"
          },
          "text": ""
         },
         "zerolinecolor": "#E1E5ED"
        },
        "xaxis14": {
         "anchor": "y14",
         "domain": [
          0.2625,
          0.475
         ],
         "gridcolor": "#E1E5ED",
         "showgrid": false,
         "tickfont": {
          "color": "#4D5663"
         },
         "title": {
          "font": {
           "color": "#4D5663"
          },
          "text": ""
         },
         "zerolinecolor": "#E1E5ED"
        },
        "xaxis15": {
         "anchor": "y15",
         "domain": [
          0.525,
          0.7375
         ],
         "gridcolor": "#E1E5ED",
         "showgrid": false,
         "tickfont": {
          "color": "#4D5663"
         },
         "title": {
          "font": {
           "color": "#4D5663"
          },
          "text": ""
         },
         "zerolinecolor": "#E1E5ED"
        },
        "xaxis16": {
         "anchor": "y16",
         "domain": [
          0.7875,
          1
         ],
         "gridcolor": "#E1E5ED",
         "showgrid": false,
         "tickfont": {
          "color": "#4D5663"
         },
         "title": {
          "font": {
           "color": "#4D5663"
          },
          "text": ""
         },
         "zerolinecolor": "#E1E5ED"
        },
        "xaxis2": {
         "anchor": "y2",
         "domain": [
          0.2625,
          0.475
         ],
         "gridcolor": "#E1E5ED",
         "showgrid": false,
         "tickfont": {
          "color": "#4D5663"
         },
         "title": {
          "font": {
           "color": "#4D5663"
          },
          "text": ""
         },
         "zerolinecolor": "#E1E5ED"
        },
        "xaxis3": {
         "anchor": "y3",
         "domain": [
          0.525,
          0.7375
         ],
         "gridcolor": "#E1E5ED",
         "showgrid": false,
         "tickfont": {
          "color": "#4D5663"
         },
         "title": {
          "font": {
           "color": "#4D5663"
          },
          "text": ""
         },
         "zerolinecolor": "#E1E5ED"
        },
        "xaxis4": {
         "anchor": "y4",
         "domain": [
          0.7875,
          1
         ],
         "gridcolor": "#E1E5ED",
         "showgrid": false,
         "tickfont": {
          "color": "#4D5663"
         },
         "title": {
          "font": {
           "color": "#4D5663"
          },
          "text": ""
         },
         "zerolinecolor": "#E1E5ED"
        },
        "xaxis5": {
         "anchor": "y5",
         "domain": [
          0,
          0.2125
         ],
         "gridcolor": "#E1E5ED",
         "showgrid": false,
         "tickfont": {
          "color": "#4D5663"
         },
         "title": {
          "font": {
           "color": "#4D5663"
          },
          "text": ""
         },
         "zerolinecolor": "#E1E5ED"
        },
        "xaxis6": {
         "anchor": "y6",
         "domain": [
          0.2625,
          0.475
         ],
         "gridcolor": "#E1E5ED",
         "showgrid": false,
         "tickfont": {
          "color": "#4D5663"
         },
         "title": {
          "font": {
           "color": "#4D5663"
          },
          "text": ""
         },
         "zerolinecolor": "#E1E5ED"
        },
        "xaxis7": {
         "anchor": "y7",
         "domain": [
          0.525,
          0.7375
         ],
         "gridcolor": "#E1E5ED",
         "showgrid": false,
         "tickfont": {
          "color": "#4D5663"
         },
         "title": {
          "font": {
           "color": "#4D5663"
          },
          "text": ""
         },
         "zerolinecolor": "#E1E5ED"
        },
        "xaxis8": {
         "anchor": "y8",
         "domain": [
          0.7875,
          1
         ],
         "gridcolor": "#E1E5ED",
         "showgrid": false,
         "tickfont": {
          "color": "#4D5663"
         },
         "title": {
          "font": {
           "color": "#4D5663"
          },
          "text": ""
         },
         "zerolinecolor": "#E1E5ED"
        },
        "xaxis9": {
         "anchor": "y9",
         "domain": [
          0,
          0.2125
         ],
         "gridcolor": "#E1E5ED",
         "showgrid": false,
         "tickfont": {
          "color": "#4D5663"
         },
         "title": {
          "font": {
           "color": "#4D5663"
          },
          "text": ""
         },
         "zerolinecolor": "#E1E5ED"
        },
        "yaxis": {
         "anchor": "x",
         "domain": [
          0.8025,
          1
         ],
         "gridcolor": "#E1E5ED",
         "showgrid": false,
         "tickfont": {
          "color": "#4D5663"
         },
         "title": {
          "font": {
           "color": "#4D5663"
          },
          "text": ""
         },
         "zerolinecolor": "#E1E5ED"
        },
        "yaxis10": {
         "anchor": "x10",
         "domain": [
          0.2675,
          0.465
         ],
         "gridcolor": "#E1E5ED",
         "showgrid": false,
         "tickfont": {
          "color": "#4D5663"
         },
         "title": {
          "font": {
           "color": "#4D5663"
          },
          "text": ""
         },
         "zerolinecolor": "#E1E5ED"
        },
        "yaxis11": {
         "anchor": "x11",
         "domain": [
          0.2675,
          0.465
         ],
         "gridcolor": "#E1E5ED",
         "showgrid": false,
         "tickfont": {
          "color": "#4D5663"
         },
         "title": {
          "font": {
           "color": "#4D5663"
          },
          "text": ""
         },
         "zerolinecolor": "#E1E5ED"
        },
        "yaxis12": {
         "anchor": "x12",
         "domain": [
          0.2675,
          0.465
         ],
         "gridcolor": "#E1E5ED",
         "showgrid": false,
         "tickfont": {
          "color": "#4D5663"
         },
         "title": {
          "font": {
           "color": "#4D5663"
          },
          "text": ""
         },
         "zerolinecolor": "#E1E5ED"
        },
        "yaxis13": {
         "anchor": "x13",
         "domain": [
          0,
          0.1975
         ],
         "gridcolor": "#E1E5ED",
         "showgrid": false,
         "tickfont": {
          "color": "#4D5663"
         },
         "title": {
          "font": {
           "color": "#4D5663"
          },
          "text": ""
         },
         "zerolinecolor": "#E1E5ED"
        },
        "yaxis14": {
         "anchor": "x14",
         "domain": [
          0,
          0.1975
         ],
         "gridcolor": "#E1E5ED",
         "showgrid": false,
         "tickfont": {
          "color": "#4D5663"
         },
         "title": {
          "font": {
           "color": "#4D5663"
          },
          "text": ""
         },
         "zerolinecolor": "#E1E5ED"
        },
        "yaxis15": {
         "anchor": "x15",
         "domain": [
          0,
          0.1975
         ],
         "gridcolor": "#E1E5ED",
         "showgrid": false,
         "tickfont": {
          "color": "#4D5663"
         },
         "title": {
          "font": {
           "color": "#4D5663"
          },
          "text": ""
         },
         "zerolinecolor": "#E1E5ED"
        },
        "yaxis16": {
         "anchor": "x16",
         "domain": [
          0,
          0.1975
         ],
         "gridcolor": "#E1E5ED",
         "showgrid": false,
         "tickfont": {
          "color": "#4D5663"
         },
         "title": {
          "font": {
           "color": "#4D5663"
          },
          "text": ""
         },
         "zerolinecolor": "#E1E5ED"
        },
        "yaxis2": {
         "anchor": "x2",
         "domain": [
          0.8025,
          1
         ],
         "gridcolor": "#E1E5ED",
         "showgrid": false,
         "tickfont": {
          "color": "#4D5663"
         },
         "title": {
          "font": {
           "color": "#4D5663"
          },
          "text": ""
         },
         "zerolinecolor": "#E1E5ED"
        },
        "yaxis3": {
         "anchor": "x3",
         "domain": [
          0.8025,
          1
         ],
         "gridcolor": "#E1E5ED",
         "showgrid": false,
         "tickfont": {
          "color": "#4D5663"
         },
         "title": {
          "font": {
           "color": "#4D5663"
          },
          "text": ""
         },
         "zerolinecolor": "#E1E5ED"
        },
        "yaxis4": {
         "anchor": "x4",
         "domain": [
          0.8025,
          1
         ],
         "gridcolor": "#E1E5ED",
         "showgrid": false,
         "tickfont": {
          "color": "#4D5663"
         },
         "title": {
          "font": {
           "color": "#4D5663"
          },
          "text": ""
         },
         "zerolinecolor": "#E1E5ED"
        },
        "yaxis5": {
         "anchor": "x5",
         "domain": [
          0.535,
          0.7325
         ],
         "gridcolor": "#E1E5ED",
         "showgrid": false,
         "tickfont": {
          "color": "#4D5663"
         },
         "title": {
          "font": {
           "color": "#4D5663"
          },
          "text": ""
         },
         "zerolinecolor": "#E1E5ED"
        },
        "yaxis6": {
         "anchor": "x6",
         "domain": [
          0.535,
          0.7325
         ],
         "gridcolor": "#E1E5ED",
         "showgrid": false,
         "tickfont": {
          "color": "#4D5663"
         },
         "title": {
          "font": {
           "color": "#4D5663"
          },
          "text": ""
         },
         "zerolinecolor": "#E1E5ED"
        },
        "yaxis7": {
         "anchor": "x7",
         "domain": [
          0.535,
          0.7325
         ],
         "gridcolor": "#E1E5ED",
         "showgrid": false,
         "tickfont": {
          "color": "#4D5663"
         },
         "title": {
          "font": {
           "color": "#4D5663"
          },
          "text": ""
         },
         "zerolinecolor": "#E1E5ED"
        },
        "yaxis8": {
         "anchor": "x8",
         "domain": [
          0.535,
          0.7325
         ],
         "gridcolor": "#E1E5ED",
         "showgrid": false,
         "tickfont": {
          "color": "#4D5663"
         },
         "title": {
          "font": {
           "color": "#4D5663"
          },
          "text": ""
         },
         "zerolinecolor": "#E1E5ED"
        },
        "yaxis9": {
         "anchor": "x9",
         "domain": [
          0.2675,
          0.465
         ],
         "gridcolor": "#E1E5ED",
         "showgrid": false,
         "tickfont": {
          "color": "#4D5663"
         },
         "title": {
          "font": {
           "color": "#4D5663"
          },
          "text": ""
         },
         "zerolinecolor": "#E1E5ED"
        }
       }
      },
      "text/html": [
       "<div>                            <div id=\"bfd3ef89-337a-4e63-af59-6329ec7902bf\" class=\"plotly-graph-div\" style=\"height:525px; width:100%;\"></div>            <script type=\"text/javascript\">                require([\"plotly\"], function(Plotly) {                    window.PLOTLYENV=window.PLOTLYENV || {};\n",
       "                    window.PLOTLYENV.BASE_URL='https://plot.ly';                                    if (document.getElementById(\"bfd3ef89-337a-4e63-af59-6329ec7902bf\")) {                    Plotly.newPlot(                        \"bfd3ef89-337a-4e63-af59-6329ec7902bf\",                        [{\"histfunc\":\"count\",\"histnorm\":\"\",\"marker\":{\"color\":\"rgba(255, 153, 51, 1.0)\",\"line\":{\"color\":\"#4D5663\",\"width\":1.3}},\"name\":\"A\",\"nbinsx\":10,\"opacity\":0.8,\"orientation\":\"v\",\"type\":\"histogram\",\"x\":[-1.0256496621618938,-0.287105672454455,-0.6126639634228842,-1.8597037893552084,-0.9566427708642816,-0.22859819369550846,-0.4793812465302499,-2.4903951825038813,0.6035392131290644,2.677096068539839,0.5624731248787744,0.6222528642358222,-0.8490252514473418,-0.548810215060859,-0.5441384236153484,-2.5149406977090956,-0.3333675628721594,-1.245999584290874,-0.7903534761881433,1.5942982357052238,-1.5430176620588751,-0.13089543216082566,0.6700435896476531,-0.6069714026860633,1.2123405058155519,0.3749006858232452,-0.009946020164863893,1.5073145491676003,0.5699235250463723,0.7398952783904557,-1.1036200331677495,-0.29057344258650386,-1.7712973637365244,-0.389337166193235,0.3602812720007109,1.2395176372632817,-0.15738519218783073,-0.5722716346763621,0.07426592847210023,0.5334310013393081,1.006867506307998,-0.7966987716444317,-0.6176020520570332,-0.13744267022751766,0.7863067739194248,-1.194862481983797,-0.769640861846518,-2.122468731579507,-0.7632481255170883,-1.1025826503717449,-1.4045051468002292,0.8961136540172652,-1.0710974125608013,0.15498772074028588,1.4859884020677092,-0.577619136840705,1.0070183885795967,0.5852939462271314,0.8324944714535736,-0.5978250831419247,-1.178038718496559,3.5635564719893926,0.2949200815314698,-0.4067784379393906,1.787379881681812,-0.6804979122610798,1.0624202313096711,0.30189649555208004,-1.3803836409834225,1.8851095843009085,-0.25984318725201777,2.5727962929003705,-1.0745228643283593,0.24764449226937535,0.6818166884272487,-0.02858693606250979,0.38039070767124006,-0.4321678825504317,-1.3169608985732824,1.0446582585781277,1.8480262263356928,-0.4532527549832854,0.2706580650625444,-0.22665173044390874,0.05181115815723766,-0.5417283794399212,1.1166506320083285,-0.14254506526142394,0.8459633017895346,-2.5397751668382043,-0.5552784592316042,-0.4822945755268403,0.12701578635685654,0.7148797761841683,-2.038555956140452,-1.994346917296289,2.630091203316942,-1.303775711537322,-1.1227860545476014,0.6671696461846212],\"xaxis\":\"x\",\"yaxis\":\"y\"},{\"line\":{\"color\":\"rgba(128, 128, 128, 1.0)\",\"dash\":\"solid\",\"shape\":\"linear\",\"width\":1.3},\"marker\":{\"size\":2,\"symbol\":\"circle\"},\"mode\":\"markers\",\"name\":\"A\",\"text\":\"\",\"type\":\"scatter\",\"x\":[-0.08520702370665945,-0.5428353896137872,-0.9229682894210636,-1.1373838493074757,-0.59974338941446,-0.6226775282171854,-0.6909488674104681,-0.6429884712883694,-0.763829818415618,1.9126612513514099,0.5051946942444656,1.1534796814020114,-1.4973541967185586,-1.1603641595539111,1.2089092230741885,-1.2866488766091513,0.6253039088147416,0.09943432806814738,-1.81878967090492,0.45454932869301284,-1.0661959002998078,-0.45226231295844893,0.502073890766179,1.360000850818429,1.576199232879038,-0.991354458568695,-0.41864922052129755,-0.27693294224574005,-1.4369765922877695,-0.4564622304795268,-0.543033343656325,-0.796411024933017,-0.6674501440461106,-0.4083371687249216,-0.9477198563372072,0.17176129717986716,0.4348243846709589,0.29771223214238673,0.26427765803321684,-0.8363995101281714,0.8823759134303497,0.905607194137671,-0.5565870945944663,-0.41972347347737227,-1.9249329386407084,0.6295212818429051,0.8028696678842703,-0.9588753331328411,-2.0406461185745655,0.5798060382596439,-0.7415515925609483,-0.25876903380250166,2.182261418702065,1.0229115282733865,1.294722395518006,0.3884114484562883,-2.2263153739917003,-0.6268318814354596,-1.6025381888476122,-1.0045768452368167,-1.157463102824297,-0.5838177334890376,0.32452522809203876,-0.7419037873420108,0.8579172439573104,-1.5878134298301179,-0.21031196661969556,0.5675315039804291,-0.3621359496459766,0.32448366104306103,0.19420872288635715,-2.597531208936153,0.04676148891109547,-0.17483040082085477,-0.2621860092876313,-1.045483666627226,0.050234493136657045,-0.05791781576786074,0.513050713788694,-1.6255212702788666,-1.5156077636707201,-1.9785169493256909,-1.9490945331143803,-1.0806817557769284,1.6839128089017628,0.6076703250867478,-0.9721863273679423,0.6347401000811329,1.1733829018513646,2.481087579855182,0.7055191896422903,-1.0860434878294678,1.5917538490464633,0.257385934981979,-1.9815757748839793,-0.2840951440640914,-1.295585170698604,-0.3272390968001948,-0.7705741622343572,-0.12028512029356135],\"xaxis\":\"x2\",\"y\":[-1.0256496621618938,-0.287105672454455,-0.6126639634228842,-1.8597037893552084,-0.9566427708642816,-0.22859819369550846,-0.4793812465302499,-2.4903951825038813,0.6035392131290644,2.677096068539839,0.5624731248787744,0.6222528642358222,-0.8490252514473418,-0.548810215060859,-0.5441384236153484,-2.5149406977090956,-0.3333675628721594,-1.245999584290874,-0.7903534761881433,1.5942982357052238,-1.5430176620588751,-0.13089543216082566,0.6700435896476531,-0.6069714026860633,1.2123405058155519,0.3749006858232452,-0.009946020164863893,1.5073145491676003,0.5699235250463723,0.7398952783904557,-1.1036200331677495,-0.29057344258650386,-1.7712973637365244,-0.389337166193235,0.3602812720007109,1.2395176372632817,-0.15738519218783073,-0.5722716346763621,0.07426592847210023,0.5334310013393081,1.006867506307998,-0.7966987716444317,-0.6176020520570332,-0.13744267022751766,0.7863067739194248,-1.194862481983797,-0.769640861846518,-2.122468731579507,-0.7632481255170883,-1.1025826503717449,-1.4045051468002292,0.8961136540172652,-1.0710974125608013,0.15498772074028588,1.4859884020677092,-0.577619136840705,1.0070183885795967,0.5852939462271314,0.8324944714535736,-0.5978250831419247,-1.178038718496559,3.5635564719893926,0.2949200815314698,-0.4067784379393906,1.787379881681812,-0.6804979122610798,1.0624202313096711,0.30189649555208004,-1.3803836409834225,1.8851095843009085,-0.25984318725201777,2.5727962929003705,-1.0745228643283593,0.24764449226937535,0.6818166884272487,-0.02858693606250979,0.38039070767124006,-0.4321678825504317,-1.3169608985732824,1.0446582585781277,1.8480262263356928,-0.4532527549832854,0.2706580650625444,-0.22665173044390874,0.05181115815723766,-0.5417283794399212,1.1166506320083285,-0.14254506526142394,0.8459633017895346,-2.5397751668382043,-0.5552784592316042,-0.4822945755268403,0.12701578635685654,0.7148797761841683,-2.038555956140452,-1.994346917296289,2.630091203316942,-1.303775711537322,-1.1227860545476014,0.6671696461846212],\"yaxis\":\"y2\"},{\"line\":{\"color\":\"rgba(128, 128, 128, 1.0)\",\"dash\":\"solid\",\"shape\":\"linear\",\"width\":1.3},\"marker\":{\"size\":2,\"symbol\":\"circle\"},\"mode\":\"markers\",\"name\":\"A\",\"text\":\"\",\"type\":\"scatter\",\"x\":[-0.8936446390927574,-0.7946997115803555,-0.6641970253019951,0.10854762736244102,-0.5419366081440622,0.7347620301138176,1.211577767882975,-0.0073492529509151736,-0.8905222782055254,-0.20895947355587638,0.7216072090728042,0.7471611657676913,-1.857883654159354,1.5399644795570173,-2.1114706039932893,-0.27869828127472385,0.4108123490013363,0.6287474350771571,-0.045922216805762375,0.08305344366670474,-0.6327668276271052,2.104370421985547,0.8505626985666442,1.1368432936763215,0.046150979735368726,1.4399395142187927,-0.2191327979192292,-1.6245975976546034,1.2380609013958852,1.2869929141055805,0.2112601112189276,0.03577833563509893,0.04228057754471103,-0.18367568953869837,-0.058366605746244,1.2802015661999784,-0.34082159165414005,1.7581433100657584,0.9283819196486757,1.1695835151776708,0.0881061999660237,-0.046070216802679864,0.21954034544068105,1.6054149958236246,0.566294282764027,-0.4700588447800426,-0.8032406492975612,1.1257873036720174,-0.6327776781173501,-0.7196055061238562,2.2772966607591485,-1.7662618133492722,-0.8105273121331076,1.0414951531322088,-1.182415864274357,0.2778891944531858,0.6477779565295866,-1.2850822380960962,0.6078843560895357,-0.7893747586776593,-1.3810269824977204,0.0839802250563766,-0.1925459641559751,1.0448610760472854,-0.100612097321845,-0.6921324852841738,0.12474494450596404,-2.083715006962687,-0.04274220643320186,-1.5380138820173286,-0.06824507522006448,-0.7700581617758347,1.9614759743524235,0.236116634753566,-1.016540617631119,-2.1998884013802456,-0.6806725937182262,0.2202056281997777,0.26057422894712556,0.5591908240266653,0.20635827973177412,0.6269451963000509,0.36804646571791055,0.8484665156988875,-0.032805402678268286,0.3153792895292077,2.376969391867502,0.26044305501817483,1.3433999859819574,-1.1156861979306572,-0.4696670754262642,0.5844025105384789,-1.7364989229986567,-0.34542889234682367,1.2216811974503263,0.0601899165023874,-0.551271019517415,1.9075683564065347,0.7417191012240812,0.6810854840489595],\"xaxis\":\"x3\",\"y\":[-1.0256496621618938,-0.287105672454455,-0.6126639634228842,-1.8597037893552084,-0.9566427708642816,-0.22859819369550846,-0.4793812465302499,-2.4903951825038813,0.6035392131290644,2.677096068539839,0.5624731248787744,0.6222528642358222,-0.8490252514473418,-0.548810215060859,-0.5441384236153484,-2.5149406977090956,-0.3333675628721594,-1.245999584290874,-0.7903534761881433,1.5942982357052238,-1.5430176620588751,-0.13089543216082566,0.6700435896476531,-0.6069714026860633,1.2123405058155519,0.3749006858232452,-0.009946020164863893,1.5073145491676003,0.5699235250463723,0.7398952783904557,-1.1036200331677495,-0.29057344258650386,-1.7712973637365244,-0.389337166193235,0.3602812720007109,1.2395176372632817,-0.15738519218783073,-0.5722716346763621,0.07426592847210023,0.5334310013393081,1.006867506307998,-0.7966987716444317,-0.6176020520570332,-0.13744267022751766,0.7863067739194248,-1.194862481983797,-0.769640861846518,-2.122468731579507,-0.7632481255170883,-1.1025826503717449,-1.4045051468002292,0.8961136540172652,-1.0710974125608013,0.15498772074028588,1.4859884020677092,-0.577619136840705,1.0070183885795967,0.5852939462271314,0.8324944714535736,-0.5978250831419247,-1.178038718496559,3.5635564719893926,0.2949200815314698,-0.4067784379393906,1.787379881681812,-0.6804979122610798,1.0624202313096711,0.30189649555208004,-1.3803836409834225,1.8851095843009085,-0.25984318725201777,2.5727962929003705,-1.0745228643283593,0.24764449226937535,0.6818166884272487,-0.02858693606250979,0.38039070767124006,-0.4321678825504317,-1.3169608985732824,1.0446582585781277,1.8480262263356928,-0.4532527549832854,0.2706580650625444,-0.22665173044390874,0.05181115815723766,-0.5417283794399212,1.1166506320083285,-0.14254506526142394,0.8459633017895346,-2.5397751668382043,-0.5552784592316042,-0.4822945755268403,0.12701578635685654,0.7148797761841683,-2.038555956140452,-1.994346917296289,2.630091203316942,-1.303775711537322,-1.1227860545476014,0.6671696461846212],\"yaxis\":\"y3\"},{\"line\":{\"color\":\"rgba(128, 128, 128, 1.0)\",\"dash\":\"solid\",\"shape\":\"linear\",\"width\":1.3},\"marker\":{\"size\":2,\"symbol\":\"circle\"},\"mode\":\"markers\",\"name\":\"A\",\"text\":\"\",\"type\":\"scatter\",\"x\":[-0.2547583637030008,1.7153923145195713,-0.44925958380724423,0.3817122619289423,-0.9539184920139783,-0.5414724044802119,1.2886121853667651,0.4591371751815021,-0.8318466038311664,1.0559393125239018,-0.1211206779234331,-1.1264576740561543,-0.3490659386328372,1.5444800534649525,-0.9336657022168428,0.6184359745075972,0.454996050826126,-0.7926439856701983,-0.027341710630058188,0.46509407069501435,-0.12887852253916282,2.1770655884297736,1.0938041405441596,-0.3601929576483487,-1.5414169093827494,0.8588967455730289,-0.5595059459239674,0.39544057681840994,-0.5962805112692506,-0.09571817523462174,-1.760239437549029,-1.4282787997647104,1.0538189853494435,-1.1687967544211606,-1.0006899546625991,0.04007335183795498,-1.1306715264567835,0.7475261776718441,-0.44394833467424294,0.7060898668122305,0.27796354073246593,-0.7703457543729,0.8374644539808129,-1.3578814655629283,-1.9161877184637712,2.2245598157361663,0.8756510122696048,0.8185887351370049,0.8358635833428306,-0.7695508524195369,0.6676990328557973,1.2372978729226272,1.5157199194696185,-2.5401592383765985,2.688733856978057,-0.976225831781194,-0.17279282553758024,-2.2312411366371485,0.12104567018784905,0.8432613277615293,-1.3453703345388546,-0.7110083620041104,0.427802628801016,-0.828146143346612,-1.5251192269228544,0.34323461095761176,0.5874819483519925,0.06983636993549536,0.3139424566832101,-1.492755788001548,0.2603956017095522,0.7527731423923882,0.586476949046145,0.880429765315423,0.3666172118032136,1.006818999622996,0.4985990209983369,-1.2825106625556784,-2.249249371514007,-0.6152213554185121,-0.7380733493183868,-0.36522290632922705,0.1447213079834652,-0.9688082494329535,0.8637691020173891,1.2368450748511657,0.9289868927448707,-0.0037208588766144894,1.417465898869651,0.4691241844829205,-0.6732817808990572,1.2232277397651579,-1.0045760547542537,-0.22633756579704814,1.8947219421162727,-1.1503550790379204,0.6768960513088612,1.0679901667852234,0.550269322408129,-0.3390521921074524],\"xaxis\":\"x4\",\"y\":[-1.0256496621618938,-0.287105672454455,-0.6126639634228842,-1.8597037893552084,-0.9566427708642816,-0.22859819369550846,-0.4793812465302499,-2.4903951825038813,0.6035392131290644,2.677096068539839,0.5624731248787744,0.6222528642358222,-0.8490252514473418,-0.548810215060859,-0.5441384236153484,-2.5149406977090956,-0.3333675628721594,-1.245999584290874,-0.7903534761881433,1.5942982357052238,-1.5430176620588751,-0.13089543216082566,0.6700435896476531,-0.6069714026860633,1.2123405058155519,0.3749006858232452,-0.009946020164863893,1.5073145491676003,0.5699235250463723,0.7398952783904557,-1.1036200331677495,-0.29057344258650386,-1.7712973637365244,-0.389337166193235,0.3602812720007109,1.2395176372632817,-0.15738519218783073,-0.5722716346763621,0.07426592847210023,0.5334310013393081,1.006867506307998,-0.7966987716444317,-0.6176020520570332,-0.13744267022751766,0.7863067739194248,-1.194862481983797,-0.769640861846518,-2.122468731579507,-0.7632481255170883,-1.1025826503717449,-1.4045051468002292,0.8961136540172652,-1.0710974125608013,0.15498772074028588,1.4859884020677092,-0.577619136840705,1.0070183885795967,0.5852939462271314,0.8324944714535736,-0.5978250831419247,-1.178038718496559,3.5635564719893926,0.2949200815314698,-0.4067784379393906,1.787379881681812,-0.6804979122610798,1.0624202313096711,0.30189649555208004,-1.3803836409834225,1.8851095843009085,-0.25984318725201777,2.5727962929003705,-1.0745228643283593,0.24764449226937535,0.6818166884272487,-0.02858693606250979,0.38039070767124006,-0.4321678825504317,-1.3169608985732824,1.0446582585781277,1.8480262263356928,-0.4532527549832854,0.2706580650625444,-0.22665173044390874,0.05181115815723766,-0.5417283794399212,1.1166506320083285,-0.14254506526142394,0.8459633017895346,-2.5397751668382043,-0.5552784592316042,-0.4822945755268403,0.12701578635685654,0.7148797761841683,-2.038555956140452,-1.994346917296289,2.630091203316942,-1.303775711537322,-1.1227860545476014,0.6671696461846212],\"yaxis\":\"y4\"},{\"line\":{\"color\":\"rgba(128, 128, 128, 1.0)\",\"dash\":\"solid\",\"shape\":\"linear\",\"width\":1.3},\"marker\":{\"size\":2,\"symbol\":\"circle\"},\"mode\":\"markers\",\"name\":\"B\",\"text\":\"\",\"type\":\"scatter\",\"x\":[-1.0256496621618938,-0.287105672454455,-0.6126639634228842,-1.8597037893552084,-0.9566427708642816,-0.22859819369550846,-0.4793812465302499,-2.4903951825038813,0.6035392131290644,2.677096068539839,0.5624731248787744,0.6222528642358222,-0.8490252514473418,-0.548810215060859,-0.5441384236153484,-2.5149406977090956,-0.3333675628721594,-1.245999584290874,-0.7903534761881433,1.5942982357052238,-1.5430176620588751,-0.13089543216082566,0.6700435896476531,-0.6069714026860633,1.2123405058155519,0.3749006858232452,-0.009946020164863893,1.5073145491676003,0.5699235250463723,0.7398952783904557,-1.1036200331677495,-0.29057344258650386,-1.7712973637365244,-0.389337166193235,0.3602812720007109,1.2395176372632817,-0.15738519218783073,-0.5722716346763621,0.07426592847210023,0.5334310013393081,1.006867506307998,-0.7966987716444317,-0.6176020520570332,-0.13744267022751766,0.7863067739194248,-1.194862481983797,-0.769640861846518,-2.122468731579507,-0.7632481255170883,-1.1025826503717449,-1.4045051468002292,0.8961136540172652,-1.0710974125608013,0.15498772074028588,1.4859884020677092,-0.577619136840705,1.0070183885795967,0.5852939462271314,0.8324944714535736,-0.5978250831419247,-1.178038718496559,3.5635564719893926,0.2949200815314698,-0.4067784379393906,1.787379881681812,-0.6804979122610798,1.0624202313096711,0.30189649555208004,-1.3803836409834225,1.8851095843009085,-0.25984318725201777,2.5727962929003705,-1.0745228643283593,0.24764449226937535,0.6818166884272487,-0.02858693606250979,0.38039070767124006,-0.4321678825504317,-1.3169608985732824,1.0446582585781277,1.8480262263356928,-0.4532527549832854,0.2706580650625444,-0.22665173044390874,0.05181115815723766,-0.5417283794399212,1.1166506320083285,-0.14254506526142394,0.8459633017895346,-2.5397751668382043,-0.5552784592316042,-0.4822945755268403,0.12701578635685654,0.7148797761841683,-2.038555956140452,-1.994346917296289,2.630091203316942,-1.303775711537322,-1.1227860545476014,0.6671696461846212],\"xaxis\":\"x5\",\"y\":[-0.08520702370665945,-0.5428353896137872,-0.9229682894210636,-1.1373838493074757,-0.59974338941446,-0.6226775282171854,-0.6909488674104681,-0.6429884712883694,-0.763829818415618,1.9126612513514099,0.5051946942444656,1.1534796814020114,-1.4973541967185586,-1.1603641595539111,1.2089092230741885,-1.2866488766091513,0.6253039088147416,0.09943432806814738,-1.81878967090492,0.45454932869301284,-1.0661959002998078,-0.45226231295844893,0.502073890766179,1.360000850818429,1.576199232879038,-0.991354458568695,-0.41864922052129755,-0.27693294224574005,-1.4369765922877695,-0.4564622304795268,-0.543033343656325,-0.796411024933017,-0.6674501440461106,-0.4083371687249216,-0.9477198563372072,0.17176129717986716,0.4348243846709589,0.29771223214238673,0.26427765803321684,-0.8363995101281714,0.8823759134303497,0.905607194137671,-0.5565870945944663,-0.41972347347737227,-1.9249329386407084,0.6295212818429051,0.8028696678842703,-0.9588753331328411,-2.0406461185745655,0.5798060382596439,-0.7415515925609483,-0.25876903380250166,2.182261418702065,1.0229115282733865,1.294722395518006,0.3884114484562883,-2.2263153739917003,-0.6268318814354596,-1.6025381888476122,-1.0045768452368167,-1.157463102824297,-0.5838177334890376,0.32452522809203876,-0.7419037873420108,0.8579172439573104,-1.5878134298301179,-0.21031196661969556,0.5675315039804291,-0.3621359496459766,0.32448366104306103,0.19420872288635715,-2.597531208936153,0.04676148891109547,-0.17483040082085477,-0.2621860092876313,-1.045483666627226,0.050234493136657045,-0.05791781576786074,0.513050713788694,-1.6255212702788666,-1.5156077636707201,-1.9785169493256909,-1.9490945331143803,-1.0806817557769284,1.6839128089017628,0.6076703250867478,-0.9721863273679423,0.6347401000811329,1.1733829018513646,2.481087579855182,0.7055191896422903,-1.0860434878294678,1.5917538490464633,0.257385934981979,-1.9815757748839793,-0.2840951440640914,-1.295585170698604,-0.3272390968001948,-0.7705741622343572,-0.12028512029356135],\"yaxis\":\"y5\"},{\"histfunc\":\"count\",\"histnorm\":\"\",\"marker\":{\"color\":\"rgba(55, 128, 191, 1.0)\",\"line\":{\"color\":\"#4D5663\",\"width\":1.3}},\"name\":\"B\",\"nbinsx\":10,\"opacity\":0.8,\"orientation\":\"v\",\"type\":\"histogram\",\"x\":[-0.08520702370665945,-0.5428353896137872,-0.9229682894210636,-1.1373838493074757,-0.59974338941446,-0.6226775282171854,-0.6909488674104681,-0.6429884712883694,-0.763829818415618,1.9126612513514099,0.5051946942444656,1.1534796814020114,-1.4973541967185586,-1.1603641595539111,1.2089092230741885,-1.2866488766091513,0.6253039088147416,0.09943432806814738,-1.81878967090492,0.45454932869301284,-1.0661959002998078,-0.45226231295844893,0.502073890766179,1.360000850818429,1.576199232879038,-0.991354458568695,-0.41864922052129755,-0.27693294224574005,-1.4369765922877695,-0.4564622304795268,-0.543033343656325,-0.796411024933017,-0.6674501440461106,-0.4083371687249216,-0.9477198563372072,0.17176129717986716,0.4348243846709589,0.29771223214238673,0.26427765803321684,-0.8363995101281714,0.8823759134303497,0.905607194137671,-0.5565870945944663,-0.41972347347737227,-1.9249329386407084,0.6295212818429051,0.8028696678842703,-0.9588753331328411,-2.0406461185745655,0.5798060382596439,-0.7415515925609483,-0.25876903380250166,2.182261418702065,1.0229115282733865,1.294722395518006,0.3884114484562883,-2.2263153739917003,-0.6268318814354596,-1.6025381888476122,-1.0045768452368167,-1.157463102824297,-0.5838177334890376,0.32452522809203876,-0.7419037873420108,0.8579172439573104,-1.5878134298301179,-0.21031196661969556,0.5675315039804291,-0.3621359496459766,0.32448366104306103,0.19420872288635715,-2.597531208936153,0.04676148891109547,-0.17483040082085477,-0.2621860092876313,-1.045483666627226,0.050234493136657045,-0.05791781576786074,0.513050713788694,-1.6255212702788666,-1.5156077636707201,-1.9785169493256909,-1.9490945331143803,-1.0806817557769284,1.6839128089017628,0.6076703250867478,-0.9721863273679423,0.6347401000811329,1.1733829018513646,2.481087579855182,0.7055191896422903,-1.0860434878294678,1.5917538490464633,0.257385934981979,-1.9815757748839793,-0.2840951440640914,-1.295585170698604,-0.3272390968001948,-0.7705741622343572,-0.12028512029356135],\"xaxis\":\"x6\",\"yaxis\":\"y6\"},{\"line\":{\"color\":\"rgba(128, 128, 128, 1.0)\",\"dash\":\"solid\",\"shape\":\"linear\",\"width\":1.3},\"marker\":{\"size\":2,\"symbol\":\"circle\"},\"mode\":\"markers\",\"name\":\"B\",\"text\":\"\",\"type\":\"scatter\",\"x\":[-0.8936446390927574,-0.7946997115803555,-0.6641970253019951,0.10854762736244102,-0.5419366081440622,0.7347620301138176,1.211577767882975,-0.0073492529509151736,-0.8905222782055254,-0.20895947355587638,0.7216072090728042,0.7471611657676913,-1.857883654159354,1.5399644795570173,-2.1114706039932893,-0.27869828127472385,0.4108123490013363,0.6287474350771571,-0.045922216805762375,0.08305344366670474,-0.6327668276271052,2.104370421985547,0.8505626985666442,1.1368432936763215,0.046150979735368726,1.4399395142187927,-0.2191327979192292,-1.6245975976546034,1.2380609013958852,1.2869929141055805,0.2112601112189276,0.03577833563509893,0.04228057754471103,-0.18367568953869837,-0.058366605746244,1.2802015661999784,-0.34082159165414005,1.7581433100657584,0.9283819196486757,1.1695835151776708,0.0881061999660237,-0.046070216802679864,0.21954034544068105,1.6054149958236246,0.566294282764027,-0.4700588447800426,-0.8032406492975612,1.1257873036720174,-0.6327776781173501,-0.7196055061238562,2.2772966607591485,-1.7662618133492722,-0.8105273121331076,1.0414951531322088,-1.182415864274357,0.2778891944531858,0.6477779565295866,-1.2850822380960962,0.6078843560895357,-0.7893747586776593,-1.3810269824977204,0.0839802250563766,-0.1925459641559751,1.0448610760472854,-0.100612097321845,-0.6921324852841738,0.12474494450596404,-2.083715006962687,-0.04274220643320186,-1.5380138820173286,-0.06824507522006448,-0.7700581617758347,1.9614759743524235,0.236116634753566,-1.016540617631119,-2.1998884013802456,-0.6806725937182262,0.2202056281997777,0.26057422894712556,0.5591908240266653,0.20635827973177412,0.6269451963000509,0.36804646571791055,0.8484665156988875,-0.032805402678268286,0.3153792895292077,2.376969391867502,0.26044305501817483,1.3433999859819574,-1.1156861979306572,-0.4696670754262642,0.5844025105384789,-1.7364989229986567,-0.34542889234682367,1.2216811974503263,0.0601899165023874,-0.551271019517415,1.9075683564065347,0.7417191012240812,0.6810854840489595],\"xaxis\":\"x7\",\"y\":[-0.08520702370665945,-0.5428353896137872,-0.9229682894210636,-1.1373838493074757,-0.59974338941446,-0.6226775282171854,-0.6909488674104681,-0.6429884712883694,-0.763829818415618,1.9126612513514099,0.5051946942444656,1.1534796814020114,-1.4973541967185586,-1.1603641595539111,1.2089092230741885,-1.2866488766091513,0.6253039088147416,0.09943432806814738,-1.81878967090492,0.45454932869301284,-1.0661959002998078,-0.45226231295844893,0.502073890766179,1.360000850818429,1.576199232879038,-0.991354458568695,-0.41864922052129755,-0.27693294224574005,-1.4369765922877695,-0.4564622304795268,-0.543033343656325,-0.796411024933017,-0.6674501440461106,-0.4083371687249216,-0.9477198563372072,0.17176129717986716,0.4348243846709589,0.29771223214238673,0.26427765803321684,-0.8363995101281714,0.8823759134303497,0.905607194137671,-0.5565870945944663,-0.41972347347737227,-1.9249329386407084,0.6295212818429051,0.8028696678842703,-0.9588753331328411,-2.0406461185745655,0.5798060382596439,-0.7415515925609483,-0.25876903380250166,2.182261418702065,1.0229115282733865,1.294722395518006,0.3884114484562883,-2.2263153739917003,-0.6268318814354596,-1.6025381888476122,-1.0045768452368167,-1.157463102824297,-0.5838177334890376,0.32452522809203876,-0.7419037873420108,0.8579172439573104,-1.5878134298301179,-0.21031196661969556,0.5675315039804291,-0.3621359496459766,0.32448366104306103,0.19420872288635715,-2.597531208936153,0.04676148891109547,-0.17483040082085477,-0.2621860092876313,-1.045483666627226,0.050234493136657045,-0.05791781576786074,0.513050713788694,-1.6255212702788666,-1.5156077636707201,-1.9785169493256909,-1.9490945331143803,-1.0806817557769284,1.6839128089017628,0.6076703250867478,-0.9721863273679423,0.6347401000811329,1.1733829018513646,2.481087579855182,0.7055191896422903,-1.0860434878294678,1.5917538490464633,0.257385934981979,-1.9815757748839793,-0.2840951440640914,-1.295585170698604,-0.3272390968001948,-0.7705741622343572,-0.12028512029356135],\"yaxis\":\"y7\"},{\"line\":{\"color\":\"rgba(128, 128, 128, 1.0)\",\"dash\":\"solid\",\"shape\":\"linear\",\"width\":1.3},\"marker\":{\"size\":2,\"symbol\":\"circle\"},\"mode\":\"markers\",\"name\":\"B\",\"text\":\"\",\"type\":\"scatter\",\"x\":[-0.2547583637030008,1.7153923145195713,-0.44925958380724423,0.3817122619289423,-0.9539184920139783,-0.5414724044802119,1.2886121853667651,0.4591371751815021,-0.8318466038311664,1.0559393125239018,-0.1211206779234331,-1.1264576740561543,-0.3490659386328372,1.5444800534649525,-0.9336657022168428,0.6184359745075972,0.454996050826126,-0.7926439856701983,-0.027341710630058188,0.46509407069501435,-0.12887852253916282,2.1770655884297736,1.0938041405441596,-0.3601929576483487,-1.5414169093827494,0.8588967455730289,-0.5595059459239674,0.39544057681840994,-0.5962805112692506,-0.09571817523462174,-1.760239437549029,-1.4282787997647104,1.0538189853494435,-1.1687967544211606,-1.0006899546625991,0.04007335183795498,-1.1306715264567835,0.7475261776718441,-0.44394833467424294,0.7060898668122305,0.27796354073246593,-0.7703457543729,0.8374644539808129,-1.3578814655629283,-1.9161877184637712,2.2245598157361663,0.8756510122696048,0.8185887351370049,0.8358635833428306,-0.7695508524195369,0.6676990328557973,1.2372978729226272,1.5157199194696185,-2.5401592383765985,2.688733856978057,-0.976225831781194,-0.17279282553758024,-2.2312411366371485,0.12104567018784905,0.8432613277615293,-1.3453703345388546,-0.7110083620041104,0.427802628801016,-0.828146143346612,-1.5251192269228544,0.34323461095761176,0.5874819483519925,0.06983636993549536,0.3139424566832101,-1.492755788001548,0.2603956017095522,0.7527731423923882,0.586476949046145,0.880429765315423,0.3666172118032136,1.006818999622996,0.4985990209983369,-1.2825106625556784,-2.249249371514007,-0.6152213554185121,-0.7380733493183868,-0.36522290632922705,0.1447213079834652,-0.9688082494329535,0.8637691020173891,1.2368450748511657,0.9289868927448707,-0.0037208588766144894,1.417465898869651,0.4691241844829205,-0.6732817808990572,1.2232277397651579,-1.0045760547542537,-0.22633756579704814,1.8947219421162727,-1.1503550790379204,0.6768960513088612,1.0679901667852234,0.550269322408129,-0.3390521921074524],\"xaxis\":\"x8\",\"y\":[-0.08520702370665945,-0.5428353896137872,-0.9229682894210636,-1.1373838493074757,-0.59974338941446,-0.6226775282171854,-0.6909488674104681,-0.6429884712883694,-0.763829818415618,1.9126612513514099,0.5051946942444656,1.1534796814020114,-1.4973541967185586,-1.1603641595539111,1.2089092230741885,-1.2866488766091513,0.6253039088147416,0.09943432806814738,-1.81878967090492,0.45454932869301284,-1.0661959002998078,-0.45226231295844893,0.502073890766179,1.360000850818429,1.576199232879038,-0.991354458568695,-0.41864922052129755,-0.27693294224574005,-1.4369765922877695,-0.4564622304795268,-0.543033343656325,-0.796411024933017,-0.6674501440461106,-0.4083371687249216,-0.9477198563372072,0.17176129717986716,0.4348243846709589,0.29771223214238673,0.26427765803321684,-0.8363995101281714,0.8823759134303497,0.905607194137671,-0.5565870945944663,-0.41972347347737227,-1.9249329386407084,0.6295212818429051,0.8028696678842703,-0.9588753331328411,-2.0406461185745655,0.5798060382596439,-0.7415515925609483,-0.25876903380250166,2.182261418702065,1.0229115282733865,1.294722395518006,0.3884114484562883,-2.2263153739917003,-0.6268318814354596,-1.6025381888476122,-1.0045768452368167,-1.157463102824297,-0.5838177334890376,0.32452522809203876,-0.7419037873420108,0.8579172439573104,-1.5878134298301179,-0.21031196661969556,0.5675315039804291,-0.3621359496459766,0.32448366104306103,0.19420872288635715,-2.597531208936153,0.04676148891109547,-0.17483040082085477,-0.2621860092876313,-1.045483666627226,0.050234493136657045,-0.05791781576786074,0.513050713788694,-1.6255212702788666,-1.5156077636707201,-1.9785169493256909,-1.9490945331143803,-1.0806817557769284,1.6839128089017628,0.6076703250867478,-0.9721863273679423,0.6347401000811329,1.1733829018513646,2.481087579855182,0.7055191896422903,-1.0860434878294678,1.5917538490464633,0.257385934981979,-1.9815757748839793,-0.2840951440640914,-1.295585170698604,-0.3272390968001948,-0.7705741622343572,-0.12028512029356135],\"yaxis\":\"y8\"},{\"line\":{\"color\":\"rgba(128, 128, 128, 1.0)\",\"dash\":\"solid\",\"shape\":\"linear\",\"width\":1.3},\"marker\":{\"size\":2,\"symbol\":\"circle\"},\"mode\":\"markers\",\"name\":\"C\",\"text\":\"\",\"type\":\"scatter\",\"x\":[-1.0256496621618938,-0.287105672454455,-0.6126639634228842,-1.8597037893552084,-0.9566427708642816,-0.22859819369550846,-0.4793812465302499,-2.4903951825038813,0.6035392131290644,2.677096068539839,0.5624731248787744,0.6222528642358222,-0.8490252514473418,-0.548810215060859,-0.5441384236153484,-2.5149406977090956,-0.3333675628721594,-1.245999584290874,-0.7903534761881433,1.5942982357052238,-1.5430176620588751,-0.13089543216082566,0.6700435896476531,-0.6069714026860633,1.2123405058155519,0.3749006858232452,-0.009946020164863893,1.5073145491676003,0.5699235250463723,0.7398952783904557,-1.1036200331677495,-0.29057344258650386,-1.7712973637365244,-0.389337166193235,0.3602812720007109,1.2395176372632817,-0.15738519218783073,-0.5722716346763621,0.07426592847210023,0.5334310013393081,1.006867506307998,-0.7966987716444317,-0.6176020520570332,-0.13744267022751766,0.7863067739194248,-1.194862481983797,-0.769640861846518,-2.122468731579507,-0.7632481255170883,-1.1025826503717449,-1.4045051468002292,0.8961136540172652,-1.0710974125608013,0.15498772074028588,1.4859884020677092,-0.577619136840705,1.0070183885795967,0.5852939462271314,0.8324944714535736,-0.5978250831419247,-1.178038718496559,3.5635564719893926,0.2949200815314698,-0.4067784379393906,1.787379881681812,-0.6804979122610798,1.0624202313096711,0.30189649555208004,-1.3803836409834225,1.8851095843009085,-0.25984318725201777,2.5727962929003705,-1.0745228643283593,0.24764449226937535,0.6818166884272487,-0.02858693606250979,0.38039070767124006,-0.4321678825504317,-1.3169608985732824,1.0446582585781277,1.8480262263356928,-0.4532527549832854,0.2706580650625444,-0.22665173044390874,0.05181115815723766,-0.5417283794399212,1.1166506320083285,-0.14254506526142394,0.8459633017895346,-2.5397751668382043,-0.5552784592316042,-0.4822945755268403,0.12701578635685654,0.7148797761841683,-2.038555956140452,-1.994346917296289,2.630091203316942,-1.303775711537322,-1.1227860545476014,0.6671696461846212],\"xaxis\":\"x9\",\"y\":[-0.8936446390927574,-0.7946997115803555,-0.6641970253019951,0.10854762736244102,-0.5419366081440622,0.7347620301138176,1.211577767882975,-0.0073492529509151736,-0.8905222782055254,-0.20895947355587638,0.7216072090728042,0.7471611657676913,-1.857883654159354,1.5399644795570173,-2.1114706039932893,-0.27869828127472385,0.4108123490013363,0.6287474350771571,-0.045922216805762375,0.08305344366670474,-0.6327668276271052,2.104370421985547,0.8505626985666442,1.1368432936763215,0.046150979735368726,1.4399395142187927,-0.2191327979192292,-1.6245975976546034,1.2380609013958852,1.2869929141055805,0.2112601112189276,0.03577833563509893,0.04228057754471103,-0.18367568953869837,-0.058366605746244,1.2802015661999784,-0.34082159165414005,1.7581433100657584,0.9283819196486757,1.1695835151776708,0.0881061999660237,-0.046070216802679864,0.21954034544068105,1.6054149958236246,0.566294282764027,-0.4700588447800426,-0.8032406492975612,1.1257873036720174,-0.6327776781173501,-0.7196055061238562,2.2772966607591485,-1.7662618133492722,-0.8105273121331076,1.0414951531322088,-1.182415864274357,0.2778891944531858,0.6477779565295866,-1.2850822380960962,0.6078843560895357,-0.7893747586776593,-1.3810269824977204,0.0839802250563766,-0.1925459641559751,1.0448610760472854,-0.100612097321845,-0.6921324852841738,0.12474494450596404,-2.083715006962687,-0.04274220643320186,-1.5380138820173286,-0.06824507522006448,-0.7700581617758347,1.9614759743524235,0.236116634753566,-1.016540617631119,-2.1998884013802456,-0.6806725937182262,0.2202056281997777,0.26057422894712556,0.5591908240266653,0.20635827973177412,0.6269451963000509,0.36804646571791055,0.8484665156988875,-0.032805402678268286,0.3153792895292077,2.376969391867502,0.26044305501817483,1.3433999859819574,-1.1156861979306572,-0.4696670754262642,0.5844025105384789,-1.7364989229986567,-0.34542889234682367,1.2216811974503263,0.0601899165023874,-0.551271019517415,1.9075683564065347,0.7417191012240812,0.6810854840489595],\"yaxis\":\"y9\"},{\"line\":{\"color\":\"rgba(128, 128, 128, 1.0)\",\"dash\":\"solid\",\"shape\":\"linear\",\"width\":1.3},\"marker\":{\"size\":2,\"symbol\":\"circle\"},\"mode\":\"markers\",\"name\":\"C\",\"text\":\"\",\"type\":\"scatter\",\"x\":[-0.08520702370665945,-0.5428353896137872,-0.9229682894210636,-1.1373838493074757,-0.59974338941446,-0.6226775282171854,-0.6909488674104681,-0.6429884712883694,-0.763829818415618,1.9126612513514099,0.5051946942444656,1.1534796814020114,-1.4973541967185586,-1.1603641595539111,1.2089092230741885,-1.2866488766091513,0.6253039088147416,0.09943432806814738,-1.81878967090492,0.45454932869301284,-1.0661959002998078,-0.45226231295844893,0.502073890766179,1.360000850818429,1.576199232879038,-0.991354458568695,-0.41864922052129755,-0.27693294224574005,-1.4369765922877695,-0.4564622304795268,-0.543033343656325,-0.796411024933017,-0.6674501440461106,-0.4083371687249216,-0.9477198563372072,0.17176129717986716,0.4348243846709589,0.29771223214238673,0.26427765803321684,-0.8363995101281714,0.8823759134303497,0.905607194137671,-0.5565870945944663,-0.41972347347737227,-1.9249329386407084,0.6295212818429051,0.8028696678842703,-0.9588753331328411,-2.0406461185745655,0.5798060382596439,-0.7415515925609483,-0.25876903380250166,2.182261418702065,1.0229115282733865,1.294722395518006,0.3884114484562883,-2.2263153739917003,-0.6268318814354596,-1.6025381888476122,-1.0045768452368167,-1.157463102824297,-0.5838177334890376,0.32452522809203876,-0.7419037873420108,0.8579172439573104,-1.5878134298301179,-0.21031196661969556,0.5675315039804291,-0.3621359496459766,0.32448366104306103,0.19420872288635715,-2.597531208936153,0.04676148891109547,-0.17483040082085477,-0.2621860092876313,-1.045483666627226,0.050234493136657045,-0.05791781576786074,0.513050713788694,-1.6255212702788666,-1.5156077636707201,-1.9785169493256909,-1.9490945331143803,-1.0806817557769284,1.6839128089017628,0.6076703250867478,-0.9721863273679423,0.6347401000811329,1.1733829018513646,2.481087579855182,0.7055191896422903,-1.0860434878294678,1.5917538490464633,0.257385934981979,-1.9815757748839793,-0.2840951440640914,-1.295585170698604,-0.3272390968001948,-0.7705741622343572,-0.12028512029356135],\"xaxis\":\"x10\",\"y\":[-0.8936446390927574,-0.7946997115803555,-0.6641970253019951,0.10854762736244102,-0.5419366081440622,0.7347620301138176,1.211577767882975,-0.0073492529509151736,-0.8905222782055254,-0.20895947355587638,0.7216072090728042,0.7471611657676913,-1.857883654159354,1.5399644795570173,-2.1114706039932893,-0.27869828127472385,0.4108123490013363,0.6287474350771571,-0.045922216805762375,0.08305344366670474,-0.6327668276271052,2.104370421985547,0.8505626985666442,1.1368432936763215,0.046150979735368726,1.4399395142187927,-0.2191327979192292,-1.6245975976546034,1.2380609013958852,1.2869929141055805,0.2112601112189276,0.03577833563509893,0.04228057754471103,-0.18367568953869837,-0.058366605746244,1.2802015661999784,-0.34082159165414005,1.7581433100657584,0.9283819196486757,1.1695835151776708,0.0881061999660237,-0.046070216802679864,0.21954034544068105,1.6054149958236246,0.566294282764027,-0.4700588447800426,-0.8032406492975612,1.1257873036720174,-0.6327776781173501,-0.7196055061238562,2.2772966607591485,-1.7662618133492722,-0.8105273121331076,1.0414951531322088,-1.182415864274357,0.2778891944531858,0.6477779565295866,-1.2850822380960962,0.6078843560895357,-0.7893747586776593,-1.3810269824977204,0.0839802250563766,-0.1925459641559751,1.0448610760472854,-0.100612097321845,-0.6921324852841738,0.12474494450596404,-2.083715006962687,-0.04274220643320186,-1.5380138820173286,-0.06824507522006448,-0.7700581617758347,1.9614759743524235,0.236116634753566,-1.016540617631119,-2.1998884013802456,-0.6806725937182262,0.2202056281997777,0.26057422894712556,0.5591908240266653,0.20635827973177412,0.6269451963000509,0.36804646571791055,0.8484665156988875,-0.032805402678268286,0.3153792895292077,2.376969391867502,0.26044305501817483,1.3433999859819574,-1.1156861979306572,-0.4696670754262642,0.5844025105384789,-1.7364989229986567,-0.34542889234682367,1.2216811974503263,0.0601899165023874,-0.551271019517415,1.9075683564065347,0.7417191012240812,0.6810854840489595],\"yaxis\":\"y10\"},{\"histfunc\":\"count\",\"histnorm\":\"\",\"marker\":{\"color\":\"rgba(50, 171, 96, 1.0)\",\"line\":{\"color\":\"#4D5663\",\"width\":1.3}},\"name\":\"C\",\"nbinsx\":10,\"opacity\":0.8,\"orientation\":\"v\",\"type\":\"histogram\",\"x\":[-0.8936446390927574,-0.7946997115803555,-0.6641970253019951,0.10854762736244102,-0.5419366081440622,0.7347620301138176,1.211577767882975,-0.0073492529509151736,-0.8905222782055254,-0.20895947355587638,0.7216072090728042,0.7471611657676913,-1.857883654159354,1.5399644795570173,-2.1114706039932893,-0.27869828127472385,0.4108123490013363,0.6287474350771571,-0.045922216805762375,0.08305344366670474,-0.6327668276271052,2.104370421985547,0.8505626985666442,1.1368432936763215,0.046150979735368726,1.4399395142187927,-0.2191327979192292,-1.6245975976546034,1.2380609013958852,1.2869929141055805,0.2112601112189276,0.03577833563509893,0.04228057754471103,-0.18367568953869837,-0.058366605746244,1.2802015661999784,-0.34082159165414005,1.7581433100657584,0.9283819196486757,1.1695835151776708,0.0881061999660237,-0.046070216802679864,0.21954034544068105,1.6054149958236246,0.566294282764027,-0.4700588447800426,-0.8032406492975612,1.1257873036720174,-0.6327776781173501,-0.7196055061238562,2.2772966607591485,-1.7662618133492722,-0.8105273121331076,1.0414951531322088,-1.182415864274357,0.2778891944531858,0.6477779565295866,-1.2850822380960962,0.6078843560895357,-0.7893747586776593,-1.3810269824977204,0.0839802250563766,-0.1925459641559751,1.0448610760472854,-0.100612097321845,-0.6921324852841738,0.12474494450596404,-2.083715006962687,-0.04274220643320186,-1.5380138820173286,-0.06824507522006448,-0.7700581617758347,1.9614759743524235,0.236116634753566,-1.016540617631119,-2.1998884013802456,-0.6806725937182262,0.2202056281997777,0.26057422894712556,0.5591908240266653,0.20635827973177412,0.6269451963000509,0.36804646571791055,0.8484665156988875,-0.032805402678268286,0.3153792895292077,2.376969391867502,0.26044305501817483,1.3433999859819574,-1.1156861979306572,-0.4696670754262642,0.5844025105384789,-1.7364989229986567,-0.34542889234682367,1.2216811974503263,0.0601899165023874,-0.551271019517415,1.9075683564065347,0.7417191012240812,0.6810854840489595],\"xaxis\":\"x11\",\"yaxis\":\"y11\"},{\"line\":{\"color\":\"rgba(128, 128, 128, 1.0)\",\"dash\":\"solid\",\"shape\":\"linear\",\"width\":1.3},\"marker\":{\"size\":2,\"symbol\":\"circle\"},\"mode\":\"markers\",\"name\":\"C\",\"text\":\"\",\"type\":\"scatter\",\"x\":[-0.2547583637030008,1.7153923145195713,-0.44925958380724423,0.3817122619289423,-0.9539184920139783,-0.5414724044802119,1.2886121853667651,0.4591371751815021,-0.8318466038311664,1.0559393125239018,-0.1211206779234331,-1.1264576740561543,-0.3490659386328372,1.5444800534649525,-0.9336657022168428,0.6184359745075972,0.454996050826126,-0.7926439856701983,-0.027341710630058188,0.46509407069501435,-0.12887852253916282,2.1770655884297736,1.0938041405441596,-0.3601929576483487,-1.5414169093827494,0.8588967455730289,-0.5595059459239674,0.39544057681840994,-0.5962805112692506,-0.09571817523462174,-1.760239437549029,-1.4282787997647104,1.0538189853494435,-1.1687967544211606,-1.0006899546625991,0.04007335183795498,-1.1306715264567835,0.7475261776718441,-0.44394833467424294,0.7060898668122305,0.27796354073246593,-0.7703457543729,0.8374644539808129,-1.3578814655629283,-1.9161877184637712,2.2245598157361663,0.8756510122696048,0.8185887351370049,0.8358635833428306,-0.7695508524195369,0.6676990328557973,1.2372978729226272,1.5157199194696185,-2.5401592383765985,2.688733856978057,-0.976225831781194,-0.17279282553758024,-2.2312411366371485,0.12104567018784905,0.8432613277615293,-1.3453703345388546,-0.7110083620041104,0.427802628801016,-0.828146143346612,-1.5251192269228544,0.34323461095761176,0.5874819483519925,0.06983636993549536,0.3139424566832101,-1.492755788001548,0.2603956017095522,0.7527731423923882,0.586476949046145,0.880429765315423,0.3666172118032136,1.006818999622996,0.4985990209983369,-1.2825106625556784,-2.249249371514007,-0.6152213554185121,-0.7380733493183868,-0.36522290632922705,0.1447213079834652,-0.9688082494329535,0.8637691020173891,1.2368450748511657,0.9289868927448707,-0.0037208588766144894,1.417465898869651,0.4691241844829205,-0.6732817808990572,1.2232277397651579,-1.0045760547542537,-0.22633756579704814,1.8947219421162727,-1.1503550790379204,0.6768960513088612,1.0679901667852234,0.550269322408129,-0.3390521921074524],\"xaxis\":\"x12\",\"y\":[-0.8936446390927574,-0.7946997115803555,-0.6641970253019951,0.10854762736244102,-0.5419366081440622,0.7347620301138176,1.211577767882975,-0.0073492529509151736,-0.8905222782055254,-0.20895947355587638,0.7216072090728042,0.7471611657676913,-1.857883654159354,1.5399644795570173,-2.1114706039932893,-0.27869828127472385,0.4108123490013363,0.6287474350771571,-0.045922216805762375,0.08305344366670474,-0.6327668276271052,2.104370421985547,0.8505626985666442,1.1368432936763215,0.046150979735368726,1.4399395142187927,-0.2191327979192292,-1.6245975976546034,1.2380609013958852,1.2869929141055805,0.2112601112189276,0.03577833563509893,0.04228057754471103,-0.18367568953869837,-0.058366605746244,1.2802015661999784,-0.34082159165414005,1.7581433100657584,0.9283819196486757,1.1695835151776708,0.0881061999660237,-0.046070216802679864,0.21954034544068105,1.6054149958236246,0.566294282764027,-0.4700588447800426,-0.8032406492975612,1.1257873036720174,-0.6327776781173501,-0.7196055061238562,2.2772966607591485,-1.7662618133492722,-0.8105273121331076,1.0414951531322088,-1.182415864274357,0.2778891944531858,0.6477779565295866,-1.2850822380960962,0.6078843560895357,-0.7893747586776593,-1.3810269824977204,0.0839802250563766,-0.1925459641559751,1.0448610760472854,-0.100612097321845,-0.6921324852841738,0.12474494450596404,-2.083715006962687,-0.04274220643320186,-1.5380138820173286,-0.06824507522006448,-0.7700581617758347,1.9614759743524235,0.236116634753566,-1.016540617631119,-2.1998884013802456,-0.6806725937182262,0.2202056281997777,0.26057422894712556,0.5591908240266653,0.20635827973177412,0.6269451963000509,0.36804646571791055,0.8484665156988875,-0.032805402678268286,0.3153792895292077,2.376969391867502,0.26044305501817483,1.3433999859819574,-1.1156861979306572,-0.4696670754262642,0.5844025105384789,-1.7364989229986567,-0.34542889234682367,1.2216811974503263,0.0601899165023874,-0.551271019517415,1.9075683564065347,0.7417191012240812,0.6810854840489595],\"yaxis\":\"y12\"},{\"line\":{\"color\":\"rgba(128, 128, 128, 1.0)\",\"dash\":\"solid\",\"shape\":\"linear\",\"width\":1.3},\"marker\":{\"size\":2,\"symbol\":\"circle\"},\"mode\":\"markers\",\"name\":\"D\",\"text\":\"\",\"type\":\"scatter\",\"x\":[-1.0256496621618938,-0.287105672454455,-0.6126639634228842,-1.8597037893552084,-0.9566427708642816,-0.22859819369550846,-0.4793812465302499,-2.4903951825038813,0.6035392131290644,2.677096068539839,0.5624731248787744,0.6222528642358222,-0.8490252514473418,-0.548810215060859,-0.5441384236153484,-2.5149406977090956,-0.3333675628721594,-1.245999584290874,-0.7903534761881433,1.5942982357052238,-1.5430176620588751,-0.13089543216082566,0.6700435896476531,-0.6069714026860633,1.2123405058155519,0.3749006858232452,-0.009946020164863893,1.5073145491676003,0.5699235250463723,0.7398952783904557,-1.1036200331677495,-0.29057344258650386,-1.7712973637365244,-0.389337166193235,0.3602812720007109,1.2395176372632817,-0.15738519218783073,-0.5722716346763621,0.07426592847210023,0.5334310013393081,1.006867506307998,-0.7966987716444317,-0.6176020520570332,-0.13744267022751766,0.7863067739194248,-1.194862481983797,-0.769640861846518,-2.122468731579507,-0.7632481255170883,-1.1025826503717449,-1.4045051468002292,0.8961136540172652,-1.0710974125608013,0.15498772074028588,1.4859884020677092,-0.577619136840705,1.0070183885795967,0.5852939462271314,0.8324944714535736,-0.5978250831419247,-1.178038718496559,3.5635564719893926,0.2949200815314698,-0.4067784379393906,1.787379881681812,-0.6804979122610798,1.0624202313096711,0.30189649555208004,-1.3803836409834225,1.8851095843009085,-0.25984318725201777,2.5727962929003705,-1.0745228643283593,0.24764449226937535,0.6818166884272487,-0.02858693606250979,0.38039070767124006,-0.4321678825504317,-1.3169608985732824,1.0446582585781277,1.8480262263356928,-0.4532527549832854,0.2706580650625444,-0.22665173044390874,0.05181115815723766,-0.5417283794399212,1.1166506320083285,-0.14254506526142394,0.8459633017895346,-2.5397751668382043,-0.5552784592316042,-0.4822945755268403,0.12701578635685654,0.7148797761841683,-2.038555956140452,-1.994346917296289,2.630091203316942,-1.303775711537322,-1.1227860545476014,0.6671696461846212],\"xaxis\":\"x13\",\"y\":[-0.2547583637030008,1.7153923145195713,-0.44925958380724423,0.3817122619289423,-0.9539184920139783,-0.5414724044802119,1.2886121853667651,0.4591371751815021,-0.8318466038311664,1.0559393125239018,-0.1211206779234331,-1.1264576740561543,-0.3490659386328372,1.5444800534649525,-0.9336657022168428,0.6184359745075972,0.454996050826126,-0.7926439856701983,-0.027341710630058188,0.46509407069501435,-0.12887852253916282,2.1770655884297736,1.0938041405441596,-0.3601929576483487,-1.5414169093827494,0.8588967455730289,-0.5595059459239674,0.39544057681840994,-0.5962805112692506,-0.09571817523462174,-1.760239437549029,-1.4282787997647104,1.0538189853494435,-1.1687967544211606,-1.0006899546625991,0.04007335183795498,-1.1306715264567835,0.7475261776718441,-0.44394833467424294,0.7060898668122305,0.27796354073246593,-0.7703457543729,0.8374644539808129,-1.3578814655629283,-1.9161877184637712,2.2245598157361663,0.8756510122696048,0.8185887351370049,0.8358635833428306,-0.7695508524195369,0.6676990328557973,1.2372978729226272,1.5157199194696185,-2.5401592383765985,2.688733856978057,-0.976225831781194,-0.17279282553758024,-2.2312411366371485,0.12104567018784905,0.8432613277615293,-1.3453703345388546,-0.7110083620041104,0.427802628801016,-0.828146143346612,-1.5251192269228544,0.34323461095761176,0.5874819483519925,0.06983636993549536,0.3139424566832101,-1.492755788001548,0.2603956017095522,0.7527731423923882,0.586476949046145,0.880429765315423,0.3666172118032136,1.006818999622996,0.4985990209983369,-1.2825106625556784,-2.249249371514007,-0.6152213554185121,-0.7380733493183868,-0.36522290632922705,0.1447213079834652,-0.9688082494329535,0.8637691020173891,1.2368450748511657,0.9289868927448707,-0.0037208588766144894,1.417465898869651,0.4691241844829205,-0.6732817808990572,1.2232277397651579,-1.0045760547542537,-0.22633756579704814,1.8947219421162727,-1.1503550790379204,0.6768960513088612,1.0679901667852234,0.550269322408129,-0.3390521921074524],\"yaxis\":\"y13\"},{\"line\":{\"color\":\"rgba(128, 128, 128, 1.0)\",\"dash\":\"solid\",\"shape\":\"linear\",\"width\":1.3},\"marker\":{\"size\":2,\"symbol\":\"circle\"},\"mode\":\"markers\",\"name\":\"D\",\"text\":\"\",\"type\":\"scatter\",\"x\":[-0.08520702370665945,-0.5428353896137872,-0.9229682894210636,-1.1373838493074757,-0.59974338941446,-0.6226775282171854,-0.6909488674104681,-0.6429884712883694,-0.763829818415618,1.9126612513514099,0.5051946942444656,1.1534796814020114,-1.4973541967185586,-1.1603641595539111,1.2089092230741885,-1.2866488766091513,0.6253039088147416,0.09943432806814738,-1.81878967090492,0.45454932869301284,-1.0661959002998078,-0.45226231295844893,0.502073890766179,1.360000850818429,1.576199232879038,-0.991354458568695,-0.41864922052129755,-0.27693294224574005,-1.4369765922877695,-0.4564622304795268,-0.543033343656325,-0.796411024933017,-0.6674501440461106,-0.4083371687249216,-0.9477198563372072,0.17176129717986716,0.4348243846709589,0.29771223214238673,0.26427765803321684,-0.8363995101281714,0.8823759134303497,0.905607194137671,-0.5565870945944663,-0.41972347347737227,-1.9249329386407084,0.6295212818429051,0.8028696678842703,-0.9588753331328411,-2.0406461185745655,0.5798060382596439,-0.7415515925609483,-0.25876903380250166,2.182261418702065,1.0229115282733865,1.294722395518006,0.3884114484562883,-2.2263153739917003,-0.6268318814354596,-1.6025381888476122,-1.0045768452368167,-1.157463102824297,-0.5838177334890376,0.32452522809203876,-0.7419037873420108,0.8579172439573104,-1.5878134298301179,-0.21031196661969556,0.5675315039804291,-0.3621359496459766,0.32448366104306103,0.19420872288635715,-2.597531208936153,0.04676148891109547,-0.17483040082085477,-0.2621860092876313,-1.045483666627226,0.050234493136657045,-0.05791781576786074,0.513050713788694,-1.6255212702788666,-1.5156077636707201,-1.9785169493256909,-1.9490945331143803,-1.0806817557769284,1.6839128089017628,0.6076703250867478,-0.9721863273679423,0.6347401000811329,1.1733829018513646,2.481087579855182,0.7055191896422903,-1.0860434878294678,1.5917538490464633,0.257385934981979,-1.9815757748839793,-0.2840951440640914,-1.295585170698604,-0.3272390968001948,-0.7705741622343572,-0.12028512029356135],\"xaxis\":\"x14\",\"y\":[-0.2547583637030008,1.7153923145195713,-0.44925958380724423,0.3817122619289423,-0.9539184920139783,-0.5414724044802119,1.2886121853667651,0.4591371751815021,-0.8318466038311664,1.0559393125239018,-0.1211206779234331,-1.1264576740561543,-0.3490659386328372,1.5444800534649525,-0.9336657022168428,0.6184359745075972,0.454996050826126,-0.7926439856701983,-0.027341710630058188,0.46509407069501435,-0.12887852253916282,2.1770655884297736,1.0938041405441596,-0.3601929576483487,-1.5414169093827494,0.8588967455730289,-0.5595059459239674,0.39544057681840994,-0.5962805112692506,-0.09571817523462174,-1.760239437549029,-1.4282787997647104,1.0538189853494435,-1.1687967544211606,-1.0006899546625991,0.04007335183795498,-1.1306715264567835,0.7475261776718441,-0.44394833467424294,0.7060898668122305,0.27796354073246593,-0.7703457543729,0.8374644539808129,-1.3578814655629283,-1.9161877184637712,2.2245598157361663,0.8756510122696048,0.8185887351370049,0.8358635833428306,-0.7695508524195369,0.6676990328557973,1.2372978729226272,1.5157199194696185,-2.5401592383765985,2.688733856978057,-0.976225831781194,-0.17279282553758024,-2.2312411366371485,0.12104567018784905,0.8432613277615293,-1.3453703345388546,-0.7110083620041104,0.427802628801016,-0.828146143346612,-1.5251192269228544,0.34323461095761176,0.5874819483519925,0.06983636993549536,0.3139424566832101,-1.492755788001548,0.2603956017095522,0.7527731423923882,0.586476949046145,0.880429765315423,0.3666172118032136,1.006818999622996,0.4985990209983369,-1.2825106625556784,-2.249249371514007,-0.6152213554185121,-0.7380733493183868,-0.36522290632922705,0.1447213079834652,-0.9688082494329535,0.8637691020173891,1.2368450748511657,0.9289868927448707,-0.0037208588766144894,1.417465898869651,0.4691241844829205,-0.6732817808990572,1.2232277397651579,-1.0045760547542537,-0.22633756579704814,1.8947219421162727,-1.1503550790379204,0.6768960513088612,1.0679901667852234,0.550269322408129,-0.3390521921074524],\"yaxis\":\"y14\"},{\"line\":{\"color\":\"rgba(128, 128, 128, 1.0)\",\"dash\":\"solid\",\"shape\":\"linear\",\"width\":1.3},\"marker\":{\"size\":2,\"symbol\":\"circle\"},\"mode\":\"markers\",\"name\":\"D\",\"text\":\"\",\"type\":\"scatter\",\"x\":[-0.8936446390927574,-0.7946997115803555,-0.6641970253019951,0.10854762736244102,-0.5419366081440622,0.7347620301138176,1.211577767882975,-0.0073492529509151736,-0.8905222782055254,-0.20895947355587638,0.7216072090728042,0.7471611657676913,-1.857883654159354,1.5399644795570173,-2.1114706039932893,-0.27869828127472385,0.4108123490013363,0.6287474350771571,-0.045922216805762375,0.08305344366670474,-0.6327668276271052,2.104370421985547,0.8505626985666442,1.1368432936763215,0.046150979735368726,1.4399395142187927,-0.2191327979192292,-1.6245975976546034,1.2380609013958852,1.2869929141055805,0.2112601112189276,0.03577833563509893,0.04228057754471103,-0.18367568953869837,-0.058366605746244,1.2802015661999784,-0.34082159165414005,1.7581433100657584,0.9283819196486757,1.1695835151776708,0.0881061999660237,-0.046070216802679864,0.21954034544068105,1.6054149958236246,0.566294282764027,-0.4700588447800426,-0.8032406492975612,1.1257873036720174,-0.6327776781173501,-0.7196055061238562,2.2772966607591485,-1.7662618133492722,-0.8105273121331076,1.0414951531322088,-1.182415864274357,0.2778891944531858,0.6477779565295866,-1.2850822380960962,0.6078843560895357,-0.7893747586776593,-1.3810269824977204,0.0839802250563766,-0.1925459641559751,1.0448610760472854,-0.100612097321845,-0.6921324852841738,0.12474494450596404,-2.083715006962687,-0.04274220643320186,-1.5380138820173286,-0.06824507522006448,-0.7700581617758347,1.9614759743524235,0.236116634753566,-1.016540617631119,-2.1998884013802456,-0.6806725937182262,0.2202056281997777,0.26057422894712556,0.5591908240266653,0.20635827973177412,0.6269451963000509,0.36804646571791055,0.8484665156988875,-0.032805402678268286,0.3153792895292077,2.376969391867502,0.26044305501817483,1.3433999859819574,-1.1156861979306572,-0.4696670754262642,0.5844025105384789,-1.7364989229986567,-0.34542889234682367,1.2216811974503263,0.0601899165023874,-0.551271019517415,1.9075683564065347,0.7417191012240812,0.6810854840489595],\"xaxis\":\"x15\",\"y\":[-0.2547583637030008,1.7153923145195713,-0.44925958380724423,0.3817122619289423,-0.9539184920139783,-0.5414724044802119,1.2886121853667651,0.4591371751815021,-0.8318466038311664,1.0559393125239018,-0.1211206779234331,-1.1264576740561543,-0.3490659386328372,1.5444800534649525,-0.9336657022168428,0.6184359745075972,0.454996050826126,-0.7926439856701983,-0.027341710630058188,0.46509407069501435,-0.12887852253916282,2.1770655884297736,1.0938041405441596,-0.3601929576483487,-1.5414169093827494,0.8588967455730289,-0.5595059459239674,0.39544057681840994,-0.5962805112692506,-0.09571817523462174,-1.760239437549029,-1.4282787997647104,1.0538189853494435,-1.1687967544211606,-1.0006899546625991,0.04007335183795498,-1.1306715264567835,0.7475261776718441,-0.44394833467424294,0.7060898668122305,0.27796354073246593,-0.7703457543729,0.8374644539808129,-1.3578814655629283,-1.9161877184637712,2.2245598157361663,0.8756510122696048,0.8185887351370049,0.8358635833428306,-0.7695508524195369,0.6676990328557973,1.2372978729226272,1.5157199194696185,-2.5401592383765985,2.688733856978057,-0.976225831781194,-0.17279282553758024,-2.2312411366371485,0.12104567018784905,0.8432613277615293,-1.3453703345388546,-0.7110083620041104,0.427802628801016,-0.828146143346612,-1.5251192269228544,0.34323461095761176,0.5874819483519925,0.06983636993549536,0.3139424566832101,-1.492755788001548,0.2603956017095522,0.7527731423923882,0.586476949046145,0.880429765315423,0.3666172118032136,1.006818999622996,0.4985990209983369,-1.2825106625556784,-2.249249371514007,-0.6152213554185121,-0.7380733493183868,-0.36522290632922705,0.1447213079834652,-0.9688082494329535,0.8637691020173891,1.2368450748511657,0.9289868927448707,-0.0037208588766144894,1.417465898869651,0.4691241844829205,-0.6732817808990572,1.2232277397651579,-1.0045760547542537,-0.22633756579704814,1.8947219421162727,-1.1503550790379204,0.6768960513088612,1.0679901667852234,0.550269322408129,-0.3390521921074524],\"yaxis\":\"y15\"},{\"histfunc\":\"count\",\"histnorm\":\"\",\"marker\":{\"color\":\"rgba(128, 0, 128, 1.0)\",\"line\":{\"color\":\"#4D5663\",\"width\":1.3}},\"name\":\"D\",\"nbinsx\":10,\"opacity\":0.8,\"orientation\":\"v\",\"type\":\"histogram\",\"x\":[-0.2547583637030008,1.7153923145195713,-0.44925958380724423,0.3817122619289423,-0.9539184920139783,-0.5414724044802119,1.2886121853667651,0.4591371751815021,-0.8318466038311664,1.0559393125239018,-0.1211206779234331,-1.1264576740561543,-0.3490659386328372,1.5444800534649525,-0.9336657022168428,0.6184359745075972,0.454996050826126,-0.7926439856701983,-0.027341710630058188,0.46509407069501435,-0.12887852253916282,2.1770655884297736,1.0938041405441596,-0.3601929576483487,-1.5414169093827494,0.8588967455730289,-0.5595059459239674,0.39544057681840994,-0.5962805112692506,-0.09571817523462174,-1.760239437549029,-1.4282787997647104,1.0538189853494435,-1.1687967544211606,-1.0006899546625991,0.04007335183795498,-1.1306715264567835,0.7475261776718441,-0.44394833467424294,0.7060898668122305,0.27796354073246593,-0.7703457543729,0.8374644539808129,-1.3578814655629283,-1.9161877184637712,2.2245598157361663,0.8756510122696048,0.8185887351370049,0.8358635833428306,-0.7695508524195369,0.6676990328557973,1.2372978729226272,1.5157199194696185,-2.5401592383765985,2.688733856978057,-0.976225831781194,-0.17279282553758024,-2.2312411366371485,0.12104567018784905,0.8432613277615293,-1.3453703345388546,-0.7110083620041104,0.427802628801016,-0.828146143346612,-1.5251192269228544,0.34323461095761176,0.5874819483519925,0.06983636993549536,0.3139424566832101,-1.492755788001548,0.2603956017095522,0.7527731423923882,0.586476949046145,0.880429765315423,0.3666172118032136,1.006818999622996,0.4985990209983369,-1.2825106625556784,-2.249249371514007,-0.6152213554185121,-0.7380733493183868,-0.36522290632922705,0.1447213079834652,-0.9688082494329535,0.8637691020173891,1.2368450748511657,0.9289868927448707,-0.0037208588766144894,1.417465898869651,0.4691241844829205,-0.6732817808990572,1.2232277397651579,-1.0045760547542537,-0.22633756579704814,1.8947219421162727,-1.1503550790379204,0.6768960513088612,1.0679901667852234,0.550269322408129,-0.3390521921074524],\"xaxis\":\"x16\",\"yaxis\":\"y16\"}],                        {\"bargap\":0.02,\"legend\":{\"bgcolor\":\"#F5F6F9\",\"font\":{\"color\":\"#4D5663\"}},\"paper_bgcolor\":\"#F5F6F9\",\"plot_bgcolor\":\"#F5F6F9\",\"showlegend\":false,\"template\":{\"data\":{\"bar\":[{\"error_x\":{\"color\":\"#2a3f5f\"},\"error_y\":{\"color\":\"#2a3f5f\"},\"marker\":{\"line\":{\"color\":\"#E5ECF6\",\"width\":0.5},\"pattern\":{\"fillmode\":\"overlay\",\"size\":10,\"solidity\":0.2}},\"type\":\"bar\"}],\"barpolar\":[{\"marker\":{\"line\":{\"color\":\"#E5ECF6\",\"width\":0.5},\"pattern\":{\"fillmode\":\"overlay\",\"size\":10,\"solidity\":0.2}},\"type\":\"barpolar\"}],\"carpet\":[{\"aaxis\":{\"endlinecolor\":\"#2a3f5f\",\"gridcolor\":\"white\",\"linecolor\":\"white\",\"minorgridcolor\":\"white\",\"startlinecolor\":\"#2a3f5f\"},\"baxis\":{\"endlinecolor\":\"#2a3f5f\",\"gridcolor\":\"white\",\"linecolor\":\"white\",\"minorgridcolor\":\"white\",\"startlinecolor\":\"#2a3f5f\"},\"type\":\"carpet\"}],\"choropleth\":[{\"colorbar\":{\"outlinewidth\":0,\"ticks\":\"\"},\"type\":\"choropleth\"}],\"contour\":[{\"colorbar\":{\"outlinewidth\":0,\"ticks\":\"\"},\"colorscale\":[[0.0,\"#0d0887\"],[0.1111111111111111,\"#46039f\"],[0.2222222222222222,\"#7201a8\"],[0.3333333333333333,\"#9c179e\"],[0.4444444444444444,\"#bd3786\"],[0.5555555555555556,\"#d8576b\"],[0.6666666666666666,\"#ed7953\"],[0.7777777777777778,\"#fb9f3a\"],[0.8888888888888888,\"#fdca26\"],[1.0,\"#f0f921\"]],\"type\":\"contour\"}],\"contourcarpet\":[{\"colorbar\":{\"outlinewidth\":0,\"ticks\":\"\"},\"type\":\"contourcarpet\"}],\"heatmap\":[{\"colorbar\":{\"outlinewidth\":0,\"ticks\":\"\"},\"colorscale\":[[0.0,\"#0d0887\"],[0.1111111111111111,\"#46039f\"],[0.2222222222222222,\"#7201a8\"],[0.3333333333333333,\"#9c179e\"],[0.4444444444444444,\"#bd3786\"],[0.5555555555555556,\"#d8576b\"],[0.6666666666666666,\"#ed7953\"],[0.7777777777777778,\"#fb9f3a\"],[0.8888888888888888,\"#fdca26\"],[1.0,\"#f0f921\"]],\"type\":\"heatmap\"}],\"heatmapgl\":[{\"colorbar\":{\"outlinewidth\":0,\"ticks\":\"\"},\"colorscale\":[[0.0,\"#0d0887\"],[0.1111111111111111,\"#46039f\"],[0.2222222222222222,\"#7201a8\"],[0.3333333333333333,\"#9c179e\"],[0.4444444444444444,\"#bd3786\"],[0.5555555555555556,\"#d8576b\"],[0.6666666666666666,\"#ed7953\"],[0.7777777777777778,\"#fb9f3a\"],[0.8888888888888888,\"#fdca26\"],[1.0,\"#f0f921\"]],\"type\":\"heatmapgl\"}],\"histogram\":[{\"marker\":{\"pattern\":{\"fillmode\":\"overlay\",\"size\":10,\"solidity\":0.2}},\"type\":\"histogram\"}],\"histogram2d\":[{\"colorbar\":{\"outlinewidth\":0,\"ticks\":\"\"},\"colorscale\":[[0.0,\"#0d0887\"],[0.1111111111111111,\"#46039f\"],[0.2222222222222222,\"#7201a8\"],[0.3333333333333333,\"#9c179e\"],[0.4444444444444444,\"#bd3786\"],[0.5555555555555556,\"#d8576b\"],[0.6666666666666666,\"#ed7953\"],[0.7777777777777778,\"#fb9f3a\"],[0.8888888888888888,\"#fdca26\"],[1.0,\"#f0f921\"]],\"type\":\"histogram2d\"}],\"histogram2dcontour\":[{\"colorbar\":{\"outlinewidth\":0,\"ticks\":\"\"},\"colorscale\":[[0.0,\"#0d0887\"],[0.1111111111111111,\"#46039f\"],[0.2222222222222222,\"#7201a8\"],[0.3333333333333333,\"#9c179e\"],[0.4444444444444444,\"#bd3786\"],[0.5555555555555556,\"#d8576b\"],[0.6666666666666666,\"#ed7953\"],[0.7777777777777778,\"#fb9f3a\"],[0.8888888888888888,\"#fdca26\"],[1.0,\"#f0f921\"]],\"type\":\"histogram2dcontour\"}],\"mesh3d\":[{\"colorbar\":{\"outlinewidth\":0,\"ticks\":\"\"},\"type\":\"mesh3d\"}],\"parcoords\":[{\"line\":{\"colorbar\":{\"outlinewidth\":0,\"ticks\":\"\"}},\"type\":\"parcoords\"}],\"pie\":[{\"automargin\":true,\"type\":\"pie\"}],\"scatter\":[{\"marker\":{\"colorbar\":{\"outlinewidth\":0,\"ticks\":\"\"}},\"type\":\"scatter\"}],\"scatter3d\":[{\"line\":{\"colorbar\":{\"outlinewidth\":0,\"ticks\":\"\"}},\"marker\":{\"colorbar\":{\"outlinewidth\":0,\"ticks\":\"\"}},\"type\":\"scatter3d\"}],\"scattercarpet\":[{\"marker\":{\"colorbar\":{\"outlinewidth\":0,\"ticks\":\"\"}},\"type\":\"scattercarpet\"}],\"scattergeo\":[{\"marker\":{\"colorbar\":{\"outlinewidth\":0,\"ticks\":\"\"}},\"type\":\"scattergeo\"}],\"scattergl\":[{\"marker\":{\"colorbar\":{\"outlinewidth\":0,\"ticks\":\"\"}},\"type\":\"scattergl\"}],\"scattermapbox\":[{\"marker\":{\"colorbar\":{\"outlinewidth\":0,\"ticks\":\"\"}},\"type\":\"scattermapbox\"}],\"scatterpolar\":[{\"marker\":{\"colorbar\":{\"outlinewidth\":0,\"ticks\":\"\"}},\"type\":\"scatterpolar\"}],\"scatterpolargl\":[{\"marker\":{\"colorbar\":{\"outlinewidth\":0,\"ticks\":\"\"}},\"type\":\"scatterpolargl\"}],\"scatterternary\":[{\"marker\":{\"colorbar\":{\"outlinewidth\":0,\"ticks\":\"\"}},\"type\":\"scatterternary\"}],\"surface\":[{\"colorbar\":{\"outlinewidth\":0,\"ticks\":\"\"},\"colorscale\":[[0.0,\"#0d0887\"],[0.1111111111111111,\"#46039f\"],[0.2222222222222222,\"#7201a8\"],[0.3333333333333333,\"#9c179e\"],[0.4444444444444444,\"#bd3786\"],[0.5555555555555556,\"#d8576b\"],[0.6666666666666666,\"#ed7953\"],[0.7777777777777778,\"#fb9f3a\"],[0.8888888888888888,\"#fdca26\"],[1.0,\"#f0f921\"]],\"type\":\"surface\"}],\"table\":[{\"cells\":{\"fill\":{\"color\":\"#EBF0F8\"},\"line\":{\"color\":\"white\"}},\"header\":{\"fill\":{\"color\":\"#C8D4E3\"},\"line\":{\"color\":\"white\"}},\"type\":\"table\"}]},\"layout\":{\"annotationdefaults\":{\"arrowcolor\":\"#2a3f5f\",\"arrowhead\":0,\"arrowwidth\":1},\"autotypenumbers\":\"strict\",\"coloraxis\":{\"colorbar\":{\"outlinewidth\":0,\"ticks\":\"\"}},\"colorscale\":{\"diverging\":[[0,\"#8e0152\"],[0.1,\"#c51b7d\"],[0.2,\"#de77ae\"],[0.3,\"#f1b6da\"],[0.4,\"#fde0ef\"],[0.5,\"#f7f7f7\"],[0.6,\"#e6f5d0\"],[0.7,\"#b8e186\"],[0.8,\"#7fbc41\"],[0.9,\"#4d9221\"],[1,\"#276419\"]],\"sequential\":[[0.0,\"#0d0887\"],[0.1111111111111111,\"#46039f\"],[0.2222222222222222,\"#7201a8\"],[0.3333333333333333,\"#9c179e\"],[0.4444444444444444,\"#bd3786\"],[0.5555555555555556,\"#d8576b\"],[0.6666666666666666,\"#ed7953\"],[0.7777777777777778,\"#fb9f3a\"],[0.8888888888888888,\"#fdca26\"],[1.0,\"#f0f921\"]],\"sequentialminus\":[[0.0,\"#0d0887\"],[0.1111111111111111,\"#46039f\"],[0.2222222222222222,\"#7201a8\"],[0.3333333333333333,\"#9c179e\"],[0.4444444444444444,\"#bd3786\"],[0.5555555555555556,\"#d8576b\"],[0.6666666666666666,\"#ed7953\"],[0.7777777777777778,\"#fb9f3a\"],[0.8888888888888888,\"#fdca26\"],[1.0,\"#f0f921\"]]},\"colorway\":[\"#636efa\",\"#EF553B\",\"#00cc96\",\"#ab63fa\",\"#FFA15A\",\"#19d3f3\",\"#FF6692\",\"#B6E880\",\"#FF97FF\",\"#FECB52\"],\"font\":{\"color\":\"#2a3f5f\"},\"geo\":{\"bgcolor\":\"white\",\"lakecolor\":\"white\",\"landcolor\":\"#E5ECF6\",\"showlakes\":true,\"showland\":true,\"subunitcolor\":\"white\"},\"hoverlabel\":{\"align\":\"left\"},\"hovermode\":\"closest\",\"mapbox\":{\"style\":\"light\"},\"paper_bgcolor\":\"white\",\"plot_bgcolor\":\"#E5ECF6\",\"polar\":{\"angularaxis\":{\"gridcolor\":\"white\",\"linecolor\":\"white\",\"ticks\":\"\"},\"bgcolor\":\"#E5ECF6\",\"radialaxis\":{\"gridcolor\":\"white\",\"linecolor\":\"white\",\"ticks\":\"\"}},\"scene\":{\"xaxis\":{\"backgroundcolor\":\"#E5ECF6\",\"gridcolor\":\"white\",\"gridwidth\":2,\"linecolor\":\"white\",\"showbackground\":true,\"ticks\":\"\",\"zerolinecolor\":\"white\"},\"yaxis\":{\"backgroundcolor\":\"#E5ECF6\",\"gridcolor\":\"white\",\"gridwidth\":2,\"linecolor\":\"white\",\"showbackground\":true,\"ticks\":\"\",\"zerolinecolor\":\"white\"},\"zaxis\":{\"backgroundcolor\":\"#E5ECF6\",\"gridcolor\":\"white\",\"gridwidth\":2,\"linecolor\":\"white\",\"showbackground\":true,\"ticks\":\"\",\"zerolinecolor\":\"white\"}},\"shapedefaults\":{\"line\":{\"color\":\"#2a3f5f\"}},\"ternary\":{\"aaxis\":{\"gridcolor\":\"white\",\"linecolor\":\"white\",\"ticks\":\"\"},\"baxis\":{\"gridcolor\":\"white\",\"linecolor\":\"white\",\"ticks\":\"\"},\"bgcolor\":\"#E5ECF6\",\"caxis\":{\"gridcolor\":\"white\",\"linecolor\":\"white\",\"ticks\":\"\"}},\"title\":{\"x\":0.05},\"xaxis\":{\"automargin\":true,\"gridcolor\":\"white\",\"linecolor\":\"white\",\"ticks\":\"\",\"title\":{\"standoff\":15},\"zerolinecolor\":\"white\",\"zerolinewidth\":2},\"yaxis\":{\"automargin\":true,\"gridcolor\":\"white\",\"linecolor\":\"white\",\"ticks\":\"\",\"title\":{\"standoff\":15},\"zerolinecolor\":\"white\",\"zerolinewidth\":2}}},\"title\":{\"font\":{\"color\":\"#4D5663\"}},\"xaxis\":{\"anchor\":\"y\",\"domain\":[0.0,0.2125],\"gridcolor\":\"#E1E5ED\",\"showgrid\":false,\"tickfont\":{\"color\":\"#4D5663\"},\"title\":{\"font\":{\"color\":\"#4D5663\"},\"text\":\"\"},\"zerolinecolor\":\"#E1E5ED\"},\"xaxis10\":{\"anchor\":\"y10\",\"domain\":[0.2625,0.475],\"gridcolor\":\"#E1E5ED\",\"showgrid\":false,\"tickfont\":{\"color\":\"#4D5663\"},\"title\":{\"font\":{\"color\":\"#4D5663\"},\"text\":\"\"},\"zerolinecolor\":\"#E1E5ED\"},\"xaxis11\":{\"anchor\":\"y11\",\"domain\":[0.525,0.7375],\"gridcolor\":\"#E1E5ED\",\"showgrid\":false,\"tickfont\":{\"color\":\"#4D5663\"},\"title\":{\"font\":{\"color\":\"#4D5663\"},\"text\":\"\"},\"zerolinecolor\":\"#E1E5ED\"},\"xaxis12\":{\"anchor\":\"y12\",\"domain\":[0.7875,1.0],\"gridcolor\":\"#E1E5ED\",\"showgrid\":false,\"tickfont\":{\"color\":\"#4D5663\"},\"title\":{\"font\":{\"color\":\"#4D5663\"},\"text\":\"\"},\"zerolinecolor\":\"#E1E5ED\"},\"xaxis13\":{\"anchor\":\"y13\",\"domain\":[0.0,0.2125],\"gridcolor\":\"#E1E5ED\",\"showgrid\":false,\"tickfont\":{\"color\":\"#4D5663\"},\"title\":{\"font\":{\"color\":\"#4D5663\"},\"text\":\"\"},\"zerolinecolor\":\"#E1E5ED\"},\"xaxis14\":{\"anchor\":\"y14\",\"domain\":[0.2625,0.475],\"gridcolor\":\"#E1E5ED\",\"showgrid\":false,\"tickfont\":{\"color\":\"#4D5663\"},\"title\":{\"font\":{\"color\":\"#4D5663\"},\"text\":\"\"},\"zerolinecolor\":\"#E1E5ED\"},\"xaxis15\":{\"anchor\":\"y15\",\"domain\":[0.525,0.7375],\"gridcolor\":\"#E1E5ED\",\"showgrid\":false,\"tickfont\":{\"color\":\"#4D5663\"},\"title\":{\"font\":{\"color\":\"#4D5663\"},\"text\":\"\"},\"zerolinecolor\":\"#E1E5ED\"},\"xaxis16\":{\"anchor\":\"y16\",\"domain\":[0.7875,1.0],\"gridcolor\":\"#E1E5ED\",\"showgrid\":false,\"tickfont\":{\"color\":\"#4D5663\"},\"title\":{\"font\":{\"color\":\"#4D5663\"},\"text\":\"\"},\"zerolinecolor\":\"#E1E5ED\"},\"xaxis2\":{\"anchor\":\"y2\",\"domain\":[0.2625,0.475],\"gridcolor\":\"#E1E5ED\",\"showgrid\":false,\"tickfont\":{\"color\":\"#4D5663\"},\"title\":{\"font\":{\"color\":\"#4D5663\"},\"text\":\"\"},\"zerolinecolor\":\"#E1E5ED\"},\"xaxis3\":{\"anchor\":\"y3\",\"domain\":[0.525,0.7375],\"gridcolor\":\"#E1E5ED\",\"showgrid\":false,\"tickfont\":{\"color\":\"#4D5663\"},\"title\":{\"font\":{\"color\":\"#4D5663\"},\"text\":\"\"},\"zerolinecolor\":\"#E1E5ED\"},\"xaxis4\":{\"anchor\":\"y4\",\"domain\":[0.7875,1.0],\"gridcolor\":\"#E1E5ED\",\"showgrid\":false,\"tickfont\":{\"color\":\"#4D5663\"},\"title\":{\"font\":{\"color\":\"#4D5663\"},\"text\":\"\"},\"zerolinecolor\":\"#E1E5ED\"},\"xaxis5\":{\"anchor\":\"y5\",\"domain\":[0.0,0.2125],\"gridcolor\":\"#E1E5ED\",\"showgrid\":false,\"tickfont\":{\"color\":\"#4D5663\"},\"title\":{\"font\":{\"color\":\"#4D5663\"},\"text\":\"\"},\"zerolinecolor\":\"#E1E5ED\"},\"xaxis6\":{\"anchor\":\"y6\",\"domain\":[0.2625,0.475],\"gridcolor\":\"#E1E5ED\",\"showgrid\":false,\"tickfont\":{\"color\":\"#4D5663\"},\"title\":{\"font\":{\"color\":\"#4D5663\"},\"text\":\"\"},\"zerolinecolor\":\"#E1E5ED\"},\"xaxis7\":{\"anchor\":\"y7\",\"domain\":[0.525,0.7375],\"gridcolor\":\"#E1E5ED\",\"showgrid\":false,\"tickfont\":{\"color\":\"#4D5663\"},\"title\":{\"font\":{\"color\":\"#4D5663\"},\"text\":\"\"},\"zerolinecolor\":\"#E1E5ED\"},\"xaxis8\":{\"anchor\":\"y8\",\"domain\":[0.7875,1.0],\"gridcolor\":\"#E1E5ED\",\"showgrid\":false,\"tickfont\":{\"color\":\"#4D5663\"},\"title\":{\"font\":{\"color\":\"#4D5663\"},\"text\":\"\"},\"zerolinecolor\":\"#E1E5ED\"},\"xaxis9\":{\"anchor\":\"y9\",\"domain\":[0.0,0.2125],\"gridcolor\":\"#E1E5ED\",\"showgrid\":false,\"tickfont\":{\"color\":\"#4D5663\"},\"title\":{\"font\":{\"color\":\"#4D5663\"},\"text\":\"\"},\"zerolinecolor\":\"#E1E5ED\"},\"yaxis\":{\"anchor\":\"x\",\"domain\":[0.8025,1.0],\"gridcolor\":\"#E1E5ED\",\"showgrid\":false,\"tickfont\":{\"color\":\"#4D5663\"},\"title\":{\"font\":{\"color\":\"#4D5663\"},\"text\":\"\"},\"zerolinecolor\":\"#E1E5ED\"},\"yaxis10\":{\"anchor\":\"x10\",\"domain\":[0.2675,0.465],\"gridcolor\":\"#E1E5ED\",\"showgrid\":false,\"tickfont\":{\"color\":\"#4D5663\"},\"title\":{\"font\":{\"color\":\"#4D5663\"},\"text\":\"\"},\"zerolinecolor\":\"#E1E5ED\"},\"yaxis11\":{\"anchor\":\"x11\",\"domain\":[0.2675,0.465],\"gridcolor\":\"#E1E5ED\",\"showgrid\":false,\"tickfont\":{\"color\":\"#4D5663\"},\"title\":{\"font\":{\"color\":\"#4D5663\"},\"text\":\"\"},\"zerolinecolor\":\"#E1E5ED\"},\"yaxis12\":{\"anchor\":\"x12\",\"domain\":[0.2675,0.465],\"gridcolor\":\"#E1E5ED\",\"showgrid\":false,\"tickfont\":{\"color\":\"#4D5663\"},\"title\":{\"font\":{\"color\":\"#4D5663\"},\"text\":\"\"},\"zerolinecolor\":\"#E1E5ED\"},\"yaxis13\":{\"anchor\":\"x13\",\"domain\":[0.0,0.1975],\"gridcolor\":\"#E1E5ED\",\"showgrid\":false,\"tickfont\":{\"color\":\"#4D5663\"},\"title\":{\"font\":{\"color\":\"#4D5663\"},\"text\":\"\"},\"zerolinecolor\":\"#E1E5ED\"},\"yaxis14\":{\"anchor\":\"x14\",\"domain\":[0.0,0.1975],\"gridcolor\":\"#E1E5ED\",\"showgrid\":false,\"tickfont\":{\"color\":\"#4D5663\"},\"title\":{\"font\":{\"color\":\"#4D5663\"},\"text\":\"\"},\"zerolinecolor\":\"#E1E5ED\"},\"yaxis15\":{\"anchor\":\"x15\",\"domain\":[0.0,0.1975],\"gridcolor\":\"#E1E5ED\",\"showgrid\":false,\"tickfont\":{\"color\":\"#4D5663\"},\"title\":{\"font\":{\"color\":\"#4D5663\"},\"text\":\"\"},\"zerolinecolor\":\"#E1E5ED\"},\"yaxis16\":{\"anchor\":\"x16\",\"domain\":[0.0,0.1975],\"gridcolor\":\"#E1E5ED\",\"showgrid\":false,\"tickfont\":{\"color\":\"#4D5663\"},\"title\":{\"font\":{\"color\":\"#4D5663\"},\"text\":\"\"},\"zerolinecolor\":\"#E1E5ED\"},\"yaxis2\":{\"anchor\":\"x2\",\"domain\":[0.8025,1.0],\"gridcolor\":\"#E1E5ED\",\"showgrid\":false,\"tickfont\":{\"color\":\"#4D5663\"},\"title\":{\"font\":{\"color\":\"#4D5663\"},\"text\":\"\"},\"zerolinecolor\":\"#E1E5ED\"},\"yaxis3\":{\"anchor\":\"x3\",\"domain\":[0.8025,1.0],\"gridcolor\":\"#E1E5ED\",\"showgrid\":false,\"tickfont\":{\"color\":\"#4D5663\"},\"title\":{\"font\":{\"color\":\"#4D5663\"},\"text\":\"\"},\"zerolinecolor\":\"#E1E5ED\"},\"yaxis4\":{\"anchor\":\"x4\",\"domain\":[0.8025,1.0],\"gridcolor\":\"#E1E5ED\",\"showgrid\":false,\"tickfont\":{\"color\":\"#4D5663\"},\"title\":{\"font\":{\"color\":\"#4D5663\"},\"text\":\"\"},\"zerolinecolor\":\"#E1E5ED\"},\"yaxis5\":{\"anchor\":\"x5\",\"domain\":[0.535,0.7325],\"gridcolor\":\"#E1E5ED\",\"showgrid\":false,\"tickfont\":{\"color\":\"#4D5663\"},\"title\":{\"font\":{\"color\":\"#4D5663\"},\"text\":\"\"},\"zerolinecolor\":\"#E1E5ED\"},\"yaxis6\":{\"anchor\":\"x6\",\"domain\":[0.535,0.7325],\"gridcolor\":\"#E1E5ED\",\"showgrid\":false,\"tickfont\":{\"color\":\"#4D5663\"},\"title\":{\"font\":{\"color\":\"#4D5663\"},\"text\":\"\"},\"zerolinecolor\":\"#E1E5ED\"},\"yaxis7\":{\"anchor\":\"x7\",\"domain\":[0.535,0.7325],\"gridcolor\":\"#E1E5ED\",\"showgrid\":false,\"tickfont\":{\"color\":\"#4D5663\"},\"title\":{\"font\":{\"color\":\"#4D5663\"},\"text\":\"\"},\"zerolinecolor\":\"#E1E5ED\"},\"yaxis8\":{\"anchor\":\"x8\",\"domain\":[0.535,0.7325],\"gridcolor\":\"#E1E5ED\",\"showgrid\":false,\"tickfont\":{\"color\":\"#4D5663\"},\"title\":{\"font\":{\"color\":\"#4D5663\"},\"text\":\"\"},\"zerolinecolor\":\"#E1E5ED\"},\"yaxis9\":{\"anchor\":\"x9\",\"domain\":[0.2675,0.465],\"gridcolor\":\"#E1E5ED\",\"showgrid\":false,\"tickfont\":{\"color\":\"#4D5663\"},\"title\":{\"font\":{\"color\":\"#4D5663\"},\"text\":\"\"},\"zerolinecolor\":\"#E1E5ED\"}},                        {\"showLink\": true, \"linkText\": \"Export to plot.ly\", \"plotlyServerURL\": \"https://plot.ly\", \"responsive\": true}                    ).then(function(){\n",
       "                            \n",
       "var gd = document.getElementById('bfd3ef89-337a-4e63-af59-6329ec7902bf');\n",
       "var x = new MutationObserver(function (mutations, observer) {{\n",
       "        var display = window.getComputedStyle(gd).display;\n",
       "        if (!display || display === 'none') {{\n",
       "            console.log([gd, 'removed!']);\n",
       "            Plotly.purge(gd);\n",
       "            observer.disconnect();\n",
       "        }}\n",
       "}});\n",
       "\n",
       "// Listen for the removal of the full notebook cells\n",
       "var notebookContainer = gd.closest('#notebook-container');\n",
       "if (notebookContainer) {{\n",
       "    x.observe(notebookContainer, {childList: true});\n",
       "}}\n",
       "\n",
       "// Listen for the clearing of the current output cell\n",
       "var outputEl = gd.closest('.output');\n",
       "if (outputEl) {{\n",
       "    x.observe(outputEl, {childList: true});\n",
       "}}\n",
       "\n",
       "                        })                };                });            </script>        </div>"
      ]
     },
     "metadata": {},
     "output_type": "display_data"
    }
   ],
   "source": [
    "df1.scatter_matrix()"
   ]
  },
  {
   "cell_type": "code",
   "execution_count": null,
   "id": "01c79cd1",
   "metadata": {},
   "outputs": [],
   "source": []
  },
  {
   "cell_type": "code",
   "execution_count": null,
   "id": "b1fdb3f6",
   "metadata": {},
   "outputs": [],
   "source": []
  },
  {
   "cell_type": "code",
   "execution_count": null,
   "id": "e92a5911",
   "metadata": {},
   "outputs": [],
   "source": []
  },
  {
   "cell_type": "code",
   "execution_count": null,
   "id": "60dca9bb",
   "metadata": {},
   "outputs": [],
   "source": []
  },
  {
   "cell_type": "code",
   "execution_count": null,
   "id": "c3bbbf16",
   "metadata": {},
   "outputs": [],
   "source": []
  },
  {
   "cell_type": "code",
   "execution_count": null,
   "id": "4b79f15d",
   "metadata": {},
   "outputs": [],
   "source": []
  },
  {
   "cell_type": "code",
   "execution_count": null,
   "id": "7f508e75",
   "metadata": {},
   "outputs": [],
   "source": []
  },
  {
   "cell_type": "code",
   "execution_count": null,
   "id": "0f6ebd29",
   "metadata": {},
   "outputs": [],
   "source": []
  },
  {
   "cell_type": "code",
   "execution_count": null,
   "id": "b1aca256",
   "metadata": {},
   "outputs": [],
   "source": []
  },
  {
   "cell_type": "code",
   "execution_count": null,
   "id": "b04ac16c",
   "metadata": {},
   "outputs": [],
   "source": []
  },
  {
   "cell_type": "code",
   "execution_count": null,
   "id": "cba3796f",
   "metadata": {},
   "outputs": [],
   "source": []
  },
  {
   "cell_type": "code",
   "execution_count": null,
   "id": "7c63f5d6",
   "metadata": {},
   "outputs": [],
   "source": []
  },
  {
   "cell_type": "code",
   "execution_count": null,
   "id": "9edc0227",
   "metadata": {},
   "outputs": [],
   "source": []
  },
  {
   "cell_type": "code",
   "execution_count": null,
   "id": "e4e71afe",
   "metadata": {},
   "outputs": [],
   "source": []
  },
  {
   "cell_type": "code",
   "execution_count": null,
   "id": "dfb8d2f2",
   "metadata": {},
   "outputs": [],
   "source": []
  },
  {
   "cell_type": "code",
   "execution_count": null,
   "id": "7a1929fe",
   "metadata": {},
   "outputs": [],
   "source": []
  },
  {
   "cell_type": "code",
   "execution_count": null,
   "id": "2c6774b1",
   "metadata": {},
   "outputs": [],
   "source": []
  },
  {
   "cell_type": "code",
   "execution_count": null,
   "id": "d28a7ccf",
   "metadata": {},
   "outputs": [],
   "source": []
  },
  {
   "cell_type": "code",
   "execution_count": null,
   "id": "aab4f188",
   "metadata": {},
   "outputs": [],
   "source": []
  },
  {
   "cell_type": "code",
   "execution_count": null,
   "id": "799466fe",
   "metadata": {},
   "outputs": [],
   "source": []
  },
  {
   "cell_type": "code",
   "execution_count": null,
   "id": "acf27183",
   "metadata": {},
   "outputs": [],
   "source": []
  },
  {
   "cell_type": "code",
   "execution_count": null,
   "id": "499ef7c3",
   "metadata": {},
   "outputs": [],
   "source": []
  },
  {
   "cell_type": "code",
   "execution_count": null,
   "id": "0edef2c0",
   "metadata": {},
   "outputs": [],
   "source": []
  }
 ],
 "metadata": {
  "kernelspec": {
   "display_name": "Python 3",
   "language": "python",
   "name": "python3"
  },
  "language_info": {
   "codemirror_mode": {
    "name": "ipython",
    "version": 3
   },
   "file_extension": ".py",
   "mimetype": "text/x-python",
   "name": "python",
   "nbconvert_exporter": "python",
   "pygments_lexer": "ipython3",
   "version": "3.8.8"
  }
 },
 "nbformat": 4,
 "nbformat_minor": 5
}
