{
 "cells": [
  {
   "cell_type": "code",
   "execution_count": 4,
   "id": "73cba31a",
   "metadata": {},
   "outputs": [],
   "source": [
    "import numpy as np\n",
    "import pandas as pd"
   ]
  },
  {
   "cell_type": "code",
   "execution_count": 5,
   "id": "599bfe2c",
   "metadata": {},
   "outputs": [],
   "source": [
    "df=pd.read_csv('43100048.csv')"
   ]
  },
  {
   "cell_type": "code",
   "execution_count": 6,
   "id": "43763ae3",
   "metadata": {
    "scrolled": true
   },
   "outputs": [
    {
     "data": {
      "text/html": [
       "<div>\n",
       "<style scoped>\n",
       "    .dataframe tbody tr th:only-of-type {\n",
       "        vertical-align: middle;\n",
       "    }\n",
       "\n",
       "    .dataframe tbody tr th {\n",
       "        vertical-align: top;\n",
       "    }\n",
       "\n",
       "    .dataframe thead th {\n",
       "        text-align: right;\n",
       "    }\n",
       "</style>\n",
       "<table border=\"1\" class=\"dataframe\">\n",
       "  <thead>\n",
       "    <tr style=\"text-align: right;\">\n",
       "      <th></th>\n",
       "      <th>REF_DATE</th>\n",
       "      <th>GEO</th>\n",
       "      <th>DGUID</th>\n",
       "      <th>Sex</th>\n",
       "      <th>Landing age group</th>\n",
       "      <th>Immigrant admission category</th>\n",
       "      <th>Years since landing</th>\n",
       "      <th>Income type</th>\n",
       "      <th>Statistics</th>\n",
       "      <th>UOM</th>\n",
       "      <th>UOM_ID</th>\n",
       "      <th>SCALAR_FACTOR</th>\n",
       "      <th>SCALAR_ID</th>\n",
       "      <th>VECTOR</th>\n",
       "      <th>COORDINATE</th>\n",
       "      <th>VALUE</th>\n",
       "      <th>STATUS</th>\n",
       "      <th>SYMBOL</th>\n",
       "      <th>TERMINATED</th>\n",
       "      <th>DECIMALS</th>\n",
       "    </tr>\n",
       "  </thead>\n",
       "  <tbody>\n",
       "    <tr>\n",
       "      <th>0</th>\n",
       "      <td>1980</td>\n",
       "      <td>Atlantic provinces</td>\n",
       "      <td>2016A00011</td>\n",
       "      <td>Both sexes</td>\n",
       "      <td>Total, landing age group</td>\n",
       "      <td>Total, immigrant admission category</td>\n",
       "      <td>0 year since landing</td>\n",
       "      <td>Wages, salaries and commissions</td>\n",
       "      <td>Total count</td>\n",
       "      <td>Persons</td>\n",
       "      <td>249</td>\n",
       "      <td>units</td>\n",
       "      <td>0</td>\n",
       "      <td>v85524380</td>\n",
       "      <td>1.1.1.1.1.1.1</td>\n",
       "      <td>NaN</td>\n",
       "      <td>..</td>\n",
       "      <td>NaN</td>\n",
       "      <td>NaN</td>\n",
       "      <td>0</td>\n",
       "    </tr>\n",
       "    <tr>\n",
       "      <th>1</th>\n",
       "      <td>1980</td>\n",
       "      <td>Atlantic provinces</td>\n",
       "      <td>2016A00011</td>\n",
       "      <td>Both sexes</td>\n",
       "      <td>Total, landing age group</td>\n",
       "      <td>Total, immigrant admission category</td>\n",
       "      <td>0 year since landing</td>\n",
       "      <td>Wages, salaries and commissions</td>\n",
       "      <td>Mean with income</td>\n",
       "      <td>Dollars</td>\n",
       "      <td>81</td>\n",
       "      <td>units</td>\n",
       "      <td>0</td>\n",
       "      <td>v85524381</td>\n",
       "      <td>1.1.1.1.1.1.2</td>\n",
       "      <td>NaN</td>\n",
       "      <td>..</td>\n",
       "      <td>NaN</td>\n",
       "      <td>NaN</td>\n",
       "      <td>0</td>\n",
       "    </tr>\n",
       "    <tr>\n",
       "      <th>2</th>\n",
       "      <td>1980</td>\n",
       "      <td>Atlantic provinces</td>\n",
       "      <td>2016A00011</td>\n",
       "      <td>Both sexes</td>\n",
       "      <td>Total, landing age group</td>\n",
       "      <td>Total, immigrant admission category</td>\n",
       "      <td>0 year since landing</td>\n",
       "      <td>Wages, salaries and commissions</td>\n",
       "      <td>Median with income</td>\n",
       "      <td>Dollars</td>\n",
       "      <td>81</td>\n",
       "      <td>units</td>\n",
       "      <td>0</td>\n",
       "      <td>v85524382</td>\n",
       "      <td>1.1.1.1.1.1.3</td>\n",
       "      <td>NaN</td>\n",
       "      <td>..</td>\n",
       "      <td>NaN</td>\n",
       "      <td>NaN</td>\n",
       "      <td>0</td>\n",
       "    </tr>\n",
       "    <tr>\n",
       "      <th>3</th>\n",
       "      <td>1980</td>\n",
       "      <td>Atlantic provinces</td>\n",
       "      <td>2016A00011</td>\n",
       "      <td>Both sexes</td>\n",
       "      <td>Total, landing age group</td>\n",
       "      <td>Total, immigrant admission category</td>\n",
       "      <td>0 year since landing</td>\n",
       "      <td>Wages, salaries and commissions</td>\n",
       "      <td>Total with income</td>\n",
       "      <td>Persons</td>\n",
       "      <td>249</td>\n",
       "      <td>units</td>\n",
       "      <td>0</td>\n",
       "      <td>v85524383</td>\n",
       "      <td>1.1.1.1.1.1.4</td>\n",
       "      <td>NaN</td>\n",
       "      <td>..</td>\n",
       "      <td>NaN</td>\n",
       "      <td>NaN</td>\n",
       "      <td>0</td>\n",
       "    </tr>\n",
       "    <tr>\n",
       "      <th>4</th>\n",
       "      <td>1980</td>\n",
       "      <td>Atlantic provinces</td>\n",
       "      <td>2016A00011</td>\n",
       "      <td>Both sexes</td>\n",
       "      <td>Total, landing age group</td>\n",
       "      <td>Total, immigrant admission category</td>\n",
       "      <td>0 year since landing</td>\n",
       "      <td>Self-employment income</td>\n",
       "      <td>Total count</td>\n",
       "      <td>Persons</td>\n",
       "      <td>249</td>\n",
       "      <td>units</td>\n",
       "      <td>0</td>\n",
       "      <td>v85524384</td>\n",
       "      <td>1.1.1.1.1.2.1</td>\n",
       "      <td>NaN</td>\n",
       "      <td>..</td>\n",
       "      <td>NaN</td>\n",
       "      <td>NaN</td>\n",
       "      <td>0</td>\n",
       "    </tr>\n",
       "  </tbody>\n",
       "</table>\n",
       "</div>"
      ],
      "text/plain": [
       "   REF_DATE                 GEO       DGUID         Sex  \\\n",
       "0      1980  Atlantic provinces  2016A00011  Both sexes   \n",
       "1      1980  Atlantic provinces  2016A00011  Both sexes   \n",
       "2      1980  Atlantic provinces  2016A00011  Both sexes   \n",
       "3      1980  Atlantic provinces  2016A00011  Both sexes   \n",
       "4      1980  Atlantic provinces  2016A00011  Both sexes   \n",
       "\n",
       "          Landing age group         Immigrant admission category  \\\n",
       "0  Total, landing age group  Total, immigrant admission category   \n",
       "1  Total, landing age group  Total, immigrant admission category   \n",
       "2  Total, landing age group  Total, immigrant admission category   \n",
       "3  Total, landing age group  Total, immigrant admission category   \n",
       "4  Total, landing age group  Total, immigrant admission category   \n",
       "\n",
       "    Years since landing                      Income type          Statistics  \\\n",
       "0  0 year since landing  Wages, salaries and commissions         Total count   \n",
       "1  0 year since landing  Wages, salaries and commissions    Mean with income   \n",
       "2  0 year since landing  Wages, salaries and commissions  Median with income   \n",
       "3  0 year since landing  Wages, salaries and commissions   Total with income   \n",
       "4  0 year since landing           Self-employment income         Total count   \n",
       "\n",
       "       UOM  UOM_ID SCALAR_FACTOR  SCALAR_ID     VECTOR     COORDINATE  VALUE  \\\n",
       "0  Persons     249        units           0  v85524380  1.1.1.1.1.1.1    NaN   \n",
       "1  Dollars      81        units           0  v85524381  1.1.1.1.1.1.2    NaN   \n",
       "2  Dollars      81        units           0  v85524382  1.1.1.1.1.1.3    NaN   \n",
       "3  Persons     249        units           0  v85524383  1.1.1.1.1.1.4    NaN   \n",
       "4  Persons     249        units           0  v85524384  1.1.1.1.1.2.1    NaN   \n",
       "\n",
       "  STATUS  SYMBOL  TERMINATED  DECIMALS  \n",
       "0     ..     NaN         NaN         0  \n",
       "1     ..     NaN         NaN         0  \n",
       "2     ..     NaN         NaN         0  \n",
       "3     ..     NaN         NaN         0  \n",
       "4     ..     NaN         NaN         0  "
      ]
     },
     "execution_count": 6,
     "metadata": {},
     "output_type": "execute_result"
    }
   ],
   "source": [
    "df.head()"
   ]
  },
  {
   "cell_type": "code",
   "execution_count": 7,
   "id": "e6041e2c",
   "metadata": {
    "scrolled": true
   },
   "outputs": [
    {
     "data": {
      "text/plain": [
       "0           1980\n",
       "1           1980\n",
       "2           1980\n",
       "3           1980\n",
       "4           1980\n",
       "            ... \n",
       "15925243    2015\n",
       "15925244    2015\n",
       "15925245    2015\n",
       "15925246    2015\n",
       "15925247    2015\n",
       "Name: REF_DATE, Length: 15925248, dtype: int64"
      ]
     },
     "execution_count": 7,
     "metadata": {},
     "output_type": "execute_result"
    }
   ],
   "source": [
    "df['REF_DATE']"
   ]
  },
  {
   "cell_type": "code",
   "execution_count": 8,
   "id": "031e73c1",
   "metadata": {},
   "outputs": [
    {
     "data": {
      "text/plain": [
       "array([1980, 1981, 1982, 1983, 1984, 1985, 1986, 1987, 1988, 1989, 1990,\n",
       "       1991, 1992, 1993, 1994, 1995, 1996, 1997, 1998, 1999, 2000, 2001,\n",
       "       2002, 2003, 2004, 2005, 2006, 2007, 2008, 2009, 2010, 2011, 2012,\n",
       "       2013, 2014, 2015], dtype=int64)"
      ]
     },
     "execution_count": 8,
     "metadata": {},
     "output_type": "execute_result"
    }
   ],
   "source": [
    "df['REF_DATE'].unique()"
   ]
  },
  {
   "cell_type": "code",
   "execution_count": 9,
   "id": "efa14d8d",
   "metadata": {},
   "outputs": [
    {
     "data": {
      "text/plain": [
       "array([0], dtype=int64)"
      ]
     },
     "execution_count": 9,
     "metadata": {},
     "output_type": "execute_result"
    }
   ],
   "source": [
    "df['SCALAR_ID'].unique()"
   ]
  },
  {
   "cell_type": "code",
   "execution_count": 10,
   "id": "a55fc900",
   "metadata": {},
   "outputs": [
    {
     "data": {
      "text/plain": [
       "Index(['REF_DATE', 'GEO', 'DGUID', 'Sex', 'Landing age group',\n",
       "       'Immigrant admission category', 'Years since landing', 'Income type',\n",
       "       'Statistics', 'UOM', 'UOM_ID', 'SCALAR_FACTOR', 'SCALAR_ID', 'VECTOR',\n",
       "       'COORDINATE', 'VALUE', 'STATUS', 'SYMBOL', 'TERMINATED', 'DECIMALS'],\n",
       "      dtype='object')"
      ]
     },
     "execution_count": 10,
     "metadata": {},
     "output_type": "execute_result"
    }
   ],
   "source": [
    "df.columns"
   ]
  },
  {
   "cell_type": "code",
   "execution_count": 11,
   "id": "478acd93",
   "metadata": {},
   "outputs": [],
   "source": [
    "df1=df.drop(['SCALAR_ID','STATUS', 'SYMBOL', 'TERMINATED', 'DECIMALS'],axis=1)"
   ]
  },
  {
   "cell_type": "code",
   "execution_count": 12,
   "id": "b7eb2de4",
   "metadata": {},
   "outputs": [
    {
     "data": {
      "text/html": [
       "<div>\n",
       "<style scoped>\n",
       "    .dataframe tbody tr th:only-of-type {\n",
       "        vertical-align: middle;\n",
       "    }\n",
       "\n",
       "    .dataframe tbody tr th {\n",
       "        vertical-align: top;\n",
       "    }\n",
       "\n",
       "    .dataframe thead th {\n",
       "        text-align: right;\n",
       "    }\n",
       "</style>\n",
       "<table border=\"1\" class=\"dataframe\">\n",
       "  <thead>\n",
       "    <tr style=\"text-align: right;\">\n",
       "      <th></th>\n",
       "      <th>REF_DATE</th>\n",
       "      <th>GEO</th>\n",
       "      <th>DGUID</th>\n",
       "      <th>Sex</th>\n",
       "      <th>Landing age group</th>\n",
       "      <th>Immigrant admission category</th>\n",
       "      <th>Years since landing</th>\n",
       "      <th>Income type</th>\n",
       "      <th>Statistics</th>\n",
       "      <th>UOM</th>\n",
       "      <th>UOM_ID</th>\n",
       "      <th>SCALAR_FACTOR</th>\n",
       "      <th>VECTOR</th>\n",
       "      <th>COORDINATE</th>\n",
       "      <th>VALUE</th>\n",
       "    </tr>\n",
       "  </thead>\n",
       "  <tbody>\n",
       "    <tr>\n",
       "      <th>0</th>\n",
       "      <td>1980</td>\n",
       "      <td>Atlantic provinces</td>\n",
       "      <td>2016A00011</td>\n",
       "      <td>Both sexes</td>\n",
       "      <td>Total, landing age group</td>\n",
       "      <td>Total, immigrant admission category</td>\n",
       "      <td>0 year since landing</td>\n",
       "      <td>Wages, salaries and commissions</td>\n",
       "      <td>Total count</td>\n",
       "      <td>Persons</td>\n",
       "      <td>249</td>\n",
       "      <td>units</td>\n",
       "      <td>v85524380</td>\n",
       "      <td>1.1.1.1.1.1.1</td>\n",
       "      <td>NaN</td>\n",
       "    </tr>\n",
       "    <tr>\n",
       "      <th>1</th>\n",
       "      <td>1980</td>\n",
       "      <td>Atlantic provinces</td>\n",
       "      <td>2016A00011</td>\n",
       "      <td>Both sexes</td>\n",
       "      <td>Total, landing age group</td>\n",
       "      <td>Total, immigrant admission category</td>\n",
       "      <td>0 year since landing</td>\n",
       "      <td>Wages, salaries and commissions</td>\n",
       "      <td>Mean with income</td>\n",
       "      <td>Dollars</td>\n",
       "      <td>81</td>\n",
       "      <td>units</td>\n",
       "      <td>v85524381</td>\n",
       "      <td>1.1.1.1.1.1.2</td>\n",
       "      <td>NaN</td>\n",
       "    </tr>\n",
       "    <tr>\n",
       "      <th>2</th>\n",
       "      <td>1980</td>\n",
       "      <td>Atlantic provinces</td>\n",
       "      <td>2016A00011</td>\n",
       "      <td>Both sexes</td>\n",
       "      <td>Total, landing age group</td>\n",
       "      <td>Total, immigrant admission category</td>\n",
       "      <td>0 year since landing</td>\n",
       "      <td>Wages, salaries and commissions</td>\n",
       "      <td>Median with income</td>\n",
       "      <td>Dollars</td>\n",
       "      <td>81</td>\n",
       "      <td>units</td>\n",
       "      <td>v85524382</td>\n",
       "      <td>1.1.1.1.1.1.3</td>\n",
       "      <td>NaN</td>\n",
       "    </tr>\n",
       "    <tr>\n",
       "      <th>3</th>\n",
       "      <td>1980</td>\n",
       "      <td>Atlantic provinces</td>\n",
       "      <td>2016A00011</td>\n",
       "      <td>Both sexes</td>\n",
       "      <td>Total, landing age group</td>\n",
       "      <td>Total, immigrant admission category</td>\n",
       "      <td>0 year since landing</td>\n",
       "      <td>Wages, salaries and commissions</td>\n",
       "      <td>Total with income</td>\n",
       "      <td>Persons</td>\n",
       "      <td>249</td>\n",
       "      <td>units</td>\n",
       "      <td>v85524383</td>\n",
       "      <td>1.1.1.1.1.1.4</td>\n",
       "      <td>NaN</td>\n",
       "    </tr>\n",
       "    <tr>\n",
       "      <th>4</th>\n",
       "      <td>1980</td>\n",
       "      <td>Atlantic provinces</td>\n",
       "      <td>2016A00011</td>\n",
       "      <td>Both sexes</td>\n",
       "      <td>Total, landing age group</td>\n",
       "      <td>Total, immigrant admission category</td>\n",
       "      <td>0 year since landing</td>\n",
       "      <td>Self-employment income</td>\n",
       "      <td>Total count</td>\n",
       "      <td>Persons</td>\n",
       "      <td>249</td>\n",
       "      <td>units</td>\n",
       "      <td>v85524384</td>\n",
       "      <td>1.1.1.1.1.2.1</td>\n",
       "      <td>NaN</td>\n",
       "    </tr>\n",
       "  </tbody>\n",
       "</table>\n",
       "</div>"
      ],
      "text/plain": [
       "   REF_DATE                 GEO       DGUID         Sex  \\\n",
       "0      1980  Atlantic provinces  2016A00011  Both sexes   \n",
       "1      1980  Atlantic provinces  2016A00011  Both sexes   \n",
       "2      1980  Atlantic provinces  2016A00011  Both sexes   \n",
       "3      1980  Atlantic provinces  2016A00011  Both sexes   \n",
       "4      1980  Atlantic provinces  2016A00011  Both sexes   \n",
       "\n",
       "          Landing age group         Immigrant admission category  \\\n",
       "0  Total, landing age group  Total, immigrant admission category   \n",
       "1  Total, landing age group  Total, immigrant admission category   \n",
       "2  Total, landing age group  Total, immigrant admission category   \n",
       "3  Total, landing age group  Total, immigrant admission category   \n",
       "4  Total, landing age group  Total, immigrant admission category   \n",
       "\n",
       "    Years since landing                      Income type          Statistics  \\\n",
       "0  0 year since landing  Wages, salaries and commissions         Total count   \n",
       "1  0 year since landing  Wages, salaries and commissions    Mean with income   \n",
       "2  0 year since landing  Wages, salaries and commissions  Median with income   \n",
       "3  0 year since landing  Wages, salaries and commissions   Total with income   \n",
       "4  0 year since landing           Self-employment income         Total count   \n",
       "\n",
       "       UOM  UOM_ID SCALAR_FACTOR     VECTOR     COORDINATE  VALUE  \n",
       "0  Persons     249        units   v85524380  1.1.1.1.1.1.1    NaN  \n",
       "1  Dollars      81        units   v85524381  1.1.1.1.1.1.2    NaN  \n",
       "2  Dollars      81        units   v85524382  1.1.1.1.1.1.3    NaN  \n",
       "3  Persons     249        units   v85524383  1.1.1.1.1.1.4    NaN  \n",
       "4  Persons     249        units   v85524384  1.1.1.1.1.2.1    NaN  "
      ]
     },
     "execution_count": 12,
     "metadata": {},
     "output_type": "execute_result"
    }
   ],
   "source": [
    "df1.head()"
   ]
  },
  {
   "cell_type": "code",
   "execution_count": 13,
   "id": "3fdd9689",
   "metadata": {},
   "outputs": [],
   "source": [
    "import seaborn as sns\n",
    "import matplotlib.pyplot as plt\n",
    "%matplotlib inline"
   ]
  },
  {
   "cell_type": "code",
   "execution_count": 17,
   "id": "fe636216",
   "metadata": {},
   "outputs": [],
   "source": [
    "df1=df1.rename(columns={'Landing age group':'Landing_age_group'})"
   ]
  },
  {
   "cell_type": "code",
   "execution_count": 18,
   "id": "c2c6ba2f",
   "metadata": {
    "scrolled": false
   },
   "outputs": [
    {
     "data": {
      "text/html": [
       "<div>\n",
       "<style scoped>\n",
       "    .dataframe tbody tr th:only-of-type {\n",
       "        vertical-align: middle;\n",
       "    }\n",
       "\n",
       "    .dataframe tbody tr th {\n",
       "        vertical-align: top;\n",
       "    }\n",
       "\n",
       "    .dataframe thead th {\n",
       "        text-align: right;\n",
       "    }\n",
       "</style>\n",
       "<table border=\"1\" class=\"dataframe\">\n",
       "  <thead>\n",
       "    <tr style=\"text-align: right;\">\n",
       "      <th></th>\n",
       "      <th>REF_DATE</th>\n",
       "      <th>GEO</th>\n",
       "      <th>DGUID</th>\n",
       "      <th>Sex</th>\n",
       "      <th>Landing_age_group</th>\n",
       "      <th>Immigrant admission category</th>\n",
       "      <th>Years since landing</th>\n",
       "      <th>Income type</th>\n",
       "      <th>Statistics</th>\n",
       "      <th>UOM</th>\n",
       "      <th>UOM_ID</th>\n",
       "      <th>SCALAR_FACTOR</th>\n",
       "      <th>VECTOR</th>\n",
       "      <th>COORDINATE</th>\n",
       "      <th>VALUE</th>\n",
       "    </tr>\n",
       "  </thead>\n",
       "  <tbody>\n",
       "    <tr>\n",
       "      <th>0</th>\n",
       "      <td>1980</td>\n",
       "      <td>Atlantic provinces</td>\n",
       "      <td>2016A00011</td>\n",
       "      <td>Both sexes</td>\n",
       "      <td>Total, landing age group</td>\n",
       "      <td>Total, immigrant admission category</td>\n",
       "      <td>0 year since landing</td>\n",
       "      <td>Wages, salaries and commissions</td>\n",
       "      <td>Total count</td>\n",
       "      <td>Persons</td>\n",
       "      <td>249</td>\n",
       "      <td>units</td>\n",
       "      <td>v85524380</td>\n",
       "      <td>1.1.1.1.1.1.1</td>\n",
       "      <td>NaN</td>\n",
       "    </tr>\n",
       "    <tr>\n",
       "      <th>1</th>\n",
       "      <td>1980</td>\n",
       "      <td>Atlantic provinces</td>\n",
       "      <td>2016A00011</td>\n",
       "      <td>Both sexes</td>\n",
       "      <td>Total, landing age group</td>\n",
       "      <td>Total, immigrant admission category</td>\n",
       "      <td>0 year since landing</td>\n",
       "      <td>Wages, salaries and commissions</td>\n",
       "      <td>Mean with income</td>\n",
       "      <td>Dollars</td>\n",
       "      <td>81</td>\n",
       "      <td>units</td>\n",
       "      <td>v85524381</td>\n",
       "      <td>1.1.1.1.1.1.2</td>\n",
       "      <td>NaN</td>\n",
       "    </tr>\n",
       "    <tr>\n",
       "      <th>2</th>\n",
       "      <td>1980</td>\n",
       "      <td>Atlantic provinces</td>\n",
       "      <td>2016A00011</td>\n",
       "      <td>Both sexes</td>\n",
       "      <td>Total, landing age group</td>\n",
       "      <td>Total, immigrant admission category</td>\n",
       "      <td>0 year since landing</td>\n",
       "      <td>Wages, salaries and commissions</td>\n",
       "      <td>Median with income</td>\n",
       "      <td>Dollars</td>\n",
       "      <td>81</td>\n",
       "      <td>units</td>\n",
       "      <td>v85524382</td>\n",
       "      <td>1.1.1.1.1.1.3</td>\n",
       "      <td>NaN</td>\n",
       "    </tr>\n",
       "    <tr>\n",
       "      <th>3</th>\n",
       "      <td>1980</td>\n",
       "      <td>Atlantic provinces</td>\n",
       "      <td>2016A00011</td>\n",
       "      <td>Both sexes</td>\n",
       "      <td>Total, landing age group</td>\n",
       "      <td>Total, immigrant admission category</td>\n",
       "      <td>0 year since landing</td>\n",
       "      <td>Wages, salaries and commissions</td>\n",
       "      <td>Total with income</td>\n",
       "      <td>Persons</td>\n",
       "      <td>249</td>\n",
       "      <td>units</td>\n",
       "      <td>v85524383</td>\n",
       "      <td>1.1.1.1.1.1.4</td>\n",
       "      <td>NaN</td>\n",
       "    </tr>\n",
       "    <tr>\n",
       "      <th>4</th>\n",
       "      <td>1980</td>\n",
       "      <td>Atlantic provinces</td>\n",
       "      <td>2016A00011</td>\n",
       "      <td>Both sexes</td>\n",
       "      <td>Total, landing age group</td>\n",
       "      <td>Total, immigrant admission category</td>\n",
       "      <td>0 year since landing</td>\n",
       "      <td>Self-employment income</td>\n",
       "      <td>Total count</td>\n",
       "      <td>Persons</td>\n",
       "      <td>249</td>\n",
       "      <td>units</td>\n",
       "      <td>v85524384</td>\n",
       "      <td>1.1.1.1.1.2.1</td>\n",
       "      <td>NaN</td>\n",
       "    </tr>\n",
       "  </tbody>\n",
       "</table>\n",
       "</div>"
      ],
      "text/plain": [
       "   REF_DATE                 GEO       DGUID         Sex  \\\n",
       "0      1980  Atlantic provinces  2016A00011  Both sexes   \n",
       "1      1980  Atlantic provinces  2016A00011  Both sexes   \n",
       "2      1980  Atlantic provinces  2016A00011  Both sexes   \n",
       "3      1980  Atlantic provinces  2016A00011  Both sexes   \n",
       "4      1980  Atlantic provinces  2016A00011  Both sexes   \n",
       "\n",
       "          Landing_age_group         Immigrant admission category  \\\n",
       "0  Total, landing age group  Total, immigrant admission category   \n",
       "1  Total, landing age group  Total, immigrant admission category   \n",
       "2  Total, landing age group  Total, immigrant admission category   \n",
       "3  Total, landing age group  Total, immigrant admission category   \n",
       "4  Total, landing age group  Total, immigrant admission category   \n",
       "\n",
       "    Years since landing                      Income type          Statistics  \\\n",
       "0  0 year since landing  Wages, salaries and commissions         Total count   \n",
       "1  0 year since landing  Wages, salaries and commissions    Mean with income   \n",
       "2  0 year since landing  Wages, salaries and commissions  Median with income   \n",
       "3  0 year since landing  Wages, salaries and commissions   Total with income   \n",
       "4  0 year since landing           Self-employment income         Total count   \n",
       "\n",
       "       UOM  UOM_ID SCALAR_FACTOR     VECTOR     COORDINATE  VALUE  \n",
       "0  Persons     249        units   v85524380  1.1.1.1.1.1.1    NaN  \n",
       "1  Dollars      81        units   v85524381  1.1.1.1.1.1.2    NaN  \n",
       "2  Dollars      81        units   v85524382  1.1.1.1.1.1.3    NaN  \n",
       "3  Persons     249        units   v85524383  1.1.1.1.1.1.4    NaN  \n",
       "4  Persons     249        units   v85524384  1.1.1.1.1.2.1    NaN  "
      ]
     },
     "execution_count": 18,
     "metadata": {},
     "output_type": "execute_result"
    }
   ],
   "source": [
    "df1.head()"
   ]
  },
  {
   "cell_type": "code",
   "execution_count": 19,
   "id": "66d4e505",
   "metadata": {},
   "outputs": [],
   "source": [
    "df1=df1[df1.Landing_age_group !='Total, landing age group']"
   ]
  },
  {
   "cell_type": "code",
   "execution_count": 20,
   "id": "7a940fa4",
   "metadata": {},
   "outputs": [],
   "source": [
    "df1.reset_index(drop=True,inplace=True)"
   ]
  },
  {
   "cell_type": "code",
   "execution_count": 21,
   "id": "156328f4",
   "metadata": {},
   "outputs": [
    {
     "data": {
      "text/html": [
       "<div>\n",
       "<style scoped>\n",
       "    .dataframe tbody tr th:only-of-type {\n",
       "        vertical-align: middle;\n",
       "    }\n",
       "\n",
       "    .dataframe tbody tr th {\n",
       "        vertical-align: top;\n",
       "    }\n",
       "\n",
       "    .dataframe thead th {\n",
       "        text-align: right;\n",
       "    }\n",
       "</style>\n",
       "<table border=\"1\" class=\"dataframe\">\n",
       "  <thead>\n",
       "    <tr style=\"text-align: right;\">\n",
       "      <th></th>\n",
       "      <th>REF_DATE</th>\n",
       "      <th>GEO</th>\n",
       "      <th>DGUID</th>\n",
       "      <th>Sex</th>\n",
       "      <th>Landing_age_group</th>\n",
       "      <th>Immigrant admission category</th>\n",
       "      <th>Years since landing</th>\n",
       "      <th>Income type</th>\n",
       "      <th>Statistics</th>\n",
       "      <th>UOM</th>\n",
       "      <th>UOM_ID</th>\n",
       "      <th>SCALAR_FACTOR</th>\n",
       "      <th>VECTOR</th>\n",
       "      <th>COORDINATE</th>\n",
       "      <th>VALUE</th>\n",
       "    </tr>\n",
       "  </thead>\n",
       "  <tbody>\n",
       "    <tr>\n",
       "      <th>0</th>\n",
       "      <td>1980</td>\n",
       "      <td>Atlantic provinces</td>\n",
       "      <td>2016A00011</td>\n",
       "      <td>Both sexes</td>\n",
       "      <td>Less than 20 years</td>\n",
       "      <td>Total, immigrant admission category</td>\n",
       "      <td>0 year since landing</td>\n",
       "      <td>Wages, salaries and commissions</td>\n",
       "      <td>Total count</td>\n",
       "      <td>Persons</td>\n",
       "      <td>249</td>\n",
       "      <td>units</td>\n",
       "      <td>v85536668</td>\n",
       "      <td>1.1.2.1.1.1.1</td>\n",
       "      <td>NaN</td>\n",
       "    </tr>\n",
       "    <tr>\n",
       "      <th>1</th>\n",
       "      <td>1980</td>\n",
       "      <td>Atlantic provinces</td>\n",
       "      <td>2016A00011</td>\n",
       "      <td>Both sexes</td>\n",
       "      <td>Less than 20 years</td>\n",
       "      <td>Total, immigrant admission category</td>\n",
       "      <td>0 year since landing</td>\n",
       "      <td>Wages, salaries and commissions</td>\n",
       "      <td>Mean with income</td>\n",
       "      <td>Dollars</td>\n",
       "      <td>81</td>\n",
       "      <td>units</td>\n",
       "      <td>v85536669</td>\n",
       "      <td>1.1.2.1.1.1.2</td>\n",
       "      <td>NaN</td>\n",
       "    </tr>\n",
       "    <tr>\n",
       "      <th>2</th>\n",
       "      <td>1980</td>\n",
       "      <td>Atlantic provinces</td>\n",
       "      <td>2016A00011</td>\n",
       "      <td>Both sexes</td>\n",
       "      <td>Less than 20 years</td>\n",
       "      <td>Total, immigrant admission category</td>\n",
       "      <td>0 year since landing</td>\n",
       "      <td>Wages, salaries and commissions</td>\n",
       "      <td>Median with income</td>\n",
       "      <td>Dollars</td>\n",
       "      <td>81</td>\n",
       "      <td>units</td>\n",
       "      <td>v85536670</td>\n",
       "      <td>1.1.2.1.1.1.3</td>\n",
       "      <td>NaN</td>\n",
       "    </tr>\n",
       "    <tr>\n",
       "      <th>3</th>\n",
       "      <td>1980</td>\n",
       "      <td>Atlantic provinces</td>\n",
       "      <td>2016A00011</td>\n",
       "      <td>Both sexes</td>\n",
       "      <td>Less than 20 years</td>\n",
       "      <td>Total, immigrant admission category</td>\n",
       "      <td>0 year since landing</td>\n",
       "      <td>Wages, salaries and commissions</td>\n",
       "      <td>Total with income</td>\n",
       "      <td>Persons</td>\n",
       "      <td>249</td>\n",
       "      <td>units</td>\n",
       "      <td>v85536671</td>\n",
       "      <td>1.1.2.1.1.1.4</td>\n",
       "      <td>NaN</td>\n",
       "    </tr>\n",
       "    <tr>\n",
       "      <th>4</th>\n",
       "      <td>1980</td>\n",
       "      <td>Atlantic provinces</td>\n",
       "      <td>2016A00011</td>\n",
       "      <td>Both sexes</td>\n",
       "      <td>Less than 20 years</td>\n",
       "      <td>Total, immigrant admission category</td>\n",
       "      <td>0 year since landing</td>\n",
       "      <td>Self-employment income</td>\n",
       "      <td>Total count</td>\n",
       "      <td>Persons</td>\n",
       "      <td>249</td>\n",
       "      <td>units</td>\n",
       "      <td>v85536672</td>\n",
       "      <td>1.1.2.1.1.2.1</td>\n",
       "      <td>NaN</td>\n",
       "    </tr>\n",
       "  </tbody>\n",
       "</table>\n",
       "</div>"
      ],
      "text/plain": [
       "   REF_DATE                 GEO       DGUID         Sex   Landing_age_group  \\\n",
       "0      1980  Atlantic provinces  2016A00011  Both sexes  Less than 20 years   \n",
       "1      1980  Atlantic provinces  2016A00011  Both sexes  Less than 20 years   \n",
       "2      1980  Atlantic provinces  2016A00011  Both sexes  Less than 20 years   \n",
       "3      1980  Atlantic provinces  2016A00011  Both sexes  Less than 20 years   \n",
       "4      1980  Atlantic provinces  2016A00011  Both sexes  Less than 20 years   \n",
       "\n",
       "          Immigrant admission category   Years since landing  \\\n",
       "0  Total, immigrant admission category  0 year since landing   \n",
       "1  Total, immigrant admission category  0 year since landing   \n",
       "2  Total, immigrant admission category  0 year since landing   \n",
       "3  Total, immigrant admission category  0 year since landing   \n",
       "4  Total, immigrant admission category  0 year since landing   \n",
       "\n",
       "                       Income type          Statistics      UOM  UOM_ID  \\\n",
       "0  Wages, salaries and commissions         Total count  Persons     249   \n",
       "1  Wages, salaries and commissions    Mean with income  Dollars      81   \n",
       "2  Wages, salaries and commissions  Median with income  Dollars      81   \n",
       "3  Wages, salaries and commissions   Total with income  Persons     249   \n",
       "4           Self-employment income         Total count  Persons     249   \n",
       "\n",
       "  SCALAR_FACTOR     VECTOR     COORDINATE  VALUE  \n",
       "0        units   v85536668  1.1.2.1.1.1.1    NaN  \n",
       "1        units   v85536669  1.1.2.1.1.1.2    NaN  \n",
       "2        units   v85536670  1.1.2.1.1.1.3    NaN  \n",
       "3        units   v85536671  1.1.2.1.1.1.4    NaN  \n",
       "4        units   v85536672  1.1.2.1.1.2.1    NaN  "
      ]
     },
     "execution_count": 21,
     "metadata": {},
     "output_type": "execute_result"
    }
   ],
   "source": [
    "df1.head()"
   ]
  },
  {
   "cell_type": "code",
   "execution_count": 22,
   "id": "a8f54d3d",
   "metadata": {},
   "outputs": [
    {
     "data": {
      "text/plain": [
       "array(['Less than 20 years', '20 to 24 years', '25 to 34 years',\n",
       "       '35 to 44 years', '45 to 54 years', '55 to 64 years',\n",
       "       '65 years and over'], dtype=object)"
      ]
     },
     "execution_count": 22,
     "metadata": {},
     "output_type": "execute_result"
    }
   ],
   "source": [
    "df1['Landing_age_group'].unique()"
   ]
  },
  {
   "cell_type": "code",
   "execution_count": 23,
   "id": "eb81fb0f",
   "metadata": {},
   "outputs": [],
   "source": [
    "df1['Landing_age_group']=df1['Landing_age_group'].replace(['Less than 20 years', '20 to 24 years', '25 to 34 years',\n",
    "       '35 to 44 years', '45 to 54 years', '55 to 64 years',\n",
    "       '65 years and over'],[19,24,34,44,54,64,120])\n",
    "    \n",
    "    "
   ]
  },
  {
   "cell_type": "code",
   "execution_count": 24,
   "id": "cd4aaafc",
   "metadata": {},
   "outputs": [
    {
     "data": {
      "text/plain": [
       "array([ 19,  24,  34,  44,  54,  64, 120], dtype=int64)"
      ]
     },
     "execution_count": 24,
     "metadata": {},
     "output_type": "execute_result"
    }
   ],
   "source": [
    "df1['Landing_age_group'].unique()"
   ]
  },
  {
   "cell_type": "code",
   "execution_count": 29,
   "id": "5596a3d4",
   "metadata": {},
   "outputs": [
    {
     "data": {
      "text/plain": [
       "<matplotlib.collections.PathCollection at 0x1472f41b370>"
      ]
     },
     "execution_count": 29,
     "metadata": {},
     "output_type": "execute_result"
    },
    {
     "data": {
      "image/png": "[encoded data removed]",
      "text/plain": [
       "<Figure size 432x288 with 1 Axes>"
      ]
     },
     "metadata": {
      "needs_background": "light"
     },
     "output_type": "display_data"
    }
   ],
   "source": [
    "plt.scatter(x='UOM_ID',y='REF_DATE')"
   ]
  },
  {
   "cell_type": "code",
   "execution_count": 30,
   "id": "9fac390e",
   "metadata": {},
   "outputs": [
    {
     "name": "stdout",
     "output_type": "stream",
     "text": [
      "<class 'pandas.core.frame.DataFrame'>\n",
      "RangeIndex: 13934592 entries, 0 to 13934591\n",
      "Data columns (total 15 columns):\n",
      " #   Column                        Dtype  \n",
      "---  ------                        -----  \n",
      " 0   REF_DATE                      int64  \n",
      " 1   GEO                           object \n",
      " 2   DGUID                         object \n",
      " 3   Sex                           object \n",
      " 4   Landing_age_group             int64  \n",
      " 5   Immigrant admission category  object \n",
      " 6   Years since landing           object \n",
      " 7   Income type                   object \n",
      " 8   Statistics                    object \n",
      " 9   UOM                           object \n",
      " 10  UOM_ID                        int64  \n",
      " 11  SCALAR_FACTOR                 object \n",
      " 12  VECTOR                        object \n",
      " 13  COORDINATE                    object \n",
      " 14  VALUE                         float64\n",
      "dtypes: float64(1), int64(3), object(11)\n",
      "memory usage: 1.6+ GB\n"
     ]
    }
   ],
   "source": [
    "df1.info()"
   ]
  },
  {
   "cell_type": "code",
   "execution_count": 27,
   "id": "e8183bb9",
   "metadata": {},
   "outputs": [
    {
     "data": {
      "text/plain": [
       "-7.99412964795425e-19"
      ]
     },
     "execution_count": 27,
     "metadata": {},
     "output_type": "execute_result"
    }
   ],
   "source": [
    "df1['Landing_age_group'].corr(df1['REF_DATE'])"
   ]
  },
  {
   "cell_type": "code",
   "execution_count": null,
   "id": "a1ca8d55",
   "metadata": {},
   "outputs": [],
   "source": []
  }
 ],
 "metadata": {
  "kernelspec": {
   "display_name": "Python 3",
   "language": "python",
   "name": "python3"
  },
  "language_info": {
   "codemirror_mode": {
    "name": "ipython",
    "version": 3
   },
   "file_extension": ".py",
   "mimetype": "text/x-python",
   "name": "python",
   "nbconvert_exporter": "python",
   "pygments_lexer": "ipython3",
   "version": "3.8.8"
  }
 },
 "nbformat": 4,
 "nbformat_minor": 5
}
