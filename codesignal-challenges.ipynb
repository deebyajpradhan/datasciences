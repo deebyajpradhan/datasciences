{
 "cells": [
  {
   "cell_type": "code",
   "execution_count": 77,
   "id": "ff19fbcb",
   "metadata": {},
   "outputs": [
    {
     "name": "stdout",
     "output_type": "stream",
     "text": [
      "-132\n",
      "543\n"
     ]
    }
   ],
   "source": [
    "# Given an integer, return the integer with reversed digits.\n",
    "# Note: The integer could be either positive or negative.\n",
    "\n",
    "def solution(x):\n",
    "    string=str(x)\n",
    "    \n",
    "    if string[0]=='-':\n",
    "        return int('-'+string[:0:-1])\n",
    "    else:\n",
    "        return int(string[::-1])\n",
    "\n",
    "print(solution(-231))\n",
    "print(solution(345))"
   ]
  },
  {
   "cell_type": "code",
   "execution_count": 78,
   "id": "8ba0b873",
   "metadata": {},
   "outputs": [
    {
     "data": {
      "text/plain": [
       "[3]"
      ]
     },
     "execution_count": 78,
     "metadata": {},
     "output_type": "execute_result"
    }
   ],
   "source": [
    "lst = [1, 2, 3, 4, 5, 6, 7, 8, 9]\n",
    "lst[2:1:-1]"
   ]
  },
  {
   "cell_type": "markdown",
   "id": "bad01abd",
   "metadata": {},
   "source": [
    "Q1. Given an integer n and an array a of length n, your task is to apply the following mutation to a:\n",
    "•\tArray a mutates into a new array b of length n.\n",
    "•\tFor each i from 0 to n - 1, b[i] = a[i - 1] + a[i] + a[i + 1].\n",
    "o\tIf some element in the sum a[i - 1] + a[i] + a[i + 1] does not exist, it should be set to 0. For example, b[0] should be equal to 0 + a[0] + a[1].\n"
   ]
  },
  {
   "cell_type": "code",
   "execution_count": 79,
   "id": "58638fdb",
   "metadata": {},
   "outputs": [
    {
     "name": "stdout",
     "output_type": "stream",
     "text": [
      "['efil', 'ym', 'si', 'sihT']\n"
     ]
    }
   ],
   "source": [
    "sentence='This,is,my,life'\n",
    "def test():\n",
    "    x=sentence[::-1]\n",
    "    print(x.split(','))\n",
    "test()"
   ]
  },
  {
   "cell_type": "code",
   "execution_count": 97,
   "id": "e322849b",
   "metadata": {},
   "outputs": [
    {
     "name": "stdout",
     "output_type": "stream",
     "text": [
      "4.2\n",
      "4.08\n"
     ]
    }
   ],
   "source": [
    "# For a given sentence, return the average word length. \n",
    "# Note: Remember to remove punctuation first.\n",
    "\n",
    "sentence1 = \"Hi all, my name is Tom...I am originally from Australia.\"\n",
    "sentence2 = \"I need to work very hard to learn more about algorithms in Python!\"\n",
    "\n",
    "def solution(sentence):\n",
    "    for p in \"!?',;.\":\n",
    "        sentence=sentence.replace(p,'')\n",
    "    words=sentence.split()\n",
    "    return round(sum(len(word) for word in words)/len(words),2)\n",
    "print(solution(sentence1))\n",
    "print(solution(sentence2))\n",
    "        \n",
    "        \n",
    "\n",
    "\n",
    "\n",
    "\n",
    "\n",
    "\n",
    "\n",
    "\n",
    "\n"
   ]
  },
  {
   "cell_type": "code",
   "execution_count": 104,
   "id": "f9ff2785",
   "metadata": {},
   "outputs": [
    {
     "name": "stdout",
     "output_type": "stream",
     "text": [
      "2\n"
     ]
    }
   ],
   "source": [
    "def solution(num1,num2):\n",
    "    eval(num1)+eval(num2)\n",
    "    print(str(eval(num1)+eval(num2)))\n",
    "solution('1','1')"
   ]
  },
  {
   "cell_type": "markdown",
   "id": "42df530b",
   "metadata": {},
   "source": [
    "Given a string s consisting of small English letters, find and return the first instance of a non-repeating character in it. If there is no such character, return '_'.\n",
    "\n",
    "For s = \"abacabad\", the output should be\n",
    "firstNotRepeatingCharacter(s) = 'c'.\n",
    "\n",
    "There are 2 non-repeating characters in the string: 'c' and 'd'. Return c since it appears in the string first.\n",
    "\n",
    "For s = \"abacabaabacaba\", the output should be\n",
    "firstNotRepeatingCharacter(s) = '_'.\n",
    "\n",
    "There are no characters in this string that do not repeat.\n"
   ]
  },
  {
   "cell_type": "code",
   "execution_count": 109,
   "id": "0d154d96",
   "metadata": {},
   "outputs": [
    {
     "data": {
      "text/plain": [
       "'c'"
      ]
     },
     "execution_count": 109,
     "metadata": {},
     "output_type": "execute_result"
    }
   ],
   "source": [
    "s='aassddhhnncksklkfkjjasbbdflnajfd'\n",
    "def non_repeat(s):\n",
    "    for c in s:\n",
    "        if s.index(c)==s.rindex(c):\n",
    "            return c\n",
    "    return '_'\n",
    "non_repeat(s) "
   ]
  },
  {
   "cell_type": "code",
   "execution_count": null,
   "id": "e5801e47",
   "metadata": {},
   "outputs": [],
   "source": []
  }
 ],
 "metadata": {
  "kernelspec": {
   "display_name": "Python 3",
   "language": "python",
   "name": "python3"
  },
  "language_info": {
   "codemirror_mode": {
    "name": "ipython",
    "version": 3
   },
   "file_extension": ".py",
   "mimetype": "text/x-python",
   "name": "python",
   "nbconvert_exporter": "python",
   "pygments_lexer": "ipython3",
   "version": "3.8.8"
  }
 },
 "nbformat": 4,
 "nbformat_minor": 5
}
